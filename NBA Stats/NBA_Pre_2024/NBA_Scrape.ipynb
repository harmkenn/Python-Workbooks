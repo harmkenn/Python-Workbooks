{
 "cells": [
  {
   "cell_type": "markdown",
   "metadata": {},
   "source": [
    "Step 01 Grab the Salaries from https://hoopshype.com/salaries/players"
   ]
  },
  {
   "cell_type": "code",
   "execution_count": 1,
   "metadata": {},
   "outputs": [],
   "source": [
    "import pandas as pd\n",
    "import numpy as np\n",
    "import time\n",
    "seasons = np.arange(1991,2024,1)\n",
    "for season in seasons:\n",
    "    df = pd.read_html(f'https://hoopshype.com/salaries/players/{season-1}-{season}/')[0]\n",
    "    df['Year']=season\n",
    "    df = df.iloc[:,1:5]\n",
    "    df.columns = ['Player','Actual','Adjusted','Year']\n",
    "    time.sleep(10)\n",
    "    if season == 1991: \n",
    "        NBAS = df\n",
    "    else: \n",
    "        NBAS = pd.concat([NBAS,df])"
   ]
  },
  {
   "cell_type": "code",
   "execution_count": null,
   "metadata": {},
   "outputs": [],
   "source": [
    "NBAS.to_csv('NBA_Salaries_91to23.csv')"
   ]
  },
  {
   "cell_type": "markdown",
   "metadata": {},
   "source": [
    "Step 02 Grab the Stats from https://www.basketball-reference.com/leagues"
   ]
  },
  {
   "cell_type": "code",
   "execution_count": 1,
   "metadata": {},
   "outputs": [],
   "source": [
    "import pandas as pd\n",
    "import numpy as np\n",
    "import time\n",
    "seasons = np.arange(1991,2024,1)\n",
    "for season in seasons:\n",
    "    df = pd.read_html(f'https://www.basketball-reference.com/leagues/NBA_{season}_advanced.html')[0]\n",
    "    df['Year']=season\n",
    "    time.sleep(10)\n",
    "    if season == 1991: \n",
    "        NBABR = df\n",
    "    else: \n",
    "        NBABR = pd.concat([NBABR,df])"
   ]
  },
  {
   "cell_type": "markdown",
   "metadata": {},
   "source": [
    "Clean up the NBABR dataset"
   ]
  },
  {
   "cell_type": "code",
   "execution_count": 2,
   "metadata": {},
   "outputs": [],
   "source": [
    "NBABR01 = NBABR[NBABR['Rk']!='Rk']\n",
    "NBABR02 = NBABR01.drop_duplicates(subset=['Player','Year'],keep='first')\n",
    "NBABR02.to_csv('NBABR_Stats_91to23.csv')"
   ]
  },
  {
   "cell_type": "markdown",
   "metadata": {},
   "source": [
    "Combine Stats with Salaries"
   ]
  },
  {
   "cell_type": "code",
   "execution_count": 13,
   "metadata": {},
   "outputs": [],
   "source": [
    "NBAstats = pd.read_csv('NBABR_Stats_91to23.csv')\n",
    "NBASalary = pd.read_csv('NBA_Salaries_91to23.csv')"
   ]
  },
  {
   "cell_type": "markdown",
   "metadata": {},
   "source": [
    "Repair names in the datasets (remove all * and . in names)(Remove all othe symbols in money columns)"
   ]
  },
  {
   "cell_type": "code",
   "execution_count": 14,
   "metadata": {},
   "outputs": [],
   "source": [
    "NBAstats['Player']=NBAstats['Player'].str.replace('*','')\n",
    "NBAstats['Player']=NBAstats['Player'].str.replace('.','')\n",
    "NBASalary['Player']=NBASalary['Player'].str.replace('.','')\n",
    "NBASalary['Actual'] = NBASalary['Actual'].str.replace(r'\\D+', '', regex=True)\n",
    "NBASalary['Adjusted'] = NBASalary['Adjusted'].str.replace(r'\\D+', '', regex=True)\n"
   ]
  },
  {
   "cell_type": "markdown",
   "metadata": {},
   "source": [
    "Convert all weird names"
   ]
  },
  {
   "cell_type": "code",
   "execution_count": 16,
   "metadata": {},
   "outputs": [],
   "source": [
    "repair = pd.read_csv('NBA2023_repair.csv')\n",
    "LF = list(repair['tofix'])\n",
    "LR = list(repair['replacewith'])\n",
    "NBAstats['Player'] = NBAstats['Player'].replace(LF,LR)\n",
    "NBASalary['Player'] = NBASalary['Player'].replace(LF,LR)"
   ]
  },
  {
   "cell_type": "markdown",
   "metadata": {},
   "source": [
    "Sort both datasets by year and then name"
   ]
  },
  {
   "cell_type": "code",
   "execution_count": 17,
   "metadata": {},
   "outputs": [],
   "source": [
    "stNY = NBAstats[['Player','Year']].sort_values(by=['Year','Player'])\n",
    "saNY = NBASalary[['Player','Year']].sort_values(by=['Year','Player'])"
   ]
  },
  {
   "cell_type": "markdown",
   "metadata": {},
   "source": [
    "Merge the datasets together"
   ]
  },
  {
   "cell_type": "code",
   "execution_count": null,
   "metadata": {},
   "outputs": [],
   "source": [
    "dfd = pd.merge(NBAstats,NBASalary,how='left',on=['Player','Year'])\n",
    "dfa = dfd.dropna(subset=['Actual'])\n",
    "dfa.to_csv('NBA_Stats_Salary.csv')"
   ]
  }
 ],
 "metadata": {
  "kernelspec": {
   "display_name": "Python 3",
   "language": "python",
   "name": "python3"
  },
  "language_info": {
   "codemirror_mode": {
    "name": "ipython",
    "version": 3
   },
   "file_extension": ".py",
   "mimetype": "text/x-python",
   "name": "python",
   "nbconvert_exporter": "python",
   "pygments_lexer": "ipython3",
   "version": "3.11.4"
  },
  "orig_nbformat": 4
 },
 "nbformat": 4,
 "nbformat_minor": 2
}
