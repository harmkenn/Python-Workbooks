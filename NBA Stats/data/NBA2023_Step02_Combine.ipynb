{
 "cells": [
  {
   "cell_type": "code",
   "execution_count": 63,
   "metadata": {},
   "outputs": [],
   "source": [
    "import pandas as pd\n",
    "NBAstats = pd.read_csv('NBA_BR_91to23.csv')\n",
    "NBASalary = pd.read_csv('NBA_S_91to23.csv')"
   ]
  },
  {
   "cell_type": "code",
   "execution_count": 64,
   "metadata": {},
   "outputs": [],
   "source": [
    "NBAstats['Player']=NBAstats['Player'].str.replace('*','',regex=True)\n",
    "NBAstats['Player']=NBAstats['Player'].str.replace('.','',regex=True)\n",
    "NBASalary['Player']=NBASalary['Player'].str.replace('.','',regex=True)\n",
    "NBASalary['Actual'] = NBASalary['Actual'].str.replace(r'\\D+', '', regex=True).astype('int')\n",
    "NBASalary['Adjusted'] = NBASalary['Adjusted'].str.replace(r'\\D+', '', regex=True).astype('int')\n",
    "repair = pd.read_csv('NBA2023_Step02_repair.csv')\n",
    "LF = list(repair['tofix'])\n",
    "LR = list(repair['replacewith'])\n",
    "NBAstats['Player'] = NBAstats['Player'].replace(LF,LR)\n",
    "NBASalary['Player'] = NBASalary['Player'].replace(LF,LR)"
   ]
  },
  {
   "cell_type": "code",
   "execution_count": 48,
   "metadata": {},
   "outputs": [],
   "source": [
    "stNY = NBAstats[['Player','Year']].sort_values(by=['Year','Player'])\n",
    "saNY = NBASalary[['Player','Year']].sort_values(by=['Year','Player'])"
   ]
  },
  {
   "cell_type": "code",
   "execution_count": 66,
   "metadata": {},
   "outputs": [],
   "source": [
    "\n",
    "dfd = pd.merge(NBAstats,NBASalary,how='left',on=['Player','Year'])\n",
    "dfa = dfd.dropna(subset=['Actual'])\n",
    "dfa.to_csv('NBA_Stats_Salary.csv')\n"
   ]
  }
 ],
 "metadata": {
  "kernelspec": {
   "display_name": "Python 3",
   "language": "python",
   "name": "python3"
  },
  "language_info": {
   "codemirror_mode": {
    "name": "ipython",
    "version": 3
   },
   "file_extension": ".py",
   "mimetype": "text/x-python",
   "name": "python",
   "nbconvert_exporter": "python",
   "pygments_lexer": "ipython3",
   "version": "3.10.7"
  },
  "orig_nbformat": 4,
  "vscode": {
   "interpreter": {
    "hash": "f627b94a91bc915482d65575b2ea77ee7c3710ea9aacf075a668e3021bd93680"
   }
  }
 },
 "nbformat": 4,
 "nbformat_minor": 2
}
