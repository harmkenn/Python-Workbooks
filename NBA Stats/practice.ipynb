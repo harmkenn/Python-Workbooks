{
 "cells": [
  {
   "cell_type": "code",
   "execution_count": 4,
   "metadata": {},
   "outputs": [
    {
     "ename": "ModuleNotFoundError",
     "evalue": "No module named 'pandas'",
     "output_type": "error",
     "traceback": [
      "\u001b[0;31m---------------------------------------------------------------------------\u001b[0m",
      "\u001b[0;31mModuleNotFoundError\u001b[0m                       Traceback (most recent call last)",
      "Cell \u001b[0;32mIn [4], line 3\u001b[0m\n\u001b[1;32m      1\u001b[0m \u001b[38;5;28;01mfrom\u001b[39;00m \u001b[38;5;21;01murllib\u001b[39;00m\u001b[38;5;21;01m.\u001b[39;00m\u001b[38;5;21;01mrequest\u001b[39;00m \u001b[38;5;28;01mimport\u001b[39;00m urlopen\n\u001b[1;32m      2\u001b[0m \u001b[38;5;28;01mfrom\u001b[39;00m \u001b[38;5;21;01mbs4\u001b[39;00m \u001b[38;5;28;01mimport\u001b[39;00m BeautifulSoup\n\u001b[0;32m----> 3\u001b[0m \u001b[38;5;28;01mimport\u001b[39;00m \u001b[38;5;21;01mpandas\u001b[39;00m \u001b[38;5;28;01mas\u001b[39;00m \u001b[38;5;21;01mpd\u001b[39;00m\n\u001b[1;32m      4\u001b[0m \u001b[38;5;28;01mimport\u001b[39;00m \u001b[38;5;21;01mnumpy\u001b[39;00m \u001b[38;5;28;01mas\u001b[39;00m \u001b[38;5;21;01mnp\u001b[39;00m\n",
      "\u001b[0;31mModuleNotFoundError\u001b[0m: No module named 'pandas'"
     ]
    }
   ],
   "source": [
    "from urllib.request import urlopen\n",
    "from bs4 import BeautifulSoup\n",
    "import pandas as pd\n",
    "import numpy as np          "
   ]
  },
  {
   "cell_type": "code",
   "execution_count": 1,
   "metadata": {},
   "outputs": [
    {
     "ename": "NameError",
     "evalue": "name 'np' is not defined",
     "output_type": "error",
     "traceback": [
      "\u001b[0;31m---------------------------------------------------------------------------\u001b[0m",
      "\u001b[0;31mNameError\u001b[0m                                 Traceback (most recent call last)",
      "Cell \u001b[0;32mIn [1], line 4\u001b[0m\n\u001b[1;32m      2\u001b[0m collect \u001b[38;5;241m=\u001b[39m []\n\u001b[1;32m      3\u001b[0m collecta \u001b[38;5;241m=\u001b[39m []\n\u001b[0;32m----> 4\u001b[0m year \u001b[38;5;241m=\u001b[39m \u001b[43mnp\u001b[49m\u001b[38;5;241m.\u001b[39marange(\u001b[38;5;241m1980\u001b[39m,\u001b[38;5;241m2022\u001b[39m,\u001b[38;5;241m1\u001b[39m)\n\u001b[1;32m      5\u001b[0m \u001b[38;5;28;01mfor\u001b[39;00m y \u001b[38;5;129;01min\u001b[39;00m year:\n\u001b[1;32m      6\u001b[0m     \u001b[38;5;28mprint\u001b[39m(y)\n",
      "\u001b[0;31mNameError\u001b[0m: name 'np' is not defined"
     ]
    }
   ],
   "source": [
    "# i will be using data from the start of the 3 point shot in the NBA in 1980 \n",
    "collect = []\n",
    "collecta = []\n",
    "year = np.arange(1980,2022,1)\n",
    "for y in year:\n",
    "    print(y)\n"
   ]
  },
  {
   "cell_type": "code",
   "execution_count": null,
   "metadata": {},
   "outputs": [],
   "source": [
    "for y in year:\n",
    "    url = f\"https://www.basketball-reference.com/leagues/NBA_{y}_per_game.html\"\n",
    "    html = urlopen(url)\n",
    "    soup = BeautifulSoup(html, \"html.parser\")\n",
    "\n",
    "    # \"th\" means table headers and \"tr\" means table rows\n",
    "    headers = [th.getText() for th in soup.findAll(\"tr\", limit=2)[0].findAll(\"th\")]\n",
    "    headers = headers[1:]\n",
    "    rows = soup.findAll(\"tr\")[1:]\n",
    "    stats = {}\n",
    "\n",
    "    for i in range(len(rows)):\n",
    "        tds = rows[i].findAll(\"td\")\n",
    "        if len(tds) > 0:\n",
    "            h = 0\n",
    "            name = tds[0].getText()\n",
    "        \n",
    "            stats[name] = {}\n",
    "            for td in tds:\n",
    "                stats[name][headers[h]] = td.getText()\n",
    "                h += 1\n",
    "    look = pd.DataFrame(stats).T\n",
    "    look['Year'] = y\n",
    "    if y == 1974:\n",
    "        collect = look\n",
    "    elif y > 1974:\n",
    "        collect = pd.concat([collect,look])\n",
    "for y in year:\n",
    "    url = f\"https://www.basketball-reference.com/leagues/NBA_{y}_advanced.html\"\n",
    "    html = urlopen(url)\n",
    "    soup = BeautifulSoup(html, \"html.parser\")\n",
    "\n",
    "    # \"th\" means table headers and \"tr\" means table rows\n",
    "    headers = [th.getText() for th in soup.findAll(\"tr\", limit=2)[0].findAll(\"th\")]\n",
    "    headers = headers[1:]\n",
    "    rows = soup.findAll(\"tr\")[1:]\n",
    "    stats = {}\n",
    "\n",
    "    for i in range(len(rows)):\n",
    "        tds = rows[i].findAll(\"td\")\n",
    "        if len(tds) > 0:\n",
    "            h = 0\n",
    "            name = tds[0].getText()\n",
    "        \n",
    "            stats[name] = {}\n",
    "            for td in tds:\n",
    "                stats[name][headers[h]] = td.getText()\n",
    "                h += 1\n",
    "    look = pd.DataFrame(stats).T\n",
    "    look['Year'] = y\n",
    "    if y == 1974:\n",
    "        collecta = look\n",
    "    elif y > 1974:\n",
    "        collecta = pd.concat([collect,look])"
   ]
  },
  {
   "cell_type": "code",
   "execution_count": 7,
   "metadata": {},
   "outputs": [],
   "source": [
    "lm =collect.merge(collecta,on=['Player','Tm','Year'],how='left')"
   ]
  },
  {
   "cell_type": "code",
   "execution_count": 10,
   "metadata": {},
   "outputs": [],
   "source": [
    "collect.to_csv('data/collect.csv')    \n",
    "collecta.to_csv('data/collecta.csv') "
   ]
  }
 ],
 "metadata": {
  "kernelspec": {
   "display_name": "Python 3.8.13 64-bit ('3.8.13')",
   "language": "python",
   "name": "python3"
  },
  "language_info": {
   "codemirror_mode": {
    "name": "ipython",
    "version": 3
   },
   "file_extension": ".py",
   "mimetype": "text/x-python",
   "name": "python",
   "nbconvert_exporter": "python",
   "pygments_lexer": "ipython3",
   "version": "3.8.13"
  },
  "orig_nbformat": 4,
  "vscode": {
   "interpreter": {
    "hash": "110cc1dee26208153f2972f08a2ad52b6a56238dc66d48e87fb757ef2996db56"
   }
  }
 },
 "nbformat": 4,
 "nbformat_minor": 2
}
