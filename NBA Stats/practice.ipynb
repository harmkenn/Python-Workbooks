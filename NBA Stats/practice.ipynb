{
 "cells": [
  {
   "cell_type": "code",
   "execution_count": 3,
   "metadata": {},
   "outputs": [],
   "source": [
    "from urllib.request import urlopen\n",
    "from bs4 import BeautifulSoup\n",
    "import pandas as pd\n",
    "import numpy as np          "
   ]
  },
  {
   "cell_type": "code",
   "execution_count": 4,
   "metadata": {},
   "outputs": [],
   "source": [
    "# i will be using data from the 2020 - 2021 NBA season\n",
    "collect = []\n",
    "collecta = []\n",
    "year = np.arange(1974,2023,1)\n",
    "for y in year:\n",
    "    url = f\"https://www.basketball-reference.com/leagues/NBA_{y}_per_game.html\"\n",
    "    html = urlopen(url)\n",
    "    soup = BeautifulSoup(html, \"html.parser\")\n",
    "\n",
    "    # \"th\" means table headers and \"tr\" means table rows\n",
    "    headers = [th.getText() for th in soup.findAll(\"tr\", limit=2)[0].findAll(\"th\")]\n",
    "    headers = headers[1:]\n",
    "    rows = soup.findAll(\"tr\")[1:]\n",
    "    stats = {}\n",
    "\n",
    "    for i in range(len(rows)):\n",
    "        tds = rows[i].findAll(\"td\")\n",
    "        if len(tds) > 0:\n",
    "            h = 0\n",
    "            name = tds[0].getText()\n",
    "        \n",
    "            stats[name] = {}\n",
    "            for td in tds:\n",
    "                stats[name][headers[h]] = td.getText()\n",
    "                h += 1\n",
    "    look = pd.DataFrame(stats).T\n",
    "    look['Year'] = y\n",
    "    if y == 1974:\n",
    "        collect = look\n",
    "    elif y > 1974:\n",
    "        collect = pd.concat([collect,look])\n",
    "for y in year:\n",
    "    url = f\"https://www.basketball-reference.com/leagues/NBA_{y}_advanced.html\"\n",
    "    html = urlopen(url)\n",
    "    soup = BeautifulSoup(html, \"html.parser\")\n",
    "\n",
    "    # \"th\" means table headers and \"tr\" means table rows\n",
    "    headers = [th.getText() for th in soup.findAll(\"tr\", limit=2)[0].findAll(\"th\")]\n",
    "    headers = headers[1:]\n",
    "    rows = soup.findAll(\"tr\")[1:]\n",
    "    stats = {}\n",
    "\n",
    "    for i in range(len(rows)):\n",
    "        tds = rows[i].findAll(\"td\")\n",
    "        if len(tds) > 0:\n",
    "            h = 0\n",
    "            name = tds[0].getText()\n",
    "        \n",
    "            stats[name] = {}\n",
    "            for td in tds:\n",
    "                stats[name][headers[h]] = td.getText()\n",
    "                h += 1\n",
    "    look = pd.DataFrame(stats).T\n",
    "    look['Year'] = y\n",
    "    if y == 1974:\n",
    "        collecta = look\n",
    "    elif y > 1974:\n",
    "        collecta = pd.concat([collect,look])\n"
   ]
  },
  {
   "cell_type": "code",
   "execution_count": 7,
   "metadata": {},
   "outputs": [],
   "source": [
    "lm =collect.merge(collecta,on=['Player','Tm','Year'],how='left')"
   ]
  },
  {
   "cell_type": "code",
   "execution_count": 10,
   "metadata": {},
   "outputs": [],
   "source": [
    "collect.to_csv('data/collect.csv')    \n",
    "collecta.to_csv('data/collecta.csv') "
   ]
  }
 ],
 "metadata": {
  "kernelspec": {
   "display_name": "Python 3.8.13 64-bit ('3.8.13')",
   "language": "python",
   "name": "python3"
  },
  "language_info": {
   "codemirror_mode": {
    "name": "ipython",
    "version": 3
   },
   "file_extension": ".py",
   "mimetype": "text/x-python",
   "name": "python",
   "nbconvert_exporter": "python",
   "pygments_lexer": "ipython3",
   "version": "3.8.13"
  },
  "orig_nbformat": 4,
  "vscode": {
   "interpreter": {
    "hash": "110cc1dee26208153f2972f08a2ad52b6a56238dc66d48e87fb757ef2996db56"
   }
  }
 },
 "nbformat": 4,
 "nbformat_minor": 2
}
