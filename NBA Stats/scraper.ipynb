{
 "cells": [
  {
   "cell_type": "code",
   "execution_count": 2,
   "metadata": {},
   "outputs": [
    {
     "ename": "ModuleNotFoundError",
     "evalue": "No module named 'requests'",
     "output_type": "error",
     "traceback": [
      "\u001b[0;31m---------------------------------------------------------------------------\u001b[0m",
      "\u001b[0;31mModuleNotFoundError\u001b[0m                       Traceback (most recent call last)",
      "\u001b[1;32m/workspace/Python-Workbooks/NBA Stats/scraper.ipynb Cell 1\u001b[0m in \u001b[0;36m<cell line: 5>\u001b[0;34m()\u001b[0m\n\u001b[1;32m      <a href='vscode-notebook-cell://harmkenn-pythonworkbook-t57objyodso.ws-eu63.gitpod.io/workspace/Python-Workbooks/NBA%20Stats/scraper.ipynb#W0sdnNjb2RlLXJlbW90ZQ%3D%3D?line=0'>1</a>\u001b[0m \u001b[39m# Scrape Basketball Reference\u001b[39;00m\n\u001b[1;32m      <a href='vscode-notebook-cell://harmkenn-pythonworkbook-t57objyodso.ws-eu63.gitpod.io/workspace/Python-Workbooks/NBA%20Stats/scraper.ipynb#W0sdnNjb2RlLXJlbW90ZQ%3D%3D?line=1'>2</a>\u001b[0m \u001b[39m# https://www.basketball-reference.com/leagues/NBA_1974_advanced.html\u001b[39;00m\n\u001b[1;32m      <a href='vscode-notebook-cell://harmkenn-pythonworkbook-t57objyodso.ws-eu63.gitpod.io/workspace/Python-Workbooks/NBA%20Stats/scraper.ipynb#W0sdnNjb2RlLXJlbW90ZQ%3D%3D?line=2'>3</a>\u001b[0m \u001b[39m# Importing the required libraries\u001b[39;00m\n\u001b[0;32m----> <a href='vscode-notebook-cell://harmkenn-pythonworkbook-t57objyodso.ws-eu63.gitpod.io/workspace/Python-Workbooks/NBA%20Stats/scraper.ipynb#W0sdnNjb2RlLXJlbW90ZQ%3D%3D?line=4'>5</a>\u001b[0m \u001b[39mimport\u001b[39;00m \u001b[39mrequests\u001b[39;00m\n\u001b[1;32m      <a href='vscode-notebook-cell://harmkenn-pythonworkbook-t57objyodso.ws-eu63.gitpod.io/workspace/Python-Workbooks/NBA%20Stats/scraper.ipynb#W0sdnNjb2RlLXJlbW90ZQ%3D%3D?line=5'>6</a>\u001b[0m \u001b[39mimport\u001b[39;00m \u001b[39mpandas\u001b[39;00m \u001b[39mas\u001b[39;00m \u001b[39mpd\u001b[39;00m\n\u001b[1;32m      <a href='vscode-notebook-cell://harmkenn-pythonworkbook-t57objyodso.ws-eu63.gitpod.io/workspace/Python-Workbooks/NBA%20Stats/scraper.ipynb#W0sdnNjb2RlLXJlbW90ZQ%3D%3D?line=6'>7</a>\u001b[0m \u001b[39mimport\u001b[39;00m \u001b[39mnumpy\u001b[39;00m \u001b[39mas\u001b[39;00m \u001b[39mnp\u001b[39;00m\n",
      "\u001b[0;31mModuleNotFoundError\u001b[0m: No module named 'requests'"
     ]
    }
   ],
   "source": [
    "# Scrape Basketball Reference\n",
    "# https://www.basketball-reference.com/leagues/NBA_1974_advanced.html\n",
    "# Importing the required libraries\n",
    "\n",
    "import requests\n",
    "import pandas as pd\n",
    "import numpy as np\n",
    "from bs4 import BeautifulSoup\n",
    "\n",
    "season = np.arange(1974,1975,1)\n",
    "\n",
    "for y in season:\n",
    "    # Downloading contents of the web page\n",
    "    url = f'https://www.basketball-reference.com/leagues/NBA_{y}_advanced.html'\n",
    "    data = requests.get(url).text\n",
    "    \n",
    "\n",
    "    # Creating BeautifulSoup object\n",
    "    soup = BeautifulSoup(data, 'html.parser')\n",
    "    table = soup.find('table', class_='stats_table')\n",
    "    allBR =[{'Rk'}]\n",
    "    allBR=pd.DataFrame(allBR)\n",
    "\n",
    "    # Collecting Ddata\n",
    "    for row in table.tbody.find_all('tr'):    \n",
    "        # Find all data for each column\n",
    "        columns = row.find_all('td')\n",
    "        if(columns != []):\n",
    "            Team = columns[0].text.strip()\n",
    "            if y <= 2021:\n",
    "                W = columns[3].text.strip()\n",
    "                L = columns[4].text.strip()\n",
    "                Pts = columns[5].text.strip()\n",
    "                Opp = columns[6].text.strip()\n",
    "                MOV = columns[7].text.strip()\n",
    "                SOS = columns[9].text.strip()\n",
    "                OSRS = columns[11].text.strip()\n",
    "                DSRS = columns[12].text.strip()\n",
    "                SRS = columns[13].text.strip()\n",
    "            if y > 2021:\n",
    "                W = int(columns[4].text.strip())\n",
    "                L = int(columns[5].text.strip())\n",
    "                Pts = columns[6].text.strip()\n",
    "                Opp = columns[7].text.strip()\n",
    "                MOV = columns[8].text.strip()\n",
    "                SOS = columns[10].text.strip()\n",
    "                OSRS = columns[12].text.strip()\n",
    "                DSRS = columns[13].text.strip()\n",
    "                SRS = columns[14].text.strip()\n",
    "            allBR = allBR.append({'Year':y,'Team':Team,\"W\":W,'L':L,'Pts':Pts,'Opp':Opp,'MOV':MOV,'SOS':SOS,'OSRS':OSRS,'DSRS':DSRS,'SRS':SRS},ignore_index=True)\n",
    "allBR.to_csv('../data/NBA_BR.csv',index=False)\n"
   ]
  }
 ],
 "metadata": {
  "kernelspec": {
   "display_name": "Python 3.10.6 64-bit ('3.10.6')",
   "language": "python",
   "name": "python3"
  },
  "language_info": {
   "codemirror_mode": {
    "name": "ipython",
    "version": 3
   },
   "file_extension": ".py",
   "mimetype": "text/x-python",
   "name": "python",
   "nbconvert_exporter": "python",
   "pygments_lexer": "ipython3",
   "version": "3.10.6"
  },
  "orig_nbformat": 4,
  "vscode": {
   "interpreter": {
    "hash": "07bf9a9dc138877142cc069fe2b199e26e5ec8e62221661a49434cae3c3f6625"
   }
  }
 },
 "nbformat": 4,
 "nbformat_minor": 2
}
