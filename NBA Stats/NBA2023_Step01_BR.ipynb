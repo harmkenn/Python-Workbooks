{
 "cells": [
  {
   "cell_type": "code",
   "execution_count": null,
   "metadata": {},
   "outputs": [],
   "source": [
    "# https://www.basketball-reference.com/leagues/NBA_1991_advanced.html\n",
    "# Scape all advanced data from 1990-1991 onwards"
   ]
  },
  {
   "cell_type": "code",
   "execution_count": null,
   "metadata": {},
   "outputs": [],
   "source": [
    "df = pd.read_html('https://www.basketball-reference.com/leagues/NBA_1991_advanced.html')[0]"
   ]
  },
  {
   "cell_type": "code",
   "execution_count": null,
   "metadata": {},
   "outputs": [],
   "source": [
    "df = pd.read_html('https://hoopshype.com/salaries/players/1990-1991/')[0]"
   ]
  },
  {
   "cell_type": "code",
   "execution_count": null,
   "metadata": {},
   "outputs": [],
   "source": [
    "import pandas as pd\n",
    "import numpy as np\n",
    "import time\n",
    "seasons = np.arange(1999,2023,1)\n",
    "for season in seasons:\n",
    "    df = pd.read_html(f'https://www.basketball-reference.com/leagues/NBA_{season}_advanced.html')[0]\n",
    "    df['Year']=season\n",
    "    time.sleep(30)\n",
    "    if season == 1991: \n",
    "        NBABR = df\n",
    "    else: \n",
    "        NBABR = pd.concat([NBABR,df])"
   ]
  },
  {
   "cell_type": "code",
   "execution_count": 16,
   "metadata": {},
   "outputs": [],
   "source": [
    "import pandas as pd\n",
    "import numpy as np\n",
    "import time\n",
    "\n",
    "df = pd.read_html(f'https://www.basketball-reference.com/leagues/NBA_2023_advanced.html')[0]\n",
    "df['Year']=2023\n",
    "NBABR = pd.concat([NBABR,df])"
   ]
  },
  {
   "cell_type": "code",
   "execution_count": null,
   "metadata": {},
   "outputs": [],
   "source": []
  }
 ],
 "metadata": {
  "kernelspec": {
   "display_name": "Python 3",
   "language": "python",
   "name": "python3"
  },
  "language_info": {
   "codemirror_mode": {
    "name": "ipython",
    "version": 3
   },
   "file_extension": ".py",
   "mimetype": "text/x-python",
   "name": "python",
   "nbconvert_exporter": "python",
   "pygments_lexer": "ipython3",
   "version": "3.10.7"
  },
  "orig_nbformat": 4,
  "vscode": {
   "interpreter": {
    "hash": "f627b94a91bc915482d65575b2ea77ee7c3710ea9aacf075a668e3021bd93680"
   }
  }
 },
 "nbformat": 4,
 "nbformat_minor": 2
}
