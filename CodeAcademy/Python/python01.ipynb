{
 "cells": [
  {
   "cell_type": "markdown",
   "metadata": {},
   "source": [
    "https://www.codecademy.com/courses/python-for-programmers/articles/why-python-3"
   ]
  },
  {
   "cell_type": "markdown",
   "metadata": {},
   "source": [
    "Naming Conventions\n",
    "When we start writing complex code, we could potentially be dealing with a lot of classes, functions, and variables.\n",
    "\n",
    "Class names should follow the CapWords convention, which is a type of convention that capitalizes the first letter of each word. For example, when creating a class, MyDog is preferred over my_dog."
   ]
  },
  {
   "cell_type": "code",
   "execution_count": 1,
   "metadata": {},
   "outputs": [],
   "source": [
    "class MyDog:\n",
    "    def __init__(self, name):\n",
    "        self.name = name\n",
    " \n",
    "    def show_name(self):\n",
    "        print(\"My dog's name is: \", self.name)\n",
    " \n",
    "x = MyDog('Pepper')"
   ]
  },
  {
   "cell_type": "markdown",
   "metadata": {},
   "source": [
    "Functions names should be in all lowercase and underscores should be used to separate words if necessary.\n",
    "\n",
    "Let’s say we’re writing a function to calculate force based on mass and acceleration. Using the proper Python 3 naming convention, the function should be called calculate_force."
   ]
  },
  {
   "cell_type": "code",
   "execution_count": 3,
   "metadata": {},
   "outputs": [
    {
     "data": {
      "text/plain": [
       "240.0"
      ]
     },
     "execution_count": 3,
     "metadata": {},
     "output_type": "execute_result"
    }
   ],
   "source": [
    "def calculate_force(mass, acc):\n",
    "    force = mass * acc\n",
    "    return force\n",
    "\n",
    "calculate_force(25,9.6)"
   ]
  }
 ],
 "metadata": {
  "kernelspec": {
   "display_name": "Python 3",
   "language": "python",
   "name": "python3"
  },
  "language_info": {
   "codemirror_mode": {
    "name": "ipython",
    "version": 3
   },
   "file_extension": ".py",
   "mimetype": "text/x-python",
   "name": "python",
   "nbconvert_exporter": "python",
   "pygments_lexer": "ipython3",
   "version": "3.10.13"
  }
 },
 "nbformat": 4,
 "nbformat_minor": 2
}
