{
 "cells": [
  {
   "cell_type": "markdown",
   "metadata": {},
   "source": [
    "https://www.codecademy.com/courses/python-for-programmers/articles/why-python-3"
   ]
  },
  {
   "cell_type": "markdown",
   "metadata": {},
   "source": [
    "Naming Conventions\n",
    "When we start writing complex code, we could potentially be dealing with a lot of classes, functions, and variables.\n",
    "\n",
    "Class names should follow the CapWords convention, which is a type of convention that capitalizes the first letter of each word. For example, when creating a class, MyDog is preferred over my_dog."
   ]
  },
  {
   "cell_type": "code",
   "execution_count": 1,
   "metadata": {},
   "outputs": [],
   "source": [
    "class MyDog:\n",
    "    def __init__(self, name):\n",
    "        self.name = name\n",
    " \n",
    "    def show_name(self):\n",
    "        print(\"My dog's name is: \", self.name)\n",
    " \n",
    "x = MyDog('Pepper')"
   ]
  },
  {
   "cell_type": "markdown",
   "metadata": {},
   "source": [
    "Functions names should be in all lowercase and underscores should be used to separate words if necessary.\n",
    "\n",
    "Let’s say we’re writing a function to calculate force based on mass and acceleration. Using the proper Python 3 naming convention, the function should be called calculate_force."
   ]
  },
  {
   "cell_type": "code",
   "execution_count": 3,
   "metadata": {},
   "outputs": [
    {
     "data": {
      "text/plain": [
       "240.0"
      ]
     },
     "execution_count": 3,
     "metadata": {},
     "output_type": "execute_result"
    }
   ],
   "source": [
    "def calculate_force(mass, acc):\n",
    "    force = mass * acc\n",
    "    return force\n",
    "\n",
    "calculate_force(25,9.6)"
   ]
  },
  {
   "cell_type": "code",
   "execution_count": 6,
   "metadata": {},
   "outputs": [
    {
     "name": "stdout",
     "output_type": "stream",
     "text": [
      "Very nice to meet you,  Ken !\n",
      "Very nice to meet you, Ken!\n",
      "Very nice to meet you, KEN!\n",
      "Very nice to meet you, Ken!\n"
     ]
    }
   ],
   "source": [
    "name = input('What is your name?')\n",
    "print('Very nice to meet you, ', name, '!')\n",
    "print(f'Very nice to meet you, {name}!')\n",
    "print(f'Very nice to meet you, {name.upper()}!')\n",
    "print('Very nice to meet you, {}!'.format(name))"
   ]
  },
  {
   "cell_type": "markdown",
   "metadata": {},
   "source": [
    "https://www.codecademy.com/courses/python-for-programmers/articles/variables-in-python"
   ]
  },
  {
   "cell_type": "code",
   "execution_count": null,
   "metadata": {},
   "outputs": [],
   "source": [
    "temperature = str(97.5)\n",
    "type(temperature) # prints str"
   ]
  },
  {
   "cell_type": "code",
   "execution_count": 8,
   "metadata": {},
   "outputs": [
    {
     "name": "stdout",
     "output_type": "stream",
     "text": [
      "7\n"
     ]
    },
    {
     "data": {
      "text/plain": [
       "1"
      ]
     },
     "execution_count": 8,
     "metadata": {},
     "output_type": "execute_result"
    }
   ],
   "source": [
    "x = 4\n",
    "y = 3\n",
    " \n",
    "print(x + y)  # returns 7\n",
    "x - y  # returns 1\n",
    "x * y  # returns 12\n",
    "x ** y # returns 64\n",
    "x / y  # returns 1.333\n",
    "x // y # returns 1\n",
    "x % y # returns 1"
   ]
  },
  {
   "cell_type": "code",
   "execution_count": 9,
   "metadata": {},
   "outputs": [],
   "source": [
    "x += 4  # x is 8\n",
    "x -= 4  # x is 0\n",
    "x *= 4  # x is 16\n",
    "x /= 4  # x is 1.0\n",
    "x %= 4  # x is 0"
   ]
  },
  {
   "cell_type": "code",
   "execution_count": 10,
   "metadata": {},
   "outputs": [
    {
     "data": {
      "text/plain": [
       "False"
      ]
     },
     "execution_count": 10,
     "metadata": {},
     "output_type": "execute_result"
    }
   ],
   "source": [
    "x = 4\n",
    "y = 3\n",
    " \n",
    "x == y # returns False\n",
    "x != y # returns True\n",
    "x > y  # returns True\n",
    "x < y  # returns False\n",
    "x >= y # returns True\n",
    "x <= y # returns False"
   ]
  },
  {
   "cell_type": "code",
   "execution_count": 11,
   "metadata": {},
   "outputs": [
    {
     "data": {
      "text/plain": [
       "False"
      ]
     },
     "execution_count": 11,
     "metadata": {},
     "output_type": "execute_result"
    }
   ],
   "source": [
    "x = 4\n",
    "y = 3\n",
    " \n",
    "x > 2 and y > 1      # returns True\n",
    "x > 5 or y <= 3      # returns True\n",
    "not(x > 2 and y > 1) # returns False"
   ]
  },
  {
   "cell_type": "markdown",
   "metadata": {},
   "source": [
    "https://www.codecademy.com/courses/python-for-programmers/articles/if-elif-else"
   ]
  },
  {
   "cell_type": "code",
   "execution_count": 12,
   "metadata": {},
   "outputs": [
    {
     "name": "stdout",
     "output_type": "stream",
     "text": [
      "You pass the course!\n"
     ]
    }
   ],
   "source": [
    "score = 90\n",
    " \n",
    "if score >= 80:\n",
    "   print('You pass the course!')\n"
   ]
  },
  {
   "cell_type": "code",
   "execution_count": 13,
   "metadata": {},
   "outputs": [
    {
     "name": "stdout",
     "output_type": "stream",
     "text": [
      "You do not pass the course!\n"
     ]
    }
   ],
   "source": [
    "score = 70\n",
    " \n",
    "if score >= 80:\n",
    "   print('You pass the course!') \n",
    "else:\n",
    "   print('You do not pass the course!')"
   ]
  },
  {
   "cell_type": "code",
   "execution_count": 14,
   "metadata": {},
   "outputs": [
    {
     "name": "stdout",
     "output_type": "stream",
     "text": [
      "You pass the course! Talk to your instructor.\n"
     ]
    }
   ],
   "source": [
    "score = 70\n",
    " \n",
    "if score >= 80:\n",
    "   print('You pass the course with flying colors!')\n",
    " \n",
    "elif score > 65:\n",
    "   print('You pass the course! Talk to your instructor.')\n",
    "  \n",
    "else:\n",
    "   print('You do not pass the course!')"
   ]
  },
  {
   "cell_type": "markdown",
   "metadata": {},
   "source": [
    "https://www.codecademy.com/courses/python-for-programmers/articles/loops-in-python"
   ]
  },
  {
   "cell_type": "code",
   "execution_count": 15,
   "metadata": {},
   "outputs": [
    {
     "name": "stdout",
     "output_type": "stream",
     "text": [
      "2\n",
      "3\n",
      "4\n",
      "5\n",
      "6\n"
     ]
    }
   ],
   "source": [
    "nums = [1, 2, 3, 4, 5]\n",
    " \n",
    "for num in nums:\n",
    "  print(num + 1)"
   ]
  },
  {
   "cell_type": "code",
   "execution_count": 16,
   "metadata": {},
   "outputs": [
    {
     "name": "stdout",
     "output_type": "stream",
     "text": [
      "0\n",
      "1\n",
      "2\n"
     ]
    }
   ],
   "source": [
    "for i in range(3):\n",
    "  print(i)"
   ]
  },
  {
   "cell_type": "code",
   "execution_count": 17,
   "metadata": {},
   "outputs": [
    {
     "name": "stdout",
     "output_type": "stream",
     "text": [
      "Jody\n",
      "Abe\n",
      "Abhishek\n",
      "Kim\n",
      "Taylor\n",
      "Jen\n"
     ]
    }
   ],
   "source": [
    "teams = [['Jody', 'Abe'], ['Abhishek', 'Kim'], ['Taylor', 'Jen']]\n",
    "for team in teams:\n",
    "  for name in team:\n",
    "    print(name)"
   ]
  },
  {
   "cell_type": "code",
   "execution_count": 18,
   "metadata": {},
   "outputs": [
    {
     "name": "stdout",
     "output_type": "stream",
     "text": [
      "1\n",
      "2\n",
      "3\n",
      "4\n",
      "5\n"
     ]
    }
   ],
   "source": [
    "i = 1\n",
    "while i < 6:\n",
    "  print(i)\n",
    "  i += 1"
   ]
  },
  {
   "cell_type": "markdown",
   "metadata": {},
   "source": [
    "https://www.codecademy.com/courses/python-for-programmers/articles/error-handling-in-python"
   ]
  },
  {
   "cell_type": "code",
   "execution_count": 19,
   "metadata": {},
   "outputs": [
    {
     "name": "stdout",
     "output_type": "stream",
     "text": [
      "6\n"
     ]
    }
   ],
   "source": [
    "nums = [0, 1, 2, 3]\n",
    " \n",
    "try:\n",
    "   print(sum(nums))\n",
    " \n",
    "except:\n",
    "   print('Cannot print the sum! Your variables are not numbers.')\n"
   ]
  },
  {
   "cell_type": "code",
   "execution_count": 20,
   "metadata": {},
   "outputs": [
    {
     "name": "stdout",
     "output_type": "stream",
     "text": [
      "Cannot print the sum! Your variables are not numbers.\n"
     ]
    }
   ],
   "source": [
    "nums = ['x', 'y', 'z']\n",
    " \n",
    "try:\n",
    "   print(sum(nums))\n",
    " \n",
    "except:\n",
    "   print('Cannot print the sum! Your variables are not numbers.')"
   ]
  },
  {
   "cell_type": "code",
   "execution_count": 21,
   "metadata": {},
   "outputs": [
    {
     "name": "stdout",
     "output_type": "stream",
     "text": [
      "Cannot print the sum! Your variables are not numbers.\n",
      "Hope you got the result you want!\n"
     ]
    }
   ],
   "source": [
    "nums = ['x', 'y', 'z']\n",
    " \n",
    "try:\n",
    "   print(sum(nums))\n",
    " \n",
    "except:\n",
    "   print('Cannot print the sum! Your variables are not numbers.')\n",
    " \n",
    "finally:\n",
    "   print('Hope you got the result you want!')"
   ]
  },
  {
   "cell_type": "markdown",
   "metadata": {},
   "source": [
    "https://www.codecademy.com/courses/python-for-programmers/articles/function-basics-python"
   ]
  },
  {
   "cell_type": "code",
   "execution_count": 23,
   "metadata": {},
   "outputs": [
    {
     "data": {
      "text/plain": [
       "12"
      ]
     },
     "execution_count": 23,
     "metadata": {},
     "output_type": "execute_result"
    }
   ],
   "source": [
    "def add_three(num1, num2, num3):\n",
    "   sum_three = num1 + num2 + num3\n",
    "   return sum_three\n",
    "\n",
    "sum_output = add_three(2, 4, 6)\n",
    "sum_output"
   ]
  }
 ],
 "metadata": {
  "kernelspec": {
   "display_name": "Python 3",
   "language": "python",
   "name": "python3"
  },
  "language_info": {
   "codemirror_mode": {
    "name": "ipython",
    "version": 3
   },
   "file_extension": ".py",
   "mimetype": "text/x-python",
   "name": "python",
   "nbconvert_exporter": "python",
   "pygments_lexer": "ipython3",
   "version": "3.10.13"
  }
 },
 "nbformat": 4,
 "nbformat_minor": 2
}
