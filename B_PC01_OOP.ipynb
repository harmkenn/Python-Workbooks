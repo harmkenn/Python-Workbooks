{
  "nbformat": 4,
  "nbformat_minor": 0,
  "metadata": {
    "colab": {
      "name": "B_PC01_OOP.ipynb",
      "provenance": [],
      "collapsed_sections": [],
      "authorship_tag": "ABX9TyPkthN2qxhIyfoLhKy2tAwW",
      "include_colab_link": true
    },
    "kernelspec": {
      "name": "python3",
      "display_name": "Python 3"
    },
    "language_info": {
      "name": "python"
    }
  },
  "cells": [
    {
      "cell_type": "markdown",
      "metadata": {
        "id": "view-in-github",
        "colab_type": "text"
      },
      "source": [
        "<a href=\"https://colab.research.google.com/github/harmkenn/Python-Workbooks/blob/main/B_PC01_OOP.ipynb\" target=\"_parent\"><img src=\"https://colab.research.google.com/assets/colab-badge.svg\" alt=\"Open In Colab\"/></a>"
      ]
    },
    {
      "cell_type": "code",
      "execution_count": null,
      "metadata": {
        "id": "n6LrIk2_B66k"
      },
      "outputs": [],
      "source": [
        "# https://python-course.eu/oop/object-oriented-programming.php"
      ]
    },
    {
      "cell_type": "code",
      "source": [
        "x = 42\n",
        "type(x)"
      ],
      "metadata": {
        "colab": {
          "base_uri": "https://localhost:8080/"
        },
        "id": "IXKGHFfXCH3Q",
        "outputId": "1c6ae41f-73dd-4465-d3b8-32a893deafcc"
      },
      "execution_count": null,
      "outputs": [
        {
          "output_type": "execute_result",
          "data": {
            "text/plain": [
              "int"
            ]
          },
          "metadata": {},
          "execution_count": 1
        }
      ]
    },
    {
      "cell_type": "code",
      "source": [
        "y = 4.34\n",
        "type(y)"
      ],
      "metadata": {
        "colab": {
          "base_uri": "https://localhost:8080/"
        },
        "id": "sihX0muxCNQw",
        "outputId": "268c307b-9310-4924-f584-94e1d5388329"
      },
      "execution_count": null,
      "outputs": [
        {
          "output_type": "execute_result",
          "data": {
            "text/plain": [
              "float"
            ]
          },
          "metadata": {},
          "execution_count": 2
        }
      ]
    },
    {
      "cell_type": "code",
      "source": [
        "def f(x):\n",
        "    return x + 1\n",
        "type(f)"
      ],
      "metadata": {
        "colab": {
          "base_uri": "https://localhost:8080/"
        },
        "id": "KA49DC9OCRVH",
        "outputId": "afcd7914-e582-43f4-c88d-f0c98fcd2714"
      },
      "execution_count": null,
      "outputs": [
        {
          "output_type": "execute_result",
          "data": {
            "text/plain": [
              "function"
            ]
          },
          "metadata": {},
          "execution_count": 3
        }
      ]
    },
    {
      "cell_type": "code",
      "source": [
        "import math\n",
        "type(math)"
      ],
      "metadata": {
        "colab": {
          "base_uri": "https://localhost:8080/"
        },
        "id": "DvZJYxHKEaVU",
        "outputId": "0203f1a0-3d41-450f-a859-4f1268495b61"
      },
      "execution_count": null,
      "outputs": [
        {
          "output_type": "execute_result",
          "data": {
            "text/plain": [
              "module"
            ]
          },
          "metadata": {},
          "execution_count": 4
        }
      ]
    },
    {
      "cell_type": "code",
      "source": [
        "class Robot(object):\n",
        "    pass\n",
        "x = Robot()\n",
        "Robot.brand = \"Kuka\"\n",
        "x.brand"
      ],
      "metadata": {
        "colab": {
          "base_uri": "https://localhost:8080/",
          "height": 36
        },
        "id": "vVOuXTJIJe39",
        "outputId": "4eb5235c-1d6a-45a5-8a24-1a59486aa1b5"
      },
      "execution_count": null,
      "outputs": [
        {
          "output_type": "execute_result",
          "data": {
            "text/plain": [
              "'Kuka'"
            ],
            "application/vnd.google.colaboratory.intrinsic+json": {
              "type": "string"
            }
          },
          "metadata": {},
          "execution_count": 5
        }
      ]
    },
    {
      "cell_type": "code",
      "source": [
        "y = Robot()\n",
        "y.brand"
      ],
      "metadata": {
        "colab": {
          "base_uri": "https://localhost:8080/",
          "height": 36
        },
        "id": "L0klrWG1Jv2x",
        "outputId": "61f611cd-fa50-4568-bdad-42c2b646d87f"
      },
      "execution_count": null,
      "outputs": [
        {
          "output_type": "execute_result",
          "data": {
            "text/plain": [
              "'Kuka'"
            ],
            "application/vnd.google.colaboratory.intrinsic+json": {
              "type": "string"
            }
          },
          "metadata": {},
          "execution_count": 6
        }
      ]
    },
    {
      "cell_type": "code",
      "source": [
        "Robot.brand = \"Thales\"\n",
        "x.__dict__"
      ],
      "metadata": {
        "colab": {
          "base_uri": "https://localhost:8080/"
        },
        "id": "h9Bx17qWJ7LP",
        "outputId": "0cb6b008-b7ab-40ee-992d-44089d2585db"
      },
      "execution_count": null,
      "outputs": [
        {
          "output_type": "execute_result",
          "data": {
            "text/plain": [
              "{}"
            ]
          },
          "metadata": {},
          "execution_count": 7
        }
      ]
    },
    {
      "cell_type": "code",
      "source": [
        "def hi(obj):\n",
        "    print(\"Hi, I am \" + obj.name + \"!\")\n",
        "class Robot:\n",
        "    pass\n",
        "x = Robot()\n",
        "x.name = \"Marvin\"\n",
        "hi(x)"
      ],
      "metadata": {
        "colab": {
          "base_uri": "https://localhost:8080/"
        },
        "id": "q77X4ez6SSXV",
        "outputId": "160367cf-1594-4594-e610-a822100852d6"
      },
      "execution_count": null,
      "outputs": [
        {
          "output_type": "stream",
          "name": "stdout",
          "text": [
            "Hi, I am Marvin!\n"
          ]
        }
      ]
    },
    {
      "cell_type": "code",
      "source": [
        "def hi(obj):\n",
        "        print(\"Hi, I am \" + obj.name)\n",
        "class Robot:\n",
        "    say_hi = hi\n",
        "x = Robot()\n",
        "x.name = \"Marvin\"\n",
        "Robot.say_hi(x)"
      ],
      "metadata": {
        "id": "dHF8xSCxSrZp",
        "outputId": "44f39927-9666-4138-e89c-43babf82daa4",
        "colab": {
          "base_uri": "https://localhost:8080/"
        }
      },
      "execution_count": null,
      "outputs": [
        {
          "output_type": "stream",
          "name": "stdout",
          "text": [
            "Hi, I am Marvin\n"
          ]
        }
      ]
    }
  ]
}