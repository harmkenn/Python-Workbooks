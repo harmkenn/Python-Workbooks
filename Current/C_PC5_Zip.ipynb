{
  "nbformat": 4,
  "nbformat_minor": 0,
  "metadata": {
    "colab": {
      "name": "C_PC5_Zip.ipynb",
      "provenance": [],
      "authorship_tag": "ABX9TyMhrvXOJ1A9yi8oJTJfii8X",
      "include_colab_link": true
    },
    "kernelspec": {
      "name": "python3",
      "display_name": "Python 3"
    },
    "language_info": {
      "name": "python"
    }
  },
  "cells": [
    {
      "cell_type": "markdown",
      "metadata": {
        "id": "view-in-github",
        "colab_type": "text"
      },
      "source": [
        "<a href=\"https://colab.research.google.com/github/harmkenn/Python-Workbooks/blob/main/Current/C_PC5_Zip.ipynb\" target=\"_parent\"><img src=\"https://colab.research.google.com/assets/colab-badge.svg\" alt=\"Open In Colab\"/></a>"
      ]
    },
    {
      "cell_type": "code",
      "execution_count": null,
      "metadata": {
        "id": "OQaDZIq4xQYx"
      },
      "outputs": [],
      "source": [
        "# https://python-course.eu/advanced-python/zip-tutorial.php"
      ]
    }
  ]
}