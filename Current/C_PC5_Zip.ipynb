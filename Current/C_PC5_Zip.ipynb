{
  "cells": [
    {
      "cell_type": "markdown",
      "metadata": {
        "colab_type": "text",
        "id": "view-in-github"
      },
      "source": [
        "<a href=\"https://colab.research.google.com/github/harmkenn/Python-Workbooks/blob/main/Current/C_PC5_Zip.ipynb\" target=\"_parent\"><img src=\"https://colab.research.google.com/assets/colab-badge.svg\" alt=\"Open In Colab\"/></a>"
      ]
    },
    {
      "cell_type": "code",
      "execution_count": null,
      "metadata": {
        "id": "OQaDZIq4xQYx"
      },
      "outputs": [],
      "source": [
        "# https://python-course.eu/advanced-python/zip-tutorial.php"
      ]
    },
    {
      "cell_type": "code",
      "execution_count": 2,
      "metadata": {},
      "outputs": [
        {
          "name": "stdout",
          "output_type": "stream",
          "text": [
            "('a', 5)\n",
            "('b', 3)\n",
            "('c', 7)\n",
            "('d', 9)\n",
            "('e', 11)\n",
            "('f', 2)\n"
          ]
        }
      ],
      "source": [
        "a_couple_of_letters = [\"a\", \"b\", \"c\", \"d\", \"e\", \"f\"]\n",
        "some_numbers = [5, 3, 7, 9, 11, 2]\n",
        "\n",
        "for t in zip(a_couple_of_letters, some_numbers):\n",
        "    print(t)"
      ]
    },
    {
      "cell_type": "code",
      "execution_count": 3,
      "metadata": {},
      "outputs": [
        {
          "name": "stdout",
          "output_type": "stream",
          "text": [
            "('Helgoland', 1021.2, 6.0, 4)\n",
            "('Kiel', 1019.9, 4.3, 27)\n",
            "('Berlin-Tegel', 1023.7, 2.7, 37)\n",
            "('Konstanz', 1023.1, -1.4, 443)\n",
            "('Hohenpeißenberg', 1027.7, -4.4, 977)\n"
          ]
        }
      ],
      "source": [
        "location = [\"Helgoland\", \"Kiel\", \n",
        "            \"Berlin-Tegel\", \"Konstanz\", \n",
        "            \"Hohenpeißenberg\"]\n",
        "air_pressure = [1021.2, 1019.9, 1023.7, 1023.1, 1027.7]\n",
        "temperatures = [6.0, 4.3, 2.7, -1.4, -4.4]\n",
        "altitude = [4, 27, 37, 443, 977]\n",
        "for t in zip(location, air_pressure, temperatures, altitude):\n",
        "    print(t)"
      ]
    },
    {
      "cell_type": "code",
      "execution_count": 4,
      "metadata": {},
      "outputs": [
        {
          "name": "stdout",
          "output_type": "stream",
          "text": [
            "(1000, 'ham')\n",
            "(1001, 'spam')\n",
            "(1002, 'cheese')\n"
          ]
        }
      ],
      "source": [
        "food = [\"ham\", \"spam\", \"cheese\"]\n",
        "for item in zip(range(1000, 1003), food):\n",
        "    print(item)"
      ]
    },
    {
      "cell_type": "code",
      "execution_count": 5,
      "metadata": {},
      "outputs": [
        {
          "name": "stdout",
          "output_type": "stream",
          "text": [
            "('P',)\n",
            "('y',)\n",
            "('t',)\n",
            "('h',)\n",
            "('o',)\n",
            "('n',)\n"
          ]
        }
      ],
      "source": [
        "s = \"Python\"\n",
        "for t in zip(s):\n",
        "    print(t)"
      ]
    },
    {
      "cell_type": "code",
      "execution_count": 6,
      "metadata": {},
      "outputs": [
        {
          "name": "stdout",
          "output_type": "stream",
          "text": [
            "BMW green\n",
            "Alfa Romeo red\n"
          ]
        }
      ],
      "source": [
        "colors = [\"green\", \"red\", \"blue\"]\n",
        "cars = [\"BMW\", \"Alfa Romeo\"]\n",
        "for car, color in zip(cars, colors):\n",
        "    print(car, color)"
      ]
    },
    {
      "cell_type": "code",
      "execution_count": 7,
      "metadata": {},
      "outputs": [],
      "source": [
        "cities_and_population = [(\"Zurich\", 415367),\n",
        "                         (\"Geneva\", 201818),\n",
        "                         (\"Basel\", 177654),\n",
        "                         (\"Lausanne\", 139111),\n",
        "                         (\"Bern\", 133883),\n",
        "                         (\"Winterthur\", 111851)]"
      ]
    },
    {
      "cell_type": "code",
      "execution_count": 8,
      "metadata": {},
      "outputs": [
        {
          "name": "stdout",
          "output_type": "stream",
          "text": [
            "('Zurich', 'Geneva', 'Basel', 'Lausanne', 'Bern', 'Winterthur')\n",
            "(415367, 201818, 177654, 139111, 133883, 111851)\n"
          ]
        }
      ],
      "source": [
        "cities, populations = list(zip(*cities_and_population))\n",
        "print(cities)\n",
        "print(populations)"
      ]
    },
    {
      "cell_type": "code",
      "execution_count": 10,
      "metadata": {},
      "outputs": [
        {
          "ename": "ModuleNotFoundError",
          "evalue": "No module named 'pandas'",
          "output_type": "error",
          "traceback": [
            "\u001b[0;31m---------------------------------------------------------------------------\u001b[0m",
            "\u001b[0;31mModuleNotFoundError\u001b[0m                       Traceback (most recent call last)",
            "\u001b[1;32m/workspace/Python-Workbooks/Current/C_PC5_Zip.ipynb Cell 10\u001b[0m in \u001b[0;36m<cell line: 1>\u001b[0;34m()\u001b[0m\n\u001b[0;32m----> <a href='vscode-notebook-cell://harmkenn-pythonworkbook-7j0dbw0l54d.ws-us59.gitpod.io/workspace/Python-Workbooks/Current/C_PC5_Zip.ipynb#X12sdnNjb2RlLXJlbW90ZQ%3D%3D?line=0'>1</a>\u001b[0m \u001b[39mimport\u001b[39;00m \u001b[39mpandas\u001b[39;00m \u001b[39mas\u001b[39;00m \u001b[39mpd\u001b[39;00m\n\u001b[1;32m      <a href='vscode-notebook-cell://harmkenn-pythonworkbook-7j0dbw0l54d.ws-us59.gitpod.io/workspace/Python-Workbooks/Current/C_PC5_Zip.ipynb#X12sdnNjb2RlLXJlbW90ZQ%3D%3D?line=1'>2</a>\u001b[0m cities_and_population \u001b[39m=\u001b[39m [(\u001b[39m\"\u001b[39m\u001b[39mZurich\u001b[39m\u001b[39m\"\u001b[39m, \u001b[39m415367\u001b[39m),\n\u001b[1;32m      <a href='vscode-notebook-cell://harmkenn-pythonworkbook-7j0dbw0l54d.ws-us59.gitpod.io/workspace/Python-Workbooks/Current/C_PC5_Zip.ipynb#X12sdnNjb2RlLXJlbW90ZQ%3D%3D?line=2'>3</a>\u001b[0m                          (\u001b[39m\"\u001b[39m\u001b[39mGeneva\u001b[39m\u001b[39m\"\u001b[39m, \u001b[39m201818\u001b[39m),\n\u001b[1;32m      <a href='vscode-notebook-cell://harmkenn-pythonworkbook-7j0dbw0l54d.ws-us59.gitpod.io/workspace/Python-Workbooks/Current/C_PC5_Zip.ipynb#X12sdnNjb2RlLXJlbW90ZQ%3D%3D?line=3'>4</a>\u001b[0m                          (\u001b[39m\"\u001b[39m\u001b[39mBasel\u001b[39m\u001b[39m\"\u001b[39m, \u001b[39m177654\u001b[39m),\n\u001b[1;32m      <a href='vscode-notebook-cell://harmkenn-pythonworkbook-7j0dbw0l54d.ws-us59.gitpod.io/workspace/Python-Workbooks/Current/C_PC5_Zip.ipynb#X12sdnNjb2RlLXJlbW90ZQ%3D%3D?line=4'>5</a>\u001b[0m                          (\u001b[39m\"\u001b[39m\u001b[39mLausanne\u001b[39m\u001b[39m\"\u001b[39m, \u001b[39m139111\u001b[39m),\n\u001b[1;32m      <a href='vscode-notebook-cell://harmkenn-pythonworkbook-7j0dbw0l54d.ws-us59.gitpod.io/workspace/Python-Workbooks/Current/C_PC5_Zip.ipynb#X12sdnNjb2RlLXJlbW90ZQ%3D%3D?line=5'>6</a>\u001b[0m                          (\u001b[39m\"\u001b[39m\u001b[39mBern\u001b[39m\u001b[39m\"\u001b[39m, \u001b[39m133883\u001b[39m),\n\u001b[1;32m      <a href='vscode-notebook-cell://harmkenn-pythonworkbook-7j0dbw0l54d.ws-us59.gitpod.io/workspace/Python-Workbooks/Current/C_PC5_Zip.ipynb#X12sdnNjb2RlLXJlbW90ZQ%3D%3D?line=6'>7</a>\u001b[0m                          (\u001b[39m\"\u001b[39m\u001b[39mWinterthur\u001b[39m\u001b[39m\"\u001b[39m, \u001b[39m111851\u001b[39m)]\n\u001b[1;32m      <a href='vscode-notebook-cell://harmkenn-pythonworkbook-7j0dbw0l54d.ws-us59.gitpod.io/workspace/Python-Workbooks/Current/C_PC5_Zip.ipynb#X12sdnNjb2RlLXJlbW90ZQ%3D%3D?line=7'>8</a>\u001b[0m cities, populations \u001b[39m=\u001b[39m \u001b[39mlist\u001b[39m(\u001b[39mzip\u001b[39m(\u001b[39m*\u001b[39mcities_and_population))\n",
            "\u001b[0;31mModuleNotFoundError\u001b[0m: No module named 'pandas'"
          ]
        }
      ],
      "source": [
        "import pandas as pd\n",
        "cities_and_population = [(\"Zurich\", 415367),\n",
        "                         (\"Geneva\", 201818),\n",
        "                         (\"Basel\", 177654),\n",
        "                         (\"Lausanne\", 139111),\n",
        "                         (\"Bern\", 133883),\n",
        "                         (\"Winterthur\", 111851)]\n",
        "cities, populations = list(zip(*cities_and_population))\n",
        "s = pd.Series(populations, index=cities)\n",
        "s.plot(kind=\"bar\")"
      ]
    }
  ],
  "metadata": {
    "colab": {
      "authorship_tag": "ABX9TyMhrvXOJ1A9yi8oJTJfii8X",
      "include_colab_link": true,
      "name": "C_PC5_Zip.ipynb",
      "provenance": []
    },
    "kernelspec": {
      "display_name": "Python 3.8.13 64-bit ('3.8.13')",
      "language": "python",
      "name": "python3"
    },
    "language_info": {
      "codemirror_mode": {
        "name": "ipython",
        "version": 3
      },
      "file_extension": ".py",
      "mimetype": "text/x-python",
      "name": "python",
      "nbconvert_exporter": "python",
      "pygments_lexer": "ipython3",
      "version": "3.8.13"
    },
    "vscode": {
      "interpreter": {
        "hash": "110cc1dee26208153f2972f08a2ad52b6a56238dc66d48e87fb757ef2996db56"
      }
    }
  },
  "nbformat": 4,
  "nbformat_minor": 0
}
