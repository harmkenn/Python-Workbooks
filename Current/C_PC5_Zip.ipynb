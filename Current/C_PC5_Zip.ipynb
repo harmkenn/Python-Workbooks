{
  "cells": [
    {
      "cell_type": "markdown",
      "metadata": {
        "id": "view-in-github",
        "colab_type": "text"
      },
      "source": [
        "<a href=\"https://colab.research.google.com/github/harmkenn/Python-Workbooks/blob/main/Current/C_PC5_Zip.ipynb\" target=\"_parent\"><img src=\"https://colab.research.google.com/assets/colab-badge.svg\" alt=\"Open In Colab\"/></a>"
      ]
    },
    {
      "cell_type": "code",
      "execution_count": null,
      "metadata": {
        "id": "OQaDZIq4xQYx"
      },
      "outputs": [],
      "source": [
        "# https://python-course.eu/advanced-python/zip-tutorial.php"
      ]
    },
    {
      "cell_type": "code",
      "execution_count": null,
      "metadata": {
        "id": "ujQhWhaD3xg5",
        "outputId": "fe678574-f6e8-4d12-e549-73987aec431f"
      },
      "outputs": [
        {
          "name": "stdout",
          "output_type": "stream",
          "text": [
            "('a', 5)\n",
            "('b', 3)\n",
            "('c', 7)\n",
            "('d', 9)\n",
            "('e', 11)\n",
            "('f', 2)\n"
          ]
        }
      ],
      "source": [
        "a_couple_of_letters = [\"a\", \"b\", \"c\", \"d\", \"e\", \"f\"]\n",
        "some_numbers = [5, 3, 7, 9, 11, 2]\n",
        "\n",
        "for t in zip(a_couple_of_letters, some_numbers):\n",
        "    print(t)"
      ]
    },
    {
      "cell_type": "code",
      "execution_count": null,
      "metadata": {
        "id": "9n03v-Mt3xg7",
        "outputId": "306806d0-866e-4771-b784-fbce260632d0"
      },
      "outputs": [
        {
          "name": "stdout",
          "output_type": "stream",
          "text": [
            "('Helgoland', 1021.2, 6.0, 4)\n",
            "('Kiel', 1019.9, 4.3, 27)\n",
            "('Berlin-Tegel', 1023.7, 2.7, 37)\n",
            "('Konstanz', 1023.1, -1.4, 443)\n",
            "('Hohenpeißenberg', 1027.7, -4.4, 977)\n"
          ]
        }
      ],
      "source": [
        "location = [\"Helgoland\", \"Kiel\", \n",
        "            \"Berlin-Tegel\", \"Konstanz\", \n",
        "            \"Hohenpeißenberg\"]\n",
        "air_pressure = [1021.2, 1019.9, 1023.7, 1023.1, 1027.7]\n",
        "temperatures = [6.0, 4.3, 2.7, -1.4, -4.4]\n",
        "altitude = [4, 27, 37, 443, 977]\n",
        "for t in zip(location, air_pressure, temperatures, altitude):\n",
        "    print(t)"
      ]
    },
    {
      "cell_type": "code",
      "execution_count": null,
      "metadata": {
        "id": "RA6fnuIG3xg8",
        "outputId": "817fa01d-bc8a-445b-f6be-c6b77006f8b3"
      },
      "outputs": [
        {
          "name": "stdout",
          "output_type": "stream",
          "text": [
            "(1000, 'ham')\n",
            "(1001, 'spam')\n",
            "(1002, 'cheese')\n"
          ]
        }
      ],
      "source": [
        "food = [\"ham\", \"spam\", \"cheese\"]\n",
        "for item in zip(range(1000, 1003), food):\n",
        "    print(item)"
      ]
    },
    {
      "cell_type": "code",
      "execution_count": null,
      "metadata": {
        "id": "-WbNcevb3xg9",
        "outputId": "935b8f92-0a8b-4404-862d-ead1d395830d"
      },
      "outputs": [
        {
          "name": "stdout",
          "output_type": "stream",
          "text": [
            "('P',)\n",
            "('y',)\n",
            "('t',)\n",
            "('h',)\n",
            "('o',)\n",
            "('n',)\n"
          ]
        }
      ],
      "source": [
        "s = \"Python\"\n",
        "for t in zip(s):\n",
        "    print(t)"
      ]
    },
    {
      "cell_type": "code",
      "execution_count": null,
      "metadata": {
        "id": "SD5jlsat3xg-",
        "outputId": "499d7278-b6d6-417b-b6e5-7dcf1d09971b"
      },
      "outputs": [
        {
          "name": "stdout",
          "output_type": "stream",
          "text": [
            "BMW green\n",
            "Alfa Romeo red\n"
          ]
        }
      ],
      "source": [
        "colors = [\"green\", \"red\", \"blue\"]\n",
        "cars = [\"BMW\", \"Alfa Romeo\"]\n",
        "for car, color in zip(cars, colors):\n",
        "    print(car, color)"
      ]
    },
    {
      "cell_type": "code",
      "execution_count": null,
      "metadata": {
        "id": "7uoKa36j3xg-"
      },
      "outputs": [],
      "source": [
        "cities_and_population = [(\"Zurich\", 415367),\n",
        "                         (\"Geneva\", 201818),\n",
        "                         (\"Basel\", 177654),\n",
        "                         (\"Lausanne\", 139111),\n",
        "                         (\"Bern\", 133883),\n",
        "                         (\"Winterthur\", 111851)]"
      ]
    },
    {
      "cell_type": "code",
      "execution_count": null,
      "metadata": {
        "id": "4H4-yako3xg_",
        "outputId": "6ccab034-110f-4cc9-c7d4-8a4eb1151963"
      },
      "outputs": [
        {
          "name": "stdout",
          "output_type": "stream",
          "text": [
            "('Zurich', 'Geneva', 'Basel', 'Lausanne', 'Bern', 'Winterthur')\n",
            "(415367, 201818, 177654, 139111, 133883, 111851)\n"
          ]
        }
      ],
      "source": [
        "cities, populations = list(zip(*cities_and_population))\n",
        "print(cities)\n",
        "print(populations)"
      ]
    },
    {
      "cell_type": "code",
      "execution_count": null,
      "metadata": {
        "colab": {
          "base_uri": "https://localhost:8080/",
          "height": 326
        },
        "id": "Nhq1N3Gc3xhA",
        "outputId": "ed364da5-9585-4a98-e34b-c4779df27de1"
      },
      "outputs": [
        {
          "output_type": "execute_result",
          "data": {
            "text/plain": [
              "<matplotlib.axes._subplots.AxesSubplot at 0x7f5aaefab790>"
            ]
          },
          "metadata": {},
          "execution_count": 1
        },
        {
          "output_type": "display_data",
          "data": {
            "text/plain": [
              "<Figure size 432x288 with 1 Axes>"
            ],
            "image/png": "[encoded data removed]"
          },
          "metadata": {
            "needs_background": "light"
          }
        }
      ],
      "source": [
        "import pandas as pd\n",
        "cities_and_population = [(\"Zurich\", 415367),\n",
        "                         (\"Geneva\", 201818),\n",
        "                         (\"Basel\", 177654),\n",
        "                         (\"Lausanne\", 139111),\n",
        "                         (\"Bern\", 133883),\n",
        "                         (\"Winterthur\", 111851)]\n",
        "cities, populations = list(zip(*cities_and_population))\n",
        "s = pd.Series(populations, index=cities)\n",
        "s.plot(kind=\"bar\")"
      ]
    },
    {
      "cell_type": "code",
      "source": [
        "abc = \"abcdef\"\n",
        "morse_chars = [\".-\", \"-...\", \"-.-.\", \"-..\", \".\", \"..-.\"]\n",
        "text2morse = dict(zip(abc, morse_chars))\n",
        "print(text2morse)"
      ],
      "metadata": {
        "id": "SrQKJUSV-Tux",
        "outputId": "f0283eb5-1bdb-4c80-d6f1-c76d5bda072f",
        "colab": {
          "base_uri": "https://localhost:8080/"
        }
      },
      "execution_count": null,
      "outputs": [
        {
          "output_type": "stream",
          "name": "stdout",
          "text": [
            "{'a': '.-', 'b': '-...', 'c': '-.-.', 'd': '-..', 'e': '.', 'f': '..-.'}\n"
          ]
        }
      ]
    }
  ],
  "metadata": {
    "colab": {
      "name": "C_PC5_Zip.ipynb",
      "provenance": [],
      "include_colab_link": true
    },
    "kernelspec": {
      "display_name": "Python 3.8.13 64-bit ('3.8.13')",
      "language": "python",
      "name": "python3"
    },
    "language_info": {
      "codemirror_mode": {
        "name": "ipython",
        "version": 3
      },
      "file_extension": ".py",
      "mimetype": "text/x-python",
      "name": "python",
      "nbconvert_exporter": "python",
      "pygments_lexer": "ipython3",
      "version": "3.8.13"
    },
    "vscode": {
      "interpreter": {
        "hash": "110cc1dee26208153f2972f08a2ad52b6a56238dc66d48e87fb757ef2996db56"
      }
    }
  },
  "nbformat": 4,
  "nbformat_minor": 0
}