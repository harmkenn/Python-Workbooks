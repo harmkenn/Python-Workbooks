{
  "nbformat": 4,
  "nbformat_minor": 0,
  "metadata": {
    "colab": {
      "name": "C_PC4_Lambda.ipynb",
      "provenance": [],
      "authorship_tag": "ABX9TyNp0alXliLZbyS9Z8BXtR2O",
      "include_colab_link": true
    },
    "kernelspec": {
      "name": "python3",
      "display_name": "Python 3"
    },
    "language_info": {
      "name": "python"
    }
  },
  "cells": [
    {
      "cell_type": "markdown",
      "metadata": {
        "id": "view-in-github",
        "colab_type": "text"
      },
      "source": [
        "<a href=\"https://colab.research.google.com/github/harmkenn/Python-Workbooks/blob/main/Current/C_PC4_Lambda.ipynb\" target=\"_parent\"><img src=\"https://colab.research.google.com/assets/colab-badge.svg\" alt=\"Open In Colab\"/></a>"
      ]
    },
    {
      "cell_type": "code",
      "execution_count": null,
      "metadata": {
        "id": "gZJdrfuUVOwW"
      },
      "outputs": [],
      "source": [
        "# https://python-course.eu/advanced-python/lambda-filter-reduce-map.php"
      ]
    },
    {
      "cell_type": "code",
      "source": [
        "sum = lambda x, y : x + y\n",
        "sum(3,4)"
      ],
      "metadata": {
        "colab": {
          "base_uri": "https://localhost:8080/"
        },
        "id": "DQm9koYMVZzP",
        "outputId": "2c0ad8a0-ad42-472a-c2e8-6d455c85b053"
      },
      "execution_count": 1,
      "outputs": [
        {
          "output_type": "execute_result",
          "data": {
            "text/plain": [
              "7"
            ]
          },
          "metadata": {},
          "execution_count": 1
        }
      ]
    }
  ]
}