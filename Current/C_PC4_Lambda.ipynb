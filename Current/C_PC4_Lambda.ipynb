{
  "cells": [
    {
      "cell_type": "markdown",
      "metadata": {
        "colab_type": "text",
        "id": "view-in-github"
      },
      "source": [
        "<a href=\"https://colab.research.google.com/github/harmkenn/Python-Workbooks/blob/main/Current/C_PC4_Lambda.ipynb\" target=\"_parent\"><img src=\"https://colab.research.google.com/assets/colab-badge.svg\" alt=\"Open In Colab\"/></a>"
      ]
    },
    {
      "cell_type": "code",
      "execution_count": null,
      "metadata": {
        "id": "gZJdrfuUVOwW"
      },
      "outputs": [],
      "source": [
        "# https://python-course.eu/advanced-python/lambda-filter-reduce-map.php"
      ]
    },
    {
      "cell_type": "code",
      "execution_count": 1,
      "metadata": {
        "colab": {
          "base_uri": "https://localhost:8080/"
        },
        "id": "DQm9koYMVZzP",
        "outputId": "2c0ad8a0-ad42-472a-c2e8-6d455c85b053"
      },
      "outputs": [
        {
          "data": {
            "text/plain": [
              "7"
            ]
          },
          "execution_count": 1,
          "metadata": {},
          "output_type": "execute_result"
        }
      ],
      "source": [
        "sum = lambda x, y : x + y\n",
        "sum(3,4)"
      ]
    },
    {
      "cell_type": "code",
      "execution_count": null,
      "metadata": {},
      "outputs": [],
      "source": [
        "def sum(x,y):\n",
        "    return x + y\n",
        "sum(3,4)"
      ]
    },
    {
      "cell_type": "code",
      "execution_count": 1,
      "metadata": {},
      "outputs": [
        {
          "name": "stdout",
          "output_type": "stream",
          "text": [
            "[97.7, 98.60000000000001, 99.5, 100.4, 102.2]\n",
            "[36.5, 37.00000000000001, 37.5, 38.00000000000001, 39.0]\n"
          ]
        }
      ],
      "source": [
        "def fahrenheit(T):\n",
        "    return ((float(9)/5)*T + 32)\n",
        "def celsius(T):\n",
        "    return (float(5)/9)*(T-32)\n",
        "temperatures = (36.5, 37, 37.5, 38, 39)\n",
        "F = map(fahrenheit, temperatures)\n",
        "C = map(celsius, F)\n",
        "temperatures_in_Fahrenheit = list(map(fahrenheit, temperatures))\n",
        "temperatures_in_Celsius = list(map(celsius, temperatures_in_Fahrenheit))\n",
        "print(temperatures_in_Fahrenheit)\n",
        "print(temperatures_in_Celsius)"
      ]
    },
    {
      "cell_type": "code",
      "execution_count": 2,
      "metadata": {},
      "outputs": [
        {
          "name": "stdout",
          "output_type": "stream",
          "text": [
            "[102.56, 97.7, 99.14, 100.4, 100.03999999999999]\n"
          ]
        }
      ],
      "source": [
        "C = [39.2, 36.5, 37.3, 38, 37.8] \n",
        "F = list(map(lambda x: (float(9)/5)*x + 32, C))\n",
        "print(F)"
      ]
    },
    {
      "cell_type": "code",
      "execution_count": 3,
      "metadata": {},
      "outputs": [
        {
          "name": "stdout",
          "output_type": "stream",
          "text": [
            "[39.2, 36.5, 37.300000000000004, 38.00000000000001, 37.8]\n"
          ]
        }
      ],
      "source": [
        "C = list(map(lambda x: (float(5)/9)*(x-32), F))\n",
        "print(C)"
      ]
    },
    {
      "cell_type": "code",
      "execution_count": 4,
      "metadata": {},
      "outputs": [
        {
          "data": {
            "text/plain": [
              "[17, 10, 19, 23]"
            ]
          },
          "execution_count": 4,
          "metadata": {},
          "output_type": "execute_result"
        }
      ],
      "source": [
        "a = [1, 2, 3, 4]\n",
        "b = [17, 12, 11, 10]\n",
        "c = [-1, -4, 5, 9] \n",
        "list(map(lambda x, y, z : x+y+z, a, b, c))"
      ]
    },
    {
      "cell_type": "code",
      "execution_count": 5,
      "metadata": {},
      "outputs": [
        {
          "data": {
            "text/plain": [
              "[18, 14, 14, 14]"
            ]
          },
          "execution_count": 5,
          "metadata": {},
          "output_type": "execute_result"
        }
      ],
      "source": [
        "list(map(lambda x, y : x+y, a, b))"
      ]
    },
    {
      "cell_type": "code",
      "execution_count": 6,
      "metadata": {},
      "outputs": [
        {
          "data": {
            "text/plain": [
              "[37.5, 33.0, 24.5, 21.0]"
            ]
          },
          "execution_count": 6,
          "metadata": {},
          "output_type": "execute_result"
        }
      ],
      "source": [
        "list(map(lambda x, y, z : 2.5*x + 2*y - z, a, b, c))"
      ]
    },
    {
      "cell_type": "code",
      "execution_count": 7,
      "metadata": {},
      "outputs": [
        {
          "name": "stdout",
          "output_type": "stream",
          "text": [
            "[1.2246467991473532e-16, -1.0, -1.2246467991473532e-16]\n"
          ]
        }
      ],
      "source": [
        "from math import sin, cos, tan, pi\n",
        "def map_functions(x, functions):\n",
        "     \"\"\" map an iterable of functions on the the object x \"\"\"\n",
        "     res = []\n",
        "     for func in functions:\n",
        "         res.append(func(x))\n",
        "     return res\n",
        "family_of_functions = (sin, cos, tan)\n",
        "print(map_functions(pi, family_of_functions))"
      ]
    },
    {
      "cell_type": "code",
      "execution_count": 8,
      "metadata": {},
      "outputs": [
        {
          "name": "stdout",
          "output_type": "stream",
          "text": [
            "[1, 1, 3, 5, 13, 21, 55]\n"
          ]
        }
      ],
      "source": [
        "fibonacci = [0,1,1,2,3,5,8,13,21,34,55]\n",
        "odd_numbers = list(filter(lambda x: x % 2, fibonacci))\n",
        "print(odd_numbers)"
      ]
    },
    {
      "cell_type": "code",
      "execution_count": 9,
      "metadata": {},
      "outputs": [
        {
          "name": "stdout",
          "output_type": "stream",
          "text": [
            "[0, 2, 8, 34]\n"
          ]
        }
      ],
      "source": [
        "even_numbers = list(filter(lambda x: x % 2 == 0, fibonacci))\n",
        "print(even_numbers)"
      ]
    },
    {
      "cell_type": "code",
      "execution_count": 10,
      "metadata": {},
      "outputs": [
        {
          "name": "stdout",
          "output_type": "stream",
          "text": [
            "[0, 2, 8, 34]\n"
          ]
        }
      ],
      "source": [
        "even_numbers = list(filter(lambda x: x % 2 -1, fibonacci))\n",
        "print(even_numbers)"
      ]
    },
    {
      "cell_type": "code",
      "execution_count": 11,
      "metadata": {},
      "outputs": [
        {
          "data": {
            "text/plain": [
              "113"
            ]
          },
          "execution_count": 11,
          "metadata": {},
          "output_type": "execute_result"
        }
      ],
      "source": [
        "import functools\n",
        "functools.reduce(lambda x,y: x+y, [47,11,42,13])"
      ]
    },
    {
      "cell_type": "code",
      "execution_count": 12,
      "metadata": {},
      "outputs": [
        {
          "data": {
            "text/plain": [
              "102"
            ]
          },
          "execution_count": 12,
          "metadata": {},
          "output_type": "execute_result"
        }
      ],
      "source": [
        "from functools import reduce\n",
        "f = lambda a,b: a if (a > b) else b\n",
        "reduce(f, [47,11,42,102,13])"
      ]
    },
    {
      "cell_type": "code",
      "execution_count": 13,
      "metadata": {},
      "outputs": [
        {
          "data": {
            "text/plain": [
              "5050"
            ]
          },
          "execution_count": 13,
          "metadata": {},
          "output_type": "execute_result"
        }
      ],
      "source": [
        "from functools import reduce\n",
        "reduce(lambda x, y: x+y, range(1,101))"
      ]
    },
    {
      "cell_type": "code",
      "execution_count": 14,
      "metadata": {},
      "outputs": [
        {
          "data": {
            "text/plain": [
              "12413915592536072670862289047373375038521486354677760000000000"
            ]
          },
          "execution_count": 14,
          "metadata": {},
          "output_type": "execute_result"
        }
      ],
      "source": [
        "reduce(lambda x, y: x*y, range(1,49))"
      ]
    },
    {
      "cell_type": "code",
      "execution_count": 15,
      "metadata": {},
      "outputs": [
        {
          "data": {
            "text/plain": [
              "13983816.0"
            ]
          },
          "execution_count": 15,
          "metadata": {},
          "output_type": "execute_result"
        }
      ],
      "source": [
        "reduce(lambda x, y: x*y, range(44,50))/reduce(lambda x, y: x*y, range(1,7))"
      ]
    },
    {
      "cell_type": "code",
      "execution_count": 16,
      "metadata": {},
      "outputs": [
        {
          "name": "stdout",
          "output_type": "stream",
          "text": [
            "[('34587', 163.8), ('98762', 284.0), ('77226', 108.85000000000001), ('88112', 84.97)]\n"
          ]
        }
      ],
      "source": [
        "orders = [ [\"34587\", \"Learning Python, Mark Lutz\", 4, 40.95], \n",
        "           [\"98762\", \"Programming Python, Mark Lutz\", 5, 56.80], \n",
        "           [\"77226\", \"Head First Python, Paul Barry\", 3,32.95],\n",
        "           [\"88112\", \"Einführung in Python3, Bernd Klein\", \t3, 24.99]]\n",
        "min_order = 100\n",
        "invoice_totals = list(map(lambda x: x if x[1] >= min_order else (x[0], x[1] + 10), \n",
        "                  map(lambda x: (x[0],x[2] * x[3]), orders)))\n",
        "print(invoice_totals)"
      ]
    },
    {
      "cell_type": "code",
      "execution_count": 17,
      "metadata": {},
      "outputs": [
        {
          "name": "stdout",
          "output_type": "stream",
          "text": [
            "[[1, 678.3299999999999], [2, 494.46000000000004], [3, 364.79999999999995], [4, 492.57]]\n"
          ]
        }
      ],
      "source": [
        "from functools import reduce\n",
        "orders = [ [1, (\"5464\", 4, 9.99), (\"8274\",18,12.99), (\"9744\", 9, 44.95)], \n",
        "           [2, (\"5464\", 9, 9.99), (\"9744\", 9, 44.95)],\n",
        "           [3, (\"5464\", 9, 9.99), (\"88112\", 11, 24.99)],\n",
        "           [4, (\"8732\", 7, 11.99), (\"7733\",11,18.99), (\"88112\", 5, 39.95)] ]\n",
        "min_order = 100\n",
        "invoice_totals = list(map(lambda x: [x[0]] + list(map(lambda y: y[1]*y[2], x[1:])), orders))\n",
        "invoice_totals = list(map(lambda x: [x[0]] + [reduce(lambda a,b: a + b, x[1:])], invoice_totals))\n",
        "invoice_totals = list(map(lambda x: x if x[1] >= min_order else (x[0], x[1] + 10), invoice_totals))\n",
        "print (invoice_totals)"
      ]
    }
  ],
  "metadata": {
    "colab": {
      "authorship_tag": "ABX9TyNp0alXliLZbyS9Z8BXtR2O",
      "include_colab_link": true,
      "name": "C_PC4_Lambda.ipynb",
      "provenance": []
    },
    "kernelspec": {
      "display_name": "Python 3.8.13 64-bit ('3.8.13')",
      "language": "python",
      "name": "python3"
    },
    "language_info": {
      "codemirror_mode": {
        "name": "ipython",
        "version": 3
      },
      "file_extension": ".py",
      "mimetype": "text/x-python",
      "name": "python",
      "nbconvert_exporter": "python",
      "pygments_lexer": "ipython3",
      "version": "3.8.13"
    },
    "vscode": {
      "interpreter": {
        "hash": "110cc1dee26208153f2972f08a2ad52b6a56238dc66d48e87fb757ef2996db56"
      }
    }
  },
  "nbformat": 4,
  "nbformat_minor": 0
}
