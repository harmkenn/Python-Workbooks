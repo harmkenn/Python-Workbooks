{
  "cells": [
    {
      "cell_type": "markdown",
      "metadata": {
        "id": "view-in-github",
        "colab_type": "text"
      },
      "source": [
        "<a href=\"https://colab.research.google.com/github/harmkenn/Python-Workbooks/blob/main/Current/C_PC03_Generators.ipynb\" target=\"_parent\"><img src=\"https://colab.research.google.com/assets/colab-badge.svg\" alt=\"Open In Colab\"/></a>"
      ]
    },
    {
      "cell_type": "code",
      "execution_count": null,
      "metadata": {
        "id": "UBcRiYU1rgbh"
      },
      "outputs": [],
      "source": [
        "# https://python-course.eu/advanced-python/generators-and-iterators.php"
      ]
    },
    {
      "cell_type": "code",
      "execution_count": null,
      "metadata": {
        "id": "g0WtyESJrgbl"
      },
      "outputs": [],
      "source": [
        "cities = [\"Paris\", \"Berlin\", \"Hamburg\", \n",
        "          \"Frankfurt\", \"London\", \"Vienna\", \n",
        "          \"Amsterdam\", \"Den Haag\"]\n",
        "for location in cities:\n",
        "    print(\"location: \" + location)"
      ]
    },
    {
      "cell_type": "code",
      "execution_count": null,
      "metadata": {
        "id": "PN7pgP2wrgbm"
      },
      "outputs": [],
      "source": [
        "def addup(n):\n",
        "    if n == 1:\n",
        "        pile = n\n",
        "    else:\n",
        "        pile = n\n",
        "        pile = pile + addup(n-1)\n",
        "\n",
        "    \n",
        "    return pile\n",
        "\n",
        "print(addup(10))"
      ]
    },
    {
      "cell_type": "code",
      "execution_count": null,
      "metadata": {
        "id": "GywMq5fargbn"
      },
      "outputs": [],
      "source": [
        "expertises = [\"Python Beginner\", \n",
        "              \"Python Intermediate\", \n",
        "              \"Python Proficient\", \n",
        "              \"Python Advanced\"]\n",
        "expertises_iterator = iter(expertises)\n",
        "print(\"Calling 'next' for the first time: \", next(expertises_iterator))\n",
        "print(\"Calling 'next' for the second time: \", next(expertises_iterator))\n",
        "print(\"Calling 'next' for the third time: \", next(expertises_iterator))"
      ]
    },
    {
      "cell_type": "code",
      "execution_count": null,
      "metadata": {
        "id": "PUPyXwYOrgbo"
      },
      "outputs": [],
      "source": [
        "other_cities = [\"Strasbourg\", \"Freiburg\", \"Stuttgart\", \n",
        "                \"Vienna / Wien\", \"Hannover\", \"Berlin\", \n",
        "                \"Zurich\"]\n",
        "\n",
        "city_iterator = iter(other_cities)\n",
        "while city_iterator:\n",
        "    city = next(city_iterator)\n",
        "    print(city)"
      ]
    },
    {
      "cell_type": "code",
      "execution_count": null,
      "metadata": {
        "id": "C-r5npLxrgbp",
        "outputId": "b85add37-b051-4107-b3a7-5d03819a0886"
      },
      "outputs": [
        {
          "name": "stdout",
          "output_type": "stream",
          "text": [
            "Strasbourg\n",
            "Freiburg\n",
            "Stuttgart\n",
            "Vienna / Wien\n",
            "Hannover\n",
            "Berlin\n",
            "Zurich\n"
          ]
        }
      ],
      "source": [
        "other_cities = [\"Strasbourg\", \"Freiburg\", \"Stuttgart\", \n",
        "                \"Vienna / Wien\", \"Hannover\", \"Berlin\", \n",
        "                \"Zurich\"]\n",
        "\n",
        "city_iterator = iter(other_cities)\n",
        "while city_iterator:\n",
        "    try:\n",
        "        city = next(city_iterator)\n",
        "        print(city)\n",
        "    except StopIteration:\n",
        "        break"
      ]
    },
    {
      "cell_type": "code",
      "execution_count": null,
      "metadata": {
        "id": "sJ2uCQV0rgbs",
        "outputId": "561cb3ee-27be-447b-a6c6-52ed9c086c21"
      },
      "outputs": [
        {
          "name": "stdout",
          "output_type": "stream",
          "text": [
            "The capital city of France is Paris\n",
            "The capital city of Netherlands is Amsterdam\n",
            "The capital city of Germany is Berlin\n",
            "The capital city of Switzerland is Bern\n",
            "The capital city of Austria is Vienna\n"
          ]
        }
      ],
      "source": [
        "capitals = { \n",
        "    \"France\":\"Paris\", \n",
        "    \"Netherlands\":\"Amsterdam\", \n",
        "    \"Germany\":\"Berlin\", \n",
        "    \"Switzerland\":\"Bern\", \n",
        "    \"Austria\":\"Vienna\"}\n",
        "\n",
        "for country in capitals:\n",
        "     print(\"The capital city of \" + country + \" is \" + capitals[country])"
      ]
    },
    {
      "cell_type": "code",
      "execution_count": null,
      "metadata": {
        "id": "3_yN2xZgrgbt",
        "outputId": "1a099234-2f33-4816-af1b-dc1b14366754"
      },
      "outputs": [
        {
          "name": "stdout",
          "output_type": "stream",
          "text": [
            "a, b, c, a, b, c, a, b, c, a, "
          ]
        }
      ],
      "source": [
        "class Cycle(object):\n",
        "    \n",
        "    def __init__(self, iterable):\n",
        "        self.iterable = iterable\n",
        "        self.iter_obj = iter(iterable)\n",
        "\n",
        "    def __iter__(self):\n",
        "        return self\n",
        "\n",
        "    def __next__(self):\n",
        "        while True:\n",
        "            try:\n",
        "                next_obj = next(self.iter_obj)\n",
        "                return next_obj\n",
        "            except StopIteration:\n",
        "                self.iter_obj = iter(self.iterable)\n",
        "x = Cycle(\"abc\")\n",
        "for i in range(10):\n",
        "    print(next(x), end=\", \")"
      ]
    },
    {
      "cell_type": "code",
      "execution_count": null,
      "metadata": {
        "id": "qDEhNUzsrgbu",
        "outputId": "04931951-c270-43ad-a743-54e6367b204c"
      },
      "outputs": [
        {
          "name": "stdout",
          "output_type": "stream",
          "text": [
            "Hamburg\n"
          ]
        }
      ],
      "source": [
        "def city_generator():\n",
        "    yield \"Hamburg\"\n",
        "    yield \"Konstanz\"\n",
        "    yield \"Berlin\"\n",
        "    yield \"Zurich\"\n",
        "    yield \"Schaffhausen\"\n",
        "    yield \"Stuttgart\" \n",
        "city = city_generator()\n",
        "print(next(city))"
      ]
    },
    {
      "cell_type": "code",
      "execution_count": null,
      "metadata": {
        "id": "tCzRaDJmrgbv",
        "outputId": "c17215f9-6465-4176-a8d5-45618e3c003a"
      },
      "outputs": [
        {
          "name": "stdout",
          "output_type": "stream",
          "text": [
            "0, 1, 2, 3, 4, 5, 6, 7, 8, 9, \n",
            "New counter:\n",
            "2.10, 2.40, 2.70, 3.00, 3.30, 3.60, 3.90, 4.20, 4.50, 4.80, "
          ]
        }
      ],
      "source": [
        "def count(firstval=0, step=1):\n",
        "    x = firstval\n",
        "    while True:\n",
        "        yield x\n",
        "        x += step\n",
        "        \n",
        "counter = count() # count will start with 0\n",
        "for i in range(10):\n",
        "    print(next(counter), end=\", \")\n",
        "\n",
        "start_value = 2.1\n",
        "step_value = 0.3\n",
        "print(\"\\nNew counter:\")\n",
        "counter = count(start_value, step_value)\n",
        "for i in range(10):\n",
        "    new_value = next(counter)\n",
        "    print(f\"{new_value:2.2f}\", end=\", \")"
      ]
    },
    {
      "cell_type": "code",
      "execution_count": null,
      "metadata": {
        "id": "KTQ9tw34rgbw",
        "outputId": "e3af0652-88f7-4e84-a1ed-37998e03de6b"
      },
      "outputs": [
        {
          "name": "stdout",
          "output_type": "stream",
          "text": [
            "0  1  1  2  3  5  "
          ]
        }
      ],
      "source": [
        "def fibonacci(n):\n",
        "    \"\"\" A generator for creating the Fibonacci numbers \"\"\"\n",
        "    a, b, counter = 0, 1, 0\n",
        "    while True:\n",
        "        if (counter > n): \n",
        "            return\n",
        "        yield a\n",
        "        a, b = b, a + b\n",
        "        counter += 1\n",
        "f = fibonacci(5)\n",
        "for x in f:\n",
        "    print(x, \" \", end=\"\") # \n"
      ]
    },
    {
      "cell_type": "code",
      "execution_count": null,
      "metadata": {
        "id": "02YQ7GNFrgbx",
        "outputId": "bb619d42-c325-44f0-ffeb-f99f08a0666e"
      },
      "outputs": [
        {
          "name": "stdout",
          "output_type": "stream",
          "text": [
            "0  1  1  2  3  5  8  13  21  34  55  89  144  233  377  610  987  1597  2584  4181  6765  "
          ]
        }
      ],
      "source": [
        "def fibonacci():\n",
        "    \"\"\"Generates an infinite sequence of Fibonacci numbers on demand\"\"\"\n",
        "    a, b = 0, 1\n",
        "    while True:\n",
        "        yield a\n",
        "        a, b = b, a + b\n",
        "\n",
        "f = fibonacci()\n",
        "\n",
        "counter = 0\n",
        "for x in f:\n",
        "    print(x, \" \", end=\"\")\n",
        "    counter += 1\n",
        "    if (counter > 20): \n",
        "        break "
      ]
    },
    {
      "cell_type": "code",
      "execution_count": null,
      "metadata": {
        "id": "wVzFPHZargby",
        "outputId": "68a17640-4cc2-4fc9-d1b5-dad07a5df6c8"
      },
      "outputs": [
        {
          "name": "stdout",
          "output_type": "stream",
          "text": [
            "2.10, 2.40, 2.70, 3.00, 3.30, 3.60, 3.90, 4.20, 4.50, 4.80, \n",
            "set current count value to another value:\n",
            "100.80, 101.10, 101.40, 101.70, 102.00, 102.30, 102.60, 102.90, 103.20, 103.50, "
          ]
        }
      ],
      "source": [
        "def count(firstval=0, step=1):\n",
        "    counter = firstval\n",
        "    while True:\n",
        "        new_counter_val = yield counter\n",
        "        if new_counter_val is None:\n",
        "            counter += step\n",
        "        else:\n",
        "            counter = new_counter_val\n",
        "            \n",
        "start_value = 2.1\n",
        "step_value = 0.3\n",
        "counter = count(start_value, step_value) \n",
        "for i in range(10):\n",
        "    new_value = next(counter)\n",
        "    print(f\"{new_value:2.2f}\", end=\", \")\n",
        "print() \n",
        "print(\"set current count value to another value:\")\n",
        "counter.send(100.5)\n",
        "for i in range(10):\n",
        "    new_value = next(counter)\n",
        "    print(f\"{new_value:2.2f}\", end=\", \")"
      ]
    },
    {
      "cell_type": "code",
      "execution_count": null,
      "metadata": {
        "id": "tKf2DfFgrgbz"
      },
      "outputs": [],
      "source": [
        "from random import choice\n",
        "\n",
        "def song_generator(song_list):\n",
        "    new_song = None\n",
        "    while True:\n",
        "        if new_song != None:\n",
        "            if new_song not in song_list:\n",
        "                song_list.append(new_song)\n",
        "            new_song = yield new_song\n",
        "        else:\n",
        "            new_song = yield choice(song_list)           \n",
        "\n",
        "songs = [\"Her Şeyi Yak - Sezen Aksu\", \n",
        "         \"Bluesette - Toots Thielemans\",\n",
        "         \"Six Marimbas - Steve Reich\",\n",
        "         \"Riverside - Agnes Obel\",\n",
        "         \"Not for Radio - Nas\",\n",
        "         \"What's going on - Taste\",\n",
        "         \"On Stream - Nils Petter Molvær\",\n",
        "         \"La' Inta Habibi - Fayrouz\",\n",
        "         \"Ik Leef Niet Meer Voor Jou - Marco Borsato\",\n",
        "         \"Δέκα λεπτά - Αθηνά Ανδρεάδη\"]"
      ]
    },
    {
      "cell_type": "code",
      "execution_count": null,
      "metadata": {
        "id": "mwx1dv6Srgbz",
        "outputId": "0bde527b-fde0-47d6-c74b-8e74760289da"
      },
      "outputs": [
        {
          "data": {
            "text/plain": [
              "\"What's going on - Taste\""
            ]
          },
          "execution_count": 18,
          "metadata": {},
          "output_type": "execute_result"
        }
      ],
      "source": [
        "radio_program = song_generator(songs)\n",
        "next(radio_program)"
      ]
    },
    {
      "cell_type": "code",
      "execution_count": null,
      "metadata": {
        "id": "THW5t6P_rgb0",
        "outputId": "d6cd1c34-13d4-49e9-98df-30c52413dd8a"
      },
      "outputs": [
        {
          "name": "stdout",
          "output_type": "stream",
          "text": [
            "Six Marimbas - Steve Reich\n",
            "La' Inta Habibi - Fayrouz\n",
            "On Stream - Nils Petter Molvær\n"
          ]
        }
      ],
      "source": [
        "for i in range(3):\n",
        "    print(next(radio_program))"
      ]
    },
    {
      "cell_type": "code",
      "execution_count": null,
      "metadata": {
        "id": "OzIeOajzrgb0",
        "outputId": "02ddb96a-55ea-46c5-a217-862529b8fdba"
      },
      "outputs": [
        {
          "data": {
            "text/plain": [
              "'Distorted Angels - Archive'"
            ]
          },
          "execution_count": 20,
          "metadata": {},
          "output_type": "execute_result"
        }
      ],
      "source": [
        "radio_program.send(\"Distorted Angels - Archive\")"
      ]
    },
    {
      "cell_type": "code",
      "execution_count": null,
      "metadata": {
        "id": "6lN8bIcyrgb1",
        "outputId": "9605e11f-d43d-44bf-a797-f3c82ee457d4"
      },
      "outputs": [
        {
          "data": {
            "text/plain": [
              "['Her Şeyi Yak - Sezen Aksu',\n",
              " 'Bluesette - Toots Thielemans',\n",
              " 'Six Marimbas - Steve Reich',\n",
              " 'Riverside - Agnes Obel',\n",
              " 'Not for Radio - Nas',\n",
              " \"What's going on - Taste\",\n",
              " 'On Stream - Nils Petter Molvær',\n",
              " \"La' Inta Habibi - Fayrouz\",\n",
              " 'Ik Leef Niet Meer Voor Jou - Marco Borsato',\n",
              " 'Δέκα λεπτά - Αθηνά Ανδρεάδη',\n",
              " 'Distorted Angels - Archive']"
            ]
          },
          "execution_count": 21,
          "metadata": {},
          "output_type": "execute_result"
        }
      ],
      "source": [
        "songs"
      ]
    },
    {
      "cell_type": "code",
      "source": [
        "from random import choice\n",
        "def song_generator(song_list):\n",
        "    new_song = None\n",
        "    while True:\n",
        "        if new_song != None:\n",
        "            if new_song[0] == \"-songlist-\":\n",
        "                song_list = new_song[1]\n",
        "                new_song = yield choice(song_list)\n",
        "            else:\n",
        "                title, performer = new_song\n",
        "                new_song = title + \" - \" + performer\n",
        "                if new_song not in song_list:\n",
        "                    song_list.append(new_song)\n",
        "                new_song = yield new_song\n",
        "        else:\n",
        "            new_song = yield choice(song_list) \n",
        "songs1 = [\"Après un Rêve - Gabriel Fauré\"\n",
        "         \"On Stream - Nils Petter Molvær\",\n",
        "         \"Der Wanderer Michael - Michael Wollny\",\n",
        "         \"Les barricades mystérieuses - Barbara Thompson\",\n",
        "         \"Monday - Ludovico Einaudi\"]\n",
        "\n",
        "songs2 = [\"Dünyadan Uzak - Pinhani\", \n",
        "          \"Again - Archive\",\n",
        "          \"If I had a Hear - Fever Ray\"\n",
        "          \"Every you, every me - Placebo\",\n",
        "          \"Familiar - Angnes Obel\"]\n",
        "radio_prog = song_generator(songs1)\n",
        "for i in range(5):\n",
        "    print(next(radio_prog))"
      ],
      "metadata": {
        "id": "188Nr3g-rysX",
        "outputId": "44466c03-02f5-45d5-dd36-327a9aa785e4",
        "colab": {
          "base_uri": "https://localhost:8080/"
        }
      },
      "execution_count": null,
      "outputs": [
        {
          "output_type": "stream",
          "name": "stdout",
          "text": [
            "Der Wanderer Michael - Michael Wollny\n",
            "Monday - Ludovico Einaudi\n",
            "Après un Rêve - Gabriel FauréOn Stream - Nils Petter Molvær\n",
            "Les barricades mystérieuses - Barbara Thompson\n",
            "Les barricades mystérieuses - Barbara Thompson\n"
          ]
        }
      ]
    },
    {
      "cell_type": "code",
      "source": [
        "def count(firstval=0, step=1):\n",
        "    counter = firstval\n",
        "    while True:\n",
        "        try:\n",
        "            new_counter_val = yield counter\n",
        "            if new_counter_val is None:\n",
        "                counter += step\n",
        "            else:\n",
        "                counter = new_counter_val\n",
        "        except Exception:\n",
        "            yield (firstval, step, counter)\n",
        "\n",
        "c = count()\n",
        "for i in range(6):\n",
        "    print(next(c))\n",
        "print(\"Let us see what the state of the iterator is:\")\n",
        "state_of_count = c.throw(Exception)\n",
        "print(state_of_count)\n",
        "print(\"now, we can continue:\")\n",
        "for i in range(3):\n",
        "    print(next(c))"
      ],
      "metadata": {
        "id": "V-YdPO9Ntf_S",
        "outputId": "1f062849-a138-411e-d794-89e8473d0710",
        "colab": {
          "base_uri": "https://localhost:8080/"
        }
      },
      "execution_count": null,
      "outputs": [
        {
          "output_type": "stream",
          "name": "stdout",
          "text": [
            "0\n",
            "1\n",
            "2\n",
            "3\n",
            "4\n",
            "5\n",
            "Let us see what the state of the iterator is:\n",
            "(0, 1, 5)\n",
            "now, we can continue:\n",
            "5\n",
            "6\n",
            "7\n"
          ]
        }
      ]
    },
    {
      "cell_type": "code",
      "source": [
        "class StateOfGenerator(Exception):\n",
        "     def __init__(self, message=None):\n",
        "         self.message = message\n",
        "\n",
        "def count(firstval=0, step=1):\n",
        "    counter = firstval\n",
        "    while True:\n",
        "        try:\n",
        "            new_counter_val = yield counter\n",
        "            if new_counter_val is None:\n",
        "                counter += step\n",
        "            else:\n",
        "                counter = new_counter_val\n",
        "        except StateOfGenerator:\n",
        "            yield (firstval, step, counter)\n",
        "\n",
        "c = count()\n",
        "for i in range(3):\n",
        "    print(next(c))\n",
        "print(\"Let us see what the state of the iterator is:\")\n",
        "i = c.throw(StateOfGenerator)\n",
        "print(i)\n",
        "print(\"now, we can continue:\")\n",
        "for i in range(3):\n",
        "    print(next(c))"
      ],
      "metadata": {
        "id": "GRRwxJGiG2du",
        "outputId": "e29ece60-3ba2-43b0-feff-07c6b1827094",
        "colab": {
          "base_uri": "https://localhost:8080/"
        }
      },
      "execution_count": null,
      "outputs": [
        {
          "output_type": "stream",
          "name": "stdout",
          "text": [
            "0\n",
            "1\n",
            "2\n",
            "Let us see what the state of the iterator is:\n",
            "(0, 1, 2)\n",
            "now, we can continue:\n",
            "2\n",
            "3\n",
            "4\n"
          ]
        }
      ]
    },
    {
      "cell_type": "code",
      "source": [
        "def gen1():\n",
        "    for char in \"Python\":\n",
        "        yield char\n",
        "    for i in range(5):\n",
        "        yield i\n",
        "\n",
        "def gen2():\n",
        "    yield from \"Python\"\n",
        "    yield from range(5)\n",
        "\n",
        "g1 = gen1()\n",
        "g2 = gen2()\n",
        "print(\"g1: \", end=\", \")\n",
        "for x in g1:\n",
        "    print(x, end=\", \")\n",
        "print(\"\\ng2: \", end=\", \")\n",
        "for x in g2:\n",
        "    print(x, end=\", \")\n",
        "print()"
      ],
      "metadata": {
        "id": "J5Pw8QZRG9ro",
        "outputId": "43a88693-c06c-4716-c4ae-85ddd0e8ffe9",
        "colab": {
          "base_uri": "https://localhost:8080/"
        }
      },
      "execution_count": null,
      "outputs": [
        {
          "output_type": "stream",
          "name": "stdout",
          "text": [
            "g1: , P, y, t, h, o, n, 0, 1, 2, 3, 4, \n",
            "g2: , P, y, t, h, o, n, 0, 1, 2, 3, 4, \n"
          ]
        }
      ]
    },
    {
      "cell_type": "code",
      "source": [
        "def cities():\n",
        "    for city in [\"Berlin\", \"Hamburg\", \"Munich\", \"Freiburg\"]:\n",
        "        yield city\n",
        "\n",
        "def squares():\n",
        "    for number in range(10):\n",
        "        yield number ** 2\n",
        "        \n",
        "def generator_all_in_one():\n",
        "    for city in cities():\n",
        "        yield city\n",
        "    for number in squares():\n",
        "        yield number\n",
        "        \n",
        "def generator_splitted():\n",
        "    yield from cities()\n",
        "    yield from squares()\n",
        "    \n",
        "lst1 = [el for el in generator_all_in_one()]\n",
        "lst2 = [el for el in generator_splitted()]\n",
        "print(lst1 == lst2)"
      ],
      "metadata": {
        "id": "ptcAIZxBHBmX",
        "outputId": "227ab708-ec28-4999-c5d5-6cd75011efc6",
        "colab": {
          "base_uri": "https://localhost:8080/"
        }
      },
      "execution_count": null,
      "outputs": [
        {
          "output_type": "stream",
          "name": "stdout",
          "text": [
            "True\n"
          ]
        }
      ]
    },
    {
      "cell_type": "code",
      "source": [
        "def subgenerator():\n",
        "    yield 1\n",
        "    return 42\n",
        "\n",
        "def delegating_generator():\n",
        "    x = yield from subgenerator()\n",
        "    print(x)\n",
        "\n",
        "for x in delegating_generator():\n",
        "    print(x)"
      ],
      "metadata": {
        "id": "rVjqS5jkHFgt"
      },
      "execution_count": null,
      "outputs": []
    },
    {
      "cell_type": "code",
      "source": [
        "def permutations(items):\n",
        "    n = len(items)\n",
        "    if n==0: yield []\n",
        "    else:\n",
        "        for i in range(len(items)):\n",
        "            for cc in permutations(items[:i]+items[i+1:]):\n",
        "                yield [items[i]]+cc\n",
        "\n",
        "for p in permutations(['r','e','d']): print(''.join(p))\n",
        "for p in permutations(list(\"game\")): print(''.join(p) + \", \", end=\"\")"
      ],
      "metadata": {
        "id": "8R41EQwfTbE6"
      },
      "execution_count": null,
      "outputs": []
    },
    {
      "cell_type": "code",
      "source": [
        "import itertools\n",
        "perms = itertools.permutations(['r','e','d'])\n",
        "list(perms)"
      ],
      "metadata": {
        "id": "Tg75XFEjTdzw"
      },
      "execution_count": null,
      "outputs": []
    },
    {
      "cell_type": "code",
      "source": [
        "def k_permutations(items, n):\n",
        "    if n==0: \n",
        "        yield []\n",
        "    else:\n",
        "        for item in items:\n",
        "            for kp in k_permutations(items, n-1):\n",
        "                if item not in kp:\n",
        "                    yield [item] + kp\n",
        "                    \n",
        "for kp in k_permutations(\"abcd\", 3):\n",
        "    print(kp) "
      ],
      "metadata": {
        "id": "lTXaLgpRTgQg"
      },
      "execution_count": null,
      "outputs": []
    },
    {
      "cell_type": "code",
      "source": [
        "def firstn(generator, n):\n",
        "    g = generator()\n",
        "    for i in range(n):\n",
        "        yield next(g)\n",
        "\n",
        "\n",
        "def fibonacci():\n",
        "    \"\"\" A Fibonacci number generator \"\"\"\n",
        "    a, b = 0, 1\n",
        "    while True:\n",
        "        yield a\n",
        "        a, b = b, a + b\n",
        "\n",
        "print(list(firstn(fibonacci, 10)))  "
      ],
      "metadata": {
        "colab": {
          "base_uri": "https://localhost:8080/"
        },
        "id": "ICMGvRGnTiYY",
        "outputId": "98db070e-bc73-42b7-f6b5-d3cf796e07d2"
      },
      "execution_count": 9,
      "outputs": [
        {
          "output_type": "stream",
          "name": "stdout",
          "text": [
            "[0, 1, 1, 2, 3, 5, 8, 13, 21, 34]\n"
          ]
        }
      ]
    },
    {
      "cell_type": "code",
      "source": [
        "def running_average():\n",
        "    total = 0.0\n",
        "    counter = 0\n",
        "    average = None\n",
        "    while True:\n",
        "        term = yield average\n",
        "        total += term\n",
        "        counter += 1\n",
        "        average = total / counter\n",
        "\n",
        "\n",
        "ra = running_average()  # initialize the coroutine\n",
        "next(ra)                # we have to start the coroutine\n",
        "for value in [7, 13, 17, 231, 12, 8, 3]:\n",
        "    out_str = \"sent: {val:3d}, new average: {avg:6.2f}\"\n",
        "    print(out_str.format(val=value, avg=ra.send(value)))"
      ],
      "metadata": {
        "colab": {
          "base_uri": "https://localhost:8080/"
        },
        "id": "Bs3leQTCTrBJ",
        "outputId": "3ea34ab8-d97f-4065-f45f-e2ddff9fbf5e"
      },
      "execution_count": 10,
      "outputs": [
        {
          "output_type": "stream",
          "name": "stdout",
          "text": [
            "sent:   7, new average:   7.00\n",
            "sent:  13, new average:  10.00\n",
            "sent:  17, new average:  12.33\n",
            "sent: 231, new average:  67.00\n",
            "sent:  12, new average:  56.00\n",
            "sent:   8, new average:  48.00\n",
            "sent:   3, new average:  41.57\n"
          ]
        }
      ]
    },
    {
      "cell_type": "code",
      "source": [
        "def frange(*args):\n",
        "    \"\"\"  dfgdg \"\"\"\n",
        "    startval = 0\n",
        "    stepsize = 1    \n",
        "    if len(args) == 1:\n",
        "        endval = args[0]\n",
        "    elif len(args) == 2:\n",
        "        startval, endval = args \n",
        "    elif len(args) == 3:\n",
        "        startval, endval, stepsize = args\n",
        "    else:\n",
        "        txt = \"range expected at most 3 arguments, got \" + len(args)\n",
        "        raise TypeError(txt)\n",
        "    \n",
        "    value = startval\n",
        "    factor = -1 if stepsize < 0 else 1\n",
        "    while (value - endval) * (factor) < 0:\n",
        "        yield value\n",
        "        value += stepsize\n",
        "\n",
        "\n",
        "for i in frange(5.6):\n",
        "    print(i, end=\", \")\n",
        "print()\n",
        "for i in frange(0.3, 5.6):\n",
        "    print(i, end=\", \")\n",
        "print()\n",
        "for i in frange(0.3, 5.6, 0.8):\n",
        "    print(i, end=\", \")\n",
        "print()"
      ],
      "metadata": {
        "id": "Lu2lyd0HT5Yp",
        "outputId": "a1ce7772-5712-4a14-8cb9-d4362bea2b91",
        "colab": {
          "base_uri": "https://localhost:8080/"
        }
      },
      "execution_count": 11,
      "outputs": [
        {
          "output_type": "stream",
          "name": "stdout",
          "text": [
            "0, 1, 2, 3, 4, 5, \n",
            "0.3, 1.3, 2.3, 3.3, 4.3, 5.3, \n",
            "0.3, 1.1, 1.9000000000000001, 2.7, 3.5, 4.3, 5.1, \n"
          ]
        }
      ]
    },
    {
      "cell_type": "code",
      "source": [
        "\n",
        "%%writefile timerange.py\n",
        "\n",
        "\n",
        "def trange(start, stop, step):\n",
        "    \"\"\" \n",
        "    trange(stop) -> time as a 3-tuple (hours, minutes, seconds)\n",
        "    trange(start, stop[, step]) -> time tuple\n",
        "\n",
        "    start: time tuple (hours, minutes, seconds)\n",
        "    stop: time tuple\n",
        "    step: time tuple\n",
        "\n",
        "    returns a sequence of time tuples from start to stop incremented by step\n",
        "    \"\"\"        \n",
        "\n",
        "    current = list(start)\n",
        "    while current < list(stop):\n",
        "        yield tuple(current)\n",
        "        seconds = step[2] + current[2]\n",
        "        min_borrow = 0\n",
        "        hours_borrow = 0\n",
        "        if seconds < 60:\n",
        "            current[2] = seconds\n",
        "        else:\n",
        "            current[2] = seconds - 60\n",
        "            min_borrow = 1\n",
        "        minutes = step[1] + current[1] + min_borrow\n",
        "        if minutes < 60:\n",
        "            current[1] = minutes \n",
        "        else:\n",
        "            current[1] = minutes - 60\n",
        "            hours_borrow = 1\n",
        "        hours = step[0] + current[0] + hours_borrow\n",
        "        if hours < 24:\n",
        "            current[0] = hours \n",
        "        else:\n",
        "            current[0] = hours - 24\n",
        "\n",
        "from timerange import trange\n",
        "\n",
        "for time in trange((10, 10, 10), (19, 53, 15), (1, 24, 12) ):\n",
        "    print(time)   \n",
        "\n",
        "def trange(start, stop, step):\n",
        "    \"\"\" \n",
        "    trange(stop) -> time as a 3-tuple (hours, minutes, seconds)\n",
        "    trange(start, stop[, step]) -> time tuple\n",
        "\n",
        "    start: time tuple (hours, minutes, seconds)\n",
        "    stop: time tuple\n",
        "    step: time tuple\n",
        "\n",
        "    returns a sequence of time tuples from start to stop incremented by step\n",
        "    \"\"\"        \n",
        "\n",
        "    current = list(start)\n",
        "    while current < list(stop):\n",
        "        yield tuple(current)\n",
        "        seconds = step[2] + current[2]\n",
        "        min_borrow = 0\n",
        "        hours_borrow = 0\n",
        "        if seconds < 60:\n",
        "            current[2] = seconds\n",
        "        else:\n",
        "            current[2] = seconds - 60\n",
        "            min_borrow = 1\n",
        "        minutes = step[1] + current[1] + min_borrow\n",
        "        if minutes < 60:\n",
        "            current[1] = minutes \n",
        "        else:\n",
        "            current[1] = minutes - 60\n",
        "            hours_borrow = 1\n",
        "        hours = step[0] + current[0] + hours_borrow\n",
        "        if hours < 24:\n",
        "            current[0] = hours \n",
        "        else:\n",
        "            current[0] = hours - 24\n",
        "\n",
        "from timerange import trange\n",
        "\n",
        "for time in trange((10, 10, 10), (19, 53, 15), (1, 24, 12) ):\n",
        "    print(time)   "
      ],
      "metadata": {
        "id": "vvW3AfEoT_7J",
        "outputId": "80553de5-732e-4b42-de12-ca75cc882626",
        "colab": {
          "base_uri": "https://localhost:8080/"
        }
      },
      "execution_count": 13,
      "outputs": [
        {
          "output_type": "stream",
          "name": "stdout",
          "text": [
            "Writing timerange.py\n"
          ]
        }
      ]
    },
    {
      "cell_type": "code",
      "source": [
        "from timerange import trange\n",
        "\n",
        "for time in trange((10, 10, 10), (19, 53, 15), (1, 24, 12) ):\n",
        "    print(time)  "
      ],
      "metadata": {
        "id": "K6a8qzfSUSyx",
        "outputId": "f9c56b8a-8b72-493e-f5a1-ac1dd69eb379",
        "colab": {
          "base_uri": "https://localhost:8080/"
        }
      },
      "execution_count": 14,
      "outputs": [
        {
          "output_type": "stream",
          "name": "stdout",
          "text": [
            "(10, 10, 10)\n",
            "(11, 34, 22)\n",
            "(12, 58, 34)\n",
            "(14, 22, 46)\n",
            "(15, 46, 58)\n",
            "(17, 11, 10)\n",
            "(18, 35, 22)\n",
            "(10, 10, 10)\n",
            "(11, 34, 22)\n",
            "(12, 58, 34)\n",
            "(14, 22, 46)\n",
            "(15, 46, 58)\n",
            "(17, 11, 10)\n",
            "(18, 35, 22)\n",
            "(10, 10, 10)\n",
            "(11, 34, 22)\n",
            "(12, 58, 34)\n",
            "(14, 22, 46)\n",
            "(15, 46, 58)\n",
            "(17, 11, 10)\n",
            "(18, 35, 22)\n"
          ]
        }
      ]
    },
    {
      "cell_type": "code",
      "source": [
        "%%writefile rtimerange.py\n",
        "\n",
        "def rtrange(start, stop, step):\n",
        "        \"\"\" \n",
        "        trange(stop) -> time as a 3-tuple (hours, minutes, seconds)\n",
        "        trange(start, stop[, step]) -> time tuple\n",
        "\n",
        "        start: time tuple (hours, minutes, seconds)\n",
        "        stop: time tuple\n",
        "        step: time tuple\n",
        "\n",
        "        returns a sequence of time tuples from start to stop incremented by step\n",
        "        \n",
        "        The generator can be reset by sending a new \"start\" value.\n",
        "        \"\"\"        \n",
        "\n",
        "        current = list(start)\n",
        "        while current < list(stop):\n",
        "            new_start = yield tuple(current)\n",
        "            if new_start != None:\n",
        "                current = list(new_start)\n",
        "                continue\n",
        "            seconds = step[2] + current[2]\n",
        "            min_borrow = 0\n",
        "            hours_borrow = 0\n",
        "            if seconds < 60:\n",
        "                current[2] = seconds\n",
        "            else:\n",
        "                current[2] = seconds - 60\n",
        "                min_borrow = 1\n",
        "            minutes = step[1] + current[1] + min_borrow\n",
        "            if minutes < 60:\n",
        "                current[1] = minutes \n",
        "            else:\n",
        "                current[1] = minutes - 60\n",
        "                hours_borrow = 1\n",
        "            hours = step[0] + current[0] + hours_borrow\n",
        "            if hours < 24:\n",
        "                current[0] = hours \n",
        "            else:\n",
        "                current[0] = hours -24"
      ],
      "metadata": {
        "id": "fpVYISU2Ubvx",
        "outputId": "8afdd194-bb49-4fc1-87d7-1931e550fe80",
        "colab": {
          "base_uri": "https://localhost:8080/"
        }
      },
      "execution_count": 15,
      "outputs": [
        {
          "output_type": "stream",
          "name": "stdout",
          "text": [
            "Writing rtimerange.py\n"
          ]
        }
      ]
    },
    {
      "cell_type": "code",
      "source": [
        "from rtimerange import rtrange\n",
        "\n",
        "        \n",
        "ts = rtrange((10, 10, 10), (17, 50, 15), (1, 15, 12) )  \n",
        "for _ in range(3):\n",
        "    print(next(ts))\n",
        "\n",
        "print(ts.send((8, 5, 50)))\n",
        "for _ in range(3):\n",
        "    print(next(ts))"
      ],
      "metadata": {
        "id": "FHwu6lcWUhLJ",
        "outputId": "41864b2c-58a3-4ced-f579-98497c19dda9",
        "colab": {
          "base_uri": "https://localhost:8080/"
        }
      },
      "execution_count": 16,
      "outputs": [
        {
          "output_type": "stream",
          "name": "stdout",
          "text": [
            "(10, 10, 10)\n",
            "(11, 25, 22)\n",
            "(12, 40, 34)\n",
            "(8, 5, 50)\n",
            "(9, 21, 2)\n",
            "(10, 36, 14)\n",
            "(11, 51, 26)\n"
          ]
        }
      ]
    },
    {
      "cell_type": "code",
      "source": [
        "from timerange import trange\n",
        "import random\n",
        "\n",
        "fh = open(\"times_and_temperatures.txt\", \"w\")\n",
        "\n",
        "for time in trange((6, 0, 0), (23, 0, 0), (0, 1, 30) ):\n",
        "    random_number = random.randint(100, 250) / 10\n",
        "    lst = time + (random_number,)\n",
        "    output = \"{:02d}:{:02d}:{:02d} {:4.1f}\\n\".format(*lst)\n",
        "    fh.write(output)"
      ],
      "metadata": {
        "id": "zUZseVYoUmAJ"
      },
      "execution_count": 17,
      "outputs": []
    },
    {
      "cell_type": "code",
      "source": [
        "import random\n",
        "\n",
        "def random_ones_and_zeros():\n",
        "    p = 0.5\n",
        "    while True:\n",
        "        x = random.random()\n",
        "        message = yield 1 if x < p else 0\n",
        "        if message != None:\n",
        "            p = message\n",
        "            \n",
        "x = random_ones_and_zeros()\n",
        "next(x)  # we are not interested in the return value\n",
        "for p in [0.2, 0.8]:\n",
        "    print(\"\\nWe change the probability to : \" + str(p))\n",
        "    x.send(p)    \n",
        "    for i in range(20):\n",
        "        print(next(x), end=\" \")\n",
        "print()"
      ],
      "metadata": {
        "id": "EhDp6RCsUrYb",
        "outputId": "6f31373f-c5bd-49d6-f87f-9372f44aa9a2",
        "colab": {
          "base_uri": "https://localhost:8080/"
        }
      },
      "execution_count": 18,
      "outputs": [
        {
          "output_type": "stream",
          "name": "stdout",
          "text": [
            "\n",
            "We change the probability to : 0.2\n",
            "0 1 0 0 0 0 0 0 0 0 1 0 0 0 0 0 0 0 0 0 \n",
            "We change the probability to : 0.8\n",
            "1 0 0 1 1 1 1 1 1 1 1 1 1 1 1 0 1 1 1 1 \n"
          ]
        }
      ]
    },
    {
      "cell_type": "code",
      "source": [
        "def cycle(iterable):\n",
        "    # cycle('ABCD') --> A B C D A B C D A B C D ...\n",
        "    saved = []\n",
        "    for element in iterable:\n",
        "        yield element\n",
        "        saved.append(element)\n",
        "    while saved:\n",
        "        for element in saved:\n",
        "              yield element\n",
        "                \n",
        "countries = [\"Germany\", \"Switzerland\", \"Austria\"]\n",
        "country_iterator = cycle(countries)\n",
        "for i in range(7):\n",
        "    print(next(country_iterator))"
      ],
      "metadata": {
        "id": "xohOq17FU0UE",
        "outputId": "6ed4f2ad-489f-4fff-9c21-4bf7bcfa7cf6",
        "colab": {
          "base_uri": "https://localhost:8080/"
        }
      },
      "execution_count": 19,
      "outputs": [
        {
          "output_type": "stream",
          "name": "stdout",
          "text": [
            "Germany\n",
            "Switzerland\n",
            "Austria\n",
            "Germany\n",
            "Switzerland\n",
            "Austria\n",
            "Germany\n"
          ]
        }
      ]
    }
  ],
  "metadata": {
    "kernelspec": {
      "display_name": "Python 3.8.13 64-bit ('3.8.13')",
      "language": "python",
      "name": "python3"
    },
    "language_info": {
      "codemirror_mode": {
        "name": "ipython",
        "version": 3
      },
      "file_extension": ".py",
      "mimetype": "text/x-python",
      "name": "python",
      "nbconvert_exporter": "python",
      "pygments_lexer": "ipython3",
      "version": "3.8.13"
    },
    "orig_nbformat": 4,
    "vscode": {
      "interpreter": {
        "hash": "110cc1dee26208153f2972f08a2ad52b6a56238dc66d48e87fb757ef2996db56"
      }
    },
    "colab": {
      "name": "Copy of C_PC03_Generators.ipynb",
      "provenance": [],
      "include_colab_link": true
    }
  },
  "nbformat": 4,
  "nbformat_minor": 0
}