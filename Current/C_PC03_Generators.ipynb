{
  "cells": [
    {
      "cell_type": "code",
      "execution_count": null,
      "metadata": {
        "id": "UBcRiYU1rgbh"
      },
      "outputs": [],
      "source": [
        "# https://python-course.eu/advanced-python/generators-and-iterators.php"
      ]
    },
    {
      "cell_type": "code",
      "execution_count": null,
      "metadata": {
        "id": "g0WtyESJrgbl"
      },
      "outputs": [],
      "source": [
        "cities = [\"Paris\", \"Berlin\", \"Hamburg\", \n",
        "          \"Frankfurt\", \"London\", \"Vienna\", \n",
        "          \"Amsterdam\", \"Den Haag\"]\n",
        "for location in cities:\n",
        "    print(\"location: \" + location)"
      ]
    },
    {
      "cell_type": "code",
      "execution_count": 1,
      "metadata": {
        "id": "PN7pgP2wrgbm",
        "colab": {
          "base_uri": "https://localhost:8080/"
        },
        "outputId": "40affd76-1a4b-4ed8-b2fe-eaec5e298435"
      },
      "outputs": [
        {
          "output_type": "stream",
          "name": "stdout",
          "text": [
            "55\n"
          ]
        }
      ],
      "source": [
        "def addup(n):\n",
        "    if n == 1:\n",
        "        pile = n\n",
        "    else:\n",
        "        pile = n\n",
        "        pile = pile + addup(n-1)\n",
        "\n",
        "    \n",
        "    return pile\n",
        "\n",
        "print(addup(10))"
      ]
    },
    {
      "cell_type": "code",
      "execution_count": 2,
      "metadata": {
        "id": "GywMq5fargbn",
        "colab": {
          "base_uri": "https://localhost:8080/"
        },
        "outputId": "f8bb832d-2a36-4f29-b0c1-df33003d8113"
      },
      "outputs": [
        {
          "output_type": "stream",
          "name": "stdout",
          "text": [
            "Calling 'next' for the first time:  Python Beginner\n",
            "Calling 'next' for the second time:  Python Intermediate\n",
            "Calling 'next' for the third time:  Python Proficient\n"
          ]
        }
      ],
      "source": [
        "expertises = [\"Python Beginner\", \n",
        "              \"Python Intermediate\", \n",
        "              \"Python Proficient\", \n",
        "              \"Python Advanced\"]\n",
        "expertises_iterator = iter(expertises)\n",
        "print(\"Calling 'next' for the first time: \", next(expertises_iterator))\n",
        "print(\"Calling 'next' for the second time: \", next(expertises_iterator))\n",
        "print(\"Calling 'next' for the third time: \", next(expertises_iterator))"
      ]
    },
    {
      "cell_type": "code",
      "execution_count": 3,
      "metadata": {
        "id": "PUPyXwYOrgbo",
        "colab": {
          "base_uri": "https://localhost:8080/",
          "height": 339
        },
        "outputId": "22586f8d-d2d6-4ba3-e261-ffe9effb88ea"
      },
      "outputs": [
        {
          "output_type": "stream",
          "name": "stdout",
          "text": [
            "Strasbourg\n",
            "Freiburg\n",
            "Stuttgart\n",
            "Vienna / Wien\n",
            "Hannover\n",
            "Berlin\n",
            "Zurich\n"
          ]
        },
        {
          "output_type": "error",
          "ename": "StopIteration",
          "evalue": "ignored",
          "traceback": [
            "\u001b[0;31m---------------------------------------------------------------------------\u001b[0m",
            "\u001b[0;31mStopIteration\u001b[0m                             Traceback (most recent call last)",
            "\u001b[0;32m<ipython-input-3-532973f585a2>\u001b[0m in \u001b[0;36m<module>\u001b[0;34m()\u001b[0m\n\u001b[1;32m      5\u001b[0m \u001b[0mcity_iterator\u001b[0m \u001b[0;34m=\u001b[0m \u001b[0miter\u001b[0m\u001b[0;34m(\u001b[0m\u001b[0mother_cities\u001b[0m\u001b[0;34m)\u001b[0m\u001b[0;34m\u001b[0m\u001b[0;34m\u001b[0m\u001b[0m\n\u001b[1;32m      6\u001b[0m \u001b[0;32mwhile\u001b[0m \u001b[0mcity_iterator\u001b[0m\u001b[0;34m:\u001b[0m\u001b[0;34m\u001b[0m\u001b[0;34m\u001b[0m\u001b[0m\n\u001b[0;32m----> 7\u001b[0;31m     \u001b[0mcity\u001b[0m \u001b[0;34m=\u001b[0m \u001b[0mnext\u001b[0m\u001b[0;34m(\u001b[0m\u001b[0mcity_iterator\u001b[0m\u001b[0;34m)\u001b[0m\u001b[0;34m\u001b[0m\u001b[0;34m\u001b[0m\u001b[0m\n\u001b[0m\u001b[1;32m      8\u001b[0m     \u001b[0mprint\u001b[0m\u001b[0;34m(\u001b[0m\u001b[0mcity\u001b[0m\u001b[0;34m)\u001b[0m\u001b[0;34m\u001b[0m\u001b[0;34m\u001b[0m\u001b[0m\n",
            "\u001b[0;31mStopIteration\u001b[0m: "
          ]
        }
      ],
      "source": [
        "other_cities = [\"Strasbourg\", \"Freiburg\", \"Stuttgart\", \n",
        "                \"Vienna / Wien\", \"Hannover\", \"Berlin\", \n",
        "                \"Zurich\"]\n",
        "\n",
        "city_iterator = iter(other_cities)\n",
        "while city_iterator:\n",
        "    city = next(city_iterator)\n",
        "    print(city)"
      ]
    },
    {
      "cell_type": "code",
      "execution_count": 4,
      "metadata": {
        "id": "C-r5npLxrgbp",
        "outputId": "b583e024-a1dc-4877-8793-6b11020078fc",
        "colab": {
          "base_uri": "https://localhost:8080/"
        }
      },
      "outputs": [
        {
          "output_type": "stream",
          "name": "stdout",
          "text": [
            "Strasbourg\n",
            "Freiburg\n",
            "Stuttgart\n",
            "Vienna / Wien\n",
            "Hannover\n",
            "Berlin\n",
            "Zurich\n"
          ]
        }
      ],
      "source": [
        "other_cities = [\"Strasbourg\", \"Freiburg\", \"Stuttgart\", \n",
        "                \"Vienna / Wien\", \"Hannover\", \"Berlin\", \n",
        "                \"Zurich\"]\n",
        "\n",
        "city_iterator = iter(other_cities)\n",
        "while city_iterator:\n",
        "    try:\n",
        "        city = next(city_iterator)\n",
        "        print(city)\n",
        "    except StopIteration:\n",
        "        break"
      ]
    },
    {
      "cell_type": "code",
      "execution_count": null,
      "metadata": {
        "id": "sJ2uCQV0rgbs"
      },
      "outputs": [],
      "source": [
        "capitals = { \n",
        "    \"France\":\"Paris\", \n",
        "    \"Netherlands\":\"Amsterdam\", \n",
        "    \"Germany\":\"Berlin\", \n",
        "    \"Switzerland\":\"Bern\", \n",
        "    \"Austria\":\"Vienna\"}\n",
        "\n",
        "print(capitals[\"Germany\"])\n",
        "\n",
        "for country in capitals:\n",
        "     print(\"The capital city of \" + country + \" is \" + capitals[country])"
      ]
    },
    {
      "cell_type": "code",
      "execution_count": null,
      "metadata": {
        "id": "3_yN2xZgrgbt",
        "outputId": "1a099234-2f33-4816-af1b-dc1b14366754"
      },
      "outputs": [
        {
          "name": "stdout",
          "output_type": "stream",
          "text": [
            "a, b, c, a, b, c, a, b, c, a, "
          ]
        }
      ],
      "source": [
        "class Cycle(object):\n",
        "    \n",
        "    def __init__(self, iterable):\n",
        "        self.iterable = iterable\n",
        "        self.iter_obj = iter(iterable)\n",
        "\n",
        "    def __iter__(self):\n",
        "        return self\n",
        "\n",
        "    def __next__(self):\n",
        "        while True:\n",
        "            try:\n",
        "                next_obj = next(self.iter_obj)\n",
        "                return next_obj\n",
        "            except StopIteration:\n",
        "                self.iter_obj = iter(self.iterable)\n",
        "x = Cycle(\"abc\")\n",
        "for i in range(10):\n",
        "    print(next(x), end=\", \")"
      ]
    },
    {
      "cell_type": "code",
      "execution_count": 6,
      "metadata": {
        "id": "qDEhNUzsrgbu",
        "outputId": "c310dca7-8b91-4a08-9d00-c9f4ce5fc0d5",
        "colab": {
          "base_uri": "https://localhost:8080/"
        }
      },
      "outputs": [
        {
          "output_type": "stream",
          "name": "stdout",
          "text": [
            "Hamburg\n"
          ]
        }
      ],
      "source": [
        "def city_generator():\n",
        "    yield \"Hamburg\"\n",
        "    yield \"Konstanz\"\n",
        "    yield \"Berlin\"\n",
        "    yield \"Zurich\"\n",
        "    yield \"Schaffhausen\"\n",
        "    yield \"Stuttgart\" \n",
        "city = city_generator()\n",
        "print(next(city))"
      ]
    },
    {
      "cell_type": "code",
      "execution_count": 7,
      "metadata": {
        "id": "tCzRaDJmrgbv",
        "outputId": "3061a9ee-3ae4-462c-9dc2-e8e3845a441d",
        "colab": {
          "base_uri": "https://localhost:8080/"
        }
      },
      "outputs": [
        {
          "output_type": "stream",
          "name": "stdout",
          "text": [
            "0, 2, 4, 6, 8, 10, 12, 14, 16, 18, \n",
            "New counter:\n",
            "2.10, 2.40, 2.70, 3.00, 3.30, 3.60, 3.90, 4.20, 4.50, 4.80, "
          ]
        }
      ],
      "source": [
        "def count(firstval=0, step=2):\n",
        "    x = firstval\n",
        "    while True:\n",
        "        yield x\n",
        "        x += step\n",
        "        \n",
        "counter = count() # count will start with 0\n",
        "for i in range(10):\n",
        "    print(next(counter), end=\", \")\n",
        "\n",
        "start_value = 2.1\n",
        "step_value = 0.3\n",
        "print(\"\\nNew counter:\")\n",
        "counter = count(start_value, step_value)\n",
        "for i in range(10):\n",
        "    new_value = next(counter)\n",
        "    print(f\"{new_value:2.2f}\", end=\", \")"
      ]
    },
    {
      "cell_type": "code",
      "execution_count": null,
      "metadata": {
        "id": "KTQ9tw34rgbw",
        "outputId": "e3af0652-88f7-4e84-a1ed-37998e03de6b"
      },
      "outputs": [
        {
          "name": "stdout",
          "output_type": "stream",
          "text": [
            "0  1  1  2  3  5  "
          ]
        }
      ],
      "source": [
        "def fibonacci(n):\n",
        "    \"\"\" A generator for creating the Fibonacci numbers \"\"\"\n",
        "    a, b, counter = 0, 1, 0\n",
        "    while True:\n",
        "        if (counter > n): \n",
        "            return\n",
        "        yield a\n",
        "        a, b = b, a + b\n",
        "        counter += 1\n",
        "f = fibonacci(5)\n",
        "for x in f:\n",
        "    print(x, \" \", end=\"\") # \n"
      ]
    },
    {
      "cell_type": "code",
      "execution_count": 8,
      "metadata": {
        "id": "02YQ7GNFrgbx",
        "outputId": "2097d683-60e8-4551-9cfe-09d466d82cf8",
        "colab": {
          "base_uri": "https://localhost:8080/"
        }
      },
      "outputs": [
        {
          "output_type": "stream",
          "name": "stdout",
          "text": [
            "1  1  2  3  5  8  13  21  34  55  89  144  233  377  610  987  1597  2584  4181  6765  10946  "
          ]
        }
      ],
      "source": [
        "def fibonacci():\n",
        "    \"\"\"Generates an infinite sequence of Fibonacci numbers on demand\"\"\"\n",
        "    a, b = 0, 1\n",
        "    while True:\n",
        "        yield b\n",
        "        a, b = b, a + b\n",
        "\n",
        "f = fibonacci()\n",
        "\n",
        "counter = 0\n",
        "for x in f:\n",
        "    print(x, \" \", end=\"\")\n",
        "    counter += 1\n",
        "    if (counter > 20): \n",
        "        break "
      ]
    },
    {
      "cell_type": "code",
      "execution_count": null,
      "metadata": {
        "id": "wVzFPHZargby",
        "outputId": "68a17640-4cc2-4fc9-d1b5-dad07a5df6c8"
      },
      "outputs": [
        {
          "name": "stdout",
          "output_type": "stream",
          "text": [
            "2.10, 2.40, 2.70, 3.00, 3.30, 3.60, 3.90, 4.20, 4.50, 4.80, \n",
            "set current count value to another value:\n",
            "100.80, 101.10, 101.40, 101.70, 102.00, 102.30, 102.60, 102.90, 103.20, 103.50, "
          ]
        }
      ],
      "source": [
        "def count(firstval=0, step=1):\n",
        "    counter = firstval\n",
        "    while True:\n",
        "        new_counter_val = yield counter\n",
        "        if new_counter_val is None:\n",
        "            counter += step\n",
        "        else:\n",
        "            counter = new_counter_val\n",
        "            \n",
        "start_value = 2.1\n",
        "step_value = 0.3\n",
        "counter = count(start_value, step_value) \n",
        "for i in range(10):\n",
        "    new_value = next(counter)\n",
        "    print(f\"{new_value:2.2f}\", end=\", \")\n",
        "print() \n",
        "print(\"set current count value to another value:\")\n",
        "counter.send(100.5)\n",
        "for i in range(10):\n",
        "    new_value = next(counter)\n",
        "    print(f\"{new_value:2.2f}\", end=\", \")"
      ]
    },
    {
      "cell_type": "code",
      "execution_count": null,
      "metadata": {
        "id": "tKf2DfFgrgbz"
      },
      "outputs": [],
      "source": [
        "from random import choice\n",
        "\n",
        "def song_generator(song_list):\n",
        "    new_song = None\n",
        "    while True:\n",
        "        if new_song != None:\n",
        "            if new_song not in song_list:\n",
        "                song_list.append(new_song)\n",
        "            new_song = yield new_song\n",
        "        else:\n",
        "            new_song = yield choice(song_list)           \n",
        "\n",
        "songs = [\"Her Şeyi Yak - Sezen Aksu\", \n",
        "         \"Bluesette - Toots Thielemans\",\n",
        "         \"Six Marimbas - Steve Reich\",\n",
        "         \"Riverside - Agnes Obel\",\n",
        "         \"Not for Radio - Nas\",\n",
        "         \"What's going on - Taste\",\n",
        "         \"On Stream - Nils Petter Molvær\",\n",
        "         \"La' Inta Habibi - Fayrouz\",\n",
        "         \"Ik Leef Niet Meer Voor Jou - Marco Borsato\",\n",
        "         \"Δέκα λεπτά - Αθηνά Ανδρεάδη\"]"
      ]
    },
    {
      "cell_type": "code",
      "execution_count": null,
      "metadata": {
        "id": "mwx1dv6Srgbz",
        "outputId": "0bde527b-fde0-47d6-c74b-8e74760289da"
      },
      "outputs": [
        {
          "data": {
            "text/plain": [
              "\"What's going on - Taste\""
            ]
          },
          "execution_count": 18,
          "metadata": {},
          "output_type": "execute_result"
        }
      ],
      "source": [
        "radio_program = song_generator(songs)\n",
        "next(radio_program)"
      ]
    },
    {
      "cell_type": "code",
      "execution_count": null,
      "metadata": {
        "id": "THW5t6P_rgb0",
        "outputId": "d6cd1c34-13d4-49e9-98df-30c52413dd8a"
      },
      "outputs": [
        {
          "name": "stdout",
          "output_type": "stream",
          "text": [
            "Six Marimbas - Steve Reich\n",
            "La' Inta Habibi - Fayrouz\n",
            "On Stream - Nils Petter Molvær\n"
          ]
        }
      ],
      "source": [
        "for i in range(3):\n",
        "    print(next(radio_program))"
      ]
    },
    {
      "cell_type": "code",
      "execution_count": null,
      "metadata": {
        "id": "OzIeOajzrgb0",
        "outputId": "02ddb96a-55ea-46c5-a217-862529b8fdba"
      },
      "outputs": [
        {
          "data": {
            "text/plain": [
              "'Distorted Angels - Archive'"
            ]
          },
          "execution_count": 20,
          "metadata": {},
          "output_type": "execute_result"
        }
      ],
      "source": [
        "radio_program.send(\"Distorted Angels - Archive\")"
      ]
    },
    {
      "cell_type": "code",
      "execution_count": null,
      "metadata": {
        "id": "6lN8bIcyrgb1",
        "outputId": "9605e11f-d43d-44bf-a797-f3c82ee457d4"
      },
      "outputs": [
        {
          "data": {
            "text/plain": [
              "['Her Şeyi Yak - Sezen Aksu',\n",
              " 'Bluesette - Toots Thielemans',\n",
              " 'Six Marimbas - Steve Reich',\n",
              " 'Riverside - Agnes Obel',\n",
              " 'Not for Radio - Nas',\n",
              " \"What's going on - Taste\",\n",
              " 'On Stream - Nils Petter Molvær',\n",
              " \"La' Inta Habibi - Fayrouz\",\n",
              " 'Ik Leef Niet Meer Voor Jou - Marco Borsato',\n",
              " 'Δέκα λεπτά - Αθηνά Ανδρεάδη',\n",
              " 'Distorted Angels - Archive']"
            ]
          },
          "execution_count": 21,
          "metadata": {},
          "output_type": "execute_result"
        }
      ],
      "source": [
        "songs"
      ]
    },
    {
      "cell_type": "code",
      "source": [
        "from random import choice\n",
        "def song_generator(song_list):\n",
        "    new_song = None\n",
        "    while True:\n",
        "        if new_song != None:\n",
        "            if new_song[0] == \"-songlist-\":\n",
        "                song_list = new_song[1]\n",
        "                new_song = yield choice(song_list)\n",
        "            else:\n",
        "                title, performer = new_song\n",
        "                new_song = title + \" - \" + performer\n",
        "                if new_song not in song_list:\n",
        "                    song_list.append(new_song)\n",
        "                new_song = yield new_song\n",
        "        else:\n",
        "            new_song = yield choice(song_list) \n",
        "songs1 = [\"Après un Rêve - Gabriel Fauré\"\n",
        "         \"On Stream - Nils Petter Molvær\",\n",
        "         \"Der Wanderer Michael - Michael Wollny\",\n",
        "         \"Les barricades mystérieuses - Barbara Thompson\",\n",
        "         \"Monday - Ludovico Einaudi\"]\n",
        "\n",
        "songs2 = [\"Dünyadan Uzak - Pinhani\", \n",
        "          \"Again - Archive\",\n",
        "          \"If I had a Hear - Fever Ray\"\n",
        "          \"Every you, every me - Placebo\",\n",
        "          \"Familiar - Angnes Obel\"]\n",
        "radio_prog = song_generator(songs1)\n",
        "for i in range(5):\n",
        "    print(next(radio_prog))"
      ],
      "metadata": {
        "colab": {
          "base_uri": "https://localhost:8080/"
        },
        "id": "188Nr3g-rysX",
        "outputId": "44466c03-02f5-45d5-dd36-327a9aa785e4"
      },
      "execution_count": null,
      "outputs": [
        {
          "output_type": "stream",
          "name": "stdout",
          "text": [
            "Der Wanderer Michael - Michael Wollny\n",
            "Monday - Ludovico Einaudi\n",
            "Après un Rêve - Gabriel FauréOn Stream - Nils Petter Molvær\n",
            "Les barricades mystérieuses - Barbara Thompson\n",
            "Les barricades mystérieuses - Barbara Thompson\n"
          ]
        }
      ]
    },
    {
      "cell_type": "code",
      "source": [
        "def count(firstval=0, step=1):\n",
        "    counter = firstval\n",
        "    while True:\n",
        "        try:\n",
        "            new_counter_val = yield counter\n",
        "            if new_counter_val is None:\n",
        "                counter += step\n",
        "            else:\n",
        "                counter = new_counter_val\n",
        "        except Exception:\n",
        "            yield (firstval, step, counter)\n",
        "\n",
        "c = count()\n",
        "for i in range(6):\n",
        "    print(next(c))\n",
        "print(\"Let us see what the state of the iterator is:\")\n",
        "state_of_count = c.throw(Exception)\n",
        "print(state_of_count)\n",
        "print(\"now, we can continue:\")\n",
        "for i in range(3):\n",
        "    print(next(c))"
      ],
      "metadata": {
        "id": "V-YdPO9Ntf_S",
        "colab": {
          "base_uri": "https://localhost:8080/"
        },
        "outputId": "704e8f48-c8b5-4218-f361-acffa5486b50"
      },
      "execution_count": 9,
      "outputs": [
        {
          "output_type": "stream",
          "name": "stdout",
          "text": [
            "0\n",
            "1\n",
            "2\n",
            "3\n",
            "4\n",
            "5\n",
            "Let us see what the state of the iterator is:\n",
            "(0, 1, 5)\n",
            "now, we can continue:\n",
            "5\n",
            "6\n",
            "7\n"
          ]
        }
      ]
    },
    {
      "cell_type": "code",
      "source": [
        "class StateOfGenerator(Exception):\n",
        "     def __init__(self, message=None):\n",
        "         self.message = message\n",
        "\n",
        "def count(firstval=0, step=1):\n",
        "    counter = firstval\n",
        "    while True:\n",
        "        try:\n",
        "            new_counter_val = yield counter\n",
        "            if new_counter_val is None:\n",
        "                counter += step\n",
        "            else:\n",
        "                counter = new_counter_val\n",
        "        except StateOfGenerator:\n",
        "            yield (firstval, step, counter)\n",
        "\n",
        "c = count()\n",
        "for i in range(3):\n",
        "    print(next(c))\n",
        "print(\"Let us see what the state of the iterator is:\")\n",
        "i = c.throw(StateOfGenerator)\n",
        "print(i)\n",
        "print(\"now, we can continue:\")\n",
        "for i in range(3):\n",
        "    print(next(c))"
      ],
      "metadata": {
        "colab": {
          "base_uri": "https://localhost:8080/"
        },
        "id": "KxNtj1kjrz-N",
        "outputId": "a9633749-c233-409d-d03d-d9c463b9f225"
      },
      "execution_count": 10,
      "outputs": [
        {
          "output_type": "stream",
          "name": "stdout",
          "text": [
            "0\n",
            "1\n",
            "2\n",
            "Let us see what the state of the iterator is:\n",
            "(0, 1, 2)\n",
            "now, we can continue:\n",
            "2\n",
            "3\n",
            "4\n"
          ]
        }
      ]
    },
    {
      "cell_type": "code",
      "source": [
        "def gen1():\n",
        "    for char in \"Python\":\n",
        "        yield char\n",
        "    for i in range(5):\n",
        "        yield i\n",
        "\n",
        "def gen2():\n",
        "    yield from \"Python\"\n",
        "    yield from range(5)\n",
        "\n",
        "g1 = gen1()\n",
        "g2 = gen2()\n",
        "print(\"g1: \", end=\", \")\n",
        "for x in g1:\n",
        "    print(x, end=\", \")\n",
        "print(\"\\ng2: \", end=\", \")\n",
        "for x in g2:\n",
        "    print(x, end=\", \")\n",
        "print()"
      ],
      "metadata": {
        "colab": {
          "base_uri": "https://localhost:8080/"
        },
        "id": "1-KS0rkrsQw8",
        "outputId": "534b1b23-5b7b-4990-c967-6bb04615cb5c"
      },
      "execution_count": 1,
      "outputs": [
        {
          "output_type": "stream",
          "name": "stdout",
          "text": [
            "g1: , P, y, t, h, o, n, 0, 1, 2, 3, 4, \n",
            "g2: , P, y, t, h, o, n, 0, 1, 2, 3, 4, \n"
          ]
        }
      ]
    },
    {
      "cell_type": "code",
      "source": [
        "def cities():\n",
        "    for city in [\"Berlin\", \"Hamburg\", \"Munich\", \"Freiburg\"]:\n",
        "        yield city\n",
        "\n",
        "def squares():\n",
        "    for number in range(10):\n",
        "        yield number ** 2\n",
        "        \n",
        "def generator_all_in_one():\n",
        "    for city in cities():\n",
        "        yield city\n",
        "    for number in squares():\n",
        "        yield number\n",
        "        \n",
        "def generator_splitted():\n",
        "    yield from cities()\n",
        "    yield from squares()\n",
        "    \n",
        "lst1 = [el for el in generator_all_in_one()]\n",
        "lst2 = [el for el in generator_splitted()]\n",
        "print(lst1 == lst2)"
      ],
      "metadata": {
        "id": "tuzHCW95JUDg",
        "outputId": "78898e76-cd0c-4508-c53f-509b4fc34340",
        "colab": {
          "base_uri": "https://localhost:8080/"
        }
      },
      "execution_count": 2,
      "outputs": [
        {
          "output_type": "stream",
          "name": "stdout",
          "text": [
            "True\n"
          ]
        }
      ]
    },
    {
      "cell_type": "code",
      "source": [
        "def permutations(items):\n",
        "    n = len(items)\n",
        "    if n==0: yield []\n",
        "    else:\n",
        "        for i in range(len(items)):\n",
        "            for cc in permutations(items[:i]+items[i+1:]):\n",
        "                yield [items[i]]+cc\n",
        "\n",
        "for p in permutations(['r','e','d']): print(''.join(p))\n",
        "for p in permutations(list(\"game\")): print(''.join(p) + \", \", end=\"\")"
      ],
      "metadata": {
        "id": "dsradldcJjOI",
        "outputId": "b565b814-515b-4ad4-e42a-08b1fc0457d0",
        "colab": {
          "base_uri": "https://localhost:8080/"
        }
      },
      "execution_count": 3,
      "outputs": [
        {
          "output_type": "stream",
          "name": "stdout",
          "text": [
            "red\n",
            "rde\n",
            "erd\n",
            "edr\n",
            "dre\n",
            "der\n",
            "game, gaem, gmae, gmea, geam, gema, agme, agem, amge, ameg, aegm, aemg, mgae, mgea, mage, maeg, mega, meag, egam, egma, eagm, eamg, emga, emag, "
          ]
        }
      ]
    },
    {
      "cell_type": "code",
      "source": [
        "import itertools\n",
        "perms = itertools.permutations(['r','e','d'])\n",
        "list(perms)"
      ],
      "metadata": {
        "id": "563ekSXjJshN",
        "outputId": "c7a3c58d-cb03-44f2-da67-329486438918",
        "colab": {
          "base_uri": "https://localhost:8080/"
        }
      },
      "execution_count": 4,
      "outputs": [
        {
          "output_type": "execute_result",
          "data": {
            "text/plain": [
              "[('r', 'e', 'd'),\n",
              " ('r', 'd', 'e'),\n",
              " ('e', 'r', 'd'),\n",
              " ('e', 'd', 'r'),\n",
              " ('d', 'r', 'e'),\n",
              " ('d', 'e', 'r')]"
            ]
          },
          "metadata": {},
          "execution_count": 4
        }
      ]
    },
    {
      "cell_type": "code",
      "source": [
        "def k_permutations(items, n):\n",
        "    if n==0: \n",
        "        yield []\n",
        "    else:\n",
        "        for item in items:\n",
        "            for kp in k_permutations(items, n-1):\n",
        "                if item not in kp:\n",
        "                    yield [item] + kp\n",
        "                    \n",
        "for kp in k_permutations(\"abcd\", 3):\n",
        "    print(kp) "
      ],
      "metadata": {
        "id": "Er1DxkE8J11l",
        "outputId": "b770d4bd-8ce5-4a70-ced3-8eb580844d47",
        "colab": {
          "base_uri": "https://localhost:8080/"
        }
      },
      "execution_count": 5,
      "outputs": [
        {
          "output_type": "stream",
          "name": "stdout",
          "text": [
            "['a', 'b', 'c']\n",
            "['a', 'b', 'd']\n",
            "['a', 'c', 'b']\n",
            "['a', 'c', 'd']\n",
            "['a', 'd', 'b']\n",
            "['a', 'd', 'c']\n",
            "['b', 'a', 'c']\n",
            "['b', 'a', 'd']\n",
            "['b', 'c', 'a']\n",
            "['b', 'c', 'd']\n",
            "['b', 'd', 'a']\n",
            "['b', 'd', 'c']\n",
            "['c', 'a', 'b']\n",
            "['c', 'a', 'd']\n",
            "['c', 'b', 'a']\n",
            "['c', 'b', 'd']\n",
            "['c', 'd', 'a']\n",
            "['c', 'd', 'b']\n",
            "['d', 'a', 'b']\n",
            "['d', 'a', 'c']\n",
            "['d', 'b', 'a']\n",
            "['d', 'b', 'c']\n",
            "['d', 'c', 'a']\n",
            "['d', 'c', 'b']\n"
          ]
        }
      ]
    },
    {
      "cell_type": "code",
      "source": [
        "def firstn(generator, n):\n",
        "    g = generator()\n",
        "    for i in range(n):\n",
        "        yield next(g)\n",
        "\n",
        "def fibonacci():\n",
        "    \"\"\" A Fibonacci number generator \"\"\"\n",
        "    a, b = 0, 1\n",
        "    while True:\n",
        "        yield a\n",
        "        a, b = b, a + b\n",
        "\n",
        "print(list(firstn(fibonacci, 10)))   "
      ],
      "metadata": {
        "id": "Neysi5dQJ4I3",
        "outputId": "d55f82cc-dda9-493a-c5f2-4d1209551df5",
        "colab": {
          "base_uri": "https://localhost:8080/"
        }
      },
      "execution_count": 7,
      "outputs": [
        {
          "output_type": "stream",
          "name": "stdout",
          "text": [
            "[0, 1, 1, 2, 3, 5, 8, 13, 21, 34]\n"
          ]
        }
      ]
    },
    {
      "cell_type": "code",
      "source": [
        ""
      ],
      "metadata": {
        "id": "4uOY9nl5KYQ8"
      },
      "execution_count": null,
      "outputs": []
    }
  ],
  "metadata": {
    "kernelspec": {
      "display_name": "Python 3.8.13 64-bit ('3.8.13')",
      "language": "python",
      "name": "python3"
    },
    "language_info": {
      "codemirror_mode": {
        "name": "ipython",
        "version": 3
      },
      "file_extension": ".py",
      "mimetype": "text/x-python",
      "name": "python",
      "nbconvert_exporter": "python",
      "pygments_lexer": "ipython3",
      "version": "3.8.13"
    },
    "orig_nbformat": 4,
    "vscode": {
      "interpreter": {
        "hash": "110cc1dee26208153f2972f08a2ad52b6a56238dc66d48e87fb757ef2996db56"
      }
    },
    "colab": {
      "name": "C_PC03_Generators.ipynb",
      "provenance": []
    }
  },
  "nbformat": 4,
  "nbformat_minor": 0
}