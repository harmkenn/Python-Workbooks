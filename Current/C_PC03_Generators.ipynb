{
  "cells": [
    {
      "cell_type": "markdown",
      "metadata": {
        "id": "view-in-github",
        "colab_type": "text"
      },
      "source": [
        "<a href=\"https://colab.research.google.com/github/harmkenn/Python-Workbooks/blob/main/Current/C_PC03_Generators.ipynb\" target=\"_parent\"><img src=\"https://colab.research.google.com/assets/colab-badge.svg\" alt=\"Open In Colab\"/></a>"
      ]
    },
    {
      "cell_type": "code",
      "execution_count": null,
      "metadata": {
        "id": "UBcRiYU1rgbh"
      },
      "outputs": [],
      "source": [
        "# https://python-course.eu/advanced-python/generators-and-iterators.php"
      ]
    },
    {
      "cell_type": "code",
      "execution_count": null,
      "metadata": {
        "id": "g0WtyESJrgbl"
      },
      "outputs": [],
      "source": [
        "cities = [\"Paris\", \"Berlin\", \"Hamburg\", \n",
        "          \"Frankfurt\", \"London\", \"Vienna\", \n",
        "          \"Amsterdam\", \"Den Haag\"]\n",
        "for location in cities:\n",
        "    print(\"location: \" + location)"
      ]
    },
    {
      "cell_type": "code",
      "execution_count": 1,
      "metadata": {
        "id": "PN7pgP2wrgbm",
        "outputId": "40affd76-1a4b-4ed8-b2fe-eaec5e298435",
        "colab": {
          "base_uri": "https://localhost:8080/"
        }
      },
      "outputs": [
        {
          "output_type": "stream",
          "name": "stdout",
          "text": [
            "55\n"
          ]
        }
      ],
      "source": [
        "def addup(n):\n",
        "    if n == 1:\n",
        "        pile = n\n",
        "    else:\n",
        "        pile = n\n",
        "        pile = pile + addup(n-1)\n",
        "\n",
        "    \n",
        "    return pile\n",
        "\n",
        "print(addup(10))"
      ]
    },
    {
      "cell_type": "code",
      "execution_count": 2,
      "metadata": {
        "id": "GywMq5fargbn",
        "outputId": "f8bb832d-2a36-4f29-b0c1-df33003d8113",
        "colab": {
          "base_uri": "https://localhost:8080/"
        }
      },
      "outputs": [
        {
          "output_type": "stream",
          "name": "stdout",
          "text": [
            "Calling 'next' for the first time:  Python Beginner\n",
            "Calling 'next' for the second time:  Python Intermediate\n",
            "Calling 'next' for the third time:  Python Proficient\n"
          ]
        }
      ],
      "source": [
        "expertises = [\"Python Beginner\", \n",
        "              \"Python Intermediate\", \n",
        "              \"Python Proficient\", \n",
        "              \"Python Advanced\"]\n",
        "expertises_iterator = iter(expertises)\n",
        "print(\"Calling 'next' for the first time: \", next(expertises_iterator))\n",
        "print(\"Calling 'next' for the second time: \", next(expertises_iterator))\n",
        "print(\"Calling 'next' for the third time: \", next(expertises_iterator))"
      ]
    },
    {
      "cell_type": "code",
      "execution_count": 3,
      "metadata": {
        "id": "PUPyXwYOrgbo",
        "outputId": "22586f8d-d2d6-4ba3-e261-ffe9effb88ea",
        "colab": {
          "base_uri": "https://localhost:8080/",
          "height": 339
        }
      },
      "outputs": [
        {
          "output_type": "stream",
          "name": "stdout",
          "text": [
            "Strasbourg\n",
            "Freiburg\n",
            "Stuttgart\n",
            "Vienna / Wien\n",
            "Hannover\n",
            "Berlin\n",
            "Zurich\n"
          ]
        },
        {
          "output_type": "error",
          "ename": "StopIteration",
          "evalue": "ignored",
          "traceback": [
            "\u001b[0;31m---------------------------------------------------------------------------\u001b[0m",
            "\u001b[0;31mStopIteration\u001b[0m                             Traceback (most recent call last)",
            "\u001b[0;32m<ipython-input-3-532973f585a2>\u001b[0m in \u001b[0;36m<module>\u001b[0;34m()\u001b[0m\n\u001b[1;32m      5\u001b[0m \u001b[0mcity_iterator\u001b[0m \u001b[0;34m=\u001b[0m \u001b[0miter\u001b[0m\u001b[0;34m(\u001b[0m\u001b[0mother_cities\u001b[0m\u001b[0;34m)\u001b[0m\u001b[0;34m\u001b[0m\u001b[0;34m\u001b[0m\u001b[0m\n\u001b[1;32m      6\u001b[0m \u001b[0;32mwhile\u001b[0m \u001b[0mcity_iterator\u001b[0m\u001b[0;34m:\u001b[0m\u001b[0;34m\u001b[0m\u001b[0;34m\u001b[0m\u001b[0m\n\u001b[0;32m----> 7\u001b[0;31m     \u001b[0mcity\u001b[0m \u001b[0;34m=\u001b[0m \u001b[0mnext\u001b[0m\u001b[0;34m(\u001b[0m\u001b[0mcity_iterator\u001b[0m\u001b[0;34m)\u001b[0m\u001b[0;34m\u001b[0m\u001b[0;34m\u001b[0m\u001b[0m\n\u001b[0m\u001b[1;32m      8\u001b[0m     \u001b[0mprint\u001b[0m\u001b[0;34m(\u001b[0m\u001b[0mcity\u001b[0m\u001b[0;34m)\u001b[0m\u001b[0;34m\u001b[0m\u001b[0;34m\u001b[0m\u001b[0m\n",
            "\u001b[0;31mStopIteration\u001b[0m: "
          ]
        }
      ],
      "source": [
        "other_cities = [\"Strasbourg\", \"Freiburg\", \"Stuttgart\", \n",
        "                \"Vienna / Wien\", \"Hannover\", \"Berlin\", \n",
        "                \"Zurich\"]\n",
        "\n",
        "city_iterator = iter(other_cities)\n",
        "while city_iterator:\n",
        "    city = next(city_iterator)\n",
        "    print(city)"
      ]
    },
    {
      "cell_type": "code",
      "execution_count": 4,
      "metadata": {
        "id": "C-r5npLxrgbp",
        "outputId": "b583e024-a1dc-4877-8793-6b11020078fc",
        "colab": {
          "base_uri": "https://localhost:8080/"
        }
      },
      "outputs": [
        {
          "output_type": "stream",
          "name": "stdout",
          "text": [
            "Strasbourg\n",
            "Freiburg\n",
            "Stuttgart\n",
            "Vienna / Wien\n",
            "Hannover\n",
            "Berlin\n",
            "Zurich\n"
          ]
        }
      ],
      "source": [
        "other_cities = [\"Strasbourg\", \"Freiburg\", \"Stuttgart\", \n",
        "                \"Vienna / Wien\", \"Hannover\", \"Berlin\", \n",
        "                \"Zurich\"]\n",
        "\n",
        "city_iterator = iter(other_cities)\n",
        "while city_iterator:\n",
        "    try:\n",
        "        city = next(city_iterator)\n",
        "        print(city)\n",
        "    except StopIteration:\n",
        "        break"
      ]
    },
    {
      "cell_type": "code",
      "execution_count": null,
      "metadata": {
        "id": "sJ2uCQV0rgbs"
      },
      "outputs": [],
      "source": [
        "capitals = { \n",
        "    \"France\":\"Paris\", \n",
        "    \"Netherlands\":\"Amsterdam\", \n",
        "    \"Germany\":\"Berlin\", \n",
        "    \"Switzerland\":\"Bern\", \n",
        "    \"Austria\":\"Vienna\"}\n",
        "\n",
        "print(capitals[\"Germany\"])\n",
        "\n",
        "for country in capitals:\n",
        "     print(\"The capital city of \" + country + \" is \" + capitals[country])"
      ]
    },
    {
      "cell_type": "code",
      "execution_count": null,
      "metadata": {
        "id": "3_yN2xZgrgbt",
        "outputId": "1a099234-2f33-4816-af1b-dc1b14366754"
      },
      "outputs": [
        {
          "name": "stdout",
          "output_type": "stream",
          "text": [
            "a, b, c, a, b, c, a, b, c, a, "
          ]
        }
      ],
      "source": [
        "class Cycle(object):\n",
        "    \n",
        "    def __init__(self, iterable):\n",
        "        self.iterable = iterable\n",
        "        self.iter_obj = iter(iterable)\n",
        "\n",
        "    def __iter__(self):\n",
        "        return self\n",
        "\n",
        "    def __next__(self):\n",
        "        while True:\n",
        "            try:\n",
        "                next_obj = next(self.iter_obj)\n",
        "                return next_obj\n",
        "            except StopIteration:\n",
        "                self.iter_obj = iter(self.iterable)\n",
        "x = Cycle(\"abc\")\n",
        "for i in range(10):\n",
        "    print(next(x), end=\", \")"
      ]
    },
    {
      "cell_type": "code",
      "execution_count": 6,
      "metadata": {
        "id": "qDEhNUzsrgbu",
        "outputId": "c310dca7-8b91-4a08-9d00-c9f4ce5fc0d5",
        "colab": {
          "base_uri": "https://localhost:8080/"
        }
      },
      "outputs": [
        {
          "output_type": "stream",
          "name": "stdout",
          "text": [
            "Hamburg\n"
          ]
        }
      ],
      "source": [
        "def city_generator():\n",
        "    yield \"Hamburg\"\n",
        "    yield \"Konstanz\"\n",
        "    yield \"Berlin\"\n",
        "    yield \"Zurich\"\n",
        "    yield \"Schaffhausen\"\n",
        "    yield \"Stuttgart\" \n",
        "city = city_generator()\n",
        "print(next(city))"
      ]
    },
    {
      "cell_type": "code",
      "execution_count": 7,
      "metadata": {
        "id": "tCzRaDJmrgbv",
        "outputId": "3061a9ee-3ae4-462c-9dc2-e8e3845a441d",
        "colab": {
          "base_uri": "https://localhost:8080/"
        }
      },
      "outputs": [
        {
          "output_type": "stream",
          "name": "stdout",
          "text": [
            "0, 2, 4, 6, 8, 10, 12, 14, 16, 18, \n",
            "New counter:\n",
            "2.10, 2.40, 2.70, 3.00, 3.30, 3.60, 3.90, 4.20, 4.50, 4.80, "
          ]
        }
      ],
      "source": [
        "def count(firstval=0, step=2):\n",
        "    x = firstval\n",
        "    while True:\n",
        "        yield x\n",
        "        x += step\n",
        "        \n",
        "counter = count() # count will start with 0\n",
        "for i in range(10):\n",
        "    print(next(counter), end=\", \")\n",
        "\n",
        "start_value = 2.1\n",
        "step_value = 0.3\n",
        "print(\"\\nNew counter:\")\n",
        "counter = count(start_value, step_value)\n",
        "for i in range(10):\n",
        "    new_value = next(counter)\n",
        "    print(f\"{new_value:2.2f}\", end=\", \")"
      ]
    },
    {
      "cell_type": "code",
      "execution_count": null,
      "metadata": {
        "id": "KTQ9tw34rgbw",
        "outputId": "e3af0652-88f7-4e84-a1ed-37998e03de6b"
      },
      "outputs": [
        {
          "name": "stdout",
          "output_type": "stream",
          "text": [
            "0  1  1  2  3  5  "
          ]
        }
      ],
      "source": [
        "def fibonacci(n):\n",
        "    \"\"\" A generator for creating the Fibonacci numbers \"\"\"\n",
        "    a, b, counter = 0, 1, 0\n",
        "    while True:\n",
        "        if (counter > n): \n",
        "            return\n",
        "        yield a\n",
        "        a, b = b, a + b\n",
        "        counter += 1\n",
        "f = fibonacci(5)\n",
        "for x in f:\n",
        "    print(x, \" \", end=\"\") # \n"
      ]
    },
    {
      "cell_type": "code",
      "execution_count": 8,
      "metadata": {
        "id": "02YQ7GNFrgbx",
        "outputId": "2097d683-60e8-4551-9cfe-09d466d82cf8",
        "colab": {
          "base_uri": "https://localhost:8080/"
        }
      },
      "outputs": [
        {
          "output_type": "stream",
          "name": "stdout",
          "text": [
            "1  1  2  3  5  8  13  21  34  55  89  144  233  377  610  987  1597  2584  4181  6765  10946  "
          ]
        }
      ],
      "source": [
        "def fibonacci():\n",
        "    \"\"\"Generates an infinite sequence of Fibonacci numbers on demand\"\"\"\n",
        "    a, b = 0, 1\n",
        "    while True:\n",
        "        yield b\n",
        "        a, b = b, a + b\n",
        "\n",
        "f = fibonacci()\n",
        "\n",
        "counter = 0\n",
        "for x in f:\n",
        "    print(x, \" \", end=\"\")\n",
        "    counter += 1\n",
        "    if (counter > 20): \n",
        "        break "
      ]
    },
    {
      "cell_type": "code",
      "execution_count": null,
      "metadata": {
        "id": "wVzFPHZargby",
        "outputId": "68a17640-4cc2-4fc9-d1b5-dad07a5df6c8"
      },
      "outputs": [
        {
          "name": "stdout",
          "output_type": "stream",
          "text": [
            "2.10, 2.40, 2.70, 3.00, 3.30, 3.60, 3.90, 4.20, 4.50, 4.80, \n",
            "set current count value to another value:\n",
            "100.80, 101.10, 101.40, 101.70, 102.00, 102.30, 102.60, 102.90, 103.20, 103.50, "
          ]
        }
      ],
      "source": [
        "def count(firstval=0, step=1):\n",
        "    counter = firstval\n",
        "    while True:\n",
        "        new_counter_val = yield counter\n",
        "        if new_counter_val is None:\n",
        "            counter += step\n",
        "        else:\n",
        "            counter = new_counter_val\n",
        "            \n",
        "start_value = 2.1\n",
        "step_value = 0.3\n",
        "counter = count(start_value, step_value) \n",
        "for i in range(10):\n",
        "    new_value = next(counter)\n",
        "    print(f\"{new_value:2.2f}\", end=\", \")\n",
        "print() \n",
        "print(\"set current count value to another value:\")\n",
        "counter.send(100.5)\n",
        "for i in range(10):\n",
        "    new_value = next(counter)\n",
        "    print(f\"{new_value:2.2f}\", end=\", \")"
      ]
    },
    {
      "cell_type": "code",
      "execution_count": null,
      "metadata": {
        "id": "tKf2DfFgrgbz"
      },
      "outputs": [],
      "source": [
        "from random import choice\n",
        "\n",
        "def song_generator(song_list):\n",
        "    new_song = None\n",
        "    while True:\n",
        "        if new_song != None:\n",
        "            if new_song not in song_list:\n",
        "                song_list.append(new_song)\n",
        "            new_song = yield new_song\n",
        "        else:\n",
        "            new_song = yield choice(song_list)           \n",
        "\n",
        "songs = [\"Her Şeyi Yak - Sezen Aksu\", \n",
        "         \"Bluesette - Toots Thielemans\",\n",
        "         \"Six Marimbas - Steve Reich\",\n",
        "         \"Riverside - Agnes Obel\",\n",
        "         \"Not for Radio - Nas\",\n",
        "         \"What's going on - Taste\",\n",
        "         \"On Stream - Nils Petter Molvær\",\n",
        "         \"La' Inta Habibi - Fayrouz\",\n",
        "         \"Ik Leef Niet Meer Voor Jou - Marco Borsato\",\n",
        "         \"Δέκα λεπτά - Αθηνά Ανδρεάδη\"]"
      ]
    },
    {
      "cell_type": "code",
      "execution_count": null,
      "metadata": {
        "id": "mwx1dv6Srgbz",
        "outputId": "0bde527b-fde0-47d6-c74b-8e74760289da"
      },
      "outputs": [
        {
          "data": {
            "text/plain": [
              "\"What's going on - Taste\""
            ]
          },
          "execution_count": 18,
          "metadata": {},
          "output_type": "execute_result"
        }
      ],
      "source": [
        "radio_program = song_generator(songs)\n",
        "next(radio_program)"
      ]
    },
    {
      "cell_type": "code",
      "execution_count": null,
      "metadata": {
        "id": "THW5t6P_rgb0",
        "outputId": "d6cd1c34-13d4-49e9-98df-30c52413dd8a"
      },
      "outputs": [
        {
          "name": "stdout",
          "output_type": "stream",
          "text": [
            "Six Marimbas - Steve Reich\n",
            "La' Inta Habibi - Fayrouz\n",
            "On Stream - Nils Petter Molvær\n"
          ]
        }
      ],
      "source": [
        "for i in range(3):\n",
        "    print(next(radio_program))"
      ]
    },
    {
      "cell_type": "code",
      "execution_count": null,
      "metadata": {
        "id": "OzIeOajzrgb0",
        "outputId": "02ddb96a-55ea-46c5-a217-862529b8fdba"
      },
      "outputs": [
        {
          "data": {
            "text/plain": [
              "'Distorted Angels - Archive'"
            ]
          },
          "execution_count": 20,
          "metadata": {},
          "output_type": "execute_result"
        }
      ],
      "source": [
        "radio_program.send(\"Distorted Angels - Archive\")"
      ]
    },
    {
      "cell_type": "code",
      "execution_count": null,
      "metadata": {
        "id": "6lN8bIcyrgb1",
        "outputId": "9605e11f-d43d-44bf-a797-f3c82ee457d4"
      },
      "outputs": [
        {
          "data": {
            "text/plain": [
              "['Her Şeyi Yak - Sezen Aksu',\n",
              " 'Bluesette - Toots Thielemans',\n",
              " 'Six Marimbas - Steve Reich',\n",
              " 'Riverside - Agnes Obel',\n",
              " 'Not for Radio - Nas',\n",
              " \"What's going on - Taste\",\n",
              " 'On Stream - Nils Petter Molvær',\n",
              " \"La' Inta Habibi - Fayrouz\",\n",
              " 'Ik Leef Niet Meer Voor Jou - Marco Borsato',\n",
              " 'Δέκα λεπτά - Αθηνά Ανδρεάδη',\n",
              " 'Distorted Angels - Archive']"
            ]
          },
          "execution_count": 21,
          "metadata": {},
          "output_type": "execute_result"
        }
      ],
      "source": [
        "songs"
      ]
    },
    {
      "cell_type": "code",
      "source": [
        "from random import choice\n",
        "def song_generator(song_list):\n",
        "    new_song = None\n",
        "    while True:\n",
        "        if new_song != None:\n",
        "            if new_song[0] == \"-songlist-\":\n",
        "                song_list = new_song[1]\n",
        "                new_song = yield choice(song_list)\n",
        "            else:\n",
        "                title, performer = new_song\n",
        "                new_song = title + \" - \" + performer\n",
        "                if new_song not in song_list:\n",
        "                    song_list.append(new_song)\n",
        "                new_song = yield new_song\n",
        "        else:\n",
        "            new_song = yield choice(song_list) \n",
        "songs1 = [\"Après un Rêve - Gabriel Fauré\"\n",
        "         \"On Stream - Nils Petter Molvær\",\n",
        "         \"Der Wanderer Michael - Michael Wollny\",\n",
        "         \"Les barricades mystérieuses - Barbara Thompson\",\n",
        "         \"Monday - Ludovico Einaudi\"]\n",
        "\n",
        "songs2 = [\"Dünyadan Uzak - Pinhani\", \n",
        "          \"Again - Archive\",\n",
        "          \"If I had a Hear - Fever Ray\"\n",
        "          \"Every you, every me - Placebo\",\n",
        "          \"Familiar - Angnes Obel\"]\n",
        "radio_prog = song_generator(songs1)\n",
        "for i in range(5):\n",
        "    print(next(radio_prog))"
      ],
      "metadata": {
        "colab": {
          "base_uri": "https://localhost:8080/"
        },
        "id": "188Nr3g-rysX",
        "outputId": "44466c03-02f5-45d5-dd36-327a9aa785e4"
      },
      "execution_count": null,
      "outputs": [
        {
          "output_type": "stream",
          "name": "stdout",
          "text": [
            "Der Wanderer Michael - Michael Wollny\n",
            "Monday - Ludovico Einaudi\n",
            "Après un Rêve - Gabriel FauréOn Stream - Nils Petter Molvær\n",
            "Les barricades mystérieuses - Barbara Thompson\n",
            "Les barricades mystérieuses - Barbara Thompson\n"
          ]
        }
      ]
    },
    {
      "cell_type": "code",
      "source": [
        "def count(firstval=0, step=1):\n",
        "    counter = firstval\n",
        "    while True:\n",
        "        try:\n",
        "            new_counter_val = yield counter\n",
        "            if new_counter_val is None:\n",
        "                counter += step\n",
        "            else:\n",
        "                counter = new_counter_val\n",
        "        except Exception:\n",
        "            yield (firstval, step, counter)\n",
        "\n",
        "c = count()\n",
        "for i in range(6):\n",
        "    print(next(c))\n",
        "print(\"Let us see what the state of the iterator is:\")\n",
        "state_of_count = c.throw(Exception)\n",
        "print(state_of_count)\n",
        "print(\"now, we can continue:\")\n",
        "for i in range(3):\n",
        "    print(next(c))"
      ],
      "metadata": {
        "id": "V-YdPO9Ntf_S",
        "outputId": "704e8f48-c8b5-4218-f361-acffa5486b50",
        "colab": {
          "base_uri": "https://localhost:8080/"
        }
      },
      "execution_count": 9,
      "outputs": [
        {
          "output_type": "stream",
          "name": "stdout",
          "text": [
            "0\n",
            "1\n",
            "2\n",
            "3\n",
            "4\n",
            "5\n",
            "Let us see what the state of the iterator is:\n",
            "(0, 1, 5)\n",
            "now, we can continue:\n",
            "5\n",
            "6\n",
            "7\n"
          ]
        }
      ]
    },
    {
      "cell_type": "code",
      "source": [
        "class StateOfGenerator(Exception):\n",
        "     def __init__(self, message=None):\n",
        "         self.message = message\n",
        "\n",
        "def count(firstval=0, step=1):\n",
        "    counter = firstval\n",
        "    while True:\n",
        "        try:\n",
        "            new_counter_val = yield counter\n",
        "            if new_counter_val is None:\n",
        "                counter += step\n",
        "            else:\n",
        "                counter = new_counter_val\n",
        "        except StateOfGenerator:\n",
        "            yield (firstval, step, counter)\n",
        "\n",
        "c = count()\n",
        "for i in range(3):\n",
        "    print(next(c))\n",
        "print(\"Let us see what the state of the iterator is:\")\n",
        "i = c.throw(StateOfGenerator)\n",
        "print(i)\n",
        "print(\"now, we can continue:\")\n",
        "for i in range(3):\n",
        "    print(next(c))"
      ],
      "metadata": {
        "id": "KxNtj1kjrz-N",
        "outputId": "a9633749-c233-409d-d03d-d9c463b9f225",
        "colab": {
          "base_uri": "https://localhost:8080/"
        }
      },
      "execution_count": 10,
      "outputs": [
        {
          "output_type": "stream",
          "name": "stdout",
          "text": [
            "0\n",
            "1\n",
            "2\n",
            "Let us see what the state of the iterator is:\n",
            "(0, 1, 2)\n",
            "now, we can continue:\n",
            "2\n",
            "3\n",
            "4\n"
          ]
        }
      ]
    },
    {
      "cell_type": "code",
      "source": [
        ""
      ],
      "metadata": {
        "id": "1-KS0rkrsQw8"
      },
      "execution_count": null,
      "outputs": []
    }
  ],
  "metadata": {
    "kernelspec": {
      "display_name": "Python 3.8.13 64-bit ('3.8.13')",
      "language": "python",
      "name": "python3"
    },
    "language_info": {
      "codemirror_mode": {
        "name": "ipython",
        "version": 3
      },
      "file_extension": ".py",
      "mimetype": "text/x-python",
      "name": "python",
      "nbconvert_exporter": "python",
      "pygments_lexer": "ipython3",
      "version": "3.8.13"
    },
    "orig_nbformat": 4,
    "vscode": {
      "interpreter": {
        "hash": "110cc1dee26208153f2972f08a2ad52b6a56238dc66d48e87fb757ef2996db56"
      }
    },
    "colab": {
      "name": "C_PC03_Generators.ipynb",
      "provenance": [],
      "include_colab_link": true
    }
  },
  "nbformat": 4,
  "nbformat_minor": 0
}