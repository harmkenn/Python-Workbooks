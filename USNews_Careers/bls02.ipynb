{
 "cells": [
  {
   "cell_type": "code",
   "execution_count": 4,
   "metadata": {},
   "outputs": [
    {
     "name": "stdout",
     "output_type": "stream",
     "text": [
      "Median pay information not found on the page.\n"
     ]
    },
    {
     "name": "stderr",
     "output_type": "stream",
     "text": [
      "C:\\Users\\harmk\\AppData\\Local\\Temp\\ipykernel_17108\\673080379.py:12: DeprecationWarning: The 'text' argument to find()-type methods is deprecated. Use 'string' instead.\n",
      "  median_pay_element = soup.find(\"strong\", text=\"2023 Median Pay\")\n"
     ]
    }
   ],
   "source": [
    "import requests\n",
    "from bs4 import BeautifulSoup\n",
    "\n",
    "# URL of the Dental Hygienists page\n",
    "url = \"https://www.bls.gov/ooh/healthcare/dental-hygienists.htm\"\n",
    "\n",
    "# Fetch the webpage content\n",
    "response = requests.get(url)\n",
    "soup = BeautifulSoup(response.content, \"html.parser\")\n",
    "\n",
    "# Extract the median pay\n",
    "median_pay_element = soup.find(\"strong\", text=\"2023 Median Pay\")\n",
    "if median_pay_element:\n",
    "    median_pay = median_pay_element.find_next(\"p\").get_text().strip()\n",
    "    print(f\"Median Pay for Dental Hygienists: {median_pay}\")\n",
    "else:\n",
    "    print(\"Median pay information not found on the page.\")\n"
   ]
  }
 ],
 "metadata": {
  "kernelspec": {
   "display_name": "Python 3",
   "language": "python",
   "name": "python3"
  },
  "language_info": {
   "codemirror_mode": {
    "name": "ipython",
    "version": 3
   },
   "file_extension": ".py",
   "mimetype": "text/x-python",
   "name": "python",
   "nbconvert_exporter": "python",
   "pygments_lexer": "ipython3",
   "version": "3.12.2"
  }
 },
 "nbformat": 4,
 "nbformat_minor": 2
}
