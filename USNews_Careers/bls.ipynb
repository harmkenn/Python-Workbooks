{
 "cells": [
  {
   "cell_type": "code",
   "execution_count": 1,
   "metadata": {},
   "outputs": [
    {
     "name": "stdout",
     "output_type": "stream",
     "text": [
      "Error: Message: \n",
      "Stacktrace:\n",
      "\tGetHandleVerifier [0x00007FF7D3677072+63090]\n",
      "\t(No symbol) [0x00007FF7D35E2CC2]\n",
      "\t(No symbol) [0x00007FF7D347EC65]\n",
      "\t(No symbol) [0x00007FF7D34C499D]\n",
      "\t(No symbol) [0x00007FF7D34C4ADC]\n",
      "\t(No symbol) [0x00007FF7D3505B37]\n",
      "\t(No symbol) [0x00007FF7D34E701F]\n",
      "\t(No symbol) [0x00007FF7D3503412]\n",
      "\t(No symbol) [0x00007FF7D34E6D83]\n",
      "\t(No symbol) [0x00007FF7D34B83A8]\n",
      "\t(No symbol) [0x00007FF7D34B9441]\n",
      "\tGetHandleVerifier [0x00007FF7D3A725CD+4238285]\n",
      "\tGetHandleVerifier [0x00007FF7D3AAF72D+4488493]\n",
      "\tGetHandleVerifier [0x00007FF7D3AA7A0F+4456463]\n",
      "\tGetHandleVerifier [0x00007FF7D37505B6+953270]\n",
      "\t(No symbol) [0x00007FF7D35EE58F]\n",
      "\t(No symbol) [0x00007FF7D35E9264]\n",
      "\t(No symbol) [0x00007FF7D35E939B]\n",
      "\t(No symbol) [0x00007FF7D35D9BD4]\n",
      "\tBaseThreadInitThunk [0x00007FF8A268257D+29]\n",
      "\tRtlUserThreadStart [0x00007FF8A3B4AA58+40]\n",
      "\n"
     ]
    }
   ],
   "source": [
    "from selenium import webdriver\n",
    "from selenium.webdriver.common.by import By\n",
    "from selenium.webdriver.support.ui import WebDriverWait\n",
    "from selenium.webdriver.support import expected_conditions as EC\n",
    "from selenium.webdriver.chrome.service import Service\n",
    "import time\n",
    "\n",
    "# Set up the WebDriver (choose your preferred browser)\n",
    "service = Service(executable_path=\"chromedriver.exe\")\n",
    "options = webdriver.ChromeOptions()\n",
    "\n",
    "\n",
    "\n",
    "# Add other desired options here\n",
    "\n",
    "driver = webdriver.Chrome(options=options)\n",
    "driver.get('https://www.bls.gov/ooh/home.htm')\n",
    "driver.maximize_window()\n",
    "time.sleep(5)\n",
    "\n",
    "try:\n",
    "    # Accept cookie consent\n",
    "    element = WebDriverWait(driver, 10).until(EC.presence_of_element_located((By.ID, \"onetrust-accept-btn-handler\")))\n",
    "    element.click()\n",
    "\n",
    "    # Click the \"Load More\" button 10 times\n",
    "    for _ in range(10):\n",
    "        load_more_button = WebDriverWait(driver, 10).until(\n",
    "            EC.presence_of_element_located((By.XPATH, \"//button[contains(text(), 'Load More')]\"))\n",
    "        )\n",
    "        driver.execute_script(\"arguments[0].scrollIntoView();\", load_more_button)\n",
    "        load_more_button.click()\n",
    "        time.sleep(5)  # Add a delay to allow content to load\n",
    "\n",
    "except Exception as e:\n",
    "    print(f\"Error: {str(e)}\")\n",
    "\n",
    "finally:\n",
    "    time.sleep(60)\n",
    "    driver.quit()\n"
   ]
  }
 ],
 "metadata": {
  "kernelspec": {
   "display_name": "Python 3",
   "language": "python",
   "name": "python3"
  },
  "language_info": {
   "codemirror_mode": {
    "name": "ipython",
    "version": 3
   },
   "file_extension": ".py",
   "mimetype": "text/x-python",
   "name": "python",
   "nbconvert_exporter": "python",
   "pygments_lexer": "ipython3",
   "version": "3.12.2"
  }
 },
 "nbformat": 4,
 "nbformat_minor": 2
}
