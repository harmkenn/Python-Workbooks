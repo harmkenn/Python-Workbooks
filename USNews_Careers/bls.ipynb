{
 "cells": [
  {
   "cell_type": "code",
   "execution_count": null,
   "metadata": {},
   "outputs": [],
   "source": [
    "from selenium import webdriver\n",
    "from selenium.webdriver.common.by import By\n",
    "from selenium.webdriver.support.ui import WebDriverWait\n",
    "from selenium.webdriver.support import expected_conditions as EC\n",
    "from selenium.webdriver.chrome.service import Service\n",
    "import time\n",
    "\n",
    "# Set up the WebDriver (choose your preferred browser)\n",
    "service = Service(executable_path=\"chromedriver.exe\")\n",
    "options = webdriver.ChromeOptions()\n",
    "\n",
    "\n",
    "\n",
    "# Add other desired options here\n",
    "\n",
    "driver = webdriver.Chrome(options=options)\n",
    "driver.get('https://www.bls.gov/ooh/home.htm')\n",
    "driver.maximize_window()\n",
    "time.sleep(5)\n",
    "\n"
   ]
  },
  {
   "cell_type": "code",
   "execution_count": null,
   "metadata": {},
   "outputs": [],
   "source": [
    "from selenium import webdriver\n",
    "from selenium.webdriver.chrome.service import Service\n",
    "from selenium.webdriver.chrome.options import Options\n",
    "from bs4 import BeautifulSoup\n",
    "import pandas as pd\n",
    "import time\n",
    "\n",
    "# Set up the WebDriver (choose your preferred browser)\n",
    "service = Service(executable_path=\"chromedriver.exe\")\n",
    "options = webdriver.ChromeOptions()\n",
    "# Add other desired options here\n",
    "\n",
    "# Start the WebDriver\n",
    "driver = webdriver.Chrome(service=service, options=options)\n",
    "\n",
    "# Open the webpage\n",
    "driver.get('https://www.bls.gov/ooh/home.htm')\n",
    "\n",
    "# Wait for some time to ensure the page is fully loaded\n",
    "time.sleep(5)\n",
    "\n",
    "# Get the page source\n",
    "page_source = driver.page_source\n",
    "\n",
    "# Parse the page source using BeautifulSoup\n",
    "soup = BeautifulSoup(page_source, 'html.parser')\n",
    "\n",
    "# Find all <a> tags with href containing '/ooh/'\n",
    "links = soup.find_all('a', href=lambda href: href and '/ooh/' in href)\n",
    "\n",
    "# Extract the href and text of each link\n",
    "link_data = []\n",
    "for link in links:\n",
    "    link_data.append({'href': link['href'], 'text': link.text.strip()})\n",
    "\n",
    "# Convert the list of dictionaries to a pandas DataFrame\n",
    "df = pd.DataFrame(link_data)\n",
    "\n",
    "# Close the WebDriver\n",
    "driver.quit()\n",
    "\n",
    "# Display the DataFrame\n",
    "print(df)\n",
    "\n"
   ]
  },
  {
   "cell_type": "code",
   "execution_count": null,
   "metadata": {},
   "outputs": [],
   "source": [
    "# Save the DataFrame to a CSV file\n",
    "df.to_csv('links.csv', index=False)"
   ]
  },
  {
   "cell_type": "code",
   "execution_count": 37,
   "metadata": {},
   "outputs": [],
   "source": [
    "import pandas as pd\n",
    "pd_links = pd.read_csv('links.csv')\n",
    "pd_links = pd_links[~pd_links['text'].str.contains('view', na=False)]\n",
    "# Drop rows with index from 0 to 9\n",
    "pd_links.drop(index=pd_links.index[:9], inplace=True)\n",
    "\n",
    "# Drop rows with index from 700 to 750\n",
    "pd_links.drop(index=pd_links.index[358:], inplace=True)\n",
    "# Add a new column named 'type' and set initial value as 'occupation'\n",
    "pd_links['type'] = 'occupation'\n",
    "\n",
    "# Mark the first 23 rows as 'group' in the 'type' column\n",
    "pd_links.loc[:33, 'type'] = 'group'\n",
    "pd_links['grp'] = pd_links['href'].str.split('/').str[2]\n",
    "\n",
    "vl = pd_links.iloc[:25, [1, 3]].copy()\n",
    "\n",
    "pd_links = pd_links.merge(vl, on='grp', how='left')\n",
    "\n",
    "pd_links.rename(columns={'text_y': 'group'}, inplace=True)\n",
    "pd_links.rename(columns={'text_x': 'Occupation'}, inplace=True)"
   ]
  }
 ],
 "metadata": {
  "kernelspec": {
   "display_name": "Python 3",
   "language": "python",
   "name": "python3"
  },
  "language_info": {
   "codemirror_mode": {
    "name": "ipython",
    "version": 3
   },
   "file_extension": ".py",
   "mimetype": "text/x-python",
   "name": "python",
   "nbconvert_exporter": "python",
   "pygments_lexer": "ipython3",
   "version": "3.12.2"
  }
 },
 "nbformat": 4,
 "nbformat_minor": 2
}
