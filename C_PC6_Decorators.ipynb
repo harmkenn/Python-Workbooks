{
  "nbformat": 4,
  "nbformat_minor": 0,
  "metadata": {
    "colab": {
      "name": "C_PC6_Decorators.ipynb",
      "provenance": [],
      "collapsed_sections": [],
      "authorship_tag": "ABX9TyPXjYJj/ju/9SpiILUH1pCu",
      "include_colab_link": true
    },
    "kernelspec": {
      "name": "python3",
      "display_name": "Python 3"
    },
    "language_info": {
      "name": "python"
    }
  },
  "cells": [
    {
      "cell_type": "markdown",
      "metadata": {
        "id": "view-in-github",
        "colab_type": "text"
      },
      "source": [
        "<a href=\"https://colab.research.google.com/github/harmkenn/Python-Workbooks/blob/main/C_PC6_Decorators.ipynb\" target=\"_parent\"><img src=\"https://colab.research.google.com/assets/colab-badge.svg\" alt=\"Open In Colab\"/></a>"
      ]
    },
    {
      "cell_type": "code",
      "execution_count": null,
      "metadata": {
        "id": "tSHyfApgVje5"
      },
      "outputs": [],
      "source": [
        "# https://python-course.eu/advanced-python/decorators-decoration.php"
      ]
    },
    {
      "cell_type": "code",
      "source": [
        "def succ(x):\n",
        "    return x + 1\n",
        "successor = succ\n",
        "successor(10)"
      ],
      "metadata": {
        "colab": {
          "base_uri": "https://localhost:8080/"
        },
        "id": "2-kZqo3oVwD1",
        "outputId": "ffe62d78-cb14-4403-93a5-afca2db806a2"
      },
      "execution_count": null,
      "outputs": [
        {
          "output_type": "execute_result",
          "data": {
            "text/plain": [
              "11"
            ]
          },
          "metadata": {},
          "execution_count": 1
        }
      ]
    },
    {
      "cell_type": "code",
      "source": [
        "del succ\n",
        "successor(10)"
      ],
      "metadata": {
        "colab": {
          "base_uri": "https://localhost:8080/"
        },
        "id": "nPzPnusnW6rT",
        "outputId": "b8b1e9ba-2733-4ac3-bcd3-5b5663fd1f46"
      },
      "execution_count": null,
      "outputs": [
        {
          "output_type": "execute_result",
          "data": {
            "text/plain": [
              "11"
            ]
          },
          "metadata": {},
          "execution_count": 2
        }
      ]
    },
    {
      "cell_type": "code",
      "source": [
        "def f():\n",
        "    \n",
        "    def g():\n",
        "        print(\"Hi, it's me 'g'\")\n",
        "        print(\"Thanks for calling me\")\n",
        "        \n",
        "    print(\"This is the function 'f'\")\n",
        "    print(\"I am calling 'g' now:\")\n",
        "    g()\n",
        "\n",
        "    \n",
        "f()"
      ],
      "metadata": {
        "colab": {
          "base_uri": "https://localhost:8080/"
        },
        "id": "TiVeD_ZiXSQx",
        "outputId": "d8fa4cea-a7f1-4dea-b4fc-fade4a0900cd"
      },
      "execution_count": null,
      "outputs": [
        {
          "output_type": "stream",
          "name": "stdout",
          "text": [
            "This is the function 'f'\n",
            "I am calling 'g' now:\n",
            "Hi, it's me 'g'\n",
            "Thanks for calling me\n"
          ]
        }
      ]
    },
    {
      "cell_type": "code",
      "source": [
        "def Celsius(t):\n",
        "    def celsius2fahrenheit(x):\n",
        "        return 9 * x / 5 + 32\n",
        "\n",
        "    result = \"It's \" + str(celsius2fahrenheit(t)) + \" degrees fahrenheit!\" \n",
        "    return result\n",
        "\n",
        "print(Celsius(25))"
      ],
      "metadata": {
        "colab": {
          "base_uri": "https://localhost:8080/"
        },
        "id": "0DxppwvaXjkA",
        "outputId": "f1650114-0f1e-4a89-e7b2-9db84468c6d9"
      },
      "execution_count": null,
      "outputs": [
        {
          "output_type": "stream",
          "name": "stdout",
          "text": [
            "It's 77.0 degrees fahrenheit!\n"
          ]
        }
      ]
    },
    {
      "cell_type": "code",
      "source": [
        "def factorial(n):\n",
        "    \"\"\" calculates the factorial of n, \n",
        "        n should be an integer and n <= 0 \"\"\"\n",
        "    if type(n) == int and n >=0:\n",
        "        if n == 0:\n",
        "            return 1\n",
        "        else:\n",
        "            return n * factorial(n-1)\n",
        "    else:\n",
        "        raise TypeError(\"n has to be a positive integer or zero\")\n",
        "\n",
        "factorial(2)"
      ],
      "metadata": {
        "colab": {
          "base_uri": "https://localhost:8080/"
        },
        "id": "dB31_Gv-X31q",
        "outputId": "18977bbb-c2c1-49e5-966a-5b6e8ed66c23"
      },
      "execution_count": null,
      "outputs": [
        {
          "output_type": "execute_result",
          "data": {
            "text/plain": [
              "2"
            ]
          },
          "metadata": {},
          "execution_count": 11
        }
      ]
    }
  ]
}