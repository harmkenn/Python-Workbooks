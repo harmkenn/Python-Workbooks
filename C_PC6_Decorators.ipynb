{
  "nbformat": 4,
  "nbformat_minor": 0,
  "metadata": {
    "colab": {
      "name": "C_PC6_Decorators.ipynb",
      "provenance": [],
      "collapsed_sections": [],
      "authorship_tag": "ABX9TyNMElzTC6I8VWiFhqrkri8U",
      "include_colab_link": true
    },
    "kernelspec": {
      "name": "python3",
      "display_name": "Python 3"
    },
    "language_info": {
      "name": "python"
    }
  },
  "cells": [
    {
      "cell_type": "markdown",
      "metadata": {
        "id": "view-in-github",
        "colab_type": "text"
      },
      "source": [
        "<a href=\"https://colab.research.google.com/github/harmkenn/Python-Workbooks/blob/main/C_PC6_Decorators.ipynb\" target=\"_parent\"><img src=\"https://colab.research.google.com/assets/colab-badge.svg\" alt=\"Open In Colab\"/></a>"
      ]
    },
    {
      "cell_type": "code",
      "execution_count": null,
      "metadata": {
        "id": "tSHyfApgVje5"
      },
      "outputs": [],
      "source": [
        "# https://python-course.eu/advanced-python/decorators-decoration.php"
      ]
    },
    {
      "cell_type": "code",
      "source": [
        "def succ(x):\n",
        "    return x + 1\n",
        "successor = succ\n",
        "successor(10)"
      ],
      "metadata": {
        "colab": {
          "base_uri": "https://localhost:8080/"
        },
        "id": "2-kZqo3oVwD1",
        "outputId": "ffe62d78-cb14-4403-93a5-afca2db806a2"
      },
      "execution_count": null,
      "outputs": [
        {
          "output_type": "execute_result",
          "data": {
            "text/plain": [
              "11"
            ]
          },
          "metadata": {},
          "execution_count": 1
        }
      ]
    },
    {
      "cell_type": "code",
      "source": [
        "del succ\n",
        "successor(10)"
      ],
      "metadata": {
        "colab": {
          "base_uri": "https://localhost:8080/"
        },
        "id": "nPzPnusnW6rT",
        "outputId": "b8b1e9ba-2733-4ac3-bcd3-5b5663fd1f46"
      },
      "execution_count": null,
      "outputs": [
        {
          "output_type": "execute_result",
          "data": {
            "text/plain": [
              "11"
            ]
          },
          "metadata": {},
          "execution_count": 2
        }
      ]
    },
    {
      "cell_type": "code",
      "source": [
        "def f():\n",
        "    \n",
        "    def g():\n",
        "        print(\"Hi, it's me 'g'\")\n",
        "        print(\"Thanks for calling me\")\n",
        "        \n",
        "    print(\"This is the function 'f'\")\n",
        "    print(\"I am calling 'g' now:\")\n",
        "    g()\n",
        "\n",
        "    \n",
        "f()"
      ],
      "metadata": {
        "colab": {
          "base_uri": "https://localhost:8080/"
        },
        "id": "TiVeD_ZiXSQx",
        "outputId": "d8fa4cea-a7f1-4dea-b4fc-fade4a0900cd"
      },
      "execution_count": null,
      "outputs": [
        {
          "output_type": "stream",
          "name": "stdout",
          "text": [
            "This is the function 'f'\n",
            "I am calling 'g' now:\n",
            "Hi, it's me 'g'\n",
            "Thanks for calling me\n"
          ]
        }
      ]
    },
    {
      "cell_type": "code",
      "source": [
        "def Celsius(t):\n",
        "    def celsius2fahrenheit(x):\n",
        "        return 9 * x / 5 + 32\n",
        "\n",
        "    result = \"It's \" + str(celsius2fahrenheit(t)) + \" degrees fahrenheit!\" \n",
        "    return result\n",
        "\n",
        "print(Celsius(25))"
      ],
      "metadata": {
        "colab": {
          "base_uri": "https://localhost:8080/"
        },
        "id": "0DxppwvaXjkA",
        "outputId": "f1650114-0f1e-4a89-e7b2-9db84468c6d9"
      },
      "execution_count": null,
      "outputs": [
        {
          "output_type": "stream",
          "name": "stdout",
          "text": [
            "It's 77.0 degrees fahrenheit!\n"
          ]
        }
      ]
    },
    {
      "cell_type": "code",
      "source": [
        "def factorial(n):\n",
        "    \"\"\" calculates the factorial of n, \n",
        "        n should be an integer and n <= 0 \"\"\"\n",
        "    if type(n) == int and n >=0:\n",
        "        if n == 0:\n",
        "            return 1\n",
        "        else:\n",
        "            return n * factorial(n-1)\n",
        "    else:\n",
        "        raise TypeError(\"n has to be a positive integer or zero\")\n",
        "\n",
        "factorial(2)"
      ],
      "metadata": {
        "colab": {
          "base_uri": "https://localhost:8080/"
        },
        "id": "dB31_Gv-X31q",
        "outputId": "18977bbb-c2c1-49e5-966a-5b6e8ed66c23"
      },
      "execution_count": null,
      "outputs": [
        {
          "output_type": "execute_result",
          "data": {
            "text/plain": [
              "2"
            ]
          },
          "metadata": {},
          "execution_count": 11
        }
      ]
    },
    {
      "cell_type": "code",
      "source": [
        "def factorial(n):\n",
        "    \"\"\" calculates the factorial of n, \n",
        "        n should be an integer and n <= 0 \"\"\"\n",
        "    def inner_factorial(n):\n",
        "        if n == 0:\n",
        "            return 1\n",
        "        else:\n",
        "            return n * inner_factorial(n-1)\n",
        "    if type(n) == int and n >=0:\n",
        "        return inner_factorial(n)\n",
        "    else:\n",
        "        raise TypeError(\"n should be a positve int or 0\")\n",
        "\n",
        "factorial(6)\n"
      ],
      "metadata": {
        "colab": {
          "base_uri": "https://localhost:8080/"
        },
        "id": "ayGdZrGivCvq",
        "outputId": "e036f122-dc84-4791-a466-5e33d1a6d3d0"
      },
      "execution_count": 1,
      "outputs": [
        {
          "output_type": "execute_result",
          "data": {
            "text/plain": [
              "720"
            ]
          },
          "metadata": {},
          "execution_count": 1
        }
      ]
    },
    {
      "cell_type": "code",
      "source": [
        "def factorial(n):\n",
        "    \"\"\" calculates the factorial of n, if n is either a non negative\n",
        "    integer or a float number x being equivalent to an integer, like\n",
        "    4.0, 12.0, 8. i.e. no decimals following the decimal point \"\"\"\n",
        "    def inner_factorial(n):\n",
        "        if n == 0:\n",
        "            return 1\n",
        "        else:\n",
        "            return n * inner_factorial(n-1)\n",
        "    if not isinstance(n, (int, float)):\n",
        "        raise ValueError(\"Value is neither an integer nor a float equivalent to int\")\n",
        "    if isinstance(n, (int))  and n < 0:\n",
        "        raise ValueError('Should be a positive integer or 0')\n",
        "    elif isinstance(n, (float)) and not n.is_integer():\n",
        "        raise ValueError('value is a float but not equivalent to an int')\n",
        "    else:\n",
        "        return inner_factorial(n)\n",
        "\n",
        "values = [0, 1, 5, 7.0, -4, 7.3, \"7\"]\n",
        "for value in values:\n",
        "    try: \n",
        "        print(value, end=\", \")\n",
        "        print(factorial(value))\n",
        "    except ValueError as e:\n",
        "        print(e)"
      ],
      "metadata": {
        "colab": {
          "base_uri": "https://localhost:8080/"
        },
        "id": "d9Z6AygSvOey",
        "outputId": "c42c1dc1-37de-4b6d-aad5-5d2699c82dc5"
      },
      "execution_count": 2,
      "outputs": [
        {
          "output_type": "stream",
          "name": "stdout",
          "text": [
            "0, 1\n",
            "1, 1\n",
            "5, 120\n",
            "7.0, 5040.0\n",
            "-4, Should be a positive integer or 0\n",
            "7.3, value is a float but not equivalent to an int\n",
            "7, Value is neither an integer nor a float equivalent to int\n"
          ]
        }
      ]
    },
    {
      "cell_type": "code",
      "source": [
        "def g():\n",
        "    print(\"Hi, it's me 'g'\")\n",
        "    print(\"Thanks for calling me\")\n",
        "    \n",
        "def f(func):\n",
        "    print(\"Hi, it's me 'f'\")\n",
        "    print(\"I will call 'func' now\")\n",
        "    func()\n",
        "          \n",
        "f(g)"
      ],
      "metadata": {
        "colab": {
          "base_uri": "https://localhost:8080/"
        },
        "id": "dSuyVvZWvZ2x",
        "outputId": "08dc1d99-a14f-4842-fcf1-3fd7f796fff7"
      },
      "execution_count": 3,
      "outputs": [
        {
          "output_type": "stream",
          "name": "stdout",
          "text": [
            "Hi, it's me 'f'\n",
            "I will call 'func' now\n",
            "Hi, it's me 'g'\n",
            "Thanks for calling me\n"
          ]
        }
      ]
    },
    {
      "cell_type": "code",
      "source": [
        "def g():\n",
        "    print(\"Hi, it's me 'g'\")\n",
        "    print(\"Thanks for calling me\")\n",
        "    \n",
        "def f(func):\n",
        "    print(\"Hi, it's me 'f'\")\n",
        "    print(\"I will call 'func' now\")\n",
        "    func()\n",
        "    print(\"func's real name is \" + func.__name__) \n",
        "\n",
        "          \n",
        "f(g)"
      ],
      "metadata": {
        "colab": {
          "base_uri": "https://localhost:8080/"
        },
        "id": "fHBQXDzlvpyh",
        "outputId": "bffe88a1-3e8c-4c43-a2c5-6aee02ae6c0b"
      },
      "execution_count": 4,
      "outputs": [
        {
          "output_type": "stream",
          "name": "stdout",
          "text": [
            "Hi, it's me 'f'\n",
            "I will call 'func' now\n",
            "Hi, it's me 'g'\n",
            "Thanks for calling me\n",
            "func's real name is g\n"
          ]
        }
      ]
    },
    {
      "cell_type": "code",
      "source": [
        "import numpy as np\n",
        "\n",
        "def foo(func):\n",
        "    print(\"The function \" + func.__name__ + \" was passed to foo\")\n",
        "    res = 0\n",
        "    for x in [1, 2, 2.5]:\n",
        "        res += func(x)\n",
        "    return res\n",
        "\n",
        "print(foo(np.sin))\n",
        "print(foo(np.cos))"
      ],
      "metadata": {
        "id": "D4VPSbBg19Fp",
        "outputId": "a3a1dc76-4f93-4de7-eeb6-ff360ec0996e",
        "colab": {
          "base_uri": "https://localhost:8080/"
        }
      },
      "execution_count": 6,
      "outputs": [
        {
          "output_type": "stream",
          "name": "stdout",
          "text": [
            "The function sin was passed to foo\n",
            "2.3492405557375347\n",
            "The function cos was passed to foo\n",
            "-0.6769881462259364\n"
          ]
        }
      ]
    },
    {
      "cell_type": "code",
      "source": [
        "def f(x):\n",
        "    def g(y):\n",
        "        return y + x + 3 \n",
        "        print(y)\n",
        "    return g\n",
        "\n",
        "nf1 = f(1)\n",
        "nf2 = f(3)\n",
        "\n",
        "print(nf1(1))\n",
        "print(nf2(1))"
      ],
      "metadata": {
        "id": "tjM77YAc2VjQ",
        "outputId": "2d8024a0-5475-4854-9d9d-5c81dfc617b5",
        "colab": {
          "base_uri": "https://localhost:8080/",
          "height": 235
        }
      },
      "execution_count": 11,
      "outputs": [
        {
          "output_type": "error",
          "ename": "NameError",
          "evalue": "ignored",
          "traceback": [
            "\u001b[0;31m---------------------------------------------------------------------------\u001b[0m",
            "\u001b[0;31mNameError\u001b[0m                                 Traceback (most recent call last)",
            "\u001b[0;32m<ipython-input-11-ff63d49861f6>\u001b[0m in \u001b[0;36m<module>\u001b[0;34m()\u001b[0m\n\u001b[1;32m      7\u001b[0m \u001b[0mnf1\u001b[0m \u001b[0;34m=\u001b[0m \u001b[0mf\u001b[0m\u001b[0;34m(\u001b[0m\u001b[0;36m1\u001b[0m\u001b[0;34m)\u001b[0m\u001b[0;34m\u001b[0m\u001b[0;34m\u001b[0m\u001b[0m\n\u001b[1;32m      8\u001b[0m \u001b[0mnf2\u001b[0m \u001b[0;34m=\u001b[0m \u001b[0mf\u001b[0m\u001b[0;34m(\u001b[0m\u001b[0;36m3\u001b[0m\u001b[0;34m)\u001b[0m\u001b[0;34m\u001b[0m\u001b[0;34m\u001b[0m\u001b[0m\n\u001b[0;32m----> 9\u001b[0;31m \u001b[0mprint\u001b[0m\u001b[0;34m(\u001b[0m\u001b[0mx\u001b[0m\u001b[0;34m)\u001b[0m\u001b[0;34m\u001b[0m\u001b[0;34m\u001b[0m\u001b[0m\n\u001b[0m\u001b[1;32m     10\u001b[0m \u001b[0mprint\u001b[0m\u001b[0;34m(\u001b[0m\u001b[0mnf1\u001b[0m\u001b[0;34m(\u001b[0m\u001b[0;36m1\u001b[0m\u001b[0;34m)\u001b[0m\u001b[0;34m)\u001b[0m\u001b[0;34m\u001b[0m\u001b[0;34m\u001b[0m\u001b[0m\n\u001b[1;32m     11\u001b[0m \u001b[0mprint\u001b[0m\u001b[0;34m(\u001b[0m\u001b[0mnf2\u001b[0m\u001b[0;34m(\u001b[0m\u001b[0;36m1\u001b[0m\u001b[0;34m)\u001b[0m\u001b[0;34m)\u001b[0m\u001b[0;34m\u001b[0m\u001b[0;34m\u001b[0m\u001b[0m\n",
            "\u001b[0;31mNameError\u001b[0m: name 'x' is not defined"
          ]
        }
      ]
    },
    {
      "cell_type": "code",
      "source": [
        "def greeting_func_gen(lang):\n",
        "    def customized_greeting(name):\n",
        "        if lang == \"de\":   # German\n",
        "            phrase = \"Guten Morgen \"\n",
        "        elif lang == \"fr\": # French\n",
        "            phrase = \"Bonjour \"\n",
        "        elif lang == \"it\": # Italian\n",
        "            phrase = \"Buongiorno \"\n",
        "        elif lang == \"tr\": # Turkish\n",
        "            phrase = \"Günaydın \"\n",
        "        elif lang == \"gr\": # Greek\n",
        "            phrase = \"Καλημερα \"\n",
        "        else:\n",
        "            phrase = \"Hi \"\n",
        "        return phrase + name + \"!\"\n",
        "    return customized_greeting\n",
        "\n",
        "\n",
        "say_hi = greeting_func_gen(\"tr\")\n",
        "print(say_hi(\"Gülay\"))    # this Turkish name means \"rose moon\" by the way"
      ],
      "metadata": {
        "id": "NWOlCeI82bVo",
        "outputId": "4341bfff-8ba6-4bb5-a73d-42431740326b",
        "colab": {
          "base_uri": "https://localhost:8080/"
        }
      },
      "execution_count": 8,
      "outputs": [
        {
          "output_type": "stream",
          "name": "stdout",
          "text": [
            "Günaydın Gülay!\n"
          ]
        }
      ]
    },
    {
      "cell_type": "code",
      "source": [
        "def p1(x):\n",
        "    return 2*x**2 - 3*x + 0.5\n",
        "\n",
        "def p2(x):\n",
        "    return 2.3*x**2 + 2.9*x - 20\n",
        "\n",
        "def p3(x):\n",
        "    return -2.3*x**2 + 4.9*x - 9"
      ],
      "metadata": {
        "id": "N1IKrgN83D8W"
      },
      "execution_count": null,
      "outputs": []
    }
  ]
}