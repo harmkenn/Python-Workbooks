{
 "cells": [
  {
   "cell_type": "code",
   "execution_count": null,
   "metadata": {
    "metadata": {}
   },
   "outputs": [],
   "source": [
    "from census import Census\n",
    "from us import states\n",
    "\n",
    "# Replace 'MY_API_KEY' with your actual API key\n",
    "c = Census(\"793ff6b5dd433d27298863e6bda0d62e2ff4ab8e\")\n",
    "\n",
    "# Example: Get the number of homes built before 1939 in Maryland\n",
    "data = c.acs5.state(('NAME', 'B25034_010E'), states.MD.fips)\n",
    "print(data)\n"
   ]
  },
  {
   "cell_type": "code",
   "execution_count": null,
   "metadata": {
    "metadata": {}
   },
   "outputs": [],
   "source": [
    "from census import Census\n",
    "\n",
    "# Your Census API key\n",
    "api_key = '793ff6b5dd433d27298863e6bda0d62e2ff4ab8e'\n",
    "\n",
    "# Initialize the Census object with your API key\n",
    "c = Census(api_key)\n",
    "\n",
    "# Define the year and dataset you want to access\n",
    "# For example, let's use the 2019 American Community Survey 5-year estimates\n",
    "year = 2019\n",
    "dataset = 'acs5'\n",
    "\n",
    "# Define the fields you want to retrieve\n",
    "# B11001_001E: Total number of households\n",
    "# B11001_002E: Total number of family households\n",
    "# B11001_007E: Total number of nonfamily households\n",
    "fields = ('NAME', 'B11001_001E', 'B11001_002E', 'B11001_007E')\n",
    "\n",
    "# Define the geographic level at which you want the data\n",
    "# For example, let's get data for all states\n",
    "geo = {'for': 'state:*'}\n",
    "\n",
    "# Fetch the data\n",
    "data = c.acs5.get(fields, geo, year=year)\n",
    "\n",
    "# Print the data\n",
    "for record in data:\n",
    "    print(record)\n"
   ]
  },
  {
   "cell_type": "code",
   "execution_count": null,
   "metadata": {
    "metadata": {}
   },
   "outputs": [],
   "source": [
    "import requests\n",
    "\n",
    "# Replace 'YOUR_API_KEY' with your actual API key\n",
    "api_key = '793ff6b5dd433d27298863e6bda0d62e2ff4ab8e'\n",
    "base_url = 'https://api.census.gov/data/2021/acs'\n",
    "\n",
    "# Example query for households by race and marital status\n",
    "endpoint = '/groups/B11001'\n",
    "variables = 'NAME,B11001_001E,B11001_002E,B11001_003E,B11001_004E,B11001_005E'\n",
    "url = f'{base_url}{endpoint}?get={variables}&for=county:*&key={api_key}'\n",
    "\n",
    "response = requests.get(url)\n",
    "data = response.json()\n",
    "\n",
    "# Process the data as needed (e.g., convert to pandas DataFrame)\n",
    "# ...\n",
    "\n",
    "# Print or analyze the results\n",
    "print(data)\n"
   ]
  },
  {
   "cell_type": "code",
   "execution_count": null,
   "metadata": {
    "metadata": {}
   },
   "outputs": [],
   "source": [
    "import pandas as pd\n",
    "import censusdata\n",
    "\n",
    "# Search for transportation-related tables in the ACS 5-year estimates for 2015\n",
    "sample = censusdata.search('acs5', 2015, 'concept', 'transportation')\n",
    "\n",
    "# Print the search results (optional)\n",
    "print(sample)\n",
    "\n",
    "# Specify the variables you're interested in\n",
    "variables = ['B08301_001E', 'B08301_010E', 'B08301_011E']\n",
    "\n",
    "# Get data for those variables (replace 'state_code' and 'county_code' with actual codes)\n",
    "data = censusdata.download('acs5', 2015, censusdata.censusgeo([('state_code', 'ID'), ('county_code', 'BON')]), variables)\n",
    "\n",
    "# Clean up column names (optional)\n",
    "data.columns = ['Total Commuters', 'Car, Truck, or Van', 'Public Transportation']\n",
    "\n",
    "# Display the DataFrame\n",
    "print(data)\n"
   ]
  },
  {
   "cell_type": "code",
   "execution_count": null,
   "metadata": {
    "metadata": {}
   },
   "outputs": [],
   "source": [
    "import cenpy\n",
    "import pandas as pd\n",
    "\n",
    "# Set your API key (replace 'YOUR_API_KEY' with your actual key)\n",
    "cenpy.base.APIConnection.apikey = '793ff6b5dd433d27298863e6bda0d62e2ff4ab8e'\n",
    "\n",
    "# Specify the ACS dataset and variables\n",
    "dataset = 'ACSDT5Y2019'\n",
    "variables = ['B12001_003E']  # Variable for married households\n",
    "\n",
    "# Get data for all states\n",
    "data = cenpy.products.ACS(2019).from_county('state:*', variables=variables)\n",
    "\n",
    "# Clean up column names (optional)\n",
    "data.columns = ['Married Households']\n",
    "\n",
    "# Display the DataFrame\n",
    "print(data)\n"
   ]
  },
  {
   "cell_type": "code",
   "execution_count": null,
   "metadata": {
    "metadata": {}
   },
   "outputs": [],
   "source": [
    "import cenpy\n",
    "acs = cenpy.products.ACS()\n",
    "acs.from_place('Chicago, IL')"
   ]
  },
  {
   "cell_type": "code",
   "execution_count": null,
   "metadata": {
    "metadata": {}
   },
   "outputs": [],
   "source": [
    "import cenpy\n",
    "decennial = cenpy.products.Decennial2020()\n",
    "decennial.from_place('Seattle, WA')"
   ]
  },
  {
   "cell_type": "code",
   "execution_count": 21,
   "metadata": {
    "metadata": {}
   },
   "outputs": [
    {
     "name": "stdout",
     "output_type": "stream",
     "text": [
      "Total married households in the U.S.: 180721883 (in thousands)\n",
      "\n",
      "Married households grouped by race:\n",
      "          Number of Married Couples (in thousands)\n",
      "Race                                              \n",
      "Asian                                     60243458\n",
      "Black                                     66120364\n",
      "Hispanic                                   5876906\n",
      "Other                                            1\n",
      "White                                     48481154\n"
     ]
    }
   ],
   "source": [
    "import requests\n",
    "import pandas as pd\n",
    "\n",
    "# Define the API endpoint for the U.S. Census Bureau\n",
    "census_api_url = \"https://api.census.gov/data/2019/acs/acs1\"\n",
    "\n",
    "# Specify the variables we want (married households and race)\n",
    "variables = {\n",
    "    'get': 'B12001_003E,B12001_004E,B12001_005E,B12001_006E',\n",
    "    'for': 'us:*'\n",
    "}\n",
    "\n",
    "# Make the API request\n",
    "response = requests.get(census_api_url, params=variables)\n",
    "data = response.json()\n",
    "\n",
    "# Extract relevant data\n",
    "race_data = {\n",
    "    'Race': ['White', 'Black', 'Asian', 'Hispanic', 'Other'],\n",
    "    'Number of Married Couples (in thousands)': [\n",
    "        int(data[1][0]),\n",
    "        int(data[1][1]),\n",
    "        int(data[1][2]),\n",
    "        int(data[1][3]),\n",
    "        int(data[1][4])\n",
    "    ]\n",
    "}\n",
    "\n",
    "# Create a DataFrame\n",
    "df = pd.DataFrame(race_data)\n",
    "\n",
    "# Calculate the total number of married households\n",
    "total_married_households = df['Number of Married Couples (in thousands)'].sum()\n",
    "\n",
    "# Group data by race\n",
    "grouped_by_race = df.groupby('Race').sum()\n",
    "\n",
    "# Print results\n",
    "print(f\"Total married households in the U.S.: {total_married_households} (in thousands)\")\n",
    "print(\"\\nMarried households grouped by race:\")\n",
    "print(grouped_by_race)\n"
   ]
  },
  {
   "cell_type": "code",
   "execution_count": 22,
   "metadata": {
    "metadata": {}
   },
   "outputs": [
    {
     "name": "stdout",
     "output_type": "stream",
     "text": [
      "Total unmarried households in the U.S.: 273938835 (in thousands)\n",
      "\n",
      "Unmarried households categorized by marital status:\n",
      "           Category  Number of Households (in thousands)\n",
      "0     Never Married                            134829992\n",
      "1  Divorced/Widowed                            139108843\n"
     ]
    }
   ],
   "source": [
    "import requests\n",
    "import pandas as pd\n",
    "\n",
    "# Define the API endpoint for the U.S. Census Bureau\n",
    "census_api_url = \"https://api.census.gov/data/2022/acs/acs1\"\n",
    "\n",
    "# Specify the variables for unmarried households\n",
    "variables = {\n",
    "    'get': 'B12001_001E,B12001_002E',\n",
    "    'for': 'us:*'\n",
    "}\n",
    "\n",
    "# Make the API request\n",
    "response = requests.get(census_api_url, params=variables)\n",
    "data = response.json()\n",
    "\n",
    "# Extract relevant data\n",
    "total_unmarried_households = int(data[1][0])\n",
    "never_married = int(data[1][1])\n",
    "\n",
    "# Calculate the number of divorced and widowed households\n",
    "divorced_widowed = total_unmarried_households - never_married\n",
    "\n",
    "# Create a DataFrame\n",
    "unmarried_df = pd.DataFrame({\n",
    "    'Category': ['Never Married', 'Divorced/Widowed'],\n",
    "    'Number of Households (in thousands)': [never_married, divorced_widowed]\n",
    "})\n",
    "\n",
    "# Print results\n",
    "print(f\"Total unmarried households in the U.S.: {total_unmarried_households} (in thousands)\")\n",
    "print(\"\\nUnmarried households categorized by marital status:\")\n",
    "print(unmarried_df)\n"
   ]
  }
 ],
 "metadata": {
  "kernelspec": {
   "display_name": "Python 3",
   "language": "python",
   "name": "python3"
  },
  "language_info": {
   "codemirror_mode": {
    "name": "ipython",
    "version": 3
   },
   "file_extension": ".py",
   "mimetype": "text/x-python",
   "name": "python",
   "nbconvert_exporter": "python",
   "pygments_lexer": "ipython3",
   "version": "3.12.3"
  }
 },
 "nbformat": 4,
 "nbformat_minor": 2
}
