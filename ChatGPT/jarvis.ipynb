{
 "cells": [
  {
   "cell_type": "code",
   "execution_count": null,
   "metadata": {},
   "outputs": [],
   "source": [
    "# I asked ChatGPT: I would like to make a jarvis assistant to interact with chat CPT using python\n",
    "# Here is what she told me to do"
   ]
  },
  {
   "cell_type": "code",
   "execution_count": null,
   "metadata": {},
   "outputs": [],
   "source": [
    "''' Configure Speech Recognition: Once you have installed the necessary packages, you need to configure the speech_recognition package. This package allows you to convert speech to text. You can use the following code to configure the package:'''\n",
    "import speech_recognition as sr\n",
    "\n",
    "r = sr.Recognizer()\n",
    "\n",
    "with sr.Microphone() as source:\n",
    "    print(\"Speak anything:\")\n",
    "    audio = r.listen(source)\n",
    "    try:\n",
    "        text = r.recognize_google(audio)\n",
    "        print(\"You said: {}\".format(text))\n",
    "    except:\n",
    "        print(\"Sorry, could not recognize what you said.\")"
   ]
  },
  {
   "cell_type": "code",
   "execution_count": null,
   "metadata": {},
   "outputs": [],
   "source": [
    "import openai\n",
    "openai.api_key = \"YOUR_API_KEY\"\n",
    "\n",
    "def ask_gpt(prompt):\n",
    "    response = openai.Completion.create(\n",
    "        engine=\"davinci\",\n",
    "        prompt=prompt,\n",
    "        temperature=0.5,\n",
    "        max_tokens=1000,\n",
    "        top_p=1,\n",
    "        frequency_penalty=0,\n",
    "        presence_penalty=0\n",
    "    )\n",
    "    message = response.choices[0].text\n",
    "    return message.strip()"
   ]
  },
  {
   "cell_type": "code",
   "execution_count": null,
   "metadata": {},
   "outputs": [],
   "source": [
    "def jarvis_response(input_text):\n",
    "    if \"hello\" in input_text:\n",
    "        return \"Hi, how can I assist you?\"\n",
    "    elif \"weather\" in input_text:\n",
    "        return \"Sorry, I am not equipped to provide weather information.\"\n",
    "    elif \"news\" in input_text:\n",
    "        return \"Here are the latest headlines.\"\n",
    "    else:\n",
    "        response = ask_gpt(prompt=input_text)\n",
    "        return response"
   ]
  },
  {
   "cell_type": "code",
   "execution_count": null,
   "metadata": {},
   "outputs": [],
   "source": [
    "while True:\n",
    "    # get audio from the user\n",
    "    with sr.Microphone() as source:\n",
    "        print(\"Speak anything:\")\n",
    "        audio = r.listen(source)\n",
    "        try:\n",
    "            text = r.recognize_google(audio)\n",
    "            print(\"You said: {}\".format(text))\n",
    "            response = jarvis_response(text.lower())\n",
    "            print(response)\n",
    "        except:\n",
    "            print(\"Sorry, could not recognize what you said.\")"
   ]
  }
 ],
 "metadata": {
  "language_info": {
   "name": "python"
  },
  "orig_nbformat": 4
 },
 "nbformat": 4,
 "nbformat_minor": 2
}
