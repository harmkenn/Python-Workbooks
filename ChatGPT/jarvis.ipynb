{
 "cells": [
  {
   "cell_type": "code",
   "execution_count": null,
   "metadata": {},
   "outputs": [],
   "source": [
    "# I asked ChatGPT: I would like to make a jarvis assistant to interact with chat CPT using python\n",
    "# Here is what she told me to do"
   ]
  },
  {
   "cell_type": "code",
   "execution_count": null,
   "metadata": {},
   "outputs": [],
   "source": [
    "''' Configure Speech Recognition: Once you have installed the necessary packages, you need to configure the speech_recognition package. This package allows you to convert speech to text. You can use the following code to configure the package:'''\n",
    "import speech_recognition as sr\n",
    "\n",
    "r = sr.Recognizer()\n",
    "\n",
    "with sr.Microphone() as source:\n",
    "    print(\"Speak anything:\")\n",
    "    audio = r.listen(source)\n",
    "    try:\n",
    "        text = r.recognize_google(audio)\n",
    "        print(\"You said: {}\".format(text))\n",
    "    except:\n",
    "        print(\"Sorry, could not recognize what you said.\")"
   ]
  }
 ],
 "metadata": {
  "language_info": {
   "name": "python"
  },
  "orig_nbformat": 4
 },
 "nbformat": 4,
 "nbformat_minor": 2
}
