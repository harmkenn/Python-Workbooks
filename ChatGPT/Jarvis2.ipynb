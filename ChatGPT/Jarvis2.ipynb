{
 "cells": [
  {
   "cell_type": "code",
   "execution_count": 4,
   "metadata": {},
   "outputs": [
    {
     "ename": "ImportError",
     "evalue": "cannot import name 'COMError' from '_ctypes' (/home/gitpod/.pyenv/versions/3.11.4/lib/python3.11/lib-dynload/_ctypes.cpython-311-x86_64-linux-gnu.so)",
     "output_type": "error",
     "traceback": [
      "\u001b[0;31m---------------------------------------------------------------------------\u001b[0m",
      "\u001b[0;31mKeyError\u001b[0m                                  Traceback (most recent call last)",
      "File \u001b[0;32m/workspace/.pyenv_mirror/user/current/lib/python3.11/site-packages/pyttsx3/__init__.py:20\u001b[0m, in \u001b[0;36minit\u001b[0;34m(driverName, debug)\u001b[0m\n\u001b[1;32m     19\u001b[0m \u001b[39mtry\u001b[39;00m:\n\u001b[0;32m---> 20\u001b[0m     eng \u001b[39m=\u001b[39m _activeEngines[driverName]\n\u001b[1;32m     21\u001b[0m \u001b[39mexcept\u001b[39;00m \u001b[39mKeyError\u001b[39;00m:\n",
      "File \u001b[0;32m~/.pyenv/versions/3.11.4/lib/python3.11/weakref.py:136\u001b[0m, in \u001b[0;36mWeakValueDictionary.__getitem__\u001b[0;34m(self, key)\u001b[0m\n\u001b[1;32m    135\u001b[0m     \u001b[39mself\u001b[39m\u001b[39m.\u001b[39m_commit_removals()\n\u001b[0;32m--> 136\u001b[0m o \u001b[39m=\u001b[39m \u001b[39mself\u001b[39;49m\u001b[39m.\u001b[39;49mdata[key]()\n\u001b[1;32m    137\u001b[0m \u001b[39mif\u001b[39;00m o \u001b[39mis\u001b[39;00m \u001b[39mNone\u001b[39;00m:\n",
      "\u001b[0;31mKeyError\u001b[0m: 'sapi5'",
      "\nDuring handling of the above exception, another exception occurred:\n",
      "\u001b[0;31mImportError\u001b[0m                               Traceback (most recent call last)",
      "Cell \u001b[0;32mIn[4], line 17\u001b[0m\n\u001b[1;32m     14\u001b[0m     answer\u001b[39m=\u001b[39mresponse\u001b[39m.\u001b[39mchoices[\u001b[39m0\u001b[39m]\u001b[39m.\u001b[39mtext\u001b[39m.\u001b[39mstrip()\n\u001b[1;32m     15\u001b[0m     \u001b[39mreturn\u001b[39;00m answer\n\u001b[0;32m---> 17\u001b[0m engine\u001b[39m=\u001b[39mpyttsx3\u001b[39m.\u001b[39;49minit(\u001b[39m'\u001b[39;49m\u001b[39msapi5\u001b[39;49m\u001b[39m'\u001b[39;49m)\n\u001b[1;32m     18\u001b[0m voices\u001b[39m=\u001b[39mengine\u001b[39m.\u001b[39mgetProperty(\u001b[39m'\u001b[39m\u001b[39mvoices\u001b[39m\u001b[39m'\u001b[39m)\n\u001b[1;32m     19\u001b[0m engine\u001b[39m.\u001b[39msetProperty(\u001b[39m'\u001b[39m\u001b[39mvoice\u001b[39m\u001b[39m'\u001b[39m, voices[\u001b[39m0\u001b[39m]\u001b[39m.\u001b[39mid)\n",
      "File \u001b[0;32m/workspace/.pyenv_mirror/user/current/lib/python3.11/site-packages/pyttsx3/__init__.py:22\u001b[0m, in \u001b[0;36minit\u001b[0;34m(driverName, debug)\u001b[0m\n\u001b[1;32m     20\u001b[0m     eng \u001b[39m=\u001b[39m _activeEngines[driverName]\n\u001b[1;32m     21\u001b[0m \u001b[39mexcept\u001b[39;00m \u001b[39mKeyError\u001b[39;00m:\n\u001b[0;32m---> 22\u001b[0m     eng \u001b[39m=\u001b[39m Engine(driverName, debug)\n\u001b[1;32m     23\u001b[0m     _activeEngines[driverName] \u001b[39m=\u001b[39m eng\n\u001b[1;32m     24\u001b[0m \u001b[39mreturn\u001b[39;00m eng\n",
      "File \u001b[0;32m/workspace/.pyenv_mirror/user/current/lib/python3.11/site-packages/pyttsx3/engine.py:30\u001b[0m, in \u001b[0;36mEngine.__init__\u001b[0;34m(self, driverName, debug)\u001b[0m\n\u001b[1;32m     20\u001b[0m \u001b[39mdef\u001b[39;00m \u001b[39m__init__\u001b[39m(\u001b[39mself\u001b[39m, driverName\u001b[39m=\u001b[39m\u001b[39mNone\u001b[39;00m, debug\u001b[39m=\u001b[39m\u001b[39mFalse\u001b[39;00m):\n\u001b[1;32m     21\u001b[0m \u001b[39m    \u001b[39m\u001b[39m\"\"\"\u001b[39;00m\n\u001b[1;32m     22\u001b[0m \u001b[39m    Constructs a new TTS engine instance.\u001b[39;00m\n\u001b[1;32m     23\u001b[0m \n\u001b[0;32m   (...)\u001b[0m\n\u001b[1;32m     28\u001b[0m \u001b[39m    @type debug: bool\u001b[39;00m\n\u001b[1;32m     29\u001b[0m \u001b[39m    \"\"\"\u001b[39;00m\n\u001b[0;32m---> 30\u001b[0m     \u001b[39mself\u001b[39m\u001b[39m.\u001b[39mproxy \u001b[39m=\u001b[39m driver\u001b[39m.\u001b[39;49mDriverProxy(weakref\u001b[39m.\u001b[39;49mproxy(\u001b[39mself\u001b[39;49m), driverName, debug)\n\u001b[1;32m     31\u001b[0m     \u001b[39m# initialize other vars\u001b[39;00m\n\u001b[1;32m     32\u001b[0m     \u001b[39mself\u001b[39m\u001b[39m.\u001b[39m_connects \u001b[39m=\u001b[39m {}\n",
      "File \u001b[0;32m/workspace/.pyenv_mirror/user/current/lib/python3.11/site-packages/pyttsx3/driver.py:50\u001b[0m, in \u001b[0;36mDriverProxy.__init__\u001b[0;34m(self, engine, driverName, debug)\u001b[0m\n\u001b[1;32m     48\u001b[0m \u001b[39m# import driver module\u001b[39;00m\n\u001b[1;32m     49\u001b[0m name \u001b[39m=\u001b[39m \u001b[39m'\u001b[39m\u001b[39mpyttsx3.drivers.\u001b[39m\u001b[39m%s\u001b[39;00m\u001b[39m'\u001b[39m \u001b[39m%\u001b[39m driverName\n\u001b[0;32m---> 50\u001b[0m \u001b[39mself\u001b[39m\u001b[39m.\u001b[39m_module \u001b[39m=\u001b[39m importlib\u001b[39m.\u001b[39;49mimport_module(name)\n\u001b[1;32m     51\u001b[0m \u001b[39m# build driver instance\u001b[39;00m\n\u001b[1;32m     52\u001b[0m \u001b[39mself\u001b[39m\u001b[39m.\u001b[39m_driver \u001b[39m=\u001b[39m \u001b[39mself\u001b[39m\u001b[39m.\u001b[39m_module\u001b[39m.\u001b[39mbuildDriver(weakref\u001b[39m.\u001b[39mproxy(\u001b[39mself\u001b[39m))\n",
      "File \u001b[0;32m~/.pyenv/versions/3.11.4/lib/python3.11/importlib/__init__.py:126\u001b[0m, in \u001b[0;36mimport_module\u001b[0;34m(name, package)\u001b[0m\n\u001b[1;32m    124\u001b[0m             \u001b[39mbreak\u001b[39;00m\n\u001b[1;32m    125\u001b[0m         level \u001b[39m+\u001b[39m\u001b[39m=\u001b[39m \u001b[39m1\u001b[39m\n\u001b[0;32m--> 126\u001b[0m \u001b[39mreturn\u001b[39;00m _bootstrap\u001b[39m.\u001b[39;49m_gcd_import(name[level:], package, level)\n",
      "File \u001b[0;32m<frozen importlib._bootstrap>:1204\u001b[0m, in \u001b[0;36m_gcd_import\u001b[0;34m(name, package, level)\u001b[0m\n",
      "File \u001b[0;32m<frozen importlib._bootstrap>:1176\u001b[0m, in \u001b[0;36m_find_and_load\u001b[0;34m(name, import_)\u001b[0m\n",
      "File \u001b[0;32m<frozen importlib._bootstrap>:1147\u001b[0m, in \u001b[0;36m_find_and_load_unlocked\u001b[0;34m(name, import_)\u001b[0m\n",
      "File \u001b[0;32m<frozen importlib._bootstrap>:690\u001b[0m, in \u001b[0;36m_load_unlocked\u001b[0;34m(spec)\u001b[0m\n",
      "File \u001b[0;32m<frozen importlib._bootstrap_external>:940\u001b[0m, in \u001b[0;36mexec_module\u001b[0;34m(self, module)\u001b[0m\n",
      "File \u001b[0;32m<frozen importlib._bootstrap>:241\u001b[0m, in \u001b[0;36m_call_with_frames_removed\u001b[0;34m(f, *args, **kwds)\u001b[0m\n",
      "File \u001b[0;32m/workspace/.pyenv_mirror/user/current/lib/python3.11/site-packages/pyttsx3/drivers/sapi5.py:1\u001b[0m\n\u001b[0;32m----> 1\u001b[0m \u001b[39mimport\u001b[39;00m \u001b[39mcomtypes\u001b[39;00m\u001b[39m.\u001b[39;00m\u001b[39mclient\u001b[39;00m  \u001b[39m# Importing comtypes.client will make the gen subpackage\u001b[39;00m\n\u001b[1;32m      2\u001b[0m \u001b[39mtry\u001b[39;00m:\n\u001b[1;32m      3\u001b[0m     \u001b[39mfrom\u001b[39;00m \u001b[39mcomtypes\u001b[39;00m\u001b[39m.\u001b[39;00m\u001b[39mgen\u001b[39;00m \u001b[39mimport\u001b[39;00m SpeechLib  \u001b[39m# comtypes\u001b[39;00m\n",
      "File \u001b[0;32m/workspace/.pyenv_mirror/user/current/lib/python3.11/site-packages/comtypes/__init__.py:7\u001b[0m\n\u001b[1;32m      5\u001b[0m \u001b[39mfrom\u001b[39;00m \u001b[39mctypes\u001b[39;00m \u001b[39mimport\u001b[39;00m \u001b[39m*\u001b[39m\n\u001b[1;32m      6\u001b[0m \u001b[39mfrom\u001b[39;00m \u001b[39mctypes\u001b[39;00m \u001b[39mimport\u001b[39;00m _SimpleCData\n\u001b[0;32m----> 7\u001b[0m \u001b[39mfrom\u001b[39;00m \u001b[39m_ctypes\u001b[39;00m \u001b[39mimport\u001b[39;00m COMError\n\u001b[1;32m      8\u001b[0m \u001b[39mimport\u001b[39;00m \u001b[39mlogging\u001b[39;00m\n\u001b[1;32m      9\u001b[0m \u001b[39mimport\u001b[39;00m \u001b[39mos\u001b[39;00m\n",
      "\u001b[0;31mImportError\u001b[0m: cannot import name 'COMError' from '_ctypes' (/home/gitpod/.pyenv/versions/3.11.4/lib/python3.11/lib-dynload/_ctypes.cpython-311-x86_64-linux-gnu.so)"
     ]
    }
   ],
   "source": [
    "import openai\n",
    "from apikey import api_data\n",
    "import pyttsx3\n",
    "import speech_recognition as sr\n",
    "import webbrowser\n",
    "\n",
    "openai.api_key=api_data\n",
    "\n",
    "completion=openai.Completion()\n",
    "\n",
    "def Reply(question):\n",
    "    prompt=f'Ken: {question}\\n Jarvis: '\n",
    "    response=completion.create(prompt=prompt, engine=\"text-davinci-002\", stop=['\\Ken'], max_tokens=200)\n",
    "    answer=response.choices[0].text.strip()\n",
    "    return answer\n",
    "\n",
    "engine=pyttsx3.init('sapi5')\n",
    "voices=engine.getProperty('voices')\n",
    "engine.setProperty('voice', voices[0].id)\n",
    "\n",
    "def speak(text):\n",
    "    engine.say(text)\n",
    "    engine.runAndWait()\n",
    "\n",
    "speak(\"Hello How Are You? \")\n",
    "\n",
    "def takeCommand():\n",
    "    r=sr.Recognizer()\n",
    "    with sr.Microphone() as source:\n",
    "        print('Listening....')\n",
    "        r.pause_threshold = 1\n",
    "        audio = r.listen(source)\n",
    "    try:\n",
    "        print(\"Recognizing.....\")\n",
    "        query=r.recognize_google(audio, language='en-in')\n",
    "        print(\"Ken Said: {} \\n\".format(query))\n",
    "    except Exception as e:\n",
    "        print(\"Say That Again....\")\n",
    "        return \"None\"\n",
    "    return query\n",
    "\n",
    "\n",
    "if __name__ == '__main__':\n",
    "    while True:\n",
    "        query=takeCommand().lower()\n",
    "        ans=Reply(query)\n",
    "        print(ans)\n",
    "        speak(ans)\n",
    "        if 'open youtube' in query:\n",
    "            webbrowser.open(\"www.youtube.com\")\n",
    "        if 'open google' in query:\n",
    "            webbrowser.open(\"www.google.com\")\n",
    "        if 'bye' in query:\n",
    "            break"
   ]
  }
 ],
 "metadata": {
  "kernelspec": {
   "display_name": "Python 3",
   "language": "python",
   "name": "python3"
  },
  "language_info": {
   "codemirror_mode": {
    "name": "ipython",
    "version": 3
   },
   "file_extension": ".py",
   "mimetype": "text/x-python",
   "name": "python",
   "nbconvert_exporter": "python",
   "pygments_lexer": "ipython3",
   "version": "3.11.4"
  },
  "orig_nbformat": 4
 },
 "nbformat": 4,
 "nbformat_minor": 2
}
