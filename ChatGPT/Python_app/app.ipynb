{
 "cells": [
  {
   "cell_type": "code",
   "execution_count": 1,
   "metadata": {},
   "outputs": [
    {
     "ename": "TclError",
     "evalue": "no display name and no $DISPLAY environment variable",
     "output_type": "error",
     "traceback": [
      "\u001b[0;31m---------------------------------------------------------------------------\u001b[0m",
      "\u001b[0;31mTclError\u001b[0m                                  Traceback (most recent call last)",
      "Cell \u001b[0;32mIn[1], line 15\u001b[0m\n\u001b[1;32m     12\u001b[0m     text_widget\u001b[39m.\u001b[39minsert(\u001b[39m\"\u001b[39m\u001b[39m1.0\u001b[39m\u001b[39m\"\u001b[39m, updated_text)\n\u001b[1;32m     14\u001b[0m \u001b[39m# Create the main window\u001b[39;00m\n\u001b[0;32m---> 15\u001b[0m root \u001b[39m=\u001b[39m tk\u001b[39m.\u001b[39;49mTk()\n\u001b[1;32m     16\u001b[0m root\u001b[39m.\u001b[39mtitle(\u001b[39m\"\u001b[39m\u001b[39mFind and Replace App\u001b[39m\u001b[39m\"\u001b[39m)\n\u001b[1;32m     18\u001b[0m \u001b[39m# Create and pack labels, entry fields, and buttons\u001b[39;00m\n",
      "File \u001b[0;32m~/.pyenv/versions/3.11.4/lib/python3.11/tkinter/__init__.py:2326\u001b[0m, in \u001b[0;36mTk.__init__\u001b[0;34m(self, screenName, baseName, className, useTk, sync, use)\u001b[0m\n\u001b[1;32m   2324\u001b[0m         baseName \u001b[39m=\u001b[39m baseName \u001b[39m+\u001b[39m ext\n\u001b[1;32m   2325\u001b[0m interactive \u001b[39m=\u001b[39m \u001b[39mFalse\u001b[39;00m\n\u001b[0;32m-> 2326\u001b[0m \u001b[39mself\u001b[39m\u001b[39m.\u001b[39mtk \u001b[39m=\u001b[39m _tkinter\u001b[39m.\u001b[39;49mcreate(screenName, baseName, className, interactive, wantobjects, useTk, sync, use)\n\u001b[1;32m   2327\u001b[0m \u001b[39mif\u001b[39;00m useTk:\n\u001b[1;32m   2328\u001b[0m     \u001b[39mself\u001b[39m\u001b[39m.\u001b[39m_loadtk()\n",
      "\u001b[0;31mTclError\u001b[0m: no display name and no $DISPLAY environment variable"
     ]
    }
   ],
   "source": [
    "import tkinter as tk\n",
    "from tkinter import ttk\n",
    "\n",
    "def find_replace():\n",
    "    find_text = find_entry.get()\n",
    "    replace_text = replace_entry.get()\n",
    "    input_text = text_widget.get(\"1.0\", \"end-1c\")\n",
    "    \n",
    "    updated_text = input_text.replace(find_text, replace_text)\n",
    "    \n",
    "    text_widget.delete(\"1.0\", \"end-1c\")\n",
    "    text_widget.insert(\"1.0\", updated_text)\n",
    "\n",
    "# Create the main window\n",
    "root = tk.Tk()\n",
    "root.title(\"Find and Replace App\")\n",
    "\n",
    "# Create and pack labels, entry fields, and buttons\n",
    "find_label = ttk.Label(root, text=\"Find:\")\n",
    "find_label.pack()\n",
    "find_entry = ttk.Entry(root)\n",
    "find_entry.pack()\n",
    "\n",
    "replace_label = ttk.Label(root, text=\"Replace with:\")\n",
    "replace_label.pack()\n",
    "replace_entry = ttk.Entry(root)\n",
    "replace_entry.pack()\n",
    "\n",
    "replace_button = ttk.Button(root, text=\"Replace\", command=find_replace)\n",
    "replace_button.pack()\n",
    "\n",
    "text_widget = tk.Text(root, wrap=tk.WORD)\n",
    "text_widget.pack()\n",
    "\n",
    "# Start the application\n",
    "root.mainloop()\n"
   ]
  }
 ],
 "metadata": {
  "kernelspec": {
   "display_name": "Python 3",
   "language": "python",
   "name": "python3"
  },
  "language_info": {
   "codemirror_mode": {
    "name": "ipython",
    "version": 3
   },
   "file_extension": ".py",
   "mimetype": "text/x-python",
   "name": "python",
   "nbconvert_exporter": "python",
   "pygments_lexer": "ipython3",
   "version": "3.11.4"
  },
  "orig_nbformat": 4
 },
 "nbformat": 4,
 "nbformat_minor": 2
}
