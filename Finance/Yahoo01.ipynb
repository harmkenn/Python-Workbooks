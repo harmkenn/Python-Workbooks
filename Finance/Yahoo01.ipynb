{
 "cells": [
  {
   "cell_type": "code",
   "execution_count": 1,
   "metadata": {},
   "outputs": [
    {
     "ename": "ModuleNotFoundError",
     "evalue": "No module named 'yfinance'",
     "output_type": "error",
     "traceback": [
      "\u001b[0;31m---------------------------------------------------------------------------\u001b[0m",
      "\u001b[0;31mModuleNotFoundError\u001b[0m                       Traceback (most recent call last)",
      "Cell \u001b[0;32mIn[1], line 1\u001b[0m\n\u001b[0;32m----> 1\u001b[0m \u001b[39mimport\u001b[39;00m \u001b[39myfinance\u001b[39;00m \u001b[39mas\u001b[39;00m \u001b[39myf\u001b[39;00m\n\u001b[1;32m      3\u001b[0m \u001b[39m# Define the ticker symbol for the mutual fund\u001b[39;00m\n\u001b[1;32m      4\u001b[0m ticker \u001b[39m=\u001b[39m \u001b[39m\"\u001b[39m\u001b[39mFUND_SYMBOL\u001b[39m\u001b[39m\"\u001b[39m  \u001b[39m# Replace with the desired mutual fund's symbol\u001b[39;00m\n",
      "\u001b[0;31mModuleNotFoundError\u001b[0m: No module named 'yfinance'"
     ]
    }
   ],
   "source": [
    "import yfinance as yf\n",
    "\n",
    "# Define the ticker symbol for the mutual fund\n",
    "ticker = \"FUND_SYMBOL\"  # Replace with the desired mutual fund's symbol\n",
    "\n",
    "# Download historical data\n",
    "data = yf.download(ticker)\n",
    "\n",
    "# Print the downloaded data\n",
    "print(data)\n"
   ]
  }
 ],
 "metadata": {
  "kernelspec": {
   "display_name": "Python 3",
   "language": "python",
   "name": "python3"
  },
  "language_info": {
   "codemirror_mode": {
    "name": "ipython",
    "version": 3
   },
   "file_extension": ".py",
   "mimetype": "text/x-python",
   "name": "python",
   "nbconvert_exporter": "python",
   "pygments_lexer": "ipython3",
   "version": "3.11.1"
  },
  "orig_nbformat": 4
 },
 "nbformat": 4,
 "nbformat_minor": 2
}
