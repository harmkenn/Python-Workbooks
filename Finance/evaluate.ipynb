{
 "cells": [
  {
   "cell_type": "code",
   "execution_count": 3,
   "metadata": {},
   "outputs": [
    {
     "ename": "KeyError",
     "evalue": "'returns'",
     "output_type": "error",
     "traceback": [
      "\u001b[1;31m---------------------------------------------------------------------------\u001b[0m",
      "\u001b[1;31mKeyError\u001b[0m                                  Traceback (most recent call last)",
      "Cell \u001b[1;32mIn[3], line 26\u001b[0m\n\u001b[0;32m     23\u001b[0m   \u001b[39mprint\u001b[39m(\u001b[39mf\u001b[39m\u001b[39m\"\u001b[39m\u001b[39mThe score for \u001b[39m\u001b[39m{\u001b[39;00mfund_symbol\u001b[39m}\u001b[39;00m\u001b[39m is \u001b[39m\u001b[39m{\u001b[39;00mscore\u001b[39m}\u001b[39;00m\u001b[39m\"\u001b[39m)\n\u001b[0;32m     25\u001b[0m \u001b[39mif\u001b[39;00m \u001b[39m__name__\u001b[39m \u001b[39m==\u001b[39m \u001b[39m\"\u001b[39m\u001b[39m__main__\u001b[39m\u001b[39m\"\u001b[39m:\n\u001b[1;32m---> 26\u001b[0m   main()\n",
      "Cell \u001b[1;32mIn[3], line 22\u001b[0m, in \u001b[0;36mmain\u001b[1;34m()\u001b[0m\n\u001b[0;32m     20\u001b[0m fund_symbol \u001b[39m=\u001b[39m \u001b[39m\"\u001b[39m\u001b[39mFSHOX\u001b[39m\u001b[39m\"\u001b[39m\n\u001b[0;32m     21\u001b[0m fund_info \u001b[39m=\u001b[39m get_mutual_fund_info(fund_symbol)\n\u001b[1;32m---> 22\u001b[0m score \u001b[39m=\u001b[39m calculate_score(fund_info)\n\u001b[0;32m     23\u001b[0m \u001b[39mprint\u001b[39m(\u001b[39mf\u001b[39m\u001b[39m\"\u001b[39m\u001b[39mThe score for \u001b[39m\u001b[39m{\u001b[39;00mfund_symbol\u001b[39m}\u001b[39;00m\u001b[39m is \u001b[39m\u001b[39m{\u001b[39;00mscore\u001b[39m}\u001b[39;00m\u001b[39m\"\u001b[39m)\n",
      "Cell \u001b[1;32mIn[3], line 12\u001b[0m, in \u001b[0;36mcalculate_score\u001b[1;34m(fund_info)\u001b[0m\n\u001b[0;32m     10\u001b[0m score \u001b[39m=\u001b[39m \u001b[39m0\u001b[39m\n\u001b[0;32m     11\u001b[0m \u001b[39m# Add points for high returns\u001b[39;00m\n\u001b[1;32m---> 12\u001b[0m score \u001b[39m+\u001b[39m\u001b[39m=\u001b[39m fund_info[\u001b[39m\"\u001b[39;49m\u001b[39mreturns\u001b[39;49m\u001b[39m\"\u001b[39;49m][\u001b[39m\"\u001b[39m\u001b[39mannualized_return_10y\u001b[39m\u001b[39m\"\u001b[39m]\n\u001b[0;32m     13\u001b[0m \u001b[39m# Add points for low fees\u001b[39;00m\n\u001b[0;32m     14\u001b[0m score \u001b[39m-\u001b[39m\u001b[39m=\u001b[39m fund_info[\u001b[39m\"\u001b[39m\u001b[39mexpense_ratio\u001b[39m\u001b[39m\"\u001b[39m]\n",
      "\u001b[1;31mKeyError\u001b[0m: 'returns'"
     ]
    }
   ],
   "source": [
    "import pandas as pd\n",
    "import yfinance as yf\n",
    "\n",
    "def get_mutual_fund_info(fund_symbol):\n",
    "  fund = yf.Ticker(fund_symbol)\n",
    "  fund_info = fund.info\n",
    "  return fund_info\n",
    "\n",
    "def calculate_score(fund_info):\n",
    "  score = 0\n",
    "  # Add points for high returns\n",
    "  score += fund_info[\"returns\"][\"annualized_return_10y\"]\n",
    "  # Add points for low fees\n",
    "  score -= fund_info[\"expense_ratio\"]\n",
    "  # Add points for low volatility\n",
    "  score -= fund_info[\"beta\"]\n",
    "  return score\n",
    "\n",
    "def main():\n",
    "  fund_symbol = \"FSHOX\"\n",
    "  fund_info = get_mutual_fund_info(fund_symbol)\n",
    "  score = calculate_score(fund_info)\n",
    "  print(f\"The score for {fund_symbol} is {score}\")\n",
    "\n",
    "if __name__ == \"__main__\":\n",
    "  main()\n"
   ]
  },
  {
   "cell_type": "code",
   "execution_count": 6,
   "metadata": {},
   "outputs": [
    {
     "data": {
      "text/plain": [
       "{'address1': 'Boston MA 02109',\n",
       " 'address2': '82 Devonshire Street',\n",
       " 'address3': 'Fidelity Select Portfolios',\n",
       " 'longBusinessSummary': \"The fund normally invests at least 80% of assets in securities of companies principally engaged in the design and construction of residential, commercial, industrial, and public works facilities, as well as companies engaged in the manufacture, supply, distribution, or sale of construction and housing products or services. It invests in domestic and foreign issuers. The fund uses fundamental analysis of factors such as each issuer's financial condition and industry position, as well as market and economic conditions to select investments. It invests primarily in common stocks. The fund is non-diversified.\",\n",
       " 'maxAge': 86400,\n",
       " 'priceHint': 2,\n",
       " 'previousClose': 102.670006,\n",
       " 'regularMarketPreviousClose': 102.670006,\n",
       " 'averageVolume': 0,\n",
       " 'averageVolume10days': 0,\n",
       " 'averageDailyVolume10Day': 0,\n",
       " 'yield': 0.0067000003,\n",
       " 'ytdReturn': 0.24386999,\n",
       " 'totalAssets': 557066944,\n",
       " 'fiftyTwoWeekLow': 73.6,\n",
       " 'fiftyTwoWeekHigh': 102.98,\n",
       " 'fiftyDayAverage': 95.2206,\n",
       " 'twoHundredDayAverage': 87.9342,\n",
       " 'currency': 'USD',\n",
       " 'morningStarOverallRating': 5,\n",
       " 'morningStarRiskRating': 3,\n",
       " 'annualReportExpenseRatio': 0.0077,\n",
       " 'beta3Year': 1.09,\n",
       " 'fundInceptionDate': 528336000,\n",
       " 'lastDividendValue': 0.659,\n",
       " 'lastCapGain': 30.0,\n",
       " 'annualHoldingsTurnover': 0.2,\n",
       " 'exchange': 'NAS',\n",
       " 'quoteType': 'MUTUALFUND',\n",
       " 'symbol': 'FSHOX',\n",
       " 'underlyingSymbol': 'FSHOX',\n",
       " 'shortName': 'Fidelity Select Construction an',\n",
       " 'longName': 'Fidelity Select Construction and Housing Portfolio',\n",
       " 'firstTradeDateEpochUtc': 528384600,\n",
       " 'timeZoneFullName': 'America/New_York',\n",
       " 'timeZoneShortName': 'EDT',\n",
       " 'uuid': 'c7f0fef7-0cb7-3faf-a2bd-607a5098b550',\n",
       " 'messageBoardId': 'finmb_28180366',\n",
       " 'gmtOffSetMilliseconds': -14400000,\n",
       " 'trailingPegRatio': None}"
      ]
     },
     "execution_count": 6,
     "metadata": {},
     "output_type": "execute_result"
    }
   ],
   "source": [
    "fund_symbol = \"FSHOX\"\n",
    "fund = yf.Ticker(fund_symbol)\n",
    "fund.info\n"
   ]
  },
  {
   "cell_type": "code",
   "execution_count": 11,
   "metadata": {},
   "outputs": [
    {
     "name": "stdout",
     "output_type": "stream",
     "text": [
      "[*********************100%***********************]  1 of 1 completed\n",
      "This mutual fund may not be a good investment.\n",
      "AMAGX 0.0005564063341850861 0.015347137331348057\n"
     ]
    }
   ],
   "source": [
    "import yfinance as yf\n",
    "import pandas as pd\n",
    "import numpy as np\n",
    "\n",
    "def evaluate_mutual_fund(ticker_symbol):\n",
    "    try:\n",
    "        # Fetch historical data for the mutual fund\n",
    "        fund_data = yf.download(ticker_symbol, start=\"2020-01-01\", end=\"2023-01-01\")\n",
    "\n",
    "        # Calculate annual returns\n",
    "        fund_data['Returns'] = fund_data['Adj Close'].pct_change()\n",
    "\n",
    "        # Calculate mean return and standard deviation of returns\n",
    "        mean_return = fund_data['Returns'].mean()\n",
    "        std_dev = fund_data['Returns'].std()\n",
    "\n",
    "        # Calculate Sharpe Ratio\n",
    "        risk_free_rate = 0.03  # You can adjust this based on current rates\n",
    "        sharpe_ratio = (mean_return - risk_free_rate) / std_dev\n",
    "\n",
    "        # Calculate total return over the period\n",
    "        total_return = (fund_data['Adj Close'][-1] / fund_data['Adj Close'][0]) - 1\n",
    "\n",
    "        # Get expense ratio (You may need to find this information from other sources)\n",
    "        expense_ratio = 1\n",
    "\n",
    "        # Evaluate the mutual fund\n",
    "        if sharpe_ratio > 1 and total_return > 0 and expense_ratio < 0.03:\n",
    "            print(\"This mutual fund seems to be a good investment.\")\n",
    "        else:\n",
    "            print(\"This mutual fund may not be a good investment.\")\n",
    "        print(ticker_symbol,mean_return,std_dev)\n",
    "    except Exception as e:\n",
    "        print(\"Error:\", str(e))\n",
    "\n",
    "if __name__ == \"__main__\":\n",
    "    ticker_symbol = \"AMAGX\"  # Replace with the ticker symbol of the mutual fund you want to evaluate\n",
    "    evaluate_mutual_fund(ticker_symbol)\n"
   ]
  },
  {
   "cell_type": "code",
   "execution_count": 14,
   "metadata": {},
   "outputs": [
    {
     "ename": "ModuleNotFoundError",
     "evalue": "No module named 'BeautifulSoup'",
     "output_type": "error",
     "traceback": [
      "\u001b[1;31m---------------------------------------------------------------------------\u001b[0m",
      "\u001b[1;31mModuleNotFoundError\u001b[0m                       Traceback (most recent call last)",
      "Cell \u001b[1;32mIn[14], line 3\u001b[0m\n\u001b[0;32m      1\u001b[0m \u001b[39mimport\u001b[39;00m \u001b[39mpandas\u001b[39;00m \u001b[39mas\u001b[39;00m \u001b[39mpd\u001b[39;00m\n\u001b[0;32m      2\u001b[0m \u001b[39mimport\u001b[39;00m \u001b[39mrequests\u001b[39;00m\n\u001b[1;32m----> 3\u001b[0m \u001b[39mimport\u001b[39;00m \u001b[39mBeautifulSoup\u001b[39;00m\n\u001b[0;32m      5\u001b[0m \u001b[39mdef\u001b[39;00m \u001b[39mget_zacks_mf_rank\u001b[39m(fund_symbol):\n\u001b[0;32m      6\u001b[0m   url \u001b[39m=\u001b[39m \u001b[39m\"\u001b[39m\u001b[39mhttps://www.zacks.com/funds/mutual-funds/\u001b[39m\u001b[39m{}\u001b[39;00m\u001b[39m/quote\u001b[39m\u001b[39m\"\u001b[39m\u001b[39m.\u001b[39mformat(fund_symbol)\n",
      "\u001b[1;31mModuleNotFoundError\u001b[0m: No module named 'BeautifulSoup'"
     ]
    }
   ],
   "source": [
    "import pandas as pd\n",
    "import requests\n",
    "import BeautifulSoup\n",
    "\n",
    "def get_zacks_mf_rank(fund_symbol):\n",
    "  url = \"https://www.zacks.com/funds/mutual-funds/{}/quote\".format(fund_symbol)\n",
    "  response = requests.get(url)\n",
    "  soup = BeautifulSoup(response.content, \"html.parser\")\n",
    "  rank_element = soup.find(\"span\", class_=\"zacks_rank\")\n",
    "  rank = rank_element.text\n",
    "  return rank\n",
    "\n",
    "def main():\n",
    "  fund_symbol = \"FSHOX\"\n",
    "  rank = get_zacks_mf_rank(fund_symbol)\n",
    "  print(f\"The Zacks MF rank for {fund_symbol} is {rank}\")\n",
    "\n",
    "if __name__ == \"__main__\":\n",
    "  main()\n"
   ]
  },
  {
   "cell_type": "code",
   "execution_count": 15,
   "metadata": {},
   "outputs": [
    {
     "name": "stdout",
     "output_type": "stream",
     "text": [
      "                                Open       High        Low      Close  Volume  \\\n",
      "Date                                                                            \n",
      "2010-01-04 00:00:00-05:00  13.218264  13.218264  13.218264  13.218264       0   \n",
      "2010-01-05 00:00:00-05:00  13.299663  13.299663  13.299663  13.299663       0   \n",
      "2010-01-06 00:00:00-05:00  13.353927  13.353927  13.353927  13.353927       0   \n",
      "2010-01-07 00:00:00-05:00  13.760923  13.760923  13.760923  13.760923       0   \n",
      "2010-01-08 00:00:00-05:00  13.756401  13.756401  13.756401  13.756401       0   \n",
      "...                              ...        ...        ...        ...     ...   \n",
      "2023-06-26 00:00:00-04:00  95.150002  95.150002  95.150002  95.150002       0   \n",
      "2023-06-27 00:00:00-04:00  97.269997  97.269997  97.269997  97.269997       0   \n",
      "2023-06-28 00:00:00-04:00  96.629997  96.629997  96.629997  96.629997       0   \n",
      "2023-06-29 00:00:00-04:00  97.230003  97.230003  97.230003  97.230003       0   \n",
      "2023-06-30 00:00:00-04:00  97.980003  97.980003  97.980003  97.980003       0   \n",
      "\n",
      "                           Dividends  Stock Splits  Capital Gains  \n",
      "Date                                                               \n",
      "2010-01-04 00:00:00-05:00        0.0           0.0            0.0  \n",
      "2010-01-05 00:00:00-05:00        0.0           0.0            0.0  \n",
      "2010-01-06 00:00:00-05:00        0.0           0.0            0.0  \n",
      "2010-01-07 00:00:00-05:00        0.0           0.0            0.0  \n",
      "2010-01-08 00:00:00-05:00        0.0           0.0            0.0  \n",
      "...                              ...           ...            ...  \n",
      "2023-06-26 00:00:00-04:00        0.0           0.0            0.0  \n",
      "2023-06-27 00:00:00-04:00        0.0           0.0            0.0  \n",
      "2023-06-28 00:00:00-04:00        0.0           0.0            0.0  \n",
      "2023-06-29 00:00:00-04:00        0.0           0.0            0.0  \n",
      "2023-06-30 00:00:00-04:00        0.0           0.0            0.0  \n",
      "\n",
      "[3396 rows x 8 columns]\n"
     ]
    }
   ],
   "source": [
    "import yfinance as yf\n",
    "\n",
    "def download_fshox_performance_data():\n",
    "  fund_symbol = \"FSHOX\"\n",
    "  fund = yf.Ticker(fund_symbol)\n",
    "  performance_data = fund.history(start=\"2010-01-01\", end=\"2023-07-01\")\n",
    "  return performance_data\n",
    "\n",
    "def main():\n",
    "  performance_data = download_fshox_performance_data()\n",
    "  print(performance_data)\n",
    "\n",
    "if __name__ == \"__main__\":\n",
    "  main()\n"
   ]
  },
  {
   "cell_type": "code",
   "execution_count": 2,
   "metadata": {},
   "outputs": [
    {
     "ename": "OSError",
     "evalue": "Unable to open boundary dataset file. Only the 'crude', 'low' and\n'intermediate' resolution datasets are installed by default. If you\nare requesting a 'high' or 'full' resolution dataset, you need to\ninstall the `basemap-data-hires` package.",
     "output_type": "error",
     "traceback": [
      "\u001b[1;31m---------------------------------------------------------------------------\u001b[0m",
      "\u001b[1;31mFileNotFoundError\u001b[0m                         Traceback (most recent call last)",
      "File \u001b[1;32mc:\\Users\\Daddy\\AppData\\Local\\Programs\\Python\\Python311\\Lib\\site-packages\\mpl_toolkits\\basemap\\__init__.py:1235\u001b[0m, in \u001b[0;36mBasemap._readboundarydata\u001b[1;34m(self, name, as_polygons)\u001b[0m\n\u001b[0;32m   1234\u001b[0m \u001b[39mtry\u001b[39;00m:\n\u001b[1;32m-> 1235\u001b[0m     bdatfile \u001b[39m=\u001b[39m \u001b[39mopen\u001b[39;49m(os\u001b[39m.\u001b[39;49mpath\u001b[39m.\u001b[39;49mjoin(basemap_datadir,name\u001b[39m+\u001b[39;49m\u001b[39m'\u001b[39;49m\u001b[39m_\u001b[39;49m\u001b[39m'\u001b[39;49m\u001b[39m+\u001b[39;49m\u001b[39mself\u001b[39;49m\u001b[39m.\u001b[39;49mresolution\u001b[39m+\u001b[39;49m\u001b[39m'\u001b[39;49m\u001b[39m.dat\u001b[39;49m\u001b[39m'\u001b[39;49m),\u001b[39m'\u001b[39;49m\u001b[39mrb\u001b[39;49m\u001b[39m'\u001b[39;49m)\n\u001b[0;32m   1236\u001b[0m     bdatmetafile \u001b[39m=\u001b[39m \u001b[39mopen\u001b[39m(os\u001b[39m.\u001b[39mpath\u001b[39m.\u001b[39mjoin(basemap_datadir,name\u001b[39m+\u001b[39m\u001b[39m'\u001b[39m\u001b[39mmeta_\u001b[39m\u001b[39m'\u001b[39m\u001b[39m+\u001b[39m\u001b[39mself\u001b[39m\u001b[39m.\u001b[39mresolution\u001b[39m+\u001b[39m\u001b[39m'\u001b[39m\u001b[39m.dat\u001b[39m\u001b[39m'\u001b[39m),\u001b[39m'\u001b[39m\u001b[39mr\u001b[39m\u001b[39m'\u001b[39m)\n",
      "\u001b[1;31mFileNotFoundError\u001b[0m: [Errno 2] No such file or directory: 'c:\\\\Users\\\\Daddy\\\\AppData\\\\Local\\\\Programs\\\\Python\\\\Python311\\\\Lib\\\\site-packages\\\\mpl_toolkits\\\\basemap_data\\\\gshhs_h.dat'",
      "\nDuring handling of the above exception, another exception occurred:\n",
      "\u001b[1;31mOSError\u001b[0m                                   Traceback (most recent call last)",
      "Cell \u001b[1;32mIn[2], line 8\u001b[0m\n\u001b[0;32m      5\u001b[0m fig, ax \u001b[39m=\u001b[39m plt\u001b[39m.\u001b[39msubplots(figsize\u001b[39m=\u001b[39m(\u001b[39m12\u001b[39m, \u001b[39m8\u001b[39m))\n\u001b[0;32m      7\u001b[0m \u001b[39m# Create a Basemap instance\u001b[39;00m\n\u001b[1;32m----> 8\u001b[0m m \u001b[39m=\u001b[39m Basemap(projection\u001b[39m=\u001b[39;49m\u001b[39m'\u001b[39;49m\u001b[39mlcc\u001b[39;49m\u001b[39m'\u001b[39;49m, resolution\u001b[39m=\u001b[39;49m\u001b[39m'\u001b[39;49m\u001b[39mh\u001b[39;49m\u001b[39m'\u001b[39;49m, width\u001b[39m=\u001b[39;49m\u001b[39m1000000\u001b[39;49m, height\u001b[39m=\u001b[39;49m\u001b[39m500000\u001b[39;49m, lat_0\u001b[39m=\u001b[39;49m\u001b[39m30\u001b[39;49m, lon_0\u001b[39m=\u001b[39;49m\u001b[39m-\u001b[39;49m\u001b[39m90\u001b[39;49m)\n\u001b[0;32m     10\u001b[0m \u001b[39m# Plot the coastlines\u001b[39;00m\n\u001b[0;32m     11\u001b[0m m\u001b[39m.\u001b[39mdrawcoastlines()\n",
      "File \u001b[1;32mc:\\Users\\Daddy\\AppData\\Local\\Programs\\Python\\Python311\\Lib\\site-packages\\mpl_toolkits\\basemap\\__init__.py:1125\u001b[0m, in \u001b[0;36mBasemap.__init__\u001b[1;34m(self, llcrnrlon, llcrnrlat, urcrnrlon, urcrnrlat, llcrnrx, llcrnry, urcrnrx, urcrnry, width, height, projection, resolution, area_thresh, rsphere, ellps, lat_ts, lat_1, lat_2, lat_0, lon_0, lon_1, lon_2, o_lon_p, o_lat_p, k_0, no_rot, suppress_ticks, satellite_height, boundinglat, fix_aspect, anchor, celestial, round, epsg, ax)\u001b[0m\n\u001b[0;32m   1121\u001b[0m \u001b[39m# read in coastline polygons, only keeping those that\u001b[39;00m\n\u001b[0;32m   1122\u001b[0m \u001b[39m# intersect map boundary polygon.\u001b[39;00m\n\u001b[0;32m   1123\u001b[0m \u001b[39mif\u001b[39;00m \u001b[39mself\u001b[39m\u001b[39m.\u001b[39mresolution \u001b[39mis\u001b[39;00m \u001b[39mnot\u001b[39;00m \u001b[39mNone\u001b[39;00m:\n\u001b[0;32m   1124\u001b[0m     \u001b[39mself\u001b[39m\u001b[39m.\u001b[39mcoastsegs, \u001b[39mself\u001b[39m\u001b[39m.\u001b[39mcoastpolygontypes \u001b[39m=\u001b[39m\\\n\u001b[1;32m-> 1125\u001b[0m     \u001b[39mself\u001b[39;49m\u001b[39m.\u001b[39;49m_readboundarydata(\u001b[39m'\u001b[39;49m\u001b[39mgshhs\u001b[39;49m\u001b[39m'\u001b[39;49m,as_polygons\u001b[39m=\u001b[39;49m\u001b[39mTrue\u001b[39;49;00m)\n\u001b[0;32m   1126\u001b[0m     \u001b[39m# reformat for use in matplotlib.patches.Polygon.\u001b[39;00m\n\u001b[0;32m   1127\u001b[0m     \u001b[39mself\u001b[39m\u001b[39m.\u001b[39mcoastpolygons \u001b[39m=\u001b[39m []\n",
      "File \u001b[1;32mc:\\Users\\Daddy\\AppData\\Local\\Programs\\Python\\Python311\\Lib\\site-packages\\mpl_toolkits\\basemap\\__init__.py:1238\u001b[0m, in \u001b[0;36mBasemap._readboundarydata\u001b[1;34m(self, name, as_polygons)\u001b[0m\n\u001b[0;32m   1236\u001b[0m     bdatmetafile \u001b[39m=\u001b[39m \u001b[39mopen\u001b[39m(os\u001b[39m.\u001b[39mpath\u001b[39m.\u001b[39mjoin(basemap_datadir,name\u001b[39m+\u001b[39m\u001b[39m'\u001b[39m\u001b[39mmeta_\u001b[39m\u001b[39m'\u001b[39m\u001b[39m+\u001b[39m\u001b[39mself\u001b[39m\u001b[39m.\u001b[39mresolution\u001b[39m+\u001b[39m\u001b[39m'\u001b[39m\u001b[39m.dat\u001b[39m\u001b[39m'\u001b[39m),\u001b[39m'\u001b[39m\u001b[39mr\u001b[39m\u001b[39m'\u001b[39m)\n\u001b[0;32m   1237\u001b[0m \u001b[39mexcept\u001b[39;00m:\n\u001b[1;32m-> 1238\u001b[0m     \u001b[39mraise\u001b[39;00m \u001b[39mIOError\u001b[39;00m(msg)\n\u001b[0;32m   1239\u001b[0m polygons \u001b[39m=\u001b[39m []\n\u001b[0;32m   1240\u001b[0m polygon_types \u001b[39m=\u001b[39m []\n",
      "\u001b[1;31mOSError\u001b[0m: Unable to open boundary dataset file. Only the 'crude', 'low' and\n'intermediate' resolution datasets are installed by default. If you\nare requesting a 'high' or 'full' resolution dataset, you need to\ninstall the `basemap-data-hires` package."
     ]
    },
    {
     "data": {
      "image/png": "[encoded data removed]",
      "text/plain": [
       "<Figure size 1200x800 with 1 Axes>"
      ]
     },
     "metadata": {},
     "output_type": "display_data"
    }
   ],
   "source": [
    "import matplotlib.pyplot as plt\n",
    "from mpl_toolkits.basemap import Basemap\n",
    "\n",
    "# Create a figure and axes\n",
    "fig, ax = plt.subplots(figsize=(12, 8))\n",
    "\n",
    "# Create a Basemap instance\n",
    "m = Basemap(projection='lcc', resolution='h', width=1000000, height=500000, lat_0=30, lon_0=-90)\n",
    "\n",
    "# Plot the coastlines\n",
    "m.drawcoastlines()\n",
    "\n",
    "# Plot the gridlines\n",
    "m.drawparallels(np.arange(-90, 90, 10), labels=True, linewidth=0.75, color='black')\n",
    "m.drawmeridians(np.arange(-180, 180, 10), labels=True, linewidth=0.75, color='black')\n",
    "\n",
    "# Add a title\n",
    "ax.set_title('Basemap Example')\n",
    "\n",
    "# Show the plot\n",
    "plt.show()\n"
   ]
  }
 ],
 "metadata": {
  "kernelspec": {
   "display_name": "Python 3",
   "language": "python",
   "name": "python3"
  },
  "language_info": {
   "codemirror_mode": {
    "name": "ipython",
    "version": 3
   },
   "file_extension": ".py",
   "mimetype": "text/x-python",
   "name": "python",
   "nbconvert_exporter": "python",
   "pygments_lexer": "ipython3",
   "version": "3.11.2"
  },
  "orig_nbformat": 4
 },
 "nbformat": 4,
 "nbformat_minor": 2
}
