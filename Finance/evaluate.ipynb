{
 "cells": [
  {
   "cell_type": "code",
   "execution_count": null,
   "metadata": {},
   "outputs": [],
   "source": [
    "import pandas as pd\n",
    "import yfinance as yf\n",
    "\n",
    "def get_mutual_fund_info(fund_symbol):\n",
    "  fund = yf.Ticker(fund_symbol)\n",
    "  fund_info = fund.info\n",
    "  return fund_info\n",
    "\n",
    "def calculate_score(fund_info):\n",
    "  score = 0\n",
    "  # Add points for high returns\n",
    "  score += fund_info[\"returns\"][\"annualized_return_10y\"]\n",
    "  # Add points for low fees\n",
    "  score -= fund_info[\"expense_ratio\"]\n",
    "  # Add points for low volatility\n",
    "  score -= fund_info[\"beta\"]\n",
    "  return score\n",
    "\n",
    "def main():\n",
    "  fund_symbol = \"FSHOX\"\n",
    "  fund_info = get_mutual_fund_info(fund_symbol)\n",
    "  score = calculate_score(fund_info)\n",
    "  print(f\"The score for {fund_symbol} is {score}\")\n",
    "\n",
    "if __name__ == \"__main__\":\n",
    "  main()\n"
   ]
  },
  {
   "cell_type": "code",
   "execution_count": null,
   "metadata": {},
   "outputs": [],
   "source": [
    "fund_symbol = \"FSHOX\"\n",
    "fund = yf.Ticker(fund_symbol)\n",
    "fund.info\n"
   ]
  },
  {
   "cell_type": "code",
   "execution_count": null,
   "metadata": {},
   "outputs": [],
   "source": [
    "import yfinance as yf\n",
    "import pandas as pd\n",
    "import numpy as np\n",
    "\n",
    "def evaluate_mutual_fund(ticker_symbol):\n",
    "    try:\n",
    "        # Fetch historical data for the mutual fund\n",
    "        fund_data = yf.download(ticker_symbol, start=\"2020-01-01\", end=\"2023-01-01\")\n",
    "\n",
    "        # Calculate annual returns\n",
    "        fund_data['Returns'] = fund_data['Adj Close'].pct_change()\n",
    "\n",
    "        # Calculate mean return and standard deviation of returns\n",
    "        mean_return = fund_data['Returns'].mean()\n",
    "        std_dev = fund_data['Returns'].std()\n",
    "\n",
    "        # Calculate Sharpe Ratio\n",
    "        risk_free_rate = 0.03  # You can adjust this based on current rates\n",
    "        sharpe_ratio = (mean_return - risk_free_rate) / std_dev\n",
    "\n",
    "        # Calculate total return over the period\n",
    "        total_return = (fund_data['Adj Close'][-1] / fund_data['Adj Close'][0]) - 1\n",
    "\n",
    "        # Get expense ratio (You may need to find this information from other sources)\n",
    "        expense_ratio = 1\n",
    "\n",
    "        # Evaluate the mutual fund\n",
    "        if sharpe_ratio > 1 and total_return > 0 and expense_ratio < 0.03:\n",
    "            print(\"This mutual fund seems to be a good investment.\")\n",
    "        else:\n",
    "            print(\"This mutual fund may not be a good investment.\")\n",
    "        print(ticker_symbol,mean_return,std_dev)\n",
    "    except Exception as e:\n",
    "        print(\"Error:\", str(e))\n",
    "\n",
    "if __name__ == \"__main__\":\n",
    "    ticker_symbol = \"AMAGX\"  # Replace with the ticker symbol of the mutual fund you want to evaluate\n",
    "    evaluate_mutual_fund(ticker_symbol)\n"
   ]
  },
  {
   "cell_type": "code",
   "execution_count": null,
   "metadata": {},
   "outputs": [],
   "source": [
    "import pandas as pd\n",
    "import requests\n",
    "import BeautifulSoup\n",
    "\n",
    "def get_zacks_mf_rank(fund_symbol):\n",
    "  url = \"https://www.zacks.com/funds/mutual-funds/{}/quote\".format(fund_symbol)\n",
    "  response = requests.get(url)\n",
    "  soup = BeautifulSoup(response.content, \"html.parser\")\n",
    "  rank_element = soup.find(\"span\", class_=\"zacks_rank\")\n",
    "  rank = rank_element.text\n",
    "  return rank\n",
    "\n",
    "def main():\n",
    "  fund_symbol = \"FSHOX\"\n",
    "  rank = get_zacks_mf_rank(fund_symbol)\n",
    "  print(f\"The Zacks MF rank for {fund_symbol} is {rank}\")\n",
    "\n",
    "if __name__ == \"__main__\":\n",
    "  main()\n"
   ]
  },
  {
   "cell_type": "code",
   "execution_count": null,
   "metadata": {},
   "outputs": [],
   "source": [
    "import yfinance as yf\n",
    "\n",
    "def download_fshox_performance_data():\n",
    "  fund_symbol = \"FSHOX\"\n",
    "  fund = yf.Ticker(fund_symbol)\n",
    "  performance_data = fund.history(start=\"2010-01-01\", end=\"2023-07-01\")\n",
    "  return performance_data\n",
    "\n",
    "def main():\n",
    "  performance_data = download_fshox_performance_data()\n",
    "  print(performance_data)\n",
    "\n",
    "if __name__ == \"__main__\":\n",
    "  main()\n"
   ]
  },
  {
   "cell_type": "code",
   "execution_count": null,
   "metadata": {},
   "outputs": [],
   "source": [
    "import matplotlib.pyplot as plt\n",
    "from mpl_toolkits.basemap import Basemap\n",
    "\n",
    "# Create a figure and axes\n",
    "fig, ax = plt.subplots(figsize=(12, 8))\n",
    "\n",
    "# Create a Basemap instance\n",
    "m = Basemap(projection='lcc', resolution='h', width=1000000, height=500000, lat_0=30, lon_0=-90)\n",
    "\n",
    "# Plot the coastlines\n",
    "m.drawcoastlines()\n",
    "\n",
    "# Plot the gridlines\n",
    "m.drawparallels(np.arange(-90, 90, 10), labels=True, linewidth=0.75, color='black')\n",
    "m.drawmeridians(np.arange(-180, 180, 10), labels=True, linewidth=0.75, color='black')\n",
    "\n",
    "# Add a title\n",
    "ax.set_title('Basemap Example')\n",
    "\n",
    "# Show the plot\n",
    "plt.show()\n"
   ]
  },
  {
   "cell_type": "code",
   "execution_count": 4,
   "metadata": {},
   "outputs": [
    {
     "name": "stdout",
     "output_type": "stream",
     "text": [
      "[*********************100%%**********************]  1 of 1 completed\n",
      "Mutual Fund Statistics for BMGAX:\n",
      "             Open   High    Low  Close  Adj Close  Volume\n",
      "Date                                                     \n",
      "2022-08-26  28.49  28.49  28.49  28.49      28.49       0\n"
     ]
    }
   ],
   "source": [
    "import yfinance as yf\n",
    "from datetime import datetime, timedelta\n",
    "\n",
    "# Define the ticker symbol for the mutual fund (BMGAX)\n",
    "ticker = \"BMGAX\"\n",
    "\n",
    "# Calculate the date one year ago from today\n",
    "today = datetime.today()\n",
    "end_date = today - timedelta(days=365)\n",
    "start_date = today - timedelta(days=367)\n",
    "\n",
    "# Fetch the historical data for BMGAX from the start_date to end_date\n",
    "fund_data = yf.download(ticker, start=start_date, end=end_date)\n",
    "\n",
    "# Print the statistics for BMGAX\n",
    "print(\"Mutual Fund Statistics for BMGAX:\")\n",
    "print(fund_data)\n"
   ]
  },
  {
   "cell_type": "code",
   "execution_count": 9,
   "metadata": {},
   "outputs": [
    {
     "name": "stdout",
     "output_type": "stream",
     "text": [
      "[*********************100%%**********************]  1 of 1 completed\n",
      "Total Return for BMGAX in the past year: -10.04%\n"
     ]
    }
   ],
   "source": [
    "import yfinance as yf\n",
    "from datetime import datetime, timedelta\n",
    "\n",
    "# Define the ticker symbol for the mutual fund (BMGAX)\n",
    "ticker = \"BMGAX\"\n",
    "\n",
    "# Calculate the date one year ago from today\n",
    "today = datetime.today()\n",
    "end_date = end_date - timedelta(days=365)\n",
    "start_date = end_date - timedelta(days=730)\n",
    "\n",
    "# Fetch the historical data for BMGAX from the start_date to end_date\n",
    "fund_data = yf.download(ticker, start=start_date, end=end_date)\n",
    "\n",
    "# Calculate the total return\n",
    "initial_nav = fund_data[\"Close\"].iloc[0]  # Initial Net Asset Value (NAV) a year ago\n",
    "final_nav = fund_data[\"Close\"].iloc[-1]   # Final Net Asset Value (NAV) today\n",
    "total_return = ((final_nav - initial_nav) / initial_nav) * 100\n",
    "\n",
    "# Print the total return\n",
    "print(f\"Total Return for {ticker} in the past year: {total_return:.2f}%\")\n"
   ]
  },
  {
   "cell_type": "code",
   "execution_count": 10,
   "metadata": {},
   "outputs": [
    {
     "name": "stdout",
     "output_type": "stream",
     "text": [
      "[*********************100%%**********************]  1 of 1 completed\n",
      "Total Return for BMGAX in the past year: 4.56%\n",
      "[*********************100%%**********************]  1 of 1 completed\n",
      "Total Return for VTSAX in the past year: 8.05%\n",
      "[*********************100%%**********************]  1 of 1 completed"
     ]
    },
    {
     "name": "stderr",
     "output_type": "stream",
     "text": [
      "\n",
      "1 Failed download:\n",
      "['FUSEX']: Exception('%ticker%: No price data found, symbol may be delisted (1d 2022-08-28 04:52:20.649419 -> 2023-08-28 04:52:20.649419)')\n"
     ]
    },
    {
     "name": "stdout",
     "output_type": "stream",
     "text": [
      "\n"
     ]
    },
    {
     "ename": "IndexError",
     "evalue": "single positional indexer is out-of-bounds",
     "output_type": "error",
     "traceback": [
      "\u001b[0;31m---------------------------------------------------------------------------\u001b[0m",
      "\u001b[0;31mIndexError\u001b[0m                                Traceback (most recent call last)",
      "Cell \u001b[0;32mIn[10], line 20\u001b[0m\n\u001b[1;32m     17\u001b[0m fund_data \u001b[39m=\u001b[39m yf\u001b[39m.\u001b[39mdownload(ticker, start\u001b[39m=\u001b[39mstart_date, end\u001b[39m=\u001b[39mend_date)\n\u001b[1;32m     19\u001b[0m \u001b[39m# Calculate the total return\u001b[39;00m\n\u001b[0;32m---> 20\u001b[0m initial_nav \u001b[39m=\u001b[39m fund_data[\u001b[39m\"\u001b[39;49m\u001b[39mClose\u001b[39;49m\u001b[39m\"\u001b[39;49m]\u001b[39m.\u001b[39;49miloc[\u001b[39m0\u001b[39;49m]  \u001b[39m# Initial Net Asset Value (NAV) a year ago\u001b[39;00m\n\u001b[1;32m     21\u001b[0m final_nav \u001b[39m=\u001b[39m fund_data[\u001b[39m\"\u001b[39m\u001b[39mClose\u001b[39m\u001b[39m\"\u001b[39m]\u001b[39m.\u001b[39miloc[\u001b[39m-\u001b[39m\u001b[39m1\u001b[39m]   \u001b[39m# Final Net Asset Value (NAV) today\u001b[39;00m\n\u001b[1;32m     22\u001b[0m total_return \u001b[39m=\u001b[39m ((final_nav \u001b[39m-\u001b[39m initial_nav) \u001b[39m/\u001b[39m initial_nav) \u001b[39m*\u001b[39m \u001b[39m100\u001b[39m\n",
      "File \u001b[0;32m/workspace/.pyenv_mirror/user/current/lib/python3.11/site-packages/pandas/core/indexing.py:1103\u001b[0m, in \u001b[0;36m_LocationIndexer.__getitem__\u001b[0;34m(self, key)\u001b[0m\n\u001b[1;32m   1100\u001b[0m axis \u001b[39m=\u001b[39m \u001b[39mself\u001b[39m\u001b[39m.\u001b[39maxis \u001b[39mor\u001b[39;00m \u001b[39m0\u001b[39m\n\u001b[1;32m   1102\u001b[0m maybe_callable \u001b[39m=\u001b[39m com\u001b[39m.\u001b[39mapply_if_callable(key, \u001b[39mself\u001b[39m\u001b[39m.\u001b[39mobj)\n\u001b[0;32m-> 1103\u001b[0m \u001b[39mreturn\u001b[39;00m \u001b[39mself\u001b[39;49m\u001b[39m.\u001b[39;49m_getitem_axis(maybe_callable, axis\u001b[39m=\u001b[39;49maxis)\n",
      "File \u001b[0;32m/workspace/.pyenv_mirror/user/current/lib/python3.11/site-packages/pandas/core/indexing.py:1656\u001b[0m, in \u001b[0;36m_iLocIndexer._getitem_axis\u001b[0;34m(self, key, axis)\u001b[0m\n\u001b[1;32m   1653\u001b[0m     \u001b[39mraise\u001b[39;00m \u001b[39mTypeError\u001b[39;00m(\u001b[39m\"\u001b[39m\u001b[39mCannot index by location index with a non-integer key\u001b[39m\u001b[39m\"\u001b[39m)\n\u001b[1;32m   1655\u001b[0m \u001b[39m# validate the location\u001b[39;00m\n\u001b[0;32m-> 1656\u001b[0m \u001b[39mself\u001b[39;49m\u001b[39m.\u001b[39;49m_validate_integer(key, axis)\n\u001b[1;32m   1658\u001b[0m \u001b[39mreturn\u001b[39;00m \u001b[39mself\u001b[39m\u001b[39m.\u001b[39mobj\u001b[39m.\u001b[39m_ixs(key, axis\u001b[39m=\u001b[39maxis)\n",
      "File \u001b[0;32m/workspace/.pyenv_mirror/user/current/lib/python3.11/site-packages/pandas/core/indexing.py:1589\u001b[0m, in \u001b[0;36m_iLocIndexer._validate_integer\u001b[0;34m(self, key, axis)\u001b[0m\n\u001b[1;32m   1587\u001b[0m len_axis \u001b[39m=\u001b[39m \u001b[39mlen\u001b[39m(\u001b[39mself\u001b[39m\u001b[39m.\u001b[39mobj\u001b[39m.\u001b[39m_get_axis(axis))\n\u001b[1;32m   1588\u001b[0m \u001b[39mif\u001b[39;00m key \u001b[39m>\u001b[39m\u001b[39m=\u001b[39m len_axis \u001b[39mor\u001b[39;00m key \u001b[39m<\u001b[39m \u001b[39m-\u001b[39mlen_axis:\n\u001b[0;32m-> 1589\u001b[0m     \u001b[39mraise\u001b[39;00m \u001b[39mIndexError\u001b[39;00m(\u001b[39m\"\u001b[39m\u001b[39msingle positional indexer is out-of-bounds\u001b[39m\u001b[39m\"\u001b[39m)\n",
      "\u001b[0;31mIndexError\u001b[0m: single positional indexer is out-of-bounds"
     ]
    }
   ],
   "source": [
    "import yfinance as yf\n",
    "from datetime import datetime, timedelta\n",
    "\n",
    "# Define a list of ticker symbols for the mutual funds\n",
    "ticker_symbols = [\"BMGAX\", \"VTSAX\", \"FUSEX\", \"PRGTX\", \"SWPPX\", \n",
    "                  \"FCNTX\", \"AMCPX\", \"DODGX\", \"AGTHX\", \"TRBCX\",\n",
    "                  \"AAPL\", \"GOOGL\", \"AMZN\", \"MSFT\", \"TSLA\",\n",
    "                  \"JPM\", \"V\", \"PG\", \"NVDA\", \"MA\"]\n",
    "\n",
    "# Calculate the date one year ago from today\n",
    "end_date = datetime.today()\n",
    "start_date = end_date - timedelta(days=365)\n",
    "\n",
    "# Loop through the list of ticker symbols\n",
    "for ticker in ticker_symbols:\n",
    "    # Fetch the historical data for the current ticker from start_date to end_date\n",
    "    fund_data = yf.download(ticker, start=start_date, end=end_date)\n",
    "    \n",
    "    # Calculate the total return\n",
    "    initial_nav = fund_data[\"Close\"].iloc[0]  # Initial Net Asset Value (NAV) a year ago\n",
    "    final_nav = fund_data[\"Close\"].iloc[-1]   # Final Net Asset Value (NAV) today\n",
    "    total_return = ((final_nav - initial_nav) / initial_nav) * 100\n",
    "    \n",
    "    # Print the total return for the current ticker\n",
    "    print(f\"Total Return for {ticker} in the past year: {total_return:.2f}%\")\n"
   ]
  },
  {
   "cell_type": "markdown",
   "metadata": {},
   "source": [
    "Financial analysts and investors evaluate the quality of a mutual fund by considering a variety of statistics and metrics. These metrics provide insights into the fund's historical performance, risk profile, expenses, and other factors that can impact its potential for returns. Here are some key statistics that analysts often look at to evaluate the quality of a mutual fund:\n",
    "\n",
    "Performance Metrics:\n",
    "\n",
    "Total Return: This includes the fund's capital appreciation and dividend or interest income. It reflects how well the fund has performed over a specific period.\n",
    "Annualized Returns: These show the average annual return over a certain time frame, such as 1-year, 3-year, 5-year, and 10-year periods.\n",
    "Benchmark Comparison: Comparing the fund's performance to a relevant benchmark index helps assess whether the fund is outperforming or underperforming.\n",
    "Risk Metrics:\n",
    "\n",
    "Standard Deviation: A measure of how much the fund's returns have deviated from its average return. Higher standard deviation indicates higher volatility.\n",
    "Beta: Indicates how much the fund's returns tend to move in relation to the overall market. A beta of 1 means the fund moves with the market; less than 1 means it's less volatile, and more than 1 means it's more volatile.\n",
    "Sharpe Ratio: Measures the risk-adjusted return of the fund, considering its volatility. A higher Sharpe ratio indicates better risk-adjusted performance.\n",
    "Expense Metrics:\n",
    "\n",
    "Expense Ratio: The percentage of the fund's assets that are used to cover operating expenses. Lower expense ratios are generally favorable because they reduce the impact of fees on returns.\n",
    "Load Fees: Some funds charge sales loads, either as front-end loads (paid when buying the fund) or back-end loads (paid when selling). No-load funds do not charge these fees.\n",
    "Turnover Rate:\n",
    "\n",
    "Indicates how often the fund's portfolio holdings are bought and sold. High turnover can lead to higher transaction costs and potential tax implications.\n",
    "Portfolio Composition:\n",
    "\n",
    "Top Holdings: A list of the fund's largest holdings. Analysts examine whether the holdings align with the fund's stated objectives.\n",
    "Sector Allocation: The distribution of the fund's investments across different sectors (e.g., technology, healthcare).\n",
    "Asset Allocation: The distribution of the fund's investments across different asset classes (e.g., stocks, bonds).\n",
    "Yield:\n",
    "\n",
    "The income generated by the fund's holdings, expressed as a percentage of its net asset value (NAV). Yield is particularly relevant for income-focused funds.\n",
    "Tracking Error:\n",
    "\n",
    "For index funds, tracking error measures how closely the fund's returns match those of its benchmark index. Lower tracking error indicates better performance in line with the index.\n",
    "Manager Tenure and Experience:\n",
    "\n",
    "The length of time the fund's portfolio manager has been managing the fund. A longer and more consistent track record can be a positive indicator.\n",
    "These statistics provide a comprehensive view of a mutual fund's historical performance, risk characteristics, costs, and management quality"
   ]
  }
 ],
 "metadata": {
  "kernelspec": {
   "display_name": "Python 3",
   "language": "python",
   "name": "python3"
  },
  "language_info": {
   "codemirror_mode": {
    "name": "ipython",
    "version": 3
   },
   "file_extension": ".py",
   "mimetype": "text/x-python",
   "name": "python",
   "nbconvert_exporter": "python",
   "pygments_lexer": "ipython3",
   "version": "3.11.4"
  },
  "orig_nbformat": 4
 },
 "nbformat": 4,
 "nbformat_minor": 2
}
