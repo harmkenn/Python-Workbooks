{
 "cells": [
  {
   "cell_type": "code",
   "execution_count": 5,
   "metadata": {},
   "outputs": [
    {
     "name": "stderr",
     "output_type": "stream",
     "text": [
      "[*********************100%%**********************]  1 of 1 completed"
     ]
    },
    {
     "name": "stdout",
     "output_type": "stream",
     "text": [
      "                   Open         High          Low        Close    Adj Close  \\\n",
      "Date                                                                          \n",
      "2004-01-02  2011.079956  2022.369995  1999.770020  2006.680054  2006.680054   \n",
      "2004-01-05  2020.780029  2047.359985  2020.780029  2047.359985  2047.359985   \n",
      "2004-01-06  2044.550049  2061.540039  2039.630005  2057.370117  2057.370117   \n",
      "2004-01-07  2056.750000  2078.090088  2047.020020  2077.679932  2077.679932   \n",
      "2004-01-08  2089.600098  2100.250000  2078.050049  2100.250000  2100.250000   \n",
      "\n",
      "                Volume  \n",
      "Date                    \n",
      "2004-01-02  1666780000  \n",
      "2004-01-05  2362910000  \n",
      "2004-01-06  2273220000  \n",
      "2004-01-07  2294280000  \n",
      "2004-01-08  2683950000  \n",
      "                    Open          High           Low         Close  \\\n",
      "Date                                                                 \n",
      "2023-12-22  15006.179688  15047.190430  14927.120117  14992.969727   \n",
      "2023-12-26  15028.690430  15101.179688  15024.059570  15074.570312   \n",
      "2023-12-27  15089.660156  15114.080078  15051.669922  15099.179688   \n",
      "2023-12-28  15142.089844  15150.070312  15087.219727  15095.139648   \n",
      "2023-12-29  15099.200195  15111.410156  14955.370117  15011.349609   \n",
      "\n",
      "               Adj Close      Volume  \n",
      "Date                                  \n",
      "2023-12-22  14992.969727  4796600000  \n",
      "2023-12-26  15074.570312  6120600000  \n",
      "2023-12-27  15099.179688  7480170000  \n",
      "2023-12-28  15095.139648  5090570000  \n",
      "2023-12-29  15011.349609  5441060000  \n"
     ]
    },
    {
     "name": "stderr",
     "output_type": "stream",
     "text": [
      "\n"
     ]
    }
   ],
   "source": [
    "import yfinance as yf\n",
    "import pandas as pd\n",
    "import datetime\n",
    "\n",
    "def get_nasdaq_data(start_date, end_date):\n",
    "  \"\"\"\n",
    "  Fetches NASDAQ composite index closing prices from Yahoo Finance.\n",
    "\n",
    "  Args:\n",
    "    start_date: Start date of the data.\n",
    "    end_date: End date of the data.\n",
    "\n",
    "  Returns:\n",
    "    pandas DataFrame containing the NASDAQ closing prices.\n",
    "  \"\"\"\n",
    "\n",
    "  # NASDAQ composite index ticker\n",
    "  nasdaq_ticker = \"^IXIC\"\n",
    "\n",
    "  # Create a date range\n",
    "  start_date = datetime.datetime(start_date, 1, 1)\n",
    "  end_date = datetime.datetime(end_date, 12, 31)\n",
    "\n",
    "  # Fetch data\n",
    "  data = yf.download(nasdaq_ticker, start=start_date, end=end_date)\n",
    "\n",
    "  return data\n",
    "\n",
    "# Example usage\n",
    "start_year = 2004  # Starting year\n",
    "end_year = 2023  # Ending year\n",
    "\n",
    "nasdaq_data = get_nasdaq_data(start_year, end_year)\n",
    "\n",
    "print(nasdaq_data.head())\n",
    "print(nasdaq_data.tail())\n"
   ]
  },
  {
   "cell_type": "code",
   "execution_count": 9,
   "metadata": {},
   "outputs": [
    {
     "name": "stderr",
     "output_type": "stream",
     "text": [
      "/tmp/ipykernel_2909/62433242.py:34: UserWarning: Parsing dates in %d.%m.%Y format when dayfirst=False (the default) was specified. Pass `dayfirst=True` or specify a format to silence this warning.\n",
      "  start_date = pd.to_datetime(nasdaq_data.index[-1]).date()  # Get the latest date from the collected data\n"
     ]
    },
    {
     "ename": "TypeError",
     "evalue": "'datetime.date' object cannot be interpreted as an integer",
     "output_type": "error",
     "traceback": [
      "\u001b[0;31m---------------------------------------------------------------------------\u001b[0m",
      "\u001b[0;31mTypeError\u001b[0m                                 Traceback (most recent call last)",
      "Cell \u001b[0;32mIn[9], line 37\u001b[0m\n\u001b[1;32m     34\u001b[0m start_date \u001b[38;5;241m=\u001b[39m pd\u001b[38;5;241m.\u001b[39mto_datetime(nasdaq_data\u001b[38;5;241m.\u001b[39mindex[\u001b[38;5;241m-\u001b[39m\u001b[38;5;241m1\u001b[39m])\u001b[38;5;241m.\u001b[39mdate()  \u001b[38;5;66;03m# Get the latest date from the collected data\u001b[39;00m\n\u001b[1;32m     35\u001b[0m end_date \u001b[38;5;241m=\u001b[39m datetime\u001b[38;5;241m.\u001b[39mdatetime\u001b[38;5;241m.\u001b[39mtoday()\u001b[38;5;241m.\u001b[39mdate()\n\u001b[0;32m---> 37\u001b[0m nasdaq_data_new \u001b[38;5;241m=\u001b[39m \u001b[43mget_nasdaq_data\u001b[49m\u001b[43m(\u001b[49m\u001b[43mstart_date\u001b[49m\u001b[43m,\u001b[49m\u001b[43m \u001b[49m\u001b[43mend_date\u001b[49m\u001b[43m)\u001b[49m\n\u001b[1;32m     39\u001b[0m combined_data \u001b[38;5;241m=\u001b[39m pd\u001b[38;5;241m.\u001b[39mconcat([nasdaq_data, nasdaq_data_new])\n\u001b[1;32m     41\u001b[0m \u001b[38;5;66;03m# Sort the combined data by date\u001b[39;00m\n\u001b[1;32m     42\u001b[0m \u001b[38;5;66;03m#combined_data = combined_data.sort_index()\u001b[39;00m\n",
      "Cell \u001b[0;32mIn[9], line 22\u001b[0m, in \u001b[0;36mget_nasdaq_data\u001b[0;34m(start_date, end_date)\u001b[0m\n\u001b[1;32m     19\u001b[0m nasdaq_ticker \u001b[38;5;241m=\u001b[39m \u001b[38;5;124m\"\u001b[39m\u001b[38;5;124m^IXIC\u001b[39m\u001b[38;5;124m\"\u001b[39m\n\u001b[1;32m     21\u001b[0m \u001b[38;5;66;03m# Create a date range\u001b[39;00m\n\u001b[0;32m---> 22\u001b[0m start_date \u001b[38;5;241m=\u001b[39m \u001b[43mdatetime\u001b[49m\u001b[38;5;241;43m.\u001b[39;49m\u001b[43mdatetime\u001b[49m\u001b[43m(\u001b[49m\u001b[43mstart_date\u001b[49m\u001b[43m)\u001b[49m\n\u001b[1;32m     23\u001b[0m end_date \u001b[38;5;241m=\u001b[39m datetime\u001b[38;5;241m.\u001b[39mdatetime(end_date)\n\u001b[1;32m     25\u001b[0m \u001b[38;5;66;03m# Fetch data\u001b[39;00m\n",
      "\u001b[0;31mTypeError\u001b[0m: 'datetime.date' object cannot be interpreted as an integer"
     ]
    }
   ],
   "source": [
    "import yfinance as yf\n",
    "import pandas as pd\n",
    "import datetime\n",
    "import matplotlib.pyplot as plt\n",
    "\n",
    "def get_nasdaq_data(start_date, end_date):\n",
    "    \"\"\"\n",
    "    Fetches NASDAQ composite index closing prices from Yahoo Finance.\n",
    "\n",
    "    Args:\n",
    "        start_date: Start date of the data.\n",
    "        end_date: End date of the data.\n",
    "\n",
    "    Returns:\n",
    "        pandas DataFrame containing the NASDAQ closing prices.\n",
    "    \"\"\"\n",
    "\n",
    "    # NASDAQ composite index ticker\n",
    "    nasdaq_ticker = \"^IXIC\"\n",
    "\n",
    "    # Create a date range\n",
    "    start_date = datetime.datetime(start_date)\n",
    "    end_date = datetime.datetime(end_date)\n",
    "\n",
    "    # Fetch data\n",
    "    data = yf.download(nasdaq_ticker, start=start_date, end=end_date)\n",
    "\n",
    "    return data\n",
    "\n",
    "\n",
    "nasdaq_data = pd.read_csv('nasdaq_data.csv', index_col=0, skiprows=lambda x: x >= len(nasdaq_data) - 5)\n",
    "\n",
    "# Example usage\n",
    "start_date = pd.to_datetime(nasdaq_data.index[-1]).date()  # Get the latest date from the collected data\n",
    "end_date = datetime.datetime.today().date()\n",
    "\n",
    "nasdaq_data_new = get_nasdaq_data(start_date, end_date)\n",
    "\n",
    "combined_data = pd.concat([nasdaq_data, nasdaq_data_new])\n",
    "\n",
    "# Sort the combined data by date\n",
    "#combined_data = combined_data.sort_index()\n",
    "\n",
    "combined_data.to_csv('nasdaq_data.csv')\n",
    "\n",
    "combined_data['ra200'] = combined_data['Close'].rolling(window=200).mean()\n",
    "combined_data['ra100'] = combined_data['Close'].rolling(window=100).mean()\n",
    "combined_data['ra400'] = combined_data['Close'].rolling(window=400).mean()\n",
    "\n",
    "\n",
    "combined_data['Date2'] = combined_data.index\n",
    "combined_data.set_index('Date2', inplace=True)\n",
    "\n",
    "# Slice the DataFrame to include only the last 200 days\n",
    "last_200_days = combined_data.tail(2000)\n",
    "\n",
    "# Create a new column 'Date2' for the index\n",
    "last_200_days['Date2'] = last_200_days.index\n",
    "\n",
    "# Set the index to 'Date2'\n",
    "last_200_days.set_index('Date2', inplace=True)\n",
    "\n",
    "# Plot the last 200 days\n",
    "#last_200_days.plot(y=['Close', 'ra200', 'ra100', 'ra400' ], legend=True)\n",
    "\n",
    "# Plot the last 200 days\n",
    "fig, ax = plt.subplots(figsize=(20, 6))  # Set the width to 20 inches and height to 6 inches\n",
    "last_200_days.plot(y=['Close', 'ra200', 'ra100', 'ra400'], legend=True, ax=ax)\n",
    "plt.show()\n",
    "\n",
    "print(combined_data.head())\n",
    "print(combined_data.tail())\n",
    "\n"
   ]
  }
 ],
 "metadata": {
  "kernelspec": {
   "display_name": "Python 3",
   "language": "python",
   "name": "python3"
  },
  "language_info": {
   "codemirror_mode": {
    "name": "ipython",
    "version": 3
   },
   "file_extension": ".py",
   "mimetype": "text/x-python",
   "name": "python",
   "nbconvert_exporter": "python",
   "pygments_lexer": "ipython3",
   "version": "3.12.4"
  }
 },
 "nbformat": 4,
 "nbformat_minor": 2
}
