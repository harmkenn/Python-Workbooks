{
 "cells": [
  {
   "cell_type": "markdown",
   "metadata": {},
   "source": [
    "https://www.freecodecamp.org/news/python-project-how-to-build-your-own-jarvis-using-python/\n",
    "pip install pyttsx3, SpeechRecognition, pywhatkit, wikipedia, requests\n",
    "\n",
    "pyttsx3: pyttsx is a cross-platform text to speech library which is platform-independent. The major advantage of using this library for text-to-speech conversion is that it works offline. \n",
    "$ pip install pyttsx3\n",
    "SpeechRecognition: This allows us to convert audio into text for further processing. \n",
    "pywhatkit: This is an easy-to-use library that will help us interact with the browser very easily. \n",
    "$ pip install pywhatkit\n",
    "wikipedia: We'll use this to fetch a variety of information from the Wikipedia website. \n",
    "$ pip install wikipedia\n",
    "requests: This is an elegant and simple HTTP library for Python that allows you to send HTTP/1.1 requests extremely easily. \n",
    "$ pip install requests\n",
    "\n",
    "To use the contents from the .env file, we'll install another module called python-decouple as:\n",
    "$ pip install python-decouple"
   ]
  },
  {
   "cell_type": "markdown",
   "metadata": {},
   "source": [
    "How to Set Up JARVIS with Python\n",
    "Before we start defining a few important functions, let's create a speech engine first."
   ]
  },
  {
   "cell_type": "code",
   "execution_count": 3,
   "metadata": {},
   "outputs": [
    {
     "name": "stdout",
     "output_type": "stream",
     "text": [
      "root\n"
     ]
    }
   ],
   "source": [
    "import pyttsx3\n",
    "from decouple import config\n",
    "import os\n",
    "\n",
    "# Create an environment variable named \"USER\"\n",
    "os.environ[\"USER\"] = \"root\"\n",
    "\n",
    "# Print the value of the USER environment variable\n",
    "print(os.environ[\"USER\"])\n",
    "\n",
    "engine = pyttsx3.init('sapi5')\n",
    "\n",
    "# Set Rate\n",
    "engine.setProperty('rate', 190)\n",
    "\n",
    "# Set Volume\n",
    "engine.setProperty('volume', 1.0)\n",
    "\n",
    "# Set Voice (Female)\n",
    "voices = engine.getProperty('voices')\n",
    "engine.setProperty('voice', voices[1].id)"
   ]
  },
  {
   "cell_type": "code",
   "execution_count": 4,
   "metadata": {},
   "outputs": [],
   "source": [
    "# Text to Speech Conversion\n",
    "def speak(text):\n",
    "    \"\"\"Used to speak whatever text is passed to it\"\"\"\n",
    "    \n",
    "    engine.say(text)\n",
    "    engine.runAndWait()"
   ]
  },
  {
   "cell_type": "code",
   "execution_count": 5,
   "metadata": {},
   "outputs": [],
   "source": [
    "speak('Hello')"
   ]
  },
  {
   "cell_type": "code",
   "execution_count": 6,
   "metadata": {},
   "outputs": [],
   "source": [
    "from datetime import datetime\n",
    "\n",
    "\n",
    "def greet_user():\n",
    "    \"\"\"Greets the user according to the time\"\"\"\n",
    "    \n",
    "    hour = datetime.now().hour\n",
    "    if (hour >= 6) and (hour < 12):\n",
    "        speak(f\"Good Morning {USERNAME}\")\n",
    "    elif (hour >= 12) and (hour < 16):\n",
    "        speak(f\"Good afternoon {USERNAME}\")\n",
    "    elif (hour >= 16) and (hour < 19):\n",
    "        speak(f\"Good Evening {USERNAME}\")\n",
    "    speak(f\"I am {BOTNAME}. How may I assist you?\")"
   ]
  },
  {
   "cell_type": "code",
   "execution_count": 7,
   "metadata": {},
   "outputs": [],
   "source": [
    "USERNAME = 'Ken'\n",
    "BOTNAME = \"Jarvis\"\n",
    "greet_user()"
   ]
  },
  {
   "cell_type": "code",
   "execution_count": 8,
   "metadata": {},
   "outputs": [],
   "source": [
    "import speech_recognition as sr\n",
    "from random import choice\n",
    "from utils import opening_text\n",
    "\n",
    "\n",
    "def take_user_input():\n",
    "    \"\"\"Takes user input, recognizes it using Speech Recognition module and converts it into text\"\"\"\n",
    "\n",
    "    r = sr.Recognizer()\n",
    "    with sr.Microphone() as source:\n",
    "        print('Listening....')\n",
    "        r.pause_threshold = 1\n",
    "        audio = r.listen(source)\n",
    "\n",
    "    try:\n",
    "        print('Recognizing...')\n",
    "        query = r.recognize_google(audio, language='en-in')\n",
    "        if not 'exit' in query or 'stop' in query:\n",
    "            speak(choice(opening_text))\n",
    "        else:\n",
    "            hour = datetime.now().hour\n",
    "            if hour >= 21 and hour < 6:\n",
    "                speak(\"Good night sir, take care!\")\n",
    "            else:\n",
    "                speak('Have a good day sir!')\n",
    "            exit()\n",
    "    except Exception:\n",
    "        speak('Sorry, I could not understand. Could you please say that again?')\n",
    "        query = 'None'\n",
    "    return query"
   ]
  },
  {
   "cell_type": "code",
   "execution_count": 10,
   "metadata": {},
   "outputs": [
    {
     "name": "stdout",
     "output_type": "stream",
     "text": [
      "Listening....\n",
      "Recognizing...\n"
     ]
    },
    {
     "data": {
      "text/plain": [
       "'hello'"
      ]
     },
     "execution_count": 10,
     "metadata": {},
     "output_type": "execute_result"
    }
   ],
   "source": [
    "take_user_input()"
   ]
  }
 ],
 "metadata": {
  "kernelspec": {
   "display_name": "Python 3",
   "language": "python",
   "name": "python3"
  },
  "language_info": {
   "codemirror_mode": {
    "name": "ipython",
    "version": 3
   },
   "file_extension": ".py",
   "mimetype": "text/x-python",
   "name": "python",
   "nbconvert_exporter": "python",
   "pygments_lexer": "ipython3",
   "version": "3.11.4"
  },
  "orig_nbformat": 4
 },
 "nbformat": 4,
 "nbformat_minor": 2
}
