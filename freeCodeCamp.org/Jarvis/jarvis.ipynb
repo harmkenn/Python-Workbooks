{
 "cells": [
  {
   "cell_type": "markdown",
   "metadata": {},
   "source": [
    "https://www.freecodecamp.org/news/python-project-how-to-build-your-own-jarvis-using-python/\n",
    "pip install pyttsx3, SpeechRecognition, pywhatkit, wikipedia, requests\n",
    "\n",
    "pyttsx3: pyttsx is a cross-platform text to speech library which is platform-independent. The major advantage of using this library for text-to-speech conversion is that it works offline. \n",
    "$ pip install pyttsx3\n",
    "SpeechRecognition: This allows us to convert audio into text for further processing. \n",
    "pywhatkit: This is an easy-to-use library that will help us interact with the browser very easily. \n",
    "$ pip install pywhatkit\n",
    "wikipedia: We'll use this to fetch a variety of information from the Wikipedia website. \n",
    "$ pip install wikipedia\n",
    "requests: This is an elegant and simple HTTP library for Python that allows you to send HTTP/1.1 requests extremely easily. \n",
    "$ pip install requests"
   ]
  },
  {
   "cell_type": "code",
   "execution_count": null,
   "metadata": {},
   "outputs": [],
   "source": []
  }
 ],
 "metadata": {
  "language_info": {
   "name": "python"
  },
  "orig_nbformat": 4
 },
 "nbformat": 4,
 "nbformat_minor": 2
}
