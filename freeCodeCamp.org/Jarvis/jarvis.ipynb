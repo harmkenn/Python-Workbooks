{
 "cells": [
  {
   "cell_type": "markdown",
   "metadata": {},
   "source": [
    "https://www.freecodecamp.org/news/python-project-how-to-build-your-own-jarvis-using-python/\n",
    "pip install pyttsx3, SpeechRecognition, pywhatkit, wikipedia, requests\n",
    "\n",
    "pyttsx3: pyttsx is a cross-platform text to speech library which is platform-independent. The major advantage of using this library for text-to-speech conversion is that it works offline. \n",
    "$ pip install pyttsx3\n",
    "SpeechRecognition: This allows us to convert audio into text for further processing. \n",
    "pywhatkit: This is an easy-to-use library that will help us interact with the browser very easily. \n",
    "$ pip install pywhatkit\n",
    "wikipedia: We'll use this to fetch a variety of information from the Wikipedia website. \n",
    "$ pip install wikipedia\n",
    "requests: This is an elegant and simple HTTP library for Python that allows you to send HTTP/1.1 requests extremely easily. \n",
    "$ pip install requests\n",
    "\n",
    "To use the contents from the .env file, we'll install another module called python-decouple as:\n",
    "$ pip install python-decouple"
   ]
  },
  {
   "cell_type": "markdown",
   "metadata": {},
   "source": [
    "How to Set Up JARVIS with Python\n",
    "Before we start defining a few important functions, let's create a speech engine first."
   ]
  },
  {
   "cell_type": "code",
   "execution_count": 2,
   "metadata": {},
   "outputs": [
    {
     "ename": "AttributeError",
     "evalue": "'_Environ' object has no attribute 'fromkeys'",
     "output_type": "error",
     "traceback": [
      "\u001b[1;31m---------------------------------------------------------------------------\u001b[0m",
      "\u001b[1;31mAttributeError\u001b[0m                            Traceback (most recent call last)",
      "\u001b[1;32md:\\Github\\Python-Workbooks\\freeCodeCamp.org\\Jarvis\\jarvis.ipynb Cell 3\u001b[0m line \u001b[0;36m7\n\u001b[0;32m      <a href='vscode-notebook-cell:/d%3A/Github/Python-Workbooks/freeCodeCamp.org/Jarvis/jarvis.ipynb#W2sZmlsZQ%3D%3D?line=3'>4</a>\u001b[0m \u001b[39mimport\u001b[39;00m \u001b[39mos\u001b[39;00m\n\u001b[0;32m      <a href='vscode-notebook-cell:/d%3A/Github/Python-Workbooks/freeCodeCamp.org/Jarvis/jarvis.ipynb#W2sZmlsZQ%3D%3D?line=5'>6</a>\u001b[0m \u001b[39m# Load the environment variables from the .env file\u001b[39;00m\n\u001b[1;32m----> <a href='vscode-notebook-cell:/d%3A/Github/Python-Workbooks/freeCodeCamp.org/Jarvis/jarvis.ipynb#W2sZmlsZQ%3D%3D?line=6'>7</a>\u001b[0m os\u001b[39m.\u001b[39menviron\u001b[39m.\u001b[39mupdate(\u001b[39m*\u001b[39m\u001b[39m*\u001b[39mos\u001b[39m.\u001b[39;49menviron\u001b[39m.\u001b[39;49mfromkeys(\u001b[39m\"\u001b[39m\u001b[39m*\u001b[39m\u001b[39m\"\u001b[39m, \u001b[39mNone\u001b[39;00m))\n\u001b[0;32m      <a href='vscode-notebook-cell:/d%3A/Github/Python-Workbooks/freeCodeCamp.org/Jarvis/jarvis.ipynb#W2sZmlsZQ%3D%3D?line=8'>9</a>\u001b[0m \u001b[39m# Print the value of the USER environment variable\u001b[39;00m\n\u001b[0;32m     <a href='vscode-notebook-cell:/d%3A/Github/Python-Workbooks/freeCodeCamp.org/Jarvis/jarvis.ipynb#W2sZmlsZQ%3D%3D?line=9'>10</a>\u001b[0m \u001b[39mprint\u001b[39m(os\u001b[39m.\u001b[39menviron[\u001b[39m\"\u001b[39m\u001b[39mUSER\u001b[39m\u001b[39m\"\u001b[39m])\n",
      "\u001b[1;31mAttributeError\u001b[0m: '_Environ' object has no attribute 'fromkeys'"
     ]
    }
   ],
   "source": [
    "import pyttsx3\n",
    "from decouple import config\n",
    "import os\n",
    "\n",
    "# Load the environment variables from the .env file\n",
    "os.environ.update(**os.environ.fromkeys(\"*\", None))\n",
    "\n",
    "# Print the value of the USER environment variable\n",
    "print(os.environ[\"USER\"])\n",
    "\n",
    "\n",
    "engine = pyttsx3.init('sapi5')\n",
    "\n",
    "# Set Rate\n",
    "engine.setProperty('rate', 190)\n",
    "\n",
    "# Set Volume\n",
    "engine.setProperty('volume', 1.0)\n",
    "\n",
    "# Set Voice (Female)\n",
    "voices = engine.getProperty('voices')\n",
    "engine.setProperty('voice', voices[1].id)"
   ]
  }
 ],
 "metadata": {
  "kernelspec": {
   "display_name": "Python 3",
   "language": "python",
   "name": "python3"
  },
  "language_info": {
   "codemirror_mode": {
    "name": "ipython",
    "version": 3
   },
   "file_extension": ".py",
   "mimetype": "text/x-python",
   "name": "python",
   "nbconvert_exporter": "python",
   "pygments_lexer": "ipython3",
   "version": "3.11.4"
  },
  "orig_nbformat": 4
 },
 "nbformat": 4,
 "nbformat_minor": 2
}
