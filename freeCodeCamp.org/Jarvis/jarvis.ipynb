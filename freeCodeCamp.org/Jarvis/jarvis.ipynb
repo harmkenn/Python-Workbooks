{
 "cells": [
  {
   "cell_type": "markdown",
   "metadata": {},
   "source": [
    "https://www.freecodecamp.org/news/python-project-how-to-build-your-own-jarvis-using-python/\n",
    "pip install pyttsx3, SpeechRecognition, pywhatkit, wikipedia, requests\n",
    "\n",
    "pyttsx3: pyttsx is a cross-platform text to speech library which is platform-independent. The major advantage of using this library for text-to-speech conversion is that it works offline. \n",
    "$ pip install pyttsx3\n",
    "SpeechRecognition: This allows us to convert audio into text for further processing. \n",
    "pywhatkit: This is an easy-to-use library that will help us interact with the browser very easily. \n",
    "$ pip install pywhatkit\n",
    "wikipedia: We'll use this to fetch a variety of information from the Wikipedia website. \n",
    "$ pip install wikipedia\n",
    "requests: This is an elegant and simple HTTP library for Python that allows you to send HTTP/1.1 requests extremely easily. \n",
    "$ pip install requests\n",
    "\n",
    "To use the contents from the .env file, we'll install another module called python-decouple as:\n",
    "$ pip install python-decouple"
   ]
  },
  {
   "cell_type": "markdown",
   "metadata": {},
   "source": [
    "How to Set Up JARVIS with Python\n",
    "Before we start defining a few important functions, let's create a speech engine first."
   ]
  },
  {
   "cell_type": "code",
   "execution_count": 3,
   "metadata": {},
   "outputs": [
    {
     "name": "stdout",
     "output_type": "stream",
     "text": [
      "root\n"
     ]
    }
   ],
   "source": [
    "import pyttsx3\n",
    "from decouple import config\n",
    "import os\n",
    "\n",
    "# Create an environment variable named \"USER\"\n",
    "os.environ[\"USER\"] = \"root\"\n",
    "\n",
    "# Print the value of the USER environment variable\n",
    "print(os.environ[\"USER\"])\n",
    "\n",
    "engine = pyttsx3.init('sapi5')\n",
    "\n",
    "# Set Rate\n",
    "engine.setProperty('rate', 190)\n",
    "\n",
    "# Set Volume\n",
    "engine.setProperty('volume', 1.0)\n",
    "\n",
    "# Set Voice (Female)\n",
    "voices = engine.getProperty('voices')\n",
    "engine.setProperty('voice', voices[1].id)"
   ]
  },
  {
   "cell_type": "code",
   "execution_count": 4,
   "metadata": {},
   "outputs": [],
   "source": [
    "# Text to Speech Conversion\n",
    "def speak(text):\n",
    "    \"\"\"Used to speak whatever text is passed to it\"\"\"\n",
    "    \n",
    "    engine.say(text)\n",
    "    engine.runAndWait()"
   ]
  },
  {
   "cell_type": "code",
   "execution_count": 5,
   "metadata": {},
   "outputs": [],
   "source": [
    "speak('Hello')"
   ]
  },
  {
   "cell_type": "code",
   "execution_count": 7,
   "metadata": {},
   "outputs": [],
   "source": [
    "from datetime import datetime\n",
    "\n",
    "\n",
    "def greet_user():\n",
    "    \"\"\"Greets the user according to the time\"\"\"\n",
    "    \n",
    "    hour = datetime.now().hour\n",
    "    if (hour >= 6) and (hour < 12):\n",
    "        speak(f\"Good Morning {USERNAME}\")\n",
    "    elif (hour >= 12) and (hour < 16):\n",
    "        speak(f\"Good afternoon {USERNAME}\")\n",
    "    elif (hour >= 16) and (hour < 19):\n",
    "        speak(f\"Good Evening {USERNAME}\")\n",
    "    speak(f\"I am {BOTNAME}. How may I assist you?\")"
   ]
  },
  {
   "cell_type": "code",
   "execution_count": 10,
   "metadata": {},
   "outputs": [],
   "source": [
    "USERNAME = 'Ken'\n",
    "BOTNAME = \"Jarvis\"\n",
    "greet_user()"
   ]
  },
  {
   "cell_type": "code",
   "execution_count": 13,
   "metadata": {},
   "outputs": [
    {
     "ename": "ImportError",
     "evalue": "cannot import name 'opening_text' from 'utils' (c:\\Users\\harmk\\AppData\\Local\\Programs\\Python\\Python311\\Lib\\site-packages\\utils\\__init__.py)",
     "output_type": "error",
     "traceback": [
      "\u001b[1;31m---------------------------------------------------------------------------\u001b[0m",
      "\u001b[1;31mImportError\u001b[0m                               Traceback (most recent call last)",
      "\u001b[1;32md:\\Github\\Python-Workbooks\\freeCodeCamp.org\\Jarvis\\jarvis.ipynb Cell 8\u001b[0m line \u001b[0;36m3\n\u001b[0;32m      <a href='vscode-notebook-cell:/d%3A/Github/Python-Workbooks/freeCodeCamp.org/Jarvis/jarvis.ipynb#X10sZmlsZQ%3D%3D?line=0'>1</a>\u001b[0m \u001b[39mimport\u001b[39;00m \u001b[39mspeech_recognition\u001b[39;00m \u001b[39mas\u001b[39;00m \u001b[39msr\u001b[39;00m\n\u001b[0;32m      <a href='vscode-notebook-cell:/d%3A/Github/Python-Workbooks/freeCodeCamp.org/Jarvis/jarvis.ipynb#X10sZmlsZQ%3D%3D?line=1'>2</a>\u001b[0m \u001b[39mfrom\u001b[39;00m \u001b[39mrandom\u001b[39;00m \u001b[39mimport\u001b[39;00m choice\n\u001b[1;32m----> <a href='vscode-notebook-cell:/d%3A/Github/Python-Workbooks/freeCodeCamp.org/Jarvis/jarvis.ipynb#X10sZmlsZQ%3D%3D?line=2'>3</a>\u001b[0m \u001b[39mfrom\u001b[39;00m \u001b[39mutils\u001b[39;00m \u001b[39mimport\u001b[39;00m opening_text\n\u001b[0;32m      <a href='vscode-notebook-cell:/d%3A/Github/Python-Workbooks/freeCodeCamp.org/Jarvis/jarvis.ipynb#X10sZmlsZQ%3D%3D?line=5'>6</a>\u001b[0m \u001b[39mdef\u001b[39;00m \u001b[39mtake_user_input\u001b[39m():\n\u001b[0;32m      <a href='vscode-notebook-cell:/d%3A/Github/Python-Workbooks/freeCodeCamp.org/Jarvis/jarvis.ipynb#X10sZmlsZQ%3D%3D?line=6'>7</a>\u001b[0m \u001b[39m    \u001b[39m\u001b[39m\"\"\"Takes user input, recognizes it using Speech Recognition module and converts it into text\"\"\"\u001b[39;00m\n",
      "\u001b[1;31mImportError\u001b[0m: cannot import name 'opening_text' from 'utils' (c:\\Users\\harmk\\AppData\\Local\\Programs\\Python\\Python311\\Lib\\site-packages\\utils\\__init__.py)"
     ]
    }
   ],
   "source": [
    "import speech_recognition as sr\n",
    "from random import choice\n",
    "import utils\n",
    "\n",
    "\n",
    "def take_user_input():\n",
    "    \"\"\"Takes user input, recognizes it using Speech Recognition module and converts it into text\"\"\"\n",
    "\n",
    "    r = sr.Recognizer()\n",
    "    with sr.Microphone() as source:\n",
    "        print('Listening....')\n",
    "        r.pause_threshold = 1\n",
    "        audio = r.listen(source)\n",
    "\n",
    "    try:\n",
    "        print('Recognizing...')\n",
    "        query = r.recognize_google(audio, language='en-in')\n",
    "        if not 'exit' in query or 'stop' in query:\n",
    "            speak(choice(opening_text))\n",
    "        else:\n",
    "            hour = datetime.now().hour\n",
    "            if hour >= 21 and hour < 6:\n",
    "                speak(\"Good night sir, take care!\")\n",
    "            else:\n",
    "                speak('Have a good day sir!')\n",
    "            exit()\n",
    "    except Exception:\n",
    "        speak('Sorry, I could not understand. Could you please say that again?')\n",
    "        query = 'None'\n",
    "    return query"
   ]
  }
 ],
 "metadata": {
  "kernelspec": {
   "display_name": "Python 3",
   "language": "python",
   "name": "python3"
  },
  "language_info": {
   "codemirror_mode": {
    "name": "ipython",
    "version": 3
   },
   "file_extension": ".py",
   "mimetype": "text/x-python",
   "name": "python",
   "nbconvert_exporter": "python",
   "pygments_lexer": "ipython3",
   "version": "3.11.4"
  },
  "orig_nbformat": 4
 },
 "nbformat": 4,
 "nbformat_minor": 2
}
