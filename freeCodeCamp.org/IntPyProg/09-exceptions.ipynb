{
 "cells": [
  {
   "cell_type": "code",
   "execution_count": null,
   "metadata": {},
   "outputs": [],
   "source": [
    "Errors and Exceptions\n",
    "A Python program terminates as soon as it encounters an error. In Python, an error can be a syntax error or an exception. In this article we will have a look at:\n",
    "\n",
    "Syntax Error vs. Exception\n",
    "How to raise Exceptions\n",
    "How to handle Exceptions\n",
    "Most common built-in Exceptions\n",
    "How to define your own Exception\n",
    "Syntax Errors\n",
    "A Syntax Error occurs when the parser detects a syntactically incorrect statement. A syntax error can be for example a typo, missing brackets, no new line (see code below), or wrong identation (this will actually raise its own IndentationError, but its subclassed from a SyntaxError)."
   ]
  },
  {
   "cell_type": "code",
   "execution_count": 1,
   "metadata": {},
   "outputs": [
    {
     "ename": "SyntaxError",
     "evalue": "invalid syntax (2526900384.py, line 1)",
     "output_type": "error",
     "traceback": [
      "\u001b[0;36m  Cell \u001b[0;32mIn[1], line 1\u001b[0;36m\u001b[0m\n\u001b[0;31m    a = 5 print(a)\u001b[0m\n\u001b[0m          ^\u001b[0m\n\u001b[0;31mSyntaxError\u001b[0m\u001b[0;31m:\u001b[0m invalid syntax\n"
     ]
    }
   ],
   "source": [
    "a = 5 print(a)"
   ]
  },
  {
   "attachments": {},
   "cell_type": "markdown",
   "metadata": {},
   "source": [
    "Exceptions\n",
    "Even if a statement is syntactically correct, it may cause an error when it is executed. This is called an Exception Error. There are several different error classes, for example trying to add a number and a string will raise a TypeError."
   ]
  },
  {
   "cell_type": "code",
   "execution_count": 2,
   "metadata": {},
   "outputs": [
    {
     "ename": "TypeError",
     "evalue": "unsupported operand type(s) for +: 'int' and 'str'",
     "output_type": "error",
     "traceback": [
      "\u001b[0;31m---------------------------------------------------------------------------\u001b[0m",
      "\u001b[0;31mTypeError\u001b[0m                                 Traceback (most recent call last)",
      "Cell \u001b[0;32mIn[2], line 1\u001b[0m\n\u001b[0;32m----> 1\u001b[0m a \u001b[39m=\u001b[39m \u001b[39m5\u001b[39;49m \u001b[39m+\u001b[39;49m \u001b[39m'\u001b[39;49m\u001b[39m10\u001b[39;49m\u001b[39m'\u001b[39;49m\n",
      "\u001b[0;31mTypeError\u001b[0m: unsupported operand type(s) for +: 'int' and 'str'"
     ]
    }
   ],
   "source": [
    "a = 5 + '10'"
   ]
  },
  {
   "cell_type": "code",
   "execution_count": null,
   "metadata": {},
   "outputs": [],
   "source": [
    "Raising an Exception\n",
    "If you want to force an exception to occur when a certain condition is met, you can use the raise keyword."
   ]
  },
  {
   "cell_type": "code",
   "execution_count": 3,
   "metadata": {},
   "outputs": [
    {
     "ename": "Exception",
     "evalue": "x should not be negative.",
     "output_type": "error",
     "traceback": [
      "\u001b[0;31m---------------------------------------------------------------------------\u001b[0m",
      "\u001b[0;31mException\u001b[0m                                 Traceback (most recent call last)",
      "Cell \u001b[0;32mIn[3], line 3\u001b[0m\n\u001b[1;32m      1\u001b[0m x \u001b[39m=\u001b[39m \u001b[39m-\u001b[39m\u001b[39m5\u001b[39m\n\u001b[1;32m      2\u001b[0m \u001b[39mif\u001b[39;00m x \u001b[39m<\u001b[39m \u001b[39m0\u001b[39m:\n\u001b[0;32m----> 3\u001b[0m     \u001b[39mraise\u001b[39;00m \u001b[39mException\u001b[39;00m(\u001b[39m'\u001b[39m\u001b[39mx should not be negative.\u001b[39m\u001b[39m'\u001b[39m)\n",
      "\u001b[0;31mException\u001b[0m: x should not be negative."
     ]
    }
   ],
   "source": [
    "x = -5\n",
    "if x < 0:\n",
    "    raise Exception('x should not be negative.')"
   ]
  },
  {
   "attachments": {},
   "cell_type": "markdown",
   "metadata": {},
   "source": [
    "You can also use the assert statement, which will throw an AssertionError if your assertion is not True. This way, you can actively test some conditions that have to be fulfilled instead of waiting for your program to unexpectedly crash midway. Assertion is also used in unit testing."
   ]
  },
  {
   "cell_type": "code",
   "execution_count": 1,
   "metadata": {},
   "outputs": [
    {
     "ename": "AssertionError",
     "evalue": "x is not positive.",
     "output_type": "error",
     "traceback": [
      "\u001b[0;31m---------------------------------------------------------------------------\u001b[0m",
      "\u001b[0;31mAssertionError\u001b[0m                            Traceback (most recent call last)",
      "Cell \u001b[0;32mIn[1], line 2\u001b[0m\n\u001b[1;32m      1\u001b[0m x \u001b[39m=\u001b[39m \u001b[39m-\u001b[39m\u001b[39m5\u001b[39m\n\u001b[0;32m----> 2\u001b[0m \u001b[39massert\u001b[39;00m (x \u001b[39m>\u001b[39m\u001b[39m=\u001b[39m \u001b[39m0\u001b[39m), \u001b[39m'\u001b[39m\u001b[39mx is not positive.\u001b[39m\u001b[39m'\u001b[39m\n\u001b[1;32m      3\u001b[0m \u001b[39m# --> Your code will be fine if x >= 0\u001b[39;00m\n",
      "\u001b[0;31mAssertionError\u001b[0m: x is not positive."
     ]
    }
   ],
   "source": [
    "x = -5\n",
    "assert (x >= 0), 'x is not positive.'\n",
    "# --> Your code will be fine if x >= 0"
   ]
  },
  {
   "attachments": {},
   "cell_type": "markdown",
   "metadata": {},
   "source": [
    "Handling Exceptions\n",
    "You can use a try and except block to catch and handle exceptions. If you can catch an exceptions your program won't terminate, and can continue."
   ]
  },
  {
   "cell_type": "code",
   "execution_count": 2,
   "metadata": {},
   "outputs": [
    {
     "name": "stdout",
     "output_type": "stream",
     "text": [
      "some error occured.\n",
      "division by zero\n",
      "Only a ZeroDivisionError is handled here\n",
      "A TypeError occured: unsupported operand type(s) for +: 'float' and 'str'\n"
     ]
    }
   ],
   "source": [
    "# This will catch all possible exceptions\n",
    "try:\n",
    "    a = 5 / 0\n",
    "except:\n",
    "    print('some error occured.')\n",
    "    \n",
    "# You can also catch the type of exception\n",
    "try:\n",
    "    a = 5 / 0\n",
    "except Exception as e:\n",
    "    print(e)\n",
    "    \n",
    "# It is good practice to specify the type of Exception you want to catch.\n",
    "# Therefore, you have to know the possible errors\n",
    "try:\n",
    "    a = 5 / 0\n",
    "except ZeroDivisionError:\n",
    "    print('Only a ZeroDivisionError is handled here')\n",
    "    \n",
    "# You can run multiple statements in a try block, and catch different possible exceptions\n",
    "try:\n",
    "    a = 5 / 1 # Note: No ZeroDivisionError here\n",
    "    b = a + '10'\n",
    "except ZeroDivisionError as e:\n",
    "    print('A ZeroDivisionError occured:', e)\n",
    "except TypeError as e:\n",
    "    print('A TypeError occured:', e)"
   ]
  },
  {
   "attachments": {},
   "cell_type": "markdown",
   "metadata": {},
   "source": [
    "else clause\n",
    "You can use an else statement that is run if no exception occured."
   ]
  },
  {
   "cell_type": "code",
   "execution_count": 3,
   "metadata": {},
   "outputs": [
    {
     "name": "stdout",
     "output_type": "stream",
     "text": [
      "Everything is ok\n"
     ]
    }
   ],
   "source": [
    "try:\n",
    "    a = 5 / 1\n",
    "except ZeroDivisionError as e:\n",
    "    print('A ZeroDivisionError occured:', e)\n",
    "else:\n",
    "    print('Everything is ok')"
   ]
  },
  {
   "attachments": {},
   "cell_type": "markdown",
   "metadata": {},
   "source": [
    "finally clause\n",
    "You can use a finally statement that always runs, no matter if there was an exception or not. This is for example used to make some cleanup operations."
   ]
  },
  {
   "cell_type": "code",
   "execution_count": 4,
   "metadata": {},
   "outputs": [
    {
     "name": "stdout",
     "output_type": "stream",
     "text": [
      "A TypeError occured: unsupported operand type(s) for +: 'float' and 'str'\n",
      "Cleaning up some stuff...\n"
     ]
    }
   ],
   "source": [
    "try:\n",
    "    a = 5 / 1 # Note: No ZeroDivisionError here\n",
    "    b = a + '10'\n",
    "except ZeroDivisionError as e:\n",
    "    print('A ZeroDivisionError occured:', e)\n",
    "except TypeError as e:\n",
    "    print('A TypeError occured:', e)\n",
    "else:\n",
    "    print('Everything is ok')\n",
    "finally:\n",
    "    print('Cleaning up some stuff...')"
   ]
  },
  {
   "attachments": {},
   "cell_type": "markdown",
   "metadata": {},
   "source": [
    "Common built-in Exceptions\n",
    "You can find all built-in Exceptions here: https://docs.python.org/3/library/exceptions.html\n",
    "\n",
    "ImportError: If a module cannot be imported\n",
    "NameError: If you try to use a variable that was not defined\n",
    "FileNotFoundError: If you try to open a file that does not exist or you specify the wrong path\n",
    "ValueError: When an operation or function receives an argument that has the right type but an inappropriate value,\n",
    "e.g. try to remove a value from a list that does not exist\n",
    "\n",
    "TypeError: Raised when an operation or function is applied to an object of inappropriate type.\n",
    "IndexError: If you try to access an invalid index of a sequence, e.g a list or a tuple.\n",
    "KeyError: If you try to access a non existing key of a dictionary."
   ]
  },
  {
   "cell_type": "code",
   "execution_count": 5,
   "metadata": {},
   "outputs": [
    {
     "ename": "ModuleNotFoundError",
     "evalue": "No module named 'nonexistingmodule'",
     "output_type": "error",
     "traceback": [
      "\u001b[0;31m---------------------------------------------------------------------------\u001b[0m",
      "\u001b[0;31mModuleNotFoundError\u001b[0m                       Traceback (most recent call last)",
      "Cell \u001b[0;32mIn[5], line 2\u001b[0m\n\u001b[1;32m      1\u001b[0m \u001b[39m# ImportError\u001b[39;00m\n\u001b[0;32m----> 2\u001b[0m \u001b[39mimport\u001b[39;00m \u001b[39mnonexistingmodule\u001b[39;00m\n\u001b[1;32m      4\u001b[0m \u001b[39m# NameError\u001b[39;00m\n\u001b[1;32m      5\u001b[0m a \u001b[39m=\u001b[39m someundefinedvariable\n",
      "\u001b[0;31mModuleNotFoundError\u001b[0m: No module named 'nonexistingmodule'"
     ]
    }
   ],
   "source": [
    "# ImportError\n",
    "import nonexistingmodule\n",
    "\n",
    "# NameError\n",
    "a = someundefinedvariable\n",
    "\n",
    "# FileNotFoundError\n",
    "with open('nonexistingfile.txt') as f:\n",
    "    read_data = f.read()\n",
    "\n",
    "# ValueError\n",
    "a = [0, 1, 2]\n",
    "a.remove(3)\n",
    "\n",
    "# TypeError\n",
    "a = 5 + \"10\"\n",
    "\n",
    "# IndexError\n",
    "a = [0, 1, 2]\n",
    "value = a[5]\n",
    "\n",
    "# KeyError\n",
    "my_dict = {\"name\": \"Max\", \"city\": \"Boston\"}\n",
    "age = my_dict[\"age\"]"
   ]
  },
  {
   "attachments": {},
   "cell_type": "markdown",
   "metadata": {},
   "source": [
    "Define your own Exceptions\n",
    "You can define your own exception class that should be derived from the built-in Exception class. Most exceptions are defined with names that end in 'Error', similar to the naming of the standard exceptions. Exception classes can be defined like any other class, but are usually kept simple, often only offering a number of attributes that allow information about the error to be extracted by handlers."
   ]
  },
  {
   "cell_type": "code",
   "execution_count": 6,
   "metadata": {},
   "outputs": [
    {
     "name": "stdout",
     "output_type": "stream",
     "text": [
      "Value is too low. The value is: 1\n"
     ]
    }
   ],
   "source": [
    "# minimal example for own exception class\n",
    "class ValueTooHighError(Exception):\n",
    "    pass\n",
    "\n",
    "# or add some more information for handlers\n",
    "class ValueTooLowError(Exception):\n",
    "    def __init__(self, message, value):\n",
    "        self.message = message\n",
    "        self.value = value\n",
    "\n",
    "def test_value(a):\n",
    "    if a > 1000:\n",
    "        raise ValueTooHighError('Value is too high.')\n",
    "    if a < 5:\n",
    "        raise ValueTooLowError('Value is too low.', a) # Note that the constructor takes 2 arguments here\n",
    "    return a\n",
    "\n",
    "try:\n",
    "    test_value(1)\n",
    "except ValueTooHighError as e:\n",
    "    print(e)\n",
    "except ValueTooLowError as e:\n",
    "    print(e.message, 'The value is:', e.value)"
   ]
  }
 ],
 "metadata": {
  "kernelspec": {
   "display_name": "Python 3",
   "language": "python",
   "name": "python3"
  },
  "language_info": {
   "codemirror_mode": {
    "name": "ipython",
    "version": 3
   },
   "file_extension": ".py",
   "mimetype": "text/x-python",
   "name": "python",
   "nbconvert_exporter": "python",
   "pygments_lexer": "ipython3",
   "version": "3.11.1"
  },
  "orig_nbformat": 4
 },
 "nbformat": 4,
 "nbformat_minor": 2
}
