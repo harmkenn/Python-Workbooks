{
 "cells": [
  {
   "cell_type": "markdown",
   "metadata": {},
   "source": [
    "https://github.com/patrickloeber/python-engineer-notebooks/blob/master/advanced-python/14-Generators.ipynb\n",
    "Generators\n",
    "Generators are functions that can be paused and resumed on the fly, returning an object that can be iterated over. Unlike lists, they are lazy and thus produce items one at a time and only when asked. So they are much more memory efficient when dealing with large datasets.\n",
    "A generator is defined like a normal function but with the yield statement instead of return.\n",
    "\n",
    "def my_generator():\n",
    "    yield 1\n",
    "    yield 2\n",
    "    yield 3\n",
    "Execution of a generator function\n",
    "Calling the function does not execute it. Instead, the function returns a generator object which is used to control execution. Generator objects execute when next() is called. When calling next() the first time, execution begins at the start of the function and continues until the first yield statement where the value to the right of the statement is returned. Subsequent calls to next() continue from the yield statement (and loop around) until another yield is reached. If yield is not called because of a condition or the end is reached, a StopIteration exception is raised:"
   ]
  },
  {
   "cell_type": "code",
   "execution_count": 1,
   "metadata": {},
   "outputs": [
    {
     "name": "stdout",
     "output_type": "stream",
     "text": [
      "Starting\n",
      "3\n",
      "2\n",
      "1\n"
     ]
    },
    {
     "ename": "StopIteration",
     "evalue": "",
     "output_type": "error",
     "traceback": [
      "\u001b[0;31m---------------------------------------------------------------------------\u001b[0m",
      "\u001b[0;31mStopIteration\u001b[0m                             Traceback (most recent call last)",
      "Cell \u001b[0;32mIn[1], line 18\u001b[0m\n\u001b[1;32m     15\u001b[0m \u001b[39mprint\u001b[39m(\u001b[39mnext\u001b[39m(cd))\n\u001b[1;32m     17\u001b[0m \u001b[39m# this will raise a StopIteration\u001b[39;00m\n\u001b[0;32m---> 18\u001b[0m \u001b[39mprint\u001b[39m(\u001b[39mnext\u001b[39;49m(cd))\n",
      "\u001b[0;31mStopIteration\u001b[0m: "
     ]
    }
   ],
   "source": [
    "def countdown(num):\n",
    "    print('Starting')\n",
    "    while num > 0:\n",
    "        yield num\n",
    "        num -= 1\n",
    "\n",
    "# this will not print 'Starting'\n",
    "cd = countdown(3)\n",
    "\n",
    "# this will print 'Starting' and the first value\n",
    "print(next(cd))\n",
    "\n",
    "# will print the next values\n",
    "print(next(cd))\n",
    "print(next(cd))\n",
    "\n",
    "# this will raise a StopIteration\n",
    "print(next(cd))\n",
    "     "
   ]
  },
  {
   "cell_type": "code",
   "execution_count": 2,
   "metadata": {},
   "outputs": [
    {
     "name": "stdout",
     "output_type": "stream",
     "text": [
      "Starting\n",
      "3\n",
      "2\n",
      "1\n"
     ]
    }
   ],
   "source": [
    "# you can iterate over a generator object with a for in loop\n",
    "cd = countdown(3)\n",
    "for x in cd:\n",
    "    print(x)"
   ]
  },
  {
   "cell_type": "code",
   "execution_count": 2,
   "metadata": {},
   "outputs": [
    {
     "name": "stdout",
     "output_type": "stream",
     "text": [
      "         Number  Steps to 1\n",
      "0             1           0\n",
      "1             2           1\n",
      "2             3           7\n",
      "3             4           2\n",
      "4             5           5\n",
      "...         ...         ...\n",
      "999995   999996         113\n",
      "999996   999997         113\n",
      "999997   999998         258\n",
      "999998   999999         258\n",
      "999999  1000000         152\n",
      "\n",
      "[1000000 rows x 2 columns]\n"
     ]
    }
   ],
   "source": [
    "import pandas as pd\n",
    "\n",
    "def collatz_steps(n):\n",
    "    steps = 0\n",
    "    while n != 1:\n",
    "        if n % 2 == 0:\n",
    "            n = n // 2\n",
    "        else:\n",
    "            n = 3 * n + 1\n",
    "        steps += 1\n",
    "    return steps\n",
    "\n",
    "# Create a list to store data\n",
    "data = []\n",
    "\n",
    "# Input a range of positive integers\n",
    "start_num = int(input(\"Enter the starting positive integer: \"))\n",
    "end_num = int(input(\"Enter the ending positive integer: \"))\n",
    "\n",
    "if start_num <= 0 or end_num <= 0 or start_num > end_num:\n",
    "    print(\"Please enter valid positive integers.\")\n",
    "else:\n",
    "    for num in range(start_num, end_num + 1):\n",
    "        steps = collatz_steps(num)\n",
    "        data.append({'Number': num, 'Steps to 1': steps})\n",
    "\n",
    "# Create a pandas DataFrame\n",
    "df = pd.DataFrame(data)\n",
    "\n",
    "# Display the DataFrame\n",
    "print(df)"
   ]
  },
  {
   "cell_type": "code",
   "execution_count": 5,
   "metadata": {},
   "outputs": [],
   "source": [
    "import pandas as pd\n",
    "import numpy as np\n",
    "import matplotlib.pyplot as plt\n",
    "\n",
    "# Function to extract the first digit\n",
    "def extract_first_digit(number):\n",
    "    while number >= 10:\n",
    "        number //= 10\n",
    "    return number\n",
    "\n",
    "# Apply the function to the 'Numbers' column\n",
    "df['First Digit'] = df['Steps to 1'].apply(extract_first_digit)\n",
    "\n",
    "\n"
   ]
  },
  {
   "cell_type": "code",
   "execution_count": null,
   "metadata": {},
   "outputs": [],
   "source": [
    "# Calculate the expected Benford's Law distribution\n",
    "benford_distribution = np.log10(1 + 1 / np.arange(1, 10))\n",
    "\n",
    "# Normalize the counts to match the expected distribution\n",
    "normalized_counts = first_digit_counts / first_digit_counts.sum()\n",
    "\n",
    "# Plot the actual and expected distributions\n",
    "plt.bar(range(1, 10), normalized_counts, label='Actual Distribution')\n",
    "plt.plot(range(1, 10), benford_distribution, marker='o', linestyle='--', color='r', label=\"Benford's Law\")\n",
    "plt.xlabel('First Digit')\n",
    "plt.ylabel('Normalized Frequency')\n",
    "plt.title('Benford\\'s Law Test on Column')\n",
    "plt.xticks(range(1, 10))\n",
    "plt.legend()\n",
    "plt.show()"
   ]
  }
 ],
 "metadata": {
  "kernelspec": {
   "display_name": "Python 3",
   "language": "python",
   "name": "python3"
  },
  "language_info": {
   "codemirror_mode": {
    "name": "ipython",
    "version": 3
   },
   "file_extension": ".py",
   "mimetype": "text/x-python",
   "name": "python",
   "nbconvert_exporter": "python",
   "pygments_lexer": "ipython3",
   "version": "3.11.1"
  },
  "orig_nbformat": 4
 },
 "nbformat": 4,
 "nbformat_minor": 2
}
