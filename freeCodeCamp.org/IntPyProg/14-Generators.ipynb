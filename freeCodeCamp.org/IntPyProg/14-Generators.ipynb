{
 "cells": [
  {
   "cell_type": "markdown",
   "metadata": {},
   "source": [
    "https://github.com/patrickloeber/python-engineer-notebooks/blob/master/advanced-python/14-Generators.ipynb\n",
    "Generators\n",
    "Generators are functions that can be paused and resumed on the fly, returning an object that can be iterated over. Unlike lists, they are lazy and thus produce items one at a time and only when asked. So they are much more memory efficient when dealing with large datasets.\n",
    "A generator is defined like a normal function but with the yield statement instead of return.\n",
    "\n",
    "def my_generator():\n",
    "    yield 1\n",
    "    yield 2\n",
    "    yield 3\n",
    "Execution of a generator function\n",
    "Calling the function does not execute it. Instead, the function returns a generator object which is used to control execution. Generator objects execute when next() is called. When calling next() the first time, execution begins at the start of the function and continues until the first yield statement where the value to the right of the statement is returned. Subsequent calls to next() continue from the yield statement (and loop around) until another yield is reached. If yield is not called because of a condition or the end is reached, a StopIteration exception is raised:"
   ]
  },
  {
   "cell_type": "code",
   "execution_count": 1,
   "metadata": {},
   "outputs": [
    {
     "name": "stdout",
     "output_type": "stream",
     "text": [
      "Starting\n",
      "3\n",
      "2\n",
      "1\n"
     ]
    },
    {
     "ename": "StopIteration",
     "evalue": "",
     "output_type": "error",
     "traceback": [
      "\u001b[0;31m---------------------------------------------------------------------------\u001b[0m",
      "\u001b[0;31mStopIteration\u001b[0m                             Traceback (most recent call last)",
      "Cell \u001b[0;32mIn[1], line 18\u001b[0m\n\u001b[1;32m     15\u001b[0m \u001b[39mprint\u001b[39m(\u001b[39mnext\u001b[39m(cd))\n\u001b[1;32m     17\u001b[0m \u001b[39m# this will raise a StopIteration\u001b[39;00m\n\u001b[0;32m---> 18\u001b[0m \u001b[39mprint\u001b[39m(\u001b[39mnext\u001b[39;49m(cd))\n",
      "\u001b[0;31mStopIteration\u001b[0m: "
     ]
    }
   ],
   "source": [
    "def countdown(num):\n",
    "    print('Starting')\n",
    "    while num > 0:\n",
    "        yield num\n",
    "        num -= 1\n",
    "\n",
    "# this will not print 'Starting'\n",
    "cd = countdown(3)\n",
    "\n",
    "# this will print 'Starting' and the first value\n",
    "print(next(cd))\n",
    "\n",
    "# will print the next values\n",
    "print(next(cd))\n",
    "print(next(cd))\n",
    "\n",
    "# this will raise a StopIteration\n",
    "print(next(cd))\n",
    "     "
   ]
  },
  {
   "cell_type": "code",
   "execution_count": 2,
   "metadata": {},
   "outputs": [
    {
     "name": "stdout",
     "output_type": "stream",
     "text": [
      "Starting\n",
      "3\n",
      "2\n",
      "1\n"
     ]
    }
   ],
   "source": [
    "# you can iterate over a generator object with a for in loop\n",
    "cd = countdown(3)\n",
    "for x in cd:\n",
    "    print(x)"
   ]
  }
 ],
 "metadata": {
  "kernelspec": {
   "display_name": "Python 3",
   "language": "python",
   "name": "python3"
  },
  "language_info": {
   "codemirror_mode": {
    "name": "ipython",
    "version": 3
   },
   "file_extension": ".py",
   "mimetype": "text/x-python",
   "name": "python",
   "nbconvert_exporter": "python",
   "pygments_lexer": "ipython3",
   "version": "3.11.1"
  },
  "orig_nbformat": 4
 },
 "nbformat": 4,
 "nbformat_minor": 2
}
