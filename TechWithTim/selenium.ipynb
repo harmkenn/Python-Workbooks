{
 "cells": [
  {
   "cell_type": "markdown",
   "metadata": {},
   "source": [
    "https://www.youtube.com/watch?v=NB8OceGZGjA"
   ]
  },
  {
   "cell_type": "code",
   "execution_count": 3,
   "metadata": {},
   "outputs": [],
   "source": [
    "from selenium import webdriver\n",
    "from selenium.webdriver.chrome.service import Service\n",
    "from selenium.webdriver.common.by import By\n",
    "from selenium.webdriver.common.keys import Keys\n",
    "from selenium.webdriver.support.ui import WebDriverWait\n",
    "from selenium.webdriver.support import expected_conditions as EC\n",
    "import time\n",
    "\n",
    "# https://sites.google.com/chromium.org/driver/\n",
    "\n",
    "service = Service(executable_path=\"chromedriver.exe\")\n",
    "driver = webdriver.Chrome(service=service)\n",
    "\n",
    "driver.get(\"https://google.com\")\n",
    "\n",
    "WebDriverWait(driver, 5).until(\n",
    "    EC.presence_of_element_located((By.CLASS_NAME, \"gLFyf\"))\n",
    ")\n",
    "\n",
    "input_element = driver.find_element(By.CLASS_NAME, \"gLFyf\")\n",
    "input_element.clear()\n",
    "input_element.send_keys(\"tech with tim\" + Keys.ENTER)\n",
    "\n",
    "WebDriverWait(driver, 5).until(\n",
    "    EC.presence_of_element_located((By.PARTIAL_LINK_TEXT, \"Tech With Tim\"))\n",
    ")\n",
    "\n",
    "link = driver.find_element(By.PARTIAL_LINK_TEXT, \"Tech With Tim\")\n",
    "link.click()\n",
    "\n",
    "time.sleep(10)\n",
    "\n",
    "driver.quit()"
   ]
  }
 ],
 "metadata": {
  "kernelspec": {
   "display_name": "Python 3",
   "language": "python",
   "name": "python3"
  },
  "language_info": {
   "codemirror_mode": {
    "name": "ipython",
    "version": 3
   },
   "file_extension": ".py",
   "mimetype": "text/x-python",
   "name": "python",
   "nbconvert_exporter": "python",
   "pygments_lexer": "ipython3",
   "version": "3.12.1"
  }
 },
 "nbformat": 4,
 "nbformat_minor": 2
}
