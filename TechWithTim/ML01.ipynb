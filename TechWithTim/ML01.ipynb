{
 "cells": [
  {
   "cell_type": "code",
   "execution_count": null,
   "metadata": {},
   "outputs": [],
   "source": [
    "# https://www.youtube.com/watch?v=ujTCoH21GlA&list=PLzMcBGfZo4-mP7qA9cagf68V06sko5otr\n",
    "# Machine Learning #1 "
   ]
  },
  {
   "cell_type": "code",
   "execution_count": null,
   "metadata": {},
   "outputs": [],
   "source": [
    "import pandas as pd\n",
    "import numpy as np\n",
    "import sklearn\n",
    "from sklearn import linear_model\n",
    "from sklearn.utils import shuffle\n",
    "import matplotlib.pyplot as plt\n",
    "from matplotlib import style\n",
    "import pickle\n",
    "\n",
    "style.use(\"ggplot\")\n",
    "\n",
    "data = pd.read_csv('./data/student-mat.csv', sep = ';')\n",
    "\n",
    "data = data[[\"G1\", \"G2\", \"absences\",\"failures\", \"studytime\",\"G3\"]]\n",
    "data = shuffle(data) # Optional - shuffle the data\n",
    "\n",
    "#print(data.head())\n",
    "\n",
    "predict = 'G3'\n",
    "\n",
    "x = np.array(data.drop([predict],1))\n",
    "y = np.array(data[predict])\n",
    "\n",
    "x_train, x_test, y_train, y_test = sklearn.model_selection.train_test_split(x, y, test_size = .1)\n",
    "\n",
    "# https://www.youtube.com/watch?v=1BYu65vLKdA&list=PLzMcBGfZo4-mP7qA9cagf68V06sko5otr&index=3\n",
    "\n",
    "linear = linear_model.LinearRegression()\n",
    "\n",
    "linear.fit(x_train, y_train)\n",
    "acc = linear.score(x_test, y_test)\n",
    "print(acc)\n",
    "\n",
    "print('Co: \\n', linear.coef_)\n",
    "print('int: \\n', linear.intercept_)\n",
    "\n",
    "predictions = linear.predict(x_test)\n",
    "\n",
    "for x in range(len(predictions)):\n",
    "    print(predictions[x], x_test[x], y_test[x])\n",
    "\n"
   ]
  },
  {
   "cell_type": "code",
   "execution_count": null,
   "metadata": {},
   "outputs": [],
   "source": [
    "# https://archive.ics.uci.edu/ml/datasets/Student+Performance"
   ]
  },
  {
   "cell_type": "code",
   "execution_count": 3,
   "metadata": {},
   "outputs": [
    {
     "name": "stderr",
     "output_type": "stream",
     "text": [
      "Matplotlib is building the font cache; this may take a moment.\n",
      "C:\\Users\\Daddy\\AppData\\Local\\Temp\\ipykernel_4976\\3226571254.py:21: FutureWarning: In a future version of pandas all arguments of DataFrame.drop except for the argument 'labels' will be keyword-only.\n",
      "  x = np.array(data.drop([predict],1))\n"
     ]
    },
    {
     "name": "stdout",
     "output_type": "stream",
     "text": [
      "Accuracy: 0.917633346001218\n",
      "Accuracy: 0.776877295072058\n",
      "Accuracy: 0.8398305355982242\n",
      "Accuracy: 0.7996558422672799\n",
      "Accuracy: 0.8794621680271182\n",
      "Accuracy: 0.7657017471751602\n",
      "Accuracy: 0.7633093337416899\n",
      "Accuracy: 0.8070622803819771\n",
      "Accuracy: 0.7762002341060172\n",
      "Accuracy: 0.8663986672018031\n",
      "Accuracy: 0.8442975937209041\n",
      "Accuracy: 0.6654445387008165\n",
      "Accuracy: 0.8125404630591783\n",
      "Accuracy: 0.9096789310026647\n",
      "Accuracy: 0.796173718922448\n",
      "Accuracy: 0.8791996085460768\n",
      "Accuracy: 0.8907717789074566\n",
      "Accuracy: 0.8007484302052212\n",
      "Accuracy: 0.5757036829035487\n",
      "Accuracy: 0.7852431344622284\n",
      "-------------------------\n",
      "Coefficient: \n",
      " [ 0.16888383  0.96914907  0.04054594 -0.33709902 -0.19526199]\n",
      "Intercept: \n",
      " -1.562597487835113\n",
      "-------------------------\n",
      "14.94848812119124 [14 15  0  0  2] 15\n",
      "9.446885579025007 [ 8 10  4  0  1] 10\n",
      "-0.7445565124431067 [6 0 0 0 1] 0\n",
      "7.2322335685779695 [8 8 2 0 2] 8\n",
      "13.730130997627718 [12 14  7  0  3] 14\n",
      "13.773862821103572 [13 13 23  0  2] 13\n",
      "17.224553911001205 [16 17  0  0  2] 17\n",
      "10.68754682733467 [13 11  3  1  2] 11\n",
      "3.899226767482136 [5 5 4 0 2] 6\n",
      "11.979627141420844 [12 12  2  0  1] 11\n",
      "7.036971575355025 [8 8 2 0 3] 10\n",
      "10.174716383227913 [11 11  0  0  4] 11\n",
      "12.841306159483768 [13 13  0  0  2] 13\n",
      "7.890661776528125 [7 9 2 1 1] 8\n",
      "6.982257856856364 [7 8 0 0 2] 0\n",
      "6.9161014048869305 [7 8 8 0 4] 8\n",
      "12.851959756974903 [14 12 20  0  2] 13\n",
      "13.24006551671507 [12 13 14  0  2] 12\n",
      "9.42720747476882 [10 10  0  0  2] 10\n",
      "8.882114968076758 [10 10  8  2  3] 10\n",
      "17.002913752657808 [17 17  0  0  4] 18\n",
      "8.620242175204556 [10  9  4  0  2] 11\n",
      "18.557848799129133 [17 18  0  0  1] 18\n",
      "4.902122692501542 [7 6 0 1 1] 0\n",
      "8.562781932468502 [ 8  8 30  0  1] 8\n",
      "8.620242175204556 [10  9  4  0  2] 9\n",
      "8.91385592959708 [ 6 10  4  0  2] 10\n",
      "9.163831641318685 [ 7 10  6  0  2] 10\n",
      "15.11737194929373 [15 15  0  0  2] 15\n",
      "12.75351421500039 [12 13  2  0  2] 13\n",
      "7.952075555891051 [9 9 0 1 2] 0\n",
      "15.722375194770787 [14 16  0  0  3] 16\n",
      "15.739728853126188 [16 15 16  0  3] 15\n",
      "6.9829264890885625 [9 8 0 1 2] 0\n",
      "-0.43316702135857565 [9 0 0 0 2] 0\n",
      "8.282474518999573 [8 9 4 0 2] 10\n",
      "8.370266463482952 [9 9 2 0 2] 10\n",
      "12.028309431287436 [14 12  8  1  2] 12\n",
      "8.4446582862378 [8 9 8 0 2] 10\n",
      "-0.40678885623812344 [8 0 0 0 1] 0\n"
     ]
    },
    {
     "name": "stderr",
     "output_type": "stream",
     "text": [
      "No artists with labels found to put in legend.  Note that artists whose label start with an underscore are ignored when legend() is called with no argument.\n"
     ]
    },
    {
     "data": {
      "image/png": "[encoded data removed]",
      "text/plain": [
       "<Figure size 640x480 with 1 Axes>"
      ]
     },
     "metadata": {},
     "output_type": "display_data"
    }
   ],
   "source": [
    "import pandas as pd\n",
    "import numpy as np\n",
    "import sklearn\n",
    "from sklearn import linear_model\n",
    "from sklearn.utils import shuffle\n",
    "import matplotlib.pyplot as plt\n",
    "from matplotlib import style\n",
    "import pickle\n",
    "\n",
    "style.use(\"ggplot\")\n",
    "\n",
    "data = pd.read_csv('./data/student-mat.csv', sep = ';')\n",
    "\n",
    "data = data[[\"G1\", \"G2\", \"absences\",\"failures\", \"studytime\",\"G3\"]]\n",
    "data = shuffle(data) # Optional - shuffle the data\n",
    "\n",
    "#print(data.head())\n",
    "\n",
    "predict = 'G3'\n",
    "\n",
    "x = np.array(data.drop([predict],1))\n",
    "y = np.array(data[predict])\n",
    "\n",
    "x_train, x_test, y_train, y_test = sklearn.model_selection.train_test_split(x, y, test_size = .1)\n",
    "\n",
    "# TRAIN MODEL MULTIPLE TIMES FOR BEST SCORE\n",
    "best = 0\n",
    "for _ in range(20):\n",
    "    x_train, x_test, y_train, y_test = sklearn.model_selection.train_test_split(x, y, test_size=0.1)\n",
    "\n",
    "    linear = linear_model.LinearRegression()\n",
    "\n",
    "    linear.fit(x_train, y_train)\n",
    "    acc = linear.score(x_test, y_test)\n",
    "    print(\"Accuracy: \" + str(acc))\n",
    "\n",
    "    if acc > best:\n",
    "        best = acc\n",
    "        with open(\"studentgrades.pickle\", \"wb\") as f:\n",
    "            pickle.dump(linear, f)\n",
    "\n",
    "# LOAD MODEL\n",
    "pickle_in = open(\"studentgrades.pickle\", \"rb\")\n",
    "linear = pickle.load(pickle_in)\n",
    "\n",
    "\n",
    "print(\"-------------------------\")\n",
    "print('Coefficient: \\n', linear.coef_)\n",
    "print('Intercept: \\n', linear.intercept_)\n",
    "print(\"-------------------------\")\n",
    "\n",
    "predicted= linear.predict(x_test)\n",
    "for x in range(len(predicted)):\n",
    "    print(predicted[x], x_test[x], y_test[x])\n",
    "\n",
    "\n",
    "# Drawing and plotting model\n",
    "plot = \"failures\"\n",
    "plt.scatter(data[plot], data[\"G3\"])\n",
    "plt.legend(loc=4)\n",
    "plt.xlabel(plot)\n",
    "plt.ylabel(\"Final Grade\")\n",
    "plt.show()"
   ]
  }
 ],
 "metadata": {
  "kernelspec": {
   "display_name": "Python 3",
   "language": "python",
   "name": "python3"
  },
  "language_info": {
   "codemirror_mode": {
    "name": "ipython",
    "version": 3
   },
   "file_extension": ".py",
   "mimetype": "text/x-python",
   "name": "python",
   "nbconvert_exporter": "python",
   "pygments_lexer": "ipython3",
   "version": "3.11.2"
  },
  "orig_nbformat": 4,
  "vscode": {
   "interpreter": {
    "hash": "f627b94a91bc915482d65575b2ea77ee7c3710ea9aacf075a668e3021bd93680"
   }
  }
 },
 "nbformat": 4,
 "nbformat_minor": 2
}
