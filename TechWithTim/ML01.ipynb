{
 "cells": [
  {
   "cell_type": "code",
   "execution_count": null,
   "metadata": {},
   "outputs": [],
   "source": [
    "# https://www.youtube.com/watch?v=ujTCoH21GlA&list=PLzMcBGfZo4-mP7qA9cagf68V06sko5otr\n",
    "# Machine Learning #1 "
   ]
  },
  {
   "cell_type": "code",
   "execution_count": 12,
   "metadata": {},
   "outputs": [
    {
     "name": "stdout",
     "output_type": "stream",
     "text": [
      "   G1  G2  G3  studytime  failures  absences\n",
      "0   5   6   6          2         0         6\n",
      "1   5   5   6          2         0         4\n",
      "2   7   8  10          2         3        10\n",
      "3  15  14  15          3         0         2\n",
      "4   6  10  10          2         0         4\n",
      "0.8674907383565722\n",
      "Co: \n",
      " [ 0.15335329  0.98077053 -0.19075195 -0.24578686  0.03574528]\n",
      "int: \n",
      " -1.5017512620514406\n",
      "5.471604281438979 [8 7 2 3 0] 0\n",
      "14.975248818919242 [14 15  2  0  0] 16\n",
      "-0.34972229480638006 [10  0  2  0  0] 0\n",
      "12.931845039097627 [13 13  2  0  2] 11\n",
      "3.5208327719578705 [3 5 2 1 8] 5\n",
      "9.79449286304229 [11 10  2  1 12] 10\n",
      "-0.503075581976416 [9 0 2 0 0] 0\n",
      "10.050651866981953 [12 10  2  0  8] 11\n",
      "11.041794546446049 [13 11  2  0  4] 11\n",
      "13.207435168054504 [12 13  2  0 14] 12\n",
      "8.357951101347743 [10  9  3  0  2] 8\n",
      "15.41291100312685 [16 15  3  0  9] 16\n",
      "16.416079211432383 [17 16  2  0  0] 17\n",
      "11.681766598812137 [10 12  1  0  2] 12\n",
      "12.931845039097627 [13 13  2  0  2] 13\n",
      "12.860354469743141 [13 13  2  0  0] 13\n",
      "8.429441670702227 [10  9  3  0  4] 9\n",
      "8.561384346007582 [ 7 10  3  1  0] 10\n",
      "8.987551005252763 [ 6 10  2  0  4] 10\n",
      "3.9660331521563776 [ 6  5  1  3 16] 5\n",
      "10.088050532039567 [11 10  1  0  8] 10\n",
      "12.190919352374229 [12 12  2  0 13] 13\n",
      "12.386615699011225 [11 13  4  0  6] 14\n",
      "18.22426698626841 [16 18  2  0  0] 18\n",
      "12.059963742506694 [12 12  1  0  4] 13\n",
      "11.508136627630575 [12 11  1  0 16] 11\n",
      "6.940840464670407 [7 8 4 0 8] 8\n",
      "9.267231062996288 [10 10  3  0  0] 9\n",
      "14.256720809498347 [14 14  1  0  2] 13\n",
      "11.940503657601585 [15 12  2  1  0] 12\n",
      "7.669226365405125 [ 9  8  2  1 16] 7\n",
      "12.226664637051472 [12 12  2  0 14] 12\n",
      "7.189735378877803 [8 8 2 0 0] 0\n",
      "6.20896484787477 [8 7 2 0 0] 8\n",
      "11.991448632065884 [10 12  2  0 16] 11\n",
      "9.342028393111516 [ 8 10  1  0  0] 11\n",
      "7.700541512820266 [ 9  8  2  0 10] 8\n",
      "7.496441953217873 [10  8  2  0  0] 9\n",
      "16.25400715618165 [14 16  1  0  3] 16\n",
      "-1.6630973448647017 [5 0 1 3 0] 0\n"
     ]
    },
    {
     "name": "stderr",
     "output_type": "stream",
     "text": [
      "C:\\Users\\harmk\\AppData\\Local\\Temp\\ipykernel_18072\\3514464994.py:17: FutureWarning: In a future version of pandas all arguments of DataFrame.drop except for the argument 'labels' will be keyword-only.\n",
      "  x = np.array(data.drop([predict],1))\n"
     ]
    }
   ],
   "source": [
    "import tensorflow\n",
    "import keras\n",
    "import pandas as pd\n",
    "import numpy as np\n",
    "import sklearn\n",
    "from sklearn import linear_model\n",
    "from sklearn.utils import shuffle\n",
    "\n",
    "data = pd.read_csv('./data/student-mat.csv', sep = ';')\n",
    "\n",
    "data = data[['G1','G2','G3','studytime','failures','absences']]\n",
    "\n",
    "print(data.head())\n",
    "\n",
    "predict = 'G3'\n",
    "\n",
    "x = np.array(data.drop([predict],1))\n",
    "y = np.array(data[predict])\n",
    "\n",
    "x_train, x_test, y_train, y_test = sklearn.model_selection.train_test_split(x, y, test_size = .1)\n",
    "\n",
    "# https://www.youtube.com/watch?v=1BYu65vLKdA&list=PLzMcBGfZo4-mP7qA9cagf68V06sko5otr&index=3\n",
    "\n",
    "linear = linear_model.LinearRegression()\n",
    "\n",
    "linear.fit(x_train, y_train)\n",
    "acc = linear.score(x_test, y_test)\n",
    "print(acc)\n",
    "\n",
    "print('Co: \\n', linear.coef_)\n",
    "print('int: \\n', linear.intercept_)\n",
    "\n",
    "predictions = linear.predict(x_test)\n",
    "\n",
    "for x in range(len(predictions)):\n",
    "    print(predictions[x], x_test[x], y_test[x])\n",
    "\n"
   ]
  },
  {
   "cell_type": "code",
   "execution_count": null,
   "metadata": {},
   "outputs": [],
   "source": [
    "# https://archive.ics.uci.edu/ml/datasets/Student+Performance"
   ]
  }
 ],
 "metadata": {
  "kernelspec": {
   "display_name": "Python 3",
   "language": "python",
   "name": "python3"
  },
  "language_info": {
   "codemirror_mode": {
    "name": "ipython",
    "version": 3
   },
   "file_extension": ".py",
   "mimetype": "text/x-python",
   "name": "python",
   "nbconvert_exporter": "python",
   "pygments_lexer": "ipython3",
   "version": "3.10.7"
  },
  "orig_nbformat": 4,
  "vscode": {
   "interpreter": {
    "hash": "f627b94a91bc915482d65575b2ea77ee7c3710ea9aacf075a668e3021bd93680"
   }
  }
 },
 "nbformat": 4,
 "nbformat_minor": 2
}
