{
 "cells": [
  {
   "cell_type": "code",
   "execution_count": null,
   "metadata": {},
   "outputs": [],
   "source": [
    "# https://www.youtube.com/@LucidProgramming/videos\n",
    "# https://www.youtube.com/watch?v=-vAgZpyfv40\n",
    "# https://www.youtube.com/playlist?list=PL5tcWHG-UPH1OeZ2vU5xQd7RVpkWvwJny"
   ]
  },
  {
   "cell_type": "code",
   "execution_count": null,
   "metadata": {},
   "outputs": [],
   "source": [
    "import tensorflow as tf\n",
    "#tf.__version__\n",
    "from tensorflow import keras\n",
    "import numpy as np \n",
    "import pandas as pd\n",
    "\n",
    "imdb = keras.datasets.imdb\n",
    "\n",
    "(train_data, train_labels), (test_data, test_labels) = imdb.load_data(num_words = 10000)\n",
    "\n"
   ]
  },
  {
   "cell_type": "code",
   "execution_count": null,
   "metadata": {},
   "outputs": [],
   "source": [
    "print(f\"Training entries: {len(train_data)}. Labels: {len(train_labels)}\")\n",
    "print(f\"Testing entries: {len(test_data)}. Labels: {len(test_labels)}\")"
   ]
  },
  {
   "cell_type": "code",
   "execution_count": null,
   "metadata": {},
   "outputs": [],
   "source": [
    "print(train_data[23])"
   ]
  },
  {
   "cell_type": "code",
   "execution_count": null,
   "metadata": {},
   "outputs": [],
   "source": [
    "print(len(train_data[23]),len(train_data[24]))"
   ]
  },
  {
   "cell_type": "code",
   "execution_count": null,
   "metadata": {},
   "outputs": [],
   "source": [
    "# https://www.youtube.com/watch?v=Rc2XHfk_jss&list=PL5tcWHG-UPH1OeZ2vU5xQd7RVpkWvwJny&index=5"
   ]
  },
  {
   "cell_type": "code",
   "execution_count": null,
   "metadata": {},
   "outputs": [],
   "source": [
    "word_index = imdb.get_word_index()\n",
    "word_index = {k: (v+3) for k,v in word_index.items()}\n",
    "word_index[\"<PAD>\"] = 0\n",
    "word_index[\"<START>\"] = 1\n",
    "word_index[\"<UNK>\"] = 2\n",
    "word_index[\"<UNUSED>\"] = 3\n",
    "\n",
    "reverse_word_index = dict([(value, key) for (key, value) in word_index.items()])\n",
    "\n",
    "wi_df = pd.DataFrame({\"Word\":reverse_word_index})\n"
   ]
  },
  {
   "cell_type": "code",
   "execution_count": null,
   "metadata": {},
   "outputs": [],
   "source": [
    "def decode_to_words(text):\n",
    "    return ' '.join([reverse_word_index.get(i, \"?\") for i in text])\n",
    "\n",
    "print(train_data[23])\n",
    "print(decode_to_words(train_data[23]))"
   ]
  },
  {
   "cell_type": "code",
   "execution_count": null,
   "metadata": {},
   "outputs": [],
   "source": [
    "# https://www.youtube.com/watch?v=qnpMplNJF6g&list=PL5tcWHG-UPH1OeZ2vU5xQd7RVpkWvwJny&index=6"
   ]
  },
  {
   "cell_type": "code",
   "execution_count": null,
   "metadata": {},
   "outputs": [],
   "source": [
    "train_data = keras.preprocessing.sequence.pad_sequences(train_data, value=word_index[\"<PAD>\"], padding=\"post\",maxlen=256)\n",
    "test_data = keras.preprocessing.sequence.pad_sequences(test_data, value=word_index[\"<PAD>\"], padding=\"post\",maxlen=256)"
   ]
  },
  {
   "cell_type": "code",
   "execution_count": null,
   "metadata": {},
   "outputs": [],
   "source": [
    "print(len(train_data[23]),len(train_data[24]))"
   ]
  },
  {
   "cell_type": "code",
   "execution_count": null,
   "metadata": {},
   "outputs": [],
   "source": [
    "print(train_data[24])\n",
    "print(decode_to_words(train_data[24]))"
   ]
  },
  {
   "cell_type": "code",
   "execution_count": null,
   "metadata": {},
   "outputs": [],
   "source": [
    "# https://www.youtube.com/watch?v=tC1amOAkojE&list=PL5tcWHG-UPH1OeZ2vU5xQd7RVpkWvwJny&index=7"
   ]
  },
  {
   "cell_type": "code",
   "execution_count": null,
   "metadata": {},
   "outputs": [],
   "source": [
    "vocab_size = 10000\n",
    "\n",
    "model = keras.Sequential()\n",
    "model.add(keras.layers.Embedding(vocab_size, 16))\n",
    "model.add(keras.layers.GlobalAveragePooling1D())\n",
    "model.add(keras.layers.Dense(16, activation=tf.nn.relu))\n",
    "model.add(keras.layers.Dense(1, activation = tf.nn.sigmoid))\n",
    "\n",
    "model.summary()"
   ]
  },
  {
   "cell_type": "code",
   "execution_count": null,
   "metadata": {},
   "outputs": [],
   "source": [
    "# https://www.youtube.com/watch?v=2erlC7R3OEI&list=PL5tcWHG-UPH1OeZ2vU5xQd7RVpkWvwJny&index=8"
   ]
  },
  {
   "cell_type": "code",
   "execution_count": 46,
   "metadata": {},
   "outputs": [],
   "source": [
    "model.compile(optimizer=\"adam\", loss=\"binary_crossentropy\", metrics=[\"acc\"])"
   ]
  },
  {
   "cell_type": "code",
   "execution_count": 47,
   "metadata": {},
   "outputs": [
    {
     "name": "stdout",
     "output_type": "stream",
     "text": [
      "Epoch 1/40\n",
      "30/30 [==============================] - 4s 50ms/step - loss: 0.6924 - acc: 0.5442 - val_loss: 0.6909 - val_acc: 0.5749\n",
      "Epoch 2/40\n",
      "30/30 [==============================] - 1s 47ms/step - loss: 0.6875 - acc: 0.6702 - val_loss: 0.6840 - val_acc: 0.7127\n",
      "Epoch 3/40\n",
      "30/30 [==============================] - 2s 68ms/step - loss: 0.6762 - acc: 0.7378 - val_loss: 0.6686 - val_acc: 0.7505\n",
      "Epoch 4/40\n",
      "30/30 [==============================] - 3s 87ms/step - loss: 0.6529 - acc: 0.7701 - val_loss: 0.6403 - val_acc: 0.7691\n",
      "Epoch 5/40\n",
      "30/30 [==============================] - 2s 84ms/step - loss: 0.6154 - acc: 0.7941 - val_loss: 0.6002 - val_acc: 0.7873\n",
      "Epoch 6/40\n",
      "30/30 [==============================] - 3s 99ms/step - loss: 0.5681 - acc: 0.8116 - val_loss: 0.5547 - val_acc: 0.8058\n",
      "Epoch 7/40\n",
      "30/30 [==============================] - 2s 66ms/step - loss: 0.5169 - acc: 0.8326 - val_loss: 0.5080 - val_acc: 0.8229\n",
      "Epoch 8/40\n",
      "30/30 [==============================] - 2s 65ms/step - loss: 0.4666 - acc: 0.8479 - val_loss: 0.4649 - val_acc: 0.8364\n",
      "Epoch 9/40\n",
      "30/30 [==============================] - 2s 67ms/step - loss: 0.4217 - acc: 0.8654 - val_loss: 0.4286 - val_acc: 0.8465\n",
      "Epoch 10/40\n",
      "30/30 [==============================] - 2s 70ms/step - loss: 0.3829 - acc: 0.8749 - val_loss: 0.3989 - val_acc: 0.8551\n",
      "Epoch 11/40\n",
      "30/30 [==============================] - 2s 63ms/step - loss: 0.3515 - acc: 0.8845 - val_loss: 0.3751 - val_acc: 0.8589\n",
      "Epoch 12/40\n",
      "30/30 [==============================] - 2s 65ms/step - loss: 0.3241 - acc: 0.8919 - val_loss: 0.3561 - val_acc: 0.8648\n",
      "Epoch 13/40\n",
      "30/30 [==============================] - 2s 68ms/step - loss: 0.3015 - acc: 0.8977 - val_loss: 0.3414 - val_acc: 0.8670\n",
      "Epoch 14/40\n",
      "30/30 [==============================] - 2s 67ms/step - loss: 0.2823 - acc: 0.9035 - val_loss: 0.3291 - val_acc: 0.8733\n",
      "Epoch 15/40\n",
      "30/30 [==============================] - 2s 68ms/step - loss: 0.2652 - acc: 0.9093 - val_loss: 0.3193 - val_acc: 0.8749\n",
      "Epoch 16/40\n",
      "30/30 [==============================] - 2s 72ms/step - loss: 0.2506 - acc: 0.9131 - val_loss: 0.3121 - val_acc: 0.8772\n",
      "Epoch 17/40\n",
      "30/30 [==============================] - 2s 60ms/step - loss: 0.2371 - acc: 0.9198 - val_loss: 0.3048 - val_acc: 0.8800\n",
      "Epoch 18/40\n",
      "30/30 [==============================] - 2s 70ms/step - loss: 0.2251 - acc: 0.9221 - val_loss: 0.3005 - val_acc: 0.8811\n",
      "Epoch 19/40\n",
      "30/30 [==============================] - 2s 70ms/step - loss: 0.2142 - acc: 0.9259 - val_loss: 0.2955 - val_acc: 0.8820\n",
      "Epoch 20/40\n",
      "30/30 [==============================] - 2s 67ms/step - loss: 0.2034 - acc: 0.9304 - val_loss: 0.2922 - val_acc: 0.8830\n",
      "Epoch 21/40\n",
      "30/30 [==============================] - 2s 67ms/step - loss: 0.1940 - acc: 0.9350 - val_loss: 0.2894 - val_acc: 0.8835\n",
      "Epoch 22/40\n",
      "30/30 [==============================] - 2s 68ms/step - loss: 0.1850 - acc: 0.9387 - val_loss: 0.2917 - val_acc: 0.8795\n",
      "Epoch 23/40\n",
      "30/30 [==============================] - 2s 68ms/step - loss: 0.1775 - acc: 0.9418 - val_loss: 0.2870 - val_acc: 0.8842\n",
      "Epoch 24/40\n",
      "30/30 [==============================] - 2s 66ms/step - loss: 0.1693 - acc: 0.9463 - val_loss: 0.2853 - val_acc: 0.8845\n",
      "Epoch 25/40\n",
      "30/30 [==============================] - 2s 64ms/step - loss: 0.1621 - acc: 0.9499 - val_loss: 0.2849 - val_acc: 0.8847\n",
      "Epoch 26/40\n",
      "30/30 [==============================] - 2s 81ms/step - loss: 0.1552 - acc: 0.9518 - val_loss: 0.2850 - val_acc: 0.8847\n",
      "Epoch 27/40\n",
      "30/30 [==============================] - 2s 64ms/step - loss: 0.1487 - acc: 0.9543 - val_loss: 0.2863 - val_acc: 0.8855\n",
      "Epoch 28/40\n",
      "30/30 [==============================] - 1s 40ms/step - loss: 0.1429 - acc: 0.9569 - val_loss: 0.2877 - val_acc: 0.8834\n",
      "Epoch 29/40\n",
      "30/30 [==============================] - 1s 38ms/step - loss: 0.1368 - acc: 0.9589 - val_loss: 0.2878 - val_acc: 0.8852\n",
      "Epoch 30/40\n",
      "30/30 [==============================] - 1s 32ms/step - loss: 0.1311 - acc: 0.9619 - val_loss: 0.2885 - val_acc: 0.8859\n",
      "Epoch 31/40\n",
      "30/30 [==============================] - 1s 34ms/step - loss: 0.1258 - acc: 0.9637 - val_loss: 0.2908 - val_acc: 0.8851\n",
      "Epoch 32/40\n",
      "30/30 [==============================] - 1s 35ms/step - loss: 0.1212 - acc: 0.9658 - val_loss: 0.2992 - val_acc: 0.8806\n",
      "Epoch 33/40\n",
      "30/30 [==============================] - 1s 32ms/step - loss: 0.1168 - acc: 0.9665 - val_loss: 0.2944 - val_acc: 0.8844\n",
      "Epoch 34/40\n",
      "30/30 [==============================] - 1s 35ms/step - loss: 0.1117 - acc: 0.9685 - val_loss: 0.2986 - val_acc: 0.8845\n",
      "Epoch 35/40\n",
      "30/30 [==============================] - 1s 32ms/step - loss: 0.1075 - acc: 0.9702 - val_loss: 0.2995 - val_acc: 0.8831\n",
      "Epoch 36/40\n",
      "30/30 [==============================] - 1s 32ms/step - loss: 0.1032 - acc: 0.9727 - val_loss: 0.3045 - val_acc: 0.8838\n",
      "Epoch 37/40\n",
      "30/30 [==============================] - 1s 36ms/step - loss: 0.0992 - acc: 0.9736 - val_loss: 0.3052 - val_acc: 0.8830\n",
      "Epoch 38/40\n",
      "30/30 [==============================] - 1s 32ms/step - loss: 0.0950 - acc: 0.9760 - val_loss: 0.3089 - val_acc: 0.8832\n",
      "Epoch 39/40\n",
      "30/30 [==============================] - 1s 32ms/step - loss: 0.0915 - acc: 0.9773 - val_loss: 0.3123 - val_acc: 0.8821\n",
      "Epoch 40/40\n",
      "30/30 [==============================] - 1s 32ms/step - loss: 0.0878 - acc: 0.9779 - val_loss: 0.3153 - val_acc: 0.8819\n"
     ]
    }
   ],
   "source": [
    "x_val = train_data[:10000]\n",
    "partial_x_train = train_data[10000:]\n",
    "\n",
    "y_val = train_labels[:10000]\n",
    "partial_y_train = train_labels[10000:]\n",
    "\n",
    "history = model.fit(partial_x_train, partial_y_train, epochs=40, batch_size=512, validation_data=(x_val, y_val), verbose = 1)"
   ]
  },
  {
   "cell_type": "code",
   "execution_count": 48,
   "metadata": {},
   "outputs": [
    {
     "name": "stdout",
     "output_type": "stream",
     "text": [
      "782/782 [==============================] - 4s 5ms/step - loss: 0.3354 - acc: 0.8728\n",
      "[0.33536532521247864, 0.872759997844696]\n"
     ]
    }
   ],
   "source": [
    "results = model.evaluate(test_data, test_labels)\n",
    "\n",
    "print(results)"
   ]
  }
 ],
 "metadata": {
  "kernelspec": {
   "display_name": "Python 3",
   "language": "python",
   "name": "python3"
  },
  "language_info": {
   "codemirror_mode": {
    "name": "ipython",
    "version": 3
   },
   "file_extension": ".py",
   "mimetype": "text/x-python",
   "name": "python",
   "nbconvert_exporter": "python",
   "pygments_lexer": "ipython3",
   "version": "3.11.2"
  },
  "orig_nbformat": 4
 },
 "nbformat": 4,
 "nbformat_minor": 2
}
