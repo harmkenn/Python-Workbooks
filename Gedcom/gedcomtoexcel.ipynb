{
 "cells": [
  {
   "cell_type": "code",
   "execution_count": 1,
   "metadata": {},
   "outputs": [],
   "source": [
    "import pandas as pd\n",
    "\n",
    "def parse_gedcom(file_path):\n",
    "    individuals = {}\n",
    "    current_individual = None\n",
    "    current_individual_data = {}\n",
    "\n",
    "    with open(file_path, 'r', encoding='utf-8') as file:\n",
    "        for line in file:\n",
    "            line = line.strip()\n",
    "            if line.startswith('0 @I'):\n",
    "                if current_individual is not None:\n",
    "                    individuals[current_individual] = current_individual_data\n",
    "                    current_individual_data = {}\n",
    "                current_individual = line.split('@')[1]\n",
    "            elif line.startswith('1'):\n",
    "                current_tag = line.split(' ')[1]\n",
    "                value = line.split(' ')[2:]\n",
    "                current_individual_data[current_tag] = value\n",
    "                \n",
    "            elif line.startswith('2'):\n",
    "                add_tag = line.split(' ')[1]\n",
    "                current_tag = current_tag + add_tag\n",
    "                value = line.split(' ')[2:]\n",
    "                current_individual_data[current_tag] = value              \n",
    "                \n",
    "            else:\n",
    "                continue\n",
    "\n",
    "        if current_individual is not None:\n",
    "            individuals[current_individual] = current_individual_data\n",
    "\n",
    "    return individuals\n",
    "\n",
    "individuals = parse_gedcom('BothHarmonSniderTree.ged')\n",
    "\n",
    "individual_data = []\n",
    "for individual_id, individual in individuals.items():\n",
    "    data = {'ID': individual_id}\n",
    "    for tag, values in individual.items():\n",
    "        data[tag] = ' '.join(values)\n",
    "    individual_data.append(data)\n",
    "\n",
    "individual_df = pd.DataFrame(individual_data)\n"
   ]
  },
  {
   "cell_type": "code",
   "execution_count": 12,
   "metadata": {},
   "outputs": [
    {
     "name": "stdout",
     "output_type": "stream",
     "text": [
      "          Date Cleaned_Date\n",
      "0  12 Jan 2022   2022-01-12\n",
      "1     Feb 2023          NaN\n",
      "2         2024          NaN\n",
      "3         None          NaN\n",
      "4  15 Mar 2021   2021-03-15\n"
     ]
    }
   ],
   "source": [
    "import pandas as pd\n",
    "\n",
    "# Create a sample DataFrame\n",
    "data = {'Date': ['12 Jan 2022', 'Feb 2023', '2024', None, '15 Mar 2021']}\n",
    "df = pd.DataFrame(data)\n",
    "\n",
    "# Create a new column to store the cleaned dates\n",
    "df['Cleaned_Date'] = pd.NaT  # Initialize with NaT (Not a Time)\n",
    "\n",
    "# Convert most dates to datetime format\n",
    "df['Cleaned_Date'] = pd.to_datetime(df['Date'], errors='coerce')\n",
    "\n",
    "# Handle remaining dates that are not in the correct format\n",
    "def clean_date(date):\n",
    "    if pd.isnull(date):  # Handle missing dates\n",
    "        return pd.NaT\n",
    "    elif isinstance(date, pd.Timestamp):  # Handle Timestamp objects\n",
    "        return date\n",
    "    elif len(str(date)) == 4:  # Handle YYYY format\n",
    "        return pd.to_datetime(str(date) + '-01-01')\n",
    "    elif len(str(date)) == 7:  # Handle MMM YYYY format\n",
    "        return pd.to_datetime(str(date) + '-01')\n",
    "    else:\n",
    "        return pd.to_datetime(date)\n",
    "\n",
    "df['Cleaned_Date'] = df['Cleaned_Date'].apply(clean_date)\n",
    "\n",
    "# Convert the cleaned dates to YYYY-MM-DD format\n",
    "df['Cleaned_Date'] = df['Cleaned_Date'].dt.strftime('%Y-%m-%d')\n",
    "\n",
    "print(df)"
   ]
  }
 ],
 "metadata": {
  "kernelspec": {
   "display_name": "Python 3",
   "language": "python",
   "name": "python3"
  },
  "language_info": {
   "codemirror_mode": {
    "name": "ipython",
    "version": 3
   },
   "file_extension": ".py",
   "mimetype": "text/x-python",
   "name": "python",
   "nbconvert_exporter": "python",
   "pygments_lexer": "ipython3",
   "version": "3.10.13"
  }
 },
 "nbformat": 4,
 "nbformat_minor": 2
}
