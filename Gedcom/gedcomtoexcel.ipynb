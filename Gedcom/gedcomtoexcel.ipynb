{
 "cells": [
  {
   "cell_type": "code",
   "execution_count": 12,
   "metadata": {},
   "outputs": [
    {
     "ename": "FileNotFoundError",
     "evalue": "[Errno 2] No such file or directory: 'example.ged'",
     "output_type": "error",
     "traceback": [
      "\u001b[1;31m---------------------------------------------------------------------------\u001b[0m",
      "\u001b[1;31mFileNotFoundError\u001b[0m                         Traceback (most recent call last)",
      "Cell \u001b[1;32mIn[12], line 30\u001b[0m\n\u001b[0;32m     26\u001b[0m             individuals[current_individual] \u001b[38;5;241m=\u001b[39m current_individual_data\n\u001b[0;32m     28\u001b[0m     \u001b[38;5;28;01mreturn\u001b[39;00m individuals\n\u001b[1;32m---> 30\u001b[0m individuals \u001b[38;5;241m=\u001b[39m \u001b[43mparse_gedcom\u001b[49m\u001b[43m(\u001b[49m\u001b[38;5;124;43m'\u001b[39;49m\u001b[38;5;124;43mexample.ged\u001b[39;49m\u001b[38;5;124;43m'\u001b[39;49m\u001b[43m)\u001b[49m\n\u001b[0;32m     32\u001b[0m individual_data \u001b[38;5;241m=\u001b[39m []\n\u001b[0;32m     33\u001b[0m \u001b[38;5;28;01mfor\u001b[39;00m individual_id, individual \u001b[38;5;129;01min\u001b[39;00m individuals\u001b[38;5;241m.\u001b[39mitems():\n",
      "Cell \u001b[1;32mIn[12], line 8\u001b[0m, in \u001b[0;36mparse_gedcom\u001b[1;34m(file_path)\u001b[0m\n\u001b[0;32m      5\u001b[0m current_individual \u001b[38;5;241m=\u001b[39m \u001b[38;5;28;01mNone\u001b[39;00m\n\u001b[0;32m      6\u001b[0m current_individual_data \u001b[38;5;241m=\u001b[39m {}\n\u001b[1;32m----> 8\u001b[0m \u001b[38;5;28;01mwith\u001b[39;00m \u001b[38;5;28;43mopen\u001b[39;49m\u001b[43m(\u001b[49m\u001b[43mfile_path\u001b[49m\u001b[43m,\u001b[49m\u001b[43m \u001b[49m\u001b[38;5;124;43m'\u001b[39;49m\u001b[38;5;124;43mr\u001b[39;49m\u001b[38;5;124;43m'\u001b[39;49m\u001b[43m,\u001b[49m\u001b[43m \u001b[49m\u001b[43mencoding\u001b[49m\u001b[38;5;241;43m=\u001b[39;49m\u001b[38;5;124;43m'\u001b[39;49m\u001b[38;5;124;43mutf-8\u001b[39;49m\u001b[38;5;124;43m'\u001b[39;49m\u001b[43m)\u001b[49m \u001b[38;5;28;01mas\u001b[39;00m file:\n\u001b[0;32m      9\u001b[0m     \u001b[38;5;28;01mfor\u001b[39;00m line \u001b[38;5;129;01min\u001b[39;00m file:\n\u001b[0;32m     10\u001b[0m         line \u001b[38;5;241m=\u001b[39m line\u001b[38;5;241m.\u001b[39mstrip()\n",
      "File \u001b[1;32m~\\AppData\\Roaming\\Python\\Python312\\site-packages\\IPython\\core\\interactiveshell.py:310\u001b[0m, in \u001b[0;36m_modified_open\u001b[1;34m(file, *args, **kwargs)\u001b[0m\n\u001b[0;32m    303\u001b[0m \u001b[38;5;28;01mif\u001b[39;00m file \u001b[38;5;129;01min\u001b[39;00m {\u001b[38;5;241m0\u001b[39m, \u001b[38;5;241m1\u001b[39m, \u001b[38;5;241m2\u001b[39m}:\n\u001b[0;32m    304\u001b[0m     \u001b[38;5;28;01mraise\u001b[39;00m \u001b[38;5;167;01mValueError\u001b[39;00m(\n\u001b[0;32m    305\u001b[0m         \u001b[38;5;124mf\u001b[39m\u001b[38;5;124m\"\u001b[39m\u001b[38;5;124mIPython won\u001b[39m\u001b[38;5;124m'\u001b[39m\u001b[38;5;124mt let you open fd=\u001b[39m\u001b[38;5;132;01m{\u001b[39;00mfile\u001b[38;5;132;01m}\u001b[39;00m\u001b[38;5;124m by default \u001b[39m\u001b[38;5;124m\"\u001b[39m\n\u001b[0;32m    306\u001b[0m         \u001b[38;5;124m\"\u001b[39m\u001b[38;5;124mas it is likely to crash IPython. If you know what you are doing, \u001b[39m\u001b[38;5;124m\"\u001b[39m\n\u001b[0;32m    307\u001b[0m         \u001b[38;5;124m\"\u001b[39m\u001b[38;5;124myou can use builtins\u001b[39m\u001b[38;5;124m'\u001b[39m\u001b[38;5;124m open.\u001b[39m\u001b[38;5;124m\"\u001b[39m\n\u001b[0;32m    308\u001b[0m     )\n\u001b[1;32m--> 310\u001b[0m \u001b[38;5;28;01mreturn\u001b[39;00m \u001b[43mio_open\u001b[49m\u001b[43m(\u001b[49m\u001b[43mfile\u001b[49m\u001b[43m,\u001b[49m\u001b[43m \u001b[49m\u001b[38;5;241;43m*\u001b[39;49m\u001b[43margs\u001b[49m\u001b[43m,\u001b[49m\u001b[43m \u001b[49m\u001b[38;5;241;43m*\u001b[39;49m\u001b[38;5;241;43m*\u001b[39;49m\u001b[43mkwargs\u001b[49m\u001b[43m)\u001b[49m\n",
      "\u001b[1;31mFileNotFoundError\u001b[0m: [Errno 2] No such file or directory: 'example.ged'"
     ]
    }
   ],
   "source": [
    "import pandas as pd\n",
    "\n",
    "def parse_gedcom(file_path):\n",
    "    individuals = {}\n",
    "    current_individual = None\n",
    "    current_individual_data = {}\n",
    "\n",
    "    with open(file_path, 'r', encoding='utf-8') as file:\n",
    "        for line in file:\n",
    "            line = line.strip()\n",
    "            if line.startswith('0 @I'):\n",
    "                if current_individual is not None:\n",
    "                    individuals[current_individual] = current_individual_data\n",
    "                    current_individual_data = {}\n",
    "                current_individual = line.split('@')[1]\n",
    "            elif line.startswith('1'):\n",
    "                current_tag = line.split(' ')[1]\n",
    "                current_individual_data[current_tag] = []\n",
    "            elif line.startswith('2'):\n",
    "                value = ' '.join(line.split(' ')[2:])\n",
    "                current_individual_data[current_tag].append(value)\n",
    "            else:\n",
    "                continue\n",
    "\n",
    "        if current_individual is not None:\n",
    "            individuals[current_individual] = current_individual_data\n",
    "\n",
    "    return individuals\n",
    "\n",
    "individuals = parse_gedcom('BothHarmonSniderTree.ged')\n",
    "\n",
    "individual_data = []\n",
    "for individual_id, individual in individuals.items():\n",
    "    data = {'ID': individual_id}\n",
    "    for tag, values in individual.items():\n",
    "        if tag == 'NAME':\n",
    "            given_name, surname = values[0].split(' ', 1) if len(values) > 0 else ('', '')\n",
    "            data['Name'] = ' '.join(values)\n",
    "            data['Given_Name'] = given_name\n",
    "            data['Surname'] = surname\n",
    "        elif tag in ['BIRT', 'DEAT']:\n",
    "            values_str = ' '.join(values)\n",
    "            parts = values_str.split(' ', 1)\n",
    "            if len(parts) > 1:\n",
    "                date, place = parts\n",
    "                data[f'{tag}_Date'] = date\n",
    "                data[f'{tag}_Place'] = place\n",
    "            else:\n",
    "                data[f'{tag}_Date'] = values_str\n",
    "                data[f'{tag}_Place'] = ''\n",
    "        else:\n",
    "            data[tag] = ' '.join(values)\n",
    "    individual_data.append(data)\n",
    "\n",
    "individual_df = pd.DataFrame(individual_data)\n",
    "\n",
    "# Print the updated DataFrame\n",
    "print(individual_df)"
   ]
  },
  {
   "cell_type": "code",
   "execution_count": 2,
   "metadata": {},
   "outputs": [],
   "source": [
    "import pandas as pd\n",
    "\n",
    "# Assuming you have the `individual_df` DataFrame\n",
    "\n",
    "# Export to Excel\n",
    "individual_df.to_excel('individuals.xlsx', index=False)"
   ]
  },
  {
   "cell_type": "code",
   "execution_count": null,
   "metadata": {},
   "outputs": [],
   "source": []
  }
 ],
 "metadata": {
  "kernelspec": {
   "display_name": "Python 3",
   "language": "python",
   "name": "python3"
  },
  "language_info": {
   "codemirror_mode": {
    "name": "ipython",
    "version": 3
   },
   "file_extension": ".py",
   "mimetype": "text/x-python",
   "name": "python",
   "nbconvert_exporter": "python",
   "pygments_lexer": "ipython3",
   "version": "3.12.4"
  }
 },
 "nbformat": 4,
 "nbformat_minor": 2
}
