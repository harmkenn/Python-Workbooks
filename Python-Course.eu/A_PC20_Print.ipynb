{
  "nbformat": 4,
  "nbformat_minor": 0,
  "metadata": {
    "colab": {
      "name": "A_PC20_Print.ipynb",
      "provenance": [],
      "collapsed_sections": [],
      "authorship_tag": "ABX9TyOr2MYwDXGU1QoD9J4hlhuO",
      "include_colab_link": true
    },
    "kernelspec": {
      "name": "python3",
      "display_name": "Python 3"
    },
    "language_info": {
      "name": "python"
    }
  },
  "cells": [
    {
      "cell_type": "markdown",
      "metadata": {
        "id": "view-in-github",
        "colab_type": "text"
      },
      "source": [
        "<a href=\"https://colab.research.google.com/github/harmkenn/Python-Workbooks/blob/main/A_PC20_Print.ipynb\" target=\"_parent\"><img src=\"https://colab.research.google.com/assets/colab-badge.svg\" alt=\"Open In Colab\"/></a>"
      ]
    },
    {
      "cell_type": "code",
      "execution_count": null,
      "metadata": {
        "colab": {
          "base_uri": "https://localhost:8080/"
        },
        "id": "THeiTJq_nmFZ",
        "outputId": "c25fe71c-ad75-4d4d-8d8a-e3e5667ee4bf"
      },
      "outputs": [
        {
          "output_type": "stream",
          "name": "stdout",
          "text": [
            "42\n"
          ]
        }
      ],
      "source": [
        "print(42)"
      ]
    },
    {
      "cell_type": "code",
      "source": [
        "print(42)"
      ],
      "metadata": {
        "colab": {
          "base_uri": "https://localhost:8080/"
        },
        "id": "j_tG4WtloLNC",
        "outputId": "12ed7fe8-11a9-425b-a276-52febe402d85"
      },
      "execution_count": null,
      "outputs": [
        {
          "output_type": "stream",
          "name": "stdout",
          "text": [
            "42\n"
          ]
        }
      ]
    },
    {
      "cell_type": "code",
      "source": [
        ""
      ],
      "metadata": {
        "id": "tlW21TzFoTF4"
      },
      "execution_count": null,
      "outputs": []
    },
    {
      "cell_type": "markdown",
      "source": [
        "# https://python-course.eu/python-tutorial/output-with-print.php"
      ],
      "metadata": {
        "id": "BRtAfyxpoUgf"
      }
    },
    {
      "cell_type": "code",
      "source": [
        "a =  3.564\n",
        "print(\"a = \\n\", a)"
      ],
      "metadata": {
        "colab": {
          "base_uri": "https://localhost:8080/"
        },
        "id": "kIzN22cLoZ5l",
        "outputId": "49957d9c-6215-45f4-a287-76153b32e398"
      },
      "execution_count": null,
      "outputs": [
        {
          "output_type": "stream",
          "name": "stdout",
          "text": [
            "a = \n",
            " 3.564\n"
          ]
        }
      ]
    },
    {
      "cell_type": "code",
      "source": [
        ""
      ],
      "metadata": {
        "id": "yIEuX2YDpwRG"
      },
      "execution_count": null,
      "outputs": []
    },
    {
      "cell_type": "code",
      "source": [
        "print(192,168,178,42,sep=\".\")"
      ],
      "metadata": {
        "colab": {
          "base_uri": "https://localhost:8080/"
        },
        "id": "TGoJhAwppE2U",
        "outputId": "ef7bf0d5-a0ed-40a8-afbc-93fc4e01f8a4"
      },
      "execution_count": null,
      "outputs": [
        {
          "output_type": "stream",
          "name": "stdout",
          "text": [
            "192.168.178.42\n"
          ]
        }
      ]
    },
    {
      "cell_type": "code",
      "source": [
        "for i in range(4):\n",
        "     print(i, end=\" :-) \") "
      ],
      "metadata": {
        "colab": {
          "base_uri": "https://localhost:8080/"
        },
        "id": "7T-69jA_pxkx",
        "outputId": "4e2e1c19-31cf-4e57-8aa3-6a4ad51161d0"
      },
      "execution_count": null,
      "outputs": [
        {
          "output_type": "stream",
          "name": "stdout",
          "text": [
            "0 :-) 1 :-) 2 :-) 3 :-) "
          ]
        }
      ]
    },
    {
      "cell_type": "code",
      "source": [
        ""
      ],
      "metadata": {
        "id": "hYzdcIMCp3KU"
      },
      "execution_count": null,
      "outputs": []
    },
    {
      "cell_type": "markdown",
      "source": [
        "# https://python-course.eu/python-tutorial/formatted-output.php"
      ],
      "metadata": {
        "id": "Bu_-OMF7p893"
      }
    },
    {
      "cell_type": "code",
      "source": [
        "q = 459\n",
        "p = 0.098\n",
        "print(q, p, p * q) "
      ],
      "metadata": {
        "colab": {
          "base_uri": "https://localhost:8080/"
        },
        "id": "ltyAY1p3qBFr",
        "outputId": "7934abb7-9809-48f1-8e68-b74e4814650c"
      },
      "execution_count": null,
      "outputs": [
        {
          "output_type": "stream",
          "name": "stdout",
          "text": [
            "459 0.098 44.982\n"
          ]
        }
      ]
    },
    {
      "cell_type": "code",
      "source": [
        "print(q, p, p * q, sep=\",\")"
      ],
      "metadata": {
        "colab": {
          "base_uri": "https://localhost:8080/"
        },
        "id": "QcTwr70xqZpz",
        "outputId": "05308bd4-2885-404e-8020-3009c70c74ce"
      },
      "execution_count": null,
      "outputs": [
        {
          "output_type": "stream",
          "name": "stdout",
          "text": [
            "459,0.098,44.982\n"
          ]
        }
      ]
    },
    {
      "cell_type": "code",
      "source": [
        "\"First argument: {0}, second one: {1}\".format(47,11) "
      ],
      "metadata": {
        "colab": {
          "base_uri": "https://localhost:8080/",
          "height": 36
        },
        "id": "Z3c2E0eRrlnR",
        "outputId": "84701e08-352e-46c5-9a73-840d43577c58"
      },
      "execution_count": null,
      "outputs": [
        {
          "output_type": "execute_result",
          "data": {
            "text/plain": [
              "'First argument: 47, second one: 11'"
            ],
            "application/vnd.google.colaboratory.intrinsic+json": {
              "type": "string"
            }
          },
          "metadata": {},
          "execution_count": 9
        }
      ]
    },
    {
      "cell_type": "code",
      "source": [
        "print(\"%10.3E\"% (356.08977))"
      ],
      "metadata": {
        "colab": {
          "base_uri": "https://localhost:8080/"
        },
        "id": "ZGsiJckqr19G",
        "outputId": "5807b8f1-a04b-448a-aca9-689f7d16571b"
      },
      "execution_count": null,
      "outputs": [
        {
          "output_type": "stream",
          "name": "stdout",
          "text": [
            " 3.561E+02\n"
          ]
        }
      ]
    },
    {
      "cell_type": "code",
      "source": [
        "s = \"Price: $ %8.2f\"% (356.08977)\n",
        "print(s)"
      ],
      "metadata": {
        "colab": {
          "base_uri": "https://localhost:8080/"
        },
        "id": "OgNmDWYtukPT",
        "outputId": "31a21aa4-912e-4244-dc68-2c7565a2cc79"
      },
      "execution_count": null,
      "outputs": [
        {
          "output_type": "stream",
          "name": "stdout",
          "text": [
            "Price: $   356.09\n"
          ]
        }
      ]
    },
    {
      "cell_type": "code",
      "source": [
        "print(\"The capital of {0:s} is {1:s}\".format(\"Ontario\",\"Toronto\"))"
      ],
      "metadata": {
        "id": "lFvQuR5AuqA2",
        "colab": {
          "base_uri": "https://localhost:8080/"
        },
        "outputId": "e3464c1d-a135-4951-c865-d6112c92f4f6"
      },
      "execution_count": null,
      "outputs": [
        {
          "output_type": "stream",
          "name": "stdout",
          "text": [
            "The capital of Ontario is Toronto\n"
          ]
        }
      ]
    },
    {
      "cell_type": "code",
      "source": [
        "data = dict(province=\"Ontario\",capital=\"Toronto\")\n",
        "data"
      ],
      "metadata": {
        "colab": {
          "base_uri": "https://localhost:8080/"
        },
        "id": "x26i9InfJeep",
        "outputId": "e0448ff3-eda9-43aa-d27e-208c198fc456"
      },
      "execution_count": null,
      "outputs": [
        {
          "output_type": "execute_result",
          "data": {
            "text/plain": [
              "{'capital': 'Toronto', 'province': 'Ontario'}"
            ]
          },
          "metadata": {},
          "execution_count": 13
        }
      ]
    },
    {
      "cell_type": "code",
      "source": [
        "print(\"The capital of {province} is {capital}\".format(**data))"
      ],
      "metadata": {
        "colab": {
          "base_uri": "https://localhost:8080/"
        },
        "id": "OjssSZ1aJoiD",
        "outputId": "0324fa81-6fd6-4202-a420-77f9c74c429a"
      },
      "execution_count": null,
      "outputs": [
        {
          "output_type": "stream",
          "name": "stdout",
          "text": [
            "The capital of Ontario is Toronto\n"
          ]
        }
      ]
    },
    {
      "cell_type": "code",
      "source": [
        "capital_country = {\"United States\" : \"Washington\", \n",
        "                   \"US\" : \"Washington\", \n",
        "                   \"Canada\" : \"Ottawa\",\n",
        "                   \"Germany\": \"Berlin\",\n",
        "                   \"France\" : \"Paris\",\n",
        "                   \"England\" : \"London\",\n",
        "                   \"UK\" : \"London\",\n",
        "                   \"Switzerland\" : \"Bern\",\n",
        "                   \"Austria\" : \"Vienna\",\n",
        "                   \"Netherlands\" : \"Amsterdam\"}\n",
        "\n",
        "print(\"Countries and their capitals:\")\n",
        "for c in capital_country:\n",
        "    print(\"{country}: {capital}\".format(country=c, capital=capital_country[c]))"
      ],
      "metadata": {
        "colab": {
          "base_uri": "https://localhost:8080/"
        },
        "id": "OtevluzmJ36q",
        "outputId": "43f7b184-36dd-43d5-86c1-96c29e7cb705"
      },
      "execution_count": null,
      "outputs": [
        {
          "output_type": "stream",
          "name": "stdout",
          "text": [
            "Countries and their capitals:\n",
            "United States: Washington\n",
            "US: Washington\n",
            "Canada: Ottawa\n",
            "Germany: Berlin\n",
            "France: Paris\n",
            "England: London\n",
            "UK: London\n",
            "Switzerland: Bern\n",
            "Austria: Vienna\n",
            "Netherlands: Amsterdam\n"
          ]
        }
      ]
    },
    {
      "cell_type": "code",
      "source": [
        "capital_country"
      ],
      "metadata": {
        "colab": {
          "base_uri": "https://localhost:8080/"
        },
        "id": "4fHEpPNcKEVO",
        "outputId": "e294b69d-2c8b-44cd-b7a8-f12ad5176991"
      },
      "execution_count": null,
      "outputs": [
        {
          "output_type": "execute_result",
          "data": {
            "text/plain": [
              "{'Austria': 'Vienna',\n",
              " 'Canada': 'Ottawa',\n",
              " 'England': 'London',\n",
              " 'France': 'Paris',\n",
              " 'Germany': 'Berlin',\n",
              " 'Netherlands': 'Amsterdam',\n",
              " 'Switzerland': 'Bern',\n",
              " 'UK': 'London',\n",
              " 'US': 'Washington',\n",
              " 'United States': 'Washington'}"
            ]
          },
          "metadata": {},
          "execution_count": 16
        }
      ]
    },
    {
      "cell_type": "code",
      "source": [
        "s = \"Python\"\n",
        "s.center(10) "
      ],
      "metadata": {
        "colab": {
          "base_uri": "https://localhost:8080/",
          "height": 36
        },
        "id": "p370mPM_UMzr",
        "outputId": "183a177f-0ccf-4f06-f12d-4c57e39ef954"
      },
      "execution_count": 17,
      "outputs": [
        {
          "output_type": "execute_result",
          "data": {
            "text/plain": [
              "'  Python  '"
            ],
            "application/vnd.google.colaboratory.intrinsic+json": {
              "type": "string"
            }
          },
          "metadata": {},
          "execution_count": 17
        }
      ]
    },
    {
      "cell_type": "code",
      "source": [
        "s.center(10,\"*\")"
      ],
      "metadata": {
        "colab": {
          "base_uri": "https://localhost:8080/",
          "height": 36
        },
        "id": "AIVoYIcjUflO",
        "outputId": "1dc6c183-5514-4445-ca00-d0475b5ea8e0"
      },
      "execution_count": 18,
      "outputs": [
        {
          "output_type": "execute_result",
          "data": {
            "text/plain": [
              "'**Python**'"
            ],
            "application/vnd.google.colaboratory.intrinsic+json": {
              "type": "string"
            }
          },
          "metadata": {},
          "execution_count": 18
        }
      ]
    },
    {
      "cell_type": "code",
      "source": [
        "s.ljust(12,\":\")"
      ],
      "metadata": {
        "colab": {
          "base_uri": "https://localhost:8080/",
          "height": 36
        },
        "id": "6-z7JH8RUp6a",
        "outputId": "a9f47672-548c-401d-bf01-0725d82d1053"
      },
      "execution_count": 19,
      "outputs": [
        {
          "output_type": "execute_result",
          "data": {
            "text/plain": [
              "'Python::::::'"
            ],
            "application/vnd.google.colaboratory.intrinsic+json": {
              "type": "string"
            }
          },
          "metadata": {},
          "execution_count": 19
        }
      ]
    },
    {
      "cell_type": "code",
      "source": [
        "s.rjust(15, \"~\")"
      ],
      "metadata": {
        "colab": {
          "base_uri": "https://localhost:8080/",
          "height": 36
        },
        "id": "qWO-BJKIU4-C",
        "outputId": "303ded2e-e8ff-48c2-d140-e8ed66f7cdcb"
      },
      "execution_count": 20,
      "outputs": [
        {
          "output_type": "execute_result",
          "data": {
            "text/plain": [
              "'~~~~~~~~~Python'"
            ],
            "application/vnd.google.colaboratory.intrinsic+json": {
              "type": "string"
            }
          },
          "metadata": {},
          "execution_count": 20
        }
      ]
    },
    {
      "cell_type": "code",
      "source": [
        "s.zfill(12)"
      ],
      "metadata": {
        "colab": {
          "base_uri": "https://localhost:8080/",
          "height": 36
        },
        "id": "7pSo5ojdVF77",
        "outputId": "2e378df7-4146-4fa8-e9d7-a9432e657538"
      },
      "execution_count": 21,
      "outputs": [
        {
          "output_type": "execute_result",
          "data": {
            "text/plain": [
              "'000000Python'"
            ],
            "application/vnd.google.colaboratory.intrinsic+json": {
              "type": "string"
            }
          },
          "metadata": {},
          "execution_count": 21
        }
      ]
    },
    {
      "cell_type": "code",
      "source": [
        "price = 11.23\n",
        "f\"Price in Euro: {price}\""
      ],
      "metadata": {
        "colab": {
          "base_uri": "https://localhost:8080/",
          "height": 36
        },
        "id": "vn-_5e4uVfGq",
        "outputId": "3989c7ed-22a9-48b6-edc0-18469bd1d73b"
      },
      "execution_count": 22,
      "outputs": [
        {
          "output_type": "execute_result",
          "data": {
            "text/plain": [
              "'Price in Euro: 11.23'"
            ],
            "application/vnd.google.colaboratory.intrinsic+json": {
              "type": "string"
            }
          },
          "metadata": {},
          "execution_count": 22
        }
      ]
    },
    {
      "cell_type": "code",
      "source": [
        "f\"Price in Swiss Franks: {price * 1.086}\""
      ],
      "metadata": {
        "colab": {
          "base_uri": "https://localhost:8080/",
          "height": 36
        },
        "id": "LZbsVrg9Vl4m",
        "outputId": "3a0e0513-5be9-4f37-fc59-9d52f0319ebb"
      },
      "execution_count": 23,
      "outputs": [
        {
          "output_type": "execute_result",
          "data": {
            "text/plain": [
              "'Price in Swiss Franks: 12.195780000000001'"
            ],
            "application/vnd.google.colaboratory.intrinsic+json": {
              "type": "string"
            }
          },
          "metadata": {},
          "execution_count": 23
        }
      ]
    },
    {
      "cell_type": "code",
      "source": [
        "f\"Price in Swiss Franks: {price * 1.086:5.2f}\""
      ],
      "metadata": {
        "colab": {
          "base_uri": "https://localhost:8080/",
          "height": 36
        },
        "id": "rhVWjmg0VyIZ",
        "outputId": "eaab52ee-8eb4-4abb-a8d4-8c4aef725460"
      },
      "execution_count": 24,
      "outputs": [
        {
          "output_type": "execute_result",
          "data": {
            "text/plain": [
              "'Price in Swiss Franks: 12.20'"
            ],
            "application/vnd.google.colaboratory.intrinsic+json": {
              "type": "string"
            }
          },
          "metadata": {},
          "execution_count": 24
        }
      ]
    },
    {
      "cell_type": "code",
      "source": [
        "for article in [\"bread\", \"butter\", \"tea\"]:\n",
        "    print(f\"{article:>10}:\")"
      ],
      "metadata": {
        "colab": {
          "base_uri": "https://localhost:8080/"
        },
        "id": "2rD7nXQZWJbj",
        "outputId": "b834b25d-74f1-4e8e-b8b8-824fdc1cb7b7"
      },
      "execution_count": 25,
      "outputs": [
        {
          "output_type": "stream",
          "name": "stdout",
          "text": [
            "     bread:\n",
            "    butter:\n",
            "       tea:\n"
          ]
        }
      ]
    }
  ]
}