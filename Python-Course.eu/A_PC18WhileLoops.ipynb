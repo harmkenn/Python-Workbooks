{
 "cells": [
  {
   "cell_type": "code",
   "execution_count": null,
   "metadata": {},
   "outputs": [],
   "source": [
    "# https://python-course.eu/python-tutorial/loops.php"
   ]
  },
  {
   "cell_type": "code",
   "execution_count": null,
   "metadata": {},
   "outputs": [],
   "source": [
    "n = 100\n",
    "\n",
    "total_sum = 0\n",
    "counter = 1\n",
    "while counter <= n:\n",
    "    total_sum += counter\n",
    "    counter += 1\n",
    "\n",
    "print(\"Sum of 1 until \" + str(n) +  \" results in \" + str(total_sum))"
   ]
  },
  {
   "cell_type": "code",
   "execution_count": null,
   "metadata": {},
   "outputs": [],
   "source": [
    "K = float(input(\"Starting capital? \"))\n",
    "p = float(input(\"Interest rate? \"))\n",
    "n = int(input(\"Number of years? \"))\n",
    "\n",
    "i = 0\n",
    "while i < n:\n",
    "    K +=  K * p / 100.0\n",
    "    # or K *=  1 +  p / 100.0\n",
    "    i += 1\n",
    "    print(i, K)\n",
    "print(\"Capital after \" + str(n) + \" ys: \" + str(K))"
   ]
  },
  {
   "cell_type": "code",
   "execution_count": null,
   "metadata": {},
   "outputs": [],
   "source": [
    "import random\n",
    "upper_bound = 20\n",
    "lower_bound = 1\n",
    "#to_be_guessed = int(n * random.random()) + 1\n",
    "to_be_guessed = random.randint(lower_bound, upper_bound)\n",
    "guess = 0\n",
    "while guess != to_be_guessed:\n",
    "    guess = int(input(\"New number: \"))\n",
    "    if guess > 0:\n",
    "        if guess > to_be_guessed:\n",
    "            print(\"Number too large\")\n",
    "        elif guess < to_be_guessed:\n",
    "            print(\"Number too small\")\n",
    "    else:\n",
    "        # 0 means giving up\n",
    "        print(\"Sorry that you're giving up!\")\n",
    "        break   # break out of a loop, don't execute \"else\"\n",
    "else:\n",
    "    print(\"Congratulations. You made it!\")"
   ]
  },
  {
   "cell_type": "code",
   "execution_count": null,
   "metadata": {},
   "outputs": [],
   "source": [
    "import random\n",
    "upper_bound = 20\n",
    "lower_bound = 1\n",
    "adaptive_upper_bound = upper_bound\n",
    "adaptive_lower_bound = lower_bound\n",
    "#to_be_guessed = int(n * random.random()) + 1\n",
    "to_be_guessed = random.randint(lower_bound, upper_bound)\n",
    "guess = 0\n",
    "while guess != to_be_guessed:\n",
    "    guess = int(input(\"New number: \"))\n",
    "    if guess == 0:   # giving up\n",
    "        print(\"Sorry that you're giving up!\")\n",
    "        break   # break out of a loop, don't execute \"else\"\n",
    "    if guess < lower_bound or guess > upper_bound:\n",
    "        print(\"guess not within boundaries!\")\n",
    "    elif guess < adaptive_lower_bound or guess > adaptive_upper_bound:\n",
    "        print(\"Your guess is contradictory to your previous guesses!\")\n",
    "    elif guess > to_be_guessed:\n",
    "        adaptive_upper_bound = guess - 1\n",
    "        print(\"Number too large\")\n",
    "    elif guess < to_be_guessed:\n",
    "        adaptive_lower_bound = guess + 1\n",
    "        print(\"Number too small\")   \n",
    "else:\n",
    "    print(\"Congratulations. You made it!\")"
   ]
  },
  {
   "cell_type": "code",
   "execution_count": null,
   "metadata": {},
   "outputs": [],
   "source": [
    "# https://python-course.eu/python-tutorial/for-loop.php"
   ]
  },
  {
   "cell_type": "code",
   "execution_count": null,
   "metadata": {},
   "outputs": [],
   "source": [
    "languages = [\"C\", \"C++\", \"Perl\", \"Python\"] \n",
    "for language in languages:\n",
    "    print(language)"
   ]
  },
  {
   "cell_type": "code",
   "execution_count": null,
   "metadata": {},
   "outputs": [],
   "source": [
    "edibles = [\"bacon\", \"spam\", \"eggs\", \"nuts\"]\n",
    "for food in edibles:\n",
    "    if food == \"spam\":\n",
    "        print(\"No more spam please!\")\n",
    "        break\n",
    "    print(\"Great, delicious \" + food)\n",
    "else:\n",
    "    print(\"I am so glad: No spam!\")\n",
    "print(\"Finally, I finished stuffing myself\")"
   ]
  },
  {
   "cell_type": "code",
   "execution_count": null,
   "metadata": {},
   "outputs": [],
   "source": [
    "edibles = [\"bacon\", \"spam\", \"eggs\",\"nuts\"]\n",
    "for food in edibles:\n",
    "    if food == \"spam\":\n",
    "        print(\"No more spam please!\")\n",
    "        continue\n",
    "    print(\"Great, delicious \" + food)\n",
    "\n",
    "print(\"Finally, I finished stuffing myself\")"
   ]
  },
  {
   "cell_type": "code",
   "execution_count": null,
   "metadata": {},
   "outputs": [],
   "source": [
    "for i in range(5):\n",
    "    print(i)"
   ]
  },
  {
   "cell_type": "code",
   "execution_count": null,
   "metadata": {},
   "outputs": [],
   "source": [
    "list(range(10))"
   ]
  },
  {
   "cell_type": "code",
   "execution_count": 6,
   "metadata": {},
   "outputs": [
    {
     "data": {
      "text/plain": [
       "[4, 5, 6, 7, 8, 9]"
      ]
     },
     "execution_count": 6,
     "metadata": {},
     "output_type": "execute_result"
    }
   ],
   "source": [
    "list(range(4, 10))"
   ]
  },
  {
   "cell_type": "code",
   "execution_count": 7,
   "metadata": {},
   "outputs": [
    {
     "data": {
      "text/plain": [
       "[4, 9, 14, 19, 24, 29, 34, 39, 44, 49]"
      ]
     },
     "execution_count": 7,
     "metadata": {},
     "output_type": "execute_result"
    }
   ],
   "source": [
    "list(range(4, 50, 5))"
   ]
  },
  {
   "cell_type": "code",
   "execution_count": 8,
   "metadata": {},
   "outputs": [
    {
     "data": {
      "text/plain": [
       "[42, 35, 28, 21, 14, 7, 0, -7]"
      ]
     },
     "execution_count": 8,
     "metadata": {},
     "output_type": "execute_result"
    }
   ],
   "source": [
    "list(range(42, -12, -7))"
   ]
  },
  {
   "cell_type": "code",
   "execution_count": null,
   "metadata": {},
   "outputs": [],
   "source": []
  }
 ],
 "metadata": {
  "kernelspec": {
   "display_name": "Python 3.8.13 64-bit ('3.8.13')",
   "language": "python",
   "name": "python3"
  },
  "language_info": {
   "codemirror_mode": {
    "name": "ipython",
    "version": 3
   },
   "file_extension": ".py",
   "mimetype": "text/x-python",
   "name": "python",
   "nbconvert_exporter": "python",
   "pygments_lexer": "ipython3",
   "version": "3.8.13"
  },
  "orig_nbformat": 4,
  "vscode": {
   "interpreter": {
    "hash": "110cc1dee26208153f2972f08a2ad52b6a56238dc66d48e87fb757ef2996db56"
   }
  }
 },
 "nbformat": 4,
 "nbformat_minor": 2
}
