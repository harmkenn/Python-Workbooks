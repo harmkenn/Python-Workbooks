{
 "cells": [
  {
   "cell_type": "code",
   "execution_count": null,
   "metadata": {},
   "outputs": [],
   "source": [
    "# https://python-course.eu/advanced-python/iterable-iterator.php"
   ]
  },
  {
   "cell_type": "code",
   "execution_count": null,
   "metadata": {},
   "outputs": [],
   "source": [
    "for city in [\"Berlin\", \"Vienna\", \"Zurich\"]:\n",
    "    print(city)\n",
    "for language in (\"Python\", \"Perl\", \"Ruby\"):\n",
    "    print(language)\n",
    "for char in \"Iteration is easy\":\n",
    "    print(char)"
   ]
  },
  {
   "cell_type": "code",
   "execution_count": null,
   "metadata": {},
   "outputs": [],
   "source": [
    "cities = [\"Berlin\", \"Vienna\", \"Zurich\"]\n",
    "iterator_obj = iter(cities)\n",
    "print(iterator_obj)\n",
    "print(next(iterator_obj))\n",
    "print(next(iterator_obj))\n",
    "print(next(iterator_obj))"
   ]
  },
  {
   "cell_type": "code",
   "execution_count": 3,
   "metadata": {},
   "outputs": [
    {
     "name": "stdout",
     "output_type": "stream",
     "text": [
      "34 iterable:  False\n",
      "[4, 5] iterable:  True\n",
      "(4, 5) iterable:  True\n",
      "{'a': 4} iterable:  True\n",
      "dfsdf iterable:  True\n",
      "4.5 iterable:  False\n"
     ]
    }
   ],
   "source": [
    "def iterable(obj):\n",
    "     try:\n",
    "         iter(obj)\n",
    "         return True\n",
    "     except TypeError:\n",
    "         return False \n",
    "for element in [34, [4, 5], (4, 5), {\"a\":4}, \"dfsdf\", 4.5]:\n",
    "    print(element, \"iterable: \", iterable(element))"
   ]
  },
  {
   "cell_type": "code",
   "execution_count": 4,
   "metadata": {},
   "outputs": [
    {
     "name": "stdout",
     "output_type": "stream",
     "text": [
      "42\n",
      "978\n",
      "34\n"
     ]
    }
   ],
   "source": [
    "class Reverse:\n",
    "    \"\"\"\n",
    "    Creates Iterators for looping over a sequence backwards.\n",
    "    \"\"\"\n",
    "    def __init__(self, data):\n",
    "        self.data = data\n",
    "        self.index = len(data)\n",
    "    def __iter__(self):\n",
    "        return self\n",
    "    def __next__(self):\n",
    "        if self.index == 0:\n",
    "            raise StopIteration\n",
    "        self.index = self.index - 1\n",
    "        return self.data[self.index]\n",
    "lst = [34, 978, 42]\n",
    "lst_backwards = Reverse(lst)\n",
    "for el in lst_backwards:\n",
    "    print(el)"
   ]
  }
 ],
 "metadata": {
  "kernelspec": {
   "display_name": "Python 3.8.13 64-bit ('3.8.13')",
   "language": "python",
   "name": "python3"
  },
  "language_info": {
   "codemirror_mode": {
    "name": "ipython",
    "version": 3
   },
   "file_extension": ".py",
   "mimetype": "text/x-python",
   "name": "python",
   "nbconvert_exporter": "python",
   "pygments_lexer": "ipython3",
   "version": "3.8.13"
  },
  "orig_nbformat": 4,
  "vscode": {
   "interpreter": {
    "hash": "110cc1dee26208153f2972f08a2ad52b6a56238dc66d48e87fb757ef2996db56"
   }
  }
 },
 "nbformat": 4,
 "nbformat_minor": 2
}
