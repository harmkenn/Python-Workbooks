{
 "cells": [
  {
   "cell_type": "code",
   "execution_count": null,
   "metadata": {},
   "outputs": [],
   "source": [
    "#https://python-course.eu/python-tutorial/structuring-indentation.php"
   ]
  },
  {
   "cell_type": "code",
   "execution_count": null,
   "metadata": {},
   "outputs": [],
   "source": [
    "from math import sqrt\n",
    "n = input(\"Maximum Number? \")\n",
    "n = int(n)+1\n",
    "for a in range(1,n):\n",
    "    for b in range(a,n):\n",
    "        c_square = a**2 + b**2\n",
    "        c = int(sqrt(c_square))\n",
    "        if ((c_square - c**2) == 0):\n",
    "            print(a, b, c)"
   ]
  },
  {
   "cell_type": "code",
   "execution_count": 3,
   "metadata": {},
   "outputs": [
    {
     "name": "stdout",
     "output_type": "stream",
     "text": [
      "The length 22 is ideal!\n"
     ]
    }
   ],
   "source": [
    "txt = 'Python needs training!'\n",
    "ideal_length = 22\n",
    "\n",
    "n = len(txt)\n",
    "if n == ideal_length:\n",
    "    print(f'The length {n} is ideal!')\n",
    "else:\n",
    "    print(f'{n} is not ideal!')"
   ]
  },
  {
   "cell_type": "code",
   "execution_count": 4,
   "metadata": {},
   "outputs": [
    {
     "name": "stdout",
     "output_type": "stream",
     "text": [
      "The length 22 is ideal!\n"
     ]
    }
   ],
   "source": [
    "txt = 'Python needs training!'\n",
    "ideal_length = 22\n",
    "\n",
    "if (n := len(txt)) == ideal_length:\n",
    "    print(f'The length {n} is ideal!')\n",
    "else:\n",
    "    print(f'The length {n} is not ideal!')"
   ]
  },
  {
   "cell_type": "code",
   "execution_count": 10,
   "metadata": {},
   "outputs": [
    {
     "data": {
      "text/plain": [
       "[7, 11, 6, 13, 16]"
      ]
     },
     "execution_count": 10,
     "metadata": {},
     "output_type": "execute_result"
    }
   ],
   "source": [
    "def f(x):\n",
    "    return x + 4\n",
    "\n",
    "numbers = [3, 7, 2, 9, 12]\n",
    "\n",
    "odd_numbers = [result for x in numbers if (result := f(x)) % 5]\n",
    "odd_numbers"
   ]
  },
  {
   "cell_type": "code",
   "execution_count": 11,
   "metadata": {},
   "outputs": [
    {
     "data": {
      "text/plain": [
       "[7, 11, 13]"
      ]
     },
     "execution_count": 11,
     "metadata": {},
     "output_type": "execute_result"
    }
   ],
   "source": [
    "def f(x):\n",
    "    return x + 4\n",
    "\n",
    "numbers = [3, 7, 2, 9, 12]\n",
    "\n",
    "odd_numbers = [f(x) for x in numbers if  f(x) % 2]\n",
    "odd_numbers\n"
   ]
  },
  {
   "cell_type": "code",
   "execution_count": 12,
   "metadata": {},
   "outputs": [
    {
     "name": "stdout",
     "output_type": "stream",
     "text": [
      "2022 01 24\n",
      "2020 10 15\n",
      "20 10 04\n"
     ]
    }
   ],
   "source": [
    "import re\n",
    "\n",
    "txt = \"\"\"The Python training course started at 2022-02-4 \n",
    "the other one at 2022-01-24\n",
    "only one date per line, if at all\n",
    "the dates may also be in this format 2020/10/15\n",
    "or 20-10-04\"\"\"\n",
    "\n",
    "for line in txt.split('\\n'):\n",
    "    if (date := re.search(r'(\\d{2,4})[-/](\\d{2})[-/](\\d{2})', line)):\n",
    "        year, month, day = date.groups()\n",
    "        print(year, month, day)"
   ]
  },
  {
   "cell_type": "code",
   "execution_count": 1,
   "metadata": {},
   "outputs": [
    {
     "name": "stdout",
     "output_type": "stream",
     "text": [
      "Number too large\n",
      "Number too large\n",
      "Congratulations. You made it!\n"
     ]
    }
   ],
   "source": [
    "import random\n",
    "\n",
    "lower_bound, upper_bound = 1, 20\n",
    "to_be_guessed = random.randint(lower_bound, upper_bound)\n",
    "guess = 0\n",
    "while guess != to_be_guessed:\n",
    "    guess = int(input(\"New number: \"))\n",
    "    if guess > to_be_guessed:\n",
    "        print(\"Number too large\")\n",
    "    elif guess < to_be_guessed:\n",
    "        print(\"Number too small\")\n",
    "else:\n",
    "    print(\"Congratulations. You made it!\")"
   ]
  },
  {
   "cell_type": "code",
   "execution_count": 2,
   "metadata": {},
   "outputs": [],
   "source": [
    "a, b, c = 1, 2, 3\n",
    "x = 4\n",
    "y = (c := (a := x*2.3) + (b := x*4.5 -3)) "
   ]
  }
 ],
 "metadata": {
  "kernelspec": {
   "display_name": "Python 3.8.13 64-bit ('3.8.13')",
   "language": "python",
   "name": "python3"
  },
  "language_info": {
   "codemirror_mode": {
    "name": "ipython",
    "version": 3
   },
   "file_extension": ".py",
   "mimetype": "text/x-python",
   "name": "python",
   "nbconvert_exporter": "python",
   "pygments_lexer": "ipython3",
   "version": "3.8.13"
  },
  "orig_nbformat": 4,
  "vscode": {
   "interpreter": {
    "hash": "110cc1dee26208153f2972f08a2ad52b6a56238dc66d48e87fb757ef2996db56"
   }
  }
 },
 "nbformat": 4,
 "nbformat_minor": 2
}
