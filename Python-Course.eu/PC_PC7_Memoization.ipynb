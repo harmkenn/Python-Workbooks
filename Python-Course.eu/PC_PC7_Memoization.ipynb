{
  "nbformat": 4,
  "nbformat_minor": 0,
  "metadata": {
    "colab": {
      "name": "C_PC7_Memoization.ipynb",
      "provenance": [],
      "collapsed_sections": [],
      "authorship_tag": "ABX9TyO7T9W0Tc8o4JkqzqBS/xdw",
      "include_colab_link": true
    },
    "kernelspec": {
      "name": "python3",
      "display_name": "Python 3"
    },
    "language_info": {
      "name": "python"
    }
  },
  "cells": [
    {
      "cell_type": "markdown",
      "metadata": {
        "id": "view-in-github",
        "colab_type": "text"
      },
      "source": [
        "<a href=\"https://colab.research.google.com/github/harmkenn/Python-Workbooks/blob/main/Python-Course.eu/PC_PC7_Memoization.ipynb\" target=\"_parent\"><img src=\"https://colab.research.google.com/assets/colab-badge.svg\" alt=\"Open In Colab\"/></a>"
      ]
    },
    {
      "cell_type": "code",
      "execution_count": null,
      "metadata": {
        "id": "Y9d_58UH2ECB"
      },
      "outputs": [],
      "source": [
        "# https://python-course.eu/advanced-python/memoization-decorators.php"
      ]
    },
    {
      "cell_type": "code",
      "source": [
        "def memoize(f):\n",
        "    memo = {}\n",
        "    def helper(x):\n",
        "        if x not in memo:            \n",
        "            memo[x] = f(x)\n",
        "        return memo[x]\n",
        "    return helper\n",
        "@memoize\n",
        "def fib(n):\n",
        "    if n == 0:\n",
        "        return 0\n",
        "    elif n == 1:\n",
        "        return 1\n",
        "    else:\n",
        "        return fib(n-1) + fib(n-2)\n",
        "print(fib(40))"
      ],
      "metadata": {
        "colab": {
          "base_uri": "https://localhost:8080/"
        },
        "id": "ljCrxJre2Ox1",
        "outputId": "4ddeae3e-735f-40ab-947b-3393995e94cb"
      },
      "execution_count": 1,
      "outputs": [
        {
          "output_type": "stream",
          "name": "stdout",
          "text": [
            "102334155\n"
          ]
        }
      ]
    },
    {
      "cell_type": "code",
      "source": [
        "class Memoize:\n",
        "    def __init__(self, fn):\n",
        "        self.fn = fn\n",
        "        self.memo = {}\n",
        "    def __call__(self, *args):\n",
        "        if args not in self.memo:\n",
        "            self.memo[args] = self.fn(*args)\n",
        "        return self.memo[args]\n",
        "@Memoize\n",
        "def fib(n):\n",
        "    if n == 0:\n",
        "        return 0\n",
        "    elif n == 1:\n",
        "        return 1\n",
        "    else:\n",
        "        return fib(n-1) + fib(n-2)\n",
        "print(fib(40))"
      ],
      "metadata": {
        "colab": {
          "base_uri": "https://localhost:8080/"
        },
        "id": "qkr3NJ01n1pA",
        "outputId": "808fcb3c-0f0d-4504-febc-6e6f21b43b68"
      },
      "execution_count": 2,
      "outputs": [
        {
          "output_type": "stream",
          "name": "stdout",
          "text": [
            "102334155\n"
          ]
        }
      ]
    },
    {
      "cell_type": "code",
      "source": [
        "def factors_set():\n",
        "        for i in [-1, 0, 1]:\n",
        "            for j in [-1,0,1]:\n",
        "                for k in [-1,0,1]:\n",
        "                    for l in [-1,0,1]:\n",
        "                        yield (i, j, k, l)  \n",
        "def memoize(f):\n",
        "    results = {}\n",
        "    def helper(n):\n",
        "        if n not in results:\n",
        "            results[n] = f(n)\n",
        "        return results[n]\n",
        "    return helper\n",
        "@memoize\n",
        "def linear_combination(n):\n",
        "    \"\"\" returns the tuple (i,j,k,l) satisfying\n",
        "        n = i*1 + j*3 + k*9 + l*27      \"\"\"\n",
        "    weighs = (1,3,9,27)\n",
        "    for factors in factors_set():\n",
        "       sum = 0\n",
        "       for i in range(len(factors)):\n",
        "          sum += factors[i] * weighs[i]\n",
        "       if sum == n:\n",
        "          return factors "
      ],
      "metadata": {
        "id": "w0h-ksmsn-Nn"
      },
      "execution_count": 3,
      "outputs": []
    },
    {
      "cell_type": "code",
      "source": [
        "def weigh(pounds):\n",
        "        weights = (1, 3, 9, 27)\n",
        "        scalars = linear_combination(pounds)\n",
        "        left = \"\"\n",
        "        right = \"\"\n",
        "        for i in range(len(scalars)):\n",
        "            if scalars[i] == -1:\n",
        "                left += str(weights[i]) + \" \"\n",
        "            elif scalars[i] == 1:\n",
        "                right += str(weights[i]) + \" \"\n",
        "        return (left,right)\n",
        "for i in [2, 3, 4, 7, 8, 9, 20, 40]:\n",
        "            pans = weigh(i)\n",
        "            print(\"Left  pan: \" + str(i) + \" plus \" + pans[0])\n",
        "            print(\"Right pan: \" + pans[1] + \"\\n\")   "
      ],
      "metadata": {
        "colab": {
          "base_uri": "https://localhost:8080/"
        },
        "id": "1BSWe_yvoGju",
        "outputId": "6aaac987-91ad-423a-e153-add76c9b076b"
      },
      "execution_count": 4,
      "outputs": [
        {
          "output_type": "stream",
          "name": "stdout",
          "text": [
            "Left  pan: 2 plus 1 \n",
            "Right pan: 3 \n",
            "\n",
            "Left  pan: 3 plus \n",
            "Right pan: 3 \n",
            "\n",
            "Left  pan: 4 plus \n",
            "Right pan: 1 3 \n",
            "\n",
            "Left  pan: 7 plus 3 \n",
            "Right pan: 1 9 \n",
            "\n",
            "Left  pan: 8 plus 1 \n",
            "Right pan: 9 \n",
            "\n",
            "Left  pan: 9 plus \n",
            "Right pan: 9 \n",
            "\n",
            "Left  pan: 20 plus 1 9 \n",
            "Right pan: 3 27 \n",
            "\n",
            "Left  pan: 40 plus \n",
            "Right pan: 1 3 9 27 \n",
            "\n"
          ]
        }
      ]
    }
  ]
}