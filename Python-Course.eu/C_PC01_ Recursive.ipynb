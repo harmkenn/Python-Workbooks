{
  "cells": [
    {
      "cell_type": "code",
      "execution_count": null,
      "metadata": {
        "id": "oyHN1nUfwMa6"
      },
      "outputs": [],
      "source": [
        "# https://python-course.eu/advanced-python/recursive-functions.php"
      ]
    },
    {
      "cell_type": "code",
      "execution_count": null,
      "metadata": {
        "id": "a0qc8qLEwMa_",
        "outputId": "bb9cfdd8-b39d-41a5-b804-4cf374d36fab"
      },
      "outputs": [
        {
          "data": {
            "text/plain": [
              "51090942171709440000"
            ]
          },
          "execution_count": 1,
          "metadata": {},
          "output_type": "execute_result"
        }
      ],
      "source": [
        "def factorial(n):\n",
        "    if n == 0:\n",
        "        return 1\n",
        "    else:\n",
        "        return n * factorial(n-1)\n",
        "\n",
        "factorial(21)"
      ]
    },
    {
      "cell_type": "code",
      "execution_count": null,
      "metadata": {
        "id": "7Az3h05KwMbC",
        "outputId": "89c3cec4-820e-45cc-c4a6-256310a9d5a5"
      },
      "outputs": [
        {
          "name": "stdout",
          "output_type": "stream",
          "text": [
            "factorial has been called with n = 5\n",
            "factorial has been called with n = 4\n",
            "factorial has been called with n = 3\n",
            "factorial has been called with n = 2\n",
            "factorial has been called with n = 1\n",
            "intermediate result for  2  * factorial( 1 ):  2\n",
            "intermediate result for  3  * factorial( 2 ):  6\n",
            "intermediate result for  4  * factorial( 3 ):  24\n",
            "intermediate result for  5  * factorial( 4 ):  120\n",
            "120\n"
          ]
        }
      ],
      "source": [
        "def factorial(n):\n",
        "    print(\"factorial has been called with n = \" + str(n))\n",
        "    if n == 1:\n",
        "        return 1\n",
        "    else:\n",
        "        res = n * factorial(n-1)\n",
        "        print(\"intermediate result for \", n, \" * factorial(\" ,n-1, \"): \",res)\n",
        "        return res\t\n",
        "\n",
        "print(factorial(5))"
      ]
    },
    {
      "cell_type": "code",
      "execution_count": null,
      "metadata": {
        "id": "nQFuUGOQwMbD",
        "outputId": "701c0060-bbc8-4de5-9259-f2a1c928e4fd"
      },
      "outputs": [
        {
          "name": "stdout",
          "output_type": "stream",
          "text": [
            "0 1\n",
            "1 1\n",
            "2 2\n",
            "3 6\n",
            "4 24\n"
          ]
        }
      ],
      "source": [
        "def iterative_factorial(n):\n",
        "    result = 1\n",
        "    for i in range(2,n+1):\n",
        "        result *= i\n",
        "    return result\n",
        "\n",
        "\n",
        "for i in range(5):\n",
        "    print(i, iterative_factorial(i))"
      ]
    },
    {
      "cell_type": "code",
      "execution_count": null,
      "metadata": {
        "id": "5p8UAchMwMbE"
      },
      "outputs": [],
      "source": [
        "def factorial(n):\n",
        "    if n == 0:\n",
        "        return 1\n",
        "    else:\n",
        "        return n * factorial(n-1)"
      ]
    },
    {
      "cell_type": "code",
      "execution_count": null,
      "metadata": {
        "id": "NTvKeCoNwMbF",
        "outputId": "ccc81cfc-e549-420b-c527-e6230a15e543"
      },
      "outputs": [
        {
          "data": {
            "text/plain": [
              "832040"
            ]
          },
          "execution_count": 11,
          "metadata": {},
          "output_type": "execute_result"
        }
      ],
      "source": [
        "def fib(n):\n",
        "    if n == 0:\n",
        "        return 0\n",
        "    elif n == 1:\n",
        "        return 1\n",
        "    else:\n",
        "        return fib(n-1) + fib(n-2)\n",
        "fib(30)"
      ]
    },
    {
      "cell_type": "code",
      "execution_count": null,
      "metadata": {
        "id": "y_fFFYn9wMbF",
        "outputId": "d0e1ae9d-6267-4d45-b6fd-b7b81d7476f4"
      },
      "outputs": [
        {
          "data": {
            "text/plain": [
              "832040"
            ]
          },
          "execution_count": 12,
          "metadata": {},
          "output_type": "execute_result"
        }
      ],
      "source": [
        "def fibi(n):\n",
        "    old, new = 0, 1\n",
        "    if n == 0:\n",
        "        return 0\n",
        "    for i in range(n-1):\n",
        "        old, new = new, old + new\n",
        "    return new\n",
        "fibi(30)"
      ]
    },
    {
      "cell_type": "code",
      "execution_count": null,
      "metadata": {
        "id": "qerbuB4rwMbG"
      },
      "outputs": [],
      "source": [
        "memo = {0:0, 1:1}\n",
        "def fibm(n):\n",
        "    if not n in memo:\n",
        "        memo[n] = fibm(n-1) + fibm(n-2)\n",
        "    return memo[n]"
      ]
    },
    {
      "cell_type": "code",
      "execution_count": null,
      "metadata": {
        "id": "kSLXmkeCwMbH",
        "outputId": "907bc0ce-3ea3-469e-8e1a-b835de47e1e6"
      },
      "outputs": [
        {
          "name": "stdout",
          "output_type": "stream",
          "text": [
            "1 1 1\n",
            "2 1 3\n",
            "3 2 4\n",
            "4 3 7\n",
            "5 5 11\n",
            "6 8 18\n",
            "7 13 29\n",
            "8 21 47\n",
            "9 34 76\n",
            "10 55 123\n",
            "11 89 199\n",
            "12 144 322\n",
            "13 233 521\n",
            "14 377 843\n",
            "15 610 1364\n"
          ]
        }
      ],
      "source": [
        "class FibonacciLike:\n",
        "\n",
        "    def __init__(self, i1=0, i2=1):\n",
        "        self.memo = {0:i1, 1:i2}\n",
        "\n",
        "    def __call__(self, n):\n",
        "        if n not in self.memo: \n",
        "            self.memo[n] = self.__call__(n-1) + self.__call__(n-2)  \n",
        "        return self.memo[n]\n",
        "\n",
        "\n",
        "# We create a callable to create the Fibonacci numbers:\n",
        "fib = FibonacciLike()\n",
        "\n",
        "# This will create a callable to create the Lucas number series:\n",
        "lucas = FibonacciLike(2, 1)\n",
        "\n",
        "for i in range(1, 16):\n",
        "    print(i, fib(i), lucas(i))"
      ]
    },
    {
      "cell_type": "code",
      "execution_count": null,
      "metadata": {
        "id": "mcc95txXwMbI"
      },
      "outputs": [],
      "source": [
        "# https://python-course.eu/advanced-python/recursive-functions.php"
      ]
    },
    {
      "cell_type": "code",
      "execution_count": 1,
      "metadata": {
        "colab": {
          "base_uri": "https://localhost:8080/"
        },
        "id": "8wPtNNAQwRyW",
        "outputId": "6d2f9c64-1a62-4c72-dee4-82821b878fb3"
      },
      "outputs": [
        {
          "name": "stdout",
          "output_type": "stream",
          "text": [
            "1 1 1\n",
            "2 1 3\n",
            "3 2 4\n",
            "4 3 7\n",
            "5 5 11\n",
            "6 8 18\n",
            "7 13 29\n",
            "8 21 47\n",
            "9 34 76\n",
            "10 55 123\n",
            "11 89 199\n",
            "12 144 322\n",
            "13 233 521\n",
            "14 377 843\n",
            "15 610 1364\n"
          ]
        }
      ],
      "source": [
        "class kFibonacci:\n",
        "\n",
        "    def __init__(self, k, initials, coefficients):\n",
        "        self.memo = dict(zip(range(k), initials))\n",
        "        self.coeffs = coefficients\n",
        "        self.k = k\n",
        "\n",
        "    def __call__(self, n):\n",
        "        k = self.k\n",
        "        if n not in self.memo: \n",
        "            result = 0\n",
        "            for coeff, i in zip(self.coeffs, range(1, k+1)):\n",
        "                result += coeff * self.__call__(n-i)\n",
        "            self.memo[n] = result  \n",
        "        return self.memo[n]\n",
        "    \n",
        "fib = kFibonacci(2, (0, 1), (1, 1))\n",
        "lucas = kFibonacci(2, (2, 1), (1, 1))\n",
        "\n",
        "for i in range(1, 16):\n",
        "    print(i, fib(i), lucas(i))"
      ]
    },
    {
      "cell_type": "code",
      "execution_count": 3,
      "metadata": {
        "colab": {
          "base_uri": "https://localhost:8080/"
        },
        "id": "AXlv6AkqwraS",
        "outputId": "905f9c4e-6933-4421-d23b-fc83bd1bc62d"
      },
      "outputs": [
        {
          "name": "stdout",
          "output_type": "stream",
          "text": [
            "0 1\n",
            "1 2\n",
            "2 5\n",
            "3 12\n",
            "4 29\n",
            "5 70\n",
            "6 169\n",
            "7 408\n",
            "8 985\n",
            "9 2378\n"
          ]
        }
      ],
      "source": [
        "P = kFibonacci(2, (1, 2), (2, 1))\n",
        "for i in range(10):\n",
        "    print(i, P(i))"
      ]
    },
    {
      "cell_type": "code",
      "execution_count": 4,
      "metadata": {
        "colab": {
          "base_uri": "https://localhost:8080/"
        },
        "id": "VyQXI3M0wdAk",
        "outputId": "24a08d62-a981-4c83-a6d1-9333e8de1416"
      },
      "outputs": [
        {
          "name": "stdout",
          "output_type": "stream",
          "text": [
            "1, 2, 3, 5, 7, 12, 17, 29, 41, 70, 99, 169, 239, 408, 577, 985, 1393, 2378, 3363, 5741, "
          ]
        }
      ],
      "source": [
        "def nP(n):\n",
        "    if n < 2:\n",
        "        return P(n)\n",
        "    else:\n",
        "        i = n // 2 + 1\n",
        "        if n % 2:  # n is odd\n",
        "            return P(i)\n",
        "        else:\n",
        "            return P(i-1) + P(i-2)\n",
        "            \n",
        "for i in range(20):\n",
        "    print(nP(i), end=\", \")"
      ]
    },
    {
      "cell_type": "code",
      "execution_count": 5,
      "metadata": {
        "colab": {
          "base_uri": "https://localhost:8080/"
        },
        "id": "Gjh21tdmxatC",
        "outputId": "65c46a80-262d-4cef-fa14-f8693efbd92d"
      },
      "outputs": [
        {
          "name": "stdout",
          "output_type": "stream",
          "text": [
            "[1, 5, 10, 10, 5, 1]\n"
          ]
        }
      ],
      "source": [
        "def pascal(n):\n",
        "    if n == 1:\n",
        "        return [1]\n",
        "    else:\n",
        "        line = [1]\n",
        "        previous_line = pascal(n-1)\n",
        "        for i in range(len(previous_line)-1):\n",
        "            line.append(previous_line[i] + previous_line[i+1])\n",
        "        line += [1]\n",
        "    return line\n",
        "\n",
        "print(pascal(6))"
      ]
    },
    {
      "cell_type": "code",
      "execution_count": null,
      "metadata": {},
      "outputs": [],
      "source": [
        "def pascals(n):\n",
        "    for i in range(n):\n",
        "        if i == 0:\n",
        "            store=[1]\n",
        "            print(store)\n",
        "        elif i == 1:\n",
        "            store.append(1)\n",
        "            print(store)\n",
        "        else:\n",
        "            next = [1]\n",
        "            for j in range(len(store)-1):\n",
        "                next.append(store[j]+store[j+1])\n",
        "            next.append(1)\n",
        "            store = next\n",
        "            print(store)\n",
        "            \n",
        "pascals(16)"
      ]
    }
  ],
  "metadata": {
    "colab": {
      "name": "C_PC01_ Recursive.ipynb",
      "provenance": []
    },
    "kernelspec": {
      "display_name": "Python 3.8.13 64-bit ('3.8.13')",
      "language": "python",
      "name": "python3"
    },
    "language_info": {
      "codemirror_mode": {
        "name": "ipython",
        "version": 3
      },
      "file_extension": ".py",
      "mimetype": "text/x-python",
      "name": "python",
      "nbconvert_exporter": "python",
      "pygments_lexer": "ipython3",
      "version": "3.8.13"
    },
    "orig_nbformat": 4,
    "vscode": {
      "interpreter": {
        "hash": "110cc1dee26208153f2972f08a2ad52b6a56238dc66d48e87fb757ef2996db56"
      }
    }
  },
  "nbformat": 4,
  "nbformat_minor": 0
}
