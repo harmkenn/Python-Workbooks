{
 "cells": [
  {
   "cell_type": "code",
   "execution_count": null,
   "metadata": {},
   "outputs": [],
   "source": [
    "# https://python-course.eu/advanced-python/generators-and-iterators.php"
   ]
  },
  {
   "cell_type": "code",
   "execution_count": null,
   "metadata": {},
   "outputs": [],
   "source": [
    "cities = [\"Paris\", \"Berlin\", \"Hamburg\", \n",
    "          \"Frankfurt\", \"London\", \"Vienna\", \n",
    "          \"Amsterdam\", \"Den Haag\"]\n",
    "for location in cities:\n",
    "    print(\"location: \" + location)"
   ]
  },
  {
   "cell_type": "code",
   "execution_count": null,
   "metadata": {},
   "outputs": [],
   "source": [
    "def addup(n):\n",
    "    if n == 1:\n",
    "        pile = n\n",
    "    else:\n",
    "        pile = n\n",
    "        pile = pile + addup(n-1)\n",
    "\n",
    "    \n",
    "    return pile\n",
    "\n",
    "print(addup(10))"
   ]
  },
  {
   "cell_type": "code",
   "execution_count": null,
   "metadata": {},
   "outputs": [],
   "source": [
    "expertises = [\"Python Beginner\", \n",
    "              \"Python Intermediate\", \n",
    "              \"Python Proficient\", \n",
    "              \"Python Advanced\"]\n",
    "expertises_iterator = iter(expertises)\n",
    "print(\"Calling 'next' for the first time: \", next(expertises_iterator))\n",
    "print(\"Calling 'next' for the second time: \", next(expertises_iterator))\n",
    "print(\"Calling 'next' for the third time: \", next(expertises_iterator))"
   ]
  },
  {
   "cell_type": "code",
   "execution_count": null,
   "metadata": {},
   "outputs": [],
   "source": [
    "other_cities = [\"Strasbourg\", \"Freiburg\", \"Stuttgart\", \n",
    "                \"Vienna / Wien\", \"Hannover\", \"Berlin\", \n",
    "                \"Zurich\"]\n",
    "\n",
    "city_iterator = iter(other_cities)\n",
    "while city_iterator:\n",
    "    city = next(city_iterator)\n",
    "    print(city)"
   ]
  },
  {
   "cell_type": "code",
   "execution_count": 11,
   "metadata": {},
   "outputs": [
    {
     "name": "stdout",
     "output_type": "stream",
     "text": [
      "Strasbourg\n",
      "Freiburg\n",
      "Stuttgart\n",
      "Vienna / Wien\n",
      "Hannover\n",
      "Berlin\n",
      "Zurich\n"
     ]
    }
   ],
   "source": [
    "other_cities = [\"Strasbourg\", \"Freiburg\", \"Stuttgart\", \n",
    "                \"Vienna / Wien\", \"Hannover\", \"Berlin\", \n",
    "                \"Zurich\"]\n",
    "\n",
    "city_iterator = iter(other_cities)\n",
    "while city_iterator:\n",
    "    try:\n",
    "        city = next(city_iterator)\n",
    "        print(city)\n",
    "    except StopIteration:\n",
    "        break"
   ]
  },
  {
   "cell_type": "code",
   "execution_count": 1,
   "metadata": {},
   "outputs": [
    {
     "name": "stdout",
     "output_type": "stream",
     "text": [
      "The capital city of France is Paris\n",
      "The capital city of Netherlands is Amsterdam\n",
      "The capital city of Germany is Berlin\n",
      "The capital city of Switzerland is Bern\n",
      "The capital city of Austria is Vienna\n"
     ]
    }
   ],
   "source": [
    "capitals = { \n",
    "    \"France\":\"Paris\", \n",
    "    \"Netherlands\":\"Amsterdam\", \n",
    "    \"Germany\":\"Berlin\", \n",
    "    \"Switzerland\":\"Bern\", \n",
    "    \"Austria\":\"Vienna\"}\n",
    "\n",
    "for country in capitals:\n",
    "     print(\"The capital city of \" + country + \" is \" + capitals[country])"
   ]
  },
  {
   "cell_type": "code",
   "execution_count": 2,
   "metadata": {},
   "outputs": [
    {
     "name": "stdout",
     "output_type": "stream",
     "text": [
      "a, b, c, a, b, c, a, b, c, a, "
     ]
    }
   ],
   "source": [
    "class Cycle(object):\n",
    "    \n",
    "    def __init__(self, iterable):\n",
    "        self.iterable = iterable\n",
    "        self.iter_obj = iter(iterable)\n",
    "\n",
    "    def __iter__(self):\n",
    "        return self\n",
    "\n",
    "    def __next__(self):\n",
    "        while True:\n",
    "            try:\n",
    "                next_obj = next(self.iter_obj)\n",
    "                return next_obj\n",
    "            except StopIteration:\n",
    "                self.iter_obj = iter(self.iterable)\n",
    "x = Cycle(\"abc\")\n",
    "for i in range(10):\n",
    "    print(next(x), end=\", \")"
   ]
  },
  {
   "cell_type": "code",
   "execution_count": 3,
   "metadata": {},
   "outputs": [
    {
     "name": "stdout",
     "output_type": "stream",
     "text": [
      "Hamburg\n"
     ]
    }
   ],
   "source": [
    "def city_generator():\n",
    "    yield \"Hamburg\"\n",
    "    yield \"Konstanz\"\n",
    "    yield \"Berlin\"\n",
    "    yield \"Zurich\"\n",
    "    yield \"Schaffhausen\"\n",
    "    yield \"Stuttgart\" \n",
    "city = city_generator()\n",
    "print(next(city))"
   ]
  },
  {
   "cell_type": "code",
   "execution_count": 4,
   "metadata": {},
   "outputs": [
    {
     "name": "stdout",
     "output_type": "stream",
     "text": [
      "0, 1, 2, 3, 4, 5, 6, 7, 8, 9, \n",
      "New counter:\n",
      "2.10, 2.40, 2.70, 3.00, 3.30, 3.60, 3.90, 4.20, 4.50, 4.80, "
     ]
    }
   ],
   "source": [
    "def count(firstval=0, step=1):\n",
    "    x = firstval\n",
    "    while True:\n",
    "        yield x\n",
    "        x += step\n",
    "        \n",
    "counter = count() # count will start with 0\n",
    "for i in range(10):\n",
    "    print(next(counter), end=\", \")\n",
    "\n",
    "start_value = 2.1\n",
    "step_value = 0.3\n",
    "print(\"\\nNew counter:\")\n",
    "counter = count(start_value, step_value)\n",
    "for i in range(10):\n",
    "    new_value = next(counter)\n",
    "    print(f\"{new_value:2.2f}\", end=\", \")"
   ]
  }
 ],
 "metadata": {
  "kernelspec": {
   "display_name": "Python 3.8.13 64-bit ('3.8.13')",
   "language": "python",
   "name": "python3"
  },
  "language_info": {
   "codemirror_mode": {
    "name": "ipython",
    "version": 3
   },
   "file_extension": ".py",
   "mimetype": "text/x-python",
   "name": "python",
   "nbconvert_exporter": "python",
   "pygments_lexer": "ipython3",
   "version": "3.8.13"
  },
  "orig_nbformat": 4,
  "vscode": {
   "interpreter": {
    "hash": "110cc1dee26208153f2972f08a2ad52b6a56238dc66d48e87fb757ef2996db56"
   }
  }
 },
 "nbformat": 4,
 "nbformat_minor": 2
}
