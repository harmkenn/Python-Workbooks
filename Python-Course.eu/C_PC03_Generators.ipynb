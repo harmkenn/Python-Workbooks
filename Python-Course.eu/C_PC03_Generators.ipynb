{
 "cells": [
  {
   "cell_type": "code",
   "execution_count": null,
   "metadata": {},
   "outputs": [],
   "source": [
    "# https://python-course.eu/advanced-python/generators-and-iterators.php"
   ]
  },
  {
   "cell_type": "code",
   "execution_count": null,
   "metadata": {},
   "outputs": [],
   "source": [
    "cities = [\"Paris\", \"Berlin\", \"Hamburg\", \n",
    "          \"Frankfurt\", \"London\", \"Vienna\", \n",
    "          \"Amsterdam\", \"Den Haag\"]\n",
    "for location in cities:\n",
    "    print(\"location: \" + location)"
   ]
  },
  {
   "cell_type": "code",
   "execution_count": null,
   "metadata": {},
   "outputs": [],
   "source": [
    "def addup(n):\n",
    "    if n == 1:\n",
    "        pile = n\n",
    "    else:\n",
    "        pile = n\n",
    "        pile = pile + addup(n-1)\n",
    "\n",
    "    \n",
    "    return pile\n",
    "\n",
    "print(addup(10))"
   ]
  },
  {
   "cell_type": "code",
   "execution_count": null,
   "metadata": {},
   "outputs": [],
   "source": [
    "expertises = [\"Python Beginner\", \n",
    "              \"Python Intermediate\", \n",
    "              \"Python Proficient\", \n",
    "              \"Python Advanced\"]\n",
    "expertises_iterator = iter(expertises)\n",
    "print(\"Calling 'next' for the first time: \", next(expertises_iterator))\n",
    "print(\"Calling 'next' for the second time: \", next(expertises_iterator))\n",
    "print(\"Calling 'next' for the third time: \", next(expertises_iterator))"
   ]
  },
  {
   "cell_type": "code",
   "execution_count": null,
   "metadata": {},
   "outputs": [],
   "source": [
    "other_cities = [\"Strasbourg\", \"Freiburg\", \"Stuttgart\", \n",
    "                \"Vienna / Wien\", \"Hannover\", \"Berlin\", \n",
    "                \"Zurich\"]\n",
    "\n",
    "city_iterator = iter(other_cities)\n",
    "while city_iterator:\n",
    "    city = next(city_iterator)\n",
    "    print(city)"
   ]
  },
  {
   "cell_type": "code",
   "execution_count": 11,
   "metadata": {},
   "outputs": [
    {
     "name": "stdout",
     "output_type": "stream",
     "text": [
      "Strasbourg\n",
      "Freiburg\n",
      "Stuttgart\n",
      "Vienna / Wien\n",
      "Hannover\n",
      "Berlin\n",
      "Zurich\n"
     ]
    }
   ],
   "source": [
    "other_cities = [\"Strasbourg\", \"Freiburg\", \"Stuttgart\", \n",
    "                \"Vienna / Wien\", \"Hannover\", \"Berlin\", \n",
    "                \"Zurich\"]\n",
    "\n",
    "city_iterator = iter(other_cities)\n",
    "while city_iterator:\n",
    "    try:\n",
    "        city = next(city_iterator)\n",
    "        print(city)\n",
    "    except StopIteration:\n",
    "        break"
   ]
  },
  {
   "cell_type": "code",
   "execution_count": 1,
   "metadata": {},
   "outputs": [
    {
     "name": "stdout",
     "output_type": "stream",
     "text": [
      "The capital city of France is Paris\n",
      "The capital city of Netherlands is Amsterdam\n",
      "The capital city of Germany is Berlin\n",
      "The capital city of Switzerland is Bern\n",
      "The capital city of Austria is Vienna\n"
     ]
    }
   ],
   "source": [
    "capitals = { \n",
    "    \"France\":\"Paris\", \n",
    "    \"Netherlands\":\"Amsterdam\", \n",
    "    \"Germany\":\"Berlin\", \n",
    "    \"Switzerland\":\"Bern\", \n",
    "    \"Austria\":\"Vienna\"}\n",
    "\n",
    "for country in capitals:\n",
    "     print(\"The capital city of \" + country + \" is \" + capitals[country])"
   ]
  },
  {
   "cell_type": "code",
   "execution_count": 2,
   "metadata": {},
   "outputs": [
    {
     "name": "stdout",
     "output_type": "stream",
     "text": [
      "a, b, c, a, b, c, a, b, c, a, "
     ]
    }
   ],
   "source": [
    "class Cycle(object):\n",
    "    \n",
    "    def __init__(self, iterable):\n",
    "        self.iterable = iterable\n",
    "        self.iter_obj = iter(iterable)\n",
    "\n",
    "    def __iter__(self):\n",
    "        return self\n",
    "\n",
    "    def __next__(self):\n",
    "        while True:\n",
    "            try:\n",
    "                next_obj = next(self.iter_obj)\n",
    "                return next_obj\n",
    "            except StopIteration:\n",
    "                self.iter_obj = iter(self.iterable)\n",
    "x = Cycle(\"abc\")\n",
    "for i in range(10):\n",
    "    print(next(x), end=\", \")"
   ]
  },
  {
   "cell_type": "code",
   "execution_count": 3,
   "metadata": {},
   "outputs": [
    {
     "name": "stdout",
     "output_type": "stream",
     "text": [
      "Hamburg\n"
     ]
    }
   ],
   "source": [
    "def city_generator():\n",
    "    yield \"Hamburg\"\n",
    "    yield \"Konstanz\"\n",
    "    yield \"Berlin\"\n",
    "    yield \"Zurich\"\n",
    "    yield \"Schaffhausen\"\n",
    "    yield \"Stuttgart\" \n",
    "city = city_generator()\n",
    "print(next(city))"
   ]
  },
  {
   "cell_type": "code",
   "execution_count": 4,
   "metadata": {},
   "outputs": [
    {
     "name": "stdout",
     "output_type": "stream",
     "text": [
      "0, 1, 2, 3, 4, 5, 6, 7, 8, 9, \n",
      "New counter:\n",
      "2.10, 2.40, 2.70, 3.00, 3.30, 3.60, 3.90, 4.20, 4.50, 4.80, "
     ]
    }
   ],
   "source": [
    "def count(firstval=0, step=1):\n",
    "    x = firstval\n",
    "    while True:\n",
    "        yield x\n",
    "        x += step\n",
    "        \n",
    "counter = count() # count will start with 0\n",
    "for i in range(10):\n",
    "    print(next(counter), end=\", \")\n",
    "\n",
    "start_value = 2.1\n",
    "step_value = 0.3\n",
    "print(\"\\nNew counter:\")\n",
    "counter = count(start_value, step_value)\n",
    "for i in range(10):\n",
    "    new_value = next(counter)\n",
    "    print(f\"{new_value:2.2f}\", end=\", \")"
   ]
  },
  {
   "cell_type": "code",
   "execution_count": 2,
   "metadata": {},
   "outputs": [
    {
     "name": "stdout",
     "output_type": "stream",
     "text": [
      "0  1  1  2  3  5  "
     ]
    }
   ],
   "source": [
    "def fibonacci(n):\n",
    "    \"\"\" A generator for creating the Fibonacci numbers \"\"\"\n",
    "    a, b, counter = 0, 1, 0\n",
    "    while True:\n",
    "        if (counter > n): \n",
    "            return\n",
    "        yield a\n",
    "        a, b = b, a + b\n",
    "        counter += 1\n",
    "f = fibonacci(5)\n",
    "for x in f:\n",
    "    print(x, \" \", end=\"\") # \n"
   ]
  },
  {
   "cell_type": "code",
   "execution_count": 4,
   "metadata": {},
   "outputs": [
    {
     "name": "stdout",
     "output_type": "stream",
     "text": [
      "0  1  1  2  3  5  8  13  21  34  55  89  144  233  377  610  987  1597  2584  4181  6765  "
     ]
    }
   ],
   "source": [
    "def fibonacci():\n",
    "    \"\"\"Generates an infinite sequence of Fibonacci numbers on demand\"\"\"\n",
    "    a, b = 0, 1\n",
    "    while True:\n",
    "        yield a\n",
    "        a, b = b, a + b\n",
    "\n",
    "f = fibonacci()\n",
    "\n",
    "counter = 0\n",
    "for x in f:\n",
    "    print(x, \" \", end=\"\")\n",
    "    counter += 1\n",
    "    if (counter > 20): \n",
    "        break "
   ]
  },
  {
   "cell_type": "code",
   "execution_count": 7,
   "metadata": {},
   "outputs": [
    {
     "name": "stdout",
     "output_type": "stream",
     "text": [
      "2.10, 2.40, 2.70, 3.00, 3.30, 3.60, 3.90, 4.20, 4.50, 4.80, \n",
      "set current count value to another value:\n",
      "100.80, 101.10, 101.40, 101.70, 102.00, 102.30, 102.60, 102.90, 103.20, 103.50, "
     ]
    }
   ],
   "source": [
    "def count(firstval=0, step=1):\n",
    "    counter = firstval\n",
    "    while True:\n",
    "        new_counter_val = yield counter\n",
    "        if new_counter_val is None:\n",
    "            counter += step\n",
    "        else:\n",
    "            counter = new_counter_val\n",
    "            \n",
    "start_value = 2.1\n",
    "step_value = 0.3\n",
    "counter = count(start_value, step_value) \n",
    "for i in range(10):\n",
    "    new_value = next(counter)\n",
    "    print(f\"{new_value:2.2f}\", end=\", \")\n",
    "print() \n",
    "print(\"set current count value to another value:\")\n",
    "counter.send(100.5)\n",
    "for i in range(10):\n",
    "    new_value = next(counter)\n",
    "    print(f\"{new_value:2.2f}\", end=\", \")"
   ]
  },
  {
   "cell_type": "code",
   "execution_count": 8,
   "metadata": {},
   "outputs": [],
   "source": [
    "from random import choice\n",
    "\n",
    "def song_generator(song_list):\n",
    "    new_song = None\n",
    "    while True:\n",
    "        if new_song != None:\n",
    "            if new_song not in song_list:\n",
    "                song_list.append(new_song)\n",
    "            new_song = yield new_song\n",
    "        else:\n",
    "            new_song = yield choice(song_list)           \n",
    "\n",
    "songs = [\"Her Şeyi Yak - Sezen Aksu\", \n",
    "         \"Bluesette - Toots Thielemans\",\n",
    "         \"Six Marimbas - Steve Reich\",\n",
    "         \"Riverside - Agnes Obel\",\n",
    "         \"Not for Radio - Nas\",\n",
    "         \"What's going on - Taste\",\n",
    "         \"On Stream - Nils Petter Molvær\",\n",
    "         \"La' Inta Habibi - Fayrouz\",\n",
    "         \"Ik Leef Niet Meer Voor Jou - Marco Borsato\",\n",
    "         \"Δέκα λεπτά - Αθηνά Ανδρεάδη\"]"
   ]
  },
  {
   "cell_type": "code",
   "execution_count": 18,
   "metadata": {},
   "outputs": [
    {
     "data": {
      "text/plain": [
       "\"What's going on - Taste\""
      ]
     },
     "execution_count": 18,
     "metadata": {},
     "output_type": "execute_result"
    }
   ],
   "source": [
    "radio_program = song_generator(songs)\n",
    "next(radio_program)"
   ]
  },
  {
   "cell_type": "code",
   "execution_count": 19,
   "metadata": {},
   "outputs": [
    {
     "name": "stdout",
     "output_type": "stream",
     "text": [
      "Six Marimbas - Steve Reich\n",
      "La' Inta Habibi - Fayrouz\n",
      "On Stream - Nils Petter Molvær\n"
     ]
    }
   ],
   "source": [
    "for i in range(3):\n",
    "    print(next(radio_program))"
   ]
  },
  {
   "cell_type": "code",
   "execution_count": 20,
   "metadata": {},
   "outputs": [
    {
     "data": {
      "text/plain": [
       "'Distorted Angels - Archive'"
      ]
     },
     "execution_count": 20,
     "metadata": {},
     "output_type": "execute_result"
    }
   ],
   "source": [
    "radio_program.send(\"Distorted Angels - Archive\")"
   ]
  },
  {
   "cell_type": "code",
   "execution_count": 21,
   "metadata": {},
   "outputs": [
    {
     "data": {
      "text/plain": [
       "['Her Şeyi Yak - Sezen Aksu',\n",
       " 'Bluesette - Toots Thielemans',\n",
       " 'Six Marimbas - Steve Reich',\n",
       " 'Riverside - Agnes Obel',\n",
       " 'Not for Radio - Nas',\n",
       " \"What's going on - Taste\",\n",
       " 'On Stream - Nils Petter Molvær',\n",
       " \"La' Inta Habibi - Fayrouz\",\n",
       " 'Ik Leef Niet Meer Voor Jou - Marco Borsato',\n",
       " 'Δέκα λεπτά - Αθηνά Ανδρεάδη',\n",
       " 'Distorted Angels - Archive']"
      ]
     },
     "execution_count": 21,
     "metadata": {},
     "output_type": "execute_result"
    }
   ],
   "source": [
    "songs"
   ]
  }
 ],
 "metadata": {
  "kernelspec": {
   "display_name": "Python 3.8.13 64-bit ('3.8.13')",
   "language": "python",
   "name": "python3"
  },
  "language_info": {
   "codemirror_mode": {
    "name": "ipython",
    "version": 3
   },
   "file_extension": ".py",
   "mimetype": "text/x-python",
   "name": "python",
   "nbconvert_exporter": "python",
   "pygments_lexer": "ipython3",
   "version": "3.8.13"
  },
  "orig_nbformat": 4,
  "vscode": {
   "interpreter": {
    "hash": "110cc1dee26208153f2972f08a2ad52b6a56238dc66d48e87fb757ef2996db56"
   }
  }
 },
 "nbformat": 4,
 "nbformat_minor": 2
}
