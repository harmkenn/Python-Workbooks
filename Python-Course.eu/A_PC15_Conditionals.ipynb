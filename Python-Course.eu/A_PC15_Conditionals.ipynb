{
 "cells": [
  {
   "cell_type": "code",
   "execution_count": null,
   "metadata": {},
   "outputs": [],
   "source": [
    "# https://python-course.eu/python-tutorial/conditional-statements.php"
   ]
  },
  {
   "cell_type": "code",
   "execution_count": 1,
   "metadata": {},
   "outputs": [
    {
     "name": "stdout",
     "output_type": "stream",
     "text": [
      "Préférez-vous parler français?\n"
     ]
    }
   ],
   "source": [
    "person = input(\"Nationality? \")\n",
    "if person == \"french\":\n",
    "    print(\"Préférez-vous parler français?\")"
   ]
  },
  {
   "cell_type": "code",
   "execution_count": 1,
   "metadata": {},
   "outputs": [
    {
     "name": "stdout",
     "output_type": "stream",
     "text": [
      "Preferisci parlare italiano?\n"
     ]
    }
   ],
   "source": [
    "person = input(\"Nationality? \")\n",
    "if person == \"french\" or person == \"French\":\n",
    "    print(\"Préférez-vous parler français?\")\n",
    "if person == \"italian\" or person == \"Italian\":\n",
    "    print(\"Preferisci parlare italiano?\")"
   ]
  },
  {
   "cell_type": "code",
   "execution_count": 2,
   "metadata": {},
   "outputs": [
    {
     "name": "stdout",
     "output_type": "stream",
     "text": [
      "You are neither French nor Italian.\n",
      "So, let us speak English!\n"
     ]
    }
   ],
   "source": [
    "person = input(\"Nationality? \")\n",
    "if person == \"french\" or person == \"French\":\n",
    "    print(\"Préférez-vous parler français?\")\n",
    "elif person == \"italian\" or person == \"Italian\":\n",
    "    print(\"Preferisci parlare italiano?\")\n",
    "else:\n",
    "    print(\"You are neither French nor Italian.\")\n",
    "    print(\"So, let us speak English!\")"
   ]
  },
  {
   "cell_type": "code",
   "execution_count": 1,
   "metadata": {},
   "outputs": [
    {
     "name": "stdout",
     "output_type": "stream",
     "text": [
      "\n",
      "Corresponds to  27 human years!\n"
     ]
    }
   ],
   "source": [
    "age = int(input(\"Age of the dog: \"))\n",
    "print()\n",
    "if age < 0:\n",
    "    print(\"This cannot be true!\")\n",
    "elif age == 0:\n",
    "    print(\"This corresponds to 0 human years!\")\n",
    "elif age == 1:\n",
    "    print(\"Roughly 14 years!\")\n",
    "elif age == 2:\n",
    "    print(\"Approximately 22 years!\")\n",
    "else:\n",
    "    human = 22 + (age -2) * 5\n",
    "    print(\"Corresponds to  \" + str(human) + \" human years!\")"
   ]
  },
  {
   "cell_type": "code",
   "execution_count": 2,
   "metadata": {},
   "outputs": [
    {
     "name": "stdout",
     "output_type": "stream",
     "text": [
      "The maximal value is: 8.0\n"
     ]
    }
   ],
   "source": [
    "x = float(input(\"1st Number: \"))\n",
    "y = float(input(\"2nd Number: \"))\n",
    "z = float(input(\"3rd Number: \"))\n",
    "\n",
    "if x > y and x > z:\n",
    "    maximum = x\n",
    "elif y > x and y > z:\n",
    "    maximum = y\n",
    "else:\n",
    "    maximum = z\n",
    "\n",
    "print(\"The maximal value is: \" + str(maximum))"
   ]
  },
  {
   "cell_type": "code",
   "execution_count": 3,
   "metadata": {},
   "outputs": [
    {
     "name": "stdout",
     "output_type": "stream",
     "text": [
      "no leap year\n"
     ]
    }
   ],
   "source": [
    "year = int(input(\"Which year? \"))\n",
    "\n",
    "if year % 4:\n",
    "    # not divisible by 4\n",
    "    print(\"no leap year\")\n",
    "elif year % 100 == 0 and year % 400 != 0:\n",
    "    print(\"no leap year\")\n",
    "else:\n",
    "    print(\"leap year\")"
   ]
  },
  {
   "cell_type": "code",
   "execution_count": 7,
   "metadata": {},
   "outputs": [
    {
     "name": "stdout",
     "output_type": "stream",
     "text": [
      "0.0025259515570934254\n",
      "Very severely underweight\n"
     ]
    }
   ],
   "source": [
    "height = float(input(\"What is your height? \"))\n",
    "weight = float(input(\"What is your weight? \"))\n",
    "\n",
    "bmi = weight / height ** 2\n",
    "print(bmi)\n",
    "if bmi < 15:\n",
    "    print(\"Very severely underweight\")\n",
    "elif bmi < 16:\n",
    "    print(\"Severely underweight\")\n",
    "elif bmi < 18.5:\n",
    "    print(\"Underweight\")\n",
    "elif bmi < 25:\n",
    "    print(\"Normal (healthy weight)\")\n",
    "elif bmi < 30:\n",
    "    print(\"Overweight\")\n",
    "elif bmi < 35:\n",
    "    print(\"Obese Class I (Moderately obese)\")\n",
    "elif bmi < 40:\n",
    "    print(\"Obese Class II (Severely obese)\")\n",
    "else:\n",
    "    print(\"Obese Class III (Very severely obese)\")"
   ]
  },
  {
   "cell_type": "code",
   "execution_count": null,
   "metadata": {},
   "outputs": [],
   "source": [
    "# https://python-course.eu/python-tutorial/structural-pattern-matching.php"
   ]
  },
  {
   "cell_type": "code",
   "execution_count": 9,
   "metadata": {},
   "outputs": [
    {
     "data": {
      "text/plain": [
       "'3.8.13 (default, May 13 2022, 10:35:27) \\n[GCC 9.4.0]'"
      ]
     },
     "execution_count": 9,
     "metadata": {},
     "output_type": "execute_result"
    }
   ],
   "source": [
    "import sys\n",
    "sys.version"
   ]
  },
  {
   "cell_type": "code",
   "execution_count": null,
   "metadata": {},
   "outputs": [],
   "source": [
    "# pyenv install 3.10.4"
   ]
  }
 ],
 "metadata": {
  "kernelspec": {
   "display_name": "Python 3.8.13 64-bit ('3.8.13')",
   "language": "python",
   "name": "python3"
  },
  "language_info": {
   "codemirror_mode": {
    "name": "ipython",
    "version": 3
   },
   "file_extension": ".py",
   "mimetype": "text/x-python",
   "name": "python",
   "nbconvert_exporter": "python",
   "pygments_lexer": "ipython3",
   "version": "3.8.13"
  },
  "orig_nbformat": 4,
  "vscode": {
   "interpreter": {
    "hash": "110cc1dee26208153f2972f08a2ad52b6a56238dc66d48e87fb757ef2996db56"
   }
  }
 },
 "nbformat": 4,
 "nbformat_minor": 2
}
