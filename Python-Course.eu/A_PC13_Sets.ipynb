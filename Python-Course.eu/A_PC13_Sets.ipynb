{
 "cells": [
  {
   "cell_type": "code",
   "execution_count": null,
   "metadata": {},
   "outputs": [],
   "source": [
    "# https://python-course.eu/python-tutorial/sets-examples.php"
   ]
  },
  {
   "cell_type": "code",
   "execution_count": 4,
   "metadata": {},
   "outputs": [
    {
     "name": "stdout",
     "output_type": "stream",
     "text": [
      "The novel ulysses contains 272632 words\n"
     ]
    }
   ],
   "source": [
    "import re\n",
    "\n",
    "# we don't care about case sensitivity and therefore use lower:\n",
    "ulysses_txt = open(\"books/james_joyce_ulysses.txt\").read().lower()\n",
    "\n",
    "words = re.findall(r\"\\b[\\w-]+\\b\", ulysses_txt)\n",
    "print(\"The novel ulysses contains \" + str(len(words))+' words')"
   ]
  },
  {
   "cell_type": "code",
   "execution_count": 5,
   "metadata": {},
   "outputs": [
    {
     "name": "stdout",
     "output_type": "stream",
     "text": [
      "The word 'the' occurs 15110 times in the novel!\n",
      "The word 'while' occurs 123 times in the novel!\n",
      "The word 'good' occurs 321 times in the novel!\n",
      "The word 'bad' occurs 90 times in the novel!\n",
      "The word 'ireland' occurs 90 times in the novel!\n",
      "The word 'irish' occurs 117 times in the novel!\n"
     ]
    }
   ],
   "source": [
    "for word in [\"the\", \"while\", \"good\", \"bad\", \"ireland\", \"irish\"]:\n",
    "    print(\"The word '\" + word + \"' occurs \" + \\\n",
    "          str(words.count(word)) + \" times in the novel!\" )"
   ]
  },
  {
   "cell_type": "code",
   "execution_count": 6,
   "metadata": {},
   "outputs": [
    {
     "name": "stdout",
     "output_type": "stream",
     "text": [
      "'Ulysses' contains 29479 different words!\n"
     ]
    }
   ],
   "source": [
    "diff_words = set(words)\n",
    "print(\"'Ulysses' contains \" + str(len(diff_words)) + \" different words!\")"
   ]
  },
  {
   "cell_type": "code",
   "execution_count": null,
   "metadata": {},
   "outputs": [],
   "source": [
    "# https://python-course.eu/python-tutorial/input.php"
   ]
  },
  {
   "cell_type": "code",
   "execution_count": 7,
   "metadata": {},
   "outputs": [
    {
     "name": "stdout",
     "output_type": "stream",
     "text": [
      "Nice to meet you Ken!\n"
     ]
    }
   ],
   "source": [
    "name = input(\"What's your name? \")\n",
    "print(\"Nice to meet you \" + name + \"!\")"
   ]
  },
  {
   "cell_type": "code",
   "execution_count": 8,
   "metadata": {},
   "outputs": [
    {
     "name": "stdout",
     "output_type": "stream",
     "text": [
      "So, you are already 53 years old, Ken!\n"
     ]
    }
   ],
   "source": [
    "age = input(\"Your age? \")\n",
    "print(\"So, you are already \" + age + \" years old, \" + name + \"!\")"
   ]
  },
  {
   "cell_type": "code",
   "execution_count": 9,
   "metadata": {},
   "outputs": [
    {
     "name": "stdout",
     "output_type": "stream",
     "text": [
      "Toronto <class 'str'>\n"
     ]
    }
   ],
   "source": [
    "cities_canada = input(\"Largest cities in Canada: \")\n",
    "print(cities_canada, type(cities_canada))"
   ]
  }
 ],
 "metadata": {
  "kernelspec": {
   "display_name": "Python 3.8.13 64-bit ('3.8.13')",
   "language": "python",
   "name": "python3"
  },
  "language_info": {
   "codemirror_mode": {
    "name": "ipython",
    "version": 3
   },
   "file_extension": ".py",
   "mimetype": "text/x-python",
   "name": "python",
   "nbconvert_exporter": "python",
   "pygments_lexer": "ipython3",
   "version": "3.8.13"
  },
  "orig_nbformat": 4,
  "vscode": {
   "interpreter": {
    "hash": "110cc1dee26208153f2972f08a2ad52b6a56238dc66d48e87fb757ef2996db56"
   }
  }
 },
 "nbformat": 4,
 "nbformat_minor": 2
}
