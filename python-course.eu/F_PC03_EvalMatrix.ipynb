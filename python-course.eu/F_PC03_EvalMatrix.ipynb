{
 "cells": [
  {
   "cell_type": "code",
   "execution_count": null,
   "metadata": {},
   "outputs": [],
   "source": [
    "# https://python-course.eu/machine-learning/evaluation-metrics.php"
   ]
  },
  {
   "cell_type": "code",
   "execution_count": 1,
   "metadata": {},
   "outputs": [
    {
     "name": "stdout",
     "output_type": "stream",
     "text": [
      "0.74\n"
     ]
    }
   ],
   "source": [
    "TP = 42\n",
    "TN = 32\n",
    "FP = 8\n",
    "FN = 18\n",
    "\n",
    "Accuracy = (TP + TN)/(TP + TN + FP + FN)\n",
    "print(Accuracy)"
   ]
  },
  {
   "cell_type": "code",
   "execution_count": 2,
   "metadata": {},
   "outputs": [
    {
     "name": "stdout",
     "output_type": "stream",
     "text": [
      "0.5\n"
     ]
    }
   ],
   "source": [
    "TP, TN, FP, FN = 0, 50, 50, 0\n",
    "Accuracy = (TP + TN)/(TP + TN + FP + FN)\n",
    "print(Accuracy)"
   ]
  },
  {
   "cell_type": "code",
   "execution_count": 3,
   "metadata": {},
   "outputs": [
    {
     "name": "stdout",
     "output_type": "stream",
     "text": [
      "0.95\n"
     ]
    }
   ],
   "source": [
    "TP, TN, FP, FN = 4, 91, 1, 4\n",
    "accuracy = (TP + TN)/(TP + TN + FP + FN)\n",
    "print(accuracy)"
   ]
  },
  {
   "cell_type": "code",
   "execution_count": 4,
   "metadata": {},
   "outputs": [
    {
     "name": "stdout",
     "output_type": "stream",
     "text": [
      "0.95\n"
     ]
    }
   ],
   "source": [
    "TP, TN, FP, FN = 0, 95, 5, 0\n",
    "accuracy = (TP + TN)/(TP + TN + FP + FN)\n",
    "print(accuracy)"
   ]
  },
  {
   "cell_type": "code",
   "execution_count": 5,
   "metadata": {},
   "outputs": [
    {
     "name": "stdout",
     "output_type": "stream",
     "text": [
      "precision: 0.89\n"
     ]
    }
   ],
   "source": [
    "TP = 114\n",
    "FP = 14\n",
    "# FN (0) and TN (12) are not needed in the formuala!\n",
    "precision = TP / (TP + FP)\n",
    "print(f\"precision: {precision:4.2f}\")"
   ]
  },
  {
   "cell_type": "code",
   "execution_count": 6,
   "metadata": {},
   "outputs": [
    {
     "name": "stdout",
     "output_type": "stream",
     "text": [
      "recall (sensitivity): 1.00\n"
     ]
    }
   ],
   "source": [
    "TP = 114\n",
    "FN = 0\n",
    "# FT (14) and TN (12) are not needed in the formuala!\n",
    "recall = TP / (TP + FN)\n",
    "print(f\"recall (sensitivity): {recall:4.2f}\")"
   ]
  },
  {
   "cell_type": "code",
   "execution_count": 7,
   "metadata": {},
   "outputs": [
    {
     "name": "stdout",
     "output_type": "stream",
     "text": [
      "  FN    FP   TP     pre   acc   rec   f1\n",
      "  0.00  0.00 93.00  1.00  1.00  1.00  1.00\n",
      "  1.00  0.00 92.00  1.00  0.99  0.99  0.99\n",
      "  1.00  1.00 91.00  0.99  0.99  0.99  0.99\n",
      "  2.00  0.00 91.00  1.00  0.99  0.98  0.99\n",
      "  2.00  1.00 90.00  0.99  0.98  0.98  0.98\n",
      "  2.00  2.00 89.00  0.98  0.98  0.98  0.98\n",
      "  3.00  0.00 90.00  1.00  0.98  0.97  0.98\n",
      "  3.00  1.00 89.00  0.99  0.98  0.97  0.98\n",
      "  3.00  2.00 88.00  0.98  0.97  0.97  0.97\n",
      "  3.00  3.00 87.00  0.97  0.97  0.97  0.97\n",
      "  4.00  0.00 89.00  1.00  0.98  0.96  0.98\n",
      "  4.00  1.00 88.00  0.99  0.97  0.96  0.97\n",
      "  4.00  2.00 87.00  0.98  0.97  0.96  0.97\n",
      "  4.00  3.00 86.00  0.97  0.96  0.96  0.96\n",
      "  4.00  4.00 85.00  0.96  0.96  0.96  0.96\n",
      "  5.00  0.00 88.00  1.00  0.97  0.95  0.97\n",
      "  5.00  1.00 87.00  0.99  0.97  0.95  0.97\n",
      "  5.00  2.00 86.00  0.98  0.96  0.95  0.96\n",
      "  5.00  3.00 85.00  0.97  0.96  0.94  0.96\n",
      "  5.00  4.00 84.00  0.95  0.95  0.94  0.95\n",
      "  5.00  5.00 83.00  0.94  0.95  0.94  0.94\n",
      "  6.00  0.00 87.00  1.00  0.97  0.94  0.97\n",
      "  6.00  1.00 86.00  0.99  0.96  0.93  0.96\n",
      "  6.00  2.00 85.00  0.98  0.96  0.93  0.96\n",
      "  6.00  3.00 84.00  0.97  0.95  0.93  0.95\n",
      "  6.00  4.00 83.00  0.95  0.95  0.93  0.94\n",
      "  6.00  5.00 82.00  0.94  0.94  0.93  0.94\n",
      "  6.00  6.00 81.00  0.93  0.94  0.93  0.93\n"
     ]
    }
   ],
   "source": [
    "TF = 7 # we set the True false values to 5 %\n",
    "print(\"  FN    FP   TP     pre   acc   rec   f1\")\n",
    "for FN in range(0, 7):\n",
    "    for FP in range(0, FN+1):\n",
    "        # the sum of FN, FP, TF and TP will be 100:\n",
    "        TP = 100 - FN - FP - TF\n",
    "        #print(FN, FP, TP, FN+FP+TP+TF)\n",
    "        precision = TP / (TP + FP)\n",
    "        accuracy = (TP + TN)/(TP + TN + FP + FN)\n",
    "        recall = TP / (TP + FN)\n",
    "        f1_score = 2 * precision * recall / (precision + recall)\n",
    "        print(f\"{FN:6.2f}{FP:6.2f}{TP:6.2f}\", end=\"\")\n",
    "        print(f\"{precision:6.2f}{accuracy:6.2f}{recall:6.2f}{f1_score:6.2f}\")"
   ]
  },
  {
   "cell_type": "code",
   "execution_count": null,
   "metadata": {},
   "outputs": [],
   "source": []
  }
 ],
 "metadata": {
  "kernelspec": {
   "display_name": "Python 3",
   "language": "python",
   "name": "python3"
  },
  "language_info": {
   "codemirror_mode": {
    "name": "ipython",
    "version": 3
   },
   "file_extension": ".py",
   "mimetype": "text/x-python",
   "name": "python",
   "nbconvert_exporter": "python",
   "pygments_lexer": "ipython3",
   "version": "3.8.13"
  },
  "orig_nbformat": 4,
  "vscode": {
   "interpreter": {
    "hash": "110cc1dee26208153f2972f08a2ad52b6a56238dc66d48e87fb757ef2996db56"
   }
  }
 },
 "nbformat": 4,
 "nbformat_minor": 2
}
