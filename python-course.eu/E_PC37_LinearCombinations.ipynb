{
 "cells": [
  {
   "cell_type": "code",
   "execution_count": null,
   "metadata": {},
   "outputs": [],
   "source": [
    "# https://python-course.eu/numerical-programming/linear-combinations-in-python.php"
   ]
  },
  {
   "cell_type": "code",
   "execution_count": 1,
   "metadata": {},
   "outputs": [
    {
     "data": {
      "text/plain": [
       "array([3.42, 1.55, 3.65])"
      ]
     },
     "execution_count": 1,
     "metadata": {},
     "output_type": "execute_result"
    }
   ],
   "source": [
    "import numpy as np\n",
    "x = np.array([[0, 0, 1],\n",
    "              [0, 1, 0],\n",
    "              [1, 0, 0]])\n",
    "y = ([3.65, 1.55, 3.42])\n",
    "scalars = np.linalg.solve(x, y)\n",
    "scalars"
   ]
  },
  {
   "cell_type": "code",
   "execution_count": 2,
   "metadata": {},
   "outputs": [
    {
     "data": {
      "text/plain": [
       "array([0.66, 0.89, 2.76])"
      ]
     },
     "execution_count": 2,
     "metadata": {},
     "output_type": "execute_result"
    }
   ],
   "source": [
    "import numpy as np\n",
    "x = np.array([[0, 1, 1],\n",
    "              [1, 1, 0],\n",
    "              [1, 0, 1]])\n",
    "y = ([3.65, 1.55, 3.42])\n",
    "scalars = np.linalg.solve(x, y)\n",
    "scalars"
   ]
  },
  {
   "cell_type": "code",
   "execution_count": 3,
   "metadata": {},
   "outputs": [],
   "source": [
    "def factors_set():\n",
    "    for i in [-1, 0, 1]:\n",
    "        for j in [-1,0,1]:\n",
    "            for k in [-1,0,1]:\n",
    "                for l in [-1,0,1]:\n",
    "                    yield (i, j, k, l) "
   ]
  },
  {
   "cell_type": "code",
   "execution_count": 4,
   "metadata": {},
   "outputs": [],
   "source": [
    "def memoize(f):\n",
    "    results = {}\n",
    "    def helper(n):\n",
    "        if n not in results:\n",
    "            results[n] = f(n)\n",
    "        return results[n]\n",
    "    return helper"
   ]
  },
  {
   "cell_type": "code",
   "execution_count": 5,
   "metadata": {},
   "outputs": [],
   "source": [
    "@memoize\n",
    "def linear_combination(n):\n",
    "    \"\"\" returns the tuple (i,j,k,l) satisfying\n",
    "        n = i*1 + j*3 + k*9 + l*27      \"\"\"\n",
    "    weighs = (1,3,9,27)\n",
    "      \n",
    "    for factors in factors_set():\n",
    "       sum = 0\n",
    "       for i in range(len(factors)):\n",
    "          sum += factors[i] * weighs[i]\n",
    "       if sum == n:\n",
    "          return factors"
   ]
  },
  {
   "cell_type": "code",
   "execution_count": 7,
   "metadata": {},
   "outputs": [
    {
     "name": "stdout",
     "output_type": "stream",
     "text": [
      "(-1, 1, 1, 0)\n",
      "(0, 1, 1, 0)\n",
      "(1, 1, 1, 0)\n",
      "(-1, -1, -1, 1)\n",
      "(0, -1, -1, 1)\n",
      "(1, -1, -1, 1)\n",
      "(-1, 0, -1, 1)\n",
      "(0, 0, -1, 1)\n",
      "(1, 0, -1, 1)\n",
      "(-1, 1, -1, 1)\n",
      "(0, 1, -1, 1)\n",
      "(1, 1, -1, 1)\n",
      "(-1, -1, 0, 1)\n",
      "(0, -1, 0, 1)\n",
      "(1, -1, 0, 1)\n",
      "(-1, 0, 0, 1)\n",
      "(0, 0, 0, 1)\n",
      "(1, 0, 0, 1)\n",
      "(-1, 1, 0, 1)\n",
      "(0, 1, 0, 1)\n",
      "(1, 1, 0, 1)\n",
      "(-1, -1, 1, 1)\n",
      "(0, -1, 1, 1)\n",
      "(1, -1, 1, 1)\n",
      "(-1, 0, 1, 1)\n",
      "(0, 0, 1, 1)\n",
      "(1, 0, 1, 1)\n",
      "(-1, 1, 1, 1)\n",
      "(0, 1, 1, 1)\n"
     ]
    }
   ],
   "source": [
    "# calculate the linear combinations of the first 10 positive integers:\n",
    "for i in range(11,40):\n",
    "    print(linear_combination(i))"
   ]
  }
 ],
 "metadata": {
  "kernelspec": {
   "display_name": "Python 3",
   "language": "python",
   "name": "python3"
  },
  "language_info": {
   "codemirror_mode": {
    "name": "ipython",
    "version": 3
   },
   "file_extension": ".py",
   "mimetype": "text/x-python",
   "name": "python",
   "nbconvert_exporter": "python",
   "pygments_lexer": "ipython3",
   "version": "3.8.13 (default, Oct  4 2022, 14:00:32) \n[GCC 9.4.0]"
  },
  "orig_nbformat": 4,
  "vscode": {
   "interpreter": {
    "hash": "9ac03a0a6051494cc606d484d27d20fce22fb7b4d169f583271e11d5ba46a56e"
   }
  }
 },
 "nbformat": 4,
 "nbformat_minor": 2
}
