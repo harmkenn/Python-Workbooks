{
 "cells": [
  {
   "cell_type": "code",
   "execution_count": null,
   "metadata": {},
   "outputs": [],
   "source": [
    "# https://python-course.eu/numerical-programming/numpy-data-objects-dtype.php"
   ]
  },
  {
   "cell_type": "code",
   "execution_count": 2,
   "metadata": {},
   "outputs": [
    {
     "name": "stdout",
     "output_type": "stream",
     "text": [
      "int16\n",
      "[[ 3  8  9]\n",
      " [ 1 -7  0]\n",
      " [ 4 12  4]]\n"
     ]
    }
   ],
   "source": [
    "import numpy as np\n",
    "\n",
    "i16 = np.dtype(np.int16)\n",
    "print(i16)\n",
    "\n",
    "lst = [ [3.4, 8.7, 9.9], \n",
    "        [1.1, -7.8, -0.7],\n",
    "        [4.1, 12.3, 4.8] ]\n",
    "\n",
    "A = np.array(lst, dtype=i16)\n",
    "\n",
    "print(A)"
   ]
  },
  {
   "cell_type": "code",
   "execution_count": 3,
   "metadata": {},
   "outputs": [
    {
     "name": "stdout",
     "output_type": "stream",
     "text": [
      "[(393,) (337,) (256,)]\n",
      "\n",
      "The internal representation:\n",
      "array([(393,), (337,), (256,)], dtype=[('density', '<i4')])\n"
     ]
    }
   ],
   "source": [
    "dt = np.dtype([('density', np.int32)])\n",
    "\n",
    "x = np.array([(393,), (337,), (256,)],\n",
    "             dtype=dt)\n",
    "\n",
    "print(x)\n",
    "\n",
    "print(\"\\nThe internal representation:\")\n",
    "print(repr(x))"
   ]
  },
  {
   "cell_type": "code",
   "execution_count": 4,
   "metadata": {},
   "outputs": [
    {
     "name": "stdout",
     "output_type": "stream",
     "text": [
      "[393 337 256]\n"
     ]
    }
   ],
   "source": [
    "print(x['density'])"
   ]
  },
  {
   "cell_type": "code",
   "execution_count": 5,
   "metadata": {},
   "outputs": [
    {
     "name": "stdout",
     "output_type": "stream",
     "text": [
      "[(393,) (337,) (256,)]\n"
     ]
    }
   ],
   "source": [
    "dt = np.dtype([('density', 'i4')])\n",
    "x = np.array([(393,), (337,), (256,)],\n",
    "             dtype=dt)\n",
    "print(x)"
   ]
  },
  {
   "cell_type": "code",
   "execution_count": 6,
   "metadata": {},
   "outputs": [
    {
     "name": "stdout",
     "output_type": "stream",
     "text": [
      "float64 = 8\n",
      "float64 > 8\n",
      "float64 = 8\n"
     ]
    }
   ],
   "source": [
    "# little-endian ordering\n",
    "dt = np.dtype('<d')\n",
    "print(dt.name, dt.byteorder, dt.itemsize)\n",
    "\n",
    "# big-endian ordering\n",
    "dt = np.dtype('>d')  \n",
    "print(dt.name, dt.byteorder, dt.itemsize)\n",
    "\n",
    "# native byte ordering\n",
    "dt = np.dtype('d') \n",
    "print(dt.name, dt.byteorder, dt.itemsize)"
   ]
  },
  {
   "cell_type": "code",
   "execution_count": 7,
   "metadata": {},
   "outputs": [
    {
     "name": "stdout",
     "output_type": "stream",
     "text": [
      "[(b'Netherlands', 393,  41526, 16928800)\n",
      " (b'Belgium', 337,  30510, 11007020)\n",
      " (b'United Kingdom', 256, 243610, 62262000)\n",
      " (b'Germany', 233, 357021, 81799600)]\n"
     ]
    }
   ],
   "source": [
    "dt = np.dtype([('country', 'S20'), ('density', 'i4'), ('area', 'i4'), ('population', 'i4')])\n",
    "population_table = np.array([\n",
    "    ('Netherlands', 393, 41526, 16928800),\n",
    "    ('Belgium', 337, 30510, 11007020),\n",
    "    ('United Kingdom', 256, 243610, 62262000),\n",
    "    ('Germany', 233, 357021, 81799600),\n",
    "    ('Liechtenstein', 205, 160, 32842),\n",
    "    ('Italy', 192, 301230, 59715625),\n",
    "    ('Switzerland', 177, 41290, 7301994),\n",
    "    ('Luxembourg', 173, 2586, 512000),\n",
    "    ('France', 111, 547030, 63601002),\n",
    "    ('Austria', 97, 83858, 8169929),\n",
    "    ('Greece', 81, 131940, 11606813),\n",
    "    ('Ireland', 65, 70280, 4581269),\n",
    "    ('Sweden', 20, 449964, 9515744),\n",
    "    ('Finland', 16, 338424, 5410233),\n",
    "    ('Norway', 13, 385252, 5033675)],\n",
    "    dtype=dt)\n",
    "print(population_table[:4])"
   ]
  },
  {
   "cell_type": "code",
   "execution_count": 8,
   "metadata": {},
   "outputs": [
    {
     "name": "stdout",
     "output_type": "stream",
     "text": [
      "[393 337 256 233 205 192 177 173 111  97  81  65  20  16  13]\n",
      "[b'Netherlands' b'Belgium' b'United Kingdom' b'Germany' b'Liechtenstein'\n",
      " b'Italy' b'Switzerland' b'Luxembourg' b'France' b'Austria' b'Greece'\n",
      " b'Ireland' b'Sweden' b'Finland' b'Norway']\n",
      "[243610 357021    160]\n"
     ]
    }
   ],
   "source": [
    "print(population_table['density'])\n",
    "print(population_table['country'])\n",
    "print(population_table['area'][2:5])"
   ]
  },
  {
   "cell_type": "code",
   "execution_count": 9,
   "metadata": {},
   "outputs": [],
   "source": [
    "np.savetxt(\"population_table.csv\",\n",
    "           population_table,\n",
    "           fmt=\"%s;%d;%d;%d\",           \n",
    "           delimiter=\";\")"
   ]
  },
  {
   "cell_type": "code",
   "execution_count": 10,
   "metadata": {},
   "outputs": [
    {
     "name": "stdout",
     "output_type": "stream",
     "text": [
      "[(\"b'Netherlands'\", 393,  41526, 16928800)\n",
      " (\"b'Belgium'\", 337,  30510, 11007020)\n",
      " (\"b'United Kingdom'\", 256, 243610, 62262000)\n",
      " (\"b'Germany'\", 233, 357021, 81799600)\n",
      " (\"b'Liechtenstein'\", 205,    160,    32842)\n",
      " (\"b'Italy'\", 192, 301230, 59715625)\n",
      " (\"b'Switzerland'\", 177,  41290,  7301994)\n",
      " (\"b'Luxembourg'\", 173,   2586,   512000)\n",
      " (\"b'France'\", 111, 547030, 63601002)\n",
      " (\"b'Austria'\",  97,  83858,  8169929)\n",
      " (\"b'Greece'\",  81, 131940, 11606813)\n",
      " (\"b'Ireland'\",  65,  70280,  4581269)\n",
      " (\"b'Sweden'\",  20, 449964,  9515744)\n",
      " (\"b'Finland'\",  16, 338424,  5410233)\n",
      " (\"b'Norway'\",  13, 385252,  5033675)]\n"
     ]
    }
   ],
   "source": [
    "dt = np.dtype([('country', np.compat.unicode, 20), ('density', 'i4'), ('area', 'i4'), ('population', 'i4')])\n",
    "\n",
    "x = np.genfromtxt(\"population_table.csv\",\n",
    "               dtype=dt,\n",
    "               delimiter=\";\")\n",
    "\n",
    "print(x)"
   ]
  },
  {
   "cell_type": "code",
   "execution_count": 11,
   "metadata": {},
   "outputs": [
    {
     "name": "stdout",
     "output_type": "stream",
     "text": [
      "[(\"b'Netherlands'\", 393,  41526, 16928800)\n",
      " (\"b'Belgium'\", 337,  30510, 11007020)\n",
      " (\"b'United Kingdom'\", 256, 243610, 62262000)\n",
      " (\"b'Germany'\", 233, 357021, 81799600)\n",
      " (\"b'Liechtenstein'\", 205,    160,    32842)\n",
      " (\"b'Italy'\", 192, 301230, 59715625)\n",
      " (\"b'Switzerland'\", 177,  41290,  7301994)\n",
      " (\"b'Luxembourg'\", 173,   2586,   512000)\n",
      " (\"b'France'\", 111, 547030, 63601002)\n",
      " (\"b'Austria'\",  97,  83858,  8169929)\n",
      " (\"b'Greece'\",  81, 131940, 11606813)\n",
      " (\"b'Ireland'\",  65,  70280,  4581269)\n",
      " (\"b'Sweden'\",  20, 449964,  9515744)\n",
      " (\"b'Finland'\",  16, 338424,  5410233)\n",
      " (\"b'Norway'\",  13, 385252,  5033675)]\n"
     ]
    }
   ],
   "source": [
    "dt = np.dtype([('country', np.compat.unicode, 20), ('density', 'i4'), ('area', 'i4'), ('population', 'i4')])\n",
    "\n",
    "x = np.loadtxt(\"population_table.csv\",\n",
    "               dtype=dt,\n",
    "               converters={0: lambda x: x.decode('utf-8')},\n",
    "               delimiter=\";\")\n",
    "\n",
    "print(x)"
   ]
  },
  {
   "cell_type": "code",
   "execution_count": null,
   "metadata": {},
   "outputs": [],
   "source": []
  }
 ],
 "metadata": {
  "kernelspec": {
   "display_name": "Python 3.10.7 64-bit",
   "language": "python",
   "name": "python3"
  },
  "language_info": {
   "codemirror_mode": {
    "name": "ipython",
    "version": 3
   },
   "file_extension": ".py",
   "mimetype": "text/x-python",
   "name": "python",
   "nbconvert_exporter": "python",
   "pygments_lexer": "ipython3",
   "version": "3.10.7"
  },
  "orig_nbformat": 4,
  "vscode": {
   "interpreter": {
    "hash": "f627b94a91bc915482d65575b2ea77ee7c3710ea9aacf075a668e3021bd93680"
   }
  }
 },
 "nbformat": 4,
 "nbformat_minor": 2
}
