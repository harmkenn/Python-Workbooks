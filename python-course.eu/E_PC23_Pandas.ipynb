{
 "cells": [
  {
   "cell_type": "code",
   "execution_count": 1,
   "metadata": {},
   "outputs": [],
   "source": [
    "# https://python-course.eu/numerical-programming/introduction-to-pandas.php"
   ]
  },
  {
   "cell_type": "code",
   "execution_count": 2,
   "metadata": {},
   "outputs": [
    {
     "data": {
      "text/plain": [
       "0    11\n",
       "1    28\n",
       "2    72\n",
       "3     3\n",
       "4     5\n",
       "5     8\n",
       "dtype: int64"
      ]
     },
     "execution_count": 2,
     "metadata": {},
     "output_type": "execute_result"
    }
   ],
   "source": [
    "import pandas as pd\n",
    "S = pd.Series([11, 28, 72, 3, 5, 8])\n",
    "S"
   ]
  },
  {
   "cell_type": "code",
   "execution_count": 3,
   "metadata": {},
   "outputs": [
    {
     "name": "stdout",
     "output_type": "stream",
     "text": [
      "RangeIndex(start=0, stop=6, step=1)\n",
      "[11 28 72  3  5  8]\n"
     ]
    }
   ],
   "source": [
    "print(S.index)\n",
    "print(S.values)"
   ]
  },
  {
   "cell_type": "code",
   "execution_count": 4,
   "metadata": {},
   "outputs": [
    {
     "name": "stdout",
     "output_type": "stream",
     "text": [
      "[11 28 72  3  5  8]\n",
      "[11 28 72  3  5  8]\n",
      "<class 'numpy.ndarray'> <class 'numpy.ndarray'>\n"
     ]
    }
   ],
   "source": [
    "import numpy as np\n",
    "X = np.array([11, 28, 72, 3, 5, 8])\n",
    "print(X)\n",
    "print(S.values)\n",
    "# both are the same type:\n",
    "print(type(S.values), type(X))"
   ]
  },
  {
   "cell_type": "code",
   "execution_count": 5,
   "metadata": {},
   "outputs": [
    {
     "data": {
      "text/plain": [
       "apples      20\n",
       "oranges     33\n",
       "cherries    52\n",
       "pears       10\n",
       "dtype: int64"
      ]
     },
     "execution_count": 5,
     "metadata": {},
     "output_type": "execute_result"
    }
   ],
   "source": [
    "fruits = ['apples', 'oranges', 'cherries', 'pears']\n",
    "quantities = [20, 33, 52, 10]\n",
    "S = pd.Series(quantities, index=fruits)\n",
    "S"
   ]
  },
  {
   "cell_type": "code",
   "execution_count": 6,
   "metadata": {},
   "outputs": [
    {
     "data": {
      "text/plain": [
       "0    20\n",
       "1    33\n",
       "2    52\n",
       "3    10\n",
       "dtype: int64"
      ]
     },
     "execution_count": 6,
     "metadata": {},
     "output_type": "execute_result"
    }
   ],
   "source": [
    "T = pd.Series(quantities)\n",
    "T"
   ]
  },
  {
   "cell_type": "code",
   "execution_count": 7,
   "metadata": {},
   "outputs": [
    {
     "name": "stdout",
     "output_type": "stream",
     "text": [
      "cherries       83.0\n",
      "oranges        46.0\n",
      "peaches         NaN\n",
      "pears          42.0\n",
      "raspberries     NaN\n",
      "dtype: float64\n"
     ]
    }
   ],
   "source": [
    "import pandas as pd\n",
    "fruits = ['peaches', 'oranges', 'cherries', 'pears']\n",
    "fruits2 = ['raspberries', 'oranges', 'cherries', 'pears']\n",
    "\n",
    "S = pd.Series([20, 33, 52, 10], index=fruits)\n",
    "S2 = pd.Series([17, 13, 31, 32], index=fruits2)\n",
    "print(S + S2)"
   ]
  },
  {
   "cell_type": "code",
   "execution_count": 8,
   "metadata": {},
   "outputs": [
    {
     "name": "stdout",
     "output_type": "stream",
     "text": [
      "apples     NaN\n",
      "armut      NaN\n",
      "cherries   NaN\n",
      "elma       NaN\n",
      "kiraz      NaN\n",
      "oranges    NaN\n",
      "pears      NaN\n",
      "portakal   NaN\n",
      "dtype: float64\n"
     ]
    }
   ],
   "source": [
    "fruits = ['apples', 'oranges', 'cherries', 'pears']\n",
    "\n",
    "fruits_tr = ['elma', 'portakal', 'kiraz', 'armut']\n",
    "\n",
    "S = pd.Series([20, 33, 52, 10], index=fruits)\n",
    "S2 = pd.Series([17, 13, 31, 32], index=fruits_tr)\n",
    "print(S + S2)"
   ]
  },
  {
   "cell_type": "code",
   "execution_count": 9,
   "metadata": {},
   "outputs": [
    {
     "name": "stdout",
     "output_type": "stream",
     "text": [
      "20\n"
     ]
    },
    {
     "data": {
      "text/plain": [
       "20"
      ]
     },
     "execution_count": 9,
     "metadata": {},
     "output_type": "execute_result"
    }
   ],
   "source": [
    "print(S['apples'])\n",
    "S['apples']"
   ]
  },
  {
   "cell_type": "code",
   "execution_count": 10,
   "metadata": {},
   "outputs": [
    {
     "data": {
      "text/plain": [
       "apples      20\n",
       "oranges     33\n",
       "cherries    52\n",
       "dtype: int64"
      ]
     },
     "execution_count": 10,
     "metadata": {},
     "output_type": "execute_result"
    }
   ],
   "source": [
    "S[['apples', 'oranges', 'cherries']]"
   ]
  },
  {
   "cell_type": "code",
   "execution_count": 11,
   "metadata": {},
   "outputs": [
    {
     "name": "stdout",
     "output_type": "stream",
     "text": [
      "apples       92\n",
      "oranges     144\n",
      "cherries    220\n",
      "pears        52\n",
      "dtype: int64\n",
      "======================\n",
      "apples      0.912945\n",
      "oranges     0.999912\n",
      "cherries    0.986628\n",
      "pears      -0.544021\n",
      "dtype: float64\n"
     ]
    }
   ],
   "source": [
    "import numpy as np\n",
    "print((S + 3) * 4)\n",
    "print(\"======================\")\n",
    "print(np.sin(S))"
   ]
  },
  {
   "cell_type": "code",
   "execution_count": 12,
   "metadata": {},
   "outputs": [
    {
     "data": {
      "text/plain": [
       "apples      2.995732\n",
       "oranges     3.496508\n",
       "cherries    3.951244\n",
       "pears       2.302585\n",
       "dtype: float64"
      ]
     },
     "execution_count": 12,
     "metadata": {},
     "output_type": "execute_result"
    }
   ],
   "source": [
    "S.apply(np.log)"
   ]
  },
  {
   "cell_type": "code",
   "execution_count": 13,
   "metadata": {},
   "outputs": [
    {
     "data": {
      "text/plain": [
       "apples      30\n",
       "oranges     43\n",
       "cherries    52\n",
       "pears       20\n",
       "dtype: int64"
      ]
     },
     "execution_count": 13,
     "metadata": {},
     "output_type": "execute_result"
    }
   ],
   "source": [
    "S.apply(lambda x: x if x > 50 else x+10 )"
   ]
  },
  {
   "cell_type": "code",
   "execution_count": 14,
   "metadata": {},
   "outputs": [
    {
     "data": {
      "text/plain": [
       "oranges     33\n",
       "cherries    52\n",
       "dtype: int64"
      ]
     },
     "execution_count": 14,
     "metadata": {},
     "output_type": "execute_result"
    }
   ],
   "source": [
    "S[S>30]"
   ]
  },
  {
   "cell_type": "code",
   "execution_count": 15,
   "metadata": {},
   "outputs": [
    {
     "data": {
      "text/plain": [
       "True"
      ]
     },
     "execution_count": 15,
     "metadata": {},
     "output_type": "execute_result"
    }
   ],
   "source": [
    "\"apples\" in S"
   ]
  },
  {
   "cell_type": "code",
   "execution_count": 16,
   "metadata": {},
   "outputs": [
    {
     "name": "stdout",
     "output_type": "stream",
     "text": [
      "London       8615246\n",
      "Berlin       3562166\n",
      "Madrid       3165235\n",
      "Rome         2874038\n",
      "Paris        2273305\n",
      "Vienna       1805681\n",
      "Bucharest    1803425\n",
      "Hamburg      1760433\n",
      "Budapest     1754000\n",
      "Warsaw       1740119\n",
      "Barcelona    1602386\n",
      "Munich       1493900\n",
      "Milan        1350680\n",
      "dtype: int64\n"
     ]
    }
   ],
   "source": [
    "cities = {\"London\":    8615246, \n",
    "          \"Berlin\":    3562166, \n",
    "          \"Madrid\":    3165235, \n",
    "          \"Rome\":      2874038, \n",
    "          \"Paris\":     2273305, \n",
    "          \"Vienna\":    1805681, \n",
    "          \"Bucharest\": 1803425, \n",
    "          \"Hamburg\":   1760433,\n",
    "          \"Budapest\":  1754000,\n",
    "          \"Warsaw\":    1740119,\n",
    "          \"Barcelona\": 1602386,\n",
    "          \"Munich\":    1493900,\n",
    "          \"Milan\":     1350680}\n",
    "\n",
    "city_series = pd.Series(cities)\n",
    "print(city_series)"
   ]
  },
  {
   "cell_type": "code",
   "execution_count": 17,
   "metadata": {},
   "outputs": [
    {
     "data": {
      "text/plain": [
       "London       8615246.0\n",
       "Paris        2273305.0\n",
       "Zurich             NaN\n",
       "Berlin       3562166.0\n",
       "Stuttgart          NaN\n",
       "Hamburg      1760433.0\n",
       "dtype: float64"
      ]
     },
     "execution_count": 17,
     "metadata": {},
     "output_type": "execute_result"
    }
   ],
   "source": [
    "my_cities = [\"London\", \"Paris\", \"Zurich\", \"Berlin\", \n",
    "             \"Stuttgart\", \"Hamburg\"]\n",
    "\n",
    "my_city_series = pd.Series(cities, \n",
    "                           index=my_cities)\n",
    "my_city_series"
   ]
  },
  {
   "cell_type": "code",
   "execution_count": 18,
   "metadata": {},
   "outputs": [
    {
     "data": {
      "text/plain": [
       "London     8615246\n",
       "Paris      2273305\n",
       "Berlin     3562166\n",
       "Hamburg    1760433\n",
       "dtype: int64"
      ]
     },
     "execution_count": 18,
     "metadata": {},
     "output_type": "execute_result"
    }
   ],
   "source": [
    "my_cities = [\"London\", \"Paris\", \"Berlin\", \"Hamburg\"]\n",
    "\n",
    "my_city_series = pd.Series(cities, \n",
    "                           index=my_cities)\n",
    "my_city_series"
   ]
  },
  {
   "cell_type": "code",
   "execution_count": 19,
   "metadata": {},
   "outputs": [
    {
     "name": "stdout",
     "output_type": "stream",
     "text": [
      "London       False\n",
      "Paris        False\n",
      "Zurich        True\n",
      "Berlin       False\n",
      "Stuttgart     True\n",
      "Hamburg      False\n",
      "dtype: bool\n"
     ]
    }
   ],
   "source": [
    "my_cities = [\"London\", \"Paris\", \"Zurich\", \"Berlin\", \n",
    "             \"Stuttgart\", \"Hamburg\"]\n",
    "\n",
    "my_city_series = pd.Series(cities, \n",
    "                           index=my_cities)\n",
    "print(my_city_series.isnull())"
   ]
  },
  {
   "cell_type": "code",
   "execution_count": 20,
   "metadata": {},
   "outputs": [
    {
     "name": "stdout",
     "output_type": "stream",
     "text": [
      "London        True\n",
      "Paris         True\n",
      "Zurich       False\n",
      "Berlin        True\n",
      "Stuttgart    False\n",
      "Hamburg       True\n",
      "dtype: bool\n"
     ]
    }
   ],
   "source": [
    "print(my_city_series.notnull())"
   ]
  },
  {
   "cell_type": "code",
   "execution_count": 21,
   "metadata": {},
   "outputs": [
    {
     "name": "stdout",
     "output_type": "stream",
     "text": [
      "a    23.0\n",
      "b    45.0\n",
      "c     NaN\n",
      "d     0.0\n",
      "dtype: float64\n"
     ]
    }
   ],
   "source": [
    "d = {\"a\":23, \"b\":45, \"c\":None, \"d\":0}\n",
    "S = pd.Series(d)\n",
    "print(S)"
   ]
  },
  {
   "cell_type": "code",
   "execution_count": 22,
   "metadata": {},
   "outputs": [
    {
     "data": {
      "text/plain": [
       "a    False\n",
       "b    False\n",
       "c     True\n",
       "d    False\n",
       "dtype: bool"
      ]
     },
     "execution_count": 22,
     "metadata": {},
     "output_type": "execute_result"
    }
   ],
   "source": [
    "pd.isnull(S)"
   ]
  },
  {
   "cell_type": "code",
   "execution_count": 23,
   "metadata": {},
   "outputs": [
    {
     "data": {
      "text/plain": [
       "a     True\n",
       "b     True\n",
       "c    False\n",
       "d     True\n",
       "dtype: bool"
      ]
     },
     "execution_count": 23,
     "metadata": {},
     "output_type": "execute_result"
    }
   ],
   "source": [
    "pd.notnull(S)"
   ]
  },
  {
   "cell_type": "code",
   "execution_count": 24,
   "metadata": {},
   "outputs": [
    {
     "name": "stdout",
     "output_type": "stream",
     "text": [
      "London     8615246.0\n",
      "Paris      2273305.0\n",
      "Berlin     3562166.0\n",
      "Hamburg    1760433.0\n",
      "dtype: float64\n"
     ]
    }
   ],
   "source": [
    "print(my_city_series.dropna())"
   ]
  },
  {
   "cell_type": "code",
   "execution_count": 25,
   "metadata": {},
   "outputs": [
    {
     "name": "stdout",
     "output_type": "stream",
     "text": [
      "London       8615246.0\n",
      "Paris        2273305.0\n",
      "Zurich             0.0\n",
      "Berlin       3562166.0\n",
      "Stuttgart          0.0\n",
      "Hamburg      1760433.0\n",
      "dtype: float64\n"
     ]
    }
   ],
   "source": [
    "print(my_city_series.fillna(0))"
   ]
  },
  {
   "cell_type": "code",
   "execution_count": 26,
   "metadata": {},
   "outputs": [
    {
     "data": {
      "text/plain": [
       "London       8615246.0\n",
       "Paris        2273305.0\n",
       "Zurich        378884.0\n",
       "Berlin       3562166.0\n",
       "Stuttgart     597939.0\n",
       "Hamburg      1760433.0\n",
       "dtype: float64"
      ]
     },
     "execution_count": 26,
     "metadata": {},
     "output_type": "execute_result"
    }
   ],
   "source": [
    "missing_cities = {\"Stuttgart\":597939, \"Zurich\":378884}\n",
    "my_city_series.fillna(missing_cities)"
   ]
  },
  {
   "cell_type": "code",
   "execution_count": 27,
   "metadata": {},
   "outputs": [
    {
     "name": "stdout",
     "output_type": "stream",
     "text": [
      "London       8615246\n",
      "Paris        2273305\n",
      "Zurich        378884\n",
      "Berlin       3562166\n",
      "Stuttgart     597939\n",
      "Hamburg      1760433\n",
      "dtype: int32\n"
     ]
    }
   ],
   "source": [
    "cities = {\"London\":   8615246, \n",
    "          \"Berlin\":   3562166, \n",
    "          \"Madrid\":   3165235, \n",
    "          \"Rome\":     2874038, \n",
    "          \"Paris\":    2273305, \n",
    "          \"Vienna\":   1805681, \n",
    "          \"Bucharest\":1803425, \n",
    "          \"Hamburg\":  1760433,\n",
    "          \"Budapest\": 1754000,\n",
    "          \"Warsaw\":   1740119,\n",
    "          \"Barcelona\":1602386,\n",
    "          \"Munich\":   1493900,\n",
    "          \"Milan\":    1350680}\n",
    "\n",
    "my_cities = [\"London\", \"Paris\", \"Zurich\", \"Berlin\", \n",
    "             \"Stuttgart\", \"Hamburg\"]\n",
    "\n",
    "my_city_series = pd.Series(cities, \n",
    "                           index=my_cities)\n",
    "my_city_series = my_city_series.fillna(missing_cities).astype(int)\n",
    "print(my_city_series)"
   ]
  }
 ],
 "metadata": {
  "kernelspec": {
   "display_name": "Python 3.10.7 64-bit",
   "language": "python",
   "name": "python3"
  },
  "language_info": {
   "codemirror_mode": {
    "name": "ipython",
    "version": 3
   },
   "file_extension": ".py",
   "mimetype": "text/x-python",
   "name": "python",
   "nbconvert_exporter": "python",
   "pygments_lexer": "ipython3",
   "version": "3.10.7"
  },
  "orig_nbformat": 4,
  "vscode": {
   "interpreter": {
    "hash": "f627b94a91bc915482d65575b2ea77ee7c3710ea9aacf075a668e3021bd93680"
   }
  }
 },
 "nbformat": 4,
 "nbformat_minor": 2
}
