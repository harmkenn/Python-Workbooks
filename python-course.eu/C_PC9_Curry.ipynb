{
  "cells": [
    {
      "cell_type": "markdown",
      "metadata": {
        "colab_type": "text",
        "id": "view-in-github"
      },
      "source": [
        "<a href=\"https://colab.research.google.com/github/harmkenn/Python-Workbooks/blob/main/python-course.eu/C_PC9_Curry.ipynb\" target=\"_parent\"><img src=\"https://colab.research.google.com/assets/colab-badge.svg\" alt=\"Open In Colab\"/></a>"
      ]
    },
    {
      "cell_type": "code",
      "execution_count": null,
      "metadata": {
        "id": "t_rebNDi4WaV"
      },
      "outputs": [],
      "source": [
        "# https://python-course.eu/advanced-python/currying-in-python.php"
      ]
    },
    {
      "cell_type": "code",
      "execution_count": 1,
      "metadata": {
        "id": "-EO7Htdf4iYO"
      },
      "outputs": [],
      "source": [
        "def compose(g, f):\n",
        "    def h(x):\n",
        "        return g(f(x))\n",
        "    return h"
      ]
    },
    {
      "cell_type": "code",
      "execution_count": 2,
      "metadata": {
        "colab": {
          "base_uri": "https://localhost:8080/"
        },
        "id": "sGVzvIlK4yTV",
        "outputId": "a3021740-56df-466b-e23f-798c7093b9d4"
      },
      "outputs": [
        {
          "name": "stdout",
          "output_type": "stream",
          "text": [
            "44.5 50.0\n"
          ]
        }
      ],
      "source": [
        "def celsius2fahrenheit(t):\n",
        "    return 1.8 * t + 32\n",
        "def readjust(t):\n",
        "    return 0.9 * t - 0.5\n",
        "convert = compose(readjust, celsius2fahrenheit)\n",
        "print(convert(10), celsius2fahrenheit(10))"
      ]
    },
    {
      "cell_type": "code",
      "execution_count": 4,
      "metadata": {
        "colab": {
          "base_uri": "https://localhost:8080/"
        },
        "id": "mriLAtxZ5Mg8",
        "outputId": "3385620b-3cd4-42c0-9488-477c70cd9fe8"
      },
      "outputs": [
        {
          "name": "stdout",
          "output_type": "stream",
          "text": [
            "47.3 50.0\n"
          ]
        }
      ],
      "source": [
        "convert2 = compose(celsius2fahrenheit, readjust)\n",
        "print(convert2(10), celsius2fahrenheit(10))"
      ]
    },
    {
      "cell_type": "code",
      "execution_count": 5,
      "metadata": {
        "colab": {
          "base_uri": "https://localhost:8080/"
        },
        "id": "8h5rtu465lrk",
        "outputId": "78d001f3-3343-4193-f546-2d339639087f"
      },
      "outputs": [
        {
          "name": "stdout",
          "output_type": "stream",
          "text": [
            "weight (kg) 72\n",
            "height (m) 1.7\n",
            "Normal (healthy weight)\n",
            "Another run? (y/n)n\n"
          ]
        }
      ],
      "source": [
        "def compose(g, f):\n",
        "    def h(*args, **kwargs):\n",
        "        return g(f(*args, **kwargs))\n",
        "    return h\n",
        "def BMI(weight, height):\n",
        "    return weight / height**2\n",
        "def evaluate_BMI(bmi):\n",
        "    if bmi < 15:\n",
        "        return \"Very severely underweight\"\n",
        "    elif bmi < 16:\n",
        "        return \"Severely underweight\"\n",
        "    elif bmi < 18.5:\n",
        "        return \"Underweight\"\n",
        "    elif bmi < 25:\n",
        "        return \"Normal (healthy weight)\"\n",
        "    elif bmi < 30:\n",
        "        return \"Overweight\"\n",
        "    elif bmi < 35:\n",
        "        return \"Obese Class I (Moderately obese)\"\n",
        "    elif bmi < 40:\n",
        "        return \"Obese Class II (Severely obese)\"\n",
        "    else:\n",
        "        return \"Obese Class III (Very severely obese)\"\n",
        "f = compose(evaluate_BMI, BMI)\n",
        "again = \"y\"\n",
        "while again == \"y\":\n",
        "    weight = float(input(\"weight (kg) \"))\n",
        "    height = float(input(\"height (m) \"))\n",
        "    print(f(weight, height))\n",
        "    again = input(\"Another run? (y/n)\")"
      ]
    },
    {
      "cell_type": "code",
      "execution_count": 6,
      "metadata": {
        "colab": {
          "base_uri": "https://localhost:8080/"
        },
        "id": "amFrUUBRAhi3",
        "outputId": "fe233818-2469-432a-cbba-210f2ac35f22"
      },
      "outputs": [
        {
          "name": "stdout",
          "output_type": "stream",
          "text": [
            "5.571428571428571\n",
            "4.666666666666667\n",
            "4.666666666666667\n"
          ]
        }
      ],
      "source": [
        "def arimean(*args):\n",
        "    return sum(args) / len(args)\n",
        "def curry(func):\n",
        "    # to keep the name of the curried function:\n",
        "    curry.__curried_func_name__ = func.__name__\n",
        "    f_args, f_kwargs = [], {}\n",
        "    def f(*args, **kwargs):\n",
        "        nonlocal f_args, f_kwargs\n",
        "        if args or kwargs:\n",
        "            f_args += args\n",
        "            f_kwargs.update(kwargs)\n",
        "            return f\n",
        "        else:\n",
        "            result = func(*f_args, *f_kwargs)\n",
        "            f_args, f_kwargs = [], {}\n",
        "            return result\n",
        "    return f\n",
        "curried_arimean = curry(arimean)\n",
        "curried_arimean(2)(5)(9)(4, 5)\n",
        "# it will keep on currying:\n",
        "curried_arimean(5, 9)\n",
        "print(curried_arimean())\n",
        "# calculating the arithmetic mean of 3, 4, and 7\n",
        "print(curried_arimean(3)(4)(7)())\n",
        "# calculating the arithmetic mean of 4, 3, and 7\n",
        "print(curried_arimean(4)(3, 7)())"
      ]
    },
    {
      "cell_type": "code",
      "execution_count": 7,
      "metadata": {
        "colab": {
          "base_uri": "https://localhost:8080/"
        },
        "id": "BwhB0zf1Aw86",
        "outputId": "ac4da8d1-f8b7-4de0-f9e5-7a589c4ce5b0"
      },
      "outputs": [
        {
          "name": "stdout",
          "output_type": "stream",
          "text": [
            "5.571428571428571\n",
            "4.666666666666667\n",
            "4.666666666666667\n"
          ]
        }
      ],
      "source": [
        "print(arimean(2, 5, 9, 4, 5, 5, 9))\n",
        "print(arimean(3, 4, 7))\n",
        "print(arimean(4, 3, 7))"
      ]
    }
  ],
  "metadata": {
    "colab": {
      "authorship_tag": "ABX9TyNb3J3mxvbx7EMhdRC+VGmP",
      "collapsed_sections": [],
      "include_colab_link": true,
      "name": "C_PC9_Curry.ipynb",
      "provenance": []
    },
    "kernelspec": {
      "display_name": "Python 3",
      "name": "python3"
    },
    "language_info": {
      "codemirror_mode": {
        "name": "ipython",
        "version": 3
      },
      "file_extension": ".py",
      "mimetype": "text/x-python",
      "name": "python",
      "nbconvert_exporter": "python",
      "pygments_lexer": "ipython3",
      "version": "3.11.4"
    }
  },
  "nbformat": 4,
  "nbformat_minor": 0
}
