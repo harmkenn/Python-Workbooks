{
 "cells": [
  {
   "cell_type": "code",
   "execution_count": null,
   "metadata": {},
   "outputs": [],
   "source": [
    "# https://python-course.eu/numerical-programming/binning-in-python-and-pandas.php"
   ]
  },
  {
   "cell_type": "code",
   "execution_count": 1,
   "metadata": {},
   "outputs": [],
   "source": [
    "def create_bins(lower_bound, width, quantity):\n",
    "    \"\"\" create_bins returns an equal-width (distance) partitioning. \n",
    "        It returns an ascending list of tuples, representing the intervals.\n",
    "        A tuple bins[i], i.e. (bins[i][0], bins[i][1])  with i > 0 \n",
    "        and i < quantity, satisfies the following conditions:\n",
    "            (1) bins[i][0] + width == bins[i][1]\n",
    "            (2) bins[i-1][0] + width == bins[i][0] and\n",
    "                bins[i-1][1] + width == bins[i][1]\n",
    "    \"\"\"\n",
    "    \n",
    "\n",
    "    bins = []\n",
    "    for low in range(lower_bound, \n",
    "                     lower_bound + quantity*width + 1, width):\n",
    "        bins.append((low, low+width))\n",
    "    return bins"
   ]
  },
  {
   "cell_type": "code",
   "execution_count": 2,
   "metadata": {},
   "outputs": [
    {
     "data": {
      "text/plain": [
       "[(10, 20), (20, 30), (30, 40), (40, 50), (50, 60), (60, 70)]"
      ]
     },
     "execution_count": 2,
     "metadata": {},
     "output_type": "execute_result"
    }
   ],
   "source": [
    "bins = create_bins(lower_bound=10,\n",
    "                   width=10,\n",
    "                   quantity=5)\n",
    "\n",
    "bins"
   ]
  },
  {
   "cell_type": "code",
   "execution_count": 3,
   "metadata": {},
   "outputs": [],
   "source": [
    "def find_bin(value, bins):\n",
    "    \"\"\" bins is a list of tuples, like [(0,20), (20, 40), (40, 60)],\n",
    "        binning returns the smallest index i of bins so that\n",
    "        bin[i][0] <= value < bin[i][1]\n",
    "    \"\"\"\n",
    "    \n",
    "    for i in range(0, len(bins)):\n",
    "        if bins[i][0] <= value < bins[i][1]:\n",
    "            return i\n",
    "    return -1"
   ]
  },
  {
   "cell_type": "code",
   "execution_count": 4,
   "metadata": {},
   "outputs": [
    {
     "name": "stdout",
     "output_type": "stream",
     "text": [
      "[(50, 54), (54, 58), (58, 62), (62, 66), (66, 70), (70, 74), (74, 78), (78, 82), (82, 86), (86, 90), (90, 94)]\n",
      "73.4 5 (70, 74)\n",
      "69.3 4 (66, 70)\n",
      "64.9 3 (62, 66)\n",
      "75.6 6 (74, 78)\n",
      "74.9 6 (74, 78)\n",
      "80.3 7 (78, 82)\n",
      "78.6 7 (78, 82)\n",
      "84.1 8 (82, 86)\n",
      "88.9 9 (86, 90)\n",
      "90.3 10 (90, 94)\n",
      "83.4 8 (82, 86)\n",
      "69.3 4 (66, 70)\n",
      "52.4 0 (50, 54)\n",
      "58.3 2 (58, 62)\n",
      "67.4 4 (66, 70)\n",
      "74.0 6 (74, 78)\n",
      "89.3 9 (86, 90)\n",
      "63.4 3 (62, 66)\n",
      "Counter({4: 3, 6: 3, 3: 2, 7: 2, 8: 2, 9: 2, 5: 1, 10: 1, 0: 1, 2: 1})\n"
     ]
    }
   ],
   "source": [
    "from collections import Counter\n",
    "\n",
    "bins = create_bins(lower_bound=50,\n",
    "                   width=4,\n",
    "                   quantity=10)\n",
    "\n",
    "print(bins)\n",
    "\n",
    "weights_of_persons = [73.4, 69.3, 64.9, 75.6, 74.9, 80.3, \n",
    "                      78.6, 84.1, 88.9, 90.3, 83.4, 69.3, \n",
    "                      52.4, 58.3, 67.4, 74.0, 89.3, 63.4]\n",
    "\n",
    "binned_weights = []\n",
    "\n",
    "for value in weights_of_persons:\n",
    "    bin_index = find_bin(value, bins)\n",
    "    print(value, bin_index, bins[bin_index])\n",
    "    binned_weights.append(bin_index)\n",
    "    \n",
    "frequencies = Counter(binned_weights)\n",
    "print(frequencies)"
   ]
  },
  {
   "cell_type": "code",
   "execution_count": 5,
   "metadata": {},
   "outputs": [
    {
     "name": "stdout",
     "output_type": "stream",
     "text": [
      "[(70, 74], (66, 70], (62, 66], (74, 78], (74, 78], ..., (58, 62], (66, 70], (70, 74], (86, 90], (62, 66]]\n",
      "Length: 18\n",
      "Categories (11, interval[int64, right]): [(50, 54] < (54, 58] < (58, 62] < (62, 66] ... (78, 82] < (82, 86] < (86, 90] < (90, 94]]\n"
     ]
    }
   ],
   "source": [
    "import pandas as pd\n",
    "\n",
    "bins2 = pd.IntervalIndex.from_tuples(bins)\n",
    "categorical_object = pd.cut(weights_of_persons, bins2)\n",
    "print(categorical_object)"
   ]
  },
  {
   "cell_type": "code",
   "execution_count": 6,
   "metadata": {},
   "outputs": [
    {
     "name": "stdout",
     "output_type": "stream",
     "text": [
      "[[70, 74), [66, 70), [62, 66), [74, 78), [74, 78), ..., [58, 62), [66, 70), [74, 78), [86, 90), [62, 66)]\n",
      "Length: 18\n",
      "Categories (11, interval[int64, left]): [[50, 54) < [54, 58) < [58, 62) < [62, 66) ... [78, 82) < [82, 86) < [86, 90) < [90, 94)]\n"
     ]
    }
   ],
   "source": [
    "bins2 = pd.IntervalIndex.from_tuples(bins, closed=\"left\")\n",
    "categorical_object = pd.cut(weights_of_persons, bins2)\n",
    "print(categorical_object)"
   ]
  },
  {
   "cell_type": "code",
   "execution_count": 7,
   "metadata": {},
   "outputs": [
    {
     "name": "stdout",
     "output_type": "stream",
     "text": [
      "[(71.35, 73.456], (69.244, 71.35], (62.928, 65.033], (75.561, 77.667], (73.456, 75.561], ..., (56.611, 58.717], (67.139, 69.244], (73.456, 75.561], (88.194, 90.3], (62.928, 65.033]]\n",
      "Length: 18\n",
      "Categories (18, interval[float64, right]): [(52.362, 54.506] < (54.506, 56.611] < (56.611, 58.717] < (58.717, 60.822] ... (81.878, 83.983] < (83.983, 86.089] < (86.089, 88.194] < (88.194, 90.3]]\n"
     ]
    }
   ],
   "source": [
    "categorical_object = pd.cut(weights_of_persons, 18)\n",
    "\n",
    "print(categorical_object)"
   ]
  },
  {
   "cell_type": "code",
   "execution_count": 8,
   "metadata": {},
   "outputs": [
    {
     "name": "stdout",
     "output_type": "stream",
     "text": [
      "[50, 54, 58, 62, 66, 70, 74, 78, 82, 86, 90, 94]\n",
      "[[70, 74), [66, 70), [62, 66), [74, 78), [74, 78), ..., [58, 62), [66, 70), [74, 78), [86, 90), [62, 66)]\n",
      "Length: 18\n",
      "Categories (11, interval[int64, left]): [[50, 54) < [54, 58) < [58, 62) < [62, 66) ... [78, 82) < [82, 86) < [86, 90) < [90, 94)]\n"
     ]
    }
   ],
   "source": [
    "sequence_of_scalars = [ x[0] for x in bins]\n",
    "sequence_of_scalars.append(bins[-1][1])\n",
    "print(sequence_of_scalars)\n",
    "categorical_object = pd.cut(weights_of_persons, \n",
    "                            sequence_of_scalars,\n",
    "                            right=False)\n",
    "print(categorical_object)"
   ]
  },
  {
   "cell_type": "code",
   "execution_count": 9,
   "metadata": {},
   "outputs": [
    {
     "data": {
      "text/plain": [
       "[66, 70)    3\n",
       "[74, 78)    3\n",
       "[62, 66)    2\n",
       "[78, 82)    2\n",
       "[82, 86)    2\n",
       "[86, 90)    2\n",
       "[50, 54)    1\n",
       "[58, 62)    1\n",
       "[70, 74)    1\n",
       "[90, 94)    1\n",
       "[54, 58)    0\n",
       "dtype: int64"
      ]
     },
     "execution_count": 9,
     "metadata": {},
     "output_type": "execute_result"
    }
   ],
   "source": [
    "pd.value_counts(categorical_object)"
   ]
  },
  {
   "cell_type": "code",
   "execution_count": 10,
   "metadata": {},
   "outputs": [
    {
     "data": {
      "text/plain": [
       "array([ 5,  4,  3,  6,  6,  7,  7,  8,  9, 10,  8,  4,  0,  2,  4,  6,  9,\n",
       "        3], dtype=int8)"
      ]
     },
     "execution_count": 10,
     "metadata": {},
     "output_type": "execute_result"
    }
   ],
   "source": [
    "labels = categorical_object.codes\n",
    "labels"
   ]
  },
  {
   "cell_type": "code",
   "execution_count": 11,
   "metadata": {},
   "outputs": [
    {
     "data": {
      "text/plain": [
       "IntervalIndex([[50, 54), [54, 58), [58, 62), [62, 66), [66, 70) ... [74, 78), [78, 82), [82, 86), [86, 90), [90, 94)], dtype='interval[int64, left]')"
      ]
     },
     "execution_count": 11,
     "metadata": {},
     "output_type": "execute_result"
    }
   ],
   "source": [
    "categories = categorical_object.categories\n",
    "categories"
   ]
  },
  {
   "cell_type": "code",
   "execution_count": 12,
   "metadata": {},
   "outputs": [
    {
     "name": "stdout",
     "output_type": "stream",
     "text": [
      "73.4 5 [70, 74)\n",
      "69.3 4 [66, 70)\n",
      "64.9 3 [62, 66)\n",
      "75.6 6 [74, 78)\n",
      "74.9 6 [74, 78)\n",
      "80.3 7 [78, 82)\n",
      "78.6 7 [78, 82)\n",
      "84.1 8 [82, 86)\n",
      "88.9 9 [86, 90)\n",
      "90.3 10 [90, 94)\n",
      "83.4 8 [82, 86)\n",
      "69.3 4 [66, 70)\n",
      "52.4 0 [50, 54)\n",
      "58.3 2 [58, 62)\n",
      "67.4 4 [66, 70)\n",
      "74.0 6 [74, 78)\n",
      "89.3 9 [86, 90)\n",
      "63.4 3 [62, 66)\n"
     ]
    }
   ],
   "source": [
    "for index in range(len(weights_of_persons)):\n",
    "    label_index = labels[index]\n",
    "    print(weights_of_persons[index], label_index, categories[label_index] )"
   ]
  },
  {
   "cell_type": "code",
   "execution_count": 13,
   "metadata": {},
   "outputs": [
    {
     "data": {
      "text/plain": [
       "IntervalIndex([[50, 54), [54, 58), [58, 62), [62, 66), [66, 70) ... [74, 78), [78, 82), [82, 86), [86, 90), [90, 94)], dtype='interval[int64, left]')"
      ]
     },
     "execution_count": 13,
     "metadata": {},
     "output_type": "execute_result"
    }
   ],
   "source": [
    "categorical_object.categories"
   ]
  },
  {
   "cell_type": "code",
   "execution_count": 14,
   "metadata": {},
   "outputs": [
    {
     "data": {
      "text/plain": [
       "none               6\n",
       "cum laude          2\n",
       "summa cum laude    2\n",
       "magna cum laude    1\n",
       "dtype: int64"
      ]
     },
     "execution_count": 14,
     "metadata": {},
     "output_type": "execute_result"
    }
   ],
   "source": [
    "degrees = [\"none\", \"cum laude\", \"magna cum laude\", \"summa cum laude\"]\n",
    "student_results = [3.93, 3.24, 2.80, 2.83, 3.91, 3.698, 3.731, 3.25, 3.24, 3.82, 3.22]\n",
    "\n",
    "student_results_degrees = pd.cut(student_results, [0, 3.6, 3.8, 3.9, 4.0], labels=degrees)\n",
    "pd.value_counts(student_results_degrees)"
   ]
  }
 ],
 "metadata": {
  "kernelspec": {
   "display_name": "Python 3.10.7 64-bit",
   "language": "python",
   "name": "python3"
  },
  "language_info": {
   "codemirror_mode": {
    "name": "ipython",
    "version": 3
   },
   "file_extension": ".py",
   "mimetype": "text/x-python",
   "name": "python",
   "nbconvert_exporter": "python",
   "pygments_lexer": "ipython3",
   "version": "3.10.7"
  },
  "orig_nbformat": 4,
  "vscode": {
   "interpreter": {
    "hash": "f627b94a91bc915482d65575b2ea77ee7c3710ea9aacf075a668e3021bd93680"
   }
  }
 },
 "nbformat": 4,
 "nbformat_minor": 2
}
