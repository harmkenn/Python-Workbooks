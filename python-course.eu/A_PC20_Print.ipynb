{
  "cells": [
    {
      "cell_type": "markdown",
      "metadata": {
        "colab_type": "text",
        "id": "view-in-github"
      },
      "source": [
        "<a href=\"https://colab.research.google.com/github/harmkenn/Python-Workbooks/blob/main/A_PC20_Print.ipynb\" target=\"_parent\"><img src=\"https://colab.research.google.com/assets/colab-badge.svg\" alt=\"Open In Colab\"/></a>"
      ]
    },
    {
      "cell_type": "code",
      "execution_count": null,
      "metadata": {
        "colab": {
          "base_uri": "https://localhost:8080/"
        },
        "id": "THeiTJq_nmFZ",
        "outputId": "c25fe71c-ad75-4d4d-8d8a-e3e5667ee4bf"
      },
      "outputs": [
        {
          "name": "stdout",
          "output_type": "stream",
          "text": [
            "42\n"
          ]
        }
      ],
      "source": [
        "print(42)"
      ]
    },
    {
      "cell_type": "code",
      "execution_count": null,
      "metadata": {
        "colab": {
          "base_uri": "https://localhost:8080/"
        },
        "id": "j_tG4WtloLNC",
        "outputId": "12ed7fe8-11a9-425b-a276-52febe402d85"
      },
      "outputs": [
        {
          "name": "stdout",
          "output_type": "stream",
          "text": [
            "42\n"
          ]
        }
      ],
      "source": [
        "print(42)"
      ]
    },
    {
      "cell_type": "code",
      "execution_count": null,
      "metadata": {
        "id": "tlW21TzFoTF4"
      },
      "outputs": [],
      "source": []
    },
    {
      "cell_type": "markdown",
      "metadata": {
        "id": "BRtAfyxpoUgf"
      },
      "source": [
        "# https://python-course.eu/python-tutorial/output-with-print.php"
      ]
    },
    {
      "cell_type": "code",
      "execution_count": null,
      "metadata": {
        "colab": {
          "base_uri": "https://localhost:8080/"
        },
        "id": "kIzN22cLoZ5l",
        "outputId": "49957d9c-6215-45f4-a287-76153b32e398"
      },
      "outputs": [
        {
          "name": "stdout",
          "output_type": "stream",
          "text": [
            "a = \n",
            " 3.564\n"
          ]
        }
      ],
      "source": [
        "a =  3.564\n",
        "print(\"a = \\n\", a)"
      ]
    },
    {
      "cell_type": "code",
      "execution_count": null,
      "metadata": {
        "id": "yIEuX2YDpwRG"
      },
      "outputs": [],
      "source": []
    },
    {
      "cell_type": "code",
      "execution_count": null,
      "metadata": {
        "colab": {
          "base_uri": "https://localhost:8080/"
        },
        "id": "TGoJhAwppE2U",
        "outputId": "ef7bf0d5-a0ed-40a8-afbc-93fc4e01f8a4"
      },
      "outputs": [
        {
          "name": "stdout",
          "output_type": "stream",
          "text": [
            "192.168.178.42\n"
          ]
        }
      ],
      "source": [
        "print(192,168,178,42,sep=\".\")"
      ]
    },
    {
      "cell_type": "code",
      "execution_count": null,
      "metadata": {
        "colab": {
          "base_uri": "https://localhost:8080/"
        },
        "id": "7T-69jA_pxkx",
        "outputId": "4e2e1c19-31cf-4e57-8aa3-6a4ad51161d0"
      },
      "outputs": [
        {
          "name": "stdout",
          "output_type": "stream",
          "text": [
            "0 :-) 1 :-) 2 :-) 3 :-) "
          ]
        }
      ],
      "source": [
        "for i in range(4):\n",
        "     print(i, end=\" :-) \") "
      ]
    },
    {
      "cell_type": "code",
      "execution_count": null,
      "metadata": {
        "id": "hYzdcIMCp3KU"
      },
      "outputs": [],
      "source": []
    },
    {
      "cell_type": "markdown",
      "metadata": {
        "id": "Bu_-OMF7p893"
      },
      "source": [
        "# https://python-course.eu/python-tutorial/formatted-output.php"
      ]
    },
    {
      "cell_type": "code",
      "execution_count": null,
      "metadata": {
        "colab": {
          "base_uri": "https://localhost:8080/"
        },
        "id": "ltyAY1p3qBFr",
        "outputId": "7934abb7-9809-48f1-8e68-b74e4814650c"
      },
      "outputs": [
        {
          "name": "stdout",
          "output_type": "stream",
          "text": [
            "459 0.098 44.982\n"
          ]
        }
      ],
      "source": [
        "q = 459\n",
        "p = 0.098\n",
        "print(q, p, p * q) "
      ]
    },
    {
      "cell_type": "code",
      "execution_count": null,
      "metadata": {
        "colab": {
          "base_uri": "https://localhost:8080/"
        },
        "id": "QcTwr70xqZpz",
        "outputId": "05308bd4-2885-404e-8020-3009c70c74ce"
      },
      "outputs": [
        {
          "name": "stdout",
          "output_type": "stream",
          "text": [
            "459,0.098,44.982\n"
          ]
        }
      ],
      "source": [
        "print(q, p, p * q, sep=\",\")"
      ]
    },
    {
      "cell_type": "code",
      "execution_count": null,
      "metadata": {
        "colab": {
          "base_uri": "https://localhost:8080/",
          "height": 36
        },
        "id": "Z3c2E0eRrlnR",
        "outputId": "84701e08-352e-46c5-9a73-840d43577c58"
      },
      "outputs": [
        {
          "data": {
            "application/vnd.google.colaboratory.intrinsic+json": {
              "type": "string"
            },
            "text/plain": [
              "'First argument: 47, second one: 11'"
            ]
          },
          "execution_count": 9,
          "metadata": {},
          "output_type": "execute_result"
        }
      ],
      "source": [
        "\"First argument: {0}, second one: {1}\".format(47,11) "
      ]
    },
    {
      "cell_type": "code",
      "execution_count": null,
      "metadata": {
        "colab": {
          "base_uri": "https://localhost:8080/"
        },
        "id": "ZGsiJckqr19G",
        "outputId": "5807b8f1-a04b-448a-aca9-689f7d16571b"
      },
      "outputs": [
        {
          "name": "stdout",
          "output_type": "stream",
          "text": [
            " 3.561E+02\n"
          ]
        }
      ],
      "source": [
        "print(\"%10.3E\"% (356.08977))"
      ]
    },
    {
      "cell_type": "code",
      "execution_count": null,
      "metadata": {
        "colab": {
          "base_uri": "https://localhost:8080/"
        },
        "id": "OgNmDWYtukPT",
        "outputId": "31a21aa4-912e-4244-dc68-2c7565a2cc79"
      },
      "outputs": [
        {
          "name": "stdout",
          "output_type": "stream",
          "text": [
            "Price: $   356.09\n"
          ]
        }
      ],
      "source": [
        "s = \"Price: $ %8.2f\"% (356.08977)\n",
        "print(s)"
      ]
    },
    {
      "cell_type": "code",
      "execution_count": null,
      "metadata": {
        "colab": {
          "base_uri": "https://localhost:8080/"
        },
        "id": "lFvQuR5AuqA2",
        "outputId": "e3464c1d-a135-4951-c865-d6112c92f4f6"
      },
      "outputs": [
        {
          "name": "stdout",
          "output_type": "stream",
          "text": [
            "The capital of Ontario is Toronto\n"
          ]
        }
      ],
      "source": [
        "print(\"The capital of {0:s} is {1:s}\".format(\"Ontario\",\"Toronto\"))"
      ]
    },
    {
      "cell_type": "code",
      "execution_count": null,
      "metadata": {
        "colab": {
          "base_uri": "https://localhost:8080/"
        },
        "id": "x26i9InfJeep",
        "outputId": "e0448ff3-eda9-43aa-d27e-208c198fc456"
      },
      "outputs": [
        {
          "data": {
            "text/plain": [
              "{'capital': 'Toronto', 'province': 'Ontario'}"
            ]
          },
          "execution_count": 13,
          "metadata": {},
          "output_type": "execute_result"
        }
      ],
      "source": [
        "data = dict(province=\"Ontario\",capital=\"Toronto\")\n",
        "data"
      ]
    },
    {
      "cell_type": "code",
      "execution_count": null,
      "metadata": {
        "colab": {
          "base_uri": "https://localhost:8080/"
        },
        "id": "OjssSZ1aJoiD",
        "outputId": "0324fa81-6fd6-4202-a420-77f9c74c429a"
      },
      "outputs": [
        {
          "name": "stdout",
          "output_type": "stream",
          "text": [
            "The capital of Ontario is Toronto\n"
          ]
        }
      ],
      "source": [
        "print(\"The capital of {province} is {capital}\".format(**data))"
      ]
    },
    {
      "cell_type": "code",
      "execution_count": null,
      "metadata": {
        "colab": {
          "base_uri": "https://localhost:8080/"
        },
        "id": "OtevluzmJ36q",
        "outputId": "43f7b184-36dd-43d5-86c1-96c29e7cb705"
      },
      "outputs": [
        {
          "name": "stdout",
          "output_type": "stream",
          "text": [
            "Countries and their capitals:\n",
            "United States: Washington\n",
            "US: Washington\n",
            "Canada: Ottawa\n",
            "Germany: Berlin\n",
            "France: Paris\n",
            "England: London\n",
            "UK: London\n",
            "Switzerland: Bern\n",
            "Austria: Vienna\n",
            "Netherlands: Amsterdam\n"
          ]
        }
      ],
      "source": [
        "capital_country = {\"United States\" : \"Washington\", \n",
        "                   \"US\" : \"Washington\", \n",
        "                   \"Canada\" : \"Ottawa\",\n",
        "                   \"Germany\": \"Berlin\",\n",
        "                   \"France\" : \"Paris\",\n",
        "                   \"England\" : \"London\",\n",
        "                   \"UK\" : \"London\",\n",
        "                   \"Switzerland\" : \"Bern\",\n",
        "                   \"Austria\" : \"Vienna\",\n",
        "                   \"Netherlands\" : \"Amsterdam\"}\n",
        "\n",
        "print(\"Countries and their capitals:\")\n",
        "for c in capital_country:\n",
        "    print(\"{country}: {capital}\".format(country=c, capital=capital_country[c]))"
      ]
    },
    {
      "cell_type": "code",
      "execution_count": null,
      "metadata": {
        "colab": {
          "base_uri": "https://localhost:8080/"
        },
        "id": "4fHEpPNcKEVO",
        "outputId": "e294b69d-2c8b-44cd-b7a8-f12ad5176991"
      },
      "outputs": [
        {
          "data": {
            "text/plain": [
              "{'Austria': 'Vienna',\n",
              " 'Canada': 'Ottawa',\n",
              " 'England': 'London',\n",
              " 'France': 'Paris',\n",
              " 'Germany': 'Berlin',\n",
              " 'Netherlands': 'Amsterdam',\n",
              " 'Switzerland': 'Bern',\n",
              " 'UK': 'London',\n",
              " 'US': 'Washington',\n",
              " 'United States': 'Washington'}"
            ]
          },
          "execution_count": 16,
          "metadata": {},
          "output_type": "execute_result"
        }
      ],
      "source": [
        "capital_country"
      ]
    },
    {
      "cell_type": "code",
      "execution_count": 17,
      "metadata": {
        "colab": {
          "base_uri": "https://localhost:8080/",
          "height": 36
        },
        "id": "p370mPM_UMzr",
        "outputId": "183a177f-0ccf-4f06-f12d-4c57e39ef954"
      },
      "outputs": [
        {
          "data": {
            "application/vnd.google.colaboratory.intrinsic+json": {
              "type": "string"
            },
            "text/plain": [
              "'  Python  '"
            ]
          },
          "execution_count": 17,
          "metadata": {},
          "output_type": "execute_result"
        }
      ],
      "source": [
        "s = \"Python\"\n",
        "s.center(10) "
      ]
    },
    {
      "cell_type": "code",
      "execution_count": 18,
      "metadata": {
        "colab": {
          "base_uri": "https://localhost:8080/",
          "height": 36
        },
        "id": "AIVoYIcjUflO",
        "outputId": "1dc6c183-5514-4445-ca00-d0475b5ea8e0"
      },
      "outputs": [
        {
          "data": {
            "application/vnd.google.colaboratory.intrinsic+json": {
              "type": "string"
            },
            "text/plain": [
              "'**Python**'"
            ]
          },
          "execution_count": 18,
          "metadata": {},
          "output_type": "execute_result"
        }
      ],
      "source": [
        "s.center(10,\"*\")"
      ]
    },
    {
      "cell_type": "code",
      "execution_count": 19,
      "metadata": {
        "colab": {
          "base_uri": "https://localhost:8080/",
          "height": 36
        },
        "id": "6-z7JH8RUp6a",
        "outputId": "a9f47672-548c-401d-bf01-0725d82d1053"
      },
      "outputs": [
        {
          "data": {
            "application/vnd.google.colaboratory.intrinsic+json": {
              "type": "string"
            },
            "text/plain": [
              "'Python::::::'"
            ]
          },
          "execution_count": 19,
          "metadata": {},
          "output_type": "execute_result"
        }
      ],
      "source": [
        "s.ljust(12,\":\")"
      ]
    },
    {
      "cell_type": "code",
      "execution_count": 20,
      "metadata": {
        "colab": {
          "base_uri": "https://localhost:8080/",
          "height": 36
        },
        "id": "qWO-BJKIU4-C",
        "outputId": "303ded2e-e8ff-48c2-d140-e8ed66f7cdcb"
      },
      "outputs": [
        {
          "data": {
            "application/vnd.google.colaboratory.intrinsic+json": {
              "type": "string"
            },
            "text/plain": [
              "'~~~~~~~~~Python'"
            ]
          },
          "execution_count": 20,
          "metadata": {},
          "output_type": "execute_result"
        }
      ],
      "source": [
        "s.rjust(15, \"~\")"
      ]
    },
    {
      "cell_type": "code",
      "execution_count": 21,
      "metadata": {
        "colab": {
          "base_uri": "https://localhost:8080/",
          "height": 36
        },
        "id": "7pSo5ojdVF77",
        "outputId": "2e378df7-4146-4fa8-e9d7-a9432e657538"
      },
      "outputs": [
        {
          "data": {
            "application/vnd.google.colaboratory.intrinsic+json": {
              "type": "string"
            },
            "text/plain": [
              "'000000Python'"
            ]
          },
          "execution_count": 21,
          "metadata": {},
          "output_type": "execute_result"
        }
      ],
      "source": [
        "s.zfill(12)"
      ]
    },
    {
      "cell_type": "code",
      "execution_count": 22,
      "metadata": {
        "colab": {
          "base_uri": "https://localhost:8080/",
          "height": 36
        },
        "id": "vn-_5e4uVfGq",
        "outputId": "3989c7ed-22a9-48b6-edc0-18469bd1d73b"
      },
      "outputs": [
        {
          "data": {
            "application/vnd.google.colaboratory.intrinsic+json": {
              "type": "string"
            },
            "text/plain": [
              "'Price in Euro: 11.23'"
            ]
          },
          "execution_count": 22,
          "metadata": {},
          "output_type": "execute_result"
        }
      ],
      "source": [
        "price = 11.23\n",
        "f\"Price in Euro: {price}\""
      ]
    },
    {
      "cell_type": "code",
      "execution_count": 23,
      "metadata": {
        "colab": {
          "base_uri": "https://localhost:8080/",
          "height": 36
        },
        "id": "LZbsVrg9Vl4m",
        "outputId": "3a0e0513-5be9-4f37-fc59-9d52f0319ebb"
      },
      "outputs": [
        {
          "data": {
            "application/vnd.google.colaboratory.intrinsic+json": {
              "type": "string"
            },
            "text/plain": [
              "'Price in Swiss Franks: 12.195780000000001'"
            ]
          },
          "execution_count": 23,
          "metadata": {},
          "output_type": "execute_result"
        }
      ],
      "source": [
        "f\"Price in Swiss Franks: {price * 1.086}\""
      ]
    },
    {
      "cell_type": "code",
      "execution_count": 24,
      "metadata": {
        "colab": {
          "base_uri": "https://localhost:8080/",
          "height": 36
        },
        "id": "rhVWjmg0VyIZ",
        "outputId": "eaab52ee-8eb4-4abb-a8d4-8c4aef725460"
      },
      "outputs": [
        {
          "data": {
            "application/vnd.google.colaboratory.intrinsic+json": {
              "type": "string"
            },
            "text/plain": [
              "'Price in Swiss Franks: 12.20'"
            ]
          },
          "execution_count": 24,
          "metadata": {},
          "output_type": "execute_result"
        }
      ],
      "source": [
        "f\"Price in Swiss Franks: {price * 1.086:5.2f}\""
      ]
    },
    {
      "cell_type": "code",
      "execution_count": 25,
      "metadata": {
        "colab": {
          "base_uri": "https://localhost:8080/"
        },
        "id": "2rD7nXQZWJbj",
        "outputId": "b834b25d-74f1-4e8e-b8b8-824fdc1cb7b7"
      },
      "outputs": [
        {
          "name": "stdout",
          "output_type": "stream",
          "text": [
            "     bread:\n",
            "    butter:\n",
            "       tea:\n"
          ]
        }
      ],
      "source": [
        "for article in [\"bread\", \"butter\", \"tea\"]:\n",
        "    print(f\"{article:>10}:\")"
      ]
    }
  ],
  "metadata": {
    "colab": {
      "authorship_tag": "ABX9TyOr2MYwDXGU1QoD9J4hlhuO",
      "collapsed_sections": [],
      "include_colab_link": true,
      "name": "A_PC20_Print.ipynb",
      "provenance": []
    },
    "kernelspec": {
      "display_name": "Python 3.8.13 64-bit ('3.8.13')",
      "language": "python",
      "name": "python3"
    },
    "language_info": {
      "name": "python",
      "version": "3.8.13"
    },
    "vscode": {
      "interpreter": {
        "hash": "110cc1dee26208153f2972f08a2ad52b6a56238dc66d48e87fb757ef2996db56"
      }
    }
  },
  "nbformat": 4,
  "nbformat_minor": 0
}
