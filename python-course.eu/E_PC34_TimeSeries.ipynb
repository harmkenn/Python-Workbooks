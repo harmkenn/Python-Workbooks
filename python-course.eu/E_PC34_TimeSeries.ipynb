{
 "cells": [
  {
   "cell_type": "code",
   "execution_count": null,
   "metadata": {},
   "outputs": [],
   "source": [
    "# https://python-course.eu/numerical-programming/time-series-in-pandas-and-python.php"
   ]
  },
  {
   "cell_type": "code",
   "execution_count": 1,
   "metadata": {},
   "outputs": [
    {
     "data": {
      "text/plain": [
       "2017-03-31    25\n",
       "2017-03-30    50\n",
       "2017-03-29    15\n",
       "2017-03-28    67\n",
       "2017-03-27    70\n",
       "2017-03-26     9\n",
       "2017-03-25    28\n",
       "2017-03-24    30\n",
       "2017-03-23    32\n",
       "2017-03-22    12\n",
       "dtype: int64"
      ]
     },
     "execution_count": 1,
     "metadata": {},
     "output_type": "execute_result"
    }
   ],
   "source": [
    "import numpy as np\n",
    "import pandas as pd\n",
    "\n",
    "from datetime import datetime, timedelta as delta\n",
    "ndays = 10\n",
    "start = datetime(2017, 3, 31)\n",
    "dates = [start - delta(days=x) for x in range(0, ndays)]\n",
    "\n",
    "values = [25, 50, 15, 67, 70, 9, 28, 30, 32, 12]\n",
    "\n",
    "ts = pd.Series(values, index=dates)\n",
    "ts"
   ]
  },
  {
   "cell_type": "code",
   "execution_count": 2,
   "metadata": {},
   "outputs": [
    {
     "data": {
      "text/plain": [
       "DatetimeIndex(['2017-03-31', '2017-03-30', '2017-03-29', '2017-03-28',\n",
       "               '2017-03-27', '2017-03-26', '2017-03-25', '2017-03-24',\n",
       "               '2017-03-23', '2017-03-22'],\n",
       "              dtype='datetime64[ns]', freq=None)"
      ]
     },
     "execution_count": 2,
     "metadata": {},
     "output_type": "execute_result"
    }
   ],
   "source": [
    "ts.index"
   ]
  },
  {
   "cell_type": "code",
   "execution_count": 3,
   "metadata": {},
   "outputs": [],
   "source": [
    "values2 = [32, 54, 18, 61, 72, 19, 21, 33, 29, 17]\n",
    "\n",
    "ts2 = pd.Series(values2, index=dates)"
   ]
  },
  {
   "cell_type": "code",
   "execution_count": 4,
   "metadata": {},
   "outputs": [
    {
     "data": {
      "text/plain": [
       "2017-03-31     57\n",
       "2017-03-30    104\n",
       "2017-03-29     33\n",
       "2017-03-28    128\n",
       "2017-03-27    142\n",
       "2017-03-26     28\n",
       "2017-03-25     49\n",
       "2017-03-24     63\n",
       "2017-03-23     61\n",
       "2017-03-22     29\n",
       "dtype: int64"
      ]
     },
     "execution_count": 4,
     "metadata": {},
     "output_type": "execute_result"
    }
   ],
   "source": [
    "ts + ts2"
   ]
  },
  {
   "cell_type": "code",
   "execution_count": 5,
   "metadata": {},
   "outputs": [
    {
     "data": {
      "text/plain": [
       "2017-03-31    28.5\n",
       "2017-03-30    52.0\n",
       "2017-03-29    16.5\n",
       "2017-03-28    64.0\n",
       "2017-03-27    71.0\n",
       "2017-03-26    14.0\n",
       "2017-03-25    24.5\n",
       "2017-03-24    31.5\n",
       "2017-03-23    30.5\n",
       "2017-03-22    14.5\n",
       "dtype: float64"
      ]
     },
     "execution_count": 5,
     "metadata": {},
     "output_type": "execute_result"
    }
   ],
   "source": [
    "(ts + ts2) / 2"
   ]
  },
  {
   "cell_type": "code",
   "execution_count": 6,
   "metadata": {},
   "outputs": [
    {
     "data": {
      "text/plain": [
       "2017-03-17     NaN\n",
       "2017-03-18     NaN\n",
       "2017-03-19     NaN\n",
       "2017-03-20     NaN\n",
       "2017-03-21     NaN\n",
       "2017-03-22    84.0\n",
       "2017-03-23    93.0\n",
       "2017-03-24    48.0\n",
       "2017-03-25    82.0\n",
       "2017-03-26    41.0\n",
       "2017-03-27     NaN\n",
       "2017-03-28     NaN\n",
       "2017-03-29     NaN\n",
       "2017-03-30     NaN\n",
       "2017-03-31     NaN\n",
       "Freq: D, dtype: float64"
      ]
     },
     "execution_count": 6,
     "metadata": {},
     "output_type": "execute_result"
    }
   ],
   "source": [
    "import pandas as pd\n",
    "\n",
    "from datetime import datetime, timedelta as delta\n",
    "\n",
    "ndays = 10\n",
    "\n",
    "start = datetime(2017, 3, 31)\n",
    "dates = [start - delta(days=x) for x in range(0, ndays)]\n",
    "\n",
    "start2 = datetime(2017, 3, 26)\n",
    "dates2 = [start2 - delta(days=x) for x in range(0, ndays)]\n",
    "\n",
    "values = [25, 50, 15, 67, 70, 9, 28, 30, 32, 12]\n",
    "values2 = [32, 54, 18, 61, 72, 19, 21, 33, 29, 17]\n",
    "\n",
    "ts = pd.Series(values, index=dates)\n",
    "ts2 = pd.Series(values2, index=dates2)\n",
    "\n",
    "ts + ts2"
   ]
  },
  {
   "cell_type": "code",
   "execution_count": 7,
   "metadata": {},
   "outputs": [
    {
     "data": {
      "text/plain": [
       "DatetimeIndex(['1970-12-24', '1970-12-25', '1970-12-26', '1970-12-27',\n",
       "               '1970-12-28', '1970-12-29', '1970-12-30', '1970-12-31',\n",
       "               '1971-01-01', '1971-01-02', '1971-01-03'],\n",
       "              dtype='datetime64[ns]', freq='D')"
      ]
     },
     "execution_count": 7,
     "metadata": {},
     "output_type": "execute_result"
    }
   ],
   "source": [
    "import pandas as pd\n",
    "\n",
    "index = pd.date_range('12/24/1970', '01/03/1971')\n",
    "index"
   ]
  }
 ],
 "metadata": {
  "kernelspec": {
   "display_name": "Python 3",
   "language": "python",
   "name": "python3"
  },
  "language_info": {
   "codemirror_mode": {
    "name": "ipython",
    "version": 3
   },
   "file_extension": ".py",
   "mimetype": "text/x-python",
   "name": "python",
   "nbconvert_exporter": "python",
   "pygments_lexer": "ipython3",
   "version": "3.8.13"
  },
  "orig_nbformat": 4,
  "vscode": {
   "interpreter": {
    "hash": "9ac03a0a6051494cc606d484d27d20fce22fb7b4d169f583271e11d5ba46a56e"
   }
  }
 },
 "nbformat": 4,
 "nbformat_minor": 2
}
