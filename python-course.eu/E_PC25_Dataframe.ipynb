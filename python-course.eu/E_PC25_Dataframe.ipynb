{
 "cells": [
  {
   "cell_type": "code",
   "execution_count": null,
   "metadata": {},
   "outputs": [],
   "source": [
    "# https://python-course.eu/numerical-programming/accessing-and-changing-values-dataframes.php"
   ]
  },
  {
   "cell_type": "code",
   "execution_count": 1,
   "metadata": {},
   "outputs": [
    {
     "data": {
      "text/html": [
       "<div>\n",
       "<style scoped>\n",
       "    .dataframe tbody tr th:only-of-type {\n",
       "        vertical-align: middle;\n",
       "    }\n",
       "\n",
       "    .dataframe tbody tr th {\n",
       "        vertical-align: top;\n",
       "    }\n",
       "\n",
       "    .dataframe thead th {\n",
       "        text-align: right;\n",
       "    }\n",
       "</style>\n",
       "<table border=\"1\" class=\"dataframe\">\n",
       "  <thead>\n",
       "    <tr style=\"text-align: right;\">\n",
       "      <th></th>\n",
       "      <th>last</th>\n",
       "      <th>job</th>\n",
       "      <th>language</th>\n",
       "    </tr>\n",
       "  </thead>\n",
       "  <tbody>\n",
       "    <tr>\n",
       "      <th>Mike</th>\n",
       "      <td>Meyer</td>\n",
       "      <td>data analyst</td>\n",
       "      <td>Python</td>\n",
       "    </tr>\n",
       "    <tr>\n",
       "      <th>Dorothee</th>\n",
       "      <td>Maier</td>\n",
       "      <td>programmer</td>\n",
       "      <td>Perl</td>\n",
       "    </tr>\n",
       "    <tr>\n",
       "      <th>Tom</th>\n",
       "      <td>Meyer</td>\n",
       "      <td>computer scientist</td>\n",
       "      <td>Java</td>\n",
       "    </tr>\n",
       "    <tr>\n",
       "      <th>Bill</th>\n",
       "      <td>Mayer</td>\n",
       "      <td>data scientist</td>\n",
       "      <td>Java</td>\n",
       "    </tr>\n",
       "    <tr>\n",
       "      <th>Pete</th>\n",
       "      <td>Meyr</td>\n",
       "      <td>accountant</td>\n",
       "      <td>Cobol</td>\n",
       "    </tr>\n",
       "    <tr>\n",
       "      <th>Kate</th>\n",
       "      <td>Mair</td>\n",
       "      <td>psychiatrist</td>\n",
       "      <td>Brainfuck</td>\n",
       "    </tr>\n",
       "  </tbody>\n",
       "</table>\n",
       "</div>"
      ],
      "text/plain": [
       "           last                 job   language\n",
       "Mike      Meyer        data analyst     Python\n",
       "Dorothee  Maier          programmer       Perl\n",
       "Tom       Meyer  computer scientist       Java\n",
       "Bill      Mayer      data scientist       Java\n",
       "Pete       Meyr          accountant      Cobol\n",
       "Kate       Mair        psychiatrist  Brainfuck"
      ]
     },
     "execution_count": 1,
     "metadata": {},
     "output_type": "execute_result"
    }
   ],
   "source": [
    "import pandas as pd\n",
    "\n",
    "first = ('Mike', 'Dorothee', 'Tom', 'Bill', 'Pete', 'Kate')\n",
    "last = ('Meyer', 'Maier', 'Meyer', 'Mayer', 'Meyr', 'Mair')\n",
    "job = ('data analyst', 'programmer', 'computer scientist', \n",
    "       'data scientist', 'accountant', 'psychiatrist')\n",
    "language = ('Python', 'Perl', 'Java', 'Java', 'Cobol', 'Brainfuck')\n",
    "\n",
    "df = pd.DataFrame(list(zip(last, job, language)), \n",
    "                  columns =['last', 'job', 'language'],\n",
    "                  index=first) \n",
    "df"
   ]
  },
  {
   "cell_type": "code",
   "execution_count": 2,
   "metadata": {},
   "outputs": [
    {
     "name": "stdout",
     "output_type": "stream",
     "text": [
      "data scientist\n",
      "data scientist\n",
      "data analyst\n"
     ]
    }
   ],
   "source": [
    "# accessing the job of Bill:\n",
    "print(df.loc['Bill', 'job'])\n",
    "# alternative way to access it with at:\n",
    "print(df.at['Bill', 'job'])\n",
    "\n",
    "# setting the job of Bill to 'data analyst' with 'loc'\n",
    "df.loc['Bill', 'job'] = 'data analyst'\n",
    "# let us check it:\n",
    "print(df.loc['Bill', 'job'])\n",
    "\n",
    "# setting the job of Bill to 'computer scientist' with 'at'\n",
    "df.at['Pete', 'language'] = 'Python'"
   ]
  }
 ],
 "metadata": {
  "kernelspec": {
   "display_name": "Python 3.10.7 64-bit",
   "language": "python",
   "name": "python3"
  },
  "language_info": {
   "codemirror_mode": {
    "name": "ipython",
    "version": 3
   },
   "file_extension": ".py",
   "mimetype": "text/x-python",
   "name": "python",
   "nbconvert_exporter": "python",
   "pygments_lexer": "ipython3",
   "version": "3.10.7"
  },
  "orig_nbformat": 4,
  "vscode": {
   "interpreter": {
    "hash": "f627b94a91bc915482d65575b2ea77ee7c3710ea9aacf075a668e3021bd93680"
   }
  }
 },
 "nbformat": 4,
 "nbformat_minor": 2
}
