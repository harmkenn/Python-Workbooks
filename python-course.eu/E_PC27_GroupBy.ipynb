{
 "cells": [
  {
   "cell_type": "code",
   "execution_count": null,
   "metadata": {},
   "outputs": [],
   "source": [
    "# https://python-course.eu/numerical-programming/pandas-groupby.php"
   ]
  },
  {
   "cell_type": "code",
   "execution_count": null,
   "metadata": {},
   "outputs": [],
   "source": [
    "import pandas as pd\n",
    "import numpy as np\n",
    "import random\n",
    "\n",
    "nvalues = 30\n",
    "# we create random values, which will be used as the Series values:\n",
    "values = np.random.randint(1, 20, (nvalues,))\n",
    "fruits = [\"bananas\", \"oranges\", \"apples\", \"clementines\", \"cherries\", \"pears\"]\n",
    "fruits_index = np.random.choice(fruits, (nvalues,))\n",
    "\n",
    "s = pd.Series(values, index=fruits_index)\n",
    "print(s[:100])"
   ]
  },
  {
   "cell_type": "code",
   "execution_count": null,
   "metadata": {},
   "outputs": [],
   "source": [
    "grouped = s.groupby(s.index)\n",
    "\n",
    "for fruit, s_obj in grouped:\n",
    "    print(f\"===== {fruit} =====\")\n",
    "    print(s_obj)"
   ]
  },
  {
   "cell_type": "code",
   "execution_count": 6,
   "metadata": {},
   "outputs": [
    {
     "name": "stdout",
     "output_type": "stream",
     "text": [
      "===== oranges =====\n",
      "oranges    18\n",
      "oranges    15\n",
      "oranges    18\n",
      "oranges    13\n",
      "oranges    15\n",
      "dtype: int64\n",
      "===== cherries =====\n",
      "cherries    17\n",
      "cherries    16\n",
      "cherries    16\n",
      "cherries     1\n",
      "dtype: int64\n",
      "===== clementines =====\n",
      "clementines    11\n",
      "clementines    17\n",
      "clementines    10\n",
      "clementines    12\n",
      "clementines    16\n",
      "dtype: int64\n",
      "===== bananas =====\n",
      "bananas    10\n",
      "bananas     5\n",
      "bananas    12\n",
      "bananas     3\n",
      "bananas     9\n",
      "bananas    13\n",
      "dtype: int64\n",
      "===== pears =====\n",
      "pears     2\n",
      "pears    12\n",
      "pears    19\n",
      "pears    11\n",
      "pears    13\n",
      "pears     7\n",
      "dtype: int64\n",
      "===== apples =====\n",
      "apples     4\n",
      "apples    17\n",
      "apples     5\n",
      "apples    13\n",
      "dtype: int64\n"
     ]
    }
   ],
   "source": [
    "for fruit in set(s.index):\n",
    "    print(f\"===== {fruit} =====\")\n",
    "    print(s[fruit])"
   ]
  },
  {
   "cell_type": "code",
   "execution_count": 7,
   "metadata": {},
   "outputs": [
    {
     "data": {
      "text/html": [
       "<div>\n",
       "<style scoped>\n",
       "    .dataframe tbody tr th:only-of-type {\n",
       "        vertical-align: middle;\n",
       "    }\n",
       "\n",
       "    .dataframe tbody tr th {\n",
       "        vertical-align: top;\n",
       "    }\n",
       "\n",
       "    .dataframe thead th {\n",
       "        text-align: right;\n",
       "    }\n",
       "</style>\n",
       "<table border=\"1\" class=\"dataframe\">\n",
       "  <thead>\n",
       "    <tr style=\"text-align: right;\">\n",
       "      <th></th>\n",
       "      <th>Name</th>\n",
       "      <th>Coffee</th>\n",
       "      <th>Tea</th>\n",
       "    </tr>\n",
       "  </thead>\n",
       "  <tbody>\n",
       "    <tr>\n",
       "      <th>0</th>\n",
       "      <td>Robert</td>\n",
       "      <td>3</td>\n",
       "      <td>0</td>\n",
       "    </tr>\n",
       "    <tr>\n",
       "      <th>1</th>\n",
       "      <td>Melinda</td>\n",
       "      <td>0</td>\n",
       "      <td>4</td>\n",
       "    </tr>\n",
       "    <tr>\n",
       "      <th>2</th>\n",
       "      <td>Brenda</td>\n",
       "      <td>2</td>\n",
       "      <td>2</td>\n",
       "    </tr>\n",
       "    <tr>\n",
       "      <th>3</th>\n",
       "      <td>Samantha</td>\n",
       "      <td>2</td>\n",
       "      <td>0</td>\n",
       "    </tr>\n",
       "    <tr>\n",
       "      <th>4</th>\n",
       "      <td>Melinda</td>\n",
       "      <td>0</td>\n",
       "      <td>3</td>\n",
       "    </tr>\n",
       "    <tr>\n",
       "      <th>5</th>\n",
       "      <td>Robert</td>\n",
       "      <td>2</td>\n",
       "      <td>0</td>\n",
       "    </tr>\n",
       "    <tr>\n",
       "      <th>6</th>\n",
       "      <td>Melinda</td>\n",
       "      <td>0</td>\n",
       "      <td>3</td>\n",
       "    </tr>\n",
       "    <tr>\n",
       "      <th>7</th>\n",
       "      <td>Brenda</td>\n",
       "      <td>1</td>\n",
       "      <td>2</td>\n",
       "    </tr>\n",
       "    <tr>\n",
       "      <th>8</th>\n",
       "      <td>Samantha</td>\n",
       "      <td>3</td>\n",
       "      <td>0</td>\n",
       "    </tr>\n",
       "  </tbody>\n",
       "</table>\n",
       "</div>"
      ],
      "text/plain": [
       "       Name  Coffee  Tea\n",
       "0    Robert       3    0\n",
       "1   Melinda       0    4\n",
       "2    Brenda       2    2\n",
       "3  Samantha       2    0\n",
       "4   Melinda       0    3\n",
       "5    Robert       2    0\n",
       "6   Melinda       0    3\n",
       "7    Brenda       1    2\n",
       "8  Samantha       3    0"
      ]
     },
     "execution_count": 7,
     "metadata": {},
     "output_type": "execute_result"
    }
   ],
   "source": [
    "import pandas as pd\n",
    "beverages = pd.DataFrame({'Name': ['Robert', 'Melinda', 'Brenda',\n",
    "                                   'Samantha', 'Melinda', 'Robert',\n",
    "                                   'Melinda', 'Brenda', 'Samantha'],\n",
    "                          'Coffee': [3, 0, 2, 2, 0, 2, 0, 1, 3],\n",
    "                          'Tea':    [0, 4, 2, 0, 3, 0, 3, 2, 0]})\n",
    "    \n",
    "beverages"
   ]
  },
  {
   "cell_type": "code",
   "execution_count": 8,
   "metadata": {},
   "outputs": [
    {
     "data": {
      "text/plain": [
       "13"
      ]
     },
     "execution_count": 8,
     "metadata": {},
     "output_type": "execute_result"
    }
   ],
   "source": [
    "beverages['Coffee'].sum()"
   ]
  }
 ],
 "metadata": {
  "kernelspec": {
   "display_name": "Python 3",
   "language": "python",
   "name": "python3"
  },
  "language_info": {
   "codemirror_mode": {
    "name": "ipython",
    "version": 3
   },
   "file_extension": ".py",
   "mimetype": "text/x-python",
   "name": "python",
   "nbconvert_exporter": "python",
   "pygments_lexer": "ipython3",
   "version": "3.8.13"
  },
  "orig_nbformat": 4,
  "vscode": {
   "interpreter": {
    "hash": "9ac03a0a6051494cc606d484d27d20fce22fb7b4d169f583271e11d5ba46a56e"
   }
  }
 },
 "nbformat": 4,
 "nbformat_minor": 2
}
