{
 "cells": [
  {
   "cell_type": "code",
   "execution_count": 1,
   "metadata": {},
   "outputs": [],
   "source": [
    "# https://python-course.eu/numerical-programming/pandas-groupby.php"
   ]
  },
  {
   "cell_type": "code",
   "execution_count": 2,
   "metadata": {},
   "outputs": [
    {
     "name": "stdout",
     "output_type": "stream",
     "text": [
      "pears           1\n",
      "clementines    14\n",
      "bananas         6\n",
      "pears          19\n",
      "bananas        13\n",
      "bananas        19\n",
      "bananas        10\n",
      "oranges        10\n",
      "bananas        13\n",
      "oranges         6\n",
      "apples          1\n",
      "oranges        19\n",
      "pears          10\n",
      "bananas        18\n",
      "clementines     9\n",
      "apples          8\n",
      "apples         16\n",
      "oranges        15\n",
      "pears          15\n",
      "bananas         4\n",
      "clementines    19\n",
      "clementines    14\n",
      "oranges         3\n",
      "clementines    12\n",
      "cherries        8\n",
      "oranges        15\n",
      "oranges         5\n",
      "pears           8\n",
      "oranges         8\n",
      "oranges        13\n",
      "dtype: int64\n"
     ]
    }
   ],
   "source": [
    "import pandas as pd\n",
    "import numpy as np\n",
    "import random\n",
    "\n",
    "nvalues = 30\n",
    "# we create random values, which will be used as the Series values:\n",
    "values = np.random.randint(1, 20, (nvalues,))\n",
    "fruits = [\"bananas\", \"oranges\", \"apples\", \"clementines\", \"cherries\", \"pears\"]\n",
    "fruits_index = np.random.choice(fruits, (nvalues,))\n",
    "\n",
    "s = pd.Series(values, index=fruits_index)\n",
    "print(s[:100])"
   ]
  },
  {
   "cell_type": "code",
   "execution_count": 3,
   "metadata": {},
   "outputs": [
    {
     "name": "stdout",
     "output_type": "stream",
     "text": [
      "===== apples =====\n",
      "apples     1\n",
      "apples     8\n",
      "apples    16\n",
      "dtype: int64\n",
      "===== bananas =====\n",
      "bananas     6\n",
      "bananas    13\n",
      "bananas    19\n",
      "bananas    10\n",
      "bananas    13\n",
      "bananas    18\n",
      "bananas     4\n",
      "dtype: int64\n",
      "===== cherries =====\n",
      "cherries    8\n",
      "dtype: int64\n",
      "===== clementines =====\n",
      "clementines    14\n",
      "clementines     9\n",
      "clementines    19\n",
      "clementines    14\n",
      "clementines    12\n",
      "dtype: int64\n",
      "===== oranges =====\n",
      "oranges    10\n",
      "oranges     6\n",
      "oranges    19\n",
      "oranges    15\n",
      "oranges     3\n",
      "oranges    15\n",
      "oranges     5\n",
      "oranges     8\n",
      "oranges    13\n",
      "dtype: int64\n",
      "===== pears =====\n",
      "pears     1\n",
      "pears    19\n",
      "pears    10\n",
      "pears    15\n",
      "pears     8\n",
      "dtype: int64\n"
     ]
    }
   ],
   "source": [
    "grouped = s.groupby(s.index)\n",
    "\n",
    "for fruit, s_obj in grouped:\n",
    "    print(f\"===== {fruit} =====\")\n",
    "    print(s_obj)"
   ]
  },
  {
   "cell_type": "code",
   "execution_count": 4,
   "metadata": {},
   "outputs": [
    {
     "name": "stdout",
     "output_type": "stream",
     "text": [
      "===== apples =====\n",
      "apples     1\n",
      "apples     8\n",
      "apples    16\n",
      "dtype: int64\n",
      "===== pears =====\n",
      "pears     1\n",
      "pears    19\n",
      "pears    10\n",
      "pears    15\n",
      "pears     8\n",
      "dtype: int64\n",
      "===== clementines =====\n",
      "clementines    14\n",
      "clementines     9\n",
      "clementines    19\n",
      "clementines    14\n",
      "clementines    12\n",
      "dtype: int64\n",
      "===== oranges =====\n",
      "oranges    10\n",
      "oranges     6\n",
      "oranges    19\n",
      "oranges    15\n",
      "oranges     3\n",
      "oranges    15\n",
      "oranges     5\n",
      "oranges     8\n",
      "oranges    13\n",
      "dtype: int64\n",
      "===== bananas =====\n",
      "bananas     6\n",
      "bananas    13\n",
      "bananas    19\n",
      "bananas    10\n",
      "bananas    13\n",
      "bananas    18\n",
      "bananas     4\n",
      "dtype: int64\n",
      "===== cherries =====\n",
      "8\n"
     ]
    }
   ],
   "source": [
    "for fruit in set(s.index):\n",
    "    print(f\"===== {fruit} =====\")\n",
    "    print(s[fruit])"
   ]
  },
  {
   "cell_type": "code",
   "execution_count": 5,
   "metadata": {},
   "outputs": [
    {
     "data": {
      "text/html": [
       "<div>\n",
       "<style scoped>\n",
       "    .dataframe tbody tr th:only-of-type {\n",
       "        vertical-align: middle;\n",
       "    }\n",
       "\n",
       "    .dataframe tbody tr th {\n",
       "        vertical-align: top;\n",
       "    }\n",
       "\n",
       "    .dataframe thead th {\n",
       "        text-align: right;\n",
       "    }\n",
       "</style>\n",
       "<table border=\"1\" class=\"dataframe\">\n",
       "  <thead>\n",
       "    <tr style=\"text-align: right;\">\n",
       "      <th></th>\n",
       "      <th>Name</th>\n",
       "      <th>Coffee</th>\n",
       "      <th>Tea</th>\n",
       "    </tr>\n",
       "  </thead>\n",
       "  <tbody>\n",
       "    <tr>\n",
       "      <th>0</th>\n",
       "      <td>Robert</td>\n",
       "      <td>3</td>\n",
       "      <td>0</td>\n",
       "    </tr>\n",
       "    <tr>\n",
       "      <th>1</th>\n",
       "      <td>Melinda</td>\n",
       "      <td>0</td>\n",
       "      <td>4</td>\n",
       "    </tr>\n",
       "    <tr>\n",
       "      <th>2</th>\n",
       "      <td>Brenda</td>\n",
       "      <td>2</td>\n",
       "      <td>2</td>\n",
       "    </tr>\n",
       "    <tr>\n",
       "      <th>3</th>\n",
       "      <td>Samantha</td>\n",
       "      <td>2</td>\n",
       "      <td>0</td>\n",
       "    </tr>\n",
       "    <tr>\n",
       "      <th>4</th>\n",
       "      <td>Melinda</td>\n",
       "      <td>0</td>\n",
       "      <td>3</td>\n",
       "    </tr>\n",
       "    <tr>\n",
       "      <th>5</th>\n",
       "      <td>Robert</td>\n",
       "      <td>2</td>\n",
       "      <td>0</td>\n",
       "    </tr>\n",
       "    <tr>\n",
       "      <th>6</th>\n",
       "      <td>Melinda</td>\n",
       "      <td>0</td>\n",
       "      <td>3</td>\n",
       "    </tr>\n",
       "    <tr>\n",
       "      <th>7</th>\n",
       "      <td>Brenda</td>\n",
       "      <td>1</td>\n",
       "      <td>2</td>\n",
       "    </tr>\n",
       "    <tr>\n",
       "      <th>8</th>\n",
       "      <td>Samantha</td>\n",
       "      <td>3</td>\n",
       "      <td>0</td>\n",
       "    </tr>\n",
       "  </tbody>\n",
       "</table>\n",
       "</div>"
      ],
      "text/plain": [
       "       Name  Coffee  Tea\n",
       "0    Robert       3    0\n",
       "1   Melinda       0    4\n",
       "2    Brenda       2    2\n",
       "3  Samantha       2    0\n",
       "4   Melinda       0    3\n",
       "5    Robert       2    0\n",
       "6   Melinda       0    3\n",
       "7    Brenda       1    2\n",
       "8  Samantha       3    0"
      ]
     },
     "execution_count": 5,
     "metadata": {},
     "output_type": "execute_result"
    }
   ],
   "source": [
    "import pandas as pd\n",
    "beverages = pd.DataFrame({'Name': ['Robert', 'Melinda', 'Brenda',\n",
    "                                   'Samantha', 'Melinda', 'Robert',\n",
    "                                   'Melinda', 'Brenda', 'Samantha'],\n",
    "                          'Coffee': [3, 0, 2, 2, 0, 2, 0, 1, 3],\n",
    "                          'Tea':    [0, 4, 2, 0, 3, 0, 3, 2, 0]})\n",
    "    \n",
    "beverages"
   ]
  },
  {
   "cell_type": "code",
   "execution_count": 6,
   "metadata": {},
   "outputs": [
    {
     "data": {
      "text/plain": [
       "13"
      ]
     },
     "execution_count": 6,
     "metadata": {},
     "output_type": "execute_result"
    }
   ],
   "source": [
    "beverages['Coffee'].sum()"
   ]
  },
  {
   "cell_type": "code",
   "execution_count": 7,
   "metadata": {},
   "outputs": [
    {
     "data": {
      "text/plain": [
       "Coffee    13\n",
       "Tea       14\n",
       "dtype: int64"
      ]
     },
     "execution_count": 7,
     "metadata": {},
     "output_type": "execute_result"
    }
   ],
   "source": [
    "beverages[['Coffee', 'Tea']].sum()"
   ]
  },
  {
   "cell_type": "code",
   "execution_count": 8,
   "metadata": {},
   "outputs": [
    {
     "name": "stdout",
     "output_type": "stream",
     "text": [
      "          Coffee  Tea\n",
      "Name                 \n",
      "Brenda         3    4\n",
      "Melinda        0   10\n",
      "Robert         5    0\n",
      "Samantha       5    0\n"
     ]
    }
   ],
   "source": [
    "res = beverages.groupby(['Name']).sum()\n",
    "print(res)"
   ]
  },
  {
   "cell_type": "code",
   "execution_count": 9,
   "metadata": {},
   "outputs": [
    {
     "data": {
      "text/plain": [
       "Index(['Brenda', 'Melinda', 'Robert', 'Samantha'], dtype='object', name='Name')"
      ]
     },
     "execution_count": 9,
     "metadata": {},
     "output_type": "execute_result"
    }
   ],
   "source": [
    "res.index"
   ]
  },
  {
   "cell_type": "code",
   "execution_count": 10,
   "metadata": {},
   "outputs": [
    {
     "data": {
      "text/plain": [
       "Index(['Coffee', 'Tea'], dtype='object')"
      ]
     },
     "execution_count": 10,
     "metadata": {},
     "output_type": "execute_result"
    }
   ],
   "source": [
    "res.columns"
   ]
  },
  {
   "cell_type": "code",
   "execution_count": 11,
   "metadata": {},
   "outputs": [
    {
     "data": {
      "text/html": [
       "<div>\n",
       "<style scoped>\n",
       "    .dataframe tbody tr th:only-of-type {\n",
       "        vertical-align: middle;\n",
       "    }\n",
       "\n",
       "    .dataframe tbody tr th {\n",
       "        vertical-align: top;\n",
       "    }\n",
       "\n",
       "    .dataframe thead th {\n",
       "        text-align: right;\n",
       "    }\n",
       "</style>\n",
       "<table border=\"1\" class=\"dataframe\">\n",
       "  <thead>\n",
       "    <tr style=\"text-align: right;\">\n",
       "      <th></th>\n",
       "      <th>Coffee</th>\n",
       "      <th>Tea</th>\n",
       "    </tr>\n",
       "    <tr>\n",
       "      <th>Name</th>\n",
       "      <th></th>\n",
       "      <th></th>\n",
       "    </tr>\n",
       "  </thead>\n",
       "  <tbody>\n",
       "    <tr>\n",
       "      <th>Brenda</th>\n",
       "      <td>1.5</td>\n",
       "      <td>2.000000</td>\n",
       "    </tr>\n",
       "    <tr>\n",
       "      <th>Melinda</th>\n",
       "      <td>0.0</td>\n",
       "      <td>3.333333</td>\n",
       "    </tr>\n",
       "    <tr>\n",
       "      <th>Robert</th>\n",
       "      <td>2.5</td>\n",
       "      <td>0.000000</td>\n",
       "    </tr>\n",
       "    <tr>\n",
       "      <th>Samantha</th>\n",
       "      <td>2.5</td>\n",
       "      <td>0.000000</td>\n",
       "    </tr>\n",
       "  </tbody>\n",
       "</table>\n",
       "</div>"
      ],
      "text/plain": [
       "          Coffee       Tea\n",
       "Name                      \n",
       "Brenda       1.5  2.000000\n",
       "Melinda      0.0  3.333333\n",
       "Robert       2.5  0.000000\n",
       "Samantha     2.5  0.000000"
      ]
     },
     "execution_count": 11,
     "metadata": {},
     "output_type": "execute_result"
    }
   ],
   "source": [
    "beverages.groupby(['Name']).mean()"
   ]
  },
  {
   "cell_type": "code",
   "execution_count": 12,
   "metadata": {},
   "outputs": [
    {
     "ename": "ModuleNotFoundError",
     "evalue": "No module named 'faker'",
     "output_type": "error",
     "traceback": [
      "\u001b[0;31m---------------------------------------------------------------------------\u001b[0m",
      "\u001b[0;31mModuleNotFoundError\u001b[0m                       Traceback (most recent call last)",
      "Cell \u001b[0;32mIn [12], line 1\u001b[0m\n\u001b[0;32m----> 1\u001b[0m \u001b[39mfrom\u001b[39;00m \u001b[39mfaker\u001b[39;00m \u001b[39mimport\u001b[39;00m Faker\n\u001b[1;32m      2\u001b[0m \u001b[39mimport\u001b[39;00m \u001b[39mnumpy\u001b[39;00m \u001b[39mas\u001b[39;00m \u001b[39mnp\u001b[39;00m\n\u001b[1;32m      3\u001b[0m \u001b[39mfrom\u001b[39;00m \u001b[39mitertools\u001b[39;00m \u001b[39mimport\u001b[39;00m chain\n",
      "\u001b[0;31mModuleNotFoundError\u001b[0m: No module named 'faker'"
     ]
    }
   ],
   "source": [
    "from faker import Faker\n",
    "import numpy as np\n",
    "from itertools import chain\n",
    "\n",
    "fake = Faker('de_DE')\n",
    "\n",
    "number_of_names = 10\n",
    "names = []\n",
    "for _ in range(number_of_names):\n",
    "    names.append(fake.first_name())\n",
    "\n",
    "\n",
    "data = {}\n",
    "workweek = (\"Monday\", \"Tuesday\", \"Wednesday\", \"Thursday\", \"Friday\")\n",
    "weekend = (\"Saturday\", \"Sunday\")\n",
    "\n",
    "for day in chain(workweek, weekend):\n",
    "    data[day] = np.random.randint(0, 10, (number_of_names,))\n",
    "    \n",
    "data_df = pd.DataFrame(data, index=names)\n",
    "data_df"
   ]
  },
  {
   "cell_type": "code",
   "execution_count": null,
   "metadata": {},
   "outputs": [
    {
     "name": "stdout",
     "output_type": "stream",
     "text": [
      "           Saturday  Sunday\n",
      "Stefan            5       8\n",
      "Alex              1       0\n",
      "Hildegart         5       2\n",
      "Ingeborg          4       2\n",
      "Alwina            9       2\n",
      "Robert            0       6\n",
      "Yusuf             2       2\n",
      "Maren             1       6\n",
      "Patrizia          5       3\n",
      "Margot            7       0\n",
      "           Monday  Tuesday  Wednesday  Thursday  Friday\n",
      "Stefan          3        0          6         9       0\n",
      "Alex            7        8          8         1       7\n",
      "Hildegart       5        9          7         5       3\n",
      "Ingeborg        1        6          2         2       3\n",
      "Alwina          0        0          1         3       4\n",
      "Robert          3        7          2         0       9\n",
      "Yusuf           3        4          3         2       6\n",
      "Maren           7        2          9         9       5\n",
      "Patrizia        3        2          5         6       3\n",
      "Margot          1        5          3         3       9\n"
     ]
    }
   ],
   "source": [
    "def is_weekend(day):\n",
    "    if day in {'Saturday', 'Sunday'}:\n",
    "        return \"Weekend\"\n",
    "    else:\n",
    "        return \"Workday\"\n",
    "        \n",
    "for res_func, df in data_df.groupby(by=is_weekend, axis=1):\n",
    "    print(df)"
   ]
  },
  {
   "cell_type": "code",
   "execution_count": null,
   "metadata": {},
   "outputs": [
    {
     "data": {
      "text/html": [
       "<div>\n",
       "<style scoped>\n",
       "    .dataframe tbody tr th:only-of-type {\n",
       "        vertical-align: middle;\n",
       "    }\n",
       "\n",
       "    .dataframe tbody tr th {\n",
       "        vertical-align: top;\n",
       "    }\n",
       "\n",
       "    .dataframe thead th {\n",
       "        text-align: right;\n",
       "    }\n",
       "</style>\n",
       "<table border=\"1\" class=\"dataframe\">\n",
       "  <thead>\n",
       "    <tr style=\"text-align: right;\">\n",
       "      <th></th>\n",
       "      <th>Weekend</th>\n",
       "      <th>Workday</th>\n",
       "    </tr>\n",
       "  </thead>\n",
       "  <tbody>\n",
       "    <tr>\n",
       "      <th>Stefan</th>\n",
       "      <td>13</td>\n",
       "      <td>18</td>\n",
       "    </tr>\n",
       "    <tr>\n",
       "      <th>Alex</th>\n",
       "      <td>1</td>\n",
       "      <td>31</td>\n",
       "    </tr>\n",
       "    <tr>\n",
       "      <th>Hildegart</th>\n",
       "      <td>7</td>\n",
       "      <td>29</td>\n",
       "    </tr>\n",
       "    <tr>\n",
       "      <th>Ingeborg</th>\n",
       "      <td>6</td>\n",
       "      <td>14</td>\n",
       "    </tr>\n",
       "    <tr>\n",
       "      <th>Alwina</th>\n",
       "      <td>11</td>\n",
       "      <td>8</td>\n",
       "    </tr>\n",
       "    <tr>\n",
       "      <th>Robert</th>\n",
       "      <td>6</td>\n",
       "      <td>21</td>\n",
       "    </tr>\n",
       "    <tr>\n",
       "      <th>Yusuf</th>\n",
       "      <td>4</td>\n",
       "      <td>18</td>\n",
       "    </tr>\n",
       "    <tr>\n",
       "      <th>Maren</th>\n",
       "      <td>7</td>\n",
       "      <td>32</td>\n",
       "    </tr>\n",
       "    <tr>\n",
       "      <th>Patrizia</th>\n",
       "      <td>8</td>\n",
       "      <td>19</td>\n",
       "    </tr>\n",
       "    <tr>\n",
       "      <th>Margot</th>\n",
       "      <td>7</td>\n",
       "      <td>21</td>\n",
       "    </tr>\n",
       "  </tbody>\n",
       "</table>\n",
       "</div>"
      ],
      "text/plain": [
       "           Weekend  Workday\n",
       "Stefan          13       18\n",
       "Alex             1       31\n",
       "Hildegart        7       29\n",
       "Ingeborg         6       14\n",
       "Alwina          11        8\n",
       "Robert           6       21\n",
       "Yusuf            4       18\n",
       "Maren            7       32\n",
       "Patrizia         8       19\n",
       "Margot           7       21"
      ]
     },
     "execution_count": 15,
     "metadata": {},
     "output_type": "execute_result"
    }
   ],
   "source": [
    "data_df.groupby(by=is_weekend, axis=1).sum()"
   ]
  }
 ],
 "metadata": {
  "kernelspec": {
   "display_name": "Python 3",
   "language": "python",
   "name": "python3"
  },
  "language_info": {
   "codemirror_mode": {
    "name": "ipython",
    "version": 3
   },
   "file_extension": ".py",
   "mimetype": "text/x-python",
   "name": "python",
   "nbconvert_exporter": "python",
   "pygments_lexer": "ipython3",
   "version": "3.8.13"
  },
  "orig_nbformat": 4,
  "vscode": {
   "interpreter": {
    "hash": "9ac03a0a6051494cc606d484d27d20fce22fb7b4d169f583271e11d5ba46a56e"
   }
  }
 },
 "nbformat": 4,
 "nbformat_minor": 2
}
