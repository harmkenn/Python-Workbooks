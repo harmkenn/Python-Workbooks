{
 "cells": [
  {
   "cell_type": "code",
   "execution_count": null,
   "metadata": {},
   "outputs": [],
   "source": [
    "# https://python-course.eu/numerical-programming/python-random-numbers-and-probability.php"
   ]
  },
  {
   "cell_type": "code",
   "execution_count": 5,
   "metadata": {},
   "outputs": [
    {
     "name": "stdout",
     "output_type": "stream",
     "text": [
      "0.4289659509015663\n"
     ]
    }
   ],
   "source": [
    "import random\n",
    "random_number = random.random()\n",
    "print(random_number)"
   ]
  },
  {
   "cell_type": "code",
   "execution_count": 11,
   "metadata": {},
   "outputs": [
    {
     "name": "stdout",
     "output_type": "stream",
     "text": [
      "0.9255272870580922\n"
     ]
    }
   ],
   "source": [
    "from random import SystemRandom\n",
    "crypto = SystemRandom()\n",
    "print(crypto.random())"
   ]
  },
  {
   "cell_type": "code",
   "execution_count": 12,
   "metadata": {},
   "outputs": [
    {
     "name": "stdout",
     "output_type": "stream",
     "text": [
      "[0.06035820005475245, 0.09480014114809043, 0.5271929494348913, 0.3905924198748981, 0.04163108860224374, 0.13000993326730892, 0.025267676681949625, 0.9497980136711003, 0.40885535081352, 0.1282738635132854]\n"
     ]
    }
   ],
   "source": [
    "import random\n",
    "\n",
    "def random_list(n, secure=True):\n",
    "    random_floats = []\n",
    "    if secure:\n",
    "        crypto = random.SystemRandom()\n",
    "        random_float = crypto.random\n",
    "    else:\n",
    "        random_float = random.random\n",
    "    for _ in range(n):\n",
    "        random_floats.append(random_float())\n",
    "    return random_floats\n",
    "\n",
    "print(random_list(10, secure=False))"
   ]
  },
  {
   "cell_type": "code",
   "execution_count": 14,
   "metadata": {},
   "outputs": [
    {
     "name": "stdout",
     "output_type": "stream",
     "text": [
      "89.6 µs ± 1.88 µs per loop (mean ± std. dev. of 7 runs, 10,000 loops each)\n"
     ]
    }
   ],
   "source": [
    "%%timeit\n",
    "random_list(100)"
   ]
  },
  {
   "cell_type": "code",
   "execution_count": 15,
   "metadata": {},
   "outputs": [
    {
     "name": "stdout",
     "output_type": "stream",
     "text": [
      "20.9 µs ± 8.19 µs per loop (mean ± std. dev. of 7 runs, 10,000 loops each)\n"
     ]
    }
   ],
   "source": [
    "%%timeit\n",
    "random_list(100, secure=False)"
   ]
  },
  {
   "cell_type": "code",
   "execution_count": 16,
   "metadata": {},
   "outputs": [
    {
     "data": {
      "text/plain": [
       "[0.470995611762119,\n",
       " 0.4476015186952983,\n",
       " 0.6311991812602924,\n",
       " 0.5110836383832152,\n",
       " 0.3625895981811498,\n",
       " 0.49393126944768717,\n",
       " 0.19877384576254753,\n",
       " 0.6925684209139974,\n",
       " 0.2743570561898887,\n",
       " 0.4484424081151105]"
      ]
     },
     "execution_count": 16,
     "metadata": {},
     "output_type": "execute_result"
    }
   ],
   "source": [
    "crypto = random.SystemRandom()\n",
    "[crypto.random() for _ in range(10)]"
   ]
  },
  {
   "cell_type": "code",
   "execution_count": 17,
   "metadata": {},
   "outputs": [
    {
     "name": "stdout",
     "output_type": "stream",
     "text": [
      "86.3 µs ± 10.5 µs per loop (mean ± std. dev. of 7 runs, 10,000 loops each)\n"
     ]
    }
   ],
   "source": [
    "%%timeit\n",
    "[crypto.random() for _ in range(100)]"
   ]
  },
  {
   "cell_type": "code",
   "execution_count": 18,
   "metadata": {},
   "outputs": [
    {
     "data": {
      "text/plain": [
       "array([0.44717692, 0.21771116, 0.76008929, 0.19236605, 0.56854754,\n",
       "       0.76694118, 0.36132048, 0.945398  , 0.59095257, 0.09869703])"
      ]
     },
     "execution_count": 18,
     "metadata": {},
     "output_type": "execute_result"
    }
   ],
   "source": [
    "import numpy as np\n",
    "\n",
    "np.random.random(10)"
   ]
  },
  {
   "cell_type": "code",
   "execution_count": 19,
   "metadata": {},
   "outputs": [
    {
     "name": "stdout",
     "output_type": "stream",
     "text": [
      "3.58 µs ± 809 ns per loop (mean ± std. dev. of 7 runs, 100,000 loops each)\n"
     ]
    }
   ],
   "source": [
    "%%timeit\n",
    "np.random.random(100)"
   ]
  },
  {
   "cell_type": "code",
   "execution_count": 20,
   "metadata": {},
   "outputs": [
    {
     "name": "stdout",
     "output_type": "stream",
     "text": [
      "49.396033702256815\n",
      "1.0\n"
     ]
    }
   ],
   "source": [
    "import numpy as np\n",
    "\n",
    "list_of_random_floats = np.random.random(100)\n",
    "sum_of_values = list_of_random_floats.sum()\n",
    "print(sum_of_values)\n",
    "normalized_values = list_of_random_floats / sum_of_values\n",
    "print(normalized_values.sum())"
   ]
  },
  {
   "cell_type": "code",
   "execution_count": 21,
   "metadata": {},
   "outputs": [
    {
     "name": "stdout",
     "output_type": "stream",
     "text": [
      "Automatically generated password by Python: rthh21A0Mp1o8JQ\n"
     ]
    }
   ],
   "source": [
    "from random import SystemRandom\n",
    "sr = SystemRandom() # create an instance of the SystemRandom class\n",
    "    \n",
    "\n",
    "def generate_password(length, \n",
    "                      valid_chars=None):\n",
    "    \"\"\" generate_password(length, check_char) -> password\n",
    "        length: the length of the created password\n",
    "        check_char: a Boolean function used to check the validity of a char\n",
    "    \"\"\"\n",
    "    if valid_chars==None:\n",
    "        valid_chars = \"ABCDEFGHIJKLMNOPQRSTUVWXYZ\"\n",
    "        valid_chars += valid_chars.lower() + \"0123456789\"\n",
    "    \n",
    "    password = \"\"\n",
    "    counter = 0\n",
    "    while counter < length:\n",
    "        rnum = sr.randint(0, 128)\n",
    "        char = chr(rnum)\n",
    "        if char in valid_chars:\n",
    "            password += chr(rnum)\n",
    "            counter += 1\n",
    "    return password\n",
    "\n",
    "print(\"Automatically generated password by Python: \" + generate_password(15))"
   ]
  },
  {
   "cell_type": "code",
   "execution_count": 22,
   "metadata": {},
   "outputs": [
    {
     "name": "stdout",
     "output_type": "stream",
     "text": [
      "4\n"
     ]
    }
   ],
   "source": [
    "import random\n",
    "\n",
    "outcome = random.randint(1,6)\n",
    "print(outcome)"
   ]
  },
  {
   "cell_type": "code",
   "execution_count": 23,
   "metadata": {},
   "outputs": [
    {
     "data": {
      "text/plain": [
       "[4, 4, 5, 4, 1, 1, 6, 6, 2, 3]"
      ]
     },
     "execution_count": 23,
     "metadata": {},
     "output_type": "execute_result"
    }
   ],
   "source": [
    "import random\n",
    "\n",
    "[ random.randint(1, 6) for _ in range(10) ]"
   ]
  },
  {
   "cell_type": "code",
   "execution_count": 24,
   "metadata": {},
   "outputs": [
    {
     "name": "stdout",
     "output_type": "stream",
     "text": [
      "[1 2 3 6 2 6 4 1 3 6]\n"
     ]
    }
   ],
   "source": [
    "import numpy as np\n",
    "\n",
    "outcome = np.random.randint(1, 7, size=10)\n",
    "print(outcome)"
   ]
  },
  {
   "cell_type": "code",
   "execution_count": 25,
   "metadata": {},
   "outputs": [
    {
     "name": "stdout",
     "output_type": "stream",
     "text": [
      "4\n",
      "[5]\n",
      "[5 2 2 3 2 1 1 5 5 1]\n",
      "[2 1 6 1 1 6 1 5 2 3]\n",
      "[[4 1 6 6]\n",
      " [1 5 3 4]\n",
      " [6 4 1 3]\n",
      " [3 2 5 4]\n",
      " [6 3 1 6]]\n"
     ]
    }
   ],
   "source": [
    "import numpy as np\n",
    "\n",
    "print(np.random.randint(1, 7))\n",
    "print(np.random.randint(1, 7, size=1))\n",
    "print(np.random.randint(1, 7, size=10))\n",
    "print(np.random.randint(1, 7, size=(10,))) # the same as the previous one\n",
    "print(np.random.randint(1, 7, size=(5, 4)))"
   ]
  },
  {
   "cell_type": "code",
   "execution_count": 26,
   "metadata": {},
   "outputs": [
    {
     "data": {
      "text/plain": [
       "[2, 3, 2, 5, 4, 2, 1, 1, 4, 5]"
      ]
     },
     "execution_count": 26,
     "metadata": {},
     "output_type": "execute_result"
    }
   ],
   "source": [
    "import random\n",
    "\n",
    "crypto = random.SystemRandom()\n",
    "\n",
    "[ crypto.randint(1, 6) for _ in range(10) ]"
   ]
  },
  {
   "cell_type": "code",
   "execution_count": 27,
   "metadata": {},
   "outputs": [
    {
     "name": "stdout",
     "output_type": "stream",
     "text": [
      "Zurich\n"
     ]
    }
   ],
   "source": [
    "from random import choice\n",
    "\n",
    "possible_destinations = [\"Berlin\", \"Hamburg\", \"Munich\", \n",
    "                         \"Amsterdam\", \"London\", \"Paris\", \n",
    "                         \"Zurich\", \"Heidelberg\", \"Strasbourg\", \n",
    "                         \"Augsburg\", \"Milan\", \"Rome\"]\n",
    "\n",
    "print(choice(possible_destinations))"
   ]
  },
  {
   "cell_type": "code",
   "execution_count": 28,
   "metadata": {},
   "outputs": [
    {
     "name": "stdout",
     "output_type": "stream",
     "text": [
      "London\n"
     ]
    }
   ],
   "source": [
    "from numpy.random import choice\n",
    "\n",
    "print(choice(possible_destinations))"
   ]
  },
  {
   "cell_type": "code",
   "execution_count": 29,
   "metadata": {},
   "outputs": [
    {
     "name": "stdout",
     "output_type": "stream",
     "text": [
      "['Heidelberg' 'London' 'Amsterdam']\n",
      "[['Amsterdam' 'Berlin' 'Rome' 'Munich']\n",
      " ['Zurich' 'Amsterdam' 'Augsburg' 'Amsterdam']\n",
      " ['Strasbourg' 'Milan' 'Milan' 'Rome']]\n"
     ]
    }
   ],
   "source": [
    "x1 = choice(possible_destinations, size=3)\n",
    "print(x1)\n",
    "x2 = choice(possible_destinations, size=(3, 4))\n",
    "print(x2)"
   ]
  },
  {
   "cell_type": "code",
   "execution_count": 30,
   "metadata": {},
   "outputs": [
    {
     "name": "stdout",
     "output_type": "stream",
     "text": [
      "[['Heidelberg' 'Berlin' 'Augsburg' 'Paris']\n",
      " ['Rome' 'Amsterdam' 'Munich' 'Zurich']\n",
      " ['Strasbourg' 'Milan' 'London' 'Hamburg']]\n"
     ]
    }
   ],
   "source": [
    "print(choice(possible_destinations, size=(3, 4), replace=False))"
   ]
  },
  {
   "cell_type": "code",
   "execution_count": 31,
   "metadata": {},
   "outputs": [
    {
     "name": "stdout",
     "output_type": "stream",
     "text": [
      "[[0.77682684 0.26216107 0.62511977 0.03833562]\n",
      " [0.56909128 0.14888742 0.32775864 0.52105353]\n",
      " [0.18983855 0.91632611 0.58242875 0.0453414 ]]\n"
     ]
    }
   ],
   "source": [
    "import numpy as np\n",
    "\n",
    "x = np.random.random_sample((3, 4))\n",
    "print(x)"
   ]
  },
  {
   "cell_type": "code",
   "execution_count": 32,
   "metadata": {},
   "outputs": [
    {
     "name": "stdout",
     "output_type": "stream",
     "text": [
      "[0.28505643 0.60332087 0.42603469 0.38399886 0.830609   0.61210207\n",
      " 0.21535595]\n",
      "[0.44549417 0.46918354 0.19701411 0.22185423 0.73485096 0.74510208\n",
      " 0.18350143]\n"
     ]
    }
   ],
   "source": [
    "x = np.random.random_sample(7)\n",
    "print(x)\n",
    "\n",
    "y = np.random.random_sample((7,))\n",
    "print(y)"
   ]
  },
  {
   "cell_type": "code",
   "execution_count": 34,
   "metadata": {},
   "outputs": [
    {
     "name": "stdout",
     "output_type": "stream",
     "text": [
      "[[ 2.18426573  1.44422356  5.3249435   0.0761163 ]\n",
      " [ 1.93166721  2.50436681 -1.31198938 -2.35503176]\n",
      " [-3.00880564  5.31864325  4.36167021  0.30877025]]\n"
     ]
    }
   ],
   "source": [
    "a = -3.4\n",
    "b = 5.9\n",
    "\n",
    "A = (b - a) * np.random.random_sample((3, 4)) + a\n",
    "print(A)"
   ]
  },
  {
   "cell_type": "code",
   "execution_count": 40,
   "metadata": {},
   "outputs": [
    {
     "name": "stdout",
     "output_type": "stream",
     "text": [
      "[11, 17, 49, 39, 24, 41]\n"
     ]
    }
   ],
   "source": [
    "import random\n",
    "\n",
    "print(random.sample(range(1, 50), 6))"
   ]
  }
 ],
 "metadata": {
  "kernelspec": {
   "display_name": "Python 3.10.7 64-bit",
   "language": "python",
   "name": "python3"
  },
  "language_info": {
   "codemirror_mode": {
    "name": "ipython",
    "version": 3
   },
   "file_extension": ".py",
   "mimetype": "text/x-python",
   "name": "python",
   "nbconvert_exporter": "python",
   "pygments_lexer": "ipython3",
   "version": "3.10.7"
  },
  "orig_nbformat": 4,
  "vscode": {
   "interpreter": {
    "hash": "f627b94a91bc915482d65575b2ea77ee7c3710ea9aacf075a668e3021bd93680"
   }
  }
 },
 "nbformat": 4,
 "nbformat_minor": 2
}
