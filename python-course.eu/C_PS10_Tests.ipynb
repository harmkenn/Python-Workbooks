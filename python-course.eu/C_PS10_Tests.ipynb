{
  "nbformat": 4,
  "nbformat_minor": 0,
  "metadata": {
    "colab": {
      "name": "C_PS10_Tests.ipynb",
      "provenance": [],
      "authorship_tag": "ABX9TyMjBFfY8G20iC4lELq807EZ",
      "include_colab_link": true
    },
    "kernelspec": {
      "name": "python3",
      "display_name": "Python 3"
    },
    "language_info": {
      "name": "python"
    }
  },
  "cells": [
    {
      "cell_type": "markdown",
      "metadata": {
        "id": "view-in-github",
        "colab_type": "text"
      },
      "source": [
        "<a href=\"https://colab.research.google.com/github/harmkenn/Python-Workbooks/blob/main/python-course.eu/C_PS10_Tests.ipynb\" target=\"_parent\"><img src=\"https://colab.research.google.com/assets/colab-badge.svg\" alt=\"Open In Colab\"/></a>"
      ]
    },
    {
      "cell_type": "code",
      "execution_count": null,
      "metadata": {
        "id": "vD1FdyaT4ZNS"
      },
      "outputs": [],
      "source": [
        "# https://python-course.eu/advanced-python/tests-doctest-unittest.php"
      ]
    },
    {
      "cell_type": "code",
      "source": [
        "def fib(n):\n",
        "    \"\"\" Calculates the n-th Fibonacci number iteratively \"\"\"\n",
        "    a, b = 0, 1\n",
        "    for i in range(n):\n",
        "        a, b = b, a + b\n",
        "    return a\n",
        "def fiblist(n):\n",
        "    \"\"\" creates a list of Fibonacci numbers up to the n-th generation \"\"\"\n",
        "    fib = [0,1]\n",
        "    for i in range(1,n):\n",
        "        fib += [fib[-1]+fib[-2]]\n",
        "    return fib"
      ],
      "metadata": {
        "id": "UWeDy05r4dI0"
      },
      "execution_count": 1,
      "outputs": []
    }
  ]
}