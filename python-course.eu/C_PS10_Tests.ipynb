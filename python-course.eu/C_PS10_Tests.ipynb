{
  "cells": [
    {
      "cell_type": "markdown",
      "metadata": {
        "colab_type": "text",
        "id": "view-in-github"
      },
      "source": [
        "<a href=\"https://colab.research.google.com/github/harmkenn/Python-Workbooks/blob/main/python-course.eu/C_PS10_Tests.ipynb\" target=\"_parent\"><img src=\"https://colab.research.google.com/assets/colab-badge.svg\" alt=\"Open In Colab\"/></a>"
      ]
    },
    {
      "cell_type": "code",
      "execution_count": null,
      "metadata": {
        "id": "vD1FdyaT4ZNS"
      },
      "outputs": [],
      "source": [
        "# https://python-course.eu/advanced-python/tests-doctest-unittest.php"
      ]
    },
    {
      "cell_type": "code",
      "execution_count": 2,
      "metadata": {
        "id": "UWeDy05r4dI0"
      },
      "outputs": [],
      "source": [
        "def fib(n):\n",
        "    \"\"\" Calculates the n-th Fibonacci number iteratively \"\"\"\n",
        "    a, b = 0, 1\n",
        "    for i in range(n):\n",
        "        a, b = b, a + b\n",
        "    return a\n",
        "def fiblist(n):\n",
        "    \"\"\" creates a list of Fibonacci numbers up to the n-th generation \"\"\"\n",
        "    fib = [0,1]\n",
        "    for i in range(1,n):\n",
        "        fib += [fib[-1]+fib[-2]]\n",
        "    return fib"
      ]
    },
    {
      "cell_type": "code",
      "execution_count": 3,
      "metadata": {},
      "outputs": [
        {
          "data": {
            "text/plain": [
              "0"
            ]
          },
          "execution_count": 3,
          "metadata": {},
          "output_type": "execute_result"
        }
      ],
      "source": [
        "from C_PC10_fibanacci1 import fib, fiblist\n",
        "fib(0)"
      ]
    },
    {
      "cell_type": "code",
      "execution_count": 4,
      "metadata": {},
      "outputs": [
        {
          "data": {
            "text/plain": [
              "55"
            ]
          },
          "execution_count": 4,
          "metadata": {},
          "output_type": "execute_result"
        }
      ],
      "source": [
        "fib(10)"
      ]
    },
    {
      "cell_type": "code",
      "execution_count": 5,
      "metadata": {},
      "outputs": [
        {
          "data": {
            "text/plain": [
              "[0, 1]"
            ]
          },
          "execution_count": 5,
          "metadata": {},
          "output_type": "execute_result"
        }
      ],
      "source": [
        "fiblist(-8)"
      ]
    },
    {
      "cell_type": "code",
      "execution_count": 6,
      "metadata": {},
      "outputs": [
        {
          "data": {
            "text/plain": [
              "[0, 1, 1, 2, 3, 5, 8, 13, 21, 34, 55]"
            ]
          },
          "execution_count": 6,
          "metadata": {},
          "output_type": "execute_result"
        }
      ],
      "source": [
        "fiblist(10)"
      ]
    },
    {
      "cell_type": "code",
      "execution_count": 1,
      "metadata": {},
      "outputs": [],
      "source": [
        "import doctest\n",
        "def fib(n):\n",
        "    \"\"\" \n",
        "    Calculates the n-th Fibonacci number iteratively  \n",
        "    >>> fib(0)\n",
        "    0\n",
        "    >>> fib(1)\n",
        "    1\n",
        "    >>> fib(10) \n",
        "    55\n",
        "    >>> fib(15)\n",
        "    610\n",
        "    >>> \n",
        "    \"\"\"\n",
        "    a, b = 0, 1\n",
        "    for i in range(n):\n",
        "        a, b = b, a + b\n",
        "    return a\n",
        "if __name__ == \"__main__\": \n",
        "    doctest.testmod()"
      ]
    },
    {
      "cell_type": "code",
      "execution_count": 2,
      "metadata": {},
      "outputs": [
        {
          "name": "stdout",
          "output_type": "stream",
          "text": [
            "**********************************************************************\n",
            "File \"__main__\", line 5, in __main__.fib\n",
            "Failed example:\n",
            "    fib(0)\n",
            "Expected:\n",
            "    0\n",
            "Got:\n",
            "    1\n",
            "**********************************************************************\n",
            "File \"__main__\", line 9, in __main__.fib\n",
            "Failed example:\n",
            "    fib(10) \n",
            "Expected:\n",
            "    55\n",
            "Got:\n",
            "    89\n",
            "**********************************************************************\n",
            "File \"__main__\", line 11, in __main__.fib\n",
            "Failed example:\n",
            "    fib(15)\n",
            "Expected:\n",
            "    610\n",
            "Got:\n",
            "    987\n",
            "**********************************************************************\n",
            "1 items had failures:\n",
            "   3 of   4 in __main__.fib\n",
            "***Test Failed*** 3 failures.\n"
          ]
        }
      ],
      "source": [
        "import doctest\n",
        "def fib(n):\n",
        "    \"\"\" \n",
        "    Calculates the n-th Fibonacci number iteratively  \n",
        "    >>> fib(0)\n",
        "    0\n",
        "    >>> fib(1)\n",
        "    1\n",
        "    >>> fib(10) \n",
        "    55\n",
        "    >>> fib(15)\n",
        "    610\n",
        "    >>> \n",
        "    \"\"\"\n",
        "    a, b = 1, 1\n",
        "    for i in range(n):\n",
        "        a, b = b, a + b\n",
        "    return a\n",
        "if __name__ == \"__main__\": \n",
        "    doctest.testmod()"
      ]
    }
  ],
  "metadata": {
    "colab": {
      "authorship_tag": "ABX9TyMjBFfY8G20iC4lELq807EZ",
      "include_colab_link": true,
      "name": "C_PS10_Tests.ipynb",
      "provenance": []
    },
    "kernelspec": {
      "display_name": "Python 3.8.13 64-bit ('shims')",
      "language": "python",
      "name": "python3"
    },
    "language_info": {
      "codemirror_mode": {
        "name": "ipython",
        "version": 3
      },
      "file_extension": ".py",
      "mimetype": "text/x-python",
      "name": "python",
      "nbconvert_exporter": "python",
      "pygments_lexer": "ipython3",
      "version": "3.8.13"
    },
    "vscode": {
      "interpreter": {
        "hash": "9ac03a0a6051494cc606d484d27d20fce22fb7b4d169f583271e11d5ba46a56e"
      }
    }
  },
  "nbformat": 4,
  "nbformat_minor": 0
}
