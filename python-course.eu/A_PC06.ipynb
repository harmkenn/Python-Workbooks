{
 "cells": [
  {
   "cell_type": "code",
   "execution_count": null,
   "metadata": {},
   "outputs": [],
   "source": [
    "#https://python-course.eu/python-tutorial/data-types-and-variables.php"
   ]
  },
  {
   "cell_type": "code",
   "execution_count": 1,
   "metadata": {},
   "outputs": [
    {
     "name": "stdout",
     "output_type": "stream",
     "text": [
      "787366098712738903245678234782358292837498729182728\n"
     ]
    }
   ],
   "source": [
    "x = 787366098712738903245678234782358292837498729182728\n",
    "print(x)"
   ]
  },
  {
   "cell_type": "code",
   "execution_count": 2,
   "metadata": {},
   "outputs": [
    {
     "data": {
      "text/plain": [
       "488123970070638215986770162105731315538827586091948617997871122950228891123960901918308618286311523282239313708275589787123005317148968569797875581092352"
      ]
     },
     "execution_count": 2,
     "metadata": {},
     "output_type": "execute_result"
    }
   ],
   "source": [
    "x**3"
   ]
  },
  {
   "cell_type": "code",
   "execution_count": 3,
   "metadata": {},
   "outputs": [
    {
     "name": "stdout",
     "output_type": "stream",
     "text": [
      "(5+1j)\n"
     ]
    }
   ],
   "source": [
    "x = 3 + 4j\n",
    "y = 2 - 3j\n",
    "z = x + y\n",
    "print(z)  "
   ]
  },
  {
   "cell_type": "code",
   "execution_count": 4,
   "metadata": {},
   "outputs": [
    {
     "data": {
      "text/plain": [
       "3.3333333333333335"
      ]
     },
     "execution_count": 4,
     "metadata": {},
     "output_type": "execute_result"
    }
   ],
   "source": [
    "10/3"
   ]
  },
  {
   "cell_type": "code",
   "execution_count": 5,
   "metadata": {},
   "outputs": [
    {
     "data": {
      "text/plain": [
       "3"
      ]
     },
     "execution_count": 5,
     "metadata": {},
     "output_type": "execute_result"
    }
   ],
   "source": [
    "10//3"
   ]
  },
  {
   "cell_type": "code",
   "execution_count": 6,
   "metadata": {},
   "outputs": [
    {
     "data": {
      "text/plain": [
       "\"It doesn't matter!\""
      ]
     },
     "execution_count": 6,
     "metadata": {},
     "output_type": "execute_result"
    }
   ],
   "source": [
    "'It doesn\\'t matter!'"
   ]
  },
  {
   "cell_type": "code",
   "execution_count": 15,
   "metadata": {},
   "outputs": [
    {
     "name": "stdout",
     "output_type": "stream",
     "text": [
      "He said: \"It doesn't matter, if you enclose a string in single or double quotes!\"\n",
      "e\n",
      "b\n",
      "t\n"
     ]
    }
   ],
   "source": [
    "txt=\"He said: \\\"It doesn't matter, if you enclose a string in single or double quotes!\\\"\"\n",
    "print(txt)\n",
    "print(txt[25])\n",
    "print(txt[len(txt)-12])\n",
    "print(txt[-5])"
   ]
  },
  {
   "cell_type": "code",
   "execution_count": 16,
   "metadata": {},
   "outputs": [
    {
     "name": "stdout",
     "output_type": "stream",
     "text": [
      "L S !\n"
     ]
    }
   ],
   "source": [
    "text = \"Lists and Strings can be accessed via indices!\"\n",
    "print(text[0], text[10], text[-1])    "
   ]
  },
  {
   "cell_type": "code",
   "execution_count": 17,
   "metadata": {},
   "outputs": [
    {
     "name": "stdout",
     "output_type": "stream",
     "text": [
      "Vienna\n",
      "Paris\n",
      "Hamburg\n"
     ]
    }
   ],
   "source": [
    "cities = [\"Vienna\", \"London\", \"Paris\", \n",
    "          \"Berlin\", \"Zurich\", \"Hamburg\"]\n",
    "print(cities[0])\n",
    "print(cities[2])\n",
    "print(cities[-1])  "
   ]
  },
  {
   "cell_type": "code",
   "execution_count": 18,
   "metadata": {},
   "outputs": [
    {
     "name": "stdout",
     "output_type": "stream",
     "text": [
      "Python and C are quite different!\n",
      "Accessing the last element of the list: Perl\n"
     ]
    }
   ],
   "source": [
    "languages = [\"Python\", \"C\", \"C++\", \"Java\", \"Perl\"]\n",
    "print(languages[0] + \" and \" + languages[1] + \" are quite different!\") \n",
    "print(\"Accessing the last element of the list: \" + languages[-1]) "
   ]
  },
  {
   "cell_type": "code",
   "execution_count": 21,
   "metadata": {},
   "outputs": [
    {
     "name": "stdout",
     "output_type": "stream",
     "text": [
      "['Marc', 'Mayer']\n",
      "Marc\n",
      "Mayer\n"
     ]
    }
   ],
   "source": [
    "person = [[\"Marc\", \"Mayer\"], \n",
    "          [\"17, Oxford Str\", \"12345\", \"London\"], \n",
    "          \"07876-7876\"]\n",
    "name = person[0]\n",
    "print(name)\n",
    "first_name = person[0][0]\n",
    "print(first_name)\n",
    "last_name = person[0][1]\n",
    "print(last_name)"
   ]
  },
  {
   "cell_type": "code",
   "execution_count": 22,
   "metadata": {},
   "outputs": [
    {
     "name": "stdout",
     "output_type": "stream",
     "text": [
      "17, Oxford Str\n"
     ]
    }
   ],
   "source": [
    "street = person[1][0]\n",
    "print(street)"
   ]
  },
  {
   "cell_type": "code",
   "execution_count": 1,
   "metadata": {},
   "outputs": [
    {
     "name": "stdout",
     "output_type": "stream",
     "text": [
      "Python and C are quite different!\n",
      "Accessing the last element of the list: Perl\n"
     ]
    }
   ],
   "source": [
    "languages = [\"Python\", \"C\", \"C++\", \"Java\", \"Perl\"]\n",
    "print(languages[0] + \" and \" + languages[1] + \" are quite different!\") \n",
    "print(\"Accessing the last element of the list: \" + languages[-1]) "
   ]
  },
  {
   "cell_type": "code",
   "execution_count": 2,
   "metadata": {},
   "outputs": [],
   "source": [
    "group = [\"Bob\", 23, \"George\", 72, \"Myriam\", 29]"
   ]
  },
  {
   "cell_type": "code",
   "execution_count": 3,
   "metadata": {},
   "outputs": [
    {
     "name": "stdout",
     "output_type": "stream",
     "text": [
      "['Marc', 'Mayer']\n"
     ]
    }
   ],
   "source": [
    "#Sublists\n",
    "person = [[\"Marc\", \"Mayer\"], \n",
    "          [\"17, Oxford Str\", \"12345\", \"London\"], \n",
    "          \"07876-7876\"]\n",
    "name = person[0]\n",
    "print(name)"
   ]
  },
  {
   "cell_type": "code",
   "execution_count": 4,
   "metadata": {},
   "outputs": [
    {
     "name": "stdout",
     "output_type": "stream",
     "text": [
      "Marc\n"
     ]
    }
   ],
   "source": [
    "first_name = person[0][0]\n",
    "print(first_name)"
   ]
  },
  {
   "cell_type": "code",
   "execution_count": 5,
   "metadata": {},
   "outputs": [
    {
     "name": "stdout",
     "output_type": "stream",
     "text": [
      "Mayer\n"
     ]
    }
   ],
   "source": [
    "last_name = person[0][1]\n",
    "print(last_name)"
   ]
  },
  {
   "cell_type": "code",
   "execution_count": 6,
   "metadata": {},
   "outputs": [
    {
     "data": {
      "text/plain": [
       "['b', ['c', 'x']]"
      ]
     },
     "execution_count": 6,
     "metadata": {},
     "output_type": "execute_result"
    }
   ],
   "source": [
    "complex_list = [[\"a\", [\"b\", [\"c\", \"x\"]]], 42]\n",
    "complex_list[0][1]"
   ]
  },
  {
   "cell_type": "code",
   "execution_count": 7,
   "metadata": {},
   "outputs": [
    {
     "data": {
      "text/plain": [
       "'c'"
      ]
     },
     "execution_count": 7,
     "metadata": {},
     "output_type": "execute_result"
    }
   ],
   "source": [
    "complex_list[0][1][1][0]"
   ]
  },
  {
   "cell_type": "code",
   "execution_count": 1,
   "metadata": {},
   "outputs": [
    {
     "data": {
      "text/plain": [
       "['Python', 'C', 'C++', 'Java', 'Lisp']"
      ]
     },
     "execution_count": 1,
     "metadata": {},
     "output_type": "execute_result"
    }
   ],
   "source": [
    "#Changing Lists\n",
    "languages = [\"Python\", \"C\", \"C++\", \"Java\", \"Perl\"]\n",
    "languages[4] = \"Lisp\"\n",
    "languages"
   ]
  },
  {
   "cell_type": "code",
   "execution_count": 2,
   "metadata": {},
   "outputs": [
    {
     "data": {
      "text/plain": [
       "['Python', 'C', 'C++', 'Java', 'Lisp', 'Haskell']"
      ]
     },
     "execution_count": 2,
     "metadata": {},
     "output_type": "execute_result"
    }
   ],
   "source": [
    "languages.append(\"Haskell\")\n",
    "languages"
   ]
  },
  {
   "cell_type": "code",
   "execution_count": 3,
   "metadata": {},
   "outputs": [
    {
     "data": {
      "text/plain": [
       "['Python', 'Perl', 'C', 'C++', 'Java', 'Lisp', 'Haskell']"
      ]
     },
     "execution_count": 3,
     "metadata": {},
     "output_type": "execute_result"
    }
   ],
   "source": [
    "languages.insert(1, \"Perl\")\n",
    "languages"
   ]
  },
  {
   "cell_type": "code",
   "execution_count": 14,
   "metadata": {},
   "outputs": [
    {
     "name": "stdout",
     "output_type": "stream",
     "text": [
      "Shopping List: ['milk', 'yoghurt', 'egg', 'butter', 'bread', 'bananas'] Cart: []\n"
     ]
    }
   ],
   "source": [
    "shopping_list = ['milk', 'yoghurt', 'egg', 'butter', 'bread', 'bananas']\n",
    "cart = []\n",
    "#article = shopping_list.pop()\n",
    "#cart.append(article)\n",
    "print('Shopping List:',shopping_list,'Cart:',cart)"
   ]
  },
  {
   "cell_type": "code",
   "execution_count": 15,
   "metadata": {},
   "outputs": [
    {
     "name": "stdout",
     "output_type": "stream",
     "text": [
      "Shopping List: ['milk', 'yoghurt', 'egg', 'butter', 'bread'] Cart: ['bananas']\n",
      "Shopping List: ['milk', 'yoghurt', 'egg', 'butter'] Cart: ['bananas', 'bread']\n",
      "Shopping List: ['milk', 'yoghurt', 'egg'] Cart: ['bananas', 'bread', 'butter']\n",
      "Shopping List: ['milk', 'yoghurt'] Cart: ['bananas', 'bread', 'butter', 'egg']\n",
      "Shopping List: ['milk'] Cart: ['bananas', 'bread', 'butter', 'egg', 'yoghurt']\n",
      "Shopping List: [] Cart: ['bananas', 'bread', 'butter', 'egg', 'yoghurt', 'milk']\n"
     ]
    }
   ],
   "source": [
    "while shopping_list != []:\n",
    "    article = shopping_list.pop()\n",
    "    cart.append(article)\n",
    "    print('Shopping List:',shopping_list,'Cart:',cart)"
   ]
  },
  {
   "cell_type": "code",
   "execution_count": 19,
   "metadata": {},
   "outputs": [
    {
     "data": {
      "text/plain": [
       "['lists', 'are', 'mutable']"
      ]
     },
     "execution_count": 19,
     "metadata": {},
     "output_type": "execute_result"
    }
   ],
   "source": [
    "#Tuples\n",
    "alist = [\"tuples\", \"are\", \"immutable\"]\n",
    "atuple = (\"tuples\", \"are\", \"immutable\")\n",
    "alist[0]='lists'\n",
    "alist[2]='mutable'\n",
    "alist\n",
    "#atuple[2]='mutable'"
   ]
  },
  {
   "cell_type": "code",
   "execution_count": 20,
   "metadata": {},
   "outputs": [
    {
     "data": {
      "text/plain": [
       "'Python'"
      ]
     },
     "execution_count": 20,
     "metadata": {},
     "output_type": "execute_result"
    }
   ],
   "source": [
    "#Slicing\n",
    "slogan = \"Python is great\"\n",
    "first_six = slogan[0:6]\n",
    "first_six"
   ]
  },
  {
   "cell_type": "code",
   "execution_count": 21,
   "metadata": {},
   "outputs": [
    {
     "data": {
      "text/plain": [
       "'n is great'"
      ]
     },
     "execution_count": 21,
     "metadata": {},
     "output_type": "execute_result"
    }
   ],
   "source": [
    "starting_at_five = slogan[5:]\n",
    "starting_at_five"
   ]
  },
  {
   "cell_type": "code",
   "execution_count": 22,
   "metadata": {},
   "outputs": [
    {
     "data": {
      "text/plain": [
       "'Python is '"
      ]
     },
     "execution_count": 22,
     "metadata": {},
     "output_type": "execute_result"
    }
   ],
   "source": [
    "without_last_five = slogan[0:-5]\n",
    "without_last_five"
   ]
  },
  {
   "cell_type": "code",
   "execution_count": 23,
   "metadata": {},
   "outputs": [
    {
     "name": "stdout",
     "output_type": "stream",
     "text": [
      "['Vienna', 'London', 'Paris']\n"
     ]
    }
   ],
   "source": [
    "cities = [\"Vienna\", \"London\", \"Paris\", \"Berlin\", \"Zurich\", \"Hamburg\"]\n",
    "first_three = cities[0:3]\n",
    "# or easier:\n",
    "... \n",
    "first_three = cities[:3]\n",
    "print(first_three)"
   ]
  },
  {
   "cell_type": "code",
   "execution_count": 24,
   "metadata": {},
   "outputs": [
    {
     "name": "stdout",
     "output_type": "stream",
     "text": [
      "['Vienna', 'London', 'Paris', 'Berlin']\n"
     ]
    }
   ],
   "source": [
    "all_but_last_two = cities[:-2]\n",
    "print(all_but_last_two)"
   ]
  },
  {
   "cell_type": "code",
   "execution_count": 25,
   "metadata": {},
   "outputs": [
    {
     "data": {
      "text/plain": [
       "'Ph d n  e'"
      ]
     },
     "execution_count": 25,
     "metadata": {},
     "output_type": "execute_result"
    }
   ],
   "source": [
    "#Every third letter0,3,6,...\n",
    "slogan = \"Python under Linux is great\"\n",
    "slogan[::3]"
   ]
  },
  {
   "cell_type": "code",
   "execution_count": 34,
   "metadata": {},
   "outputs": [
    {
     "name": "stdout",
     "output_type": "stream",
     "text": [
      "69\n",
      "68\n"
     ]
    },
    {
     "data": {
      "text/plain": [
       "'IWfh eyno uy oaur ea rgeo ignogi ntgo  tloi vper oignr aImt,a lyyo,u  ymoiug hmti gahst  waesl lw edlol  ilti vien  iPny tVhiocne!n!z!a!'"
      ]
     },
     "execution_count": 34,
     "metadata": {},
     "output_type": "execute_result"
    }
   ],
   "source": [
    "s = 'If you are going to live in Italy, you might as well live in Vicenza.'\n",
    "print(len(s))\n",
    "t = 'When you are going to program, you might as well do it in Python!!!!!'\n",
    "print(len(t))\n",
    "b = \"\".join([\"\".join(x) for x in zip(s,t)])\n",
    "b"
   ]
  },
  {
   "cell_type": "code",
   "execution_count": 35,
   "metadata": {},
   "outputs": [
    {
     "data": {
      "text/plain": [
       "'If you are going to live in Italy, you might as well live in Vicenza'"
      ]
     },
     "execution_count": 35,
     "metadata": {},
     "output_type": "execute_result"
    }
   ],
   "source": [
    "b[::2]"
   ]
  },
  {
   "cell_type": "code",
   "execution_count": 36,
   "metadata": {},
   "outputs": [
    {
     "data": {
      "text/plain": [
       "'When you are going to program, you might as well do it in Python!!!!'"
      ]
     },
     "execution_count": 36,
     "metadata": {},
     "output_type": "execute_result"
    }
   ],
   "source": [
    "b[1::2]"
   ]
  },
  {
   "cell_type": "code",
   "execution_count": 37,
   "metadata": {},
   "outputs": [
    {
     "name": "stdout",
     "output_type": "stream",
     "text": [
      "['red', 'green', 'blue', 'black', 'white']\n"
     ]
    }
   ],
   "source": [
    "colors1 = [\"red\", \"green\",\"blue\"]\n",
    "colors2 = [\"black\", \"white\"]\n",
    "colors = colors1 + colors2\n",
    "print(colors)"
   ]
  },
  {
   "cell_type": "code",
   "execution_count": 38,
   "metadata": {},
   "outputs": [
    {
     "data": {
      "text/plain": [
       "True"
      ]
     },
     "execution_count": 38,
     "metadata": {},
     "output_type": "execute_result"
    }
   ],
   "source": [
    "# Checking if an Element is Contained in List\n",
    "abc = [\"a\",\"b\",\"c\",\"d\",\"e\"]\n",
    "\"a\" in abc"
   ]
  },
  {
   "cell_type": "code",
   "execution_count": 39,
   "metadata": {},
   "outputs": [
    {
     "data": {
      "text/plain": [
       "False"
      ]
     },
     "execution_count": 39,
     "metadata": {},
     "output_type": "execute_result"
    }
   ],
   "source": [
    "\"e\" not in abc"
   ]
  },
  {
   "cell_type": "code",
   "execution_count": 40,
   "metadata": {},
   "outputs": [
    {
     "data": {
      "text/plain": [
       "'xyz-xyz-xyz-'"
      ]
     },
     "execution_count": 40,
     "metadata": {},
     "output_type": "execute_result"
    }
   ],
   "source": [
    "#repetition\n",
    "3 * \"xyz-\""
   ]
  },
  {
   "cell_type": "code",
   "execution_count": 41,
   "metadata": {},
   "outputs": [
    {
     "data": {
      "text/plain": [
       "[['a', 'b', 'c'], ['a', 'b', 'c'], ['a', 'b', 'c'], ['a', 'b', 'c']]"
      ]
     },
     "execution_count": 41,
     "metadata": {},
     "output_type": "execute_result"
    }
   ],
   "source": [
    "x = [\"a\",\"b\",\"c\"]\n",
    "y = [x] * 4\n",
    "y"
   ]
  },
  {
   "cell_type": "code",
   "execution_count": 42,
   "metadata": {},
   "outputs": [
    {
     "data": {
      "text/plain": [
       "[['p', 'b', 'c'], ['p', 'b', 'c'], ['p', 'b', 'c'], ['p', 'b', 'c']]"
      ]
     },
     "execution_count": 42,
     "metadata": {},
     "output_type": "execute_result"
    }
   ],
   "source": [
    "y[0][0] = \"p\"\n",
    "y"
   ]
  }
 ],
 "metadata": {
  "kernelspec": {
   "display_name": "Python 3.8.13 64-bit ('3.8.13')",
   "language": "python",
   "name": "python3"
  },
  "language_info": {
   "codemirror_mode": {
    "name": "ipython",
    "version": 3
   },
   "file_extension": ".py",
   "mimetype": "text/x-python",
   "name": "python",
   "nbconvert_exporter": "python",
   "pygments_lexer": "ipython3",
   "version": "3.8.13"
  },
  "orig_nbformat": 4,
  "vscode": {
   "interpreter": {
    "hash": "110cc1dee26208153f2972f08a2ad52b6a56238dc66d48e87fb757ef2996db56"
   }
  }
 },
 "nbformat": 4,
 "nbformat_minor": 2
}
