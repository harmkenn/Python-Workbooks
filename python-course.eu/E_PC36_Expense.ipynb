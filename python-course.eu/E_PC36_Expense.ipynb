{
 "cells": [
  {
   "cell_type": "code",
   "execution_count": null,
   "metadata": {},
   "outputs": [],
   "source": [
    "# https://python-course.eu/numerical-programming/net-income-method-example-with-numpy-matplotlib-and-scipy.php"
   ]
  },
  {
   "cell_type": "code",
   "execution_count": 2,
   "metadata": {},
   "outputs": [
    {
     "data": {
      "text/plain": [
       "DatetimeIndex(['2020-04-02', '2020-04-02', '2020-04-02', '2020-04-02',\n",
       "               '2020-04-02', '2020-04-02', '2020-04-05', '2020-04-05',\n",
       "               '2020-04-05', '2020-04-05', '2020-04-09', '2020-04-09',\n",
       "               '2020-04-10', '2020-04-10', '2020-04-10', '2020-04-10',\n",
       "               '2020-04-10', '2020-04-10', '2020-04-13', '2020-04-13',\n",
       "               '2020-04-13', '2020-04-26', '2020-04-26', '2020-04-26',\n",
       "               '2020-04-26', '2020-04-27', '2020-05-03', '2020-05-03',\n",
       "               '2020-05-03', '2020-05-03', '2020-05-05', '2020-05-05',\n",
       "               '2020-05-08', '2020-05-09', '2020-05-10', '2020-05-11',\n",
       "               '2020-05-11', '2020-05-11', '2020-05-11', '2020-05-11',\n",
       "               '2020-05-13', '2020-05-18', '2020-05-25', '2020-05-25',\n",
       "               '2020-06-01', '2020-06-02', '2020-06-03', '2020-06-03',\n",
       "               '2020-06-04', '2020-06-04', '2020-06-09', '2020-06-10',\n",
       "               '2020-06-10', '2020-06-11', '2020-06-11', '2020-06-11',\n",
       "               '2020-06-11', '2020-06-11', '2020-06-12', '2020-06-13',\n",
       "               '2020-06-13', '2020-06-26', '2020-06-26', '2020-06-27',\n",
       "               '2020-07-02', '2020-07-03', '2020-07-05', '2020-07-05',\n",
       "               '2020-07-08', '2020-07-09', '2020-07-10', '2020-07-10',\n",
       "               '2020-07-10', '2020-07-10', '2020-07-10', '2020-07-10',\n",
       "               '2020-07-11', '2020-07-11', '2020-07-13', '2020-07-18',\n",
       "               '2020-07-23', '2020-07-23', '2020-07-25', '2020-07-25',\n",
       "               '2020-07-27', '2020-07-26', '2020-07-28'],\n",
       "              dtype='datetime64[ns]', name='date', freq=None)"
      ]
     },
     "execution_count": 2,
     "metadata": {},
     "output_type": "execute_result"
    }
   ],
   "source": [
    "import pandas as pd\n",
    "\n",
    "with pd.ExcelFile(\"./data1/net_income_method_2020.xlsx\") as xl:\n",
    "    accounts2descr = xl.parse(\"account numbers\", \n",
    "                              index_col=0)\n",
    "    journal = xl.parse(\"journal\", \n",
    "                       index_col=0,\n",
    "                      )\n",
    "    \n",
    "journal.index = pd.to_datetime(journal.index)\n",
    "journal.index"
   ]
  },
  {
   "cell_type": "code",
   "execution_count": 3,
   "metadata": {},
   "outputs": [
    {
     "data": {
      "text/html": [
       "<div>\n",
       "<style scoped>\n",
       "    .dataframe tbody tr th:only-of-type {\n",
       "        vertical-align: middle;\n",
       "    }\n",
       "\n",
       "    .dataframe tbody tr th {\n",
       "        vertical-align: top;\n",
       "    }\n",
       "\n",
       "    .dataframe thead th {\n",
       "        text-align: right;\n",
       "    }\n",
       "</style>\n",
       "<table border=\"1\" class=\"dataframe\">\n",
       "  <thead>\n",
       "    <tr style=\"text-align: right;\">\n",
       "      <th></th>\n",
       "      <th>description</th>\n",
       "    </tr>\n",
       "    <tr>\n",
       "      <th>account</th>\n",
       "      <th></th>\n",
       "    </tr>\n",
       "  </thead>\n",
       "  <tbody>\n",
       "    <tr>\n",
       "      <th>4400</th>\n",
       "      <td>revenue plant Munich</td>\n",
       "    </tr>\n",
       "    <tr>\n",
       "      <th>4401</th>\n",
       "      <td>revenue plant Frankfurt</td>\n",
       "    </tr>\n",
       "    <tr>\n",
       "      <th>4402</th>\n",
       "      <td>revenue plant Berlin</td>\n",
       "    </tr>\n",
       "    <tr>\n",
       "      <th>2010</th>\n",
       "      <td>souvenirs</td>\n",
       "    </tr>\n",
       "    <tr>\n",
       "      <th>2020</th>\n",
       "      <td>clothes</td>\n",
       "    </tr>\n",
       "    <tr>\n",
       "      <th>2030</th>\n",
       "      <td>other articles</td>\n",
       "    </tr>\n",
       "    <tr>\n",
       "      <th>2050</th>\n",
       "      <td>books</td>\n",
       "    </tr>\n",
       "    <tr>\n",
       "      <th>2100</th>\n",
       "      <td>insurances</td>\n",
       "    </tr>\n",
       "    <tr>\n",
       "      <th>2200</th>\n",
       "      <td>wages</td>\n",
       "    </tr>\n",
       "    <tr>\n",
       "      <th>2300</th>\n",
       "      <td>loans</td>\n",
       "    </tr>\n",
       "    <tr>\n",
       "      <th>2400</th>\n",
       "      <td>hotels</td>\n",
       "    </tr>\n",
       "    <tr>\n",
       "      <th>2500</th>\n",
       "      <td>petrol</td>\n",
       "    </tr>\n",
       "    <tr>\n",
       "      <th>2600</th>\n",
       "      <td>telecommunication</td>\n",
       "    </tr>\n",
       "    <tr>\n",
       "      <th>2610</th>\n",
       "      <td>internet</td>\n",
       "    </tr>\n",
       "  </tbody>\n",
       "</table>\n",
       "</div>"
      ],
      "text/plain": [
       "                     description\n",
       "account                         \n",
       "4400        revenue plant Munich\n",
       "4401     revenue plant Frankfurt\n",
       "4402        revenue plant Berlin\n",
       "2010                   souvenirs\n",
       "2020                     clothes\n",
       "2030              other articles\n",
       "2050                       books\n",
       "2100                  insurances\n",
       "2200                       wages\n",
       "2300                       loans\n",
       "2400                      hotels\n",
       "2500                      petrol\n",
       "2600           telecommunication\n",
       "2610                    internet"
      ]
     },
     "execution_count": 3,
     "metadata": {},
     "output_type": "execute_result"
    }
   ],
   "source": [
    "accounts2descr"
   ]
  },
  {
   "cell_type": "code",
   "execution_count": 4,
   "metadata": {},
   "outputs": [
    {
     "data": {
      "text/html": [
       "<div>\n",
       "<style scoped>\n",
       "    .dataframe tbody tr th:only-of-type {\n",
       "        vertical-align: middle;\n",
       "    }\n",
       "\n",
       "    .dataframe tbody tr th {\n",
       "        vertical-align: top;\n",
       "    }\n",
       "\n",
       "    .dataframe thead th {\n",
       "        text-align: right;\n",
       "    }\n",
       "</style>\n",
       "<table border=\"1\" class=\"dataframe\">\n",
       "  <thead>\n",
       "    <tr style=\"text-align: right;\">\n",
       "      <th></th>\n",
       "      <th>account number</th>\n",
       "      <th>document number</th>\n",
       "      <th>description</th>\n",
       "      <th>tax rate</th>\n",
       "      <th>gross amount</th>\n",
       "    </tr>\n",
       "    <tr>\n",
       "      <th>date</th>\n",
       "      <th></th>\n",
       "      <th></th>\n",
       "      <th></th>\n",
       "      <th></th>\n",
       "      <th></th>\n",
       "    </tr>\n",
       "  </thead>\n",
       "  <tbody>\n",
       "    <tr>\n",
       "      <th>2020-04-02</th>\n",
       "      <td>4402</td>\n",
       "      <td>8983233038</td>\n",
       "      <td>Zurkan, Köln</td>\n",
       "      <td>19</td>\n",
       "      <td>4105.98</td>\n",
       "    </tr>\n",
       "    <tr>\n",
       "      <th>2020-04-02</th>\n",
       "      <td>2010</td>\n",
       "      <td>57550799</td>\n",
       "      <td>Birmann, Souvenirs</td>\n",
       "      <td>19</td>\n",
       "      <td>-1890.00</td>\n",
       "    </tr>\n",
       "    <tr>\n",
       "      <th>2020-04-02</th>\n",
       "      <td>2200</td>\n",
       "      <td>14989004</td>\n",
       "      <td>wages</td>\n",
       "      <td>0</td>\n",
       "      <td>-17478.23</td>\n",
       "    </tr>\n",
       "    <tr>\n",
       "      <th>2020-04-02</th>\n",
       "      <td>2500</td>\n",
       "      <td>12766279</td>\n",
       "      <td>Filling Station, Petrol</td>\n",
       "      <td>19</td>\n",
       "      <td>-89.40</td>\n",
       "    </tr>\n",
       "    <tr>\n",
       "      <th>2020-04-02</th>\n",
       "      <td>4400</td>\n",
       "      <td>3733462359</td>\n",
       "      <td>EnergyCom, Hamburg</td>\n",
       "      <td>19</td>\n",
       "      <td>4663.54</td>\n",
       "    </tr>\n",
       "    <tr>\n",
       "      <th>2020-04-02</th>\n",
       "      <td>4402</td>\n",
       "      <td>7526058231</td>\n",
       "      <td>Enoigo, Strasbourg</td>\n",
       "      <td>19</td>\n",
       "      <td>2412.82</td>\n",
       "    </tr>\n",
       "    <tr>\n",
       "      <th>2020-04-05</th>\n",
       "      <td>4402</td>\n",
       "      <td>1157284466</td>\n",
       "      <td>Qbooks, Frankfurt</td>\n",
       "      <td>7</td>\n",
       "      <td>2631.42</td>\n",
       "    </tr>\n",
       "    <tr>\n",
       "      <th>2020-04-05</th>\n",
       "      <td>4402</td>\n",
       "      <td>7009463592</td>\n",
       "      <td>Qbooks, Köln</td>\n",
       "      <td>7</td>\n",
       "      <td>3628.45</td>\n",
       "    </tr>\n",
       "    <tr>\n",
       "      <th>2020-04-05</th>\n",
       "      <td>2020</td>\n",
       "      <td>68433353</td>\n",
       "      <td>Jamdon, Clothes</td>\n",
       "      <td>19</td>\n",
       "      <td>-1900.00</td>\n",
       "    </tr>\n",
       "    <tr>\n",
       "      <th>2020-04-05</th>\n",
       "      <td>2010</td>\n",
       "      <td>53353169</td>\n",
       "      <td>Outleg, Souvenirs</td>\n",
       "      <td>19</td>\n",
       "      <td>-2200.00</td>\n",
       "    </tr>\n",
       "  </tbody>\n",
       "</table>\n",
       "</div>"
      ],
      "text/plain": [
       "            account number  document number              description  \\\n",
       "date                                                                   \n",
       "2020-04-02            4402       8983233038             Zurkan, Köln   \n",
       "2020-04-02            2010         57550799       Birmann, Souvenirs   \n",
       "2020-04-02            2200         14989004                    wages   \n",
       "2020-04-02            2500         12766279  Filling Station, Petrol   \n",
       "2020-04-02            4400       3733462359       EnergyCom, Hamburg   \n",
       "2020-04-02            4402       7526058231       Enoigo, Strasbourg   \n",
       "2020-04-05            4402       1157284466        Qbooks, Frankfurt   \n",
       "2020-04-05            4402       7009463592             Qbooks, Köln   \n",
       "2020-04-05            2020         68433353          Jamdon, Clothes   \n",
       "2020-04-05            2010         53353169        Outleg, Souvenirs   \n",
       "\n",
       "            tax rate  gross amount  \n",
       "date                                \n",
       "2020-04-02        19       4105.98  \n",
       "2020-04-02        19      -1890.00  \n",
       "2020-04-02         0     -17478.23  \n",
       "2020-04-02        19        -89.40  \n",
       "2020-04-02        19       4663.54  \n",
       "2020-04-02        19       2412.82  \n",
       "2020-04-05         7       2631.42  \n",
       "2020-04-05         7       3628.45  \n",
       "2020-04-05        19      -1900.00  \n",
       "2020-04-05        19      -2200.00  "
      ]
     },
     "execution_count": 4,
     "metadata": {},
     "output_type": "execute_result"
    }
   ],
   "source": [
    "journal[:10]"
   ]
  },
  {
   "cell_type": "code",
   "execution_count": 5,
   "metadata": {},
   "outputs": [
    {
     "data": {
      "text/html": [
       "<div>\n",
       "<style scoped>\n",
       "    .dataframe tbody tr th:only-of-type {\n",
       "        vertical-align: middle;\n",
       "    }\n",
       "\n",
       "    .dataframe tbody tr th {\n",
       "        vertical-align: top;\n",
       "    }\n",
       "\n",
       "    .dataframe thead th {\n",
       "        text-align: right;\n",
       "    }\n",
       "</style>\n",
       "<table border=\"1\" class=\"dataframe\">\n",
       "  <thead>\n",
       "    <tr style=\"text-align: right;\">\n",
       "      <th></th>\n",
       "      <th>gross amount</th>\n",
       "    </tr>\n",
       "    <tr>\n",
       "      <th>account number</th>\n",
       "      <th></th>\n",
       "    </tr>\n",
       "  </thead>\n",
       "  <tbody>\n",
       "    <tr>\n",
       "      <th>2010</th>\n",
       "      <td>-4090.00</td>\n",
       "    </tr>\n",
       "    <tr>\n",
       "      <th>2020</th>\n",
       "      <td>-10500.80</td>\n",
       "    </tr>\n",
       "    <tr>\n",
       "      <th>2030</th>\n",
       "      <td>-1350.00</td>\n",
       "    </tr>\n",
       "    <tr>\n",
       "      <th>2050</th>\n",
       "      <td>-900.00</td>\n",
       "    </tr>\n",
       "    <tr>\n",
       "      <th>2100</th>\n",
       "      <td>-612.00</td>\n",
       "    </tr>\n",
       "    <tr>\n",
       "      <th>2200</th>\n",
       "      <td>-69912.92</td>\n",
       "    </tr>\n",
       "    <tr>\n",
       "      <th>2300</th>\n",
       "      <td>-18791.92</td>\n",
       "    </tr>\n",
       "    <tr>\n",
       "      <th>2400</th>\n",
       "      <td>-1597.10</td>\n",
       "    </tr>\n",
       "    <tr>\n",
       "      <th>2500</th>\n",
       "      <td>-89.40</td>\n",
       "    </tr>\n",
       "    <tr>\n",
       "      <th>2600</th>\n",
       "      <td>-492.48</td>\n",
       "    </tr>\n",
       "    <tr>\n",
       "      <th>2610</th>\n",
       "      <td>-561.00</td>\n",
       "    </tr>\n",
       "    <tr>\n",
       "      <th>4400</th>\n",
       "      <td>37771.84</td>\n",
       "    </tr>\n",
       "    <tr>\n",
       "      <th>4401</th>\n",
       "      <td>69610.35</td>\n",
       "    </tr>\n",
       "    <tr>\n",
       "      <th>4402</th>\n",
       "      <td>61593.99</td>\n",
       "    </tr>\n",
       "  </tbody>\n",
       "</table>\n",
       "</div>"
      ],
      "text/plain": [
       "                gross amount\n",
       "account number              \n",
       "2010                -4090.00\n",
       "2020               -10500.80\n",
       "2030                -1350.00\n",
       "2050                 -900.00\n",
       "2100                 -612.00\n",
       "2200               -69912.92\n",
       "2300               -18791.92\n",
       "2400                -1597.10\n",
       "2500                  -89.40\n",
       "2600                 -492.48\n",
       "2610                 -561.00\n",
       "4400                37771.84\n",
       "4401                69610.35\n",
       "4402                61593.99"
      ]
     },
     "execution_count": 5,
     "metadata": {},
     "output_type": "execute_result"
    }
   ],
   "source": [
    "account_sums = journal[[\"account number\", \"gross amount\"]].groupby(\"account number\").sum()\n",
    "account_sums"
   ]
  },
  {
   "cell_type": "code",
   "execution_count": 6,
   "metadata": {},
   "outputs": [
    {
     "data": {
      "text/html": [
       "<div>\n",
       "<style scoped>\n",
       "    .dataframe tbody tr th:only-of-type {\n",
       "        vertical-align: middle;\n",
       "    }\n",
       "\n",
       "    .dataframe tbody tr th {\n",
       "        vertical-align: top;\n",
       "    }\n",
       "\n",
       "    .dataframe thead th {\n",
       "        text-align: right;\n",
       "    }\n",
       "</style>\n",
       "<table border=\"1\" class=\"dataframe\">\n",
       "  <thead>\n",
       "    <tr style=\"text-align: right;\">\n",
       "      <th></th>\n",
       "      <th>gross amount</th>\n",
       "    </tr>\n",
       "    <tr>\n",
       "      <th>account number</th>\n",
       "      <th></th>\n",
       "    </tr>\n",
       "  </thead>\n",
       "  <tbody>\n",
       "    <tr>\n",
       "      <th>4400</th>\n",
       "      <td>37771.84</td>\n",
       "    </tr>\n",
       "    <tr>\n",
       "      <th>4401</th>\n",
       "      <td>69610.35</td>\n",
       "    </tr>\n",
       "    <tr>\n",
       "      <th>4402</th>\n",
       "      <td>61593.99</td>\n",
       "    </tr>\n",
       "  </tbody>\n",
       "</table>\n",
       "</div>"
      ],
      "text/plain": [
       "                gross amount\n",
       "account number              \n",
       "4400                37771.84\n",
       "4401                69610.35\n",
       "4402                61593.99"
      ]
     },
     "execution_count": 6,
     "metadata": {},
     "output_type": "execute_result"
    }
   ],
   "source": [
    "income_accounts = account_sums[account_sums[\"gross amount\"] > 0]\n",
    "income_accounts"
   ]
  },
  {
   "cell_type": "code",
   "execution_count": 7,
   "metadata": {},
   "outputs": [
    {
     "data": {
      "image/png": "[encoded data removed]",
      "text/plain": [
       "<Figure size 500x500 with 1 Axes>"
      ]
     },
     "metadata": {},
     "output_type": "display_data"
    }
   ],
   "source": [
    "plot = income_accounts.plot(y='gross amount', figsize=(5, 5), kind=\"pie\")"
   ]
  },
  {
   "cell_type": "code",
   "execution_count": 8,
   "metadata": {},
   "outputs": [
    {
     "data": {
      "text/plain": [
       "<matplotlib.legend.Legend at 0x15bed7c62f0>"
      ]
     },
     "execution_count": 8,
     "metadata": {},
     "output_type": "execute_result"
    },
    {
     "data": {
      "image/png": "[encoded data removed]",
      "text/plain": [
       "<Figure size 500x500 with 1 Axes>"
      ]
     },
     "metadata": {},
     "output_type": "display_data"
    }
   ],
   "source": [
    "plot = income_accounts.plot(y='gross amount', \n",
    "                            figsize=(5, 5), \n",
    "                            kind=\"pie\")\n",
    "plot.legend(bbox_to_anchor=(0.5, 0.5),\n",
    "            loc=\"upper left\")"
   ]
  },
  {
   "cell_type": "code",
   "execution_count": 9,
   "metadata": {},
   "outputs": [
    {
     "data": {
      "text/plain": [
       "<matplotlib.legend.Legend at 0x15bf1efff40>"
      ]
     },
     "execution_count": 9,
     "metadata": {},
     "output_type": "execute_result"
    },
    {
     "data": {
      "image/png": "[encoded data removed]",
      "text/plain": [
       "<Figure size 500x500 with 1 Axes>"
      ]
     },
     "metadata": {},
     "output_type": "display_data"
    }
   ],
   "source": [
    "plot = income_accounts.plot(y='gross amount', figsize=(5, 5), kind=\"pie\")\n",
    "plot.legend(bbox_to_anchor=(0.5, 0.5),\n",
    "            loc=\"lower right\")"
   ]
  },
  {
   "cell_type": "code",
   "execution_count": 10,
   "metadata": {},
   "outputs": [
    {
     "data": {
      "text/plain": [
       "<matplotlib.legend.Legend at 0x15bf1f89c90>"
      ]
     },
     "execution_count": 10,
     "metadata": {},
     "output_type": "execute_result"
    },
    {
     "data": {
      "image/png": "[encoded data removed]",
      "text/plain": [
       "<Figure size 500x500 with 1 Axes>"
      ]
     },
     "metadata": {},
     "output_type": "display_data"
    }
   ],
   "source": [
    "descriptions = accounts2descr[\"description\"].loc[[4400, 4401, 4402]]\n",
    "plot = income_accounts.plot(kind=\"pie\",\n",
    "                            y='gross amount', \n",
    "                            figsize=(5, 5),\n",
    "                            labels=['', '', ''])\n",
    "\n",
    "plot.legend(bbox_to_anchor=(0.5, 0.5), \n",
    "            loc=\"lower left\",\n",
    "            labels=descriptions)"
   ]
  },
  {
   "cell_type": "code",
   "execution_count": 11,
   "metadata": {},
   "outputs": [
    {
     "data": {
      "image/png": "[encoded data removed]",
      "text/plain": [
       "<Figure size 500x500 with 1 Axes>"
      ]
     },
     "metadata": {},
     "output_type": "display_data"
    }
   ],
   "source": [
    "plot = income_accounts.plot(y='gross amount', \n",
    "                            figsize=(5, 5), \n",
    "                            kind=\"bar\",\n",
    "                            legend=False)"
   ]
  },
  {
   "cell_type": "code",
   "execution_count": 12,
   "metadata": {},
   "outputs": [
    {
     "data": {
      "image/png": "[encoded data removed]",
      "text/plain": [
       "<Figure size 500x500 with 1 Axes>"
      ]
     },
     "metadata": {},
     "output_type": "display_data"
    }
   ],
   "source": [
    "plot = income_accounts.plot(y='gross amount', \n",
    "                            figsize=(5, 5), \n",
    "                            kind=\"barh\",\n",
    "                            legend=False,\n",
    "                            color=['green', 'orange', 'blue'])"
   ]
  },
  {
   "cell_type": "code",
   "execution_count": 13,
   "metadata": {},
   "outputs": [
    {
     "data": {
      "text/html": [
       "<div>\n",
       "<style scoped>\n",
       "    .dataframe tbody tr th:only-of-type {\n",
       "        vertical-align: middle;\n",
       "    }\n",
       "\n",
       "    .dataframe tbody tr th {\n",
       "        vertical-align: top;\n",
       "    }\n",
       "\n",
       "    .dataframe thead th {\n",
       "        text-align: right;\n",
       "    }\n",
       "</style>\n",
       "<table border=\"1\" class=\"dataframe\">\n",
       "  <thead>\n",
       "    <tr style=\"text-align: right;\">\n",
       "      <th></th>\n",
       "      <th>gross amount</th>\n",
       "    </tr>\n",
       "    <tr>\n",
       "      <th>account number</th>\n",
       "      <th></th>\n",
       "    </tr>\n",
       "  </thead>\n",
       "  <tbody>\n",
       "    <tr>\n",
       "      <th>2010</th>\n",
       "      <td>-4090.00</td>\n",
       "    </tr>\n",
       "    <tr>\n",
       "      <th>2020</th>\n",
       "      <td>-10500.80</td>\n",
       "    </tr>\n",
       "    <tr>\n",
       "      <th>2030</th>\n",
       "      <td>-1350.00</td>\n",
       "    </tr>\n",
       "    <tr>\n",
       "      <th>2050</th>\n",
       "      <td>-900.00</td>\n",
       "    </tr>\n",
       "    <tr>\n",
       "      <th>2100</th>\n",
       "      <td>-612.00</td>\n",
       "    </tr>\n",
       "    <tr>\n",
       "      <th>2200</th>\n",
       "      <td>-69912.92</td>\n",
       "    </tr>\n",
       "    <tr>\n",
       "      <th>2300</th>\n",
       "      <td>-18791.92</td>\n",
       "    </tr>\n",
       "    <tr>\n",
       "      <th>2400</th>\n",
       "      <td>-1597.10</td>\n",
       "    </tr>\n",
       "    <tr>\n",
       "      <th>2500</th>\n",
       "      <td>-89.40</td>\n",
       "    </tr>\n",
       "    <tr>\n",
       "      <th>2600</th>\n",
       "      <td>-492.48</td>\n",
       "    </tr>\n",
       "    <tr>\n",
       "      <th>2610</th>\n",
       "      <td>-561.00</td>\n",
       "    </tr>\n",
       "  </tbody>\n",
       "</table>\n",
       "</div>"
      ],
      "text/plain": [
       "                gross amount\n",
       "account number              \n",
       "2010                -4090.00\n",
       "2020               -10500.80\n",
       "2030                -1350.00\n",
       "2050                 -900.00\n",
       "2100                 -612.00\n",
       "2200               -69912.92\n",
       "2300               -18791.92\n",
       "2400                -1597.10\n",
       "2500                  -89.40\n",
       "2600                 -492.48\n",
       "2610                 -561.00"
      ]
     },
     "execution_count": 13,
     "metadata": {},
     "output_type": "execute_result"
    }
   ],
   "source": [
    "expenses_accounts = account_sums[account_sums[\"gross amount\"] < 0]\n",
    "expenses_accounts"
   ]
  },
  {
   "cell_type": "code",
   "execution_count": 14,
   "metadata": {},
   "outputs": [
    {
     "data": {
      "text/plain": [
       "account number\n",
       "2010            souvenirs\n",
       "2020              clothes\n",
       "2030       other articles\n",
       "2050                books\n",
       "2100           insurances\n",
       "2200                wages\n",
       "2300                loans\n",
       "2400               hotels\n",
       "2500               petrol\n",
       "2600    telecommunication\n",
       "2610             internet\n",
       "Name: description, dtype: object"
      ]
     },
     "execution_count": 14,
     "metadata": {},
     "output_type": "execute_result"
    }
   ],
   "source": [
    "acc2descr_expenses = accounts2descr[\"description\"].loc[expenses_accounts.index]\n",
    "acc2descr_expenses"
   ]
  },
  {
   "cell_type": "code",
   "execution_count": 15,
   "metadata": {},
   "outputs": [
    {
     "data": {
      "text/plain": [
       "<matplotlib.legend.Legend at 0x15bf20e4880>"
      ]
     },
     "execution_count": 15,
     "metadata": {},
     "output_type": "execute_result"
    },
    {
     "data": {
      "image/png": "[encoded data removed]",
      "text/plain": [
       "<Figure size 500x500 with 1 Axes>"
      ]
     },
     "metadata": {},
     "output_type": "display_data"
    }
   ],
   "source": [
    "expenses_accounts.set_index(acc2descr_expenses.values, inplace=True)\n",
    "\n",
    "expenses_accounts *= -1\n",
    "labels = [''] * len(expenses_accounts)\n",
    "plot = expenses_accounts.plot(kind=\"pie\",\n",
    "                            y='gross amount', \n",
    "                            figsize=(5, 5),\n",
    "                            labels=labels)\n",
    "plot.legend(bbox_to_anchor=(0.5, 0.5), \n",
    "            labels=expenses_accounts.index)"
   ]
  },
  {
   "cell_type": "code",
   "execution_count": 16,
   "metadata": {},
   "outputs": [
    {
     "data": {
      "text/html": [
       "<div>\n",
       "<style scoped>\n",
       "    .dataframe tbody tr th:only-of-type {\n",
       "        vertical-align: middle;\n",
       "    }\n",
       "\n",
       "    .dataframe tbody tr th {\n",
       "        vertical-align: top;\n",
       "    }\n",
       "\n",
       "    .dataframe thead th {\n",
       "        text-align: right;\n",
       "    }\n",
       "</style>\n",
       "<table border=\"1\" class=\"dataframe\">\n",
       "  <thead>\n",
       "    <tr style=\"text-align: right;\">\n",
       "      <th></th>\n",
       "      <th>document number</th>\n",
       "      <th>description</th>\n",
       "      <th>tax rate</th>\n",
       "      <th>gross amount</th>\n",
       "    </tr>\n",
       "    <tr>\n",
       "      <th>date</th>\n",
       "      <th></th>\n",
       "      <th></th>\n",
       "      <th></th>\n",
       "      <th></th>\n",
       "    </tr>\n",
       "  </thead>\n",
       "  <tbody>\n",
       "    <tr>\n",
       "      <th>2020-04-02</th>\n",
       "      <td>8983233038</td>\n",
       "      <td>Zurkan, Köln</td>\n",
       "      <td>19</td>\n",
       "      <td>4105.98</td>\n",
       "    </tr>\n",
       "    <tr>\n",
       "      <th>2020-04-02</th>\n",
       "      <td>57550799</td>\n",
       "      <td>Birmann, Souvenirs</td>\n",
       "      <td>19</td>\n",
       "      <td>-1890.00</td>\n",
       "    </tr>\n",
       "    <tr>\n",
       "      <th>2020-04-02</th>\n",
       "      <td>14989004</td>\n",
       "      <td>wages</td>\n",
       "      <td>0</td>\n",
       "      <td>-17478.23</td>\n",
       "    </tr>\n",
       "    <tr>\n",
       "      <th>2020-04-02</th>\n",
       "      <td>12766279</td>\n",
       "      <td>Filling Station, Petrol</td>\n",
       "      <td>19</td>\n",
       "      <td>-89.40</td>\n",
       "    </tr>\n",
       "    <tr>\n",
       "      <th>2020-04-02</th>\n",
       "      <td>3733462359</td>\n",
       "      <td>EnergyCom, Hamburg</td>\n",
       "      <td>19</td>\n",
       "      <td>4663.54</td>\n",
       "    </tr>\n",
       "    <tr>\n",
       "      <th>...</th>\n",
       "      <td>...</td>\n",
       "      <td>...</td>\n",
       "      <td>...</td>\n",
       "      <td>...</td>\n",
       "    </tr>\n",
       "    <tr>\n",
       "      <th>2020-07-25</th>\n",
       "      <td>5204418668</td>\n",
       "      <td>BoKoData, Bodensee, Konstanz</td>\n",
       "      <td>19</td>\n",
       "      <td>3678.38</td>\n",
       "    </tr>\n",
       "    <tr>\n",
       "      <th>2020-07-25</th>\n",
       "      <td>85241331</td>\n",
       "      <td>Hotel, Konstanz</td>\n",
       "      <td>7</td>\n",
       "      <td>-583.00</td>\n",
       "    </tr>\n",
       "    <tr>\n",
       "      <th>2020-07-27</th>\n",
       "      <td>26865618</td>\n",
       "      <td>Hotel, Franfurt</td>\n",
       "      <td>7</td>\n",
       "      <td>-450.00</td>\n",
       "    </tr>\n",
       "    <tr>\n",
       "      <th>2020-07-26</th>\n",
       "      <td>5892708524</td>\n",
       "      <td>Oscar Zopvar KG, Luxemburg</td>\n",
       "      <td>19</td>\n",
       "      <td>2589.80</td>\n",
       "    </tr>\n",
       "    <tr>\n",
       "      <th>2020-07-28</th>\n",
       "      <td>1633775505</td>\n",
       "      <td>Oscar Zopvar KG, Luxemburg</td>\n",
       "      <td>19</td>\n",
       "      <td>3578.46</td>\n",
       "    </tr>\n",
       "  </tbody>\n",
       "</table>\n",
       "<p>87 rows × 4 columns</p>\n",
       "</div>"
      ],
      "text/plain": [
       "            document number                   description  tax rate  \\\n",
       "date                                                                  \n",
       "2020-04-02       8983233038                  Zurkan, Köln        19   \n",
       "2020-04-02         57550799            Birmann, Souvenirs        19   \n",
       "2020-04-02         14989004                         wages         0   \n",
       "2020-04-02         12766279       Filling Station, Petrol        19   \n",
       "2020-04-02       3733462359            EnergyCom, Hamburg        19   \n",
       "...                     ...                           ...       ...   \n",
       "2020-07-25       5204418668  BoKoData, Bodensee, Konstanz        19   \n",
       "2020-07-25         85241331               Hotel, Konstanz         7   \n",
       "2020-07-27         26865618               Hotel, Franfurt         7   \n",
       "2020-07-26       5892708524    Oscar Zopvar KG, Luxemburg        19   \n",
       "2020-07-28       1633775505    Oscar Zopvar KG, Luxemburg        19   \n",
       "\n",
       "            gross amount  \n",
       "date                      \n",
       "2020-04-02       4105.98  \n",
       "2020-04-02      -1890.00  \n",
       "2020-04-02     -17478.23  \n",
       "2020-04-02        -89.40  \n",
       "2020-04-02       4663.54  \n",
       "...                  ...  \n",
       "2020-07-25       3678.38  \n",
       "2020-07-25       -583.00  \n",
       "2020-07-27       -450.00  \n",
       "2020-07-26       2589.80  \n",
       "2020-07-28       3578.46  \n",
       "\n",
       "[87 rows x 4 columns]"
      ]
     },
     "execution_count": 16,
     "metadata": {},
     "output_type": "execute_result"
    }
   ],
   "source": [
    "journal.drop(columns=[\"account number\"])"
   ]
  },
  {
   "cell_type": "code",
   "execution_count": 17,
   "metadata": {},
   "outputs": [
    {
     "data": {
      "text/html": [
       "<div>\n",
       "<style scoped>\n",
       "    .dataframe tbody tr th:only-of-type {\n",
       "        vertical-align: middle;\n",
       "    }\n",
       "\n",
       "    .dataframe tbody tr th {\n",
       "        vertical-align: top;\n",
       "    }\n",
       "\n",
       "    .dataframe thead th {\n",
       "        text-align: right;\n",
       "    }\n",
       "</style>\n",
       "<table border=\"1\" class=\"dataframe\">\n",
       "  <thead>\n",
       "    <tr style=\"text-align: right;\">\n",
       "      <th></th>\n",
       "      <th>Expenses Gross</th>\n",
       "      <th>Input Taxes</th>\n",
       "      <th>Sales Gross</th>\n",
       "      <th>Sales Taxes</th>\n",
       "    </tr>\n",
       "    <tr>\n",
       "      <th>Tax Rate</th>\n",
       "      <th></th>\n",
       "      <th></th>\n",
       "      <th></th>\n",
       "      <th></th>\n",
       "    </tr>\n",
       "  </thead>\n",
       "  <tbody>\n",
       "    <tr>\n",
       "      <th>0</th>\n",
       "      <td>-90102.20</td>\n",
       "      <td>0.00</td>\n",
       "      <td>8334.43</td>\n",
       "      <td>-0.00</td>\n",
       "    </tr>\n",
       "    <tr>\n",
       "      <th>7</th>\n",
       "      <td>-3847.10</td>\n",
       "      <td>786.85</td>\n",
       "      <td>11240.71</td>\n",
       "      <td>-269.30</td>\n",
       "    </tr>\n",
       "    <tr>\n",
       "      <th>19</th>\n",
       "      <td>-14948.32</td>\n",
       "      <td>28386.20</td>\n",
       "      <td>149401.04</td>\n",
       "      <td>-2840.18</td>\n",
       "    </tr>\n",
       "  </tbody>\n",
       "</table>\n",
       "</div>"
      ],
      "text/plain": [
       "          Expenses Gross  Input Taxes  Sales Gross  Sales Taxes\n",
       "Tax Rate                                                       \n",
       "0              -90102.20         0.00      8334.43        -0.00\n",
       "7               -3847.10       786.85     11240.71      -269.30\n",
       "19             -14948.32     28386.20    149401.04     -2840.18"
      ]
     },
     "execution_count": 17,
     "metadata": {},
     "output_type": "execute_result"
    }
   ],
   "source": [
    "def tax_sums(journal_df, months=None):\n",
    "    \"\"\" Returns a DataFrame with sales and tax rates -\n",
    "         If a number or list is passed to 'months', only the sales\n",
    "         of the corresponding months will be used.\n",
    "         Example: tax_sums(df, months=[3, 6]) will only use the months\n",
    "         3 (March) and 6 (June)\"\"\"\n",
    "    if months:\n",
    "        if isinstance(months, int):\n",
    "            month_cond = journal_df.index.month == months\n",
    "        elif isinstance(months, (list, tuple)):\n",
    "            month_cond = journal_df.index.month.isin(months)\n",
    "        positive = journal_df[\"gross amount\"] > 0\n",
    "        # sales_taxes eq. umsatzsteuer\n",
    "        sales_taxes = journal_df[positive & month_cond]\n",
    "        negative = journal_df[\"gross amount\"] < 0\n",
    "        # input_taxes equivalent to German Vorsteuer\n",
    "        input_taxes = journal_df[negative & month_cond]   \n",
    "    else:\n",
    "        sales_taxes = journal_df[journal_df[\"gross amount\"] > 0]\n",
    "        input_taxes = journal_df[journal_df[\"gross amount\"] < 0]\n",
    "    \n",
    "    sales_taxes = sales_taxes[[\"tax rate\", \"gross amount\"]].groupby(\"tax rate\").sum()\n",
    "    sales_taxes.rename(columns={\"gross amount\": \"Sales Gross\"},\n",
    "                       inplace=True)\n",
    "    sales_taxes.index.name = 'Tax Rate'\n",
    "    \n",
    "    input_taxes = input_taxes[[\"tax rate\", \"gross amount\"]].groupby(\"tax rate\").sum()\n",
    "    input_taxes.rename(columns={\"gross amount\": \"Expenses Gross\"},\n",
    "                      inplace=True)\n",
    "    input_taxes.index.name = 'Tax Rate'\n",
    "    \n",
    "    taxes = pd.concat([input_taxes, sales_taxes], axis=1)\n",
    "    taxes.insert(1, \n",
    "                 column=\"Input Taxes\", \n",
    "                 value=(taxes[\"Sales Gross\"] * taxes.index / 100).round(2))\n",
    "    taxes.insert(3, \n",
    "                 column=\"Sales Taxes\", \n",
    "                 value=(taxes[\"Expenses Gross\"] * taxes.index / 100).round(2))\n",
    "\n",
    "    return taxes.fillna(0)\n",
    "\n",
    "tax_sums(journal)"
   ]
  },
  {
   "cell_type": "code",
   "execution_count": 18,
   "metadata": {},
   "outputs": [
    {
     "data": {
      "text/html": [
       "<div>\n",
       "<style scoped>\n",
       "    .dataframe tbody tr th:only-of-type {\n",
       "        vertical-align: middle;\n",
       "    }\n",
       "\n",
       "    .dataframe tbody tr th {\n",
       "        vertical-align: top;\n",
       "    }\n",
       "\n",
       "    .dataframe thead th {\n",
       "        text-align: right;\n",
       "    }\n",
       "</style>\n",
       "<table border=\"1\" class=\"dataframe\">\n",
       "  <thead>\n",
       "    <tr style=\"text-align: right;\">\n",
       "      <th></th>\n",
       "      <th>Expenses Gross</th>\n",
       "      <th>Input Taxes</th>\n",
       "      <th>Sales Gross</th>\n",
       "      <th>Sales Taxes</th>\n",
       "    </tr>\n",
       "    <tr>\n",
       "      <th>Tax Rate</th>\n",
       "      <th></th>\n",
       "      <th></th>\n",
       "      <th></th>\n",
       "      <th></th>\n",
       "    </tr>\n",
       "  </thead>\n",
       "  <tbody>\n",
       "    <tr>\n",
       "      <th>0</th>\n",
       "      <td>-22411.53</td>\n",
       "      <td>0.00</td>\n",
       "      <td>0.00</td>\n",
       "      <td>-0.00</td>\n",
       "    </tr>\n",
       "    <tr>\n",
       "      <th>7</th>\n",
       "      <td>-900.00</td>\n",
       "      <td>0.00</td>\n",
       "      <td>0.00</td>\n",
       "      <td>-63.00</td>\n",
       "    </tr>\n",
       "    <tr>\n",
       "      <th>19</th>\n",
       "      <td>-145.00</td>\n",
       "      <td>5952.51</td>\n",
       "      <td>31328.98</td>\n",
       "      <td>-27.55</td>\n",
       "    </tr>\n",
       "  </tbody>\n",
       "</table>\n",
       "</div>"
      ],
      "text/plain": [
       "          Expenses Gross  Input Taxes  Sales Gross  Sales Taxes\n",
       "Tax Rate                                                       \n",
       "0              -22411.53         0.00         0.00        -0.00\n",
       "7                -900.00         0.00         0.00       -63.00\n",
       "19               -145.00      5952.51     31328.98       -27.55"
      ]
     },
     "execution_count": 18,
     "metadata": {},
     "output_type": "execute_result"
    }
   ],
   "source": [
    "stsum_5 = tax_sums(journal, months=5)\n",
    "stsum_6 = tax_sums(journal, months=6)\n",
    "stsum_5"
   ]
  },
  {
   "cell_type": "code",
   "execution_count": 19,
   "metadata": {},
   "outputs": [
    {
     "data": {
      "text/html": [
       "<div>\n",
       "<style scoped>\n",
       "    .dataframe tbody tr th:only-of-type {\n",
       "        vertical-align: middle;\n",
       "    }\n",
       "\n",
       "    .dataframe tbody tr th {\n",
       "        vertical-align: top;\n",
       "    }\n",
       "\n",
       "    .dataframe thead th {\n",
       "        text-align: right;\n",
       "    }\n",
       "</style>\n",
       "<table border=\"1\" class=\"dataframe\">\n",
       "  <thead>\n",
       "    <tr style=\"text-align: right;\">\n",
       "      <th></th>\n",
       "      <th>Expenses Gross</th>\n",
       "      <th>Input Taxes</th>\n",
       "      <th>Sales Gross</th>\n",
       "      <th>Sales Taxes</th>\n",
       "    </tr>\n",
       "    <tr>\n",
       "      <th>Tax Rate</th>\n",
       "      <th></th>\n",
       "      <th></th>\n",
       "      <th></th>\n",
       "      <th></th>\n",
       "    </tr>\n",
       "  </thead>\n",
       "  <tbody>\n",
       "    <tr>\n",
       "      <th>0</th>\n",
       "      <td>-44812.14</td>\n",
       "      <td>0.00</td>\n",
       "      <td>6479.47</td>\n",
       "      <td>-0.00</td>\n",
       "    </tr>\n",
       "    <tr>\n",
       "      <th>7</th>\n",
       "      <td>-900.00</td>\n",
       "      <td>348.66</td>\n",
       "      <td>4980.84</td>\n",
       "      <td>-63.00</td>\n",
       "    </tr>\n",
       "    <tr>\n",
       "      <th>19</th>\n",
       "      <td>-268.12</td>\n",
       "      <td>12520.85</td>\n",
       "      <td>65899.23</td>\n",
       "      <td>-50.94</td>\n",
       "    </tr>\n",
       "  </tbody>\n",
       "</table>\n",
       "</div>"
      ],
      "text/plain": [
       "          Expenses Gross  Input Taxes  Sales Gross  Sales Taxes\n",
       "Tax Rate                                                       \n",
       "0              -44812.14         0.00      6479.47        -0.00\n",
       "7                -900.00       348.66      4980.84       -63.00\n",
       "19               -268.12     12520.85     65899.23       -50.94"
      ]
     },
     "execution_count": 19,
     "metadata": {},
     "output_type": "execute_result"
    }
   ],
   "source": [
    "tax_sums(journal, months=[5, 6])"
   ]
  }
 ],
 "metadata": {
  "kernelspec": {
   "display_name": "Python 3",
   "language": "python",
   "name": "python3"
  },
  "language_info": {
   "codemirror_mode": {
    "name": "ipython",
    "version": 3
   },
   "file_extension": ".py",
   "mimetype": "text/x-python",
   "name": "python",
   "nbconvert_exporter": "python",
   "pygments_lexer": "ipython3",
   "version": "3.10.7"
  },
  "orig_nbformat": 4,
  "vscode": {
   "interpreter": {
    "hash": "f627b94a91bc915482d65575b2ea77ee7c3710ea9aacf075a668e3021bd93680"
   }
  }
 },
 "nbformat": 4,
 "nbformat_minor": 2
}
