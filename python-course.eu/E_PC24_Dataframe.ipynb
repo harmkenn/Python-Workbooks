{
 "cells": [
  {
   "cell_type": "code",
   "execution_count": null,
   "metadata": {},
   "outputs": [],
   "source": [
    "# https://python-course.eu/numerical-programming/pandas-dataframe.php"
   ]
  },
  {
   "cell_type": "code",
   "execution_count": null,
   "metadata": {},
   "outputs": [],
   "source": [
    "import pandas as pd\n",
    "\n",
    "years = range(2014, 2018)\n",
    "\n",
    "shop1 = pd.Series([2409.14, 2941.01, 3496.83, 3119.55], index=years)\n",
    "shop2 = pd.Series([1203.45, 3441.62, 3007.83, 3619.53], index=years)\n",
    "shop3 = pd.Series([3412.12, 3491.16, 3457.19, 1963.10], index=years)"
   ]
  },
  {
   "cell_type": "code",
   "execution_count": null,
   "metadata": {},
   "outputs": [],
   "source": [
    "pd.concat([shop1, shop2, shop3])"
   ]
  },
  {
   "cell_type": "code",
   "execution_count": null,
   "metadata": {},
   "outputs": [],
   "source": [
    "shops_df = pd.concat([shop1, shop2, shop3], axis=1)\n",
    "shops_df"
   ]
  },
  {
   "cell_type": "code",
   "execution_count": null,
   "metadata": {},
   "outputs": [],
   "source": [
    "cities = [\"Zürich\", \"Winterthur\", \"Freiburg\"]\n",
    "shops_df.columns = cities \n",
    "print(shops_df)"
   ]
  },
  {
   "cell_type": "code",
   "execution_count": null,
   "metadata": {},
   "outputs": [],
   "source": [
    "# alternative way: give names to series:\n",
    "shop1.name = \"Zürich\"\n",
    "shop2.name = \"Winterthur\"\n",
    "shop3.name = \"Freiburg\"\n",
    "\n",
    "print(\"------\")\n",
    "shops_df2 = pd.concat([shop1, shop2, shop3], axis=1)\n",
    "print(shops_df2)"
   ]
  },
  {
   "cell_type": "code",
   "execution_count": null,
   "metadata": {},
   "outputs": [],
   "source": [
    "print(type(shops_df))"
   ]
  },
  {
   "cell_type": "code",
   "execution_count": null,
   "metadata": {},
   "outputs": [],
   "source": [
    "cities = {\"name\": [\"London\", \"Berlin\", \"Madrid\", \"Rome\", \n",
    "                   \"Paris\", \"Vienna\", \"Bucharest\", \"Hamburg\", \n",
    "                   \"Budapest\", \"Warsaw\", \"Barcelona\", \n",
    "                   \"Munich\", \"Milan\"],\n",
    "          \"population\": [8615246, 3562166, 3165235, 2874038,\n",
    "                         2273305, 1805681, 1803425, 1760433,\n",
    "                         1754000, 1740119, 1602386, 1493900,\n",
    "                         1350680],\n",
    "          \"country\": [\"England\", \"Germany\", \"Spain\", \"Italy\",\n",
    "                      \"France\", \"Austria\", \"Romania\", \n",
    "                      \"Germany\", \"Hungary\", \"Poland\", \"Spain\",\n",
    "                      \"Germany\", \"Italy\"]}\n",
    "\n",
    "city_frame = pd.DataFrame(cities)\n",
    "city_frame"
   ]
  },
  {
   "cell_type": "code",
   "execution_count": null,
   "metadata": {},
   "outputs": [],
   "source": [
    "ordinals = [\"first\", \"second\", \"third\", \"fourth\",\n",
    "            \"fifth\", \"sixth\", \"seventh\", \"eigth\",\n",
    "            \"ninth\", \"tenth\", \"eleventh\", \"twelvth\",\n",
    "            \"thirteenth\"]\n",
    "city_frame = pd.DataFrame(cities, index=ordinals)\n",
    "city_frame"
   ]
  },
  {
   "cell_type": "code",
   "execution_count": null,
   "metadata": {},
   "outputs": [],
   "source": [
    "city_frame = pd.DataFrame(cities,\n",
    "                          columns=[\"name\", \n",
    "                                   \"country\", \n",
    "                                   \"population\"])\n",
    "city_frame"
   ]
  },
  {
   "cell_type": "code",
   "execution_count": null,
   "metadata": {},
   "outputs": [],
   "source": [
    "city_frame.reindex(index=[0, 2, 4, 6,  8, 10, 12, 1, 3, 5, 7, 9, 11], \n",
    "                   columns=['country', 'name', 'population'])"
   ]
  },
  {
   "cell_type": "code",
   "execution_count": null,
   "metadata": {},
   "outputs": [],
   "source": [
    "city_frame.rename(columns={\"name\":\"Soyadı\", \n",
    "                           \"country\":\"Ülke\", \n",
    "                           \"population\":\"Nüfus\"},\n",
    "                 inplace=True)\n",
    "city_frame"
   ]
  },
  {
   "cell_type": "code",
   "execution_count": null,
   "metadata": {},
   "outputs": [],
   "source": [
    "city_frame = pd.DataFrame(cities,\n",
    "                          columns=[\"name\", \"population\"],\n",
    "                          index=cities[\"country\"])\n",
    "\n",
    "city_frame"
   ]
  },
  {
   "cell_type": "code",
   "execution_count": null,
   "metadata": {},
   "outputs": [],
   "source": [
    "city_frame = pd.DataFrame(cities, \n",
    "                          columns=(\"name\", \"population\"), \n",
    "                          index=cities[\"country\"])\n",
    "print(city_frame.loc[\"Germany\"])"
   ]
  },
  {
   "cell_type": "code",
   "execution_count": null,
   "metadata": {},
   "outputs": [],
   "source": [
    "print(city_frame.loc[[\"Germany\", \"France\"]])"
   ]
  },
  {
   "cell_type": "code",
   "execution_count": null,
   "metadata": {},
   "outputs": [],
   "source": [
    "condition = city_frame.population>2000000\n",
    "print(city_frame.loc[condition])"
   ]
  },
  {
   "cell_type": "code",
   "execution_count": null,
   "metadata": {},
   "outputs": [],
   "source": [
    "condition1 = (city_frame.population>1500000)\n",
    "condition2 = (city_frame['name'].str.contains(\"m\"))\n",
    "print(city_frame.loc[condition1 & condition2])"
   ]
  },
  {
   "cell_type": "code",
   "execution_count": null,
   "metadata": {},
   "outputs": [],
   "source": [
    "condition1 = (city_frame.population>3000000)\n",
    "condition2 = (city_frame['name'].str.contains(\"m\"))\n",
    "print(city_frame.loc[condition1 | condition2])"
   ]
  },
  {
   "cell_type": "code",
   "execution_count": null,
   "metadata": {},
   "outputs": [],
   "source": [
    "milan = ['Milan', 1399860]\n",
    "city_frame.iloc[-1] = milan\n",
    "city_frame.loc['Switzerland'] = ['Zurich', 415215]\n",
    "city_frame"
   ]
  },
  {
   "cell_type": "code",
   "execution_count": 22,
   "metadata": {},
   "outputs": [
    {
     "name": "stdout",
     "output_type": "stream",
     "text": [
      "name             Rome\n",
      "population    2874038\n",
      "Name: Italy, dtype: object\n"
     ]
    }
   ],
   "source": [
    "df = city_frame.iloc[3]\n",
    "print(df)"
   ]
  },
  {
   "cell_type": "code",
   "execution_count": 23,
   "metadata": {},
   "outputs": [
    {
     "name": "stdout",
     "output_type": "stream",
     "text": [
      "           name  population\n",
      "Italy      Rome     2874038\n",
      "Spain    Madrid     3165235\n",
      "England  London     8615246\n",
      "Austria  Vienna     1805681\n",
      "England  London     8615246\n"
     ]
    }
   ],
   "source": [
    "df = city_frame.iloc[[3, 2, 0, 5, 0]]\n",
    "print(df)"
   ]
  }
 ],
 "metadata": {
  "kernelspec": {
   "display_name": "Python 3",
   "language": "python",
   "name": "python3"
  },
  "language_info": {
   "codemirror_mode": {
    "name": "ipython",
    "version": 3
   },
   "file_extension": ".py",
   "mimetype": "text/x-python",
   "name": "python",
   "nbconvert_exporter": "python",
   "pygments_lexer": "ipython3",
   "version": "3.8.13"
  },
  "orig_nbformat": 4,
  "vscode": {
   "interpreter": {
    "hash": "9ac03a0a6051494cc606d484d27d20fce22fb7b4d169f583271e11d5ba46a56e"
   }
  }
 },
 "nbformat": 4,
 "nbformat_minor": 2
}
