{
 "cells": [
  {
   "cell_type": "code",
   "execution_count": null,
   "metadata": {},
   "outputs": [],
   "source": [
    "# https://python-course.eu/advanced-python/advanced-regular-expressions.php"
   ]
  },
  {
   "cell_type": "code",
   "execution_count": 2,
   "metadata": {},
   "outputs": [
    {
     "name": "stdout",
     "output_type": "stream",
     "text": [
      "['fat', 'cat', 'eat', 'oat', 'rat', 'eat']\n"
     ]
    }
   ],
   "source": [
    "import re\n",
    "t=\"A fat cat doesn't eat oat but a rat eats bats.\"\n",
    "mo = re.findall(\"[force]at\", t)\n",
    "print(mo)"
   ]
  },
  {
   "cell_type": "code",
   "execution_count": 1,
   "metadata": {},
   "outputs": [
    {
     "data": {
      "text/plain": [
       "['Python Training Course for Beginners: 15/Aug/2011 - 19/Aug/2011;',\n",
       " 'Python Training Course Intermediate: 12/Dec/2011 - 16/Dec/2011;',\n",
       " 'Python Text Processing Course:31/Oct/2011 - 4/Nov/2011']"
      ]
     },
     "execution_count": 1,
     "metadata": {},
     "output_type": "execute_result"
    }
   ],
   "source": [
    "import re\n",
    "courses = \"Python Training Course for Beginners: 15/Aug/2011 - 19/Aug/2011;Python Training Course Intermediate: 12/Dec/2011 - 16/Dec/2011;Python Text Processing Course:31/Oct/2011 - 4/Nov/2011\"\n",
    "items = re.findall(\"[^:]*:[^;]*;?\", courses)\n",
    "items"
   ]
  },
  {
   "cell_type": "code",
   "execution_count": 2,
   "metadata": {},
   "outputs": [
    {
     "name": "stdout",
     "output_type": "stream",
     "text": [
      "location is London or Paris\n"
     ]
    }
   ],
   "source": [
    "import re\n",
    "str = \"Course location is London or Paris!\"\n",
    "mo = re.search(r\"location.*(London|Paris|Zurich|Strasbourg)\",str)\n",
    "if mo: print(mo.group())"
   ]
  },
  {
   "cell_type": "code",
   "execution_count": 3,
   "metadata": {},
   "outputs": [
    {
     "data": {
      "text/plain": [
       "['Let',\n",
       " 'reverence',\n",
       " 'for',\n",
       " 'the',\n",
       " 'laws',\n",
       " 'be',\n",
       " 'breathed',\n",
       " 'by',\n",
       " 'every',\n",
       " 'American',\n",
       " 'mother',\n",
       " 'to',\n",
       " 'the',\n",
       " 'lisping',\n",
       " 'babe',\n",
       " 'that',\n",
       " 'prattles',\n",
       " 'on',\n",
       " 'her',\n",
       " 'lap.',\n",
       " 'Let',\n",
       " 'it',\n",
       " 'be',\n",
       " 'taught',\n",
       " 'in',\n",
       " 'schools,',\n",
       " 'in',\n",
       " 'seminaries,',\n",
       " 'and',\n",
       " 'in',\n",
       " 'colleges.',\n",
       " 'Let',\n",
       " 'it',\n",
       " 'be',\n",
       " 'written',\n",
       " 'in',\n",
       " 'primers,',\n",
       " 'spelling',\n",
       " 'books,',\n",
       " 'and',\n",
       " 'in',\n",
       " 'almanacs.',\n",
       " 'Let',\n",
       " 'it',\n",
       " 'be',\n",
       " 'preached',\n",
       " 'from',\n",
       " 'the',\n",
       " 'pulpit,',\n",
       " 'proclaimed',\n",
       " 'in',\n",
       " 'legislative',\n",
       " 'halls,',\n",
       " 'and',\n",
       " 'enforced',\n",
       " 'in',\n",
       " 'the',\n",
       " 'courts',\n",
       " 'of',\n",
       " 'justice.',\n",
       " 'And,',\n",
       " 'in',\n",
       " 'short,',\n",
       " 'let',\n",
       " 'it',\n",
       " 'become',\n",
       " 'the',\n",
       " 'political',\n",
       " 'religion',\n",
       " 'of',\n",
       " 'the',\n",
       " 'nation.']"
      ]
     },
     "execution_count": 3,
     "metadata": {},
     "output_type": "execute_result"
    }
   ],
   "source": [
    "law_courses = \"Let reverence for the laws be breathed by every American mother to the lisping babe that prattles on her lap. Let it be taught in schools, in seminaries, and in colleges. Let it be written in primers, spelling books, and in almanacs. Let it be preached from the pulpit, proclaimed in legislative halls, and enforced in the courts of justice. And, in short, let it become the political religion of the nation.\"\n",
    "law_courses.split()"
   ]
  },
  {
   "cell_type": "code",
   "execution_count": 4,
   "metadata": {},
   "outputs": [
    {
     "data": {
      "text/plain": [
       "['James', 'Miller', 'teacher', 'Perl']"
      ]
     },
     "execution_count": 4,
     "metadata": {},
     "output_type": "execute_result"
    }
   ],
   "source": [
    "line = \"James;Miller;teacher;Perl\"\n",
    "line.split(\";\")"
   ]
  },
  {
   "cell_type": "code",
   "execution_count": 5,
   "metadata": {},
   "outputs": [
    {
     "data": {
      "text/plain": [
       "['The',\n",
       " 'god',\n",
       " 'of',\n",
       " \"the world's leading religion. The chief temple is in the holy city of New York.\"]"
      ]
     },
     "execution_count": 5,
     "metadata": {},
     "output_type": "execute_result"
    }
   ],
   "source": [
    "mammon = \"The god of the world's leading religion. The chief temple is in the holy city of New York.\"\n",
    "mammon.split(\" \",3)"
   ]
  },
  {
   "cell_type": "code",
   "execution_count": 6,
   "metadata": {},
   "outputs": [
    {
     "data": {
      "text/plain": [
       "['The',\n",
       " 'god',\n",
       " '',\n",
       " '\\t',\n",
       " 'of',\n",
       " \"the world's leading religion. The chief temple is in the holy city of New York.\"]"
      ]
     },
     "execution_count": 6,
     "metadata": {},
     "output_type": "execute_result"
    }
   ],
   "source": [
    "mammon = \"The god  \\t of the world's leading religion. The chief temple is in the holy city of New York.\"\n",
    "mammon.split(\" \",5)"
   ]
  },
  {
   "cell_type": "code",
   "execution_count": 7,
   "metadata": {},
   "outputs": [
    {
     "data": {
      "text/plain": [
       "['OF',\n",
       " 'bodies',\n",
       " 'chang',\n",
       " 'd',\n",
       " 'to',\n",
       " 'various',\n",
       " 'forms',\n",
       " 'I',\n",
       " 'sing',\n",
       " 'Ye',\n",
       " 'Gods',\n",
       " 'from',\n",
       " 'whom',\n",
       " 'these',\n",
       " 'miracles',\n",
       " 'did',\n",
       " 'spring',\n",
       " 'Inspire',\n",
       " 'my',\n",
       " 'numbers',\n",
       " 'with',\n",
       " 'coelestial',\n",
       " 'heat',\n",
       " '']"
      ]
     },
     "execution_count": 7,
     "metadata": {},
     "output_type": "execute_result"
    }
   ],
   "source": [
    "import re\n",
    "metamorphoses = \"OF bodies chang'd to various forms, I sing: Ye Gods, from whom these miracles did spring, Inspire my numbers with coelestial heat;\"\n",
    "re.split(\"\\W+\",metamorphoses)"
   ]
  },
  {
   "cell_type": "code",
   "execution_count": 8,
   "metadata": {},
   "outputs": [
    {
     "name": "stdout",
     "output_type": "stream",
     "text": [
      "['', 'Obama', 'Barack', 'president']\n",
      "['', 'Merkel', 'Angela', 'chancellor']\n"
     ]
    }
   ],
   "source": [
    "import re\n",
    "lines = [\"surname: Obama, prename: Barack, profession: president\", \"surname: Merkel, prename: Angela, profession: chancellor\"]\n",
    "for line in lines:\n",
    "    print(re.split(\",* *\\w*: \", line))   "
   ]
  },
  {
   "cell_type": "code",
   "execution_count": 9,
   "metadata": {},
   "outputs": [
    {
     "name": "stdout",
     "output_type": "stream",
     "text": [
      "['Obama', 'Barack', 'president']\n",
      "['Merkel', 'Angela', 'chancellor']\n"
     ]
    }
   ],
   "source": [
    "import re\n",
    "lines = [\"surname: Obama, prename: Barack, profession: president\", \"surname: Merkel, prename: Angela, profession: chancellor\"]\n",
    "for line in lines:\n",
    "    print(re.split(\",* *\\w*: \", line)[1:])  "
   ]
  },
  {
   "cell_type": "code",
   "execution_count": 10,
   "metadata": {},
   "outputs": [
    {
     "name": "stdout",
     "output_type": "stream",
     "text": [
      "no I said no I will no.\n"
     ]
    }
   ],
   "source": [
    "import re\n",
    "str = \"yes I said yes I will Yes.\"\n",
    "res = re.sub(\"[yY]es\",\"no\", str)\n",
    "print(res)"
   ]
  }
 ],
 "metadata": {
  "kernelspec": {
   "display_name": "Python 3.10.6 64-bit ('shims')",
   "language": "python",
   "name": "python3"
  },
  "language_info": {
   "codemirror_mode": {
    "name": "ipython",
    "version": 3
   },
   "file_extension": ".py",
   "mimetype": "text/x-python",
   "name": "python",
   "nbconvert_exporter": "python",
   "pygments_lexer": "ipython3",
   "version": "3.8.13"
  },
  "orig_nbformat": 4,
  "vscode": {
   "interpreter": {
    "hash": "9ac03a0a6051494cc606d484d27d20fce22fb7b4d169f583271e11d5ba46a56e"
   }
  }
 },
 "nbformat": 4,
 "nbformat_minor": 2
}
