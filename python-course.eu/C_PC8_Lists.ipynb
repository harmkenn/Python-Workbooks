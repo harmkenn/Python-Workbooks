{
  "nbformat": 4,
  "nbformat_minor": 0,
  "metadata": {
    "colab": {
      "name": "C_PC8_Lists.ipynb",
      "provenance": [],
      "collapsed_sections": [],
      "authorship_tag": "ABX9TyOhr1tyEzHxyJfbLKlJoQTx",
      "include_colab_link": true
    },
    "kernelspec": {
      "name": "python3",
      "display_name": "Python 3"
    },
    "language_info": {
      "name": "python"
    }
  },
  "cells": [
    {
      "cell_type": "markdown",
      "metadata": {
        "id": "view-in-github",
        "colab_type": "text"
      },
      "source": [
        "<a href=\"https://colab.research.google.com/github/harmkenn/Python-Workbooks/blob/main/python-course.eu/C_PC8_Lists.ipynb\" target=\"_parent\"><img src=\"https://colab.research.google.com/assets/colab-badge.svg\" alt=\"Open In Colab\"/></a>"
      ]
    },
    {
      "cell_type": "code",
      "execution_count": null,
      "metadata": {
        "id": "zQVIMrnM6_mp"
      },
      "outputs": [],
      "source": [
        "# https://python-course.eu/advanced-python/list-comprehension.php"
      ]
    },
    {
      "cell_type": "code",
      "source": [
        "Celsius = [39.2, 36.5, 37.3, 37.8]\n",
        "Fahrenheit = [ ((float(9)/5)*x + 32) for x in Celsius ]\n",
        "print(Fahrenheit)"
      ],
      "metadata": {
        "colab": {
          "base_uri": "https://localhost:8080/"
        },
        "id": "LxNOIKIW916X",
        "outputId": "3732f221-2cf5-4467-fdbd-2361b87dff2b"
      },
      "execution_count": null,
      "outputs": [
        {
          "output_type": "stream",
          "name": "stdout",
          "text": [
            "[102.56, 97.7, 99.14, 100.03999999999999]\n"
          ]
        }
      ]
    },
    {
      "cell_type": "code",
      "source": [
        "[(x,y,z) for x in range(1,30) for y in range(x,30) for z in range(y,30) if x**2 + y**2 == z**2]"
      ],
      "metadata": {
        "colab": {
          "base_uri": "https://localhost:8080/"
        },
        "id": "H8mRoLo-Cl-F",
        "outputId": "6606c693-8513-40be-f913-3fdd011b6471"
      },
      "execution_count": null,
      "outputs": [
        {
          "output_type": "execute_result",
          "data": {
            "text/plain": [
              "[(3, 4, 5),\n",
              " (5, 12, 13),\n",
              " (6, 8, 10),\n",
              " (7, 24, 25),\n",
              " (8, 15, 17),\n",
              " (9, 12, 15),\n",
              " (10, 24, 26),\n",
              " (12, 16, 20),\n",
              " (15, 20, 25),\n",
              " (20, 21, 29)]"
            ]
          },
          "metadata": {},
          "execution_count": 2
        }
      ]
    },
    {
      "cell_type": "code",
      "source": [
        "colours = [ \"red\", \"green\", \"yellow\", \"blue\" ]\n",
        "things = [ \"house\", \"car\", \"tree\" ]\n",
        "coloured_things = [ (x,y) for x in colours for y in things ]\n",
        "print(coloured_things)"
      ],
      "metadata": {
        "id": "Fj7gs59uCvQk",
        "outputId": "91edc1a4-f063-4e1c-c502-4057ecc2b561",
        "colab": {
          "base_uri": "https://localhost:8080/"
        }
      },
      "execution_count": null,
      "outputs": [
        {
          "output_type": "stream",
          "name": "stdout",
          "text": [
            "[('red', 'house'), ('red', 'car'), ('red', 'tree'), ('green', 'house'), ('green', 'car'), ('green', 'tree'), ('yellow', 'house'), ('yellow', 'car'), ('yellow', 'tree'), ('blue', 'house'), ('blue', 'car'), ('blue', 'tree')]\n"
          ]
        }
      ]
    },
    {
      "cell_type": "code",
      "source": [
        "x = (x **2 for x in range(20))\n",
        "print(x)\n",
        "x = list(x)\n",
        "print(x)"
      ],
      "metadata": {
        "colab": {
          "base_uri": "https://localhost:8080/"
        },
        "id": "GuNB77xZVLKU",
        "outputId": "7f4ff1b7-0733-45dd-ac4b-ba4727e2458d"
      },
      "execution_count": 1,
      "outputs": [
        {
          "output_type": "stream",
          "name": "stdout",
          "text": [
            "<generator object <genexpr> at 0x7fed259c2d50>\n",
            "[0, 1, 4, 9, 16, 25, 36, 49, 64, 81, 100, 121, 144, 169, 196, 225, 256, 289, 324, 361]\n"
          ]
        }
      ]
    },
    {
      "cell_type": "code",
      "source": [
        "from numpy import sqrt\n",
        "n = 100\n",
        "sqrt_n = int(sqrt(n))\n",
        "no_primes = {j for i in range(2, sqrt_n+1) for j in range(i*2, n, i)}\n",
        "primes = {i for i in range(2, n) if i not in no_primes}\n",
        "print(primes)"
      ],
      "metadata": {
        "colab": {
          "base_uri": "https://localhost:8080/"
        },
        "id": "pW6FiOsCWLAC",
        "outputId": "1e1bd84f-c3d1-49ba-b2c6-9fc674330fff"
      },
      "execution_count": 3,
      "outputs": [
        {
          "output_type": "stream",
          "name": "stdout",
          "text": [
            "{2, 3, 5, 7, 11, 13, 17, 19, 23, 29, 31, 37, 41, 43, 47, 53, 59, 61, 67, 71, 73, 79, 83, 89, 97}\n"
          ]
        }
      ]
    }
  ]
}