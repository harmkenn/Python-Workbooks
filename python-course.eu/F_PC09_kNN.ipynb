{
 "cells": [
  {
   "cell_type": "code",
   "execution_count": null,
   "metadata": {},
   "outputs": [],
   "source": [
    "# https://python-course.eu/machine-learning/k-nearest-neighbor-classifier-with-sklearn.php"
   ]
  },
  {
   "cell_type": "code",
   "execution_count": 1,
   "metadata": {},
   "outputs": [],
   "source": [
    "from sklearn.datasets import make_blobs\n",
    "import matplotlib.pyplot as plt\n",
    "import numpy as np\n",
    "\n",
    "centers = [[2, 3], [5, 5], [1, 8]]\n",
    "n_classes = len(centers)\n",
    "data, labels = make_blobs(n_samples=150, \n",
    "                          centers=np.array(centers),\n",
    "                          random_state=1)"
   ]
  },
  {
   "cell_type": "code",
   "execution_count": 2,
   "metadata": {},
   "outputs": [
    {
     "data": {
      "image/png": "[encoded data removed]",
      "text/plain": [
       "<Figure size 640x480 with 1 Axes>"
      ]
     },
     "metadata": {},
     "output_type": "display_data"
    }
   ],
   "source": [
    "import matplotlib.pyplot as plt\n",
    "\n",
    "colours = ('green', 'red', 'blue')\n",
    "n_classes = 3\n",
    "\n",
    "fig, ax = plt.subplots()\n",
    "for n_class in range(0, n_classes):\n",
    "    ax.scatter(data[labels==n_class, 0], data[labels==n_class, 1], \n",
    "               c=colours[n_class], s=10, label=str(n_class))\n",
    "\n",
    "\n",
    "\n",
    "ax.legend(loc='upper right');"
   ]
  },
  {
   "cell_type": "code",
   "execution_count": 3,
   "metadata": {},
   "outputs": [],
   "source": [
    "from sklearn.model_selection import train_test_split\n",
    "res = train_test_split(data, labels, \n",
    "                       train_size=0.8,\n",
    "                       test_size=0.2,\n",
    "                       random_state=1)\n",
    "\n",
    "train_data, test_data, train_labels, test_labels = res "
   ]
  },
  {
   "cell_type": "code",
   "execution_count": 4,
   "metadata": {},
   "outputs": [
    {
     "name": "stdout",
     "output_type": "stream",
     "text": [
      "Predictions from the classifier:\n",
      "[2 2 2 0 0 1 1 2 2 1 0 1 0 0 2 0 0 0 1 0 0 1 1 2 0 0 0 1 2 1]\n",
      "Target values:\n",
      "[2 2 2 0 0 1 1 2 2 1 0 1 0 0 2 0 0 0 1 0 0 1 1 2 0 0 0 1 2 1]\n"
     ]
    }
   ],
   "source": [
    "# Create and fit a nearest-neighbor classifier\n",
    "from sklearn.neighbors import KNeighborsClassifier\n",
    "knn = KNeighborsClassifier()\n",
    "knn.fit(train_data, train_labels) \n",
    "\n",
    "predicted = knn.predict(test_data)\n",
    "print(\"Predictions from the classifier:\")\n",
    "print(predicted)\n",
    "print(\"Target values:\")\n",
    "print(test_labels)"
   ]
  },
  {
   "cell_type": "code",
   "execution_count": 5,
   "metadata": {},
   "outputs": [
    {
     "name": "stdout",
     "output_type": "stream",
     "text": [
      "0.5714285714285714\n"
     ]
    }
   ],
   "source": [
    "from sklearn.metrics import accuracy_score\n",
    "example_predictions = [0, 2, 1, 3, 2, 0, 1]\n",
    "example_labels      = [0, 1, 2, 3, 2, 1, 1]\n",
    "print(accuracy_score(example_predictions, example_labels))"
   ]
  },
  {
   "cell_type": "code",
   "execution_count": 6,
   "metadata": {},
   "outputs": [],
   "source": [
    "from sklearn import datasets\n",
    "from sklearn.model_selection import train_test_split\n",
    "\n",
    "iris = datasets.load_iris()\n",
    "data, labels = iris.data, iris.target\n",
    "\n",
    "res = train_test_split(data, labels, \n",
    "                       train_size=0.8,\n",
    "                       test_size=0.2,\n",
    "                       random_state=12)\n",
    "train_data, test_data, train_labels, test_labels = res "
   ]
  },
  {
   "cell_type": "code",
   "execution_count": 7,
   "metadata": {},
   "outputs": [
    {
     "name": "stdout",
     "output_type": "stream",
     "text": [
      "Predictions from the classifier:\n",
      "[0 2 0 1 2 2 2 0 2 0 1 0 0 0 1 2 2 1 0 2 0 1 2 1 0 2 1 1 0 0]\n",
      "Target values:\n",
      "[0 2 0 1 2 2 2 0 2 0 1 0 0 0 1 2 2 1 0 1 0 1 2 1 0 2 1 1 0 0]\n"
     ]
    }
   ],
   "source": [
    "# Create and fit a nearest-neighbor classifier\n",
    "from sklearn.neighbors import KNeighborsClassifier\n",
    "# classifier \"out of the box\", no parameters\n",
    "knn = KNeighborsClassifier()\n",
    "knn.fit(train_data, train_labels) \n",
    "\n",
    "\n",
    "print(\"Predictions from the classifier:\")\n",
    "test_data_predicted = knn.predict(test_data)\n",
    "print(test_data_predicted)\n",
    "print(\"Target values:\")\n",
    "print(test_labels)"
   ]
  },
  {
   "cell_type": "code",
   "execution_count": 8,
   "metadata": {},
   "outputs": [
    {
     "name": "stdout",
     "output_type": "stream",
     "text": [
      "0.9666666666666667\n"
     ]
    }
   ],
   "source": [
    "print(accuracy_score(test_data_predicted, test_labels))"
   ]
  },
  {
   "cell_type": "code",
   "execution_count": 9,
   "metadata": {},
   "outputs": [
    {
     "name": "stdout",
     "output_type": "stream",
     "text": [
      "Predictions from the classifier:\n",
      "[0 1 2 0 2 0 1 1 0 1 1 0 0 0 0 0 0 0 2 0 2 1 1 1 0 2 1 1 2 0 2 0 2 1 2 2 1\n",
      " 1 1 2 2 0 2 2 0 1 0 2 2 0 1 1 0 0 1 1 1 1 2 1 2 0 0 1 1 2 0 2 1 0 2 2 1 2\n",
      " 2 0 0 2 1 1 2 0 1 1 0 1 1 2 2 1 0 2 0 2 0 0 1 2 2 1 2 2 0 1 1 0 2 2 2 1 2\n",
      " 2 2 0 0 1 0 2 2 1]\n",
      "Target values:\n",
      "[0 1 2 0 2 0 1 1 0 1 1 0 0 0 0 0 0 0 2 0 2 1 1 1 0 2 1 1 2 0 2 0 2 2 2 2 1\n",
      " 1 1 1 2 0 2 2 0 1 0 2 2 0 1 1 0 0 1 1 1 1 2 1 2 0 0 1 1 1 0 2 1 0 2 2 1 2\n",
      " 2 0 0 2 1 1 2 0 1 1 0 1 1 2 2 1 0 2 0 2 0 0 1 2 2 1 2 2 0 1 1 0 2 2 2 1 2\n",
      " 2 2 0 0 1 0 2 2 1]\n",
      "0.975\n"
     ]
    }
   ],
   "source": [
    "print(\"Predictions from the classifier:\")\n",
    "learn_data_predicted = knn.predict(train_data)\n",
    "print(learn_data_predicted)\n",
    "print(\"Target values:\")\n",
    "print(train_labels)\n",
    "print(accuracy_score(learn_data_predicted, train_labels))"
   ]
  },
  {
   "cell_type": "code",
   "execution_count": 10,
   "metadata": {},
   "outputs": [
    {
     "data": {
      "text/plain": [
       "0.9666666666666667"
      ]
     },
     "execution_count": 10,
     "metadata": {},
     "output_type": "execute_result"
    }
   ],
   "source": [
    "knn2 = KNeighborsClassifier(algorithm='auto', \n",
    "                            leaf_size=30, \n",
    "                            metric='minkowski',\n",
    "                            p=2,         # p=2 is equivalent to euclidian distance\n",
    "                            metric_params=None, \n",
    "                            n_jobs=1, \n",
    "                            n_neighbors=5, \n",
    "                            weights='uniform')\n",
    "\n",
    "knn.fit(train_data, train_labels) \n",
    "test_data_predicted = knn.predict(test_data)\n",
    "accuracy_score(test_data_predicted, test_labels)"
   ]
  },
  {
   "cell_type": "code",
   "execution_count": 11,
   "metadata": {},
   "outputs": [
    {
     "name": "stdout",
     "output_type": "stream",
     "text": [
      "[0]\n",
      "[1]\n"
     ]
    }
   ],
   "source": [
    "from sklearn.neighbors import RadiusNeighborsClassifier\n",
    "\n",
    "X = [[0, 1], [0.5, 1], [3, 1], [3, 2], [1.3, 0.8], [2.5, 2.5], [2.4, 2.6]]\n",
    "y = [0, 0, 1, 1, 0, 1, 1]\n",
    "\n",
    "neigh = RadiusNeighborsClassifier(radius=1.0)\n",
    "neigh.fit(X, y)\n",
    "\n",
    "print(neigh.predict([[1.5, 1.2]]))\n",
    "\n",
    "print(neigh.predict([[3.1, 2.1]]))"
   ]
  },
  {
   "cell_type": "code",
   "execution_count": 12,
   "metadata": {},
   "outputs": [
    {
     "name": "stdout",
     "output_type": "stream",
     "text": [
      "[0]\n",
      "[1]\n"
     ]
    }
   ],
   "source": [
    "neigh = RadiusNeighborsClassifier(radius=1.0,\n",
    "                                  outlier_label='most_frequent')\n",
    "neigh.fit(X, y)\n",
    "\n",
    "print(neigh.predict([[1.5, 1.2]]))\n",
    "\n",
    "# the following is the previously mentioned outlier:\n",
    "print(neigh.predict([[30, 20]]))"
   ]
  },
  {
   "cell_type": "code",
   "execution_count": 13,
   "metadata": {},
   "outputs": [
    {
     "name": "stdout",
     "output_type": "stream",
     "text": [
      "[0]\n",
      "[2]\n"
     ]
    }
   ],
   "source": [
    "from sklearn.neighbors import RadiusNeighborsClassifier\n",
    "\n",
    "X = [[0, 1], [0.5, 1], [3, 1], [3, 2], [1.3, 0.8], [2.5, 2.5], [2.4, 2.6], [10000, -2321]]\n",
    "y = [0, 0, 1, 1, 0, 1, 1, 2]\n",
    "\n",
    "neigh = RadiusNeighborsClassifier(radius=1.0,\n",
    "                                  outlier_label=2)\n",
    "neigh.fit(X, y)\n",
    "\n",
    "print(neigh.predict([[1.5, 1.2]]))\n",
    "print(neigh.predict([[30, 20]]))"
   ]
  },
  {
   "cell_type": "code",
   "execution_count": 14,
   "metadata": {},
   "outputs": [
    {
     "data": {
      "text/plain": [
       "array([[10.88685804,  1.1965521 ],\n",
       "       [ 9.67101133,  9.0694324 ],\n",
       "       [ 4.56489073, 10.19679965],\n",
       "       [ 8.99754107,  0.18439345],\n",
       "       [ 1.10084102,  2.48422042]])"
      ]
     },
     "execution_count": 14,
     "metadata": {},
     "output_type": "execute_result"
    }
   ],
   "source": [
    "from sklearn.datasets import make_blobs\n",
    "import matplotlib.pyplot as plt\n",
    "import numpy as np\n",
    "\n",
    "centers = [[2, 3], [9, 2], [7, 9]]\n",
    "n_classes = len(centers)\n",
    "data, labels = make_blobs(n_samples=255, \n",
    "                          centers=np.array(centers),\n",
    "                          cluster_std = 1.3,\n",
    "                          random_state=1)\n",
    "data[:5]"
   ]
  },
  {
   "cell_type": "code",
   "execution_count": 15,
   "metadata": {},
   "outputs": [
    {
     "data": {
      "image/png": "[encoded data removed]",
      "text/plain": [
       "<Figure size 640x480 with 1 Axes>"
      ]
     },
     "metadata": {},
     "output_type": "display_data"
    }
   ],
   "source": [
    "import matplotlib.pyplot as plt\n",
    "\n",
    "colours = ('green', 'red', 'blue')\n",
    "n_classes = 3    # not using the outlier 'class'\n",
    "\n",
    "fig, ax = plt.subplots()\n",
    "for n_class in range(0, n_classes):\n",
    "    ax.scatter(data[labels==n_class, 0], data[labels==n_class, 1], \n",
    "               c=colours[n_class], s=10, label=str(n_class))"
   ]
  },
  {
   "cell_type": "code",
   "execution_count": 16,
   "metadata": {},
   "outputs": [],
   "source": [
    "res = train_test_split(data, labels, \n",
    "                       train_size=0.8,\n",
    "                       test_size=0.2,\n",
    "                       random_state=1)\n",
    "train_data, test_data, train_labels, test_labels = res "
   ]
  },
  {
   "cell_type": "code",
   "execution_count": 17,
   "metadata": {},
   "outputs": [
    {
     "data": {
      "text/plain": [
       "array([[   8.42869523,    7.82787516],\n",
       "       [   8.01064497,    8.84559748],\n",
       "       [4242.2       , 4242.2       ]])"
      ]
     },
     "execution_count": 17,
     "metadata": {},
     "output_type": "execute_result"
    }
   ],
   "source": [
    "outlier = [4242.2, 4242.2]\n",
    "train_data = np.vstack([train_data, outlier])\n",
    "train_data[-3:]"
   ]
  },
  {
   "cell_type": "code",
   "execution_count": 18,
   "metadata": {},
   "outputs": [
    {
     "data": {
      "text/plain": [
       "array([0, 0, 0, 1, 0, 0, 0, 2, 2, 3])"
      ]
     },
     "execution_count": 18,
     "metadata": {},
     "output_type": "execute_result"
    }
   ],
   "source": [
    "outlier_label = len(np.unique(labels))\n",
    "train_labels = np.append(train_labels, outlier_label)\n",
    "train_labels[-10:]"
   ]
  },
  {
   "cell_type": "code",
   "execution_count": 19,
   "metadata": {},
   "outputs": [
    {
     "data": {
      "text/html": [
       "<style>#sk-container-id-1 {color: black;background-color: white;}#sk-container-id-1 pre{padding: 0;}#sk-container-id-1 div.sk-toggleable {background-color: white;}#sk-container-id-1 label.sk-toggleable__label {cursor: pointer;display: block;width: 100%;margin-bottom: 0;padding: 0.3em;box-sizing: border-box;text-align: center;}#sk-container-id-1 label.sk-toggleable__label-arrow:before {content: \"▸\";float: left;margin-right: 0.25em;color: #696969;}#sk-container-id-1 label.sk-toggleable__label-arrow:hover:before {color: black;}#sk-container-id-1 div.sk-estimator:hover label.sk-toggleable__label-arrow:before {color: black;}#sk-container-id-1 div.sk-toggleable__content {max-height: 0;max-width: 0;overflow: hidden;text-align: left;background-color: #f0f8ff;}#sk-container-id-1 div.sk-toggleable__content pre {margin: 0.2em;color: black;border-radius: 0.25em;background-color: #f0f8ff;}#sk-container-id-1 input.sk-toggleable__control:checked~div.sk-toggleable__content {max-height: 200px;max-width: 100%;overflow: auto;}#sk-container-id-1 input.sk-toggleable__control:checked~label.sk-toggleable__label-arrow:before {content: \"▾\";}#sk-container-id-1 div.sk-estimator input.sk-toggleable__control:checked~label.sk-toggleable__label {background-color: #d4ebff;}#sk-container-id-1 div.sk-label input.sk-toggleable__control:checked~label.sk-toggleable__label {background-color: #d4ebff;}#sk-container-id-1 input.sk-hidden--visually {border: 0;clip: rect(1px 1px 1px 1px);clip: rect(1px, 1px, 1px, 1px);height: 1px;margin: -1px;overflow: hidden;padding: 0;position: absolute;width: 1px;}#sk-container-id-1 div.sk-estimator {font-family: monospace;background-color: #f0f8ff;border: 1px dotted black;border-radius: 0.25em;box-sizing: border-box;margin-bottom: 0.5em;}#sk-container-id-1 div.sk-estimator:hover {background-color: #d4ebff;}#sk-container-id-1 div.sk-parallel-item::after {content: \"\";width: 100%;border-bottom: 1px solid gray;flex-grow: 1;}#sk-container-id-1 div.sk-label:hover label.sk-toggleable__label {background-color: #d4ebff;}#sk-container-id-1 div.sk-serial::before {content: \"\";position: absolute;border-left: 1px solid gray;box-sizing: border-box;top: 0;bottom: 0;left: 50%;z-index: 0;}#sk-container-id-1 div.sk-serial {display: flex;flex-direction: column;align-items: center;background-color: white;padding-right: 0.2em;padding-left: 0.2em;position: relative;}#sk-container-id-1 div.sk-item {position: relative;z-index: 1;}#sk-container-id-1 div.sk-parallel {display: flex;align-items: stretch;justify-content: center;background-color: white;position: relative;}#sk-container-id-1 div.sk-item::before, #sk-container-id-1 div.sk-parallel-item::before {content: \"\";position: absolute;border-left: 1px solid gray;box-sizing: border-box;top: 0;bottom: 0;left: 50%;z-index: -1;}#sk-container-id-1 div.sk-parallel-item {display: flex;flex-direction: column;z-index: 1;position: relative;background-color: white;}#sk-container-id-1 div.sk-parallel-item:first-child::after {align-self: flex-end;width: 50%;}#sk-container-id-1 div.sk-parallel-item:last-child::after {align-self: flex-start;width: 50%;}#sk-container-id-1 div.sk-parallel-item:only-child::after {width: 0;}#sk-container-id-1 div.sk-dashed-wrapped {border: 1px dashed gray;margin: 0 0.4em 0.5em 0.4em;box-sizing: border-box;padding-bottom: 0.4em;background-color: white;}#sk-container-id-1 div.sk-label label {font-family: monospace;font-weight: bold;display: inline-block;line-height: 1.2em;}#sk-container-id-1 div.sk-label-container {text-align: center;}#sk-container-id-1 div.sk-container {/* jupyter's `normalize.less` sets `[hidden] { display: none; }` but bootstrap.min.css set `[hidden] { display: none !important; }` so we also need the `!important` here to be able to override the default hidden behavior on the sphinx rendered scikit-learn.org. See: https://github.com/scikit-learn/scikit-learn/issues/21755 */display: inline-block !important;position: relative;}#sk-container-id-1 div.sk-text-repr-fallback {display: none;}</style><div id=\"sk-container-id-1\" class=\"sk-top-container\"><div class=\"sk-text-repr-fallback\"><pre>RadiusNeighborsClassifier(radius=1)</pre><b>In a Jupyter environment, please rerun this cell to show the HTML representation or trust the notebook. <br />On GitHub, the HTML representation is unable to render, please try loading this page with nbviewer.org.</b></div><div class=\"sk-container\" hidden><div class=\"sk-item\"><div class=\"sk-estimator sk-toggleable\"><input class=\"sk-toggleable__control sk-hidden--visually\" id=\"sk-estimator-id-1\" type=\"checkbox\" checked><label for=\"sk-estimator-id-1\" class=\"sk-toggleable__label sk-toggleable__label-arrow\">RadiusNeighborsClassifier</label><div class=\"sk-toggleable__content\"><pre>RadiusNeighborsClassifier(radius=1)</pre></div></div></div></div></div>"
      ],
      "text/plain": [
       "RadiusNeighborsClassifier(radius=1)"
      ]
     },
     "execution_count": 19,
     "metadata": {},
     "output_type": "execute_result"
    }
   ],
   "source": [
    "rnn = RadiusNeighborsClassifier(radius=1)\n",
    "rnn.fit(train_data, train_labels)"
   ]
  },
  {
   "cell_type": "code",
   "execution_count": 20,
   "metadata": {},
   "outputs": [
    {
     "data": {
      "text/html": [
       "<div>\n",
       "<style scoped>\n",
       "    .dataframe tbody tr th:only-of-type {\n",
       "        vertical-align: middle;\n",
       "    }\n",
       "\n",
       "    .dataframe tbody tr th {\n",
       "        vertical-align: top;\n",
       "    }\n",
       "\n",
       "    .dataframe thead th {\n",
       "        text-align: right;\n",
       "    }\n",
       "</style>\n",
       "<table border=\"1\" class=\"dataframe\">\n",
       "  <thead>\n",
       "    <tr style=\"text-align: right;\">\n",
       "      <th></th>\n",
       "      <th>red</th>\n",
       "      <th>green</th>\n",
       "      <th>blue</th>\n",
       "      <th>size</th>\n",
       "      <th>label</th>\n",
       "    </tr>\n",
       "  </thead>\n",
       "  <tbody>\n",
       "    <tr>\n",
       "      <th>0</th>\n",
       "      <td>249.0</td>\n",
       "      <td>108.0</td>\n",
       "      <td>5.0</td>\n",
       "      <td>3.62</td>\n",
       "      <td>1.0</td>\n",
       "    </tr>\n",
       "    <tr>\n",
       "      <th>1</th>\n",
       "      <td>240.0</td>\n",
       "      <td>115.0</td>\n",
       "      <td>13.0</td>\n",
       "      <td>3.71</td>\n",
       "      <td>1.0</td>\n",
       "    </tr>\n",
       "    <tr>\n",
       "      <th>2</th>\n",
       "      <td>239.0</td>\n",
       "      <td>102.0</td>\n",
       "      <td>19.0</td>\n",
       "      <td>4.04</td>\n",
       "      <td>1.0</td>\n",
       "    </tr>\n",
       "    <tr>\n",
       "      <th>3</th>\n",
       "      <td>247.0</td>\n",
       "      <td>100.0</td>\n",
       "      <td>2.0</td>\n",
       "      <td>4.16</td>\n",
       "      <td>1.0</td>\n",
       "    </tr>\n",
       "    <tr>\n",
       "      <th>4</th>\n",
       "      <td>248.0</td>\n",
       "      <td>95.0</td>\n",
       "      <td>6.0</td>\n",
       "      <td>3.78</td>\n",
       "      <td>1.0</td>\n",
       "    </tr>\n",
       "    <tr>\n",
       "      <th>...</th>\n",
       "      <td>...</td>\n",
       "      <td>...</td>\n",
       "      <td>...</td>\n",
       "      <td>...</td>\n",
       "      <td>...</td>\n",
       "    </tr>\n",
       "    <tr>\n",
       "      <th>790</th>\n",
       "      <td>197.0</td>\n",
       "      <td>242.0</td>\n",
       "      <td>93.0</td>\n",
       "      <td>2.49</td>\n",
       "      <td>4.0</td>\n",
       "    </tr>\n",
       "    <tr>\n",
       "      <th>791</th>\n",
       "      <td>197.0</td>\n",
       "      <td>254.0</td>\n",
       "      <td>109.0</td>\n",
       "      <td>3.47</td>\n",
       "      <td>4.0</td>\n",
       "    </tr>\n",
       "    <tr>\n",
       "      <th>792</th>\n",
       "      <td>197.0</td>\n",
       "      <td>251.0</td>\n",
       "      <td>97.0</td>\n",
       "      <td>2.70</td>\n",
       "      <td>4.0</td>\n",
       "    </tr>\n",
       "    <tr>\n",
       "      <th>793</th>\n",
       "      <td>197.0</td>\n",
       "      <td>244.0</td>\n",
       "      <td>106.0</td>\n",
       "      <td>2.93</td>\n",
       "      <td>4.0</td>\n",
       "    </tr>\n",
       "    <tr>\n",
       "      <th>794</th>\n",
       "      <td>197.0</td>\n",
       "      <td>248.0</td>\n",
       "      <td>99.0</td>\n",
       "      <td>2.79</td>\n",
       "      <td>4.0</td>\n",
       "    </tr>\n",
       "  </tbody>\n",
       "</table>\n",
       "<p>795 rows × 5 columns</p>\n",
       "</div>"
      ],
      "text/plain": [
       "       red  green   blue  size  label\n",
       "0    249.0  108.0    5.0  3.62    1.0\n",
       "1    240.0  115.0   13.0  3.71    1.0\n",
       "2    239.0  102.0   19.0  4.04    1.0\n",
       "3    247.0  100.0    2.0  4.16    1.0\n",
       "4    248.0   95.0    6.0  3.78    1.0\n",
       "..     ...    ...    ...   ...    ...\n",
       "790  197.0  242.0   93.0  2.49    4.0\n",
       "791  197.0  254.0  109.0  3.47    4.0\n",
       "792  197.0  251.0   97.0  2.70    4.0\n",
       "793  197.0  244.0  106.0  2.93    4.0\n",
       "794  197.0  248.0   99.0  2.79    4.0\n",
       "\n",
       "[795 rows x 5 columns]"
      ]
     },
     "execution_count": 20,
     "metadata": {},
     "output_type": "execute_result"
    }
   ],
   "source": [
    "import pandas as pd\n",
    "from sklearn.model_selection import train_test_split\n",
    "from sklearn.preprocessing import StandardScaler # necessary to reduce biases of large numbers\n",
    "from sklearn.neighbors import KNeighborsClassifier\n",
    "from sklearn.metrics import confusion_matrix \n",
    "from sklearn.metrics import f1_score \n",
    "from sklearn.metrics import accuracy_score \n",
    "\n",
    "dataset = pd.read_csv(\"./data/strange_flowers.txt\", \n",
    "                      header=None, \n",
    "                      names=[\"red\", \"green\", \"blue\", \"size\", \"label\"],\n",
    "                      sep=\" \")\n",
    "dataset"
   ]
  },
  {
   "cell_type": "code",
   "execution_count": 21,
   "metadata": {},
   "outputs": [
    {
     "data": {
      "image/png": "[encoded data removed]",
      "text/plain": [
       "<Figure size 640x480 with 1 Axes>"
      ]
     },
     "metadata": {},
     "output_type": "display_data"
    }
   ],
   "source": [
    "import matplotlib.pyplot as plt\n",
    "\n",
    "from sklearn.datasets import make_blobs\n",
    "import matplotlib.pyplot as plt\n",
    "import numpy as np\n",
    "\n",
    "\n",
    "n_classes = 6\n",
    "data, labels = make_blobs(n_samples=1000, \n",
    "                          centers=n_classes,\n",
    "                          cluster_std = 1.3,\n",
    "                          random_state=1)\n",
    "import matplotlib.pyplot as plt\n",
    "\n",
    "colours = ('green', 'red', 'blue', 'magenta', 'yellow', 'pink')\n",
    "\n",
    "fig, ax = plt.subplots()\n",
    "for n_class in range(0, n_classes):\n",
    "    ax.scatter(data[labels==n_class, 0], data[labels==n_class, 1], \n",
    "               c=colours[n_class], s=10, label=str(n_class))"
   ]
  },
  {
   "cell_type": "code",
   "execution_count": 22,
   "metadata": {},
   "outputs": [
    {
     "name": "stdout",
     "output_type": "stream",
     "text": [
      "700 300 700\n"
     ]
    },
    {
     "data": {
      "text/plain": [
       "[<matplotlib.lines.Line2D at 0x15480c8fee0>]"
      ]
     },
     "execution_count": 22,
     "metadata": {},
     "output_type": "execute_result"
    },
    {
     "data": {
      "image/png": "[encoded data removed]",
      "text/plain": [
       "<Figure size 640x480 with 1 Axes>"
      ]
     },
     "metadata": {},
     "output_type": "display_data"
    }
   ],
   "source": [
    "res = train_test_split(data, labels, \n",
    "                       train_size=0.7,\n",
    "                       test_size=0.3,\n",
    "                       random_state=1)\n",
    "train_data, test_data, train_labels, test_labels = res \n",
    "\n",
    "print(len(train_data), len(test_data), len(train_labels))\n",
    "\n",
    "X, Y = [], []\n",
    "for k in range(1, 25):\n",
    "    classifier = KNeighborsClassifier(n_neighbors=k, \n",
    "                                      p=2,    # Euclidian\n",
    "                                      metric=\"minkowski\")\n",
    "    classifier.fit(train_data, train_labels)\n",
    "    predictions = classifier.predict(test_data)\n",
    "    score = accuracy_score(test_labels, predictions)\n",
    "    X.append(k)\n",
    "    Y.append(score)\n",
    "    \n",
    "\n",
    "\n",
    "fig, ax = plt.subplots()\n",
    "ax.set_xlabel('k')\n",
    "ax.set_ylabel('accuracy')\n",
    "ax.plot(X, Y, \"go\")"
   ]
  }
 ],
 "metadata": {
  "kernelspec": {
   "display_name": "Python 3",
   "language": "python",
   "name": "python3"
  },
  "language_info": {
   "codemirror_mode": {
    "name": "ipython",
    "version": 3
   },
   "file_extension": ".py",
   "mimetype": "text/x-python",
   "name": "python",
   "nbconvert_exporter": "python",
   "pygments_lexer": "ipython3",
   "version": "3.10.7"
  },
  "orig_nbformat": 4,
  "vscode": {
   "interpreter": {
    "hash": "f627b94a91bc915482d65575b2ea77ee7c3710ea9aacf075a668e3021bd93680"
   }
  }
 },
 "nbformat": 4,
 "nbformat_minor": 2
}
