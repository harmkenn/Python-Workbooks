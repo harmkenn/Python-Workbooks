{
 "cells": [
  {
   "cell_type": "code",
   "execution_count": null,
   "metadata": {},
   "outputs": [],
   "source": [
    "# https://python-course.eu/numerical-programming/weighted-probabilities.php"
   ]
  },
  {
   "cell_type": "code",
   "execution_count": null,
   "metadata": {},
   "outputs": [],
   "source": [
    "from random import choice, sample\n",
    "\n",
    "print(choice(\"abcdefghij\"))\n",
    "\n",
    "professions = [\"scientist\", \"philosopher\", \"engineer\", \"priest\"]\n",
    "\n",
    "print(choice(professions))\n",
    "\n",
    "print(choice((\"beginner\", \"intermediate\", \"advanced\")))\n",
    "\n",
    "# rolling one die\n",
    "x = choice(range(1, 7))\n",
    "print(\"The dice shows: \" + str(x))\n",
    "\n",
    "# rolling two dice:\n",
    "dice = sample(range(1, 7), 2)\n",
    "print(\"The two dice show: \" + str(dice))"
   ]
  },
  {
   "cell_type": "code",
   "execution_count": null,
   "metadata": {},
   "outputs": [],
   "source": [
    "import numpy as np\n",
    "\n",
    "weights = [0.2, 0.5, 0.3]\n",
    "cum_weights = [0] + list(np.cumsum(weights))\n",
    "print(cum_weights)"
   ]
  },
  {
   "cell_type": "code",
   "execution_count": 6,
   "metadata": {},
   "outputs": [],
   "source": [
    "import numpy as np\n",
    "\n",
    "import random\n",
    "\n",
    "def weighted_choice(objects, weights):\n",
    "    \"\"\" returns randomly an element from the sequence of 'objects', \n",
    "        the likelihood of the objects is weighted according \n",
    "        to the sequence of 'weights', i.e. percentages.\"\"\"\n",
    "\n",
    "    weights = np.array(weights, dtype=np.float64)\n",
    "    sum_of_weights = weights.sum()\n",
    "    # standardization:\n",
    "    np.multiply(weights, 1 / sum_of_weights, weights)\n",
    "    weights = weights.cumsum()\n",
    "    x = random.random()\n",
    "    for i in range(len(weights)):\n",
    "        if x < weights[i]:\n",
    "            return objects[i]"
   ]
  },
  {
   "cell_type": "code",
   "execution_count": 7,
   "metadata": {},
   "outputs": [
    {
     "name": "stdout",
     "output_type": "stream",
     "text": [
      "[0.0786, 0.1671, 0.1673, 0.1674, 0.1736, 0.246] 1.0\n"
     ]
    }
   ],
   "source": [
    "from collections import Counter\n",
    "\n",
    "faces_of_die = [1, 2, 3, 4, 5, 6]\n",
    "weights = [1/12, 1/6, 1/6, 1/6, 1/6, 3/12]\n",
    "\n",
    "outcomes = []\n",
    "n = 10000\n",
    "for _ in range(n):\n",
    "    outcomes.append(weighted_choice(faces_of_die, weights))\n",
    "\n",
    "c = Counter(outcomes)\n",
    "for key in c:\n",
    "    c[key] = c[key] / n\n",
    "    \n",
    "print(sorted(c.values()), sum(c.values()))"
   ]
  },
  {
   "cell_type": "code",
   "execution_count": 8,
   "metadata": {},
   "outputs": [
    {
     "name": "stdout",
     "output_type": "stream",
     "text": [
      "[0.14, 0.12, 0.04, 0.27, 0.08, 0.35]\n",
      "Freiburg\n",
      "Hamburg\n",
      "Frankfurt\n",
      "Hamburg\n",
      "Zürich\n",
      "Hamburg\n",
      "Hamburg\n",
      "Frankfurt\n",
      "Frankfurt\n",
      "Hamburg\n"
     ]
    }
   ],
   "source": [
    "cities = [\"Frankfurt\", \n",
    "          \"Stuttgart\", \n",
    "          \"Freiburg\", \n",
    "          \"München\", \n",
    "          \"Zürich\",\n",
    "          \"Hamburg\"]\n",
    "populations = [736000, 628000, 228000, 1450000, 409241, 1841179]\n",
    "total = sum(populations)\n",
    "weights = [ round(pop / total, 2) for pop in populations]\n",
    "print(weights)\n",
    "for i in range(10):\n",
    "    print(weighted_choice(cities, populations))"
   ]
  },
  {
   "cell_type": "code",
   "execution_count": 9,
   "metadata": {},
   "outputs": [
    {
     "data": {
      "text/plain": [
       "'programmer'"
      ]
     },
     "execution_count": 9,
     "metadata": {},
     "output_type": "execute_result"
    }
   ],
   "source": [
    "from numpy.random import choice\n",
    "\n",
    "professions = [\"scientist\", \n",
    "               \"philosopher\", \n",
    "               \"engineer\", \n",
    "               \"priest\", \n",
    "               \"programmer\"]\n",
    "\n",
    "probabilities = [0.2, 0.05, 0.3, 0.15, 0.3]\n",
    "\n",
    "choice(professions, p=probabilities)"
   ]
  },
  {
   "cell_type": "code",
   "execution_count": 10,
   "metadata": {},
   "outputs": [
    {
     "name": "stdout",
     "output_type": "stream",
     "text": [
      "[0.33826638 0.32135307 0.21141649 0.12896406]\n",
      "Python\n",
      "C++\n",
      "Python\n",
      "Python\n",
      "Java\n",
      "C++\n",
      "Python\n",
      "Java\n",
      "Java\n",
      "C\n"
     ]
    }
   ],
   "source": [
    "import numpy as np\n",
    "programming_languages = [\"Java\", \"C\", \"Python\", \"C++\"]\n",
    "weights = np.array([16, 15.2, 10, 6.1])\n",
    "\n",
    "# normalization\n",
    "weights /= sum(weights) \n",
    "print(weights)\n",
    "\n",
    "for i in range(10):\n",
    "    print(choice(programming_languages, p=weights))"
   ]
  },
  {
   "cell_type": "code",
   "execution_count": 11,
   "metadata": {},
   "outputs": [
    {
     "name": "stdout",
     "output_type": "stream",
     "text": [
      "['orange', 'yellow', 'white']\n",
      "['green', 'orange', 'pink']\n",
      "['orange', 'black', 'yellow']\n",
      "['green', 'blue', 'pink']\n",
      "['orange', 'yellow', 'pink']\n",
      "['green', 'orange', 'blue']\n",
      "['orange', 'blue', 'yellow']\n",
      "['green', 'yellow', 'white']\n",
      "['green', 'orange', 'black']\n",
      "['green', 'orange', 'black']\n"
     ]
    }
   ],
   "source": [
    "def weighted_sample(population, weights, k):\n",
    "    \"\"\" \n",
    "    This function draws a random sample (without repeats) \n",
    "    of length k     from the sequence 'population' according \n",
    "    to the list of weights\n",
    "    \"\"\"\n",
    "    sample = set()\n",
    "    population = list(population)\n",
    "    weights = list(weights)\n",
    "    while len(sample) < k:\n",
    "        choice = weighted_choice(population, weights)\n",
    "        sample.add(choice)\n",
    "        index = population.index(choice)\n",
    "        weights.pop(index)\n",
    "        population.remove(choice)\n",
    "        weights = [ x / sum(weights) for x in weights]\n",
    "    return list(sample)\n",
    "\n",
    "candies = [\"red\", \"green\", \"blue\", \"yellow\", \"black\", \"white\", \"pink\", \"orange\"]\n",
    "weights = [ 1/24, 1/6, 1/6, 1/12, 1/12, 1/24, 1/8, 7/24]\n",
    "for i in range(10):\n",
    "    print(weighted_sample(candies, weights, 3))"
   ]
  },
  {
   "cell_type": "code",
   "execution_count": 12,
   "metadata": {},
   "outputs": [
    {
     "name": "stdout",
     "output_type": "stream",
     "text": [
      "0.71137\n"
     ]
    }
   ],
   "source": [
    "n = 100000\n",
    "orange_counter = 0\n",
    "for i in range(n):\n",
    "    if \"orange\" in weighted_sample(candies, weights, 3):\n",
    "        orange_counter += 1\n",
    "        \n",
    "print(orange_counter / n)"
   ]
  },
  {
   "cell_type": "code",
   "execution_count": 13,
   "metadata": {},
   "outputs": [
    {
     "name": "stdout",
     "output_type": "stream",
     "text": [
      "0.71291\n"
     ]
    }
   ],
   "source": [
    "n = 100000\n",
    "orange_counter = 0\n",
    "for i in range(n):\n",
    "    if \"orange\" in np.random.choice(candies, \n",
    "                                    p=weights, \n",
    "                                    size=(3,),\n",
    "                                    replace=False):\n",
    "        orange_counter += 1\n",
    "        \n",
    "print(orange_counter / n)"
   ]
  },
  {
   "cell_type": "code",
   "execution_count": 14,
   "metadata": {},
   "outputs": [
    {
     "name": "stdout",
     "output_type": "stream",
     "text": [
      "['Germany' 'France' 'France']\n",
      "['Poland' 'Poland' 'Germany']\n",
      "['Germany' 'France' 'France']\n",
      "['Germany' 'Germany' 'Netherlands']\n"
     ]
    }
   ],
   "source": [
    "countries = [\"Germany\", \"Switzerland\", \n",
    "             \"Austria\", \"Netherlands\",\n",
    "             \"Belgium\", \"Poland\", \n",
    "             \"France\", \"Ireland\"]\n",
    "weights = np.array([83019200, 8555541, 8869537,\n",
    "                    17338900, 11480534, 38413000, \n",
    "                    67022000, 4857000])\n",
    "weights = weights / sum(weights)\n",
    "\n",
    "for i in range(4):\n",
    "    print(np.random.choice(countries,\n",
    "                           p=weights, \n",
    "                           size=(3,),\n",
    "                           replace=True))"
   ]
  },
  {
   "cell_type": "code",
   "execution_count": 15,
   "metadata": {},
   "outputs": [
    {
     "data": {
      "text/plain": [
       "['A', 'grey', 'light', 'smells']"
      ]
     },
     "execution_count": 15,
     "metadata": {},
     "output_type": "execute_result"
    }
   ],
   "source": [
    "import numpy as np\n",
    "\n",
    "def cartesian_choice(*iterables):\n",
    "    \"\"\"\n",
    "    A list with random choices from each iterable of iterables \n",
    "    is being created in respective order.\n",
    "    \n",
    "    The result list can be seen as an element of the \n",
    "    Cartesian product of the iterables \n",
    "    \"\"\"\n",
    "    res = []\n",
    "    for population in iterables:\n",
    "        res.append(np.random.choice(population))\n",
    "    return res\n",
    "\n",
    "\n",
    "cartesian_choice([\"The\", \"A\"],\n",
    "                 [\"red\", \"green\", \"blue\", \"yellow\", \"grey\"], \n",
    "                 [\"car\", \"house\", \"fish\", \"light\"],\n",
    "                 [\"smells\", \"dreams\", \"blinks\", \"shines\"])"
   ]
  },
  {
   "cell_type": "code",
   "execution_count": 16,
   "metadata": {},
   "outputs": [
    {
     "name": "stdout",
     "output_type": "stream",
     "text": [
      "It may or may not be true:\n",
      "Every grey fish thinks of happiness.\n",
      "The grey programming language thinks of air.\n",
      "A yellow fish smells of challenges.\n",
      "The blue programming language smells of happiness.\n",
      "Every green elephant dreams of happiness.\n",
      "Every blue elephant smells of chocolate.\n",
      "The yellow light smells of happiness.\n",
      "Every blue water dreams of chocolate.\n",
      "The yellow light smells of chocolate.\n",
      "No green elephant dreams of happiness.\n"
     ]
    }
   ],
   "source": [
    "import numpy as np\n",
    "\n",
    "def weighted_cartesian_choice(*iterables):\n",
    "    \"\"\"\n",
    "    An arbitrary number of tuple or lists,\n",
    "    each consisting of population and weights.\n",
    "    weighted_cartesian_choice returns a list \n",
    "    with a chocie from each population\n",
    "    \"\"\"\n",
    "    res = []\n",
    "    for population, weights in iterables:\n",
    "        # normalize weight:\n",
    "        weights = np.array(weights) / sum(weights)\n",
    "        lst = np.random.choice(population, p=weights)\n",
    "        res.append(lst)\n",
    "    return res\n",
    "\n",
    "determiners = ([\"The\", \"A\", \"Each\", \"Every\", \"No\"], \n",
    "               [0.3, 0.3, 0.1, 0.1, 0.2])\n",
    "colours = ([\"red\", \"green\", \"blue\", \"yellow\", \"grey\"], \n",
    "           [0.1, 0.3, 0.3, 0.2, 0.2])\n",
    "nouns = ([\"water\", \"elephant\", \"fish\", \"light\", \"programming language\"], \n",
    "         [0.3, 0.2, 0.1, 0.1, 0.3])\n",
    "nouns2 = ([\"of happiness\", \"of chocolate\", \"of wisdom\", \"of challenges\", \"of air\"], \n",
    "         [0.5, 0.2, 0.1, 0.1, 0.1])\n",
    "verb_phrases = ([\"smells\", \"dreams\", \"thinks\", \"is made of\"], \n",
    "         [0.4, 0.3, 0.2, 0.1])\n",
    "\n",
    "print(\"It may or may not be true:\")\n",
    "for i in range(10):\n",
    "    res = weighted_cartesian_choice(determiners,\n",
    "                                    colours,\n",
    "                                    nouns,\n",
    "                                    verb_phrases,\n",
    "                                    nouns2)\n",
    "    print(\" \".join(res) + \".\")"
   ]
  },
  {
   "cell_type": "code",
   "execution_count": 17,
   "metadata": {},
   "outputs": [
    {
     "name": "stdout",
     "output_type": "stream",
     "text": [
      "It may or may not be true:\n",
      "smells 0.4032\n",
      "is made of 0.1014\n",
      "thinks 0.2064\n",
      "dreams 0.289\n"
     ]
    }
   ],
   "source": [
    "import random\n",
    "\n",
    "def weighted_cartesian_choice(*iterables):\n",
    "    \"\"\"\n",
    "    A list with weighted random choices from each iterable of iterables \n",
    "    is being created in respective order\n",
    "    \"\"\"\n",
    "    res = []\n",
    "    for population, weight in iterables:\n",
    "        lst = weighted_choice(population, weight)\n",
    "        res.append(lst)\n",
    "    return res\n",
    "\n",
    "determiners = ([\"The\", \"A\", \"Each\", \"Every\", \"No\"], \n",
    "               [0.3, 0.3, 0.1, 0.1, 0.2])\n",
    "colours = ([\"red\", \"green\", \"blue\", \"yellow\", \"grey\"], \n",
    "           [0.1, 0.3, 0.3, 0.2, 0.2])\n",
    "nouns = ([\"water\", \"elephant\", \"fish\", \"light\", \"programming language\"], \n",
    "         [0.3, 0.2, 0.1, 0.1, 0.3])\n",
    "nouns2 = ([\"of happiness\", \"of chocolate\", \"of wisdom\", \"of challenges\", \"of air\"], \n",
    "         [0.5, 0.2, 0.1, 0.1, 0.1])\n",
    "verb_phrases = ([\"smells\", \"dreams\", \"thinks\", \"is made of\"], \n",
    "         [0.4, 0.3, 0.2, 0.1])\n",
    "\n",
    "print(\"It may or may not be true:\")\n",
    "sentences = []\n",
    "for i in range(10000):\n",
    "    res = weighted_cartesian_choice(determiners,\n",
    "                                    colours,\n",
    "                                    nouns,\n",
    "                                    verb_phrases,\n",
    "                                    nouns2)\n",
    "    sentences.append(\" \".join(res) + \".\")\n",
    "\n",
    "words = [\"smells\", \"dreams\", \"thinks\", \"is made of\"]\n",
    "from collections import Counter\n",
    "c = Counter()\n",
    "for sentence in sentences:\n",
    "    for word in words:\n",
    "        if word in sentence:\n",
    "            c[word] += 1\n",
    "  \n",
    "wsum = sum(c.values())\n",
    "for key in c:\n",
    "    print(key, c[key] / wsum)"
   ]
  }
 ],
 "metadata": {
  "kernelspec": {
   "display_name": "Python 3.10.7 64-bit",
   "language": "python",
   "name": "python3"
  },
  "language_info": {
   "codemirror_mode": {
    "name": "ipython",
    "version": 3
   },
   "file_extension": ".py",
   "mimetype": "text/x-python",
   "name": "python",
   "nbconvert_exporter": "python",
   "pygments_lexer": "ipython3",
   "version": "3.10.7"
  },
  "orig_nbformat": 4,
  "vscode": {
   "interpreter": {
    "hash": "f627b94a91bc915482d65575b2ea77ee7c3710ea9aacf075a668e3021bd93680"
   }
  }
 },
 "nbformat": 4,
 "nbformat_minor": 2
}
