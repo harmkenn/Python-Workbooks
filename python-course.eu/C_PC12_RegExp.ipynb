{
 "cells": [
  {
   "cell_type": "code",
   "execution_count": null,
   "metadata": {},
   "outputs": [],
   "source": [
    "# https://python-course.eu/advanced-python/regular-expressions.php"
   ]
  },
  {
   "cell_type": "code",
   "execution_count": 1,
   "metadata": {},
   "outputs": [
    {
     "data": {
      "text/plain": [
       "True"
      ]
     },
     "execution_count": 1,
     "metadata": {},
     "output_type": "execute_result"
    }
   ],
   "source": [
    "s = \"Regular expressions easily explained!\"\n",
    "\"easily\" in s"
   ]
  },
  {
   "cell_type": "code",
   "execution_count": 1,
   "metadata": {},
   "outputs": [
    {
     "name": "stdout",
     "output_type": "stream",
     "text": [
      "<re.Match object; span=(2, 5), match='cat'>\n"
     ]
    }
   ],
   "source": [
    "import re\n",
    "x = re.search(\"cat\", \"A cat and a rat can't be friends.\")\n",
    "print(x)"
   ]
  },
  {
   "cell_type": "code",
   "execution_count": 2,
   "metadata": {},
   "outputs": [
    {
     "name": "stdout",
     "output_type": "stream",
     "text": [
      "None\n"
     ]
    }
   ],
   "source": [
    "x = re.search(\"cow\", \"A cat and a rat can't be friends.\")\n",
    "print(x)"
   ]
  },
  {
   "cell_type": "code",
   "execution_count": 3,
   "metadata": {},
   "outputs": [
    {
     "name": "stdout",
     "output_type": "stream",
     "text": [
      "Some kind of cat has been found :-)\n"
     ]
    }
   ],
   "source": [
    "if re.search(\"cat\", \"A cat and a rat can't be friends.\"):\n",
    "    print(\"Some kind of cat has been found :-)\")\n",
    "else:\n",
    "    print(\"No cat has been found :-)\")"
   ]
  },
  {
   "cell_type": "code",
   "execution_count": 4,
   "metadata": {},
   "outputs": [
    {
     "name": "stdout",
     "output_type": "stream",
     "text": [
      "No cow around.\n"
     ]
    }
   ],
   "source": [
    "if re.search(\"cow\", \"A cat and a rat can't be friends.\"):\n",
    "     print(\"Cats and Rats and a cow.\")\n",
    "else:\n",
    "     print(\"No cow around.\")"
   ]
  },
  {
   "cell_type": "code",
   "execution_count": 8,
   "metadata": {},
   "outputs": [
    {
     "name": "stdout",
     "output_type": "stream",
     "text": [
      "Jack Neu 555-7666\n",
      "Jeb Neu 555-5543\n",
      "Jennifer Neu 555-3652\n"
     ]
    }
   ],
   "source": [
    "import re\n",
    "fh = open(\"simpsons_phone_book.txt\")\n",
    "for line in fh:\n",
    "    if re.search(r\"J.*Neu\",line):\n",
    "        print(line.rstrip())\n",
    "fh.close()"
   ]
  },
  {
   "cell_type": "code",
   "execution_count": 1,
   "metadata": {},
   "outputs": [
    {
     "name": "stdout",
     "output_type": "stream",
     "text": [
      "I found one!\n"
     ]
    }
   ],
   "source": [
    "import re\n",
    "line = \"He is a German called Mayer.\"\n",
    "if re.search(r\"M[ae][iy]er\", line): \n",
    "    print(\"I found one!\")"
   ]
  },
  {
   "cell_type": "code",
   "execution_count": 3,
   "metadata": {},
   "outputs": [
    {
     "name": "stdout",
     "output_type": "stream",
     "text": [
      "<re.Match object; span=(0, 5), match='Mayer'>\n",
      "<re.Match object; span=(13, 18), match='Meyer'>\n",
      "<re.Match object; span=(0, 5), match='Mayer'>\n",
      "None\n"
     ]
    }
   ],
   "source": [
    "import re\n",
    "s1 = \"Mayer is a very common Name\"\n",
    "s2 = \"He is called Meyer but he isn't German.\"\n",
    "print(re.search(r\"M[ae][iy]er\", s1))\n",
    "print(re.search(r\"M[ae][iy]er\", s2))\n",
    " # matches because it starts with Mayer\n",
    "print(re.match(r\"M[ae][iy]er\", s1)) \n",
    "# doesn't match because it doesn't start with Meyer or Meyer, Meier and so on:\n",
    "print(re.match(r\"M[ae][iy]er\", s2)) "
   ]
  },
  {
   "cell_type": "code",
   "execution_count": 4,
   "metadata": {},
   "outputs": [
    {
     "name": "stdout",
     "output_type": "stream",
     "text": [
      "<re.Match object; span=(0, 5), match='Mayer'>\n",
      "None\n"
     ]
    }
   ],
   "source": [
    "import re\n",
    "s1 = \"Mayer is a very common Name\"\n",
    "s2 = \"He is called Meyer but he isn't German.\"\n",
    "print(re.search(r\"^M[ae][iy]er\", s1))\n",
    "print(re.search(r\"^M[ae][iy]er\", s2))"
   ]
  },
  {
   "cell_type": "code",
   "execution_count": 5,
   "metadata": {},
   "outputs": [
    {
     "name": "stdout",
     "output_type": "stream",
     "text": [
      "None\n"
     ]
    }
   ],
   "source": [
    "s = s2 + \"\\n\" + s1\n",
    "print(re.search(r\"^M[ae][iy]er\", s))"
   ]
  },
  {
   "cell_type": "code",
   "execution_count": 6,
   "metadata": {},
   "outputs": [
    {
     "name": "stdout",
     "output_type": "stream",
     "text": [
      "<re.Match object; span=(40, 45), match='Mayer'>\n",
      "<re.Match object; span=(40, 45), match='Mayer'>\n",
      "None\n"
     ]
    }
   ],
   "source": [
    "print(re.search(r\"^M[ae][iy]er\", s, re.MULTILINE))\n",
    "print(re.search(r\"^M[ae][iy]er\", s, re.M))\n",
    "print(re.match(r\"^M[ae][iy]er\", s, re.M))"
   ]
  },
  {
   "cell_type": "code",
   "execution_count": 7,
   "metadata": {},
   "outputs": [
    {
     "name": "stdout",
     "output_type": "stream",
     "text": [
      "<re.Match object; span=(7, 14), match='Python.'>\n",
      "None\n",
      "None\n",
      "<re.Match object; span=(7, 14), match='Python.'>\n"
     ]
    }
   ],
   "source": [
    "print(re.search(r\"Python\\.$\",\"I like Python.\"))\n",
    "print(re.search(r\"Python\\.$\",\"I like Python and Perl.\"))\n",
    "print(re.search(r\"Python\\.$\",\"I like Python.\\nSome prefer Java or Perl.\"))\n",
    "print(re.search(r\"Python\\.$\",\"I like Python.\\nSome prefer Java or Perl.\", re.M))"
   ]
  },
  {
   "cell_type": "code",
   "execution_count": 14,
   "metadata": {},
   "outputs": [
    {
     "name": "stdout",
     "output_type": "stream",
     "text": [
      "['39UTQ1234567890', '38twe123456', '37UAS12345678']\n"
     ]
    }
   ],
   "source": [
    "MGRS = [\"39UTQ1234567890\",\"38 t we 123 456\",\"37U AS 12345678\"]\n",
    "TMGRS = [i.replace(' ','') for i in MGRS]\n",
    "print(TMGRS)"
   ]
  }
 ],
 "metadata": {
  "kernelspec": {
   "display_name": "Python 3.8.13 64-bit ('3.8.13')",
   "language": "python",
   "name": "python3"
  },
  "language_info": {
   "codemirror_mode": {
    "name": "ipython",
    "version": 3
   },
   "file_extension": ".py",
   "mimetype": "text/x-python",
   "name": "python",
   "nbconvert_exporter": "python",
   "pygments_lexer": "ipython3",
   "version": "3.8.13"
  },
  "orig_nbformat": 4,
  "vscode": {
   "interpreter": {
    "hash": "110cc1dee26208153f2972f08a2ad52b6a56238dc66d48e87fb757ef2996db56"
   }
  }
 },
 "nbformat": 4,
 "nbformat_minor": 2
}
