{
 "cells": [
  {
   "cell_type": "code",
   "execution_count": null,
   "metadata": {},
   "outputs": [],
   "source": [
    "# https://python-course.eu/advanced-python/regular-expressions.php"
   ]
  },
  {
   "cell_type": "code",
   "execution_count": 1,
   "metadata": {},
   "outputs": [
    {
     "data": {
      "text/plain": [
       "True"
      ]
     },
     "execution_count": 1,
     "metadata": {},
     "output_type": "execute_result"
    }
   ],
   "source": [
    "s = \"Regular expressions easily explained!\"\n",
    "\"easily\" in s"
   ]
  },
  {
   "cell_type": "code",
   "execution_count": 1,
   "metadata": {},
   "outputs": [
    {
     "name": "stdout",
     "output_type": "stream",
     "text": [
      "<re.Match object; span=(2, 5), match='cat'>\n"
     ]
    }
   ],
   "source": [
    "import re\n",
    "x = re.search(\"cat\", \"A cat and a rat can't be friends.\")\n",
    "print(x)"
   ]
  },
  {
   "cell_type": "code",
   "execution_count": 2,
   "metadata": {},
   "outputs": [
    {
     "name": "stdout",
     "output_type": "stream",
     "text": [
      "None\n"
     ]
    }
   ],
   "source": [
    "x = re.search(\"cow\", \"A cat and a rat can't be friends.\")\n",
    "print(x)"
   ]
  },
  {
   "cell_type": "code",
   "execution_count": 3,
   "metadata": {},
   "outputs": [
    {
     "name": "stdout",
     "output_type": "stream",
     "text": [
      "Some kind of cat has been found :-)\n"
     ]
    }
   ],
   "source": [
    "if re.search(\"cat\", \"A cat and a rat can't be friends.\"):\n",
    "    print(\"Some kind of cat has been found :-)\")\n",
    "else:\n",
    "    print(\"No cat has been found :-)\")"
   ]
  },
  {
   "cell_type": "code",
   "execution_count": 4,
   "metadata": {},
   "outputs": [
    {
     "name": "stdout",
     "output_type": "stream",
     "text": [
      "No cow around.\n"
     ]
    }
   ],
   "source": [
    "if re.search(\"cow\", \"A cat and a rat can't be friends.\"):\n",
    "     print(\"Cats and Rats and a cow.\")\n",
    "else:\n",
    "     print(\"No cow around.\")"
   ]
  },
  {
   "cell_type": "code",
   "execution_count": 8,
   "metadata": {},
   "outputs": [
    {
     "name": "stdout",
     "output_type": "stream",
     "text": [
      "Jack Neu 555-7666\n",
      "Jeb Neu 555-5543\n",
      "Jennifer Neu 555-3652\n"
     ]
    }
   ],
   "source": [
    "import re\n",
    "fh = open(\"simpsons_phone_book.txt\")\n",
    "for line in fh:\n",
    "    if re.search(r\"J.*Neu\",line):\n",
    "        print(line.rstrip())\n",
    "fh.close()"
   ]
  },
  {
   "cell_type": "code",
   "execution_count": 1,
   "metadata": {},
   "outputs": [
    {
     "name": "stdout",
     "output_type": "stream",
     "text": [
      "I found one!\n"
     ]
    }
   ],
   "source": [
    "import re\n",
    "line = \"He is a German called Mayer.\"\n",
    "if re.search(r\"M[ae][iy]er\", line): \n",
    "    print(\"I found one!\")"
   ]
  },
  {
   "cell_type": "code",
   "execution_count": 3,
   "metadata": {},
   "outputs": [
    {
     "name": "stdout",
     "output_type": "stream",
     "text": [
      "<re.Match object; span=(0, 5), match='Mayer'>\n",
      "<re.Match object; span=(13, 18), match='Meyer'>\n",
      "<re.Match object; span=(0, 5), match='Mayer'>\n",
      "None\n"
     ]
    }
   ],
   "source": [
    "import re\n",
    "s1 = \"Mayer is a very common Name\"\n",
    "s2 = \"He is called Meyer but he isn't German.\"\n",
    "print(re.search(r\"M[ae][iy]er\", s1))\n",
    "print(re.search(r\"M[ae][iy]er\", s2))\n",
    " # matches because it starts with Mayer\n",
    "print(re.match(r\"M[ae][iy]er\", s1)) \n",
    "# doesn't match because it doesn't start with Meyer or Meyer, Meier and so on:\n",
    "print(re.match(r\"M[ae][iy]er\", s2)) "
   ]
  },
  {
   "cell_type": "code",
   "execution_count": 4,
   "metadata": {},
   "outputs": [
    {
     "name": "stdout",
     "output_type": "stream",
     "text": [
      "<re.Match object; span=(0, 5), match='Mayer'>\n",
      "None\n"
     ]
    }
   ],
   "source": [
    "import re\n",
    "s1 = \"Mayer is a very common Name\"\n",
    "s2 = \"He is called Meyer but he isn't German.\"\n",
    "print(re.search(r\"^M[ae][iy]er\", s1))\n",
    "print(re.search(r\"^M[ae][iy]er\", s2))"
   ]
  },
  {
   "cell_type": "code",
   "execution_count": 5,
   "metadata": {},
   "outputs": [
    {
     "name": "stdout",
     "output_type": "stream",
     "text": [
      "None\n"
     ]
    }
   ],
   "source": [
    "s = s2 + \"\\n\" + s1\n",
    "print(re.search(r\"^M[ae][iy]er\", s))"
   ]
  },
  {
   "cell_type": "code",
   "execution_count": 6,
   "metadata": {},
   "outputs": [
    {
     "name": "stdout",
     "output_type": "stream",
     "text": [
      "<re.Match object; span=(40, 45), match='Mayer'>\n",
      "<re.Match object; span=(40, 45), match='Mayer'>\n",
      "None\n"
     ]
    }
   ],
   "source": [
    "print(re.search(r\"^M[ae][iy]er\", s, re.MULTILINE))\n",
    "print(re.search(r\"^M[ae][iy]er\", s, re.M))\n",
    "print(re.match(r\"^M[ae][iy]er\", s, re.M))"
   ]
  },
  {
   "cell_type": "code",
   "execution_count": 7,
   "metadata": {},
   "outputs": [
    {
     "name": "stdout",
     "output_type": "stream",
     "text": [
      "<re.Match object; span=(7, 14), match='Python.'>\n",
      "None\n",
      "None\n",
      "<re.Match object; span=(7, 14), match='Python.'>\n"
     ]
    }
   ],
   "source": [
    "print(re.search(r\"Python\\.$\",\"I like Python.\"))\n",
    "print(re.search(r\"Python\\.$\",\"I like Python and Perl.\"))\n",
    "print(re.search(r\"Python\\.$\",\"I like Python.\\nSome prefer Java or Perl.\"))\n",
    "print(re.search(r\"Python\\.$\",\"I like Python.\\nSome prefer Java or Perl.\", re.M))"
   ]
  },
  {
   "cell_type": "code",
   "execution_count": 15,
   "metadata": {},
   "outputs": [
    {
     "data": {
      "text/plain": [
       "'232454'"
      ]
     },
     "execution_count": 15,
     "metadata": {},
     "output_type": "execute_result"
    }
   ],
   "source": [
    "import re\n",
    "mo = re.search(\"[0-9]+\", \"Customer number: 232454, Date: February 12, 2011\")\n",
    "mo.group()"
   ]
  },
  {
   "cell_type": "code",
   "execution_count": 17,
   "metadata": {},
   "outputs": [
    {
     "name": "stdout",
     "output_type": "stream",
     "text": [
      "composer: Wolfgang Amadeus Mozart\n",
      "author: Samuel Beckett\n",
      "city: London\n"
     ]
    }
   ],
   "source": [
    "import re\n",
    "fh = open(\"tags.txt\")\n",
    "for i in fh:\n",
    "     res = re.search(r\"<([a-z]+)>(.*)</\\1>\",i)\n",
    "     print(res.group(1) + \": \" + res.group(2))"
   ]
  },
  {
   "cell_type": "code",
   "execution_count": 18,
   "metadata": {},
   "outputs": [
    {
     "name": "stdout",
     "output_type": "stream",
     "text": [
      "Allison Neu 555-8396\n",
      "C. Montgomery Burns \n",
      "Lionel Putz 555-5299\n",
      "Homer Jay Simpson 555-7334\n"
     ]
    }
   ],
   "source": [
    "import re\n",
    "l = [\"555-8396 Neu, Allison\", \n",
    "     \"Burns, C. Montgomery\", \n",
    "     \"555-5299 Putz, Lionel\",\n",
    "     \"555-7334 Simpson, Homer Jay\"]\n",
    "for i in l:\n",
    "    res = re.search(r\"([0-9-]*)\\s*([A-Za-z]+),\\s+(.*)\", i)\n",
    "    print(res.group(3) + \" \" + res.group(2) + \" \" + res.group(1))"
   ]
  },
  {
   "cell_type": "code",
   "execution_count": 19,
   "metadata": {},
   "outputs": [
    {
     "data": {
      "text/plain": [
       "'13'"
      ]
     },
     "execution_count": 19,
     "metadata": {},
     "output_type": "execute_result"
    }
   ],
   "source": [
    "import re\n",
    "s = \"Sun Oct 14 13:47:03 CEST 2012\"\n",
    "expr = r\"\\b(?P<hours>\\d\\d):(?P<minutes>\\d\\d):(?P<seconds>\\d\\d)\\b\"\n",
    "x = re.search(expr,s)\n",
    "x.group('hours')"
   ]
  }
 ],
 "metadata": {
  "kernelspec": {
   "display_name": "Python 3.8.13 64-bit ('3.8.13')",
   "language": "python",
   "name": "python3"
  },
  "language_info": {
   "codemirror_mode": {
    "name": "ipython",
    "version": 3
   },
   "file_extension": ".py",
   "mimetype": "text/x-python",
   "name": "python",
   "nbconvert_exporter": "python",
   "pygments_lexer": "ipython3",
   "version": "3.8.13"
  },
  "orig_nbformat": 4,
  "vscode": {
   "interpreter": {
    "hash": "110cc1dee26208153f2972f08a2ad52b6a56238dc66d48e87fb757ef2996db56"
   }
  }
 },
 "nbformat": 4,
 "nbformat_minor": 2
}
