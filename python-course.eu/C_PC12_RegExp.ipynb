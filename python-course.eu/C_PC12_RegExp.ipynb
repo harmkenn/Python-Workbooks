{
 "cells": [
  {
   "cell_type": "code",
   "execution_count": null,
   "metadata": {},
   "outputs": [],
   "source": [
    "# https://python-course.eu/advanced-python/regular-expressions.php"
   ]
  },
  {
   "cell_type": "code",
   "execution_count": 1,
   "metadata": {},
   "outputs": [
    {
     "data": {
      "text/plain": [
       "True"
      ]
     },
     "execution_count": 1,
     "metadata": {},
     "output_type": "execute_result"
    }
   ],
   "source": [
    "s = \"Regular expressions easily explained!\"\n",
    "\"easily\" in s"
   ]
  },
  {
   "cell_type": "code",
   "execution_count": 1,
   "metadata": {},
   "outputs": [
    {
     "name": "stdout",
     "output_type": "stream",
     "text": [
      "<re.Match object; span=(2, 5), match='cat'>\n"
     ]
    }
   ],
   "source": [
    "import re\n",
    "x = re.search(\"cat\", \"A cat and a rat can't be friends.\")\n",
    "print(x)"
   ]
  },
  {
   "cell_type": "code",
   "execution_count": 2,
   "metadata": {},
   "outputs": [
    {
     "name": "stdout",
     "output_type": "stream",
     "text": [
      "None\n"
     ]
    }
   ],
   "source": [
    "x = re.search(\"cow\", \"A cat and a rat can't be friends.\")\n",
    "print(x)"
   ]
  },
  {
   "cell_type": "code",
   "execution_count": 3,
   "metadata": {},
   "outputs": [
    {
     "name": "stdout",
     "output_type": "stream",
     "text": [
      "Some kind of cat has been found :-)\n"
     ]
    }
   ],
   "source": [
    "if re.search(\"cat\", \"A cat and a rat can't be friends.\"):\n",
    "    print(\"Some kind of cat has been found :-)\")\n",
    "else:\n",
    "    print(\"No cat has been found :-)\")"
   ]
  },
  {
   "cell_type": "code",
   "execution_count": 4,
   "metadata": {},
   "outputs": [
    {
     "name": "stdout",
     "output_type": "stream",
     "text": [
      "No cow around.\n"
     ]
    }
   ],
   "source": [
    "if re.search(\"cow\", \"A cat and a rat can't be friends.\"):\n",
    "     print(\"Cats and Rats and a cow.\")\n",
    "else:\n",
    "     print(\"No cow around.\")"
   ]
  },
  {
   "cell_type": "code",
   "execution_count": 8,
   "metadata": {},
   "outputs": [
    {
     "name": "stdout",
     "output_type": "stream",
     "text": [
      "Jack Neu 555-7666\n",
      "Jeb Neu 555-5543\n",
      "Jennifer Neu 555-3652\n"
     ]
    }
   ],
   "source": [
    "import re\n",
    "fh = open(\"simpsons_phone_book.txt\")\n",
    "for line in fh:\n",
    "    if re.search(r\"J.*Neu\",line):\n",
    "        print(line.rstrip())\n",
    "fh.close()"
   ]
  }
 ],
 "metadata": {
  "kernelspec": {
   "display_name": "Python 3.8.13 64-bit ('3.8.13')",
   "language": "python",
   "name": "python3"
  },
  "language_info": {
   "codemirror_mode": {
    "name": "ipython",
    "version": 3
   },
   "file_extension": ".py",
   "mimetype": "text/x-python",
   "name": "python",
   "nbconvert_exporter": "python",
   "pygments_lexer": "ipython3",
   "version": "3.8.13"
  },
  "orig_nbformat": 4,
  "vscode": {
   "interpreter": {
    "hash": "110cc1dee26208153f2972f08a2ad52b6a56238dc66d48e87fb757ef2996db56"
   }
  }
 },
 "nbformat": 4,
 "nbformat_minor": 2
}
