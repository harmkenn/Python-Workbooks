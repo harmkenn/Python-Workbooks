{
 "cells": [
  {
   "cell_type": "code",
   "execution_count": null,
   "metadata": {},
   "outputs": [],
   "source": [
    "# https://python-course.eu/numerical-programming/python-date-and-time.php"
   ]
  },
  {
   "cell_type": "code",
   "execution_count": 1,
   "metadata": {},
   "outputs": [
    {
     "name": "stdout",
     "output_type": "stream",
     "text": [
      "1993-12-14\n"
     ]
    }
   ],
   "source": [
    "from datetime import date\n",
    "\n",
    "x = date(1993, 12, 14)\n",
    "print(x)"
   ]
  },
  {
   "cell_type": "code",
   "execution_count": 2,
   "metadata": {},
   "outputs": [
    {
     "name": "stdout",
     "output_type": "stream",
     "text": [
      "0001-01-01\n",
      "9999-12-31\n"
     ]
    }
   ],
   "source": [
    "from datetime import date\n",
    "\n",
    "print(date.min)\n",
    "print(date.max)"
   ]
  },
  {
   "cell_type": "code",
   "execution_count": 3,
   "metadata": {},
   "outputs": [
    {
     "data": {
      "text/plain": [
       "727911"
      ]
     },
     "execution_count": 3,
     "metadata": {},
     "output_type": "execute_result"
    }
   ],
   "source": [
    "x.toordinal()"
   ]
  },
  {
   "cell_type": "code",
   "execution_count": 4,
   "metadata": {},
   "outputs": [
    {
     "data": {
      "text/plain": [
       "datetime.date(1993, 12, 14)"
      ]
     },
     "execution_count": 4,
     "metadata": {},
     "output_type": "execute_result"
    }
   ],
   "source": [
    "date.fromordinal(727911)"
   ]
  },
  {
   "cell_type": "code",
   "execution_count": 5,
   "metadata": {},
   "outputs": [
    {
     "data": {
      "text/plain": [
       "1"
      ]
     },
     "execution_count": 5,
     "metadata": {},
     "output_type": "execute_result"
    }
   ],
   "source": [
    "x.weekday()"
   ]
  },
  {
   "cell_type": "code",
   "execution_count": 9,
   "metadata": {},
   "outputs": [
    {
     "data": {
      "text/plain": [
       "datetime.date(2022, 12, 4)"
      ]
     },
     "execution_count": 9,
     "metadata": {},
     "output_type": "execute_result"
    }
   ],
   "source": [
    "x = date.today()\n",
    "x"
   ]
  },
  {
   "cell_type": "code",
   "execution_count": 10,
   "metadata": {},
   "outputs": [
    {
     "name": "stdout",
     "output_type": "stream",
     "text": [
      "4\n",
      "12\n",
      "2022\n"
     ]
    }
   ],
   "source": [
    "print(x.day)\n",
    "print(x.month)\n",
    "print(x.year)"
   ]
  },
  {
   "cell_type": "code",
   "execution_count": 11,
   "metadata": {},
   "outputs": [
    {
     "name": "stdout",
     "output_type": "stream",
     "text": [
      "15:06:23\n"
     ]
    }
   ],
   "source": [
    "from datetime import time\n",
    "\n",
    "t = time(15, 6, 23)\n",
    "print(t)"
   ]
  },
  {
   "cell_type": "code",
   "execution_count": 12,
   "metadata": {},
   "outputs": [
    {
     "name": "stdout",
     "output_type": "stream",
     "text": [
      "00:00:00\n",
      "23:59:59.999999\n"
     ]
    }
   ],
   "source": [
    "print(time.min)\n",
    "print(time.max)"
   ]
  },
  {
   "cell_type": "code",
   "execution_count": 13,
   "metadata": {},
   "outputs": [
    {
     "data": {
      "text/plain": [
       "datetime.time(11, 59, 23)"
      ]
     },
     "execution_count": 13,
     "metadata": {},
     "output_type": "execute_result"
    }
   ],
   "source": [
    "t = t.replace(hour=11, minute=59)\n",
    "t"
   ]
  },
  {
   "cell_type": "code",
   "execution_count": 14,
   "metadata": {},
   "outputs": [
    {
     "data": {
      "text/plain": [
       "'Sun Dec  4 00:00:00 2022'"
      ]
     },
     "execution_count": 14,
     "metadata": {},
     "output_type": "execute_result"
    }
   ],
   "source": [
    "x.ctime()"
   ]
  },
  {
   "cell_type": "code",
   "execution_count": 15,
   "metadata": {},
   "outputs": [
    {
     "data": {
      "text/plain": [
       "datetime.datetime(2017, 4, 19, 16, 31)"
      ]
     },
     "execution_count": 15,
     "metadata": {},
     "output_type": "execute_result"
    }
   ],
   "source": [
    "from datetime import datetime\n",
    "t = datetime(2017, 4, 19, 16, 31, 0)\n",
    "t"
   ]
  },
  {
   "cell_type": "code",
   "execution_count": 16,
   "metadata": {},
   "outputs": [
    {
     "data": {
      "text/plain": [
       "True"
      ]
     },
     "execution_count": 16,
     "metadata": {},
     "output_type": "execute_result"
    }
   ],
   "source": [
    "t.tzinfo == None"
   ]
  },
  {
   "cell_type": "code",
   "execution_count": 17,
   "metadata": {},
   "outputs": [],
   "source": [
    "from datetime import datetime\n",
    "import pytz\n",
    "t = datetime.now(pytz.utc)"
   ]
  },
  {
   "cell_type": "code",
   "execution_count": 18,
   "metadata": {},
   "outputs": [
    {
     "data": {
      "text/plain": [
       "[datetime.datetime(1991, 4, 30, 0, 0),\n",
       " datetime.datetime(1991, 4, 29, 0, 0),\n",
       " datetime.datetime(1991, 4, 28, 0, 0),\n",
       " datetime.datetime(1991, 4, 27, 0, 0),\n",
       " datetime.datetime(1991, 4, 26, 0, 0),\n",
       " datetime.datetime(1991, 4, 25, 0, 0),\n",
       " datetime.datetime(1991, 4, 24, 0, 0),\n",
       " datetime.datetime(1991, 4, 23, 0, 0),\n",
       " datetime.datetime(1991, 4, 22, 0, 0),\n",
       " datetime.datetime(1991, 4, 21, 0, 0),\n",
       " datetime.datetime(1991, 4, 20, 0, 0),\n",
       " datetime.datetime(1991, 4, 19, 0, 0),\n",
       " datetime.datetime(1991, 4, 18, 0, 0),\n",
       " datetime.datetime(1991, 4, 17, 0, 0),\n",
       " datetime.datetime(1991, 4, 16, 0, 0)]"
      ]
     },
     "execution_count": 18,
     "metadata": {},
     "output_type": "execute_result"
    }
   ],
   "source": [
    "from datetime import datetime, timedelta as delta\n",
    "ndays = 15\n",
    "start = datetime(1991, 4, 30)\n",
    "dates = [start - delta(days=x) for x in range(0, ndays)]\n",
    "dates"
   ]
  },
  {
   "cell_type": "code",
   "execution_count": 19,
   "metadata": {},
   "outputs": [
    {
     "data": {
      "text/plain": [
       "(datetime.timedelta(days=959), datetime.timedelta)"
      ]
     },
     "execution_count": 19,
     "metadata": {},
     "output_type": "execute_result"
    }
   ],
   "source": [
    "from datetime import datetime\n",
    "\n",
    "delta = datetime(1993, 12, 14) - datetime(1991, 4, 30)\n",
    "delta, type(delta)"
   ]
  },
  {
   "cell_type": "code",
   "execution_count": 20,
   "metadata": {},
   "outputs": [
    {
     "data": {
      "text/plain": [
       "959"
      ]
     },
     "execution_count": 20,
     "metadata": {},
     "output_type": "execute_result"
    }
   ],
   "source": [
    "delta.days"
   ]
  },
  {
   "cell_type": "code",
   "execution_count": 21,
   "metadata": {},
   "outputs": [
    {
     "data": {
      "text/plain": [
       "(412, 76680)"
      ]
     },
     "execution_count": 21,
     "metadata": {},
     "output_type": "execute_result"
    }
   ],
   "source": [
    "t1 = datetime(2017, 1, 31, 14, 17)\n",
    "t2 = datetime(2015, 12, 15, 16, 59)\n",
    "delta = t1 - t2\n",
    "delta.days, delta.seconds"
   ]
  },
  {
   "cell_type": "code",
   "execution_count": 22,
   "metadata": {},
   "outputs": [
    {
     "name": "stdout",
     "output_type": "stream",
     "text": [
      "1991-05-10 00:00:00\n",
      "10 days, 0:00:00\n",
      "1991-01-20 00:00:00\n",
      "1991-01-20 00:00:00\n"
     ]
    }
   ],
   "source": [
    "from datetime import datetime, timedelta\n",
    "d1 = datetime(1991, 4, 30)\n",
    "d2 = d1 + timedelta(10)\n",
    "print(d2)\n",
    "print(d2 - d1)\n",
    "\n",
    "d3 = d1 - timedelta(100)\n",
    "print(d3)\n",
    "d4 = d1 - 2 * timedelta(50)\n",
    "print(d4)"
   ]
  },
  {
   "cell_type": "code",
   "execution_count": 23,
   "metadata": {},
   "outputs": [
    {
     "name": "stdout",
     "output_type": "stream",
     "text": [
      "1991-04-30\n",
      "weekday: Tue\n",
      "weekday as a full name: Tuesday\n",
      "weekday as a decimal number: 2\n"
     ]
    }
   ],
   "source": [
    "print(d1.strftime('%Y-%m-%d'))\n",
    "print(\"weekday: \" + d1.strftime('%a'))\n",
    "print(\"weekday as a full name: \" + d1.strftime('%A'))\n",
    "\n",
    "# Weekday as a decimal number, where 0 is Sunday \n",
    "# and 6 is Saturday\n",
    "print(\"weekday as a decimal number: \" + d1.strftime('%w'))"
   ]
  },
  {
   "cell_type": "code",
   "execution_count": 24,
   "metadata": {},
   "outputs": [
    {
     "name": "stdout",
     "output_type": "stream",
     "text": [
      "30\n",
      "Apr\n",
      "April\n",
      "04\n"
     ]
    }
   ],
   "source": [
    "# Day of the month as a zero-padded decimal number. \n",
    "# 01, 02, ..., 31\n",
    "print(d1.strftime('%d'))\n",
    "\n",
    "# Month as locale’s abbreviated name. \n",
    "# Jan, Feb, ..., Dec (en_US); \n",
    "# Jan, Feb, ..., Dez (de_DE)\n",
    "print(d1.strftime('%b'))\n",
    "\n",
    "# Month as locale’s full name. \t\n",
    "# January, February, ..., December (en_US);\n",
    "# Januar, Februar, ..., Dezember (de_DE)\n",
    "print(d1.strftime('%B'))\n",
    "\n",
    "# Month as a zero-padded decimal number. \n",
    "# 01, 02, ..., 12\n",
    "print(d1.strftime('%m'))"
   ]
  },
  {
   "cell_type": "code",
   "execution_count": 25,
   "metadata": {},
   "outputs": [
    {
     "name": "stdout",
     "output_type": "stream",
     "text": [
      "2000-11-30 00:00:00\n"
     ]
    }
   ],
   "source": [
    "from datetime import datetime\n",
    "t = datetime.strptime(\"30 Nov 00\", \"%d %b %y\")\n",
    "print(t)"
   ]
  },
  {
   "cell_type": "code",
   "execution_count": 26,
   "metadata": {},
   "outputs": [
    {
     "data": {
      "text/plain": [
       "datetime.datetime(2007, 3, 4, 21, 8, 12)"
      ]
     },
     "execution_count": 26,
     "metadata": {},
     "output_type": "execute_result"
    }
   ],
   "source": [
    "dt = \"2007-03-04T21:08:12\"\n",
    "datetime.strptime( dt, \"%Y-%m-%dT%H:%M:%S\" )"
   ]
  },
  {
   "cell_type": "code",
   "execution_count": 27,
   "metadata": {},
   "outputs": [
    {
     "data": {
      "text/plain": [
       "datetime.datetime(1957, 12, 24, 4, 3, 29)"
      ]
     },
     "execution_count": 27,
     "metadata": {},
     "output_type": "execute_result"
    }
   ],
   "source": [
    "dt = '12/24/1957 4:03:29 AM'\n",
    "dt = datetime.strptime(dt, '%m/%d/%Y %I:%M:%S %p')\n",
    "dt"
   ]
  }
 ],
 "metadata": {
  "kernelspec": {
   "display_name": "Python 3.10.7 64-bit",
   "language": "python",
   "name": "python3"
  },
  "language_info": {
   "codemirror_mode": {
    "name": "ipython",
    "version": 3
   },
   "file_extension": ".py",
   "mimetype": "text/x-python",
   "name": "python",
   "nbconvert_exporter": "python",
   "pygments_lexer": "ipython3",
   "version": "3.10.7"
  },
  "orig_nbformat": 4,
  "vscode": {
   "interpreter": {
    "hash": "f627b94a91bc915482d65575b2ea77ee7c3710ea9aacf075a668e3021bd93680"
   }
  }
 },
 "nbformat": 4,
 "nbformat_minor": 2
}
