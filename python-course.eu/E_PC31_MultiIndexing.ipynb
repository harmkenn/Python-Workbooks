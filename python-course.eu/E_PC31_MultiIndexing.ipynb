{
 "cells": [
  {
   "cell_type": "code",
   "execution_count": 1,
   "metadata": {},
   "outputs": [],
   "source": [
    "# https://python-course.eu/numerical-programming/multi-level-indexing-in-pandas.php"
   ]
  },
  {
   "cell_type": "code",
   "execution_count": 2,
   "metadata": {},
   "outputs": [
    {
     "name": "stdout",
     "output_type": "stream",
     "text": [
      "[['Vienna', 'Vienna', 'Vienna', 'Hamburg', 'Hamburg', 'Hamburg', 'Berlin', 'Berlin', 'Berlin', 'Zürich', 'Zürich', 'Zürich'], ['country', 'area', 'population', 'country', 'area', 'population', 'country', 'area', 'population', 'country', 'area', 'population']]\n"
     ]
    }
   ],
   "source": [
    "import pandas as pd\n",
    "\n",
    "cities = [\"Vienna\", \"Vienna\", \"Vienna\",\n",
    "          \"Hamburg\", \"Hamburg\", \"Hamburg\",\n",
    "          \"Berlin\", \"Berlin\", \"Berlin\",\n",
    "          \"Zürich\", \"Zürich\", \"Zürich\"]\n",
    "index = [cities, [\"country\", \"area\", \"population\",\n",
    "                  \"country\", \"area\", \"population\",\n",
    "                  \"country\", \"area\", \"population\",\n",
    "                  \"country\", \"area\", \"population\"]]\n",
    "print(index)"
   ]
  },
  {
   "cell_type": "code",
   "execution_count": 3,
   "metadata": {},
   "outputs": [
    {
     "name": "stdout",
     "output_type": "stream",
     "text": [
      "Vienna   country           Austria\n",
      "         area                414.6\n",
      "         population        1805681\n",
      "Hamburg  country           Germany\n",
      "         area                755.0\n",
      "         population        1760433\n",
      "Berlin   country           Germany\n",
      "         area               891.85\n",
      "         population        3562166\n",
      "Zürich   country       Switzerland\n",
      "         area                87.88\n",
      "         population         378884\n",
      "dtype: object\n"
     ]
    }
   ],
   "source": [
    "data = [\"Austria\", 414.60,    1805681,\n",
    "        \"Germany\", 755.00,    1760433,\n",
    "        \"Germany\", 891.85,    3562166,\n",
    "        \"Switzerland\", 87.88, 378884]\n",
    "\n",
    "city_series = pd.Series(data, index=index)\n",
    "print(city_series)"
   ]
  }
 ],
 "metadata": {
  "kernelspec": {
   "display_name": "Python 3",
   "language": "python",
   "name": "python3"
  },
  "language_info": {
   "codemirror_mode": {
    "name": "ipython",
    "version": 3
   },
   "file_extension": ".py",
   "mimetype": "text/x-python",
   "name": "python",
   "nbconvert_exporter": "python",
   "pygments_lexer": "ipython3",
   "version": "3.8.13"
  },
  "orig_nbformat": 4,
  "vscode": {
   "interpreter": {
    "hash": "9ac03a0a6051494cc606d484d27d20fce22fb7b4d169f583271e11d5ba46a56e"
   }
  }
 },
 "nbformat": 4,
 "nbformat_minor": 2
}
