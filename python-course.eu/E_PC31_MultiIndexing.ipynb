{
 "cells": [
  {
   "cell_type": "code",
   "execution_count": 1,
   "metadata": {},
   "outputs": [],
   "source": [
    "# https://python-course.eu/numerical-programming/multi-level-indexing-in-pandas.php"
   ]
  },
  {
   "cell_type": "code",
   "execution_count": 2,
   "metadata": {},
   "outputs": [
    {
     "name": "stdout",
     "output_type": "stream",
     "text": [
      "[['Vienna', 'Vienna', 'Vienna', 'Hamburg', 'Hamburg', 'Hamburg', 'Berlin', 'Berlin', 'Berlin', 'Zürich', 'Zürich', 'Zürich'], ['country', 'area', 'population', 'country', 'area', 'population', 'country', 'area', 'population', 'country', 'area', 'population']]\n"
     ]
    }
   ],
   "source": [
    "import pandas as pd\n",
    "\n",
    "cities = [\"Vienna\", \"Vienna\", \"Vienna\",\n",
    "          \"Hamburg\", \"Hamburg\", \"Hamburg\",\n",
    "          \"Berlin\", \"Berlin\", \"Berlin\",\n",
    "          \"Zürich\", \"Zürich\", \"Zürich\"]\n",
    "index = [cities, [\"country\", \"area\", \"population\",\n",
    "                  \"country\", \"area\", \"population\",\n",
    "                  \"country\", \"area\", \"population\",\n",
    "                  \"country\", \"area\", \"population\"]]\n",
    "print(index)"
   ]
  },
  {
   "cell_type": "code",
   "execution_count": 3,
   "metadata": {},
   "outputs": [
    {
     "name": "stdout",
     "output_type": "stream",
     "text": [
      "Vienna   country           Austria\n",
      "         area                414.6\n",
      "         population        1805681\n",
      "Hamburg  country           Germany\n",
      "         area                755.0\n",
      "         population        1760433\n",
      "Berlin   country           Germany\n",
      "         area               891.85\n",
      "         population        3562166\n",
      "Zürich   country       Switzerland\n",
      "         area                87.88\n",
      "         population         378884\n",
      "dtype: object\n"
     ]
    }
   ],
   "source": [
    "data = [\"Austria\", 414.60,    1805681,\n",
    "        \"Germany\", 755.00,    1760433,\n",
    "        \"Germany\", 891.85,    3562166,\n",
    "        \"Switzerland\", 87.88, 378884]\n",
    "\n",
    "city_series = pd.Series(data, index=index)\n",
    "print(city_series)"
   ]
  },
  {
   "cell_type": "code",
   "execution_count": 4,
   "metadata": {},
   "outputs": [
    {
     "data": {
      "text/plain": [
       "country       Austria\n",
       "area            414.6\n",
       "population    1805681\n",
       "dtype: object"
      ]
     },
     "execution_count": 4,
     "metadata": {},
     "output_type": "execute_result"
    }
   ],
   "source": [
    "city_series[\"Vienna\"]"
   ]
  },
  {
   "cell_type": "code",
   "execution_count": 5,
   "metadata": {},
   "outputs": [
    {
     "data": {
      "text/plain": [
       "414.6"
      ]
     },
     "execution_count": 5,
     "metadata": {},
     "output_type": "execute_result"
    }
   ],
   "source": [
    "city_series[\"Vienna\"][\"area\"]"
   ]
  },
  {
   "cell_type": "code",
   "execution_count": 6,
   "metadata": {},
   "outputs": [
    {
     "data": {
      "text/plain": [
       "414.6"
      ]
     },
     "execution_count": 6,
     "metadata": {},
     "output_type": "execute_result"
    }
   ],
   "source": [
    "city_series[\"Vienna\", \"area\"]"
   ]
  },
  {
   "cell_type": "code",
   "execution_count": 7,
   "metadata": {},
   "outputs": [
    {
     "data": {
      "text/plain": [
       "country       Germany\n",
       "area            755.0\n",
       "population    1760433\n",
       "dtype: object"
      ]
     },
     "execution_count": 7,
     "metadata": {},
     "output_type": "execute_result"
    }
   ],
   "source": [
    "city_series[\"Hamburg\",:]"
   ]
  },
  {
   "cell_type": "code",
   "execution_count": 8,
   "metadata": {},
   "outputs": [
    {
     "name": "stdout",
     "output_type": "stream",
     "text": [
      "city_series with sorted index:\n",
      "Berlin   area               891.85\n",
      "         country           Germany\n",
      "         population        3562166\n",
      "Hamburg  area                755.0\n",
      "         country           Germany\n",
      "         population        1760433\n",
      "Vienna   area                414.6\n",
      "         country           Austria\n",
      "         population        1805681\n",
      "Zürich   area                87.88\n",
      "         country       Switzerland\n",
      "         population         378884\n",
      "dtype: object\n",
      "\n",
      "\n",
      "Slicing the city_series:\n"
     ]
    },
    {
     "data": {
      "text/plain": [
       "Berlin   area           891.85\n",
       "         country       Germany\n",
       "         population    3562166\n",
       "Hamburg  area            755.0\n",
       "         country       Germany\n",
       "         population    1760433\n",
       "Vienna   area            414.6\n",
       "         country       Austria\n",
       "         population    1805681\n",
       "dtype: object"
      ]
     },
     "execution_count": 8,
     "metadata": {},
     "output_type": "execute_result"
    }
   ],
   "source": [
    "city_series = city_series.sort_index()\n",
    "print(\"city_series with sorted index:\")\n",
    "print(city_series)\n",
    "\n",
    "print(\"\\n\\nSlicing the city_series:\")\n",
    "city_series[\"Berlin\":\"Vienna\"]"
   ]
  },
  {
   "cell_type": "code",
   "execution_count": 9,
   "metadata": {},
   "outputs": [
    {
     "data": {
      "text/plain": [
       "Berlin     891.85\n",
       "Hamburg     755.0\n",
       "Vienna      414.6\n",
       "Zürich      87.88\n",
       "dtype: object"
      ]
     },
     "execution_count": 9,
     "metadata": {},
     "output_type": "execute_result"
    }
   ],
   "source": [
    "city_series[:, \"area\"]"
   ]
  },
  {
   "cell_type": "code",
   "execution_count": 10,
   "metadata": {},
   "outputs": [
    {
     "data": {
      "text/plain": [
       "area        Berlin          891.85\n",
       "            Hamburg          755.0\n",
       "            Vienna           414.6\n",
       "            Zürich           87.88\n",
       "country     Berlin         Germany\n",
       "            Hamburg        Germany\n",
       "            Vienna         Austria\n",
       "            Zürich     Switzerland\n",
       "population  Berlin         3562166\n",
       "            Hamburg        1760433\n",
       "            Vienna         1805681\n",
       "            Zürich          378884\n",
       "dtype: object"
      ]
     },
     "execution_count": 10,
     "metadata": {},
     "output_type": "execute_result"
    }
   ],
   "source": [
    "city_series = city_series.swaplevel()\n",
    "city_series.sort_index(inplace=True)\n",
    "city_series"
   ]
  }
 ],
 "metadata": {
  "kernelspec": {
   "display_name": "Python 3.10.7 64-bit",
   "language": "python",
   "name": "python3"
  },
  "language_info": {
   "codemirror_mode": {
    "name": "ipython",
    "version": 3
   },
   "file_extension": ".py",
   "mimetype": "text/x-python",
   "name": "python",
   "nbconvert_exporter": "python",
   "pygments_lexer": "ipython3",
   "version": "3.10.7"
  },
  "orig_nbformat": 4,
  "vscode": {
   "interpreter": {
    "hash": "f627b94a91bc915482d65575b2ea77ee7c3710ea9aacf075a668e3021bd93680"
   }
  }
 },
 "nbformat": 4,
 "nbformat_minor": 2
}
