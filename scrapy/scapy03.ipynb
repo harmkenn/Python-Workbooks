{
 "cells": [
  {
   "cell_type": "code",
   "execution_count": 2,
   "metadata": {},
   "outputs": [
    {
     "name": "stderr",
     "output_type": "stream",
     "text": [
      "2024-03-30 11:59:54 [scrapy.utils.log] INFO: Scrapy 2.11.1 started (bot: scrapybot)\n",
      "2024-03-30 11:59:54 [scrapy.utils.log] INFO: Versions: lxml 5.1.1.0, libxml2 2.12.6, cssselect 1.2.0, parsel 1.9.0, w3lib 2.1.2, Twisted 24.3.0, Python 3.12.2 (main, Mar 24 2024, 11:54:47) [GCC 11.4.0], pyOpenSSL 24.1.0 (OpenSSL 3.2.1 30 Jan 2024), cryptography 42.0.5, Platform Linux-6.1.75-060175-generic-x86_64-with-glibc2.35\n",
      "2024-03-30 11:59:54 [scrapy.addons] INFO: Enabled addons:\n",
      "[]\n",
      "2024-03-30 11:59:54 [py.warnings] WARNING: /workspace/.pyenv_mirror/user/current/lib/python3.12/site-packages/scrapy/utils/request.py:254: ScrapyDeprecationWarning: '2.6' is a deprecated value for the 'REQUEST_FINGERPRINTER_IMPLEMENTATION' setting.\n",
      "\n",
      "It is also the default value. In other words, it is normal to get this warning if you have not defined a value for the 'REQUEST_FINGERPRINTER_IMPLEMENTATION' setting. This is so for backward compatibility reasons, but it will change in a future version of Scrapy.\n",
      "\n",
      "See the documentation of the 'REQUEST_FINGERPRINTER_IMPLEMENTATION' setting for information on how to handle this deprecation.\n",
      "  return cls(crawler)\n",
      "\n",
      "2024-03-30 11:59:54 [scrapy.utils.log] DEBUG: Using reactor: twisted.internet.epollreactor.EPollReactor\n",
      "2024-03-30 11:59:54 [scrapy.extensions.telnet] INFO: Telnet Password: da597fc762e61d8b\n",
      "2024-03-30 11:59:54 [py.warnings] WARNING: /workspace/.pyenv_mirror/user/current/lib/python3.12/site-packages/scrapy/extensions/feedexport.py:406: ScrapyDeprecationWarning: The `FEED_URI` and `FEED_FORMAT` settings have been deprecated in favor of the `FEEDS` setting. Please see the `FEEDS` setting docs for more details\n",
      "  exporter = cls(crawler)\n",
      "\n",
      "2024-03-30 11:59:54 [scrapy.middleware] INFO: Enabled extensions:\n",
      "['scrapy.extensions.corestats.CoreStats',\n",
      " 'scrapy.extensions.telnet.TelnetConsole',\n",
      " 'scrapy.extensions.memusage.MemoryUsage',\n",
      " 'scrapy.extensions.feedexport.FeedExporter',\n",
      " 'scrapy.extensions.logstats.LogStats']\n",
      "2024-03-30 11:59:54 [scrapy.crawler] INFO: Overridden settings:\n",
      "{}\n",
      "2024-03-30 11:59:54 [scrapy.middleware] INFO: Enabled downloader middlewares:\n",
      "['scrapy.downloadermiddlewares.httpauth.HttpAuthMiddleware',\n",
      " 'scrapy.downloadermiddlewares.downloadtimeout.DownloadTimeoutMiddleware',\n",
      " 'scrapy.downloadermiddlewares.defaultheaders.DefaultHeadersMiddleware',\n",
      " 'scrapy.downloadermiddlewares.useragent.UserAgentMiddleware',\n",
      " 'scrapy.downloadermiddlewares.retry.RetryMiddleware',\n",
      " 'scrapy.downloadermiddlewares.redirect.MetaRefreshMiddleware',\n",
      " 'scrapy.downloadermiddlewares.httpcompression.HttpCompressionMiddleware',\n",
      " 'scrapy.downloadermiddlewares.redirect.RedirectMiddleware',\n",
      " 'scrapy.downloadermiddlewares.cookies.CookiesMiddleware',\n",
      " 'scrapy.downloadermiddlewares.httpproxy.HttpProxyMiddleware',\n",
      " 'scrapy.downloadermiddlewares.stats.DownloaderStats']\n",
      "2024-03-30 11:59:54 [scrapy.middleware] INFO: Enabled spider middlewares:\n",
      "['scrapy.spidermiddlewares.httperror.HttpErrorMiddleware',\n",
      " 'scrapy.spidermiddlewares.offsite.OffsiteMiddleware',\n",
      " 'scrapy.spidermiddlewares.referer.RefererMiddleware',\n",
      " 'scrapy.spidermiddlewares.urllength.UrlLengthMiddleware',\n",
      " 'scrapy.spidermiddlewares.depth.DepthMiddleware']\n",
      "2024-03-30 11:59:54 [scrapy.middleware] INFO: Enabled item pipelines:\n",
      "[]\n",
      "2024-03-30 11:59:54 [scrapy.core.engine] INFO: Spider opened\n",
      "2024-03-30 11:59:54 [scrapy.extensions.logstats] INFO: Crawled 0 pages (at 0 pages/min), scraped 0 items (at 0 items/min)\n",
      "2024-03-30 11:59:54 [scrapy.extensions.telnet] INFO: Telnet console listening on 127.0.0.1:6038\n"
     ]
    },
    {
     "ename": "ReactorNotRestartable",
     "evalue": "",
     "output_type": "error",
     "traceback": [
      "\u001b[0;31m---------------------------------------------------------------------------\u001b[0m",
      "\u001b[0;31mReactorNotRestartable\u001b[0m                     Traceback (most recent call last)",
      "\u001b[1;32m/workspace/Python-Workbooks/scrapy/scapy03.ipynb Cell 1\u001b[0m line \u001b[0;36m3\n\u001b[1;32m     <a href='vscode-notebook-cell://harmkenn-pythonworkbook-9ars0whgk0k.ws-eu110.gitpod.io/workspace/Python-Workbooks/scrapy/scapy03.ipynb#W0sdnNjb2RlLXJlbW90ZQ%3D%3D?line=32'>33</a>\u001b[0m \u001b[39m# Start the crawling process with our spider\u001b[39;00m\n\u001b[1;32m     <a href='vscode-notebook-cell://harmkenn-pythonworkbook-9ars0whgk0k.ws-eu110.gitpod.io/workspace/Python-Workbooks/scrapy/scapy03.ipynb#W0sdnNjb2RlLXJlbW90ZQ%3D%3D?line=33'>34</a>\u001b[0m process\u001b[39m.\u001b[39mcrawl(MySpider)\n\u001b[0;32m---> <a href='vscode-notebook-cell://harmkenn-pythonworkbook-9ars0whgk0k.ws-eu110.gitpod.io/workspace/Python-Workbooks/scrapy/scapy03.ipynb#W0sdnNjb2RlLXJlbW90ZQ%3D%3D?line=34'>35</a>\u001b[0m process\u001b[39m.\u001b[39;49mstart()\n",
      "File \u001b[0;32m/workspace/.pyenv_mirror/user/current/lib/python3.12/site-packages/scrapy/crawler.py:429\u001b[0m, in \u001b[0;36mCrawlerProcess.start\u001b[0;34m(self, stop_after_crawl, install_signal_handlers)\u001b[0m\n\u001b[1;32m    425\u001b[0m \u001b[39mif\u001b[39;00m install_signal_handlers:\n\u001b[1;32m    426\u001b[0m     reactor\u001b[39m.\u001b[39maddSystemEventTrigger(\n\u001b[1;32m    427\u001b[0m         \u001b[39m\"\u001b[39m\u001b[39mafter\u001b[39m\u001b[39m\"\u001b[39m, \u001b[39m\"\u001b[39m\u001b[39mstartup\u001b[39m\u001b[39m\"\u001b[39m, install_shutdown_handlers, \u001b[39mself\u001b[39m\u001b[39m.\u001b[39m_signal_shutdown\n\u001b[1;32m    428\u001b[0m     )\n\u001b[0;32m--> 429\u001b[0m reactor\u001b[39m.\u001b[39;49mrun(installSignalHandlers\u001b[39m=\u001b[39;49minstall_signal_handlers)\n",
      "File \u001b[0;32m/workspace/.pyenv_mirror/user/current/lib/python3.12/site-packages/twisted/internet/base.py:693\u001b[0m, in \u001b[0;36mReactorBase.run\u001b[0;34m(self, installSignalHandlers)\u001b[0m\n\u001b[1;32m    692\u001b[0m \u001b[39mdef\u001b[39;00m \u001b[39mrun\u001b[39m(\u001b[39mself\u001b[39m, installSignalHandlers: \u001b[39mbool\u001b[39m \u001b[39m=\u001b[39m \u001b[39mTrue\u001b[39;00m) \u001b[39m-\u001b[39m\u001b[39m>\u001b[39m \u001b[39mNone\u001b[39;00m:\n\u001b[0;32m--> 693\u001b[0m     \u001b[39mself\u001b[39;49m\u001b[39m.\u001b[39;49mstartRunning(installSignalHandlers\u001b[39m=\u001b[39;49minstallSignalHandlers)\n\u001b[1;32m    694\u001b[0m     \u001b[39mtry\u001b[39;00m:\n\u001b[1;32m    695\u001b[0m         \u001b[39mself\u001b[39m\u001b[39m.\u001b[39mmainLoop()\n",
      "File \u001b[0;32m/workspace/.pyenv_mirror/user/current/lib/python3.12/site-packages/twisted/internet/base.py:930\u001b[0m, in \u001b[0;36mReactorBase.startRunning\u001b[0;34m(self, installSignalHandlers)\u001b[0m\n\u001b[1;32m    928\u001b[0m     \u001b[39mraise\u001b[39;00m error\u001b[39m.\u001b[39mReactorAlreadyRunning()\n\u001b[1;32m    929\u001b[0m \u001b[39mif\u001b[39;00m \u001b[39mself\u001b[39m\u001b[39m.\u001b[39m_startedBefore:\n\u001b[0;32m--> 930\u001b[0m     \u001b[39mraise\u001b[39;00m error\u001b[39m.\u001b[39mReactorNotRestartable()\n\u001b[1;32m    932\u001b[0m \u001b[39mself\u001b[39m\u001b[39m.\u001b[39m_signals\u001b[39m.\u001b[39muninstall()\n\u001b[1;32m    933\u001b[0m \u001b[39mself\u001b[39m\u001b[39m.\u001b[39m_installSignalHandlers \u001b[39m=\u001b[39m installSignalHandlers\n",
      "\u001b[0;31mReactorNotRestartable\u001b[0m: "
     ]
    }
   ],
   "source": [
    "import pandas as pd\n",
    "import scrapy\n",
    "from scrapy.crawler import CrawlerProcess\n",
    "\n",
    "class MySpider(scrapy.Spider):\n",
    "    name = 'myspider'\n",
    "    \n",
    "    # Define the URL to scrape\n",
    "    start_urls = ['https://money.usnews.com/careers/best-jobs/search']\n",
    "\n",
    "    def parse(self, response):\n",
    "        # Extract data from the first 15 job listings\n",
    "        job_listings = response.css('a.job-title-link::text')[:15].extract()\n",
    "        median_salaries = response.css('div.salary-container::text')[:15].extract()\n",
    "        job_scores = response.css('div.job-score::text')[:15].extract()\n",
    "\n",
    "        # Create a DataFrame to store the data\n",
    "        df = pd.DataFrame({\n",
    "            'Job Title': job_listings,\n",
    "            'Median Salary': median_salaries,\n",
    "            'Job Score': job_scores\n",
    "        })\n",
    "\n",
    "        # Save the DataFrame to a CSV file\n",
    "        df.to_csv('job_data.csv', index=False)\n",
    "\n",
    "# Create a Scrapy CrawlerProcess\n",
    "process = CrawlerProcess(settings={\n",
    "    'FEED_FORMAT': 'csv',\n",
    "    'FEED_URI': 'job_data.csv'\n",
    "})\n",
    "\n",
    "# Start the crawling process with our spider\n",
    "process.crawl(MySpider)\n",
    "process.start()\n"
   ]
  }
 ],
 "metadata": {
  "kernelspec": {
   "display_name": "Python 3",
   "language": "python",
   "name": "python3"
  },
  "language_info": {
   "codemirror_mode": {
    "name": "ipython",
    "version": 3
   },
   "file_extension": ".py",
   "mimetype": "text/x-python",
   "name": "python",
   "nbconvert_exporter": "python",
   "pygments_lexer": "ipython3",
   "version": "3.12.2"
  }
 },
 "nbformat": 4,
 "nbformat_minor": 2
}
