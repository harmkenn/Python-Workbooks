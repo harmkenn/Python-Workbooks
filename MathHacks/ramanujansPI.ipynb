{
 "cells": [
  {
   "cell_type": "code",
   "execution_count": null,
   "metadata": {},
   "outputs": [],
   "source": [
    "from decimal import Decimal, getcontext\n",
    "from numpy import sqrt\n",
    "from scipy.special import factorial\n",
    "\n",
    "# Set the precision to 100 digits.\n",
    "getcontext().prec = 100\n",
    "\n",
    "# Initialize the sum.\n",
    "sum = Decimal(0)\n",
    "\n",
    "# Iterate over the Ramanujan series.\n",
    "for k in range(0, 3):\n",
    "    numerator = 2*sqrt(2)/9801*factorial(4*k)\n",
    "    denominator = Decimal(k**4 + 4 * k**3 + 5 * k**2 + 2 * k)\n",
    "    sum += numerator / denominator\n",
    "\n",
    "# Multiply the sum by 12 to get pi.\n",
    "pi = sum * 12\n",
    "\n",
    "# Print the first 100 digits of pi.\n",
    "print(pi)"
   ]
  }
 ],
 "metadata": {
  "language_info": {
   "name": "python"
  }
 },
 "nbformat": 4,
 "nbformat_minor": 2
}
