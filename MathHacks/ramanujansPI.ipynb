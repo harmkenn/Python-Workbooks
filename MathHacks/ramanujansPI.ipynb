{
 "cells": [
  {
   "cell_type": "code",
   "execution_count": 2,
   "metadata": {},
   "outputs": [
    {
     "name": "stdout",
     "output_type": "stream",
     "text": [
      "120.0\n",
      "3.141592653589793604830440321767694055646592859643395396306748075328659755165682498961808668618813883\n",
      "3.141592653589793238462643383279502884197169399375105820974944592307816406286208998628034825342\n"
     ]
    }
   ],
   "source": [
    "from decimal import Decimal, getcontext\n",
    "from numpy import sqrt\n",
    "from scipy.special import factorial\n",
    "\n",
    "# Set the precision to 100 digits.\n",
    "getcontext().prec = 100\n",
    "\n",
    "# Initialize the sum.\n",
    "pi = Decimal(0)\n",
    "\n",
    "print(factorial(5))\n",
    "\n",
    "# Iterate over the Ramanujan series.\n",
    "for k in range(0, 2):\n",
    "    numerator = Decimal(2*sqrt(2)/9801*factorial(4*k)*(1103+26390*k))\n",
    "    denominator = Decimal(4**(4*k)*factorial(k)*99**(4*k))\n",
    "    pi += numerator / denominator\n",
    "\n",
    "# Print the first 100 digits of pi.\n",
    "pi = 1/pi\n",
    "print(pi)\n",
    "print('3.141592653589793238462643383279502884197169399375105820974944592307816406286208998628034825342')"
   ]
  }
 ],
 "metadata": {
  "kernelspec": {
   "display_name": "Python 3",
   "language": "python",
   "name": "python3"
  },
  "language_info": {
   "codemirror_mode": {
    "name": "ipython",
    "version": 3
   },
   "file_extension": ".py",
   "mimetype": "text/x-python",
   "name": "python",
   "nbconvert_exporter": "python",
   "pygments_lexer": "ipython3",
   "version": "3.12.3"
  }
 },
 "nbformat": 4,
 "nbformat_minor": 2
}
