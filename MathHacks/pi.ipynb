{
 "cells": [
  {
   "cell_type": "code",
   "execution_count": 6,
   "metadata": {},
   "outputs": [],
   "source": [
    "def sieve_of_eratosthenes(limit):\n",
    "    if limit < 2:\n",
    "        return []\n",
    "\n",
    "    # Initialize the primality list\n",
    "    is_prime = [True] * (limit + 1)\n",
    "    is_prime[0] = is_prime[1] = False\n",
    "\n",
    "    # Implement the Sieve of Eratosthenes\n",
    "    for base in range(2, int(limit**0.5) + 1):\n",
    "        if is_prime[base]:\n",
    "            for multiple in range(base*base, limit + 1, base):\n",
    "                is_prime[multiple] = False\n",
    "\n",
    "    # Extract the list of primes\n",
    "    primes = [number for number, prime in enumerate(is_prime) if prime]\n",
    "    return primes\n",
    "\n",
    "primes_up_to_1000 = sieve_of_eratosthenes(100000000)"
   ]
  },
  {
   "cell_type": "code",
   "execution_count": 19,
   "metadata": {},
   "outputs": [
    {
     "ename": "MemoryError",
     "evalue": "Unable to allocate 3.39 GiB for an array with shape (455052510,) and data type int64",
     "output_type": "error",
     "traceback": [
      "\u001b[1;31m---------------------------------------------------------------------------\u001b[0m",
      "\u001b[1;31mMemoryError\u001b[0m                               Traceback (most recent call last)",
      "Cell \u001b[1;32mIn[19], line 11\u001b[0m\n\u001b[0;32m      8\u001b[0m     \u001b[38;5;28;01mreturn\u001b[39;00m np\u001b[38;5;241m.\u001b[39mr_[\u001b[38;5;241m2\u001b[39m\u001b[38;5;241m*\u001b[39mnp\u001b[38;5;241m.\u001b[39mnonzero(sieve)[\u001b[38;5;241m0\u001b[39m][\u001b[38;5;241m1\u001b[39m::]\u001b[38;5;241m+\u001b[39m\u001b[38;5;241m1\u001b[39m]\n\u001b[0;32m     10\u001b[0m \u001b[38;5;66;03m# Example usage:\u001b[39;00m\n\u001b[1;32m---> 11\u001b[0m primes \u001b[38;5;241m=\u001b[39m \u001b[43mprimes_up_to\u001b[49m\u001b[43m(\u001b[49m\u001b[38;5;241;43m10000000000\u001b[39;49m\u001b[43m)\u001b[49m\n",
      "Cell \u001b[1;32mIn[19], line 8\u001b[0m, in \u001b[0;36mprimes_up_to\u001b[1;34m(n)\u001b[0m\n\u001b[0;32m      6\u001b[0m     \u001b[38;5;28;01mif\u001b[39;00m sieve[i\u001b[38;5;241m/\u001b[39m\u001b[38;5;241m/\u001b[39m\u001b[38;5;241m2\u001b[39m]:\n\u001b[0;32m      7\u001b[0m         sieve[i\u001b[38;5;241m*\u001b[39mi\u001b[38;5;241m/\u001b[39m\u001b[38;5;241m/\u001b[39m\u001b[38;5;241m2\u001b[39m::i] \u001b[38;5;241m=\u001b[39m \u001b[38;5;28;01mFalse\u001b[39;00m\n\u001b[1;32m----> 8\u001b[0m \u001b[38;5;28;01mreturn\u001b[39;00m np\u001b[38;5;241m.\u001b[39mr_[\u001b[38;5;241;43m2\u001b[39;49m\u001b[38;5;241;43m*\u001b[39;49m\u001b[43mnp\u001b[49m\u001b[38;5;241;43m.\u001b[39;49m\u001b[43mnonzero\u001b[49m\u001b[43m(\u001b[49m\u001b[43msieve\u001b[49m\u001b[43m)\u001b[49m\u001b[43m[\u001b[49m\u001b[38;5;241;43m0\u001b[39;49m\u001b[43m]\u001b[49m\u001b[43m[\u001b[49m\u001b[38;5;241;43m1\u001b[39;49m\u001b[43m:\u001b[49m\u001b[43m:\u001b[49m\u001b[43m]\u001b[49m\u001b[38;5;241m+\u001b[39m\u001b[38;5;241m1\u001b[39m]\n",
      "\u001b[1;31mMemoryError\u001b[0m: Unable to allocate 3.39 GiB for an array with shape (455052510,) and data type int64"
     ]
    }
   ],
   "source": [
    "import numpy as np\n",
    "\n",
    "def primes_up_to(n):\n",
    "    sieve = np.ones(n//2, dtype=bool)\n",
    "    for i in range(3, int(n**0.5)+1, 2):\n",
    "        if sieve[i//2]:\n",
    "            sieve[i*i//2::i] = False\n",
    "    return np.r_[2*np.nonzero(sieve)[0][1::]+1]\n",
    "\n",
    "# Example usage:\n",
    "primes = primes_up_to(10000000000)\n"
   ]
  },
  {
   "cell_type": "code",
   "execution_count": 16,
   "metadata": {},
   "outputs": [],
   "source": [
    "import numpy as np\n",
    "\n",
    "def closest_multiple_of_4(primes):\n",
    "    # Convert the primes array to a NumPy array if it's not already one\n",
    "    primes_np = np.array(primes)\n",
    "    # Find the remainder when dividing by 4\n",
    "    remainders = primes_np % 4\n",
    "    # Subtract remainder from prime to get the lower multiple of 4\n",
    "    lower_multiples = primes_np - remainders\n",
    "    # Add 4 where the remainder is greater than 2 to get the upper multiple of 4\n",
    "    upper_multiples = lower_multiples + (remainders > 2) * 4\n",
    "    # Choose the closest multiple\n",
    "    closest_multiples = np.where(remainders <= 2, lower_multiples, upper_multiples)\n",
    "    return closest_multiples\n",
    "\n",
    "\n",
    "closest_multiples = closest_multiple_of_4(primes)\n",
    "\n"
   ]
  },
  {
   "cell_type": "code",
   "execution_count": 17,
   "metadata": {},
   "outputs": [
    {
     "data": {
      "text/plain": [
       "3.141600949349513"
      ]
     },
     "execution_count": 17,
     "metadata": {},
     "output_type": "execute_result"
    }
   ],
   "source": [
    "import numpy as np\n",
    "\n",
    "# Assuming 'primes' and 'closest_multiples' are NumPy arrays of the same size\n",
    "division_results = primes / closest_multiples\n",
    "\n",
    "np.prod(division_results) * 4\n",
    "\n"
   ]
  }
 ],
 "metadata": {
  "kernelspec": {
   "display_name": "Python 3",
   "language": "python",
   "name": "python3"
  },
  "language_info": {
   "codemirror_mode": {
    "name": "ipython",
    "version": 3
   },
   "file_extension": ".py",
   "mimetype": "text/x-python",
   "name": "python",
   "nbconvert_exporter": "python",
   "pygments_lexer": "ipython3",
   "version": "3.12.2"
  }
 },
 "nbformat": 4,
 "nbformat_minor": 2
}
