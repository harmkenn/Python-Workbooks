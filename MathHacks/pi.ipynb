{
 "cells": [
  {
   "cell_type": "code",
   "execution_count": 1,
   "metadata": {},
   "outputs": [],
   "source": [
    "def sieve_of_eratosthenes(limit):\n",
    "    if limit < 2:\n",
    "        return []\n",
    "\n",
    "    # Initialize the primality list\n",
    "    is_prime = [True] * (limit + 1)\n",
    "    is_prime[0] = is_prime[1] = False\n",
    "\n",
    "    # Implement the Sieve of Eratosthenes\n",
    "    for base in range(2, int(limit**0.5) + 1):\n",
    "        if is_prime[base]:\n",
    "            for multiple in range(base*base, limit + 1, base):\n",
    "                is_prime[multiple] = False\n",
    "\n",
    "    # Extract the list of primes\n",
    "    primes = [number for number, prime in enumerate(is_prime) if prime]\n",
    "    return primes\n",
    "\n",
    "primes_up_to_1000 = sieve_of_eratosthenes(100000000)"
   ]
  },
  {
   "cell_type": "code",
   "execution_count": 2,
   "metadata": {},
   "outputs": [],
   "source": [
    "import numpy as np\n",
    "\n",
    "def primes_up_to(n):\n",
    "    sieve = np.ones(n//2, dtype=bool)\n",
    "    for i in range(3, int(n**0.5)+1, 2):\n",
    "        if sieve[i//2]:\n",
    "            sieve[i*i//2::i] = False\n",
    "    return np.r_[2*np.nonzero(sieve)[0][1::]+1]\n",
    "\n",
    "# Example usage:\n",
    "primes = primes_up_to(10000000000)\n"
   ]
  },
  {
   "cell_type": "code",
   "execution_count": 3,
   "metadata": {},
   "outputs": [],
   "source": [
    "import numpy as np\n",
    "\n",
    "def closest_multiple_of_4(primes):\n",
    "    # Convert the primes array to a NumPy array if it's not already one\n",
    "    primes_np = np.array(primes)\n",
    "    # Find the remainder when dividing by 4\n",
    "    remainders = primes_np % 4\n",
    "    # Subtract remainder from prime to get the lower multiple of 4\n",
    "    lower_multiples = primes_np - remainders\n",
    "    # Add 4 where the remainder is greater than 2 to get the upper multiple of 4\n",
    "    upper_multiples = lower_multiples + (remainders > 2) * 4\n",
    "    # Choose the closest multiple\n",
    "    closest_multiples = np.where(remainders <= 2, lower_multiples, upper_multiples)\n",
    "    return closest_multiples\n",
    "\n",
    "\n",
    "closest_multiples = closest_multiple_of_4(primes)\n",
    "\n"
   ]
  },
  {
   "cell_type": "code",
   "execution_count": 4,
   "metadata": {},
   "outputs": [
    {
     "data": {
      "text/plain": [
       "3.141593589822889"
      ]
     },
     "execution_count": 4,
     "metadata": {},
     "output_type": "execute_result"
    }
   ],
   "source": [
    "import numpy as np\n",
    "\n",
    "# Assuming 'primes' and 'closest_multiples' are NumPy arrays of the same size\n",
    "division_results = primes / closest_multiples\n",
    "\n",
    "np.prod(division_results) * 4\n",
    "\n"
   ]
  }
 ],
 "metadata": {
  "kernelspec": {
   "display_name": "Python 3",
   "language": "python",
   "name": "python3"
  },
  "language_info": {
   "codemirror_mode": {
    "name": "ipython",
    "version": 3
   },
   "file_extension": ".py",
   "mimetype": "text/x-python",
   "name": "python",
   "nbconvert_exporter": "python",
   "pygments_lexer": "ipython3",
   "version": "3.12.2"
  }
 },
 "nbformat": 4,
 "nbformat_minor": 2
}
