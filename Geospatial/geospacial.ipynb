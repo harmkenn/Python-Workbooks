{
 "cells": [
  {
   "cell_type": "markdown",
   "metadata": {},
   "source": [
    "https://www.youtube.com/watch?v=_KhrbtFVlWg\n",
    "Plotting Geospatial data with Python - Folium"
   ]
  },
  {
   "cell_type": "code",
   "execution_count": null,
   "metadata": {},
   "outputs": [],
   "source": [
    "import folium"
   ]
  },
  {
   "cell_type": "code",
   "execution_count": null,
   "metadata": {},
   "outputs": [],
   "source": [
    "map = folium.Map(location = [0,20])\n",
    "map"
   ]
  },
  {
   "cell_type": "code",
   "execution_count": null,
   "metadata": {},
   "outputs": [],
   "source": [
    "map = folium.Map(location = [0,20], zoom_start=4)\n",
    "map"
   ]
  },
  {
   "cell_type": "code",
   "execution_count": null,
   "metadata": {},
   "outputs": [],
   "source": [
    "folium.Marker([1,19])"
   ]
  },
  {
   "cell_type": "markdown",
   "metadata": {},
   "source": [
    "https://realpython.com/lessons/python-folium-web-maps-from-data-overview/\n",
    "Creating Web Maps From Your Data With Python Folium (Overview)"
   ]
  },
  {
   "cell_type": "markdown",
   "metadata": {},
   "source": [
    "https://python-graph-gallery.com/292-choropleth-map-with-folium/\n",
    "Choropleth map with Python and Folium"
   ]
  },
  {
   "cell_type": "code",
   "execution_count": null,
   "metadata": {},
   "outputs": [],
   "source": [
    "# import the folium library\n",
    "import folium\n",
    "\n",
    "# initialize the map and store it in a m object\n",
    "m = folium.Map(location=[40, -95], zoom_start=4)\n",
    "\n",
    "# show the map\n",
    "m"
   ]
  },
  {
   "cell_type": "code",
   "execution_count": null,
   "metadata": {},
   "outputs": [],
   "source": [
    "import pandas as pd\n",
    "\n",
    "url = (\n",
    "    \"https://raw.githubusercontent.com/python-visualization/folium/main/examples/data\"\n",
    ")\n",
    "state_geo = f\"{url}/us-states.json\"\n",
    "state_unemployment = f\"{url}/US_Unemployment_Oct2012.csv\"\n",
    "state_data = pd.read_csv(state_unemployment)"
   ]
  },
  {
   "cell_type": "code",
   "execution_count": null,
   "metadata": {},
   "outputs": [],
   "source": [
    "folium.Choropleth(\n",
    "    geo_data=state_geo,\n",
    "    name=\"choropleth\",\n",
    "    data=state_data,\n",
    "    columns=[\"State\", \"Unemployment\"],\n",
    "    key_on=\"feature.id\",\n",
    "    fill_color=\"YlGn\",\n",
    "    fill_opacity=0.7,\n",
    "    line_opacity=.1,\n",
    "    legend_name=\"Unemployment Rate (%)\",\n",
    ").add_to(m)\n",
    "\n",
    "folium.LayerControl().add_to(m)\n",
    "\n",
    "m"
   ]
  },
  {
   "cell_type": "code",
   "execution_count": null,
   "metadata": {},
   "outputs": [],
   "source": [
    "m.save('292-choropleth-map-with-folium.html')"
   ]
  },
  {
   "cell_type": "markdown",
   "metadata": {},
   "source": [
    "https://towardsdatascience.com/creating-choropleth-maps-with-pythons-folium-library-cfacfb40f56a\n"
   ]
  },
  {
   "cell_type": "code",
   "execution_count": null,
   "metadata": {},
   "outputs": [],
   "source": []
  },
  {
   "cell_type": "code",
   "execution_count": null,
   "metadata": {},
   "outputs": [],
   "source": [
    "# import the folium library\n",
    "import folium\n",
    "\n",
    "# initialize the map and store it in a m object\n",
    "m = folium.Map(location=[0, 20], zoom_start=4)\n",
    "\n",
    "# show the map\n",
    "m"
   ]
  },
  {
   "cell_type": "code",
   "execution_count": null,
   "metadata": {},
   "outputs": [],
   "source": [
    "africa_co = 'ne_50m_admin_0_countries.json'\n",
    "folium.Choropleth(\n",
    "    geo_data=africa_co,\n",
    "    name=\"choropleth\"\n",
    ").add_to(m)\n",
    "\n",
    "folium.LayerControl().add_to(m)\n",
    "\n",
    "m"
   ]
  },
  {
   "cell_type": "code",
   "execution_count": null,
   "metadata": {},
   "outputs": [],
   "source": [
    "import folium\n",
    "import pandas as pd\n",
    "\n",
    "# Load the GeoJSON file\n",
    "geojson_file = 'world_population.geojson'  # Replace with your GeoJSON file path\n",
    "geojson_data = pd.read_json(geojson_file)\n",
    "\n",
    "# Create a Folium Map centered at a specific location\n",
    "m = folium.Map(location=[0, 0], zoom_start=2)\n",
    "\n",
    "# Add a choropleth layer to the map\n",
    "folium.Choropleth(\n",
    "    geo_data=geojson_data,\n",
    "    data=geojson_data,\n",
    "    columns=['Country', 'Population'],  # Replace with your data column names\n",
    "    key_on='feature.properties.name',  # Replace with the GeoJSON property path\n",
    "    fill_color='YlGn',  # Color scale (you can choose different colors)\n",
    "    fill_opacity=0.7,\n",
    "    line_opacity=0.2,\n",
    "    legend_name='Population',\n",
    ").add_to(m)\n",
    "\n",
    "# Display the map\n",
    "m.save('population_choropleth_map.html')  # Save the map to an HTML file\n"
   ]
  },
  {
   "cell_type": "code",
   "execution_count": null,
   "metadata": {},
   "outputs": [],
   "source": [
    "import geopandas as gpd\n",
    "import pandas as pd\n",
    "\n",
    "# Load the GeoJSON file with country boundaries\n",
    "world_geojson = gpd.read_file('world_country_borders.geojson')  # Replace with your file path\n",
    "\n",
    "# Load the population data (CSV or Excel file)\n",
    "population_data = pd.read_csv('Country_pop.csv')  # Replace with your data file path\n",
    "\n",
    "# Merge the GeoJSON and population data based on a common identifier (e.g., ISO country code)\n",
    "merged_data = world_geojson.merge(population_data, left_on='iso_a3', right_on='Country Code', how='left')\n",
    "\n",
    "# Save the merged data as a new GeoJSON file\n",
    "merged_data.to_file('world_population.geojson', driver='GeoJSON')\n"
   ]
  },
  {
   "cell_type": "code",
   "execution_count": null,
   "metadata": {},
   "outputs": [],
   "source": [
    "import folium\n",
    "\n",
    "# Create a Folium Map centered at a specific location\n",
    "m = folium.Map(location=[0, 0], zoom_start=2)\n",
    "\n",
    "# Add the GeoJSON data to the map\n",
    "folium.GeoJson(\n",
    "    'world_population.geojson',  # Replace with the path to your GeoJSON file\n",
    "    name='geojson'\n",
    ").add_to(m)\n",
    "\n",
    "# Display the map\n",
    "m.save('population_choropleth_map.html')  # Save the map to an HTML file\n",
    "m"
   ]
  },
  {
   "cell_type": "code",
   "execution_count": null,
   "metadata": {},
   "outputs": [],
   "source": [
    "import folium\n",
    "import pandas as pd\n",
    "\n",
    "# Load GeoJSON data\n",
    "geojson_file = 'world_population.geojson'  # Replace with your GeoJSON file path\n",
    "\n",
    "# Load population data from a CSV file\n",
    "population_data = pd.read_csv('Country_pop.csv')  # Replace with your data file path\n",
    "\n",
    "# Create a Folium Map centered at a specific location\n",
    "m = folium.Map(location=[0, 0], zoom_start=2)\n",
    "\n",
    "# Create a choropleth map layer\n",
    "folium.Choropleth(\n",
    "    geo_data=geojson_file,\n",
    "    name='choropleth',\n",
    "    data=population_data,\n",
    "    columns=['Country Code', '2022'],  # Replace with your data column names\n",
    "    key_on='feature.properties.iso_a3',  # Replace with the GeoJSON property path\n",
    "    fill_color='YlGn',  # Color scale (you can choose different colors)\n",
    "    fill_opacity=0.7,\n",
    "    line_opacity=0.2,\n",
    "    legend_name='Population',\n",
    ").add_to(m)\n",
    "\n",
    "# Add a Layer Control to toggle between layers\n",
    "folium.LayerControl().add_to(m)\n",
    "\n",
    "# Display the map\n",
    "m.save('population_choropleth_map.html')  # Save the map to an HTML file\n",
    "m\n"
   ]
  },
  {
   "cell_type": "code",
   "execution_count": null,
   "metadata": {},
   "outputs": [],
   "source": [
    "import folium\n",
    "import pandas as pd\n",
    "import numpy as np  # Import numpy for logarithmic transformation\n",
    "\n",
    "# Load GeoJSON data\n",
    "geojson_file = 'world_population.geojson'  # Replace with your GeoJSON file path\n",
    "\n",
    "# Load population data from a CSV file\n",
    "population_data = pd.read_csv('Country_pop.csv')  # Replace with your data file path\n",
    "\n",
    "# Apply logarithmic transformation to the population data\n",
    "population_data['Log_Population'] = np.log1p(population_data['2022'])\n",
    "\n",
    "# Create a Folium Map centered at a specific location\n",
    "m = folium.Map(location=[0, 0], zoom_start=2)\n",
    "\n",
    "# Create a choropleth map layer with log-transformed data\n",
    "folium.Choropleth(\n",
    "    geo_data=geojson_file,\n",
    "    name='choropleth',\n",
    "    data=population_data,\n",
    "    columns=['Country Code', 'Log_Population'],  # Use the log-transformed column\n",
    "    key_on='feature.properties.iso_a3',  # Replace with the GeoJSON property path\n",
    "    fill_color='YlGn',  # Color scale (you can choose different colors)\n",
    "    fill_opacity=0.7,\n",
    "    line_opacity=0.2,\n",
    "    legend_name='Log Population',  # Update the legend name\n",
    "    highlight=True,  # Enable highlighting of features\n",
    "    bins=6,  # Number of color bins\n",
    "    reset=True  # Reset the map when other layers are added\n",
    ").add_to(m)\n",
    "\n",
    "# Add a Layer Control to toggle between layers\n",
    "folium.LayerControl().add_to(m)\n",
    "\n",
    "# Add popups to display additional information for each country\n",
    "for index, row in population_data.iterrows():\n",
    "    country_name = row['Country Name']\n",
    "    population = row['2022']\n",
    "    log_population = row['Log_Population']\n",
    "    popup_text = f\"Country: {country_name}<br>Population: {population:,}<br>Log Population: {log_population:.2f}\"\n",
    "    \n",
    "    folium.Popup(popup_text).add_to(choropleth.geojson)\n",
    "\n",
    "# Add a Layer Control to toggle between layers\n",
    "folium.LayerControl().add_to(m)\n",
    "\n",
    "# Display the map\n",
    "m.save('log_population_choropleth_map.html')  # Save the map to an HTML file\n",
    "m"
   ]
  },
  {
   "cell_type": "code",
   "execution_count": null,
   "metadata": {},
   "outputs": [],
   "source": [
    "import folium\n",
    "import pandas as pd\n",
    "import numpy as np\n",
    "\n",
    "# Load GeoJSON data\n",
    "geojson_file = 'world_population.geojson'  # Replace with your GeoJSON file path\n",
    "\n",
    "# Load population data from a CSV file\n",
    "population_data = pd.read_csv('Country_pop.csv')  # Replace with your data file path\n",
    "\n",
    "# Apply logarithmic transformation to the population data\n",
    "population_data['Log_Population'] = np.log1p(population_data['2022'])\n",
    "\n",
    "# Create a Folium Map centered at a specific location\n",
    "m = folium.Map(location=[0, 0], zoom_start=2)\n",
    "\n",
    "# Create a choropleth map layer with log-transformed data and custom popups\n",
    "choropleth = folium.Choropleth(\n",
    "    geo_data=geojson_file,\n",
    "    name='choropleth',\n",
    "    data=population_data,\n",
    "    columns=['Country Code', 'Log_Population'],\n",
    "    key_on='feature.properties.iso_a3',\n",
    "    fill_color='YlGn',\n",
    "    fill_opacity=0.7,\n",
    "    line_opacity=0.2,\n",
    "    legend_name='Log Population',\n",
    "    highlight=True,\n",
    "    bins=6,\n",
    "    reset=True\n",
    ").add_to(m)\n",
    "\n",
    "# Add popups to display additional information for each country\n",
    "for index, row in population_data.iterrows():\n",
    "    country_name = row['Country Name']\n",
    "    population = row['2022']\n",
    "    log_population = row['Log_Population']\n",
    "    popup_text = f\"Country: {country_name}<br>Population: {population:,}<br>Log Population: {log_population:.2f}\"\n",
    "    \n",
    "    folium.Popup(popup_text).add_to(choropleth.geojson)\n",
    "\n",
    "# Add a Layer Control to toggle between layers\n",
    "folium.LayerControl().add_to(m)\n",
    "\n",
    "# Display the map\n",
    "m.save('population_choropleth_map_with_popups.html')\n",
    "m"
   ]
  },
  {
   "cell_type": "code",
   "execution_count": null,
   "metadata": {},
   "outputs": [],
   "source": [
    "import folium\n",
    "import pandas as pd\n",
    "import numpy as np\n",
    "\n",
    "# Load GeoJSON data\n",
    "geojson_file = 'world_population.geojson'  # Replace with your GeoJSON file path\n",
    "\n",
    "# Load population data from a CSV file\n",
    "population_data = pd.read_csv('population_data.csv')  # Replace with your data file path\n",
    "\n",
    "# Apply logarithmic transformation to the population data\n",
    "population_data['Log_Population'] = np.log1p(population_data['Population'])\n",
    "\n",
    "# Create a Folium Map centered at a specific location\n",
    "m = folium.Map(location=[0, 0], zoom_start=2)\n",
    "\n",
    "# Create a choropleth map layer with log-transformed data and custom popups\n",
    "choropleth = folium.Choropleth(\n",
    "    geo_data=geojson_file,\n",
    "    name='choropleth',\n",
    "    data=population_data,\n",
    "    columns=['Country_Code', 'Log_Population'],\n",
    "    key_on='feature.properties.iso_a3',\n",
    "    fill_color='YlGn',\n",
    "    fill_opacity=0.7,\n",
    "    line_opacity=0.2,\n",
    "    legend_name='Log Population',\n",
    "    highlight=True,\n",
    "    bins=6,\n",
    "    reset=True\n",
    ").add_to(m)\n",
    "\n",
    "# Add popups to display additional information for each country\n",
    "for index, row in population_data.iterrows():\n",
    "    country_name = row['Country_Name']\n",
    "    population = row['Population']\n",
    "    log_population = row['Log_Population']\n",
    "    popup_text = f\"Country: {country_name}<br>Population: {population:,}<br>Log Population: {log_population:.2f}\"\n",
    "    \n",
    "    folium.Popup(popup_text).add_to(choropleth.geojson)\n",
    "\n",
    "# Add a Layer Control to toggle between layers\n",
    "folium.LayerControl().add_to(m)\n",
    "\n",
    "# Save the map as an HTML file\n",
    "m.save('population_choropleth_map_with_popups.html')\n",
    "\n",
    "# Display a message indicating the HTML file location\n",
    "print(\"Choropleth map with popups saved as 'population_choropleth_map_with_popups.html'\")\n",
    "m\n"
   ]
  }
 ],
 "metadata": {
  "kernelspec": {
   "display_name": "Python 3",
   "language": "python",
   "name": "python3"
  },
  "language_info": {
   "codemirror_mode": {
    "name": "ipython",
    "version": 3
   },
   "file_extension": ".py",
   "mimetype": "text/x-python",
   "name": "python",
   "nbconvert_exporter": "python",
   "pygments_lexer": "ipython3",
   "version": "3.11.4"
  },
  "orig_nbformat": 4
 },
 "nbformat": 4,
 "nbformat_minor": 2
}
