{
 "cells": [
  {
   "cell_type": "code",
   "execution_count": 1,
   "metadata": {},
   "outputs": [
    {
     "ename": "ModuleNotFoundError",
     "evalue": "No module named 'geopandas'",
     "output_type": "error",
     "traceback": [
      "\u001b[1;31m---------------------------------------------------------------------------\u001b[0m",
      "\u001b[1;31mModuleNotFoundError\u001b[0m                       Traceback (most recent call last)",
      "\u001b[1;32md:\\Github\\Python-Workbooks\\Geospatial\\geospatial04.ipynb Cell 1\u001b[0m line \u001b[0;36m1\n\u001b[1;32m----> <a href='vscode-notebook-cell:/d%3A/Github/Python-Workbooks/Geospatial/geospatial04.ipynb#W0sZmlsZQ%3D%3D?line=0'>1</a>\u001b[0m \u001b[39mimport\u001b[39;00m \u001b[39mgeopandas\u001b[39;00m \u001b[39mas\u001b[39;00m \u001b[39mgpd\u001b[39;00m\n\u001b[0;32m      <a href='vscode-notebook-cell:/d%3A/Github/Python-Workbooks/Geospatial/geospatial04.ipynb#W0sZmlsZQ%3D%3D?line=1'>2</a>\u001b[0m \u001b[39mimport\u001b[39;00m \u001b[39mpandas\u001b[39;00m \u001b[39mas\u001b[39;00m \u001b[39mpd\u001b[39;00m\n\u001b[0;32m      <a href='vscode-notebook-cell:/d%3A/Github/Python-Workbooks/Geospatial/geospatial04.ipynb#W0sZmlsZQ%3D%3D?line=2'>3</a>\u001b[0m \u001b[39mimport\u001b[39;00m \u001b[39mnumpy\u001b[39;00m \u001b[39mas\u001b[39;00m \u001b[39mnp\u001b[39;00m\n",
      "\u001b[1;31mModuleNotFoundError\u001b[0m: No module named 'geopandas'"
     ]
    }
   ],
   "source": [
    "import geopandas as gpd\n",
    "import pandas as pd\n",
    "import numpy as np\n",
    "import folium\n",
    "\n",
    "# Load the GeoJSON file with country boundaries\n",
    "world_geojson = gpd.read_file('world_country_borders.geojson')  # Replace with your file path\n",
    "\n",
    "# Load the population data (CSV or Excel file)\n",
    "CountryData = pd.read_csv('CountryData.csv')  # Replace with your data file path\n",
    "\n",
    "# Apply logarithmic transformation to the population data\n",
    "CountryData['Log_Pop'] = np.log1p(CountryData['Pop 2022'])\n",
    "\n",
    "#New Data\n",
    "CountryData['pop/km'] = CountryData['Pop 2022']/CountryData['Area SQKM']\n",
    "CountryData['log_pop/km'] = np.log1p(CountryData['pop/km'])\n",
    "\n",
    "# Merge the GeoJSON and population data based on a common identifier (e.g., ISO country code)\n",
    "merged_data = world_geojson.merge(CountryData, left_on='iso_a3', right_on='Country_Code', how='left')\n",
    "\n",
    "# Filter down to Africa\n",
    "merged_data = merged_data[merged_data['Cont']=='AF']\n",
    "\n",
    "# Save the merged data as a new GeoJSON file\n",
    "merged_data.to_file('world_population.geojson', driver='GeoJSON')\n",
    "\n",
    "\n",
    "# Load GeoJSON data\n",
    "geojson_file = 'world_population.geojson'  # Replace with your GeoJSON file path\n",
    "\n",
    "# Create a Folium Map centered at a specific location\n",
    "m = folium.Map(location=[0, 20], zoom_start=4)\n",
    "\n",
    "# Create a choropleth map layer\n",
    "folium.Choropleth(\n",
    "    geo_data=geojson_file,\n",
    "    name='choropleth',\n",
    "    data=CountryData,\n",
    "    columns=['Country_Code', 'log_pop/km'],  # Replace with your data column names\n",
    "    key_on='feature.properties.iso_a3',  # Replace with the GeoJSON property path\n",
    "    fill_color='YlGn',  # Color scale (you can choose different colors)\n",
    "    fill_opacity=0.7,\n",
    "    line_opacity=0.2,\n",
    "    legend_name='Log Pop / km',\n",
    ").add_to(m)\n",
    "\n",
    "folium.features.GeoJson('world_population.geojson', name=\"Population\", popup=folium.features.GeoJsonPopup(fields=['country','Log_Pop','Pop 2022','Area SQKM','pop/km'])).add_to(m)\n",
    "\n",
    "# Add a Layer Control to toggle between layers\n",
    "folium.LayerControl().add_to(m)\n",
    "\n",
    "# Display the map\n",
    "m.save('population_choropleth_map.html')  # Save the map to an HTML file\n",
    "m "
   ]
  }
 ],
 "metadata": {
  "kernelspec": {
   "display_name": "Python 3",
   "language": "python",
   "name": "python3"
  },
  "language_info": {
   "codemirror_mode": {
    "name": "ipython",
    "version": 3
   },
   "file_extension": ".py",
   "mimetype": "text/x-python",
   "name": "python",
   "nbconvert_exporter": "python",
   "pygments_lexer": "ipython3",
   "version": "3.12.0"
  },
  "orig_nbformat": 4
 },
 "nbformat": 4,
 "nbformat_minor": 2
}
