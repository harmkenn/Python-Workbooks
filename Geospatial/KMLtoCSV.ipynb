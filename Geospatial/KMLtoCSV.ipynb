{
 "cells": [
  {
   "cell_type": "code",
   "execution_count": null,
   "metadata": {},
   "outputs": [],
   "source": [
    "import geopandas as gpd"
   ]
  },
  {
   "cell_type": "code",
   "execution_count": null,
   "metadata": {},
   "outputs": [],
   "source": [
    "gdf = gpd.read_file(\"Untitled.kml\")"
   ]
  },
  {
   "cell_type": "code",
   "execution_count": null,
   "metadata": {},
   "outputs": [],
   "source": [
    "import pykml\n",
    "import csv\n",
    "\n",
    "# Read the KML file into a PyKML object\n",
    "kml_obj = pykml.\n",
    "kml_obj.parse_file(\"Untitled.kml\")\n",
    "\n",
    "# Get a list of all the placemarks in the KML file\n",
    "placemarks = kml_obj.get_placemarks()\n",
    "\n",
    "# Create a CSV file object\n",
    "csv_file = open(\"csv_file.csv\", \"w\")\n",
    "csv_writer = csv.writer(csv_file)\n",
    "\n",
    "# Write the header row to the CSV file\n",
    "csv_writer.writerow([\"name\", \"description\", \"longitude\", \"latitude\"])\n",
    "\n",
    "# Iterate over the placemarks and write each placemark to the CSV file\n",
    "for placemark in placemarks:\n",
    "    csv_writer.writerow([placemark.name, placemark.description, placemark.longitude, placemark.latitude])\n",
    "\n",
    "# Close the CSV file\n",
    "csv_file.close()"
   ]
  },
  {
   "cell_type": "code",
   "execution_count": 8,
   "metadata": {},
   "outputs": [
    {
     "name": "stdout",
     "output_type": "stream",
     "text": [
      "KML data converted to CSV and saved as output.csv\n"
     ]
    }
   ],
   "source": [
    "import xml.etree.ElementTree as ET\n",
    "import csv\n",
    "\n",
    "# Function to extract coordinates from KML\n",
    "def extract_coordinates(kml_file):\n",
    "    tree = ET.parse(kml_file)\n",
    "    root = tree.getroot()\n",
    "    coordinates = []\n",
    "\n",
    "    for placemark in root.findall('.//Placemark'):\n",
    "        name = placemark.find('name').text if placemark.find('name') is not None else ''\n",
    "        coordinates_str = placemark.find('.//coordinates').text if placemark.find('.//coordinates') is not None else ''\n",
    "        coordinates_list = coordinates_str.strip().split(',')\n",
    "        for coords in coordinates_list:\n",
    "            coord_parts = coords.strip().split(',')\n",
    "            if len(coord_parts) >= 2:\n",
    "                coordinates.append([name] + coord_parts[:2])\n",
    "\n",
    "    return coordinates\n",
    "\n",
    "# Function to write coordinates to a CSV file\n",
    "def write_to_csv(coordinates, output_csv):\n",
    "    with open(output_csv, 'w', newline='') as csv_file:\n",
    "        writer = csv.writer(csv_file)\n",
    "        writer.writerow(['Name', 'Latitude', 'Longitude'])\n",
    "\n",
    "        for coord in coordinates:\n",
    "            writer.writerow(coord)\n",
    "\n",
    "if __name__ == '__main__':\n",
    "    kml_file = 'Untitled.kml'\n",
    "    output_csv = 'output.csv'\n",
    "\n",
    "    coordinates = extract_coordinates(kml_file)\n",
    "    write_to_csv(coordinates, output_csv)\n",
    "\n",
    "    print(f'KML data converted to CSV and saved as {output_csv}')\n"
   ]
  }
 ],
 "metadata": {
  "kernelspec": {
   "display_name": "Python 3",
   "language": "python",
   "name": "python3"
  },
  "language_info": {
   "codemirror_mode": {
    "name": "ipython",
    "version": 3
   },
   "file_extension": ".py",
   "mimetype": "text/x-python",
   "name": "python",
   "nbconvert_exporter": "python",
   "pygments_lexer": "ipython3",
   "version": "3.10.8"
  }
 },
 "nbformat": 4,
 "nbformat_minor": 2
}
