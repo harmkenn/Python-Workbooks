{
 "cells": [
  {
   "cell_type": "code",
   "execution_count": null,
   "metadata": {},
   "outputs": [],
   "source": [
    "import geopandas as gpd"
   ]
  },
  {
   "cell_type": "code",
   "execution_count": null,
   "metadata": {},
   "outputs": [],
   "source": [
    "gdf = gpd.read_file(\"Untitled.kml\")"
   ]
  },
  {
   "cell_type": "code",
   "execution_count": 4,
   "metadata": {},
   "outputs": [
    {
     "ename": "AttributeError",
     "evalue": "module 'pykml' has no attribute 'KML'",
     "output_type": "error",
     "traceback": [
      "\u001b[0;31m---------------------------------------------------------------------------\u001b[0m",
      "\u001b[0;31mAttributeError\u001b[0m                            Traceback (most recent call last)",
      "\u001b[1;32m/workspaces/Python-Workbooks/Geospatial/KMLtoCSV.ipynb Cell 3\u001b[0m line \u001b[0;36m5\n\u001b[1;32m      <a href='vscode-notebook-cell://codespaces%2Bjubilant-robot-9qvjgggqxq92x4v/workspaces/Python-Workbooks/Geospatial/KMLtoCSV.ipynb#W3sdnNjb2RlLXJlbW90ZQ%3D%3D?line=1'>2</a>\u001b[0m \u001b[39mimport\u001b[39;00m \u001b[39mcsv\u001b[39;00m\n\u001b[1;32m      <a href='vscode-notebook-cell://codespaces%2Bjubilant-robot-9qvjgggqxq92x4v/workspaces/Python-Workbooks/Geospatial/KMLtoCSV.ipynb#W3sdnNjb2RlLXJlbW90ZQ%3D%3D?line=3'>4</a>\u001b[0m \u001b[39m# Read the KML file into a PyKML object\u001b[39;00m\n\u001b[0;32m----> <a href='vscode-notebook-cell://codespaces%2Bjubilant-robot-9qvjgggqxq92x4v/workspaces/Python-Workbooks/Geospatial/KMLtoCSV.ipynb#W3sdnNjb2RlLXJlbW90ZQ%3D%3D?line=4'>5</a>\u001b[0m kml_obj \u001b[39m=\u001b[39m pykml\u001b[39m.\u001b[39;49mKML()\n\u001b[1;32m      <a href='vscode-notebook-cell://codespaces%2Bjubilant-robot-9qvjgggqxq92x4v/workspaces/Python-Workbooks/Geospatial/KMLtoCSV.ipynb#W3sdnNjb2RlLXJlbW90ZQ%3D%3D?line=5'>6</a>\u001b[0m kml_obj\u001b[39m.\u001b[39mparse_file(\u001b[39m\"\u001b[39m\u001b[39mUntitled.kml\u001b[39m\u001b[39m\"\u001b[39m)\n\u001b[1;32m      <a href='vscode-notebook-cell://codespaces%2Bjubilant-robot-9qvjgggqxq92x4v/workspaces/Python-Workbooks/Geospatial/KMLtoCSV.ipynb#W3sdnNjb2RlLXJlbW90ZQ%3D%3D?line=7'>8</a>\u001b[0m \u001b[39m# Get a list of all the placemarks in the KML file\u001b[39;00m\n",
      "\u001b[0;31mAttributeError\u001b[0m: module 'pykml' has no attribute 'KML'"
     ]
    }
   ],
   "source": [
    "import pykml\n",
    "import csv\n",
    "\n",
    "# Read the KML file into a PyKML object\n",
    "kml_obj = pykml.\n",
    "kml_obj.parse_file(\"Untitled.kml\")\n",
    "\n",
    "# Get a list of all the placemarks in the KML file\n",
    "placemarks = kml_obj.get_placemarks()\n",
    "\n",
    "# Create a CSV file object\n",
    "csv_file = open(\"csv_file.csv\", \"w\")\n",
    "csv_writer = csv.writer(csv_file)\n",
    "\n",
    "# Write the header row to the CSV file\n",
    "csv_writer.writerow([\"name\", \"description\", \"longitude\", \"latitude\"])\n",
    "\n",
    "# Iterate over the placemarks and write each placemark to the CSV file\n",
    "for placemark in placemarks:\n",
    "    csv_writer.writerow([placemark.name, placemark.description, placemark.longitude, placemark.latitude])\n",
    "\n",
    "# Close the CSV file\n",
    "csv_file.close()"
   ]
  }
 ],
 "metadata": {
  "kernelspec": {
   "display_name": "Python 3",
   "language": "python",
   "name": "python3"
  },
  "language_info": {
   "codemirror_mode": {
    "name": "ipython",
    "version": 3
   },
   "file_extension": ".py",
   "mimetype": "text/x-python",
   "name": "python",
   "nbconvert_exporter": "python",
   "pygments_lexer": "ipython3",
   "version": "3.10.8"
  }
 },
 "nbformat": 4,
 "nbformat_minor": 2
}
